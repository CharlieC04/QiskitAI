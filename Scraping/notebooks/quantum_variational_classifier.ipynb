{
 "cells": [
  {
   "cell_type": "markdown",
   "metadata": {
    "collapsed": true
   },
   "source": [
    "# Quantum Variational Classifier\n",
    "\n",
    "This tutorial discusses how a quantum computer can be used to solve a classification task.<br>\n",
    "The example is based on the following paper:\n",
    "<br>\n",
    "<br>\n",
    "<b>Supervised learning with quantum enhanced feature spaces</b><br>\n",
    "Vojtech Havlicek, Antonio D. Corcoles, Kristan Temme, Aram W. Harrow, Abhinav  Kandala, Jerry M. Chow, and Jay  M. Gambetta<br>\n",
    "<a href=\"https://arxiv.org/abs/1804.11326\">arXiv:1804.11326 (2018)</a>"
   ]
  },
  {
   "cell_type": "code",
   "execution_count": 1,
   "metadata": {},
   "outputs": [],
   "source": [
    "from svm.datasets import *\n",
    "from qiskit.aqua.input import ClassificationInput\n",
    "from qiskit.aqua import run_algorithm\n",
    "from qiskit import QuantumRegister, ClassicalRegister, QuantumCircuit\n",
    "from qiskit import Aer, execute\n",
    "from qiskit.aqua.components.optimizers.cobyla import COBYLA\n",
    "import numpy as np\n",
    "import matplotlib.pyplot as plt\n",
    "%matplotlib inline"
   ]
  },
  {
   "cell_type": "markdown",
   "metadata": {},
   "source": [
    "## Data\n",
    "\n",
    "Before we can train the Quantum Variational Classifier, we have to load the data set that we are interested in and split it into a training and a test set.\n",
    "<br>\n",
    "Note that the ad hoc data set is constructed suitably for the purpose of illustration.\n",
    "<br>\n",
    "<br>\n",
    "<b>Exercise:</b><br>\n",
    "Feel free to train and test the classifier with the alternatively given training data set:<br>\n",
    "<a href=\"https://archive.ics.uci.edu/ml/datasets/wine\">UCI Machine Learning Repository - Wine Data Set</a><br>\n",
    "To switch between the data sets set the <b>use_adhoc_dataset</b> to True or False."
   ]
  },
  {
   "cell_type": "code",
   "execution_count": 2,
   "metadata": {},
   "outputs": [
    {
     "data": {
      "image/png": "[encoded data removed]",
      "text/plain": [
       "<Figure size 432x288 with 1 Axes>"
      ]
     },
     "metadata": {
      "needs_background": "light"
     },
     "output_type": "display_data"
    },
    {
     "data": {
      "image/png": "[encoded data removed]",
      "text/plain": [
       "<Figure size 432x288 with 1 Axes>"
      ]
     },
     "metadata": {
      "needs_background": "light"
     },
     "output_type": "display_data"
    }
   ],
   "source": [
    "# size of training data set\n",
    "training_size = 20\n",
    "\n",
    "# size of test data set\n",
    "test_size = 10\n",
    "\n",
    "# dimension of data sets\n",
    "n = 2\n",
    "\n",
    "# construct training and test data\n",
    "# set the following flag to True for the first data set and to False for the second dataset\n",
    "use_adhoc_dataset = True\n",
    "if use_adhoc_dataset:\n",
    "    # first (artifical) data set to test the classifier\n",
    "    training_input, test_input, class_labels = \\\n",
    "            ad_hoc_data(training_size=training_size, test_size=test_size, n=n, gap=0.3, plot_data=True)\n",
    "else:\n",
    "    # second data set to test the classifier\n",
    "    training_input, test_input, class_labels = \\\n",
    "            Wine(training_size=training_size, test_size=test_size, n=n, plot_data=True)\n"
   ]
  },
  {
   "cell_type": "markdown",
   "metadata": {},
   "source": [
    "## Quantum Feature Map\n",
    "\n",
    "The Quantum Feature Map $\\cal{U}_{\\Phi(\\vec{x})}$ is a quantum circuit parametrized by a classical input datapoint $\\vec{x}$.\n",
    "Thus, $\\cal{U}$ maps $\\vec{x}$ to the quantum feature space whose dimension is exponential in the number of qubits.\n",
    "In this tutorial we use the following quantum feature map:\n",
    "<img src=\"svm/feature_map.png\">\n",
    "<br>\n",
    "where\n",
    "### $$U_{\\Phi(\\vec{x})} = e^{i\\left(x_1 Z \\otimes I + x_2 I \\otimes Z + x_1x_2Z \\otimes Z \\right)}$$\n",
    "\n",
    "The classical data sample $\\vec{x}$ is loaded by applying the Quantum Feature Map onto the initial quantum state $|0{\\rangle}^{\\otimes n}$:\n",
    "### $$|\\phi(\\vec{x})\\rangle = \\cal{U}_{\\Phi(\\vec{x})}|0{\\rangle}^{\\otimes n}$$\n",
    "\n"
   ]
  },
  {
   "cell_type": "code",
   "execution_count": 3,
   "metadata": {},
   "outputs": [],
   "source": [
    "def feature_map(x, q):\n",
    "    \n",
    "    # initialize quantum circuit\n",
    "    qc = QuantumCircuit(q)\n",
    "    \n",
    "    # apply hadamards and U_Phi twice\n",
    "    for _ in range(2):\n",
    "        \n",
    "        # apply the hadamard and Z-rotatiion to all qubits\n",
    "        for i in range(x.shape[0]):\n",
    "            qc.h(q[i])\n",
    "            qc.rz(2 * x[i], q[i])\n",
    "        \n",
    "        # apply the two qubit gate\n",
    "        qc.cx(q[0], q[1])\n",
    "        qc.rz(2*(np.pi-x[0])*(np.pi-x[1]), q[1])\n",
    "        qc.cx(q[0], q[1])\n",
    "\n",
    "    # return quantum circuit\n",
    "    return qc"
   ]
  },
  {
   "cell_type": "markdown",
   "metadata": {},
   "source": [
    "We can now use a classical vector, for instance $\\begin{pmatrix} 1.5 \\\\ 0.3 \\end{pmatrix}$ to apply the quantum feature map onto the quantum state $|0{\\rangle}^{\\otimes 2}$, analyze the resulting statevector and plot the corresponding quantum circuit."
   ]
  },
  {
   "cell_type": "code",
   "execution_count": 4,
   "metadata": {},
   "outputs": [
    {
     "name": "stdout",
     "output_type": "stream",
     "text": [
      "simulation:  Result(backend_name='statevector_simulator', backend_version='0.3.0', date=datetime.datetime(2019, 8, 24, 12, 2, 46, 689335), header=Obj(backend_name='statevector_simulator', backend_version='0.3.0'), job_id='50e6e260-cb3b-4d7a-869e-285a116a64e8', metadata={'max_memory_mb': 8103, 'omp_enabled': True, 'parallel_experiments': 1, 'time_taken': 0.0002005}, qobj_id='09bfa60f-f4b7-493c-877f-39f29e53c2ed', results=[ExperimentResult(data=ExperimentResultData(statevector=[(0.049997991887651305-0.29018719299670587j), (0.023359416632460876+0.0441673605792097j), (-0.7357557507445133-0.6039081802139161j), (0.029046334407502893-0.06252896382105116j)]), header=Obj(clbit_labels=[], creg_sizes=[], memory_slots=0, n_qubits=2, name='circuit0', qreg_sizes=[['q0', 2]], qubit_labels=[['q0', 0], ['q0', 1]]), meas_level=2, metadata={'parallel_shots': 1, 'parallel_state_update': 8}, seed_simulator=3530234561, shots=1, status='DONE', success=True, time_taken=7.96e-05)], status='COMPLETED', success=True, time_taken=0.0010178089141845703)\n",
      "statevector:  [ 0.05  -0.2902j  0.0234+0.0442j -0.7358-0.6039j  0.029 -0.0625j]\n"
     ]
    }
   ],
   "source": [
    "# initialize quantum register\n",
    "num_qubits = 2\n",
    "qr = QuantumRegister(num_qubits)\n",
    "\n",
    "# initialize test data (x1, x2)\n",
    "data = np.asarray([1.5, 0.3])\n",
    "\n",
    "# get quantum circuit\n",
    "qc_feature_map = feature_map(data, qr)\n",
    "# simulate using local statevector simulator\n",
    "backend = Aer.get_backend('statevector_simulator')\n",
    "\n",
    "job_sim = execute(qc_feature_map, backend)\n",
    "sim_results = job_sim.result()\n",
    "print('simulation: ', sim_results)\n",
    "print('statevector: ', np.round(sim_results.get_statevector(), decimals=4))"
   ]
  },
  {
   "cell_type": "code",
   "execution_count": 5,
   "metadata": {},
   "outputs": [
    {
     "data": {
      "image/png": "[encoded data removed]",
      "text/plain": [
       "<Figure size 769.356x144.48 with 1 Axes>"
      ]
     },
     "execution_count": 5,
     "metadata": {},
     "output_type": "execute_result"
    }
   ],
   "source": [
    "# draw circuit\n",
    "qc_feature_map.draw(output='mpl', plot_barriers=False)"
   ]
  },
  {
   "cell_type": "markdown",
   "metadata": {},
   "source": [
    "## Variational Form\n",
    "\n",
    "The variational form is similar to an artifical neural network:\n",
    "<br>\n",
    "The quantum circuit receives input data, processes it through multiple layers of  parametrized quantum gates and is trained by adjusting the parameters (weights).\n",
    "<br>\n",
    "It should be noted that in order to optimize the parameters, the outcome of the Quantum Variational Circuit must be measured. The measurement outcome corresponds to classical bits which can be integrated in an optimization algorithm, such as gradient descent. \n",
    "<br>\n",
    "<br>\n",
    "In this tutorial we use the following Variational Form:\n",
    "<br>\n",
    "<img src=\"svm/variational_form.png\">\n",
    "<br>\n",
    "The single qubit rotations denoted by $\\theta_{i,j}$ correspond to Z-rotations and Y-rotations and the entangler block $U_{ent}$ consists of controlled-Z gates.\n",
    "Further, the parameter $d$ denotes the depth of the Variational Circuit, i.e. the number of repitions of entangler blocks and single qubit rotation layers.\n",
    "<br>\n",
    "<br>\n",
    "<b>Exercise:</b><br>\n",
    "See how the classification performance changes when you modify the types of gates used within the quantum circuit."
   ]
  },
  {
   "cell_type": "code",
   "execution_count": 6,
   "metadata": {},
   "outputs": [],
   "source": [
    "def variational_form(q, params, depth):\n",
    "    \n",
    "    # initialize quantum circuit\n",
    "    qc = QuantumCircuit(q)\n",
    "    \n",
    "    # first set of rotations\n",
    "    param_idx = 0\n",
    "    for qubit in range(2):\n",
    "        qc.ry(params[param_idx], q[qubit])\n",
    "        qc.rz(params[param_idx+1], q[qubit])\n",
    "        param_idx += 2\n",
    "\n",
    "    # entangler blocks and succeeding rotations\n",
    "    for block in range(depth):\n",
    "        qc.cz(q[0], q[1])\n",
    "        for qubit in range(2):\n",
    "            qc.ry(params[param_idx], q[qubit])\n",
    "            qc.rz(params[param_idx+1], q[qubit])\n",
    "            param_idx += 2\n",
    "    \n",
    "    # return quantum circuit\n",
    "    return qc"
   ]
  },
  {
   "cell_type": "code",
   "execution_count": 7,
   "metadata": {},
   "outputs": [
    {
     "name": "stdout",
     "output_type": "stream",
     "text": [
      "simulation:  Result(backend_name='statevector_simulator', backend_version='0.3.0', date=datetime.datetime(2019, 8, 24, 12, 2, 47, 238870), header=Obj(backend_name='statevector_simulator', backend_version='0.3.0'), job_id='9d817174-0488-4179-85cd-44b2ae2f7d8e', metadata={'max_memory_mb': 8103, 'omp_enabled': True, 'parallel_experiments': 1, 'time_taken': 0.0001969}, qobj_id='725cfccf-bbd5-433c-88af-6dcabb954e0b', results=[ExperimentResult(data=ExperimentResultData(statevector=[(0.716619589106532+0.04833322141870618j), (0.5354679702552034-0.37159438291186925j), (0.07245703062900394+0.22730968702723042j), (0.045470046956351914+0.018019194238159317j)]), header=Obj(clbit_labels=[], creg_sizes=[], memory_slots=0, n_qubits=2, name='circuit2', qreg_sizes=[['q1', 2]], qubit_labels=[['q1', 0], ['q1', 1]]), meas_level=2, metadata={'parallel_shots': 1, 'parallel_state_update': 8}, seed_simulator=1640106043, shots=1, status='DONE', success=True, time_taken=5.96e-05)], status='COMPLETED', success=True, time_taken=0.0030269622802734375)\n",
      "statevector:  [0.7166+0.0483j 0.5355-0.3716j 0.0725+0.2273j 0.0455+0.018j ]\n"
     ]
    },
    {
     "data": {
      "image/png": "[encoded data removed]",
      "text/plain": [
       "<Figure size 648.956x144.48 with 1 Axes>"
      ]
     },
     "execution_count": 7,
     "metadata": {},
     "output_type": "execute_result"
    }
   ],
   "source": [
    "# initialize quantum register\n",
    "num_qubits = 2\n",
    "qr = QuantumRegister(num_qubits)\n",
    "\n",
    "# set depth, i.e. number of entangler blocks and rotations (after the initial rotation)\n",
    "depth = 2\n",
    "params = [0.5,-0.3, 0.2, 0.6]*(depth+1)\n",
    "qc_variational_form = variational_form(qr, params, depth)\n",
    "\n",
    "# simulate using local statevector simulator\n",
    "job_sim = execute(qc_variational_form, backend)\n",
    "sim_results = job_sim.result()\n",
    "print('simulation: ', sim_results)\n",
    "print('statevector: ', np.round(sim_results.get_statevector(), decimals=4))\n",
    "\n",
    "# draw circuit\n",
    "qc_variational_form.draw(output='mpl', plot_barriers=False)"
   ]
  },
  {
   "cell_type": "markdown",
   "metadata": {},
   "source": [
    "# The Quantum Variational Classifier\n",
    "\n",
    "Before we can combine the previously introduced components to the quantum variational classifier, we need to introduce some more helper functions."
   ]
  },
  {
   "cell_type": "markdown",
   "metadata": {},
   "source": [
    "#### 1.  Assign a label to the measurement outcome \n",
    "We use the parity function to assign a class label to the measurement outcomes which are given as bit strings. In explicit, a measurement consisting of an even number of '1's is mapped to the first class, and a measurement outcome consisting of an odd number of '1's is mapped to the second class."
   ]
  },
  {
   "cell_type": "code",
   "execution_count": 8,
   "metadata": {},
   "outputs": [],
   "source": [
    "def assign_label(bit_string, class_labels):\n",
    "    hamming_weight = sum([int(k) for k in list(bit_string)])\n",
    "    is_odd_parity = hamming_weight & 1\n",
    "    if is_odd_parity:\n",
    "        return class_labels[1]\n",
    "    else:\n",
    "        return class_labels[0]"
   ]
  },
  {
   "cell_type": "code",
   "execution_count": 9,
   "metadata": {},
   "outputs": [
    {
     "data": {
      "text/plain": [
       "'B'"
      ]
     },
     "execution_count": 9,
     "metadata": {},
     "output_type": "execute_result"
    }
   ],
   "source": [
    "# assigns a label \n",
    "assign_label('01', class_labels)"
   ]
  },
  {
   "cell_type": "markdown",
   "metadata": {},
   "source": [
    "#### 2. Map the counts of multiple shots to probabilities for the classes\n",
    "After running the same circuit many times, we derive the empirical probabilities of assigning the first or second class.\n"
   ]
  },
  {
   "cell_type": "code",
   "execution_count": 10,
   "metadata": {},
   "outputs": [],
   "source": [
    "def return_probabilities(counts, class_labels):\n",
    "    shots = sum(counts.values())\n",
    "    result = {class_labels[0]: 0, \n",
    "              class_labels[1]: 0}\n",
    "    for key, item in counts.items():\n",
    "        label = assign_label(key, class_labels)\n",
    "        result[label] += counts[key]/shots\n",
    "    return result"
   ]
  },
  {
   "cell_type": "code",
   "execution_count": 11,
   "metadata": {},
   "outputs": [
    {
     "data": {
      "text/plain": [
       "{'A': 0.5, 'B': 0.5}"
      ]
     },
     "execution_count": 11,
     "metadata": {},
     "output_type": "execute_result"
    }
   ],
   "source": [
    "return_probabilities({'00' : 10, '01': 10}, class_labels)"
   ]
  },
  {
   "cell_type": "markdown",
   "metadata": {},
   "source": [
    "#### 3. Combine everything to build the classifier\n",
    "We combine the feature map, the variational circuit, and the label assignment to construct our (untrained) classifier.\n",
    "<br>\n",
    "Note that the classifier is already constructed in such a way that it is able to process a list of data points."
   ]
  },
  {
   "cell_type": "code",
   "execution_count": 12,
   "metadata": {},
   "outputs": [],
   "source": [
    "def classifier_circuit(x, params, depth):\n",
    "    \n",
    "    q = QuantumRegister(2)\n",
    "    c = ClassicalRegister(2)\n",
    "    qc = QuantumCircuit(q, c)\n",
    "\n",
    "    qc_feature_map = feature_map(x, q)\n",
    "    qc_variational_form = variational_form(q, params, depth)\n",
    "\n",
    "    qc += qc_feature_map\n",
    "    qc += qc_variational_form\n",
    "\n",
    "    qc.measure(q, c)\n",
    "    \n",
    "    return qc\n",
    "\n",
    "def classify(x_list, params, class_labels, depth=2, shots=100):\n",
    "    \n",
    "    qc_list = []\n",
    "    for x in x_list:\n",
    "        qc = classifier_circuit(x, params, depth)\n",
    "        qc_list += [qc]\n",
    "    qasm_backend = Aer.get_backend('qasm_simulator')    \n",
    "    jobs = execute(qc_list, qasm_backend, shots=shots)\n",
    "    \n",
    "    probs = []\n",
    "    for qc in qc_list:\n",
    "        counts = jobs.result().get_counts(qc)\n",
    "        prob = return_probabilities(counts, class_labels)\n",
    "        probs += [prob]\n",
    "            \n",
    "    return probs"
   ]
  },
  {
   "cell_type": "code",
   "execution_count": 13,
   "metadata": {},
   "outputs": [
    {
     "data": {
      "image/png": "[encoded data removed]",
      "text/plain": [
       "<Figure size 1371.36x204.68 with 1 Axes>"
      ]
     },
     "execution_count": 13,
     "metadata": {},
     "output_type": "execute_result"
    }
   ],
   "source": [
    "# draw classifier circuit\n",
    "qc = classifier_circuit(np.asarray([0.5, 0.5]), params, depth)\n",
    "\n",
    "\n",
    "# classify test data point (using random parameters constructed earlier)\n",
    "x = np.asarray([[0.5, 0.5]])\n",
    "classify(x, params, class_labels, depth)\n",
    "\n",
    "qc.draw(output='mpl', plot_barriers=False)"
   ]
  },
  {
   "cell_type": "markdown",
   "metadata": {},
   "source": [
    "#### 4. Assign a cost value to the estimation probabilities\n",
    "Given a training data point and the corresponding training class label, we can calculate a cost value which represents the probability of correct/false classification. \n",
    "<br>\n",
    "We only need a singificant bias towards the correct classification and, thus, use the sigmoid function to evaluate the cost value (error probability).<br>\n",
    "The function is close to zero if the probability of assigning the correct class is close to one, and close to one otherwise."
   ]
  },
  {
   "cell_type": "code",
   "execution_count": 14,
   "metadata": {},
   "outputs": [],
   "source": [
    "def cost_estimate_sigmoid(probs, expected_label):\n",
    "\n",
    "    p = probs.get(expected_label)\n",
    "    sig = None\n",
    "    if np.isclose(p, 0.0):\n",
    "        sig = 1\n",
    "    elif np.isclose(p, 1.0):\n",
    "        sig = 0\n",
    "    else:\n",
    "        denominator = np.sqrt(2*p*(1-p))\n",
    "        x = np.sqrt(200)*(0.5-p)/denominator\n",
    "        sig = 1/(1+np.exp(-x))\n",
    "\n",
    "    return sig"
   ]
  },
  {
   "cell_type": "code",
   "execution_count": 15,
   "metadata": {},
   "outputs": [
    {
     "data": {
      "image/png": "[encoded data removed]",
      "text/plain": [
       "<Figure size 432x288 with 1 Axes>"
      ]
     },
     "metadata": {
      "needs_background": "light"
     },
     "output_type": "display_data"
    }
   ],
   "source": [
    "x = np.linspace(0, 1, 20)\n",
    "y = [cost_estimate_sigmoid({'A': x_, 'B': 1-x_}, 'A') for x_ in x]\n",
    "plt.plot(x, y)\n",
    "plt.xlabel('Probability of assigning the correct class')\n",
    "plt.ylabel('Cost value')\n",
    "plt.show()"
   ]
  },
  {
   "cell_type": "markdown",
   "metadata": {},
   "source": [
    "#### 5. Evaluate the overall performance for the training set\n",
    "We compute the average cost value over all training data points and use this as the objective function to train our classifier."
   ]
  },
  {
   "cell_type": "code",
   "execution_count": 16,
   "metadata": {
    "scrolled": false
   },
   "outputs": [],
   "source": [
    "def cost_function(training_input, class_labels, params, depth=2, shots=100, print_value=False):\n",
    "    \n",
    "    # map training input to list of labels and list of samples\n",
    "    cost = 0\n",
    "    training_labels = []\n",
    "    training_samples = []\n",
    "    for label, samples in training_input.items():\n",
    "        for sample in samples:\n",
    "            training_labels += [label]\n",
    "            training_samples += [sample]\n",
    "        \n",
    "    # classify all samples\n",
    "    probs = classify(training_samples, params, class_labels, depth)\n",
    "    \n",
    "    # evaluate costs for all classified samples\n",
    "    for i, prob in enumerate(probs):\n",
    "        cost += cost_estimate_sigmoid(prob, training_labels[i])\n",
    "    cost /= len(training_samples)\n",
    "    \n",
    "    # print resulting objective function\n",
    "    if print_value:\n",
    "        print('%.4f' % cost)\n",
    "    \n",
    "    # return objective value\n",
    "    return cost"
   ]
  },
  {
   "cell_type": "code",
   "execution_count": 17,
   "metadata": {},
   "outputs": [
    {
     "data": {
      "text/plain": [
       "0.5174701439112291"
      ]
     },
     "execution_count": 17,
     "metadata": {},
     "output_type": "execute_result"
    }
   ],
   "source": [
    "cost_function(training_input, class_labels, params, depth)"
   ]
  },
  {
   "cell_type": "markdown",
   "metadata": {},
   "source": [
    "## Train the classifier\n",
    "\n",
    "Training the classifier corresponds to an optimization task. Explicitly, we want to minimize the cost value (sigmoid function) such that the classifier manages to properly label the given data.\n",
    "<br>\n",
    "<br>\n",
    "<b>Exercise:</b><br>\n",
    "See how the classification performance changes when you modify the depth of the variational form, the number of shots or number of trials.<br>\n",
    "What's the best that you can achieve for the adhoc data set and the Wine data set?"
   ]
  },
  {
   "cell_type": "code",
   "execution_count": 18,
   "metadata": {
    "scrolled": true
   },
   "outputs": [
    {
     "name": "stdout",
     "output_type": "stream",
     "text": [
      "0.4976\n",
      "0.5419\n",
      "0.5018\n",
      "0.3947\n",
      "0.3869\n",
      "0.2150\n",
      "0.3162\n",
      "0.2457\n",
      "0.3052\n",
      "0.4130\n",
      "0.2616\n",
      "0.1266\n",
      "0.1364\n",
      "0.3340\n",
      "0.1683\n",
      "0.4126\n",
      "0.1147\n",
      "0.1227\n",
      "0.1361\n",
      "0.1874\n",
      "0.1141\n",
      "0.1547\n",
      "0.2002\n",
      "0.1543\n",
      "0.1448\n",
      "0.1681\n",
      "0.1896\n",
      "0.1340\n",
      "0.1622\n",
      "0.1612\n",
      "0.1540\n",
      "0.1260\n",
      "0.1534\n",
      "0.1107\n",
      "0.1258\n",
      "0.1292\n",
      "0.1078\n",
      "0.0956\n",
      "0.0949\n",
      "0.1003\n",
      "0.1027\n",
      "0.0960\n",
      "0.1339\n",
      "0.0820\n",
      "0.0762\n",
      "0.0727\n",
      "0.0898\n",
      "0.0624\n",
      "0.0824\n",
      "0.0494\n",
      "0.0612\n",
      "0.0619\n",
      "0.0730\n",
      "0.0627\n",
      "0.0627\n",
      "0.0750\n",
      "0.0593\n",
      "0.0719\n",
      "0.0646\n",
      "0.0730\n",
      "0.0718\n",
      "0.0648\n",
      "0.0716\n",
      "0.0750\n",
      "0.0572\n",
      "0.0737\n",
      "0.0718\n",
      "0.0632\n",
      "0.0741\n",
      "0.0838\n",
      "0.0688\n",
      "0.0686\n",
      "0.0572\n",
      "0.0605\n",
      "0.0687\n",
      "0.0777\n",
      "0.0696\n",
      "0.0700\n",
      "0.0762\n",
      "0.0759\n",
      "0.0651\n",
      "0.0721\n",
      "0.0776\n",
      "0.0657\n",
      "0.0616\n",
      "0.0698\n",
      "0.0736\n",
      "0.0653\n",
      "0.0576\n",
      "0.0787\n",
      "0.0687\n",
      "0.0666\n",
      "0.0733\n",
      "0.0590\n",
      "0.0845\n",
      "0.0714\n",
      "0.0628\n",
      "0.0561\n",
      "0.0767\n",
      "0.0558\n",
      "0.0792\n",
      "0.0630\n",
      "0.0677\n",
      "0.0719\n",
      "0.0758\n",
      "0.0620\n",
      "0.0850\n",
      "0.0671\n",
      "0.0667\n",
      "0.0584\n",
      "0.0628\n",
      "0.0799\n",
      "0.0628\n",
      "0.0691\n",
      "0.0748\n",
      "0.0766\n",
      "0.0892\n",
      "0.0677\n",
      "\n",
      "opt_params: [0.46537684 3.01203121 3.34499308 6.60826593 1.88255287 3.77234427\n",
      " 4.68233135 3.95397507 0.90662879 6.19788929 3.03135655 3.72127197]\n",
      "opt_value:  0.06769543701480436\n"
     ]
    }
   ],
   "source": [
    "# set depth of variational form\n",
    "depth = 2\n",
    "\n",
    "# set number of shots to evaluate the classification circuit\n",
    "shots = 100\n",
    "\n",
    "# setup the optimizer\n",
    "optimizer = COBYLA()\n",
    "\n",
    "# define objective function for training\n",
    "objective_function = lambda params: cost_function(training_input, class_labels, params, depth, shots, print_value=True)\n",
    "\n",
    "# randomly initialize the parameters\n",
    "init_params = 2*np.pi*np.random.rand(num_qubits*(depth+1)*2)\n",
    "\n",
    "# train classifier\n",
    "opt_params, value, _ = optimizer.optimize(len(init_params), objective_function, initial_point=init_params)\n",
    "\n",
    "# print results\n",
    "print()\n",
    "print('opt_params:', opt_params)\n",
    "print('opt_value: ', value)"
   ]
  },
  {
   "cell_type": "markdown",
   "metadata": {},
   "source": [
    "## Test the trained classifier\n",
    "\n",
    "To check how well we could train the classifier, we evaluate the classification performance on the test data set."
   ]
  },
  {
   "cell_type": "code",
   "execution_count": 19,
   "metadata": {
    "scrolled": true
   },
   "outputs": [
    {
     "name": "stdout",
     "output_type": "stream",
     "text": [
      "----------------------------------------------------\n",
      "Data point:     [6.1575216  1.88495559]\n",
      "Label:          A\n",
      "Assigned:       A\n",
      "Probabilities:  {'A': 0.57, 'B': 0.43000000000000005}\n",
      "Classification: CORRECT\n",
      "----------------------------------------------------\n",
      "Data point:     [3.70707933 3.26725636]\n",
      "Label:          A\n",
      "Assigned:       A\n",
      "Probabilities:  {'A': 0.52, 'B': 0.48000000000000004}\n",
      "Classification: CORRECT\n",
      "----------------------------------------------------\n",
      "Data point:     [0.25132741 5.71769863]\n",
      "Label:          A\n",
      "Assigned:       A\n",
      "Probabilities:  {'A': 0.96, 'B': 0.04}\n",
      "Classification: CORRECT\n",
      "----------------------------------------------------\n",
      "Data point:     [2.57610598 4.46106157]\n",
      "Label:          A\n",
      "Assigned:       A\n",
      "Probabilities:  {'A': 0.5, 'B': 0.5}\n",
      "Classification: CORRECT\n",
      "----------------------------------------------------\n",
      "Data point:     [5.59203492 0.37699112]\n",
      "Label:          A\n",
      "Assigned:       B\n",
      "Probabilities:  {'A': 0.45999999999999996, 'B': 0.54}\n",
      "Classification: INCORRECT\n",
      "----------------------------------------------------\n",
      "Data point:     [5.46637122 0.37699112]\n",
      "Label:          A\n",
      "Assigned:       A\n",
      "Probabilities:  {'A': 0.5, 'B': 0.5}\n",
      "Classification: CORRECT\n",
      "----------------------------------------------------\n",
      "Data point:     [2.32477856 3.95840674]\n",
      "Label:          A\n",
      "Assigned:       B\n",
      "Probabilities:  {'A': 0.35, 'B': 0.65}\n",
      "Classification: INCORRECT\n",
      "----------------------------------------------------\n",
      "Data point:     [3.76991118 2.57610598]\n",
      "Label:          A\n",
      "Assigned:       B\n",
      "Probabilities:  {'A': 0.24, 'B': 0.76}\n",
      "Classification: INCORRECT\n",
      "----------------------------------------------------\n",
      "Data point:     [1.50796447 5.40353936]\n",
      "Label:          A\n",
      "Assigned:       A\n",
      "Probabilities:  {'A': 0.77, 'B': 0.22999999999999998}\n",
      "Classification: CORRECT\n",
      "----------------------------------------------------\n",
      "Data point:     [2.82743339 6.22035345]\n",
      "Label:          A\n",
      "Assigned:       A\n",
      "Probabilities:  {'A': 0.89, 'B': 0.11}\n",
      "Classification: CORRECT\n",
      "----------------------------------------------------\n",
      "Data point:     [5.96902604 4.20973416]\n",
      "Label:          B\n",
      "Assigned:       B\n",
      "Probabilities:  {'A': 0.04, 'B': 0.96}\n",
      "Classification: CORRECT\n",
      "----------------------------------------------------\n",
      "Data point:     [4.77522083 1.94778745]\n",
      "Label:          B\n",
      "Assigned:       B\n",
      "Probabilities:  {'A': 0.26, 'B': 0.74}\n",
      "Classification: CORRECT\n",
      "----------------------------------------------------\n",
      "Data point:     [1.88495559 3.76991118]\n",
      "Label:          B\n",
      "Assigned:       B\n",
      "Probabilities:  {'A': 0.25, 'B': 0.75}\n",
      "Classification: CORRECT\n",
      "----------------------------------------------------\n",
      "Data point:     [4.64955713 0.06283185]\n",
      "Label:          B\n",
      "Assigned:       B\n",
      "Probabilities:  {'A': 0.18, 'B': 0.8200000000000001}\n",
      "Classification: CORRECT\n",
      "----------------------------------------------------\n",
      "Data point:     [4.71238898 5.71769863]\n",
      "Label:          B\n",
      "Assigned:       B\n",
      "Probabilities:  {'A': 0.05, 'B': 0.95}\n",
      "Classification: CORRECT\n",
      "----------------------------------------------------\n",
      "Data point:     [5.2150438  5.15221195]\n",
      "Label:          B\n",
      "Assigned:       B\n",
      "Probabilities:  {'A': 0.2, 'B': 0.8}\n",
      "Classification: CORRECT\n",
      "----------------------------------------------------\n",
      "Data point:     [4.52389342 4.33539786]\n",
      "Label:          B\n",
      "Assigned:       B\n",
      "Probabilities:  {'A': 0.34, 'B': 0.66}\n",
      "Classification: CORRECT\n",
      "----------------------------------------------------\n",
      "Data point:     [0.75398224 3.45575192]\n",
      "Label:          B\n",
      "Assigned:       B\n",
      "Probabilities:  {'A': 0.32, 'B': 0.68}\n",
      "Classification: CORRECT\n",
      "----------------------------------------------------\n",
      "Data point:     [0.37699112 3.33008821]\n",
      "Label:          B\n",
      "Assigned:       B\n",
      "Probabilities:  {'A': 0.14, 'B': 0.8599999999999999}\n",
      "Classification: CORRECT\n",
      "----------------------------------------------------\n",
      "Data point:     [1.38230077 3.58141563]\n",
      "Label:          B\n",
      "Assigned:       B\n",
      "Probabilities:  {'A': 0.35000000000000003, 'B': 0.65}\n",
      "Classification: CORRECT\n",
      "\n",
      "85.0 % of the test data was correctly classified!\n"
     ]
    },
    {
     "data": {
      "image/png": "[encoded data removed]",
      "text/plain": [
       "<Figure size 432x288 with 1 Axes>"
      ]
     },
     "metadata": {
      "needs_background": "light"
     },
     "output_type": "display_data"
    }
   ],
   "source": [
    "# collect coordinates of test data\n",
    "test_label_0_x = [x[0] for x in test_input[class_labels[0]]]\n",
    "test_label_0_y = [x[1] for x in test_input[class_labels[0]]]\n",
    "test_label_1_x = [x[0] for x in test_input[class_labels[1]]]\n",
    "test_label_1_y = [x[1] for x in test_input[class_labels[1]]]\n",
    "\n",
    "# initialize lists for misclassified datapoints\n",
    "test_label_misclassified_x = []\n",
    "test_label_misclassified_y = []\n",
    "\n",
    "# evaluate test data\n",
    "for label, samples in test_input.items():\n",
    "    \n",
    "    # classify samples \n",
    "    results = classify(samples, opt_params, class_labels, depth, shots=shots)\n",
    "    \n",
    "    # analyze results\n",
    "    for i, result in enumerate(results):\n",
    "        \n",
    "        # assign label\n",
    "        assigned_label = class_labels[np.argmax([p for p in result.values()])]\n",
    "        print('----------------------------------------------------')\n",
    "        print('Data point:    ', samples[i])\n",
    "        print('Label:         ', label)\n",
    "        print('Assigned:      ', assigned_label)\n",
    "        print('Probabilities: ', result)\n",
    "        \n",
    "        if label != assigned_label:\n",
    "            print('Classification:', 'INCORRECT')\n",
    "            test_label_misclassified_x += [samples[i][0]]\n",
    "            test_label_misclassified_y += [samples[i][1]]\n",
    "        else:\n",
    "            print('Classification:', 'CORRECT')\n",
    "        \n",
    "# compute fraction of misclassified samples\n",
    "total = len(test_label_0_x) + len(test_label_1_x)\n",
    "num_misclassified = len(test_label_misclassified_x)\n",
    "print()\n",
    "print(100*(1-num_misclassified/total), \"% of the test data was correctly classified!\")\n",
    "\n",
    "# plot results\n",
    "plt.figure()\n",
    "plt.scatter(test_label_0_x, test_label_0_y, c='b', label=class_labels[0], linewidths=5)\n",
    "plt.scatter(test_label_1_x, test_label_1_y, c='g', label=class_labels[1], linewidths=5)\n",
    "plt.scatter(test_label_misclassified_x, test_label_misclassified_y, linewidths=20, s=1, facecolors='none', edgecolors='r')\n",
    "plt.legend()\n",
    "plt.show()"
   ]
  },
  {
   "cell_type": "code",
   "execution_count": null,
   "metadata": {},
   "outputs": [],
   "source": []
  }
 ],
 "metadata": {
  "kernelspec": {
   "display_name": "Python 3",
   "language": "python",
   "name": "python3"
  },
  "language_info": {
   "codemirror_mode": {
    "name": "ipython",
    "version": 3
   },
   "file_extension": ".py",
   "mimetype": "text/x-python",
   "name": "python",
   "nbconvert_exporter": "python",
   "pygments_lexer": "ipython3",
   "version": "3.7.1"
  }
 },
 "nbformat": 4,
 "nbformat_minor": 1
}
