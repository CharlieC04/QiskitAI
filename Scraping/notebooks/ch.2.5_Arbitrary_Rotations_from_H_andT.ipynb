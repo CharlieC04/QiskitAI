{
  "cells": [
    {
      "cell_type": "code",
      "execution_count": 5,
      "metadata": {
        "trusted": true
      },
      "outputs": [
        {
          "name": "stderr",
          "output_type": "stream",
          "text": "ibmqfactory.load_account:WARNING:2020-05-21 02:13:40,956: Credentials are already in use. The existing account in the session will be replaced.\n"
        }
      ],
      "source": "# Qubits are subject to noise orginating from:\n# temperature varations, stray magnetic fields, or operations\n# on other qubits.\n# Finding a way to mitigate this noise through \n# the encoding of our in a way that protects them from noise.\n# for some roation R(theta), about some axis it is impossible\n# to impent an angle theta with perfect accuracy,such thta you are\n# sure that you are not accidentally implement something like\n# theta + 0.000000001. That is to say there will always be\n# a limit to the accuracy we can achieve.\n# As this error adds up through operations the noise will always\n# be larger than is tolerable.\n# Therefore implementing rotations in a fault tolerant\n# Quantum Computer, uses mutiple operations made of T and H\n# Gates.\n%matplotlib inline\n# Importing standard Qiskit libraries and configuring account\nfrom qiskit import QuantumCircuit, execute, Aer, IBMQ\nfrom qiskit.compiler import transpile, assemble\nfrom qiskit.tools.jupyter import *\nfrom qiskit.visualization import *\n# Loading your IBM Q account(s)\nprovider = IBMQ.load_account()"
    },
    {
      "cell_type": "code",
      "execution_count": 7,
      "metadata": {
        "trusted": true
      },
      "outputs": [
        {
          "data": {
            "image/png": "[encoded data removed]",
            "text/plain": "<Figure size 173.376x84.28 with 1 Axes>"
          },
          "execution_count": 7,
          "metadata": {},
          "output_type": "execute_result"
        }
      ],
      "source": "# The T-GATE:\n# Is a rotation around the z-axis by theta = pi/4.\n# and is expressed mathematically as Rz(pi/4) = e^(ipi/8Z)\n#Ex:\n# the default T gate rotating about the z-axis:\nqc = QuantumCircuit(1)\nqc.t(0)\nqc.draw()"
    },
    {
      "cell_type": "code",
      "execution_count": 8,
      "metadata": {
        "trusted": true
      },
      "outputs": [
        {
          "data": {
            "image/png": "[encoded data removed]",
            "text/plain": "<Figure size 293.776x84.28 with 1 Axes>"
          },
          "execution_count": 8,
          "metadata": {},
          "output_type": "execute_result"
        }
      ],
      "source": "# the T-Gate rotating about the x-axis:\nqc = QuantumCircuit(1)\nqc.h(0)\nqc.t(0)\nqc.h(0)\nqc.draw()"
    },
    {
      "cell_type": "code",
      "execution_count": 10,
      "metadata": {
        "trusted": true
      },
      "outputs": [
        {
          "data": {
            "image/png": "[encoded data removed]",
            "text/plain": "<Figure size 353.976x84.28 with 1 Axes>"
          },
          "execution_count": 10,
          "metadata": {},
          "output_type": "execute_result"
        }
      ],
      "source": "# Putting the two circuits above together we can make the gate:\n# Rz(pi/4)Rx(pi/4).\n# Bc this is a single-qubit gate,we can think of it as a \n# rotation around the Bloch Sphere. That is as a rotaion \n# About some axis. It is important to note that this angle\n# will always be irrational. Due to its irrationality,\n# the angles that result from different repetitions will never\n# be the same. Each angle will be somewhere between 0 & 2pi.\n# Splitting this interval up into n slices of width 2pi/n.\n# For eacg repetition, the resulting angle will fall in one\n# of these slices. looking at the angle for the first n+1 \n# repitioins, it must be true that at least one slicce contains\n# two of these angles. Using n1 to denote the number of repetitions\n# required for the first and n2 for the second.\n# The angle for n2-n1 repetitions stisfies\n# theta(n2-n1) != 0, -2pi/n <= theta(n2-n1) <= 2pi/n\n# We therefore have he ability to do rotations around small angles.\n# We can use this to rotate around angles that are as small as we\n# like, just by increasing the number of times we repeat this gate.\n# By using small-angle rotations, we can also rotate by any angle\n# we like. This won't always be exact, but it is guaranteed to be \n# accurate up to 2pi/n, which we can be made as small as we like.\n# Using the RzRx rotations allows us to have arbitrary rotaions\n# around the Bloch Sphere, through the use of numerous T-Gate operations.\n# Therefore the complexity of algorithms in quantum computations is\n# often time given in terms of how many T-Gates they require.\nqc = QuantumCircuit(1)\n# Rx gate rotation about the x-axis:\nqc.h(0)\nqc.t(0)\nqc.h(0)\n# Rz gate rotation about the z-axis:\nqc.t(0)\nqc.draw()"
    }
  ],
  "metadata": {
    "kernelspec": {
      "display_name": "Python 3",
      "language": "python",
      "name": "python3"
    },
    "language_info": {
      "codemirror_mode": {
        "name": "ipython",
        "version": 3
      },
      "file_extension": ".py",
      "mimetype": "text/x-python",
      "name": "python",
      "nbconvert_exporter": "python",
      "pygments_lexer": "ipython3",
      "version": "3.7.6"
    }
  },
  "nbformat": 4,
  "nbformat_minor": 4
}