{
 "cells": [
  {
   "cell_type": "code",
   "execution_count": 1,
   "id": "2858c0db",
   "metadata": {},
   "outputs": [],
   "source": [
    "%matplotlib inline\n",
    "#Imports\n",
    "from qiskit import QuantumCircuit, execute, Aer, IBMQ, ClassicalRegister, QuantumRegister\n",
    "from qiskit.compiler import transpile, assemble\n",
    "import numpy as np\n",
    "from qiskit.tools.jupyter import *\n",
    "from qiskit.visualization import *\n",
    "import json\n",
    "from qiskit.transpiler import PassManager\n",
    "from qiskit.transpiler.passes import Unroller\n",
    "from qiskit.tools.monitor import job_monitor"
   ]
  },
  {
   "cell_type": "code",
   "execution_count": 2,
   "id": "3933cc58",
   "metadata": {},
   "outputs": [],
   "source": [
    "def block_idx(x, y):\n",
    "    if x<2 and y<2:\n",
    "        return 0\n",
    "    if x<2:\n",
    "        return 1\n",
    "    if y<2:\n",
    "        return 2\n",
    "    return 3\n",
    "\n",
    "def apply_cands(matrix):\n",
    "    cands = []\n",
    "    for i in range(len(matrix)):\n",
    "        for j in range(len(matrix[0])):\n",
    "            if matrix[i][j] != 0:\n",
    "                continue\n",
    "            temp = []\n",
    "            for k in range(4):\n",
    "                f = True\n",
    "                for row in range(4):\n",
    "                    if matrix[row][j] == k + 1:\n",
    "                        f = False\n",
    "                for col in range(4):\n",
    "                    if matrix[i][col] == k + 1:\n",
    "                        f = False\n",
    "                for x in range(4):\n",
    "                    for y in range(4):\n",
    "                        if block_idx(i, j) != block_idx(x, y):\n",
    "                            continue\n",
    "                        if matrix[x][y] == k + 1:\n",
    "                            f = False\n",
    "                if f:\n",
    "                    temp.append(k+1)\n",
    "            cands.append(temp)\n",
    "    return cands"
   ]
  },
  {
   "cell_type": "code",
   "execution_count": 3,
   "id": "01de7beb",
   "metadata": {},
   "outputs": [],
   "source": [
    "def one_cand_op(qc, q0, q1, cands):\n",
    "    #print(q0, q1)\n",
    "    if cands[0] == 1:\n",
    "        pass\n",
    "    elif cands[0] == 2:\n",
    "        qc.x(q1)\n",
    "    elif cands[0] == 3:\n",
    "        qc.x(q0)\n",
    "    else:\n",
    "        qc.x(q0)\n",
    "        qc.x(q1)\n",
    "\n",
    "def one_cand_op_inverse(qc, q0, q1, cands): \n",
    "    if cands[0] == 1:\n",
    "        pass\n",
    "    elif cands[0] == 2:\n",
    "        qc.x(q1)\n",
    "    elif cands[0] == 3:\n",
    "        qc.x(q0)\n",
    "    else:\n",
    "        qc.x(q1)\n",
    "        qc.x(q0)        "
   ]
  },
  {
   "cell_type": "code",
   "execution_count": 4,
   "id": "7ba53b04",
   "metadata": {},
   "outputs": [],
   "source": [
    "def two_cand_op(qc, q0, q1, cands):\n",
    "    #print(q0, q1, cands[0], cands[1])\n",
    "    product = cands[0]*cands[1]\n",
    "    #1 + 2\n",
    "    if product == 2:\n",
    "        qc.h(q1)\n",
    "    #1 + 3\n",
    "    elif product == 3:\n",
    "        qc.h(q0)\n",
    "    #1 + 4\n",
    "    elif product == 4:\n",
    "        qc.h(q0)\n",
    "        qc.cx(q0, q1)\n",
    "    #2 + 3\n",
    "    elif product == 6:\n",
    "        qc.x(q1)\n",
    "        qc.h(q0)\n",
    "        qc.cx(q0, q1)\n",
    "    #2 + 4\n",
    "    elif product == 8:\n",
    "        qc.x(q1)\n",
    "        qc.h(q0)\n",
    "    #3 + 4\n",
    "    else:\n",
    "        qc.h(q1)\n",
    "        qc.x(q0)\n",
    "    \n",
    "def two_cand_op_inverse(qc, q0, q1, cands):\n",
    "    product = cands[0]*cands[1]\n",
    "    #1 + 2\n",
    "    if product == 2:\n",
    "        qc.h(q1)\n",
    "    #1 + 3\n",
    "    elif product == 3:\n",
    "        qc.h(q0)\n",
    "    #1 + 4\n",
    "    elif product == 4:\n",
    "        qc.cx(q0, q1)\n",
    "        qc.h(q0)\n",
    "    #2 + 3\n",
    "    elif product == 6:\n",
    "        qc.cx(q0, q1)\n",
    "        qc.h(q0)\n",
    "        qc.x(q1)\n",
    "    #2 + 4\n",
    "    elif product == 8:\n",
    "        qc.h(q0)\n",
    "        qc.x(q1)\n",
    "    #3 + 4\n",
    "    else:\n",
    "        qc.h(q1)\n",
    "        qc.x(q0)"
   ]
  },
  {
   "cell_type": "code",
   "execution_count": 5,
   "id": "898f83e2",
   "metadata": {},
   "outputs": [],
   "source": [
    "def init_blanks(qc, qr, matrix):\n",
    "    cands = apply_cands(matrix)\n",
    "    # print(cands)\n",
    "\n",
    "    for i in range(len(cands)):\n",
    "        if len(cands[i]) == 1:\n",
    "            one_cand_op(qc, qr[2*i], qr[2*i+1], cands[i])\n",
    "        else:\n",
    "            two_cand_op(qc, qr[2*i], qr[2*i+1], cands[i])\n",
    "\n",
    "def init_blanks_inverse(qc, qr, matrix):\n",
    "    cands = apply_cands(matrix)\n",
    "    \n",
    "    for i in range(len(cands)-1, -1, -1):\n",
    "        if len(cands[i]) == 1:\n",
    "            one_cand_op_inverse(qc, qr[2*i], qr[2*i+1], cands[i])\n",
    "        else:\n",
    "            two_cand_op_inverse(qc, qr[2*i], qr[2*i+1], cands[i])"
   ]
  },
  {
   "cell_type": "code",
   "execution_count": 6,
   "id": "671c47fb",
   "metadata": {},
   "outputs": [],
   "source": [
    "# if v1 != v2 (number) then target = 1 else target = 0\n",
    "def compare_vertex(qc, qr, v1, v2, target):\n",
    "    qc.x(qr[2*v2])\n",
    "    qc.x(qr[2*v2+1])\n",
    "    qc.ccx(qr[2*v1], qr[2*v1+1], target)\n",
    "    qc.ccx(qr[2*v1+1], qr[2*v2], target)\n",
    "    qc.ccx(qr[2*v2], qr[2*v2+1], target)\n",
    "    qc.ccx(qr[2*v1], qr[2*v2+1], target)\n",
    "    qc.x(qr[2*v2+1])\n",
    "    qc.x(qr[2*v2])\n",
    "    qc.x(qr[target])\n",
    "\n",
    "def compare_vertex_inverse(qc, qr, v1, v2, target):\n",
    "    qc.x(qr[target])\n",
    "    qc.x(qr[2*v2])\n",
    "    qc.x(qr[2*v2+1])\n",
    "    qc.ccx(qr[2*v1], qr[2*v2+1], target)\n",
    "    qc.ccx(qr[2*v2], qr[2*v2+1], target)\n",
    "    qc.ccx(qr[2*v1+1], qr[2*v2], target)\n",
    "    qc.ccx(qr[2*v1], qr[2*v1+1], target)\n",
    "    qc.x(qr[2*v2+1])\n",
    "    qc.x(qr[2*v2])"
   ]
  },
  {
   "cell_type": "code",
   "execution_count": 7,
   "id": "ce3bd72f",
   "metadata": {},
   "outputs": [],
   "source": [
    "# Edge constraint oracle\n",
    "def oracle(qc, qr):\n",
    "    # vs = [0, 1, 2, 3, 4, 5, 6, 7]\n",
    "    list1 = [[0, 1], [2, 3], [4, 5], [6, 7], [2, 6], [0, 4]]\n",
    "    list2 = [[1, 5], [3, 7], [0, 2], [1, 3], [4, 6], [5, 7]]\n",
    "    target = 16\n",
    "    temp1 = 30\n",
    "    temp2 = 31\n",
    "    for elm in list1:\n",
    "        assert(len(elm)==2)\n",
    "        compare_vertex(qc, qr, elm[0], elm[1], target)\n",
    "        target+=1\n",
    "    qc.mct(qr[16:target], qr[temp1], qr[22:29], mode='basic')\n",
    "    for elm in (reversed(list1)):\n",
    "        target-=1\n",
    "        compare_vertex_inverse(qc, qr, elm[0], elm[1], target)\n",
    "        \n",
    "    for elm in list2:\n",
    "        assert(len(elm)==2)\n",
    "        compare_vertex(qc, qr, elm[0], elm[1], target)\n",
    "        target+=1\n",
    "    qc.mct(qr[16:target], qr[temp2], qr[22:29], mode='basic')\n",
    "    for elm in (reversed(list2)):\n",
    "        target-=1\n",
    "        compare_vertex_inverse(qc, qr, elm[0], elm[1], target)\n",
    "\n",
    "    dest = 29\n",
    "    qc.ccx(qr[temp1], qr[temp2], qr[dest])\n",
    "    \n",
    "    for elm in list2:\n",
    "        assert(len(elm)==2)\n",
    "        compare_vertex(qc, qr, elm[0], elm[1], target)\n",
    "        target+=1\n",
    "    qc.mct(qr[16:target], qr[temp2], qr[22:29], mode='basic')\n",
    "    for elm in (reversed(list2)):\n",
    "        target-=1\n",
    "        compare_vertex_inverse(qc, qr, elm[0], elm[1], target)\n",
    "        \n",
    "    for elm in list1:\n",
    "        assert(len(elm)==2)\n",
    "        compare_vertex(qc, qr, elm[0], elm[1], target)\n",
    "        target+=1\n",
    "    qc.mct(qr[16:target], qr[temp1], qr[22:29], mode='basic')\n",
    "    for elm in (reversed(list1)):\n",
    "        target-=1\n",
    "        compare_vertex_inverse(qc, qr, elm[0], elm[1], target)\n",
    "\n",
    "\"\"\" diffusion (inversion about the mean) circuit. \"\"\"\n",
    "def diffusion(circuit, qr, matrix):\n",
    "    # circuit.h(qr)\n",
    "    init_blanks_inverse(circuit, qr[:16], matrix)  # inverse of unitary op of initial state preparation\n",
    "    circuit.x(qr[:16])\n",
    "\n",
    "    # apply multi-control CZ\n",
    "    circuit.h(qr[15])\n",
    "    # circuit.mct(qr[:-1], qr[-1], anc, mode='basic')\n",
    "    circuit.mct(qr[:15], qr[15], qr[16:29], mode='basic') \n",
    "    circuit.h(qr[15])\n",
    "\n",
    "    circuit.x(qr[:16])\n",
    "    # circuit.h(qr)\n",
    "    init_blanks(circuit, qr[:16], matrix)"
   ]
  },
  {
   "cell_type": "code",
   "execution_count": 8,
   "id": "30dfe92e",
   "metadata": {},
   "outputs": [
    {
     "name": "stdout",
     "output_type": "stream",
     "text": [
      "[[4 0 2 0]\n",
      " [0 1 0 4]\n",
      " [1 0 4 0]\n",
      " [0 4 0 2]]\n",
      "[[3], [1, 3], [2, 3], [3], [2, 3], [3], [3], [1, 3]]\n"
     ]
    }
   ],
   "source": [
    "qr = QuantumRegister(32)\n",
    "cr = ClassicalRegister(16)\n",
    "qc = QuantumCircuit(qr, cr)\n",
    "matrix = np.array([4, 0, 2, 0, 0, 1, 0, 4, 1, 0, 4, 0, 0, 4, 0, 2]).reshape(4, 4)\n",
    "print(matrix)\n",
    "print(apply_cands(matrix))\n",
    "\n",
    "def grover(iter):\n",
    "    init_blanks(qc, qr, matrix)\n",
    "    for _ in range(iter):\n",
    "        oracle(qc, qr)\n",
    "        print(\"oracle done\")\n",
    "        diffusion(qc, qr, matrix)\n",
    "        print(\"diffusion done\")\n",
    "    qc.measure(qr[0:16], cr[0:16])\n",
    "    print(\"measure done\")\n",
    "    #print(\"drawing start\")\n",
    "    #qc.draw()"
   ]
  },
  {
   "cell_type": "code",
   "execution_count": 9,
   "id": "570d9aa3",
   "metadata": {},
   "outputs": [
    {
     "name": "stdout",
     "output_type": "stream",
     "text": [
      "oracle done\n",
      "diffusion done\n",
      "oracle done\n",
      "diffusion done\n",
      "oracle done\n",
      "diffusion done\n",
      "measure done\n",
      "OrderedDict([('u3', 7282), ('cx', 4100), ('measure', 16)])\n",
      "48282\n"
     ]
    }
   ],
   "source": [
    "grover(3)\n",
    "\n",
    "# Unroll the circuit\n",
    "pass_ = Unroller(['u3', 'cx'])\n",
    "pm = PassManager(pass_)\n",
    "new_circuit = pm.run(qc) \n",
    "\n",
    "# obtain gates\n",
    "gates=new_circuit.count_ops()\n",
    "print(gates)\n",
    "\n",
    "cost=gates['u3'] + 10*gates['cx']\n",
    "print(cost)"
   ]
  },
  {
   "cell_type": "code",
   "execution_count": 10,
   "id": "6c2ab146",
   "metadata": {},
   "outputs": [
    {
     "name": "stdout",
     "output_type": "stream",
     "text": [
      "shots: 1024\n",
      "execute start\n",
      "job id: 25410bbc-6f60-46b0-a13a-0c303bbf0d38\n",
      "Job Status: job has successfully run\n",
      "{'0001011001100001': 545, '0001011001010001': 40, '0001011001010101': 34, '0101010101100101': 29, '0001010101100001': 42, '0101010101010001': 30, '0101010101010101': 29, '0001010101010001': 33, '0001011001100101': 15, '0101010101100001': 22, '0001010101100101': 44, '0101011001010101': 33, '0101011001100001': 29, '0101011001100101': 37, '0001010101010101': 33, '0101011001010001': 29}\n"
     ]
    }
   ],
   "source": [
    "# shots = 8000\n",
    "shots = 1024\n",
    "print(\"shots:\", shots)\n",
    "\n",
    "## Run on Aer Simulator\n",
    "backend = Aer.get_backend('qasm_simulator')\n",
    "## Run on Quantum Hardware(does not techically work however since we need 32 qbits but free only give 7)\n",
    "## Can run the 2x2 to show that the Sudoku solving does work on a Quantum Computer however\n",
    "#provider = IBMQ.load_account()\n",
    "#backend = provider.get_backend('ibm_oslo')\n",
    "\n",
    "print(\"execute start\")\n",
    "job = execute(qc, backend=backend, shots=shots, seed_simulator=12345, backend_options={\"fusion_enable\":True})\n",
    "print(\"job id:\", job.job_id())\n",
    "job_monitor(job)\n",
    "result = job.result()\n",
    "count = result.get_counts()\n",
    "print(count)"
   ]
  },
  {
   "cell_type": "code",
   "execution_count": 11,
   "id": "a2b4c11c",
   "metadata": {},
   "outputs": [
    {
     "name": "stdout",
     "output_type": "stream",
     "text": [
      "16\n"
     ]
    }
   ],
   "source": [
    "print(len(count))"
   ]
  },
  {
   "cell_type": "code",
   "execution_count": 12,
   "id": "846a4e9d",
   "metadata": {},
   "outputs": [
    {
     "data": {
      "text/plain": [
       "[('0001011001100001', 545),\n",
       " ('0001010101100101', 44),\n",
       " ('0001010101100001', 42),\n",
       " ('0001011001010001', 40),\n",
       " ('0101011001100101', 37),\n",
       " ('0001011001010101', 34),\n",
       " ('0001010101010001', 33),\n",
       " ('0101011001010101', 33),\n",
       " ('0001010101010101', 33),\n",
       " ('0101010101010001', 30),\n",
       " ('0101010101100101', 29),\n",
       " ('0101010101010101', 29),\n",
       " ('0101011001100001', 29),\n",
       " ('0101011001010001', 29),\n",
       " ('0101010101100001', 22)]"
      ]
     },
     "execution_count": 12,
     "metadata": {},
     "output_type": "execute_result"
    }
   ],
   "source": [
    "score_sorted = sorted(count.items(), key=lambda x:x[1], reverse=True)\n",
    "final_score = score_sorted[0:15]\n",
    "final_score"
   ]
  },
  {
   "cell_type": "code",
   "execution_count": 13,
   "id": "56efb486",
   "metadata": {},
   "outputs": [
    {
     "data": {
      "text/plain": [
       "[['20121220', 545],\n",
       " ['20122220', 42],\n",
       " ['20221220', 40],\n",
       " ['20222220', 33],\n",
       " ['20222222', 30],\n",
       " ['22121222', 37],\n",
       " ['22122220', 44],\n",
       " ['22122222', 29],\n",
       " ['22221220', 34],\n",
       " ['22221222', 33],\n",
       " ['22222220', 33],\n",
       " ['22222222', 29]]"
      ]
     },
     "execution_count": 13,
     "metadata": {},
     "output_type": "execute_result"
    }
   ],
   "source": [
    "count_sorted = sorted(count.items(), key=lambda x:x[1], reverse=True)\n",
    "\n",
    "# collect answers with Top 7 probability\n",
    "ans_list = count_sorted[:12]\n",
    "\n",
    "# reverse ans_list\n",
    "ans_reversed = []\n",
    "for i in ans_list:\n",
    "    ans_temp=[i[0][::-1],i[1]]\n",
    "    ans_reversed.append(ans_temp)\n",
    "\n",
    "# convert each 2 bits into corresponding color. Add node0(0),node3(1),node8(2) and node11(3)\n",
    "ans_shaped = []\n",
    "for j in ans_reversed:\n",
    "    ans_temp=j[0]\n",
    "    node0 = int(ans_temp[0] + ans_temp[1], 2)\n",
    "    node1 = int(ans_temp[2] + ans_temp[3], 2)\n",
    "    node2 = int(ans_temp[4] + ans_temp[5], 2)\n",
    "    node3 = int(ans_temp[6] + ans_temp[7], 2)\n",
    "    node4 = int(ans_temp[8] + ans_temp[9], 2)\n",
    "    node5 = int(ans_temp[10] + ans_temp[11], 2)\n",
    "    node6 = int(ans_temp[12] + ans_temp[13], 2)\n",
    "    node7 = int(ans_temp[14] + ans_temp[15], 2)\n",
    "    nodes_color = str(node0) + str(node1) + str(node2) + str(node3) + str(node4) + str(node5) + str(node6) + str(node7) \n",
    "    ans_shaped.append([nodes_color,j[1]])\n",
    "sorted(ans_shaped)"
   ]
  },
  {
   "cell_type": "code",
   "execution_count": 14,
   "id": "e5da51f0",
   "metadata": {},
   "outputs": [
    {
     "name": "stdout",
     "output_type": "stream",
     "text": [
      "{'31232331': 545, '31332331': 40, '33332331': 34, '33233333': 29, '31233331': 42, '31333333': 30, '33333333': 29, '31333331': 33, '33232331': 15, '31233333': 22, '33233331': 44, '33332333': 33, '31232333': 29, '33232333': 37, '33333331': 33, '31332333': 29}\n"
     ]
    },
    {
     "data": {
      "image/png": "[encoded data removed]",
      "text/plain": [
       "<Figure size 700x500 with 1 Axes>"
      ]
     },
     "execution_count": 14,
     "metadata": {},
     "output_type": "execute_result"
    }
   ],
   "source": [
    "# Converting to decimal, 1-4 (since this is a 4x4 matrix)\n",
    "def convert_to_decimal(str_bin):\n",
    "    str_bin = ''.join(list(reversed(str_bin)))  # cbitに格納されるときに順番逆になっていることに注意\n",
    "    list_dec = [str(int(str_bin[2*i:2*i+2], 2)+1) for i in range(len(str_bin)//2)]\n",
    "    str_dec = ''.join(list_dec)\n",
    "    return str_dec\n",
    "# histogram plot (decimal representation)\n",
    "count_decimal = {}\n",
    "for key, value in count.items():\n",
    "    count_decimal[convert_to_decimal(key)] = value\n",
    "print(count_decimal)\n",
    "plot_histogram(count_decimal)"
   ]
  },
  {
   "cell_type": "code",
   "execution_count": 15,
   "id": "a303f7d9",
   "metadata": {},
   "outputs": [
    {
     "name": "stdout",
     "output_type": "stream",
     "text": [
      "[[4 3 2 1]\n",
      " [2 1 3 4]\n",
      " [1 2 4 3]\n",
      " [3 4 1 2]]\n"
     ]
    }
   ],
   "source": [
    "def replace_matrix_vals(matrix):\n",
    "    new_matrix = []\n",
    "    replace_idx = 0\n",
    "    #first sol from above\n",
    "    replacements = [int(x) for x in str(convert_to_decimal(next(iter(count.items()))[0]))]\n",
    "    for list in matrix:\n",
    "        for num in list:\n",
    "            if num == 0:\n",
    "                new_matrix.append(replacements[replace_idx])\n",
    "                replace_idx+=1\n",
    "            else:\n",
    "                new_matrix.append(num)\n",
    "    return np.array(new_matrix).reshape(4,4)\n",
    "\n",
    "filled_sudoku = replace_matrix_vals(matrix)\n",
    "print(filled_sudoku)"
   ]
  },
  {
   "cell_type": "code",
   "execution_count": null,
   "id": "d45bc134",
   "metadata": {},
   "outputs": [],
   "source": []
  }
 ],
 "metadata": {
  "kernelspec": {
   "display_name": "Python 3 (ipykernel)",
   "language": "python",
   "name": "python3"
  },
  "language_info": {
   "codemirror_mode": {
    "name": "ipython",
    "version": 3
   },
   "file_extension": ".py",
   "mimetype": "text/x-python",
   "name": "python",
   "nbconvert_exporter": "python",
   "pygments_lexer": "ipython3",
   "version": "3.9.13"
  }
 },
 "nbformat": 4,
 "nbformat_minor": 5
}
