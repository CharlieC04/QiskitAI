{
  "nbformat": 4,
  "nbformat_minor": 0,
  "metadata": {
    "colab": {
      "name": "superdense_coding.ipynb",
      "provenance": [],
      "authorship_tag": "ABX9TyPCSReKMwO1DdjszqZqU7cs",
      "include_colab_link": true
    },
    "kernelspec": {
      "name": "python3",
      "display_name": "Python 3"
    }
  },
  "cells": [
    {
      "cell_type": "markdown",
      "metadata": {
        "id": "view-in-github",
        "colab_type": "text"
      },
      "source": [
        "<a href=\"https://colab.research.google.com/github/Ben-Foxman/Quantum-Exploration/blob/main/superdense_coding.ipynb\" target=\"_parent\"><img src=\"https://colab.research.google.com/assets/colab-badge.svg\" alt=\"Open In Colab\"/></a>"
      ]
    },
    {
      "cell_type": "code",
      "metadata": {
        "id": "LuGyEq8Js-pB"
      },
      "source": [
        "# Superdense Coding Implementation    Ben Foxman\n",
        "import matplotlib.pyplot as plt\n",
        "import numpy as np\n",
        "from qiskit import *\n"
      ],
      "execution_count": 114,
      "outputs": []
    },
    {
      "cell_type": "markdown",
      "metadata": {
        "id": "mk4V0slnHSAM"
      },
      "source": [
        "An implementation of superdense coding, a protocol to transmit 2 classical bits of information by sending only one qubit. To do this, entanglement into bell states is used.\n",
        "https://en.wikipedia.org/wiki/Superdense_coding\n",
        "https://en.wikipedia.org/wiki/Bell_state"
      ]
    },
    {
      "cell_type": "code",
      "metadata": {
        "id": "u05GdSzp2FQG",
        "colab": {
          "base_uri": "https://localhost:8080/"
        },
        "outputId": "9a16165d-bd78-46c8-a491-4ba549f0fa30"
      },
      "source": [
        "bits = input(\"Enter 2 bits.\") # the 2 bits to encode/decode\n",
        "assert bits in ['00', '01', '10', '11']"
      ],
      "execution_count": 110,
      "outputs": [
        {
          "output_type": "stream",
          "text": [
            "Enter 2 bits.00\n"
          ],
          "name": "stdout"
        }
      ]
    },
    {
      "cell_type": "code",
      "metadata": {
        "id": "k9z77DSgzgRv"
      },
      "source": [
        "# p1 encodes by creating map from each of the 4 bell states to each of the 4 2-bit codes\n",
        "def encode(target):\n",
        "  bell = QuantumCircuit(2, 2, name=\"bell\")\n",
        "  bell.h([0, 1]) # this entangles p1 and p2's qubit (on measurement, they both evaluate to 0 or 1)\n",
        "  if target == '01': \n",
        "    bell.x([0, 1]) \n",
        "  elif target == '10':\n",
        "    bell.z(0)\n",
        "  elif target == '11':\n",
        "    bell.z(0)\n",
        "    bell.x([0, 1])\n",
        "  # '00'= identity, keep the initial bell states bell state\n",
        "  return bell\n",
        "\n"
      ],
      "execution_count": 111,
      "outputs": []
    },
    {
      "cell_type": "code",
      "metadata": {
        "id": "diA6ctay-qfq"
      },
      "source": [
        "# now, p2 decodes the circuit \n",
        "def decode(circuit):\n",
        "  # step 1: cnot it \n",
        "  circuit.cx(0, 1)\n",
        "  #step 2: h-gate and measure\n",
        "  circuit.h(0)\n",
        "  circuit.measure([0, 1], [0, 1])\n",
        "  return circuit"
      ],
      "execution_count": 112,
      "outputs": []
    },
    {
      "cell_type": "code",
      "metadata": {
        "colab": {
          "base_uri": "https://localhost:8080/"
        },
        "id": "eVAskR1n0kZR",
        "outputId": "d8860e8b-7325-48ac-fd3c-965cce72a760"
      },
      "source": [
        "backend = Aer.get_backend('statevector_simulator')\n",
        "# encode bits\n",
        "circ = encode(bits)\n",
        "# decode bits\n",
        "message = decode(circ)\n",
        "job = execute(message, backend)\n",
        "result = job.result()\n",
        "# print out the statevector. There should be a 1 at index n, where n (base 10) is the code \n",
        "print(np.round(result.get_statevector(), 2))\n"
      ],
      "execution_count": 113,
      "outputs": [
        {
          "output_type": "stream",
          "text": [
            "[ 1.-0.j  0.+0.j  0.+0.j -0.+0.j]\n"
          ],
          "name": "stdout"
        }
      ]
    }
  ]
}
