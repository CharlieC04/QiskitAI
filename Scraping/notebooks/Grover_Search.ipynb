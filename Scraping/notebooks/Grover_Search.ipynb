{
 "cells": [
  {
   "cell_type": "code",
   "execution_count": 1,
   "id": "c873d6f0",
   "metadata": {},
   "outputs": [],
   "source": [
    "from qiskit import IBMQ, Aer\n",
    "from qiskit.providers.ibmq import least_busy\n",
    "from qiskit import QuantumCircuit, execute, assemble, QuantumRegister, ClassicalRegister\n",
    "from qiskit.tools.monitor import job_monitor\n",
    "import matplotlib as mpl\n",
    "# import basic plot tools\n",
    "from qiskit.visualization import plot_histogram, plot_bloch_multivector\n",
    "import numpy as np\n",
    "from numpy import pi"
   ]
  },
  {
   "cell_type": "markdown",
   "id": "e9e7c32f",
   "metadata": {},
   "source": [
    "**Grover search for 2 qubit**\n",
    "\n"
   ]
  },
  {
   "cell_type": "markdown",
   "id": "d2af9c1c",
   "metadata": {},
   "source": [
    "**i.e. Four no. list: {0,1,2,3} \n",
    "Binary Representation: {00,01,10,11}**"
   ]
  },
  {
   "cell_type": "code",
   "execution_count": 2,
   "id": "6b39c8d3",
   "metadata": {},
   "outputs": [],
   "source": [
    "marked = ('11') # state which we want to search\n",
    "\n",
    "n = len(marked)\n",
    "gs_circuit = QuantumCircuit(n+1,n)"
   ]
  },
  {
   "cell_type": "code",
   "execution_count": 7,
   "id": "68ea4fca",
   "metadata": {},
   "outputs": [
    {
     "data": {
      "image/png": "[encoded data removed]",
      "text/plain": [
       "<Figure size 869.197x264.88 with 1 Axes>"
      ]
     },
     "execution_count": 7,
     "metadata": {},
     "output_type": "execute_result"
    }
   ],
   "source": [
    "gs_circuit.clear()\n",
    "gs_circuit.x(n)\n",
    "gs_circuit.h(range(n+1)) \n",
    "gs_circuit.barrier()\n",
    "\n",
    "# oracle operator\n",
    "\n",
    "for i, yes in enumerate(marked):\n",
    "    if yes == '0':\n",
    "        gs_circuit.x(i)\n",
    "        \n",
    "gs_circuit.mcx(list(range(n)),n)    \n",
    "\n",
    "for i, yes in enumerate(marked):\n",
    "    if yes == '0':\n",
    "        gs_circuit.x(i)  \n",
    "        \n",
    "gs_circuit.barrier()\n",
    "\n",
    "# diffuser operator\n",
    "\n",
    "gs_circuit.h(range(n))\n",
    "gs_circuit.x(range(n))\n",
    "\n",
    "gs_circuit.cx(0,1)\n",
    "\n",
    "gs_circuit.x(range(n))\n",
    "gs_circuit.h(range(n))\n",
    "\n",
    "gs_circuit.barrier()\n",
    "\n",
    "# measure\n",
    "\n",
    "gs_circuit.measure(range(n),range(n))\n",
    "\n",
    "gs_circuit.draw('mpl')"
   ]
  },
  {
   "cell_type": "code",
   "execution_count": 4,
   "id": "75f33627",
   "metadata": {},
   "outputs": [
    {
     "data": {
      "image/png": "[encoded data removed]",
      "text/plain": [
       "<Figure size 504x360 with 1 Axes>"
      ]
     },
     "execution_count": 4,
     "metadata": {},
     "output_type": "execute_result"
    }
   ],
   "source": [
    "aer_sim = Aer.get_backend('aer_simulator')   #Local Simulator\n",
    "shots = 1024                                 #No. of times the circuit is running\n",
    "qobj = assemble(gs_circuit, shots = shots) \n",
    "results = aer_sim.run(qobj).result()\n",
    "counts = results.get_counts()\n",
    "plot_histogram(counts)                      #Plotting the result"
   ]
  },
  {
   "cell_type": "code",
   "execution_count": 5,
   "id": "d41718aa",
   "metadata": {},
   "outputs": [
    {
     "name": "stdout",
     "output_type": "stream",
     "text": [
      "ans: 3\n"
     ]
    }
   ],
   "source": [
    "# Converting the binary string to decimal\n",
    "\n",
    "b_str = list(counts.keys())[0]\n",
    "b = int(b_str,2)\n",
    "print('ans:',b)"
   ]
  },
  {
   "cell_type": "code",
   "execution_count": null,
   "id": "4c87a4e5",
   "metadata": {},
   "outputs": [],
   "source": []
  }
 ],
 "metadata": {
  "kernelspec": {
   "display_name": "Python 3",
   "language": "python",
   "name": "python3"
  },
  "language_info": {
   "codemirror_mode": {
    "name": "ipython",
    "version": 3
   },
   "file_extension": ".py",
   "mimetype": "text/x-python",
   "name": "python",
   "nbconvert_exporter": "python",
   "pygments_lexer": "ipython3",
   "version": "3.8.8"
  }
 },
 "nbformat": 4,
 "nbformat_minor": 5
}
