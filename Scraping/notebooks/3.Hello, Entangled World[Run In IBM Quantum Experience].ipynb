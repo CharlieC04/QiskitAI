{
 "cells": [
  {
   "cell_type": "markdown",
   "metadata": {},
   "source": [
    "## HELLO, ENTANGLED WORLD!\n",
    "\n",
    "As an example of how we can work with two qubits in Qiskit, we are going to implement a circuit that prepares an entangled state (a Bell pair)"
   ]
  },
  {
   "cell_type": "code",
   "execution_count": 1,
   "metadata": {},
   "outputs": [
    {
     "data": {
      "image/png": "[encoded data removed]",
      "text/plain": [
       "<Figure size 327.252x204.68 with 1 Axes>"
      ]
     },
     "execution_count": 1,
     "metadata": {},
     "output_type": "execute_result"
    }
   ],
   "source": [
    "%matplotlib inline\n",
    "\n",
    "from qiskit import *\n",
    "from qiskit.visualization import *\n",
    "from qiskit.tools.monitor import *\n",
    "\n",
    "circ_bell = QuantumCircuit(2,2) # We need two qubits and two classical bits (for the measurements)\n",
    "\n",
    "circ_bell.h(0) # We apply the H gate on the first qubit\n",
    "circ_bell.cx(0,1) # We apply the CNOT gate with control on the first qubit and target on the second\n",
    "circ_bell.measure(range(2),range(2)) # Measurement\n",
    "\n",
    "circ_bell.draw(output='mpl')"
   ]
  },
  {
   "cell_type": "markdown",
   "metadata": {},
   "source": [
    "We execute the circuit 1000 times and print the results"
   ]
  },
  {
   "cell_type": "code",
   "execution_count": 2,
   "metadata": {},
   "outputs": [
    {
     "name": "stdout",
     "output_type": "stream",
     "text": [
      "{'00': 502, '11': 498}\n"
     ]
    }
   ],
   "source": [
    "backend = Aer.get_backend('qasm_simulator')\n",
    "job = execute(circ_bell, backend, shots=1000)\n",
    "\n",
    "counts = job.result().get_counts()\n",
    "\n",
    "print(counts)"
   ]
  },
  {
   "cell_type": "markdown",
   "metadata": {},
   "source": [
    "Now, we are going to directly access the amplitudes and probabilities of the states. For that, we need to remove the measurement and use the statevector simulator"
   ]
  },
  {
   "cell_type": "code",
   "execution_count": 3,
   "metadata": {},
   "outputs": [
    {
     "name": "stdout",
     "output_type": "stream",
     "text": [
      "Amplitude of 00 = (0.7071067811865476+0j)\n",
      "Amplitude of 01 = 0j\n",
      "Amplitude of 10 = 0j\n",
      "Amplitude of 11 = (0.7071067811865475+0j)\n",
      "\n",
      "Probability of 00 = 0.5000000000000001\n",
      "Probability of 01 = 0.0\n",
      "Probability of 10 = 0.0\n",
      "Probability of 11 = 0.4999999999999999\n"
     ]
    }
   ],
   "source": [
    "circ_bell2 = QuantumCircuit(2)\n",
    "circ_bell2.h(0) \n",
    "circ_bell2.cx(0,1) \n",
    "\n",
    "backend = Aer.get_backend('statevector_simulator')\n",
    "job = execute(circ_bell2, backend)\n",
    "\n",
    "state = job.result().get_statevector()\n",
    "\n",
    "for i in range(4):\n",
    "    s = format(i,\"b\") # Convert to binary\n",
    "    s = (2-len(s))*\"0\"+s # Prepend zeroes if needed\n",
    "    print(\"Amplitude of\",s,\"=\",state[i])\n",
    "    \n",
    "print()\n",
    "\n",
    "for i in range(4):\n",
    "    s = format(i,\"b\") # Convert to binary\n",
    "    s = (2-len(s))*\"0\"+s # Prepend zeroes if needed\n",
    "    print(\"Probability of\",s,\"=\",abs(state[i])**2)\n"
   ]
  },
  {
   "cell_type": "markdown",
   "metadata": {},
   "source": [
    "We are going to run the circuit on an actual computer. To reduce the wait, we would like to execute on the computer with the fewest pending jobs. We can check their properties, after loading our account, with the order *backend_overview()*"
   ]
  },
  {
   "cell_type": "code",
   "execution_count": 4,
   "metadata": {},
   "outputs": [
    {
     "name": "stderr",
     "output_type": "stream",
     "text": [
      "/opt/conda/lib/python3.7/site-packages/qiskit/providers/ibmq/ibmqfactory.py:192: UserWarning: Timestamps in IBMQ backend properties, jobs, and job results are all now in local time instead of UTC.\n",
      "  warnings.warn('Timestamps in IBMQ backend properties, jobs, and job results '\n"
     ]
    },
    {
     "name": "stdout",
     "output_type": "stream",
     "text": [
      "ibmq_santiago                ibmq_athens                  ibmq_armonk\n",
      "-------------                -----------                  -----------\n",
      "Num. Qubits:  5              Num. Qubits:  5              Num. Qubits:  1\n",
      "Pending Jobs: 17             Pending Jobs: 14             Pending Jobs: 2\n",
      "Least busy:   False          Least busy:   False          Least busy:   True\n",
      "Operational:  True           Operational:  True           Operational:  True\n",
      "Avg. T1:      132.3          Avg. T1:      77.4           Avg. T1:      166.7\n",
      "Avg. T2:      106.7          Avg. T2:      90.1           Avg. T2:      199.5\n",
      "\n",
      "\n",
      "\n",
      "ibmq_valencia                ibmq_ourense                 ibmq_vigo\n",
      "-------------                ------------                 ---------\n",
      "Num. Qubits:  5              Num. Qubits:  5              Num. Qubits:  5\n",
      "Pending Jobs: 482            Pending Jobs: 477            Pending Jobs: 906\n",
      "Least busy:   False          Least busy:   False          Least busy:   False\n",
      "Operational:  True           Operational:  True           Operational:  True\n",
      "Avg. T1:      117.3          Avg. T1:      106.9          Avg. T1:      94.7\n",
      "Avg. T2:      69.6           Avg. T2:      53.5           Avg. T2:      85.5\n",
      "\n",
      "\n",
      "\n",
      "ibmq_16_melbourne            ibmqx2\n",
      "-----------------            ------\n",
      "Num. Qubits:  15             Num. Qubits:  5\n",
      "Pending Jobs: 2196           Pending Jobs: 1792\n",
      "Least busy:   False          Least busy:   False\n",
      "Operational:  True           Operational:  True\n",
      "Avg. T1:      54.4           Avg. T1:      60.6\n",
      "Avg. T2:      56.9           Avg. T2:      41.0\n",
      "\n",
      "\n",
      "\n"
     ]
    }
   ],
   "source": [
    "provider = IBMQ.load_account()\n",
    "backend_overview()"
   ]
  },
  {
   "cell_type": "markdown",
   "metadata": {},
   "source": [
    "We can also access more details of a particular computer with the following command"
   ]
  },
  {
   "cell_type": "code",
   "execution_count": 5,
   "metadata": {
    "scrolled": true
   },
   "outputs": [
    {
     "name": "stdout",
     "output_type": "stream",
     "text": [
      "ibmq_ourense\n",
      "============\n",
      "Configuration\n",
      "-------------\n",
      "    n_qubits: 5\n",
      "    operational: True\n",
      "    status_msg: active\n",
      "    pending_jobs: 477\n",
      "    backend_version: 1.3.0\n",
      "    basis_gates: ['id', 'u1', 'u2', 'u3', 'cx']\n",
      "    local: False\n",
      "    simulator: False\n",
      "    backend_name: ibmq_ourense\n",
      "    supported_instructions: ['u1', 'u2', 'u3', 'cx', 'id', 'x', 'measure', 'delay']\n",
      "    meas_map: [[0, 1, 2, 3, 4]]\n",
      "    description: 5 qubit device Ourense\n",
      "    coupling_map: [[0, 1], [1, 0], [1, 2], [1, 3], [2, 1], [3, 1], [3, 4], [4, 3]]\n",
      "    dynamic_reprate_enabled: False\n",
      "    quantum_volume: 8\n",
      "    memory: True\n",
      "    n_registers: 1\n",
      "    credits_required: True\n",
      "    sample_name: Giraffe\n",
      "    open_pulse: False\n",
      "    online_date: 2019-07-03 04:00:00+00:00\n",
      "    url: None\n",
      "    allow_q_object: True\n",
      "    max_experiments: 75\n",
      "    max_shots: 8192\n",
      "    conditional: False\n",
      "    allow_object_storage: True\n",
      "\n",
      "Qubits [Name / Freq / T1 / T2 / U1 err / U2 err / U3 err / Readout err]\n",
      "-----------------------------------------------------------------------\n",
      "    Q0 / 4.82032 GHz / 79.17618 us / 59.0848 us / 0 / 0.00049 / 0.00097 / -0.31095\n",
      "    Q1 / 4.89017 GHz / 92.43976 us / 28.60503 us / 0 / 0.00039 / 0.00077 / -0.30678\n",
      "    Q2 / 4.71656 GHz / 140.6097 us / 124.22126 us / 0 / 0.0002 / 0.0004 / -0.31471\n",
      "    Q3 / 4.78907 GHz / 147.82212 us / 31.17096 us / 0 / 0.0004 / 0.00081 / -0.31109\n",
      "    Q4 / 5.0238 GHz / 74.48148 us / 24.31517 us / 0 / 0.00034 / 0.00069 / -0.3071\n",
      "\n",
      "Multi-Qubit Gates [Name / Type / Gate Error]\n",
      "--------------------------------------------\n",
      "    cx0_1 / cx / 0.00828\n",
      "    cx1_0 / cx / 0.00828\n",
      "    cx1_2 / cx / 0.00744\n",
      "    cx1_3 / cx / 0.01194\n",
      "    cx2_1 / cx / 0.00744\n",
      "    cx3_1 / cx / 0.01194\n",
      "    cx3_4 / cx / 0.00818\n",
      "    cx4_3 / cx / 0.00818\n"
     ]
    }
   ],
   "source": [
    "backend_monitor(provider.get_backend(\"ibmq_ourense\"))"
   ]
  },
  {
   "cell_type": "markdown",
   "metadata": {},
   "source": [
    "We are going to select the least busy device and run our circuit on it"
   ]
  },
  {
   "cell_type": "code",
   "execution_count": 6,
   "metadata": {
    "scrolled": true
   },
   "outputs": [
    {
     "name": "stdout",
     "output_type": "stream",
     "text": [
      "We are executing on... ibmq_athens\n",
      "It has 14 pending jobs\n",
      "Job Status: job has successfully run\n"
     ]
    }
   ],
   "source": [
    "from qiskit.providers.ibmq import least_busy\n",
    "\n",
    "# We execute on the least busy device (among the actual quantum computers)\n",
    "backend = least_busy(provider.backends(operational = True, simulator=False, status_msg='active',\n",
    "                                       filters=lambda x: x.configuration().n_qubits > 1)) \n",
    "print(\"We are executing on...\",backend)\n",
    "print(\"It has\",backend.status().pending_jobs,\"pending jobs\")\n",
    "job_exp = execute(circ_bell, backend=backend)\n",
    "job_monitor(job_exp)"
   ]
  },
  {
   "cell_type": "markdown",
   "metadata": {},
   "source": [
    "Once that we have run the job, we draw the results and compare them to the one obtained by the simulator"
   ]
  },
  {
   "cell_type": "code",
   "execution_count": 7,
   "metadata": {},
   "outputs": [
    {
     "data": {
      "image/png": "[encoded data removed]",
      "text/plain": [
       "<Figure size 504x360 with 1 Axes>"
      ]
     },
     "execution_count": 7,
     "metadata": {},
     "output_type": "execute_result"
    }
   ],
   "source": [
    "result_exp = job_exp.result()\n",
    "counts_exp = result_exp.get_counts(circ_bell)\n",
    "plot_histogram([counts_exp,counts], legend=['Device', 'Simulator'])"
   ]
  },
  {
   "cell_type": "code",
   "execution_count": null,
   "metadata": {},
   "outputs": [],
   "source": []
  }
 ],
 "metadata": {
  "kernelspec": {
   "display_name": "Python 3",
   "language": "python",
   "name": "python3"
  },
  "language_info": {
   "codemirror_mode": {
    "name": "ipython",
    "version": 3
   },
   "file_extension": ".py",
   "mimetype": "text/x-python",
   "name": "python",
   "nbconvert_exporter": "python",
   "pygments_lexer": "ipython3",
   "version": "3.7.8"
  }
 },
 "nbformat": 4,
 "nbformat_minor": 4
}
