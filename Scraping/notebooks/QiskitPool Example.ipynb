{
 "cells": [
  {
   "cell_type": "markdown",
   "id": "tribal-check",
   "metadata": {},
   "source": [
    "### Imports ###\n",
    "The Qiskit job watcher magic string is useful, and surprisingly poorly documented\n"
   ]
  },
  {
   "cell_type": "code",
   "execution_count": null,
   "id": "lesser-envelope",
   "metadata": {},
   "outputs": [],
   "source": [
    "import time\n",
    "\n",
    "import qiskitpool\n",
    "\n",
    "from qiskit import IBMQ, QuantumCircuit\n",
    "import qiskit.tools.jupyter\n",
    "\n",
    "IBMQ.load_account()\n",
    "provider = IBMQ.get_provider(group='open', project='main')\n",
    "\n",
    "%qiskit_job_watcher"
   ]
  },
  {
   "cell_type": "markdown",
   "id": "environmental-fitting",
   "metadata": {},
   "source": [
    "## Single circuit trial"
   ]
  },
  {
   "cell_type": "code",
   "execution_count": null,
   "id": "ceramic-stephen",
   "metadata": {},
   "outputs": [],
   "source": [
    "pool = qiskitpool.QPool(provider)\n",
    "backend = provider.get_backend('simulator_statevector')\n",
    "\n",
    "n_shots = 10\n",
    "\n",
    "circ = QuantumCircuit(1, 1)\n",
    "circ.x(0)\n",
    "circ.measure(0, 0)\n",
    "\n",
    "job = pool(circ, backend, shots=n_shots)"
   ]
  },
  {
   "cell_type": "markdown",
   "id": "binary-special",
   "metadata": {},
   "source": [
    "Print the pool to see what it's up to"
   ]
  },
  {
   "cell_type": "code",
   "execution_count": null,
   "id": "balanced-export",
   "metadata": {},
   "outputs": [],
   "source": [
    "pool"
   ]
  },
  {
   "cell_type": "code",
   "execution_count": null,
   "id": "allied-burning",
   "metadata": {},
   "outputs": [],
   "source": [
    "while not job.poll():\n",
    "    time.sleep(2)\n",
    "    \n",
    "\n",
    "assert(job.result().get_counts()['1'] == n_shots)"
   ]
  },
  {
   "cell_type": "markdown",
   "id": "mature-central",
   "metadata": {},
   "source": [
    "## 20 Circuits trial\n",
    "You can increase this, but the IBMQ backend may throttle your job submissions"
   ]
  },
  {
   "cell_type": "code",
   "execution_count": null,
   "id": "psychological-indonesia",
   "metadata": {},
   "outputs": [],
   "source": [
    "pool = qiskitpool.QPool(provider)\n",
    "backend = provider.get_backend('simulator_statevector')\n",
    "\n",
    "n_shots = 10\n",
    "n_rounds = 20\n",
    "\n",
    "circ = QuantumCircuit(1, 1)\n",
    "circ.x(0)\n",
    "circ.measure(0, 0)\n",
    "\n",
    "# Create jobs\n",
    "jobs = [pool(circ, backend, shots=n_shots) for i in range(n_rounds)]"
   ]
  },
  {
   "cell_type": "markdown",
   "id": "spatial-letters",
   "metadata": {},
   "source": [
    "### Print the pool while it is running to see what it's up to"
   ]
  },
  {
   "cell_type": "code",
   "execution_count": null,
   "id": "expired-tsunami",
   "metadata": {},
   "outputs": [],
   "source": [
    "print(pool)"
   ]
  },
  {
   "cell_type": "markdown",
   "id": "planned-norman",
   "metadata": {},
   "source": [
    "Wait for the jobs to finish and then check the results"
   ]
  },
  {
   "cell_type": "code",
   "execution_count": null,
   "id": "funny-waste",
   "metadata": {},
   "outputs": [],
   "source": [
    "# Wait for jobs to finish\n",
    "n_complete = 0\n",
    "while n_complete < n_rounds - 1:\n",
    "    n_complete = 0\n",
    "    for job in jobs:\n",
    "        if job.poll():\n",
    "            n_complete += 1\n",
    "\n",
    "for job in jobs:\n",
    "    assert(job.poll())\n",
    "    assert(job.result().get_counts()['1'] == n_shots)"
   ]
  },
  {
   "cell_type": "markdown",
   "id": "annual-underwear",
   "metadata": {},
   "source": [
    "Get the list of jobs run by that pool"
   ]
  },
  {
   "cell_type": "code",
   "execution_count": null,
   "id": "final-bread",
   "metadata": {},
   "outputs": [],
   "source": [
    "pool['simulator_statevector'].finished_jobs"
   ]
  },
  {
   "cell_type": "markdown",
   "id": "billion-camping",
   "metadata": {},
   "source": [
    "Get a particular job by the order in which the jobs were queued.\n",
    "This is useful in the event that you lose the reference to a job."
   ]
  },
  {
   "cell_type": "code",
   "execution_count": null,
   "id": "adolescent-hughes",
   "metadata": {},
   "outputs": [],
   "source": [
    "pool['simulator_statevector'][0]"
   ]
  },
  {
   "cell_type": "markdown",
   "id": "inside-olympus",
   "metadata": {},
   "source": [
    "### Safely shut down the pool"
   ]
  },
  {
   "cell_type": "code",
   "execution_count": null,
   "id": "reflected-packing",
   "metadata": {},
   "outputs": [],
   "source": [
    "pool.join()"
   ]
  }
 ],
 "metadata": {
  "kernelspec": {
   "display_name": "Python 3",
   "language": "python",
   "name": "python3"
  },
  "language_info": {
   "codemirror_mode": {
    "name": "ipython",
    "version": 3
   },
   "file_extension": ".py",
   "mimetype": "text/x-python",
   "name": "python",
   "nbconvert_exporter": "python",
   "pygments_lexer": "ipython3",
   "version": "3.8.3"
  }
 },
 "nbformat": 4,
 "nbformat_minor": 5
}
