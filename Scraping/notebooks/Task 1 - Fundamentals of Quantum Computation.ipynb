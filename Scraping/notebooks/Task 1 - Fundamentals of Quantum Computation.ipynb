{
 "cells": [
  {
   "cell_type": "markdown",
   "metadata": {},
   "source": [
    "# Task One : Fundamentals of Quantum Computation"
   ]
  },
  {
   "cell_type": "markdown",
   "metadata": {},
   "source": [
    "## Basic Arithmetic Operations & Complex Numbers"
   ]
  },
  {
   "cell_type": "code",
   "execution_count": 1,
   "metadata": {},
   "outputs": [
    {
     "name": "stdout",
     "output_type": "stream",
     "text": [
      "7\n"
     ]
    }
   ],
   "source": [
    "#Adding Two Numbers\n",
    "x=2+5\n",
    "print(x)"
   ]
  },
  {
   "cell_type": "code",
   "execution_count": 2,
   "metadata": {},
   "outputs": [
    {
     "name": "stdout",
     "output_type": "stream",
     "text": [
      "3\n"
     ]
    }
   ],
   "source": [
    "#Subtracting Two Numbers\n",
    "y=8-5\n",
    "print(y)"
   ]
  },
  {
   "cell_type": "code",
   "execution_count": 3,
   "metadata": {},
   "outputs": [
    {
     "name": "stdout",
     "output_type": "stream",
     "text": [
      "15\n"
     ]
    }
   ],
   "source": [
    "#Multiplying Two Numbers\n",
    "a=3*5\n",
    "print(a)"
   ]
  },
  {
   "cell_type": "code",
   "execution_count": 4,
   "metadata": {},
   "outputs": [
    {
     "name": "stdout",
     "output_type": "stream",
     "text": [
      "2.0\n"
     ]
    }
   ],
   "source": [
    "#Dividing Two Numbers\n",
    "b=8/4\n",
    "print(b)"
   ]
  },
  {
   "cell_type": "code",
   "execution_count": 5,
   "metadata": {},
   "outputs": [
    {
     "name": "stdout",
     "output_type": "stream",
     "text": [
      "1\n"
     ]
    }
   ],
   "source": [
    "#Calculate the Remainder\n",
    "r=4%3\n",
    "print(r)"
   ]
  },
  {
   "cell_type": "code",
   "execution_count": 6,
   "metadata": {},
   "outputs": [
    {
     "name": "stdout",
     "output_type": "stream",
     "text": [
      "125\n"
     ]
    }
   ],
   "source": [
    "#Exponent of a Number\n",
    "e=5**3\n",
    "print(e)"
   ]
  },
  {
   "cell_type": "markdown",
   "metadata": {},
   "source": [
    "Complex numbers are always of the form\n",
    "\n",
    "\\begin{align}\n",
    "\\alpha = a + bi\n",
    "\\end{align}"
   ]
  },
  {
   "cell_type": "code",
   "execution_count": 7,
   "metadata": {},
   "outputs": [
    {
     "name": "stdout",
     "output_type": "stream",
     "text": [
      "(-1+0j)\n"
     ]
    }
   ],
   "source": [
    "c1=1j*1j\n",
    "print(c1)"
   ]
  },
  {
   "cell_type": "code",
   "execution_count": 8,
   "metadata": {},
   "outputs": [],
   "source": [
    "#Initialize two complex numbers\n",
    "z=4+8j\n",
    "w=5-5j"
   ]
  },
  {
   "cell_type": "code",
   "execution_count": 9,
   "metadata": {},
   "outputs": [],
   "source": [
    "import numpy as np"
   ]
  },
  {
   "cell_type": "code",
   "execution_count": 10,
   "metadata": {},
   "outputs": [
    {
     "name": "stdout",
     "output_type": "stream",
     "text": [
      "Real part of z is: 4.0\n"
     ]
    }
   ],
   "source": [
    "print(\"Real part of z is:\", np.real(z))"
   ]
  },
  {
   "cell_type": "code",
   "execution_count": 11,
   "metadata": {},
   "outputs": [
    {
     "name": "stdout",
     "output_type": "stream",
     "text": [
      "Imaginary part of w is: -5.0\n"
     ]
    }
   ],
   "source": [
    "print(\"Imaginary part of w is:\", np.imag(w))"
   ]
  },
  {
   "cell_type": "code",
   "execution_count": 12,
   "metadata": {},
   "outputs": [
    {
     "name": "stdout",
     "output_type": "stream",
     "text": [
      "(9+3j)\n"
     ]
    }
   ],
   "source": [
    "#Add two complex numbers\n",
    "add=z+w\n",
    "print(add)"
   ]
  },
  {
   "cell_type": "code",
   "execution_count": 13,
   "metadata": {},
   "outputs": [
    {
     "name": "stdout",
     "output_type": "stream",
     "text": [
      "(-1+13j)\n"
     ]
    }
   ],
   "source": [
    "#Subtract two complex numbers\n",
    "sub=z-w\n",
    "print(sub)"
   ]
  },
  {
   "cell_type": "markdown",
   "metadata": {},
   "source": [
    "## Complex conjugate"
   ]
  },
  {
   "cell_type": "code",
   "execution_count": 14,
   "metadata": {},
   "outputs": [
    {
     "name": "stdout",
     "output_type": "stream",
     "text": [
      "(5-5j)\n",
      "Complex conjugate of w is: (5+5j)\n"
     ]
    }
   ],
   "source": [
    "#complex conjugate of w\n",
    "print(w)\n",
    "print(\"Complex conjugate of w is:\", np.conj(w))"
   ]
  },
  {
   "cell_type": "markdown",
   "metadata": {},
   "source": [
    "## Norms/Absolute Values\n",
    "\n",
    "\n",
    "\n",
    "\\begin{align} ||z|| &= \\sqrt{zz^*} = \\sqrt{|z|^2},\\\\ ||w|| &= \\sqrt{ww^*} = \\sqrt{|w|^2}, \\end{align} "
   ]
  },
  {
   "cell_type": "code",
   "execution_count": 15,
   "metadata": {},
   "outputs": [
    {
     "name": "stdout",
     "output_type": "stream",
     "text": [
      "(4+8j)\n",
      "Norm/Absolute value of z is: 8.94427190999916\n",
      "(5-5j)\n",
      "Norm/Absolute value of w is: 7.0710678118654755\n"
     ]
    }
   ],
   "source": [
    "#Calculating absolute values for z and w\n",
    "print(z)\n",
    "print(\"Norm/Absolute value of z is:\", np.abs(z))\n",
    "print(w)\n",
    "print(\"Norm/Absolute value of w is:\", np.abs(w))"
   ]
  },
  {
   "cell_type": "markdown",
   "metadata": {},
   "source": [
    "## Row Vectors, Column Vectors, and Bra-Ket Notation"
   ]
  },
  {
   "cell_type": "markdown",
   "metadata": {},
   "source": [
    "\\begin{align} \\text{Column Vector:} \\ \\begin{pmatrix}\n",
    "a_1 \\\\ a_2 \\\\ \\vdots \\\\ a_n\n",
    "\\end{pmatrix} \n",
    "\\quad \\quad \\text{Row Vector:} \\ \\begin{pmatrix}\n",
    "a_1, & a_2, & \\cdots, & a_n\n",
    "\\end{pmatrix} \\end{align}"
   ]
  },
  {
   "cell_type": "code",
   "execution_count": 16,
   "metadata": {},
   "outputs": [
    {
     "name": "stdout",
     "output_type": "stream",
     "text": [
      "[1.+0.j 2.+2.j 3.+0.j]\n"
     ]
    }
   ],
   "source": [
    "#Initialize a row vector\n",
    "row_vector=np.array([1, 2+2j, 3])\n",
    "print(row_vector)"
   ]
  },
  {
   "cell_type": "code",
   "execution_count": 17,
   "metadata": {},
   "outputs": [
    {
     "name": "stdout",
     "output_type": "stream",
     "text": [
      "[[1.+0.j]\n",
      " [2.+2.j]\n",
      " [0.+3.j]]\n"
     ]
    }
   ],
   "source": [
    "#Initialize a column vector\n",
    "column_vector=np.array([[1],[2+2j],[3j]])\n",
    "print(column_vector)"
   ]
  },
  {
   "cell_type": "markdown",
   "metadata": {},
   "source": [
    "Row vectors in quantum mechanics are also called **bra-vectors**, and are denoted as follows:\n",
    "\n",
    "\\begin{align} \\langle A| = \\begin{pmatrix}\n",
    "a_1, & a_2, \\cdots, & a_n\n",
    "\\end{pmatrix} \\end{align}\n",
    "\n",
    "Column vectors are also called **ket-vectors** in quantum mechanics denoted as follows:\n",
    "\n",
    "\\begin{align} |B\\rangle = \\begin{pmatrix}\n",
    "b_1 \\\\ b_2 \\\\ \\vdots \\\\ b_n\n",
    "\\end{pmatrix} \\end{align}\n",
    "\n",
    "In general, if we have a column vector, i.e. a ket-vector:\n",
    "\n",
    "\\begin{align} |A\\rangle = \\begin{pmatrix}\n",
    "a_1 \\\\ a_2 \\\\ \\vdots \\\\ a_n\n",
    "\\end{pmatrix} \\end{align}\n",
    "\n",
    "the corresponding bra-vector:\n",
    "\n",
    "\\begin{align} \\langle A| = \\begin{pmatrix}\n",
    "a_1^*, & a_2^*, & \\cdots, & a_n^*\n",
    "\\end{pmatrix} \\end{align}\n"
   ]
  },
  {
   "cell_type": "markdown",
   "metadata": {},
   "source": [
    "## Inner Product\n",
    "\n",
    "\\begin{align} \\langle A| = \\begin{pmatrix}\n",
    "a_1, & a_2, & \\cdots, & a_n\n",
    "\\end{pmatrix}, \\quad \\quad\n",
    "|B\\rangle = \\begin{pmatrix}\n",
    "b_1 \\\\ b_2 \\\\ \\vdots \\\\ b_n\n",
    "\\end{pmatrix} \\end{align}\n",
    "\n",
    "Taking the inner product of $\\langle A|$ and $|B\\rangle$ gives the following:\n",
    "\n",
    "\\begin{align} \\langle A| B \\rangle &= \\begin{pmatrix} \n",
    "a_1, & a_2, & \\cdots, & a_n\n",
    "\\end{pmatrix}\n",
    "\\begin{pmatrix}\n",
    "b_1 \\\\ b_2 \\\\ \\vdots \\\\ b_n\n",
    "\\end{pmatrix}\\\\\n",
    "&= \n",
    "a_1b_1 + a_2b_2 + \\cdots + a_nb_n\\\\\n",
    "&= \\sum_{i=1}^n a_ib_i\n",
    "\\end{align}"
   ]
  },
  {
   "cell_type": "code",
   "execution_count": 18,
   "metadata": {},
   "outputs": [],
   "source": [
    "# Define the 4x1 matrix version of a column vector \n",
    "A=np.array([[1],[4-5j],[5],[-3]])"
   ]
  },
  {
   "cell_type": "code",
   "execution_count": 19,
   "metadata": {},
   "outputs": [],
   "source": [
    "# Define B as a 1x4 matrix\n",
    "B=np.array([1, 5, -4j, -1j])"
   ]
  },
  {
   "cell_type": "code",
   "execution_count": 20,
   "metadata": {},
   "outputs": [
    {
     "data": {
      "text/plain": [
       "array([21.-42.j])"
      ]
     },
     "execution_count": 20,
     "metadata": {},
     "output_type": "execute_result"
    }
   ],
   "source": [
    "# Compute <B|A>\n",
    "np.dot(B,A)"
   ]
  },
  {
   "cell_type": "markdown",
   "metadata": {},
   "source": [
    "## Matrices"
   ]
  },
  {
   "cell_type": "markdown",
   "metadata": {},
   "source": [
    "\\begin{align}\n",
    "M = \\begin{pmatrix}\n",
    "2-i & -3 \\\\\n",
    "-5i & 2\n",
    "\\end{pmatrix}\n",
    "\\end{align}"
   ]
  },
  {
   "cell_type": "code",
   "execution_count": 23,
   "metadata": {},
   "outputs": [
    {
     "name": "stdout",
     "output_type": "stream",
     "text": [
      "[[ 2.-1.j -3.+0.j]\n",
      " [-0.-5.j  2.+0.j]]\n"
     ]
    }
   ],
   "source": [
    "M=np.array([[2-1j, -3], [-5j, 2]])\n",
    "#Note how the brackets are placed!\n",
    "print(M)"
   ]
  },
  {
   "cell_type": "code",
   "execution_count": 24,
   "metadata": {},
   "outputs": [
    {
     "name": "stdout",
     "output_type": "stream",
     "text": [
      "[[ 2.-1.j  3.+0.j]\n",
      " [-0.-5.j  2.+0.j]]\n"
     ]
    }
   ],
   "source": [
    "M=np.matrix([[2-1j, 3],[-5j, 2]])\n",
    "print(M)"
   ]
  },
  {
   "cell_type": "markdown",
   "metadata": {},
   "source": [
    "Hermitian conjugates are given by taking the conjugate transpose of the matrix"
   ]
  },
  {
   "cell_type": "code",
   "execution_count": 25,
   "metadata": {},
   "outputs": [
    {
     "name": "stdout",
     "output_type": "stream",
     "text": [
      "[[ 2.+1.j -0.+5.j]\n",
      " [ 3.-0.j  2.-0.j]]\n"
     ]
    }
   ],
   "source": [
    "#To calculate hermitian matrix simple follow: <your matrix>.H \n",
    "hermitian = M.H\n",
    "print(hermitian)"
   ]
  },
  {
   "cell_type": "markdown",
   "metadata": {},
   "source": [
    "## Tensor Products of Matrices"
   ]
  },
  {
   "cell_type": "markdown",
   "metadata": {},
   "source": [
    "\\begin{align}\n",
    "\\begin{pmatrix}\n",
    "a & b \\\\\n",
    "c & d\n",
    "\\end{pmatrix} \\otimes \n",
    "\\begin{pmatrix}\n",
    "x & y \\\\\n",
    "z & w\n",
    "\\end{pmatrix} = \n",
    "\\begin{pmatrix}\n",
    "a \\begin{pmatrix}\n",
    "x & y \\\\\n",
    "z & w\n",
    "\\end{pmatrix} & b \\begin{pmatrix}\n",
    "x & y \\\\\n",
    "z & w\n",
    "\\end{pmatrix} \\\\\n",
    "c \\begin{pmatrix}\n",
    "x & y \\\\\n",
    "z & w\n",
    "\\end{pmatrix} & d \\begin{pmatrix}\n",
    "x & y \\\\\n",
    "z & w\n",
    "\\end{pmatrix}\n",
    "\\end{pmatrix} = \n",
    "\\begin{pmatrix}\n",
    "ax & ay & bx & by \\\\\n",
    "az & aw & bz & bw \\\\\n",
    "cx & cy & dx & dy \\\\\n",
    "cz & cw & dz & dw\n",
    "\\end{pmatrix}\n",
    "\\end{align}"
   ]
  },
  {
   "cell_type": "code",
   "execution_count": 28,
   "metadata": {},
   "outputs": [
    {
     "data": {
      "text/plain": [
       "matrix([[  3. -4.j,   6. -3.j,   6. -3.j,   9. +0.j],\n",
       "        [ -5.-10.j,   4. -2.j,   0.-15.j,   6. +0.j],\n",
       "        [ -5.-10.j,   0.-15.j,   4. -2.j,   6. +0.j],\n",
       "        [-25. +0.j,   0.-10.j,   0.-10.j,   4. +0.j]])"
      ]
     },
     "execution_count": 28,
     "metadata": {},
     "output_type": "execute_result"
    }
   ],
   "source": [
    "#Use the np.kron method \n",
    "np.kron(M,M)"
   ]
  },
  {
   "cell_type": "markdown",
   "metadata": {},
   "source": [
    "# That's all for Task 1\n",
    "## Thank You!"
   ]
  },
  {
   "cell_type": "markdown",
   "metadata": {},
   "source": [
    "Where can you find me?\n",
    "\n",
    "LinkedIn : https://www.linkedin.com/in/arya--shah/\n",
    "\n",
    "Twitter : https://twitter.com/aryashah2k\n",
    "\n",
    "Github : https://github.com/aryashah2k\n",
    "\n",
    "If you Like My Work, Follow me/ Connect with me on these platforms.\n",
    "Show some Love ❤️ Sponsor me on Github!"
   ]
  },
  {
   "cell_type": "code",
   "execution_count": null,
   "metadata": {},
   "outputs": [],
   "source": []
  }
 ],
 "metadata": {
  "kernelspec": {
   "display_name": "Python 3",
   "language": "python",
   "name": "python3"
  },
  "language_info": {
   "codemirror_mode": {
    "name": "ipython",
    "version": 3
   },
   "file_extension": ".py",
   "mimetype": "text/x-python",
   "name": "python",
   "nbconvert_exporter": "python",
   "pygments_lexer": "ipython3",
   "version": "3.7.4"
  }
 },
 "nbformat": 4,
 "nbformat_minor": 4
}
