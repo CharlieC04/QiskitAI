{
 "cells": [
  {
   "cell_type": "code",
   "execution_count": 1,
   "id": "09ecb7ee",
   "metadata": {},
   "outputs": [],
   "source": [
    "from qiskit import IBMQ, Aer\n",
    "from qiskit.providers.ibmq import least_busy\n",
    "from qiskit import QuantumCircuit, transpile, assemble\n",
    "from qiskit.tools.monitor import job_monitor\n",
    "import matplotlib as mpl\n",
    "import numpy as np\n",
    "# import basic plot tools\n",
    "from qiskit.visualization import plot_histogram"
   ]
  },
  {
   "cell_type": "markdown",
   "id": "42697ff4",
   "metadata": {},
   "source": [
    "**comment : if the input unknown function has all zero's or all one's i.e. it is constant function then the output will be all 0\n",
    "    and if the unkownw function has combination of zero's and ones' then it will we balanced and the output will be all 1**"
   ]
  },
  {
   "cell_type": "code",
   "execution_count": 2,
   "id": "3caf09a2",
   "metadata": {},
   "outputs": [],
   "source": [
    "# length of the n-bit string\n",
    "n = 4"
   ]
  },
  {
   "cell_type": "markdown",
   "id": "9ef17362",
   "metadata": {},
   "source": [
    "# for constant oracle "
   ]
  },
  {
   "cell_type": "code",
   "execution_count": 3,
   "id": "65d4f4ec",
   "metadata": {},
   "outputs": [],
   "source": [
    "constant_oracle = QuantumCircuit(n+1)\n",
    "constant_oracle.clear()\n",
    "\n",
    "output = np.random.randint(2) # random no. 0/1 as output\n",
    "\n",
    "if output == 1:\n",
    "    constant_oracle.x(n)\n"
   ]
  },
  {
   "cell_type": "markdown",
   "id": "907fcd1c",
   "metadata": {},
   "source": [
    "# for balance oracle"
   ]
  },
  {
   "cell_type": "code",
   "execution_count": 5,
   "id": "683ece59",
   "metadata": {},
   "outputs": [
    {
     "data": {
      "text/plain": [
       "<qiskit.circuit.instructionset.InstructionSet at 0x1dd9b4b6a30>"
      ]
     },
     "execution_count": 5,
     "metadata": {},
     "output_type": "execute_result"
    }
   ],
   "source": [
    "\n",
    "balance_oracle = QuantumCircuit(n+1)\n",
    "balance_oracle.clear()\n",
    "\n",
    "b_str = \"1000\"\n",
    "\n",
    "# implementing x-gates\n",
    "\n",
    "for i in range(len(b_str)):\n",
    "    if b_str[i] == '1':\n",
    "        balance_oracle.x(i)\n",
    "\n",
    "\n",
    "balance_oracle.barrier()\n",
    "\n",
    "# implementing cnot gates\n",
    "\n",
    "for qubit in range(n):\n",
    "    balance_oracle.cx(qubit, n)\n",
    "\n",
    "balance_oracle.barrier()\n",
    "balance_oracle.draw()\n",
    "        \n",
    "# implemneting x-gates\n",
    "\n",
    "for i in range (len(b_str)):\n",
    "    if b_str[i] == '1':\n",
    "        balance_oracle.x(i)\n",
    "\n",
    "balance_oracle.barrier()\n",
    "        \n",
    "        \n"
   ]
  },
  {
   "cell_type": "code",
   "execution_count": 7,
   "id": "50ba5d47",
   "metadata": {},
   "outputs": [
    {
     "data": {
      "image/png": "[encoded data removed]",
      "text/plain": [
       "<Figure size 568.197x385.28 with 1 Axes>"
      ]
     },
     "execution_count": 7,
     "metadata": {},
     "output_type": "execute_result"
    }
   ],
   "source": [
    "dj_circuit = QuantumCircuit(n+1, n)\n",
    "\n",
    "# Apply H-gates\n",
    "for qubit in range(n):\n",
    "    dj_circuit.h(qubit)\n",
    "\n",
    "# Put qubit in state |->\n",
    "dj_circuit.x(n)\n",
    "dj_circuit.h(n)\n",
    "\n",
    "# Add oracle\n",
    "dj_circuit = dj_circuit.compose(constant_oracle)\n",
    "\n",
    "# Repeat H-gates\n",
    "for qubit in range(n):\n",
    "    dj_circuit.h(qubit)\n",
    "dj_circuit.barrier()\n",
    "\n",
    "# Measure\n",
    "for i in range(n):\n",
    "    dj_circuit.measure(i, i)\n",
    "\n",
    "dj_circuit.draw('mpl')"
   ]
  },
  {
   "cell_type": "code",
   "execution_count": 8,
   "id": "faa95a5d",
   "metadata": {},
   "outputs": [
    {
     "data": {
      "image/png": "[encoded data removed]",
      "text/plain": [
       "<Figure size 504x360 with 1 Axes>"
      ]
     },
     "execution_count": 8,
     "metadata": {},
     "output_type": "execute_result"
    }
   ],
   "source": [
    "aer_sim = Aer.get_backend('aer_simulator')   #Local Simulator\n",
    "shots = 1024                                 #No. of times the circuit is running\n",
    "qobj = assemble(dj_circuit, shots = shots) \n",
    "results = aer_sim.run(qobj).result()\n",
    "counts = results.get_counts()\n",
    "plot_histogram(counts) "
   ]
  },
  {
   "cell_type": "markdown",
   "id": "589267c0",
   "metadata": {},
   "source": [
    "# Running on Quantum Computer"
   ]
  },
  {
   "cell_type": "code",
   "execution_count": null,
   "id": "8b3ae836",
   "metadata": {},
   "outputs": [],
   "source": []
  }
 ],
 "metadata": {
  "kernelspec": {
   "display_name": "Python 3",
   "language": "python",
   "name": "python3"
  },
  "language_info": {
   "codemirror_mode": {
    "name": "ipython",
    "version": 3
   },
   "file_extension": ".py",
   "mimetype": "text/x-python",
   "name": "python",
   "nbconvert_exporter": "python",
   "pygments_lexer": "ipython3",
   "version": "3.8.8"
  }
 },
 "nbformat": 4,
 "nbformat_minor": 5
}
