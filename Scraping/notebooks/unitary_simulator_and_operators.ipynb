{
 "cells": [
  {
   "cell_type": "markdown",
   "id": "0ae8acd9",
   "metadata": {},
   "source": [
    "# unitary_simulator and operators\n",
    "\n",
    "Here, we will give a brief overview of how to use `unitary_simulator` to define operators and also a few properties of the `Operator` class"
   ]
  },
  {
   "cell_type": "code",
   "execution_count": 1,
   "id": "514a4c0a",
   "metadata": {},
   "outputs": [],
   "source": [
    "import numpy as np\n",
    "\n",
    "from qiskit import QuantumCircuit, BasicAer, execute, Aer\n",
    "from qiskit.quantum_info import Operator, DensityMatrix, Pauli\n",
    "from qiskit.extensions import YGate\n",
    "from qiskit.visualization import plot_histogram"
   ]
  },
  {
   "cell_type": "markdown",
   "id": "571a36c2",
   "metadata": {},
   "source": [
    "## Creating operators with operator class\n",
    "\n",
    "The `Operator` class is used in Qiskit to represent matrix operators acting on a quantum system: https://qiskit.org/documentation/tutorials/circuits_advanced/02_operators_overview.html\n",
    "\n",
    "First, to create an operator object let us initialize it with a list. On that operator we may apply:\n",
    "\n",
    "* `Operator.data`: To access the underlying Numpy array\n",
    "\n",
    "* `Operator.dim`: To return the total input and output dimension of the operator"
   ]
  },
  {
   "cell_type": "markdown",
   "id": "01f742a6",
   "metadata": {},
   "source": [
    "<b> 1. let us define a Cnot operator: <b> "
   ]
  },
  {
   "cell_type": "code",
   "execution_count": 2,
   "id": "891e809b",
   "metadata": {},
   "outputs": [
    {
     "data": {
      "text/plain": [
       "Operator([[1.+0.j, 0.+0.j, 0.+0.j, 0.+0.j],\n",
       "          [0.+0.j, 1.+0.j, 0.+0.j, 0.+0.j],\n",
       "          [0.+0.j, 0.+0.j, 0.+0.j, 1.+0.j],\n",
       "          [0.+0.j, 0.+0.j, 1.+0.j, 0.+0.j]],\n",
       "         input_dims=(2, 2), output_dims=(2, 2))"
      ]
     },
     "execution_count": 2,
     "metadata": {},
     "output_type": "execute_result"
    }
   ],
   "source": [
    "Cnot = Operator([[1,0,0,0],[0,1,0,0],[0,0,0,1],[0,0,1,0]])\n",
    "Cnot"
   ]
  },
  {
   "cell_type": "markdown",
   "id": "6775655e",
   "metadata": {},
   "source": [
    "<b> 2. Returning infos about that operator <b> "
   ]
  },
  {
   "cell_type": "code",
   "execution_count": 3,
   "id": "10715af0",
   "metadata": {},
   "outputs": [
    {
     "data": {
      "text/plain": [
       "array([[1.+0.j, 0.+0.j, 0.+0.j, 0.+0.j],\n",
       "       [0.+0.j, 1.+0.j, 0.+0.j, 0.+0.j],\n",
       "       [0.+0.j, 0.+0.j, 0.+0.j, 1.+0.j],\n",
       "       [0.+0.j, 0.+0.j, 1.+0.j, 0.+0.j]])"
      ]
     },
     "execution_count": 3,
     "metadata": {},
     "output_type": "execute_result"
    }
   ],
   "source": [
    "#returns Numpy array\n",
    "Cnot.data"
   ]
  },
  {
   "cell_type": "code",
   "execution_count": 4,
   "id": "97d09d05",
   "metadata": {},
   "outputs": [
    {
     "data": {
      "text/plain": [
       "(4, 4)"
      ]
     },
     "execution_count": 4,
     "metadata": {},
     "output_type": "execute_result"
    }
   ],
   "source": [
    "#total input and output dimension\n",
    "in_dim, out_dim = Cnot.dim\n",
    "in_dim, out_dim"
   ]
  },
  {
   "cell_type": "markdown",
   "id": "aeef6b80",
   "metadata": {},
   "source": [
    "## Creating operator of circuits\n",
    "\n",
    "As an example, let's build a operator of the GHZ State. The circuit is"
   ]
  },
  {
   "cell_type": "code",
   "execution_count": 5,
   "id": "ff5ab81f",
   "metadata": {},
   "outputs": [
    {
     "data": {
      "image/png": "[encoded data removed]",
      "text/plain": [
       "<Figure size 267.197x204.68 with 1 Axes>"
      ]
     },
     "execution_count": 5,
     "metadata": {},
     "output_type": "execute_result"
    }
   ],
   "source": [
    "ghz = QuantumCircuit(3)\n",
    "ghz.h(0)\n",
    "ghz.cx([0,0],[1,2])\n",
    "ghz.draw('mpl')"
   ]
  },
  {
   "cell_type": "markdown",
   "id": "66e78e3d",
   "metadata": {},
   "source": [
    "then we define an operator based on the GHZ circuit"
   ]
  },
  {
   "cell_type": "code",
   "execution_count": 6,
   "id": "8aa9196f",
   "metadata": {},
   "outputs": [
    {
     "data": {
      "text/plain": [
       "array([[ 0.707+0.j,  0.707+0.j,  0.   +0.j,  0.   +0.j,  0.   +0.j,\n",
       "         0.   +0.j,  0.   +0.j,  0.   +0.j],\n",
       "       [ 0.   +0.j,  0.   +0.j,  0.   +0.j,  0.   +0.j,  0.   +0.j,\n",
       "         0.   +0.j,  0.707+0.j, -0.707+0.j],\n",
       "       [ 0.   +0.j,  0.   +0.j,  0.707+0.j,  0.707+0.j,  0.   +0.j,\n",
       "         0.   +0.j,  0.   +0.j,  0.   +0.j],\n",
       "       [ 0.   +0.j,  0.   +0.j,  0.   +0.j,  0.   +0.j,  0.707+0.j,\n",
       "        -0.707+0.j,  0.   +0.j,  0.   +0.j],\n",
       "       [ 0.   +0.j,  0.   +0.j,  0.   +0.j,  0.   +0.j,  0.707+0.j,\n",
       "         0.707+0.j,  0.   +0.j,  0.   +0.j],\n",
       "       [ 0.   +0.j,  0.   +0.j,  0.707+0.j, -0.707+0.j,  0.   +0.j,\n",
       "         0.   +0.j,  0.   +0.j,  0.   +0.j],\n",
       "       [ 0.   +0.j,  0.   +0.j,  0.   +0.j,  0.   +0.j,  0.   +0.j,\n",
       "         0.   +0.j,  0.707+0.j,  0.707+0.j],\n",
       "       [ 0.707+0.j, -0.707+0.j,  0.   +0.j,  0.   +0.j,  0.   +0.j,\n",
       "         0.   +0.j,  0.   +0.j,  0.   +0.j]])"
      ]
     },
     "execution_count": 6,
     "metadata": {},
     "output_type": "execute_result"
    }
   ],
   "source": [
    "U_ghz = Operator(ghz) \n",
    "np.around(U_ghz.data,3)\n",
    "\n",
    "#np.around specifies how many decimals is desired in the oputput "
   ]
  },
  {
   "cell_type": "markdown",
   "id": "7c170d44",
   "metadata": {},
   "source": [
    "## Creating operators with unitary_simulator\n",
    "\n",
    "`unitary_simulator` sets the ideal quantum circuit unitary simulator: https://qiskit.org/documentation/stubs/qiskit.providers.aer.UnitarySimulator.html\n",
    "\n",
    "Based on the GHZ cirucuit, `unitary_simulator` returns the corresponding unitary through the command `get_unitary()` "
   ]
  },
  {
   "cell_type": "code",
   "execution_count": 7,
   "id": "b5c5f2cf",
   "metadata": {},
   "outputs": [
    {
     "data": {
      "text/plain": [
       "Operator([[ 0.707+0.j,  0.707-0.j,  0.   +0.j,  0.   +0.j,  0.   +0.j,\n",
       "            0.   +0.j,  0.   +0.j,  0.   +0.j],\n",
       "          [ 0.   +0.j,  0.   +0.j,  0.   +0.j,  0.   +0.j,  0.   +0.j,\n",
       "            0.   +0.j,  0.707+0.j, -0.707+0.j],\n",
       "          [ 0.   +0.j,  0.   +0.j,  0.707+0.j,  0.707-0.j,  0.   +0.j,\n",
       "            0.   +0.j,  0.   +0.j,  0.   +0.j],\n",
       "          [ 0.   +0.j,  0.   +0.j,  0.   +0.j,  0.   +0.j,  0.707+0.j,\n",
       "           -0.707+0.j,  0.   +0.j,  0.   +0.j],\n",
       "          [ 0.   +0.j,  0.   +0.j,  0.   +0.j,  0.   +0.j,  0.707+0.j,\n",
       "            0.707-0.j,  0.   +0.j,  0.   +0.j],\n",
       "          [ 0.   +0.j,  0.   +0.j,  0.707+0.j, -0.707+0.j,  0.   +0.j,\n",
       "            0.   +0.j,  0.   +0.j,  0.   +0.j],\n",
       "          [ 0.   +0.j,  0.   +0.j,  0.   +0.j,  0.   +0.j,  0.   +0.j,\n",
       "            0.   +0.j,  0.707+0.j,  0.707-0.j],\n",
       "          [ 0.707+0.j, -0.707+0.j,  0.   +0.j,  0.   +0.j,  0.   +0.j,\n",
       "            0.   +0.j,  0.   +0.j,  0.   +0.j]],\n",
       "         input_dims=(2, 2, 2), output_dims=(2, 2, 2))"
      ]
     },
     "execution_count": 7,
     "metadata": {},
     "output_type": "execute_result"
    }
   ],
   "source": [
    "#Aer has also a unitary_simulator backend.\n",
    "back_uni = Aer.get_backend('unitary_simulator')\n",
    "job = execute(ghz, back_uni)\n",
    "result = job.result()\n",
    "\n",
    "#getting the unitary with 3 decimals\n",
    "U_qc = result.get_unitary(decimals=3)\n",
    "\n",
    "U_qc "
   ]
  },
  {
   "cell_type": "markdown",
   "id": "e78c4663",
   "metadata": {},
   "source": [
    "## Density matrix\n",
    "\n",
    "`DensityMatrix` initializes a density matrix object"
   ]
  },
  {
   "cell_type": "code",
   "execution_count": 8,
   "id": "93458782",
   "metadata": {},
   "outputs": [
    {
     "name": "stdout",
     "output_type": "stream",
     "text": [
      "DensityMatrix([[0.5 +0.j, 1.  +0.j, 0.25+0.j, 0.5 +0.j],\n",
      "               [0.5 +0.j, 1.  +0.j, 0.25+0.j, 0.5 +0.j],\n",
      "               [0.25+0.j, 0.5 +0.j, 0.5 +0.j, 1.  +0.j],\n",
      "               [0.25+0.j, 0.5 +0.j, 0.5 +0.j, 1.  +0.j]],\n",
      "              dims=(2, 2))\n"
     ]
    }
   ],
   "source": [
    "op1 = [[1+0.j, 0.5+0.j], [0.5+0.j, 1+0.j]]\n",
    "op2 = [[0.5+0.j, 1+0.j], [0.5+0.j, 1+0.j]]\n",
    "\n",
    "matrix = DensityMatrix(op1)\n",
    "\n",
    "#doing the tensor product between op1 and op2\n",
    "matrix.tensor(op2)"
   ]
  },
  {
   "cell_type": "markdown",
   "id": "dfba0f1e",
   "metadata": {},
   "source": [
    "## Comparing operators\n",
    "\n",
    "We can also check if two operators are equal"
   ]
  },
  {
   "cell_type": "code",
   "execution_count": 9,
   "id": "8f2c7687",
   "metadata": {},
   "outputs": [
    {
     "data": {
      "text/plain": [
       "True"
      ]
     },
     "execution_count": 9,
     "metadata": {},
     "output_type": "execute_result"
    }
   ],
   "source": [
    "# Pauli('Y') generates the Pauli Y-matrix object \n",
    "# On the other hand, Operator generates the operator of Pauli('Y') \n",
    "\n",
    "Operator( Pauli('Y')) == Operator(YGate())"
   ]
  },
  {
   "cell_type": "code",
   "execution_count": 10,
   "id": "9fc94729",
   "metadata": {},
   "outputs": [
    {
     "data": {
      "text/plain": [
       "False"
      ]
     },
     "execution_count": 10,
     "metadata": {},
     "output_type": "execute_result"
    }
   ],
   "source": [
    "Operator(YGate()) == np.exp(1j * 0.4) * Operator(YGate())"
   ]
  },
  {
   "cell_type": "markdown",
   "id": "aeb1a483",
   "metadata": {},
   "source": [
    "## Using Operators in circuits\n",
    "\n",
    "An operator can be directly put into a QuantumCircuit using the `QuantumCircuit.append` method.\n"
   ]
  },
  {
   "cell_type": "code",
   "execution_count": 11,
   "id": "ef63c0a8",
   "metadata": {},
   "outputs": [
    {
     "data": {
      "text/plain": [
       "Operator([[ 1.+0.j,  0.+0.j,  0.+0.j,  0.+0.j],\n",
       "          [ 0.+0.j, -1.+0.j,  0.+0.j,  0.+0.j],\n",
       "          [ 0.+0.j,  0.+0.j, -1.+0.j,  0.+0.j],\n",
       "          [ 0.+0.j,  0.+0.j,  0.+0.j,  1.+0.j]],\n",
       "         input_dims=(2, 2), output_dims=(2, 2))"
      ]
     },
     "execution_count": 11,
     "metadata": {},
     "output_type": "execute_result"
    }
   ],
   "source": [
    "ZZ = Operator(Pauli('ZZ'))\n",
    "ZZ"
   ]
  },
  {
   "cell_type": "code",
   "execution_count": 12,
   "id": "909c8933",
   "metadata": {},
   "outputs": [
    {
     "data": {
      "image/png": "[encoded data removed]",
      "text/plain": [
       "<Figure size 327.252x204.68 with 1 Axes>"
      ]
     },
     "execution_count": 12,
     "metadata": {},
     "output_type": "execute_result"
    }
   ],
   "source": [
    "# Add to a circuit\n",
    "qc = QuantumCircuit(2, 2)\n",
    "qc.append(ZZ, [0, 1])\n",
    "qc.measure([0,1], [0,1])\n",
    "\n",
    "qc.draw('mpl')"
   ]
  },
  {
   "cell_type": "markdown",
   "id": "9db47061",
   "metadata": {},
   "source": [
    "Running it"
   ]
  },
  {
   "cell_type": "code",
   "execution_count": 13,
   "id": "9ec84d0a",
   "metadata": {},
   "outputs": [
    {
     "data": {
      "image/png": "[encoded data removed]",
      "text/plain": [
       "<Figure size 504x360 with 1 Axes>"
      ]
     },
     "execution_count": 13,
     "metadata": {},
     "output_type": "execute_result"
    }
   ],
   "source": [
    "backend = BasicAer.get_backend('qasm_simulator')\n",
    "result = backend.run(qc).result()\n",
    "\n",
    "counts = result.get_counts()\n",
    "plot_histogram(counts)"
   ]
  },
  {
   "cell_type": "markdown",
   "id": "93e4e7a8",
   "metadata": {},
   "source": [
    "## Operations with operators\n",
    "\n",
    "<b> 1. <b> decomposing operators (using the XX case)"
   ]
  },
  {
   "cell_type": "code",
   "execution_count": 14,
   "id": "8fca6c85",
   "metadata": {},
   "outputs": [
    {
     "data": {
      "image/png": "[encoded data removed]",
      "text/plain": [
       "<Figure size 327.252x204.68 with 1 Axes>"
      ]
     },
     "execution_count": 14,
     "metadata": {},
     "output_type": "execute_result"
    }
   ],
   "source": [
    "decomp = qc.decompose()\n",
    "decomp.draw('mpl')"
   ]
  },
  {
   "cell_type": "markdown",
   "id": "6a063fb1",
   "metadata": {},
   "source": [
    "<b> 2. <b> We can also compose operators "
   ]
  },
  {
   "cell_type": "code",
   "execution_count": 15,
   "id": "2a23192d",
   "metadata": {},
   "outputs": [
    {
     "data": {
      "text/plain": [
       "Operator([[0.+0.j, 0.+1.j],\n",
       "          [0.+1.j, 0.+0.j]],\n",
       "         input_dims=(2,), output_dims=(2,))"
      ]
     },
     "execution_count": 15,
     "metadata": {},
     "output_type": "execute_result"
    }
   ],
   "source": [
    "op1 = Operator(Pauli('Y'))\n",
    "op2 = Operator(Pauli('Z'))\n",
    "op1.compose(op2, front=True)"
   ]
  },
  {
   "cell_type": "markdown",
   "id": "1d34650b",
   "metadata": {},
   "source": [
    "<b> 3. <b> Also tensor product is possible"
   ]
  },
  {
   "cell_type": "code",
   "execution_count": 16,
   "id": "e479d865",
   "metadata": {},
   "outputs": [
    {
     "data": {
      "text/plain": [
       "Operator([[0.+0.j, 0.+0.j, 0.+0.j, 0.-1.j],\n",
       "          [0.+0.j, 0.+0.j, 0.+1.j, 0.+0.j],\n",
       "          [0.+0.j, 0.-1.j, 0.+0.j, 0.+0.j],\n",
       "          [0.+1.j, 0.+0.j, 0.+0.j, 0.+0.j]],\n",
       "         input_dims=(2, 2), output_dims=(2, 2))"
      ]
     },
     "execution_count": 16,
     "metadata": {},
     "output_type": "execute_result"
    }
   ],
   "source": [
    "op1 = Operator(Pauli('X'))\n",
    "op2 = Operator(Pauli('Y'))\n",
    "op1.tensor(op2)"
   ]
  },
  {
   "cell_type": "code",
   "execution_count": null,
   "id": "586c0a75",
   "metadata": {},
   "outputs": [],
   "source": []
  }
 ],
 "metadata": {
  "kernelspec": {
   "display_name": "Python 3 (ipykernel)",
   "language": "python",
   "name": "python3"
  },
  "language_info": {
   "codemirror_mode": {
    "name": "ipython",
    "version": 3
   },
   "file_extension": ".py",
   "mimetype": "text/x-python",
   "name": "python",
   "nbconvert_exporter": "python",
   "pygments_lexer": "ipython3",
   "version": "3.8.10"
  }
 },
 "nbformat": 4,
 "nbformat_minor": 5
}
