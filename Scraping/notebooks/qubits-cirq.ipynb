{
  "nbformat": 4,
  "nbformat_minor": 0,
  "metadata": {
    "colab": {
      "name": "qubits.ipynb",
      "provenance": [],
      "collapsed_sections": [
        "Sh9QBnKbFf_B"
      ]
    },
    "kernelspec": {
      "display_name": "Python 3",
      "name": "python3"
    }
  },
  "cells": [
    {
      "cell_type": "markdown",
      "metadata": {
        "id": "WZ1G8QHhdHZR"
      },
      "source": [
        "##### Copyright 2020 The Cirq Developers"
      ]
    },
    {
      "cell_type": "code",
      "metadata": {
        "cellView": "form",
        "id": "KQa9t_gadIuR"
      },
      "source": [
        "#@title Licensed under the Apache License, Version 2.0 (the \"License\");\n",
        "# you may not use this file except in compliance with the License.\n",
        "# You may obtain a copy of the License at\n",
        "#\n",
        "# https://www.apache.org/licenses/LICENSE-2.0\n",
        "#\n",
        "# Unless required by applicable law or agreed to in writing, software\n",
        "# distributed under the License is distributed on an \"AS IS\" BASIS,\n",
        "# WITHOUT WARRANTIES OR CONDITIONS OF ANY KIND, either express or implied.\n",
        "# See the License for the specific language governing permissions and\n",
        "# limitations under the License."
      ],
      "execution_count": null,
      "outputs": []
    },
    {
      "cell_type": "markdown",
      "metadata": {
        "id": "xwec7FrkdFmi"
      },
      "source": [
        "# Qubits"
      ]
    },
    {
      "cell_type": "markdown",
      "metadata": {
        "id": "5KZia7jmdJ3V"
      },
      "source": [
        "<table class=\"tfo-notebook-buttons\" align=\"left\">\n",
        "  <td>\n",
        "    <a target=\"_blank\" href=\"https://quantumai.google/cirq/qubits\"><img src=\"https://quantumai.google/site-assets/images/buttons/quantumai_logo_1x.png\" />View on QuantumAI</a>\n",
        "  </td>\n",
        "  <td>\n",
        "    <a target=\"_blank\" href=\"https://colab.research.google.com/github/quantumlib/Cirq/blob/master/docs/qubits.ipynb\"><img src=\"https://quantumai.google/site-assets/images/buttons/colab_logo_1x.png\" />Run in Google Colab</a>\n",
        "  </td>\n",
        "  <td>\n",
        "    <a target=\"_blank\" href=\"https://github.com/quantumlib/Cirq/blob/master/docs/qubits.ipynb\"><img src=\"https://quantumai.google/site-assets/images/buttons/github_logo_1x.png\" />View source on GitHub</a>\n",
        "  </td>\n",
        "  <td>\n",
        "    <a href=\"https://storage.googleapis.com/tensorflow_docs/Cirq/docs/qubits.ipynb\"><img src=\"https://quantumai.google/site-assets/images/buttons/download_icon_1x.png\" />Download notebook</a>\n",
        "  </td>\n",
        "</table>"
      ]
    },
    {
      "cell_type": "code",
      "metadata": {
        "id": "bd9529db1c0b",
        "outputId": "8ded8adc-dcb0-4e6a-f7ef-b562ed385b6b",
        "colab": {
          "base_uri": "https://localhost:8080/"
        }
      },
      "source": [
        "try:\n",
        "    import cirq\n",
        "except ImportError:\n",
        "    print(\"installing cirq...\")\n",
        "    !pip install --quiet cirq\n",
        "    print(\"installed cirq.\")"
      ],
      "execution_count": 1,
      "outputs": [
        {
          "output_type": "stream",
          "text": [
            "installing cirq...\n",
            "\u001b[K     |████████████████████████████████| 1.8MB 6.2MB/s \n",
            "\u001b[K     |████████████████████████████████| 1.3MB 31.3MB/s \n",
            "\u001b[?25hinstalled cirq.\n"
          ],
          "name": "stdout"
        }
      ]
    },
    {
      "cell_type": "markdown",
      "metadata": {
        "id": "y8P1T6duC-yo"
      },
      "source": [
        "A qubit is the basic unit of quantum information, a quantum bit: a two level system that can exist in superposition of those two possible states. Cirq also supports higher dimensional systems, so called [qudits](qudits.ipynb) that we won't cover here.\n",
        "\n",
        "In Cirq, a `Qubit` is nothing else than an abstract object that has an identifier, a `cirq.Qid` and some other potential metadata to represent device specific properties that can be used to validate a circuit.\n",
        "In contrast to real qubits, the Cirq qubit does not have any state. The reason for this is that the actual state of the qubit or qubits is maintained in the quantum processor, or, in case of simulation, in the simulated state vector."
      ]
    },
    {
      "cell_type": "code",
      "metadata": {
        "id": "-Gbg8dEJDH4D",
        "outputId": "28bb5bfd-660f-423e-d5bf-73011ec7a491",
        "colab": {
          "base_uri": "https://localhost:8080/"
        }
      },
      "source": [
        "import cirq\n",
        "\n",
        "qubit = cirq.NamedQubit(\"myqubit\")\n",
        "\n",
        "# creates an equal superposition of |0> and |1> when simulated\n",
        "circuit = cirq.Circuit(cirq.H(qubit))\n",
        "\n",
        "# see the \"myqubit\" identifier at the left of the circuit\n",
        "print(circuit)\n",
        "\n",
        "# run simulation\n",
        "result = cirq.Simulator().simulate(circuit)\n",
        "\n",
        "print(\"result:\")\n",
        "print(result)"
      ],
      "execution_count": 3,
      "outputs": [
        {
          "output_type": "stream",
          "text": [
            "myqubit: ───H───\n",
            "result:\n",
            "measurements: (no measurements)\n",
            "output vector: 0.707|0⟩ + 0.707|1⟩\n"
          ],
          "name": "stdout"
        }
      ]
    },
    {
      "cell_type": "code",
      "metadata": {
        "id": "RLoZyggjQoGF",
        "outputId": "7b0487c7-bcbb-4ef7-851c-90f113d0d367",
        "colab": {
          "base_uri": "https://localhost:8080/"
        }
      },
      "source": [
        "## Programming Quantum Computers\n",
        "##   by Eric Johnston, Nic Harrigan and Mercedes Gimeno-Segovia\n",
        "##   O'Reilly Media\n",
        "##\n",
        "## More samples like this can be found at http://oreilly-qc.github.io\n",
        "import cirq\n",
        "\n",
        "## This sample generates a single random bit.\n",
        "\n",
        "## Example 2-1: Random bit\n",
        "# Set up the program\n",
        "\n",
        "def main():\n",
        "    qc = QPU()\n",
        "    qc.reset(1)\n",
        "    qc.had()  # put it into a superposition of 0 and 1\n",
        "    qc.read() # read the result as a digital bit\n",
        "\n",
        "    qc.draw() # draw the circuit\n",
        "    result = qc.run() # run the circuit\n",
        "    print(result)\n",
        "\n",
        "\n",
        "######################################################################\n",
        "## The below class is a light interface, to convert the\n",
        "## book's syntax into the syntax used by Cirq.\n",
        "class QPU:\n",
        "    def __init__(self):\n",
        "        self.circuit = cirq.Circuit()\n",
        "        self.simulator = cirq.Simulator()\n",
        "        self.qubits = None\n",
        "\n",
        "    def reset(self, num_qubits):\n",
        "        self.qubits = [cirq.GridQubit(i, 0) for i in range(num_qubits)]\n",
        "\n",
        "    def mask_to_list(self, mask):\n",
        "        return [q for i,q in enumerate(self.qubits) if (1 << i) & mask]\n",
        "\n",
        "    def had(self, target_mask=~0):\n",
        "        target = self.mask_to_list(target_mask)\n",
        "        self.circuit.append(cirq.H.on_each(*target))\n",
        "\n",
        "    def read(self, target_mask=~0, key=None):\n",
        "        if key is None:\n",
        "            key = 'result'\n",
        "        target = self.mask_to_list(target_mask)\n",
        "        self.circuit.append(cirq.measure(*target, key=key))\n",
        "\n",
        "    def draw(self):\n",
        "        print('Circuit:\\n{}'.format(self.circuit))\n",
        "\n",
        "    def run(self):\n",
        "        return self.simulator.simulate(self.circuit)\n",
        "\n",
        "\n",
        "if __name__ == '__main__':\n",
        "    main()"
      ],
      "execution_count": 4,
      "outputs": [
        {
          "output_type": "stream",
          "text": [
            "Circuit:\n",
            "(0, 0): ───H───M('result')───\n",
            "measurements: result=0\n",
            "output vector: |0⟩\n"
          ],
          "name": "stdout"
        }
      ]
    },
    {
      "cell_type": "markdown",
      "metadata": {
        "id": "8ee194281125"
      },
      "source": [
        "### Qubit types\n",
        "\n",
        "There are 3 main qubit types in Cirq:\n",
        "\n",
        "- `cirq.NamedQubit` - an abstract qubit that only has a name, nothing else. Use this when you don't need anything else and you don't need to create too many qubits in bulk.\n",
        "- `cirq.LineQubit` - a qubit that is identified by an integer index in a line. Some devices have lines of qubits, `LineQubit` can be useful to represent that. Also `cirq.LineQubit.range(3)` is a very easy way to create 3 qubits.  \n",
        "- `cirq.GridQubit` - a qubit that is placed on a grid and is identified by the 2D coordinates. Most of Google's chips are represented using `GridQubit`s. \n",
        "\n",
        "Some providers provide their own qubit types. For example Pasqal defines a `TwoDQubit` and a `ThreeDQubit` to represent the specific topology of neutral atoms when validating circuits.\n"
      ]
    }
  ]
}