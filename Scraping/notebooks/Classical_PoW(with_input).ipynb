{
  "nbformat": 4,
  "nbformat_minor": 0,
  "metadata": {
    "colab": {
      "provenance": [],
      "collapsed_sections": []
    },
    "kernelspec": {
      "name": "python3",
      "display_name": "Python 3"
    },
    "language_info": {
      "name": "python"
    }
  },
  "cells": [
    {
      "cell_type": "code",
      "source": [
        "print(\"hello word\")"
      ],
      "metadata": {
        "id": "wnWSoGXu6kfd",
        "outputId": "14116c6c-283f-47ae-f85f-66a21f71cf5f",
        "colab": {
          "base_uri": "https://localhost:8080/"
        }
      },
      "execution_count": null,
      "outputs": [
        {
          "output_type": "stream",
          "name": "stdout",
          "text": [
            "hello word\n"
          ]
        }
      ]
    },
    {
      "cell_type": "code",
      "source": [
        "hash_dict = {\n",
        "    '0000': '1111',\n",
        "    '1000': '0111',\n",
        "    '0001': '0010',\n",
        "    '1001': '1100',\n",
        "    '0010': '0000',\n",
        "    '1010': '0110',\n",
        "    '0011': '0101',\n",
        "    '1011': '1001',\n",
        "    '0100': '1010',\n",
        "    '1100': '0011',\n",
        "    '0101': '1101',\n",
        "    '1101': '1110',\n",
        "    '0110': '1000',\n",
        "    '1110': '0001',\n",
        "    '0111': '1011',\n",
        "    '1111': '0100'\n",
        "}"
      ],
      "metadata": {
        "id": "GFx4Ls-Vun-8"
      },
      "execution_count": null,
      "outputs": []
    },
    {
      "cell_type": "code",
      "source": [
        "import random\n",
        "def get_strings(usr_input, nonce_len):\n",
        "    strarr = []\n",
        "\n",
        "    #generate all input + nonce combinations\n",
        "    def generate(n, s=usr_input):\n",
        "        if len(s) == n:\n",
        "            strarr.append(s)\n",
        "        else:\n",
        "            generate(n, s + '0')\n",
        "            generate(n, s + '1')\n",
        "\n",
        "    generate(len(usr_input) + nonce_len)\n",
        "    random.shuffle(strarr)\n",
        "    return strarr"
      ],
      "metadata": {
        "id": "eFyD7j38zTxM"
      },
      "execution_count": null,
      "outputs": []
    },
    {
      "cell_type": "code",
      "source": [
        "def proof_of_work(usr_input, level, nonce_len):\n",
        "  strarr = get_strings(usr_input, nonce_len)\n",
        "  count = 1\n",
        "  for i in strarr:\n",
        "    if hash_dict[i].startswith('0'*level):\n",
        "      # print(\"found hash\", i, \"in\", count, \" tries\")\n",
        "      random.shuffle(strarr)\n",
        "      break;\n",
        "    else: \n",
        "      count += 1\n",
        "    \n",
        "  return count\n",
        " "
      ],
      "metadata": {
        "id": "vipjAszevjAV"
      },
      "execution_count": null,
      "outputs": []
    },
    {
      "cell_type": "code",
      "source": [
        "def getAvgTries(tries, level=2, nonce_len=3):\n",
        "  sum = 0\n",
        "  usr_input = '1'\n",
        "  for i in range(tries):\n",
        "    sum += proof_of_work(usr_input, level, nonce_len)\n",
        "  return sum/tries"
      ],
      "metadata": {
        "id": "EACe2v8hxhJL"
      },
      "execution_count": null,
      "outputs": []
    },
    {
      "cell_type": "code",
      "source": [
        "getAvgTries(100)"
      ],
      "metadata": {
        "id": "1CxU0exVxjT9",
        "colab": {
          "base_uri": "https://localhost:8080/"
        },
        "outputId": "c179b96a-98da-4da8-a92d-6c37df203c14"
      },
      "execution_count": null,
      "outputs": [
        {
          "output_type": "execute_result",
          "data": {
            "text/plain": [
              "3.17"
            ]
          },
          "metadata": {},
          "execution_count": 20
        }
      ]
    },
    {
      "cell_type": "code",
      "source": [],
      "metadata": {
        "id": "98qh3x4Qy0xv"
      },
      "execution_count": null,
      "outputs": []
    }
  ]
}