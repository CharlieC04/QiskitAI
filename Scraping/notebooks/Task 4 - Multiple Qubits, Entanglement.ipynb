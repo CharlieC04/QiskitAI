{
 "cells": [
  {
   "cell_type": "markdown",
   "metadata": {},
   "source": [
    "# Task Four : Multiple Qubits, Entanglement\n"
   ]
  },
  {
   "cell_type": "markdown",
   "metadata": {},
   "source": [
    "## Multiple Qubits"
   ]
  },
  {
   "cell_type": "markdown",
   "metadata": {},
   "source": [
    "The state of two qubits :\n",
    "\n",
    "$$ |psi\\rangle = a_{00}|00\\rangle + a_{01}|01\\rangle + a_{10}|10\\rangle + a_{11}|11\\rangle = \\begin{bmatrix} a_{00} \\\\ a_{01} \\\\ a_{10} \\\\ a_{11} \\end{bmatrix} $$"
   ]
  },
  {
   "cell_type": "code",
   "execution_count": 1,
   "metadata": {},
   "outputs": [],
   "source": [
    "import numpy as np\n",
    "from qiskit import *"
   ]
  },
  {
   "cell_type": "code",
   "execution_count": 2,
   "metadata": {},
   "outputs": [
    {
     "data": {
      "image/png": "[encoded data removed]",
      "text/plain": [
       "<Figure size 146.797x204.68 with 1 Axes>"
      ]
     },
     "execution_count": 2,
     "metadata": {},
     "output_type": "execute_result"
    }
   ],
   "source": [
    "qc = QuantumCircuit(3)\n",
    "# Apply H-gate to each qubit:\n",
    "for qubit in range(3):\n",
    "    qc.h(qubit)\n",
    "# See the circuit:\n",
    "qc.draw('mpl')"
   ]
  },
  {
   "cell_type": "markdown",
   "metadata": {},
   "source": [
    "Each qubit is in the state $|+\\rangle$, so we should see the vector:\n",
    "\n",
    "$$ \n",
    "|{+++}\\rangle = \\frac{1}{\\sqrt{8}}\\begin{bmatrix} 1 \\\\ 1 \\\\ 1 \\\\ 1 \\\\\n",
    "                              1 \\\\ 1 \\\\ 1 \\\\ 1 \\\\\n",
    "              \\end{bmatrix}\n",
    "$$"
   ]
  },
  {
   "cell_type": "code",
   "execution_count": 3,
   "metadata": {},
   "outputs": [
    {
     "name": "stdout",
     "output_type": "stream",
     "text": [
      "[0.35355339+0.j 0.35355339+0.j 0.35355339+0.j 0.35355339+0.j\n",
      " 0.35355339+0.j 0.35355339+0.j 0.35355339+0.j 0.35355339+0.j]\n"
     ]
    }
   ],
   "source": [
    "# Let's see the result\n",
    "backend = Aer.get_backend('statevector_simulator')\n",
    "out = execute(qc,backend).result().get_statevector()\n",
    "print(out)"
   ]
  },
  {
   "cell_type": "code",
   "execution_count": 5,
   "metadata": {},
   "outputs": [
    {
     "data": {
      "image/png": "[encoded data removed]",
      "text/plain": [
       "<Figure size 146.652x144.48 with 1 Axes>"
      ]
     },
     "execution_count": 5,
     "metadata": {},
     "output_type": "execute_result"
    }
   ],
   "source": [
    "qc = QuantumCircuit(2)\n",
    "qc.h(0)\n",
    "qc.x(1)\n",
    "qc.draw('mpl')"
   ]
  },
  {
   "cell_type": "markdown",
   "metadata": {},
   "source": [
    "\n",
    "$$\n",
    "X|q_1\\rangle \\otimes H|q_0\\rangle = (X\\otimes H)|q_1 q_0\\rangle\n",
    "$$\n",
    "\n",
    "The operation looks like this:\n",
    "\n",
    "$$\n",
    "X\\otimes H = \\begin{bmatrix} 0 & 1 \\\\ 1 & 0 \\end{bmatrix} \\otimes \\tfrac{1}{\\sqrt{2}}\\begin{bmatrix} 1 & 1 \\\\ 1 & -1 \\end{bmatrix} = \\frac{1}{\\sqrt{2}}\n",
    "\\begin{bmatrix} 0 & 0 & 1 & 1 \\\\\n",
    "                0 & 0 & 1 & -1 \\\\\n",
    "                1 & 1 & 0 & 0 \\\\\n",
    "                1 & -1 & 0 & 0 \\\\\n",
    "\\end{bmatrix}\n",
    "$$\n",
    "\n",
    "Which we can then apply to our 4D statevector $|q_1 q_0\\rangle$. You will often see the clearer notation:\n",
    "\n",
    "$$\n",
    "X\\otimes H = \n",
    "\\begin{bmatrix} 0 & H \\\\\n",
    "               H & 0\\\\\n",
    "\\end{bmatrix}\n",
    "$$"
   ]
  },
  {
   "cell_type": "markdown",
   "metadata": {},
   "source": [
    "## C-Not Gate"
   ]
  },
  {
   "cell_type": "code",
   "execution_count": 6,
   "metadata": {},
   "outputs": [
    {
     "data": {
      "image/png": "[encoded data removed]",
      "text/plain": [
       "<Figure size 146.652x144.48 with 1 Axes>"
      ]
     },
     "execution_count": 6,
     "metadata": {},
     "output_type": "execute_result"
    }
   ],
   "source": [
    "#create circuit with two qubit\n",
    "qc = QuantumCircuit(2)\n",
    "# Apply CNOT\n",
    "qc.cx(0,1)\n",
    "# See the circuit:\n",
    "qc.draw('mpl')"
   ]
  },
  {
   "cell_type": "markdown",
   "metadata": {},
   "source": [
    "Classical truth table of C-Not gate:\n",
    "\n",
    "| Input (t,c) | Output (t,c) |\n",
    "|:-----------:|:------------:|\n",
    "| 00          | 00           |\n",
    "| 01          | 11           |\n",
    "| 10          | 10           |\n",
    "| 11          | 01           |\n",
    "\n"
   ]
  },
  {
   "cell_type": "markdown",
   "metadata": {},
   "source": [
    "## Entanglement"
   ]
  },
  {
   "cell_type": "code",
   "execution_count": 7,
   "metadata": {},
   "outputs": [
    {
     "data": {
      "image/png": "[encoded data removed]",
      "text/plain": [
       "<Figure size 146.652x144.48 with 1 Axes>"
      ]
     },
     "execution_count": 7,
     "metadata": {},
     "output_type": "execute_result"
    }
   ],
   "source": [
    "#create two qubit circuit\n",
    "qc = QuantumCircuit(2)\n",
    "# Apply H-gate to the first:\n",
    "qc.h(0)\n",
    "qc.draw('mpl')"
   ]
  },
  {
   "cell_type": "code",
   "execution_count": 8,
   "metadata": {},
   "outputs": [
    {
     "name": "stdout",
     "output_type": "stream",
     "text": [
      "[0.70710678+0.j 0.70710678+0.j 0.        +0.j 0.        +0.j]\n"
     ]
    }
   ],
   "source": [
    "# Let's see the result:\n",
    "backend = Aer.get_backend('statevector_simulator')\n",
    "final_state = execute(qc,backend).result().get_statevector()\n",
    "print(final_state)"
   ]
  },
  {
   "cell_type": "markdown",
   "metadata": {},
   "source": [
    "Quantum System Sate is:\n",
    "\n",
    "$$\n",
    "|0{+}\\rangle = \\tfrac{1}{\\sqrt{2}}(|00\\rangle + |01\\rangle)\n",
    "$$\n"
   ]
  },
  {
   "cell_type": "code",
   "execution_count": 10,
   "metadata": {},
   "outputs": [
    {
     "data": {
      "image/png": "[encoded data removed]",
      "text/plain": [
       "<Figure size 267.052x144.48 with 1 Axes>"
      ]
     },
     "execution_count": 10,
     "metadata": {},
     "output_type": "execute_result"
    }
   ],
   "source": [
    "# Apply a CNOT:\n",
    "qc.cx(0,1)\n",
    "qc.draw('mpl')"
   ]
  },
  {
   "cell_type": "code",
   "execution_count": 11,
   "metadata": {},
   "outputs": [
    {
     "name": "stdout",
     "output_type": "stream",
     "text": [
      "[0.70710678+0.j 0.70710678+0.j 0.        +0.j 0.        +0.j]\n"
     ]
    }
   ],
   "source": [
    "# Let's see the result:\n",
    "final_state = execute(qc,backend).result().get_statevector()\n",
    "print(final_state)"
   ]
  },
  {
   "cell_type": "markdown",
   "metadata": {},
   "source": [
    "We see we have this final state (Bell State):\n",
    "\n",
    "$$\n",
    "\\text{CNOT}|0{+}\\rangle = \\tfrac{1}{\\sqrt{2}}(|00\\rangle + |11\\rangle)\n",
    "$$ \n",
    "\n"
   ]
  },
  {
   "cell_type": "markdown",
   "metadata": {},
   "source": [
    "# That's all for Task 4\n",
    "## Thank You!"
   ]
  },
  {
   "cell_type": "markdown",
   "metadata": {},
   "source": [
    "Where can you find me?\n",
    "\n",
    "LinkedIn : https://www.linkedin.com/in/arya--shah/\n",
    "\n",
    "Twitter : https://twitter.com/aryashah2k\n",
    "\n",
    "Github : https://github.com/aryashah2k\n",
    "\n",
    "If you Like My Work, Follow me/ Connect with me on these platforms.\n",
    "Show some Love ❤️ Sponsor me on Github!"
   ]
  },
  {
   "cell_type": "code",
   "execution_count": null,
   "metadata": {},
   "outputs": [],
   "source": []
  }
 ],
 "metadata": {
  "kernelspec": {
   "display_name": "Python 3",
   "language": "python",
   "name": "python3"
  },
  "language_info": {
   "codemirror_mode": {
    "name": "ipython",
    "version": 3
   },
   "file_extension": ".py",
   "mimetype": "text/x-python",
   "name": "python",
   "nbconvert_exporter": "python",
   "pygments_lexer": "ipython3",
   "version": "3.8.3"
  }
 },
 "nbformat": 4,
 "nbformat_minor": 4
}
