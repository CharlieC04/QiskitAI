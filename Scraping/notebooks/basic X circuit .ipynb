{
 "cells": [
  {
   "cell_type": "code",
   "execution_count": 2,
   "id": "e691849d",
   "metadata": {},
   "outputs": [],
   "source": [
    "# Qiskit Example: Basic Quantum Circuit Simulation\n",
    "\n",
    "## Importing Required Libraries\n",
    "\n",
    "from qiskit import QuantumCircuit, Aer, execute\n",
    "from qiskit.tools.visualization import plot_bloch_multivector, plot_histogram\n",
    "from qiskit.quantum_info import Operator\n"
   ]
  },
  {
   "cell_type": "markdown",
   "id": "86c3677f",
   "metadata": {},
   "source": [
    "# Creating and Visualizing a Quantum Circuit"
   ]
  },
  {
   "cell_type": "code",
   "execution_count": 3,
   "id": "4d9120ee",
   "metadata": {},
   "outputs": [
    {
     "data": {
      "image/png": "[encoded data removed]",
      "text/plain": [
       "<Figure size 185.453x200.667 with 1 Axes>"
      ]
     },
     "execution_count": 3,
     "metadata": {},
     "output_type": "execute_result"
    }
   ],
   "source": [
    "# Create a quantum circuit with 1 qubit and 1 classical bit\n",
    "circuit = QuantumCircuit(1, 1)\n",
    "\n",
    "# Apply X gate to the qubit\n",
    "circuit.x(0)\n",
    "\n",
    "# Draw the circuit\n",
    "circuit.draw('mpl')"
   ]
  },
  {
   "cell_type": "markdown",
   "id": "0523b815",
   "metadata": {},
   "source": [
    "In this code, we import the necessary modules from Qiskit to work with quantum circuits. We then create a quantum circuit with 1 qubit and 1 classical bit. The x(0) gate is applied to the qubit, which represents a Pauli-X gate (bit-flip gate). The circuit is then drawn using the draw method with the 'mpl' (Matplotlib) backend."
   ]
  },
  {
   "cell_type": "markdown",
   "id": "b04a75cf",
   "metadata": {},
   "source": [
    "# Simulating the Circuit and Obtaining the Statevector"
   ]
  },
  {
   "cell_type": "code",
   "execution_count": null,
   "id": "df78dad8",
   "metadata": {},
   "outputs": [],
   "source": [
    "# Simulate the circuit and obtain the statevector\n",
    "simulator = Aer.get_backend('statevector_simulator')\n",
    "result = execute(circuit, backend=simulator).result()\n",
    "statevector = result.get_statevector()\n",
    "\n",
    "# Print the statevector\n",
    "print(statevector)\n",
    "\n",
    "# Plot the Bloch vector\n",
    "plot_bloch_multivector(statevector)"
   ]
  },
  {
   "cell_type": "markdown",
   "id": "2cc4274c",
   "metadata": {},
   "source": [
    "Here, we simulate the quantum circuit using the statevector_simulator backend from Aer. The execute function is used to run the circuit, and the result object is obtained. From the result, we extract the statevector, which represents the quantum state of the circuit. The statevector is then printed, and the plot_bloch_multivector function is used to visualize the Bloch vector of the state."
   ]
  },
  {
   "cell_type": "markdown",
   "id": "62f9a1b0",
   "metadata": {},
   "source": [
    "# Measuring the Qubit and Obtaining the Counts"
   ]
  },
  {
   "cell_type": "code",
   "execution_count": 5,
   "id": "7827c821",
   "metadata": {},
   "outputs": [
    {
     "data": {
      "image/png": "[encoded data removed]",
      "text/plain": [
       "<Figure size 700x500 with 1 Axes>"
      ]
     },
     "execution_count": 5,
     "metadata": {},
     "output_type": "execute_result"
    }
   ],
   "source": [
    "# Measure the qubit and obtain the counts\n",
    "circuit.measure([0], [0])\n",
    "backend = Aer.get_backend('qasm_simulator')\n",
    "result = execute(circuit, backend=backend, shots=1024).result()\n",
    "counts = result.get_counts()\n",
    "\n",
    "# Plot the histogram of counts\n",
    "plot_histogram(counts)\n"
   ]
  },
  {
   "cell_type": "markdown",
   "id": "ea855be0",
   "metadata": {},
   "source": [
    "In this part, we measure the qubit in the circuit using the measure method, which collapses the quantum state to a classical state. The measurement result is stored in the classical bit. We then simulate the circuit using the qasm_simulator backend and perform 1024 shots (measurement repetitions). The counts of different measurement outcomes are obtained from the result and plotted using the plot_histogram function."
   ]
  },
  {
   "cell_type": "markdown",
   "id": "958ebaa9",
   "metadata": {},
   "source": [
    "# Simulating the Circuit and Obtaining the Unitary Gate"
   ]
  },
  {
   "cell_type": "code",
   "execution_count": 7,
   "id": "97fe4257",
   "metadata": {},
   "outputs": [
    {
     "name": "stdout",
     "output_type": "stream",
     "text": [
      "Operator([[0.+0.j, 1.+0.j],\n",
      "          [1.+0.j, 0.+0.j]],\n",
      "         input_dims=(2,), output_dims=(2,))\n"
     ]
    }
   ],
   "source": [
    "circuit = QuantumCircuit(1,1)\n",
    "circuit.x(0)\n",
    "simulator = Aer.get_backend('unitary_simulator')\n",
    "result = execute(circuit, backend = simulator).result()\n",
    "unitary = result.get_unitary()\n",
    "print(unitary)"
   ]
  },
  {
   "cell_type": "markdown",
   "id": "16f17eca",
   "metadata": {},
   "source": [
    "Here, we simulate the quantum circuit using the unitary_simulator backend from Aer. The execute function is used to run the circuit, and the result object is obtained. From the result, we execute the unitary, which represents the quantum state of the circuit. The unitary gate is then printed."
   ]
  },
  {
   "cell_type": "code",
   "execution_count": 8,
   "id": "351032c5",
   "metadata": {},
   "outputs": [
    {
     "data": {
      "text/html": [
       "<pre style=\"word-wrap: normal;white-space: pre;background: #fff0;line-height: 1.1;font-family: &quot;Courier New&quot;,Courier,monospace\">     ┌───┐\n",
       "  q: ┤ X ├\n",
       "     └───┘\n",
       "c: 1/═════\n",
       "          </pre>"
      ],
      "text/plain": [
       "     ┌───┐\n",
       "  q: ┤ X ├\n",
       "     └───┘\n",
       "c: 1/═════\n",
       "          "
      ]
     },
     "execution_count": 8,
     "metadata": {},
     "output_type": "execute_result"
    }
   ],
   "source": [
    "circuit.draw()"
   ]
  },
  {
   "cell_type": "code",
   "execution_count": null,
   "id": "3bfc5aca",
   "metadata": {},
   "outputs": [],
   "source": []
  }
 ],
 "metadata": {
  "kernelspec": {
   "display_name": "Python 3 (ipykernel)",
   "language": "python",
   "name": "python3"
  },
  "language_info": {
   "codemirror_mode": {
    "name": "ipython",
    "version": 3
   },
   "file_extension": ".py",
   "mimetype": "text/x-python",
   "name": "python",
   "nbconvert_exporter": "python",
   "pygments_lexer": "ipython3",
   "version": "3.10.6"
  }
 },
 "nbformat": 4,
 "nbformat_minor": 5
}
