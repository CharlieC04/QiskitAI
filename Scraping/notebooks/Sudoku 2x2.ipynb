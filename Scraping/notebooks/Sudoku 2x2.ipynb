{
 "cells": [
  {
   "cell_type": "code",
   "execution_count": 14,
   "id": "36658609",
   "metadata": {},
   "outputs": [],
   "source": [
    "#imports\n",
    "import matplotlib.pyplot as plt\n",
    "import numpy as np\n",
    "\n",
    "from qiskit import *\n",
    "from qiskit.providers.ibmq import least_busy\n",
    "from qiskit.quantum_info import Statevector\n",
    "from qiskit.visualization import plot_histogram\n",
    "from qiskit.tools.monitor import job_monitor"
   ]
  },
  {
   "cell_type": "code",
   "execution_count": 2,
   "id": "953d2dfd",
   "metadata": {},
   "outputs": [],
   "source": [
    "clause_list = [[0,1],\n",
    "               [0,2],\n",
    "               [1,3],\n",
    "               [2,3]]"
   ]
  },
  {
   "cell_type": "code",
   "execution_count": 3,
   "id": "5f6a86b9",
   "metadata": {},
   "outputs": [],
   "source": [
    "def XOR(qc, a, b, output):\n",
    "    qc.cx(a, output)\n",
    "    qc.cx(b, output)"
   ]
  },
  {
   "cell_type": "code",
   "execution_count": 4,
   "id": "7e0f287e",
   "metadata": {},
   "outputs": [
    {
     "data": {
      "text/html": [
       "<pre style=\"word-wrap: normal;white-space: pre;background: #fff0;line-height: 1.1;font-family: &quot;Courier New&quot;,Courier,monospace\">                    \n",
       " input_0: ──■───────\n",
       "            │       \n",
       " input_1: ──┼────■──\n",
       "          ┌─┴─┐┌─┴─┐\n",
       "output_0: ┤ X ├┤ X ├\n",
       "          └───┘└───┘</pre>"
      ],
      "text/plain": [
       "                    \n",
       " input_0: ──■───────\n",
       "            │       \n",
       " input_1: ──┼────■──\n",
       "          ┌─┴─┐┌─┴─┐\n",
       "output_0: ┤ X ├┤ X ├\n",
       "          └───┘└───┘"
      ]
     },
     "execution_count": 4,
     "metadata": {},
     "output_type": "execute_result"
    }
   ],
   "source": [
    "# We will use separate registers to name the bits\n",
    "in_qubits = QuantumRegister(2, name='input')\n",
    "out_qubit = QuantumRegister(1, name='output')\n",
    "qc = QuantumCircuit(in_qubits, out_qubit)\n",
    "XOR(qc, in_qubits[0], in_qubits[1], out_qubit)\n",
    "qc.draw()"
   ]
  },
  {
   "cell_type": "code",
   "execution_count": 5,
   "id": "8966bf20",
   "metadata": {},
   "outputs": [
    {
     "data": {
      "text/html": [
       "<pre style=\"word-wrap: normal;white-space: pre;background: #fff0;line-height: 1.1;font-family: &quot;Courier New&quot;,Courier,monospace\">                                             \n",
       "v_0: ──■─────────■───────────────────────────\n",
       "       │         │                           \n",
       "v_1: ──┼────■────┼─────────■─────────────────\n",
       "       │    │    │         │                 \n",
       "v_2: ──┼────┼────┼────■────┼─────────■───────\n",
       "       │    │    │    │    │         │       \n",
       "v_3: ──┼────┼────┼────┼────┼────■────┼────■──\n",
       "     ┌─┴─┐┌─┴─┐  │    │    │    │    │    │  \n",
       "c_0: ┤ X ├┤ X ├──┼────┼────┼────┼────┼────┼──\n",
       "     └───┘└───┘┌─┴─┐┌─┴─┐  │    │    │    │  \n",
       "c_1: ──────────┤ X ├┤ X ├──┼────┼────┼────┼──\n",
       "               └───┘└───┘┌─┴─┐┌─┴─┐  │    │  \n",
       "c_2: ────────────────────┤ X ├┤ X ├──┼────┼──\n",
       "                         └───┘└───┘┌─┴─┐┌─┴─┐\n",
       "c_3: ──────────────────────────────┤ X ├┤ X ├\n",
       "                                   └───┘└───┘</pre>"
      ],
      "text/plain": [
       "                                             \n",
       "v_0: ──■─────────■───────────────────────────\n",
       "       │         │                           \n",
       "v_1: ──┼────■────┼─────────■─────────────────\n",
       "       │    │    │         │                 \n",
       "v_2: ──┼────┼────┼────■────┼─────────■───────\n",
       "       │    │    │    │    │         │       \n",
       "v_3: ──┼────┼────┼────┼────┼────■────┼────■──\n",
       "     ┌─┴─┐┌─┴─┐  │    │    │    │    │    │  \n",
       "c_0: ┤ X ├┤ X ├──┼────┼────┼────┼────┼────┼──\n",
       "     └───┘└───┘┌─┴─┐┌─┴─┐  │    │    │    │  \n",
       "c_1: ──────────┤ X ├┤ X ├──┼────┼────┼────┼──\n",
       "               └───┘└───┘┌─┴─┐┌─┴─┐  │    │  \n",
       "c_2: ────────────────────┤ X ├┤ X ├──┼────┼──\n",
       "                         └───┘└───┘┌─┴─┐┌─┴─┐\n",
       "c_3: ──────────────────────────────┤ X ├┤ X ├\n",
       "                                   └───┘└───┘"
      ]
     },
     "execution_count": 5,
     "metadata": {},
     "output_type": "execute_result"
    }
   ],
   "source": [
    "# Create separate registers to name bits\n",
    "var_qubits = QuantumRegister(4, name='v')  # variable bits\n",
    "clause_qubits = QuantumRegister(4, name='c')  # bits to store clause-checks\n",
    "\n",
    "# Create quantum circuit\n",
    "qc = QuantumCircuit(var_qubits, clause_qubits)\n",
    "\n",
    "# Use XOR gate to check each clause\n",
    "i = 0\n",
    "for clause in clause_list:\n",
    "    XOR(qc, clause[0], clause[1], clause_qubits[i])\n",
    "    i += 1\n",
    "\n",
    "qc.draw()"
   ]
  },
  {
   "cell_type": "code",
   "execution_count": 6,
   "id": "b1ce3e08",
   "metadata": {},
   "outputs": [
    {
     "data": {
      "text/html": [
       "<pre style=\"word-wrap: normal;white-space: pre;background: #fff0;line-height: 1.1;font-family: &quot;Courier New&quot;,Courier,monospace\">                                                    \n",
       "  v_0: ──■─────────■────────────────────────────────\n",
       "         │         │                                \n",
       "  v_1: ──┼────■────┼─────────■──────────────────────\n",
       "         │    │    │         │                      \n",
       "  v_2: ──┼────┼────┼────■────┼─────────■────────────\n",
       "         │    │    │    │    │         │            \n",
       "  v_3: ──┼────┼────┼────┼────┼────■────┼────■───────\n",
       "       ┌─┴─┐┌─┴─┐  │    │    │    │    │    │       \n",
       "  c_0: ┤ X ├┤ X ├──┼────┼────┼────┼────┼────┼────■──\n",
       "       └───┘└───┘┌─┴─┐┌─┴─┐  │    │    │    │    │  \n",
       "  c_1: ──────────┤ X ├┤ X ├──┼────┼────┼────┼────■──\n",
       "                 └───┘└───┘┌─┴─┐┌─┴─┐  │    │    │  \n",
       "  c_2: ────────────────────┤ X ├┤ X ├──┼────┼────■──\n",
       "                           └───┘└───┘┌─┴─┐┌─┴─┐  │  \n",
       "  c_3: ──────────────────────────────┤ X ├┤ X ├──■──\n",
       "                                     └───┘└───┘┌─┴─┐\n",
       "out_0: ────────────────────────────────────────┤ X ├\n",
       "                                               └───┘</pre>"
      ],
      "text/plain": [
       "                                                    \n",
       "  v_0: ──■─────────■────────────────────────────────\n",
       "         │         │                                \n",
       "  v_1: ──┼────■────┼─────────■──────────────────────\n",
       "         │    │    │         │                      \n",
       "  v_2: ──┼────┼────┼────■────┼─────────■────────────\n",
       "         │    │    │    │    │         │            \n",
       "  v_3: ──┼────┼────┼────┼────┼────■────┼────■───────\n",
       "       ┌─┴─┐┌─┴─┐  │    │    │    │    │    │       \n",
       "  c_0: ┤ X ├┤ X ├──┼────┼────┼────┼────┼────┼────■──\n",
       "       └───┘└───┘┌─┴─┐┌─┴─┐  │    │    │    │    │  \n",
       "  c_1: ──────────┤ X ├┤ X ├──┼────┼────┼────┼────■──\n",
       "                 └───┘└───┘┌─┴─┐┌─┴─┐  │    │    │  \n",
       "  c_2: ────────────────────┤ X ├┤ X ├──┼────┼────■──\n",
       "                           └───┘└───┘┌─┴─┐┌─┴─┐  │  \n",
       "  c_3: ──────────────────────────────┤ X ├┤ X ├──■──\n",
       "                                     └───┘└───┘┌─┴─┐\n",
       "out_0: ────────────────────────────────────────┤ X ├\n",
       "                                               └───┘"
      ]
     },
     "execution_count": 6,
     "metadata": {},
     "output_type": "execute_result"
    }
   ],
   "source": [
    "# Create separate registers to name bits\n",
    "var_qubits = QuantumRegister(4, name='v')\n",
    "clause_qubits = QuantumRegister(4, name='c')\n",
    "output_qubit = QuantumRegister(1, name='out')\n",
    "qc = QuantumCircuit(var_qubits, clause_qubits, output_qubit)\n",
    "\n",
    "# Compute clauses\n",
    "i = 0\n",
    "for clause in clause_list:\n",
    "    XOR(qc, clause[0], clause[1], clause_qubits[i])\n",
    "    i += 1\n",
    "\n",
    "# Flip 'output' bit if all clauses are satisfied\n",
    "qc.mct(clause_qubits, output_qubit)\n",
    "\n",
    "qc.draw()"
   ]
  },
  {
   "cell_type": "code",
   "execution_count": 10,
   "id": "feeb818d",
   "metadata": {},
   "outputs": [
    {
     "ename": "IndexError",
     "evalue": "list index out of range",
     "output_type": "error",
     "traceback": [
      "\u001b[1;31m---------------------------------------------------------------------------\u001b[0m",
      "\u001b[1;31mIndexError\u001b[0m                                Traceback (most recent call last)",
      "\u001b[1;32m~\\AppData\\Local\\Temp\\ipykernel_4424\\3785143921.py\u001b[0m in \u001b[0;36m<module>\u001b[1;34m\u001b[0m\n\u001b[0;32m     44\u001b[0m         \u001b[0mi\u001b[0m \u001b[1;33m+=\u001b[0m \u001b[1;36m1\u001b[0m\u001b[1;33m\u001b[0m\u001b[1;33m\u001b[0m\u001b[0m\n\u001b[0;32m     45\u001b[0m \u001b[1;33m\u001b[0m\u001b[0m\n\u001b[1;32m---> 46\u001b[1;33m \u001b[0msudoku_oracle\u001b[0m\u001b[1;33m(\u001b[0m\u001b[0mqc\u001b[0m\u001b[1;33m,\u001b[0m \u001b[0mclause_list\u001b[0m\u001b[1;33m,\u001b[0m \u001b[0mclause_qubits\u001b[0m\u001b[1;33m)\u001b[0m\u001b[1;33m\u001b[0m\u001b[1;33m\u001b[0m\u001b[0m\n\u001b[0m\u001b[0;32m     47\u001b[0m \u001b[0mqc\u001b[0m\u001b[1;33m.\u001b[0m\u001b[0mdraw\u001b[0m\u001b[1;33m(\u001b[0m\u001b[1;33m)\u001b[0m\u001b[1;33m\u001b[0m\u001b[1;33m\u001b[0m\u001b[0m\n",
      "\u001b[1;32m~\\AppData\\Local\\Temp\\ipykernel_4424\\3785143921.py\u001b[0m in \u001b[0;36msudoku_oracle\u001b[1;34m(qc, clause_list, clause_qubits)\u001b[0m\n\u001b[0;32m     32\u001b[0m     \u001b[0mi\u001b[0m \u001b[1;33m=\u001b[0m \u001b[1;36m0\u001b[0m\u001b[1;33m\u001b[0m\u001b[1;33m\u001b[0m\u001b[0m\n\u001b[0;32m     33\u001b[0m     \u001b[1;32mfor\u001b[0m \u001b[0mclause\u001b[0m \u001b[1;32min\u001b[0m \u001b[0mclause_list\u001b[0m\u001b[1;33m:\u001b[0m\u001b[1;33m\u001b[0m\u001b[1;33m\u001b[0m\u001b[0m\n\u001b[1;32m---> 34\u001b[1;33m         \u001b[0mXOR\u001b[0m\u001b[1;33m(\u001b[0m\u001b[0mqc\u001b[0m\u001b[1;33m,\u001b[0m \u001b[0mclause\u001b[0m\u001b[1;33m[\u001b[0m\u001b[1;36m0\u001b[0m\u001b[1;33m]\u001b[0m\u001b[1;33m,\u001b[0m \u001b[0mclause\u001b[0m\u001b[1;33m[\u001b[0m\u001b[1;36m1\u001b[0m\u001b[1;33m]\u001b[0m\u001b[1;33m,\u001b[0m \u001b[0mclause_qubits\u001b[0m\u001b[1;33m[\u001b[0m\u001b[0mi\u001b[0m\u001b[1;33m]\u001b[0m\u001b[1;33m)\u001b[0m\u001b[1;33m\u001b[0m\u001b[1;33m\u001b[0m\u001b[0m\n\u001b[0m\u001b[0;32m     35\u001b[0m         \u001b[0mi\u001b[0m \u001b[1;33m+=\u001b[0m \u001b[1;36m1\u001b[0m\u001b[1;33m\u001b[0m\u001b[1;33m\u001b[0m\u001b[0m\n\u001b[0;32m     36\u001b[0m \u001b[1;33m\u001b[0m\u001b[0m\n",
      "\u001b[1;32m~\\anaconda3\\lib\\site-packages\\qiskit\\circuit\\register.py\u001b[0m in \u001b[0;36m__getitem__\u001b[1;34m(self, key)\u001b[0m\n\u001b[0;32m    162\u001b[0m                 \u001b[1;32mraise\u001b[0m \u001b[0mCircuitError\u001b[0m\u001b[1;33m(\u001b[0m\u001b[1;34m\"register index out of range\"\u001b[0m\u001b[1;33m)\u001b[0m\u001b[1;33m\u001b[0m\u001b[1;33m\u001b[0m\u001b[0m\n\u001b[0;32m    163\u001b[0m         \u001b[1;32melse\u001b[0m\u001b[1;33m:\u001b[0m\u001b[1;33m\u001b[0m\u001b[1;33m\u001b[0m\u001b[0m\n\u001b[1;32m--> 164\u001b[1;33m             \u001b[1;32mreturn\u001b[0m \u001b[0mself\u001b[0m\u001b[1;33m.\u001b[0m\u001b[0m_bits\u001b[0m\u001b[1;33m[\u001b[0m\u001b[0mkey\u001b[0m\u001b[1;33m]\u001b[0m\u001b[1;33m\u001b[0m\u001b[1;33m\u001b[0m\u001b[0m\n\u001b[0m\u001b[0;32m    165\u001b[0m \u001b[1;33m\u001b[0m\u001b[0m\n\u001b[0;32m    166\u001b[0m     \u001b[1;32mdef\u001b[0m \u001b[0m__iter__\u001b[0m\u001b[1;33m(\u001b[0m\u001b[0mself\u001b[0m\u001b[1;33m)\u001b[0m\u001b[1;33m:\u001b[0m\u001b[1;33m\u001b[0m\u001b[1;33m\u001b[0m\u001b[0m\n",
      "\u001b[1;31mIndexError\u001b[0m: list index out of range"
     ]
    }
   ],
   "source": [
    "var_qubits = QuantumRegister(4, name='v')\n",
    "clause_qubits = QuantumRegister(4, name='c')\n",
    "output_qubit = QuantumRegister(1, name='out')\n",
    "cbits = ClassicalRegister(4, name='cbits')\n",
    "qc = QuantumCircuit(var_qubits, clause_qubits, output_qubit, cbits)\n",
    "\n",
    "def diffuser(nqubits):\n",
    "    qc = QuantumCircuit(nqubits)\n",
    "    # Apply transformation |s> -> |00..0> (H-gates)\n",
    "    for qubit in range(nqubits):\n",
    "        qc.h(qubit)\n",
    "    # Apply transformation |00..0> -> |11..1> (X-gates)\n",
    "    for qubit in range(nqubits):\n",
    "        qc.x(qubit)\n",
    "    # Do multi-controlled-Z gate\n",
    "    qc.h(nqubits-1)\n",
    "    qc.mct(list(range(nqubits-1)), nqubits-1)  # multi-controlled-toffoli\n",
    "    qc.h(nqubits-1)\n",
    "    # Apply transformation |11..1> -> |00..0>\n",
    "    for qubit in range(nqubits):\n",
    "        qc.x(qubit)\n",
    "    # Apply transformation |00..0> -> |s>\n",
    "    for qubit in range(nqubits):\n",
    "        qc.h(qubit)\n",
    "    # We will return the diffuser as a gate\n",
    "    U_s = qc.to_gate()\n",
    "    U_s.name = \"U$_s$\"\n",
    "    return U_s\n",
    "\n",
    "def sudoku_oracle(qc, clause_list, clause_qubits):\n",
    "    # Compute clauses\n",
    "    i = 0\n",
    "    for clause in clause_list:\n",
    "        XOR(qc, clause[0], clause[1], clause_qubits[i])\n",
    "        i += 1\n",
    "\n",
    "    # Flip 'output' bit if all clauses are satisfied\n",
    "    qc.mct(clause_qubits, output_qubit)\n",
    "\n",
    "    # Uncompute clauses to reset clause-checking bits to 0\n",
    "    i = 0\n",
    "    for clause in clause_list:\n",
    "        XOR(qc, clause[0], clause[1], clause_qubits[i])\n",
    "        i += 1\n",
    "\n",
    "sudoku_oracle(qc, clause_list, clause_qubits)\n",
    "qc.draw()"
   ]
  },
  {
   "cell_type": "code",
   "execution_count": 11,
   "id": "7ab9fe06",
   "metadata": {},
   "outputs": [
    {
     "data": {
      "text/html": [
       "<pre style=\"word-wrap: normal;white-space: pre;background: #fff0;line-height: 1.1;font-family: &quot;Courier New&quot;,Courier,monospace\">                      ┌───┐               ░                                                                                       ░ ┌────────┐                                                                                      ░ ┌────────┐┌─┐         \n",
       "    v_0: ─────────────┤ H ├───────────────░───■─────────■──────────────────────────────────■─────────■────────────────────────────░─┤0       ├──■─────────■──────────────────────────────────■─────────■────────────────────────────░─┤0       ├┤M├─────────\n",
       "                      ├───┤               ░   │         │                                  │         │                            ░ │        │  │         │                                  │         │                            ░ │        │└╥┘┌─┐      \n",
       "    v_1: ─────────────┤ H ├───────────────░───┼────■────┼─────────■────────────────────────┼────■────┼─────────■──────────────────░─┤1       ├──┼────■────┼─────────■────────────────────────┼────■────┼─────────■──────────────────░─┤1       ├─╫─┤M├──────\n",
       "                      ├───┤               ░   │    │    │         │                        │    │    │         │                  ░ │  U$_s$ │  │    │    │         │                        │    │    │         │                  ░ │  U$_s$ │ ║ └╥┘┌─┐   \n",
       "    v_2: ─────────────┤ H ├───────────────░───┼────┼────┼────■────┼─────────■──────────────┼────┼────┼────■────┼─────────■────────░─┤2       ├──┼────┼────┼────■────┼─────────■──────────────┼────┼────┼────■────┼─────────■────────░─┤2       ├─╫──╫─┤M├───\n",
       "                      ├───┤               ░   │    │    │    │    │         │              │    │    │    │    │         │        ░ │        │  │    │    │    │    │         │              │    │    │    │    │         │        ░ │        │ ║  ║ └╥┘┌─┐\n",
       "    v_3: ─────────────┤ H ├───────────────░───┼────┼────┼────┼────┼────■────┼────■─────────┼────┼────┼────┼────┼────■────┼────■───░─┤3       ├──┼────┼────┼────┼────┼────■────┼────■─────────┼────┼────┼────┼────┼────■────┼────■───░─┤3       ├─╫──╫──╫─┤M├\n",
       "                      └───┘               ░ ┌─┴─┐┌─┴─┐  │    │    │    │    │    │       ┌─┴─┐┌─┴─┐  │    │    │    │    │    │   ░ └────────┘┌─┴─┐┌─┴─┐  │    │    │    │    │    │       ┌─┴─┐┌─┴─┐  │    │    │    │    │    │   ░ └────────┘ ║  ║  ║ └╥┘\n",
       "    c_0: ─────────────────────────────────░─┤ X ├┤ X ├──┼────┼────┼────┼────┼────┼────■──┤ X ├┤ X ├──┼────┼────┼────┼────┼────┼───░───────────┤ X ├┤ X ├──┼────┼────┼────┼────┼────┼────■──┤ X ├┤ X ├──┼────┼────┼────┼────┼────┼───░────────────╫──╫──╫──╫─\n",
       "                                          ░ └───┘└───┘┌─┴─┐┌─┴─┐  │    │    │    │    │  └───┘└───┘┌─┴─┐┌─┴─┐  │    │    │    │   ░           └───┘└───┘┌─┴─┐┌─┴─┐  │    │    │    │    │  └───┘└───┘┌─┴─┐┌─┴─┐  │    │    │    │   ░            ║  ║  ║  ║ \n",
       "    c_1: ─────────────────────────────────░───────────┤ X ├┤ X ├──┼────┼────┼────┼────■────────────┤ X ├┤ X ├──┼────┼────┼────┼───░─────────────────────┤ X ├┤ X ├──┼────┼────┼────┼────■────────────┤ X ├┤ X ├──┼────┼────┼────┼───░────────────╫──╫──╫──╫─\n",
       "                                          ░           └───┘└───┘┌─┴─┐┌─┴─┐  │    │    │            └───┘└───┘┌─┴─┐┌─┴─┐  │    │   ░                     └───┘└───┘┌─┴─┐┌─┴─┐  │    │    │            └───┘└───┘┌─┴─┐┌─┴─┐  │    │   ░            ║  ║  ║  ║ \n",
       "    c_2: ─────────────────────────────────░─────────────────────┤ X ├┤ X ├──┼────┼────■──────────────────────┤ X ├┤ X ├──┼────┼───░───────────────────────────────┤ X ├┤ X ├──┼────┼────■──────────────────────┤ X ├┤ X ├──┼────┼───░────────────╫──╫──╫──╫─\n",
       "                                          ░                     └───┘└───┘┌─┴─┐┌─┴─┐  │                      └───┘└───┘┌─┴─┐┌─┴─┐ ░                               └───┘└───┘┌─┴─┐┌─┴─┐  │                      └───┘└───┘┌─┴─┐┌─┴─┐ ░            ║  ║  ║  ║ \n",
       "    c_3: ─────────────────────────────────░───────────────────────────────┤ X ├┤ X ├──■────────────────────────────────┤ X ├┤ X ├─░─────────────────────────────────────────┤ X ├┤ X ├──■────────────────────────────────┤ X ├┤ X ├─░────────────╫──╫──╫──╫─\n",
       "         ┌──────────────────────────────┐ ░                               └───┘└───┘┌─┴─┐                              └───┘└───┘ ░                                         └───┘└───┘┌─┴─┐                              └───┘└───┘ ░            ║  ║  ║  ║ \n",
       "  out_0: ┤ Initialize(0.70711,-0.70711) ├─░─────────────────────────────────────────┤ X ├─────────────────────────────────────────░───────────────────────────────────────────────────┤ X ├─────────────────────────────────────────░────────────╫──╫──╫──╫─\n",
       "         └──────────────────────────────┘ ░                                         └───┘                                         ░                                                   └───┘                                         ░            ║  ║  ║  ║ \n",
       "cbits: 4/════════════════════════════════════════════════════════════════════════════════════════════════════════════════════════════════════════════════════════════════════════════════════════════════════════════════════════════════════════╩══╩══╩══╩═\n",
       "                                                                                                                                                                                                                                                 0  1  2  3 </pre>"
      ],
      "text/plain": [
       "                      ┌───┐               ░                                                                                       ░ ┌────────┐                                                                                      ░ ┌────────┐┌─┐         \n",
       "    v_0: ─────────────┤ H ├───────────────░───■─────────■──────────────────────────────────■─────────■────────────────────────────░─┤0       ├──■─────────■──────────────────────────────────■─────────■────────────────────────────░─┤0       ├┤M├─────────\n",
       "                      ├───┤               ░   │         │                                  │         │                            ░ │        │  │         │                                  │         │                            ░ │        │└╥┘┌─┐      \n",
       "    v_1: ─────────────┤ H ├───────────────░───┼────■────┼─────────■────────────────────────┼────■────┼─────────■──────────────────░─┤1       ├──┼────■────┼─────────■────────────────────────┼────■────┼─────────■──────────────────░─┤1       ├─╫─┤M├──────\n",
       "                      ├───┤               ░   │    │    │         │                        │    │    │         │                  ░ │  U$_s$ │  │    │    │         │                        │    │    │         │                  ░ │  U$_s$ │ ║ └╥┘┌─┐   \n",
       "    v_2: ─────────────┤ H ├───────────────░───┼────┼────┼────■────┼─────────■──────────────┼────┼────┼────■────┼─────────■────────░─┤2       ├──┼────┼────┼────■────┼─────────■──────────────┼────┼────┼────■────┼─────────■────────░─┤2       ├─╫──╫─┤M├───\n",
       "                      ├───┤               ░   │    │    │    │    │         │              │    │    │    │    │         │        ░ │        │  │    │    │    │    │         │              │    │    │    │    │         │        ░ │        │ ║  ║ └╥┘┌─┐\n",
       "    v_3: ─────────────┤ H ├───────────────░───┼────┼────┼────┼────┼────■────┼────■─────────┼────┼────┼────┼────┼────■────┼────■───░─┤3       ├──┼────┼────┼────┼────┼────■────┼────■─────────┼────┼────┼────┼────┼────■────┼────■───░─┤3       ├─╫──╫──╫─┤M├\n",
       "                      └───┘               ░ ┌─┴─┐┌─┴─┐  │    │    │    │    │    │       ┌─┴─┐┌─┴─┐  │    │    │    │    │    │   ░ └────────┘┌─┴─┐┌─┴─┐  │    │    │    │    │    │       ┌─┴─┐┌─┴─┐  │    │    │    │    │    │   ░ └────────┘ ║  ║  ║ └╥┘\n",
       "    c_0: ─────────────────────────────────░─┤ X ├┤ X ├──┼────┼────┼────┼────┼────┼────■──┤ X ├┤ X ├──┼────┼────┼────┼────┼────┼───░───────────┤ X ├┤ X ├──┼────┼────┼────┼────┼────┼────■──┤ X ├┤ X ├──┼────┼────┼────┼────┼────┼───░────────────╫──╫──╫──╫─\n",
       "                                          ░ └───┘└───┘┌─┴─┐┌─┴─┐  │    │    │    │    │  └───┘└───┘┌─┴─┐┌─┴─┐  │    │    │    │   ░           └───┘└───┘┌─┴─┐┌─┴─┐  │    │    │    │    │  └───┘└───┘┌─┴─┐┌─┴─┐  │    │    │    │   ░            ║  ║  ║  ║ \n",
       "    c_1: ─────────────────────────────────░───────────┤ X ├┤ X ├──┼────┼────┼────┼────■────────────┤ X ├┤ X ├──┼────┼────┼────┼───░─────────────────────┤ X ├┤ X ├──┼────┼────┼────┼────■────────────┤ X ├┤ X ├──┼────┼────┼────┼───░────────────╫──╫──╫──╫─\n",
       "                                          ░           └───┘└───┘┌─┴─┐┌─┴─┐  │    │    │            └───┘└───┘┌─┴─┐┌─┴─┐  │    │   ░                     └───┘└───┘┌─┴─┐┌─┴─┐  │    │    │            └───┘└───┘┌─┴─┐┌─┴─┐  │    │   ░            ║  ║  ║  ║ \n",
       "    c_2: ─────────────────────────────────░─────────────────────┤ X ├┤ X ├──┼────┼────■──────────────────────┤ X ├┤ X ├──┼────┼───░───────────────────────────────┤ X ├┤ X ├──┼────┼────■──────────────────────┤ X ├┤ X ├──┼────┼───░────────────╫──╫──╫──╫─\n",
       "                                          ░                     └───┘└───┘┌─┴─┐┌─┴─┐  │                      └───┘└───┘┌─┴─┐┌─┴─┐ ░                               └───┘└───┘┌─┴─┐┌─┴─┐  │                      └───┘└───┘┌─┴─┐┌─┴─┐ ░            ║  ║  ║  ║ \n",
       "    c_3: ─────────────────────────────────░───────────────────────────────┤ X ├┤ X ├──■────────────────────────────────┤ X ├┤ X ├─░─────────────────────────────────────────┤ X ├┤ X ├──■────────────────────────────────┤ X ├┤ X ├─░────────────╫──╫──╫──╫─\n",
       "         ┌──────────────────────────────┐ ░                               └───┘└───┘┌─┴─┐                              └───┘└───┘ ░                                         └───┘└───┘┌─┴─┐                              └───┘└───┘ ░            ║  ║  ║  ║ \n",
       "  out_0: ┤ Initialize(0.70711,-0.70711) ├─░─────────────────────────────────────────┤ X ├─────────────────────────────────────────░───────────────────────────────────────────────────┤ X ├─────────────────────────────────────────░────────────╫──╫──╫──╫─\n",
       "         └──────────────────────────────┘ ░                                         └───┘                                         ░                                                   └───┘                                         ░            ║  ║  ║  ║ \n",
       "cbits: 4/════════════════════════════════════════════════════════════════════════════════════════════════════════════════════════════════════════════════════════════════════════════════════════════════════════════════════════════════════════╩══╩══╩══╩═\n",
       "                                                                                                                                                                                                                                                 0  1  2  3 "
      ]
     },
     "execution_count": 11,
     "metadata": {},
     "output_type": "execute_result"
    }
   ],
   "source": [
    "var_qubits = QuantumRegister(4, name='v')\n",
    "clause_qubits = QuantumRegister(4, name='c')\n",
    "output_qubit = QuantumRegister(1, name='out')\n",
    "cbits = ClassicalRegister(4, name='cbits')\n",
    "qc = QuantumCircuit(var_qubits, clause_qubits, output_qubit, cbits)\n",
    "\n",
    "# Initialize 'out0' in state |->\n",
    "qc.initialize([1, -1]/np.sqrt(2), output_qubit)\n",
    "\n",
    "# Initialize qubits in state |s>\n",
    "qc.h(var_qubits)\n",
    "qc.barrier()  # for visual separation\n",
    "\n",
    "## First Iteration\n",
    "# Apply our oracle\n",
    "sudoku_oracle(qc, clause_list, clause_qubits)\n",
    "qc.barrier()  # for visual separation\n",
    "# Apply our diffuser\n",
    "qc.append(diffuser(4), [0,1,2,3])\n",
    "\n",
    "## Second Iteration\n",
    "sudoku_oracle(qc, clause_list, clause_qubits)\n",
    "qc.barrier()  # for visual separation\n",
    "# Apply our diffuser\n",
    "qc.append(diffuser(4), [0,1,2,3])\n",
    "\n",
    "# Measure the variable qubits\n",
    "qc.measure(var_qubits, cbits)\n",
    "\n",
    "qc.draw(fold=-1)"
   ]
  },
  {
   "cell_type": "code",
   "execution_count": 15,
   "id": "2df4fded",
   "metadata": {},
   "outputs": [
    {
     "name": "stdout",
     "output_type": "stream",
     "text": [
      "job id: e10970ed-d7bb-41c7-a2a8-958fc9a4333e\n",
      "\r",
      "Job Status: job has successfully run\n"
     ]
    },
    {
     "data": {
      "image/png": "[encoded data removed]",
      "text/plain": [
       "<Figure size 700x500 with 1 Axes>"
      ]
     },
     "execution_count": 15,
     "metadata": {},
     "output_type": "execute_result"
    }
   ],
   "source": [
    "# Simulate and plot results\n",
    "backend = Aer.get_backend('aer_simulator')\n",
    "#provider = IBMQ.load_account()\n",
    "#backend = provider.get_backend('ibm_oslo')\n",
    "\n",
    "job = execute(qc, backend=backend, shots=1024)\n",
    "print(\"job id:\", job.job_id())\n",
    "job_monitor(job)\n",
    "result = job.result()\n",
    "plot_histogram(result.get_counts())"
   ]
  },
  {
   "cell_type": "code",
   "execution_count": null,
   "id": "f94faa2d",
   "metadata": {},
   "outputs": [],
   "source": []
  }
 ],
 "metadata": {
  "kernelspec": {
   "display_name": "Python 3 (ipykernel)",
   "language": "python",
   "name": "python3"
  },
  "language_info": {
   "codemirror_mode": {
    "name": "ipython",
    "version": 3
   },
   "file_extension": ".py",
   "mimetype": "text/x-python",
   "name": "python",
   "nbconvert_exporter": "python",
   "pygments_lexer": "ipython3",
   "version": "3.9.13"
  }
 },
 "nbformat": 4,
 "nbformat_minor": 5
}
