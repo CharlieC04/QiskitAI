{
  "nbformat": 4,
  "nbformat_minor": 0,
  "metadata": {
    "colab": {
      "provenance": [],
      "collapsed_sections": [
        "ZWxoZ7ztcDug"
      ]
    },
    "kernelspec": {
      "name": "python3",
      "display_name": "Python 3"
    },
    "language_info": {
      "name": "python"
    }
  },
  "cells": [
    {
      "cell_type": "markdown",
      "source": [
        "# Grover Searching the proof-of-work problem\n",
        "In this notebook, we will be implementing Grover search on a simplified version of the proof-of-work problem. \n",
        "\n",
        "As a refresher, the proof-of-work problem wants the user to find an input which has a hash that fits under certain predefined characteristics.\n",
        "\n",
        "Because of resource constraints, we will be working with a simplified model. Specifically, we will only be working with 4 qubits. We will also be defining a simplified hash function, and assuming that we can modify all of the input."
      ],
      "metadata": {
        "id": "IbJqnc0fThKt"
      }
    },
    {
      "cell_type": "markdown",
      "source": [
        "# Setup"
      ],
      "metadata": {
        "id": "ZWxoZ7ztcDug"
      }
    },
    {
      "cell_type": "code",
      "execution_count": null,
      "metadata": {
        "id": "tEeOHBInedhG",
        "colab": {
          "base_uri": "https://localhost:8080/"
        },
        "outputId": "c3b11d84-d075-4892-ae4d-217c6e3b229e"
      },
      "outputs": [
        {
          "output_type": "stream",
          "name": "stdout",
          "text": [
            "Looking in indexes: https://pypi.org/simple, https://us-python.pkg.dev/colab-wheels/public/simple/\n",
            "Collecting qiskit\n",
            "  Downloading qiskit-0.39.2.tar.gz (13 kB)\n",
            "Requirement already satisfied: matplotlib in /usr/local/lib/python3.7/dist-packages (3.2.2)\n",
            "Collecting qiskit-terra==0.22.2\n",
            "  Downloading qiskit_terra-0.22.2-cp37-cp37m-manylinux_2_17_x86_64.manylinux2014_x86_64.whl (4.8 MB)\n",
            "\u001b[K     |████████████████████████████████| 4.8 MB 25.4 MB/s \n",
            "\u001b[?25hCollecting qiskit-aer==0.11.1\n",
            "  Downloading qiskit_aer-0.11.1-cp37-cp37m-manylinux_2_17_x86_64.manylinux2014_x86_64.whl (19.2 MB)\n",
            "\u001b[K     |████████████████████████████████| 19.2 MB 9.4 MB/s \n",
            "\u001b[?25hCollecting qiskit-ibmq-provider==0.19.2\n",
            "  Downloading qiskit_ibmq_provider-0.19.2-py3-none-any.whl (240 kB)\n",
            "\u001b[K     |████████████████████████████████| 240 kB 40.4 MB/s \n",
            "\u001b[?25hRequirement already satisfied: numpy>=1.16.3 in /usr/local/lib/python3.7/dist-packages (from qiskit-aer==0.11.1->qiskit) (1.21.6)\n",
            "Requirement already satisfied: scipy>=1.0 in /usr/local/lib/python3.7/dist-packages (from qiskit-aer==0.11.1->qiskit) (1.7.3)\n",
            "Requirement already satisfied: requests>=2.19 in /usr/local/lib/python3.7/dist-packages (from qiskit-ibmq-provider==0.19.2->qiskit) (2.23.0)\n",
            "Requirement already satisfied: python-dateutil>=2.8.0 in /usr/local/lib/python3.7/dist-packages (from qiskit-ibmq-provider==0.19.2->qiskit) (2.8.2)\n",
            "Collecting websocket-client>=1.0.1\n",
            "  Downloading websocket_client-1.4.2-py3-none-any.whl (55 kB)\n",
            "\u001b[K     |████████████████████████████████| 55 kB 2.0 MB/s \n",
            "\u001b[?25hRequirement already satisfied: urllib3>=1.21.1 in /usr/local/lib/python3.7/dist-packages (from qiskit-ibmq-provider==0.19.2->qiskit) (1.24.3)\n",
            "Collecting websockets>=10.0\n",
            "  Downloading websockets-10.4-cp37-cp37m-manylinux_2_5_x86_64.manylinux1_x86_64.manylinux_2_17_x86_64.manylinux2014_x86_64.whl (106 kB)\n",
            "\u001b[K     |████████████████████████████████| 106 kB 41.9 MB/s \n",
            "\u001b[?25hCollecting requests-ntlm>=1.1.0\n",
            "  Downloading requests_ntlm-1.1.0-py2.py3-none-any.whl (5.7 kB)\n",
            "Collecting retworkx>=0.11.0\n",
            "  Downloading retworkx-0.12.0-py3-none-any.whl (10 kB)\n",
            "Collecting ply>=3.10\n",
            "  Downloading ply-3.11-py2.py3-none-any.whl (49 kB)\n",
            "\u001b[K     |████████████████████████████████| 49 kB 4.1 MB/s \n",
            "\u001b[?25hRequirement already satisfied: psutil>=5 in /usr/local/lib/python3.7/dist-packages (from qiskit-terra==0.22.2->qiskit) (5.4.8)\n",
            "Requirement already satisfied: dill>=0.3 in /usr/local/lib/python3.7/dist-packages (from qiskit-terra==0.22.2->qiskit) (0.3.6)\n",
            "Requirement already satisfied: typing-extensions in /usr/local/lib/python3.7/dist-packages (from qiskit-terra==0.22.2->qiskit) (4.1.1)\n",
            "Collecting shared-memory38\n",
            "  Downloading shared_memory38-0.1.2-cp37-cp37m-manylinux_2_5_x86_64.manylinux1_x86_64.whl (25 kB)\n",
            "Requirement already satisfied: importlib-metadata<5.0 in /usr/local/lib/python3.7/dist-packages (from qiskit-terra==0.22.2->qiskit) (4.13.0)\n",
            "Collecting symengine>=0.9\n",
            "  Downloading symengine-0.9.2-cp37-cp37m-manylinux2010_x86_64.whl (37.5 MB)\n",
            "\u001b[K     |████████████████████████████████| 37.5 MB 1.3 MB/s \n",
            "\u001b[?25hCollecting stevedore>=3.0.0\n",
            "  Downloading stevedore-3.5.2-py3-none-any.whl (50 kB)\n",
            "\u001b[K     |████████████████████████████████| 50 kB 1.4 MB/s \n",
            "\u001b[?25hRequirement already satisfied: sympy>=1.3 in /usr/local/lib/python3.7/dist-packages (from qiskit-terra==0.22.2->qiskit) (1.7.1)\n",
            "Collecting tweedledum<2.0,>=1.1\n",
            "  Downloading tweedledum-1.1.1-cp37-cp37m-manylinux_2_12_x86_64.manylinux2010_x86_64.whl (943 kB)\n",
            "\u001b[K     |████████████████████████████████| 943 kB 37.4 MB/s \n",
            "\u001b[?25hRequirement already satisfied: zipp>=0.5 in /usr/local/lib/python3.7/dist-packages (from importlib-metadata<5.0->qiskit-terra==0.22.2->qiskit) (3.10.0)\n",
            "Requirement already satisfied: six>=1.5 in /usr/local/lib/python3.7/dist-packages (from python-dateutil>=2.8.0->qiskit-ibmq-provider==0.19.2->qiskit) (1.15.0)\n",
            "Requirement already satisfied: certifi>=2017.4.17 in /usr/local/lib/python3.7/dist-packages (from requests>=2.19->qiskit-ibmq-provider==0.19.2->qiskit) (2022.9.24)\n",
            "Requirement already satisfied: chardet<4,>=3.0.2 in /usr/local/lib/python3.7/dist-packages (from requests>=2.19->qiskit-ibmq-provider==0.19.2->qiskit) (3.0.4)\n",
            "Requirement already satisfied: idna<3,>=2.5 in /usr/local/lib/python3.7/dist-packages (from requests>=2.19->qiskit-ibmq-provider==0.19.2->qiskit) (2.10)\n",
            "Collecting ntlm-auth>=1.0.2\n",
            "  Downloading ntlm_auth-1.5.0-py2.py3-none-any.whl (29 kB)\n",
            "Collecting cryptography>=1.3\n",
            "  Downloading cryptography-38.0.3-cp36-abi3-manylinux_2_24_x86_64.whl (4.1 MB)\n",
            "\u001b[K     |████████████████████████████████| 4.1 MB 36.7 MB/s \n",
            "\u001b[?25hRequirement already satisfied: cffi>=1.12 in /usr/local/lib/python3.7/dist-packages (from cryptography>=1.3->requests-ntlm>=1.1.0->qiskit-ibmq-provider==0.19.2->qiskit) (1.15.1)\n",
            "Requirement already satisfied: pycparser in /usr/local/lib/python3.7/dist-packages (from cffi>=1.12->cryptography>=1.3->requests-ntlm>=1.1.0->qiskit-ibmq-provider==0.19.2->qiskit) (2.21)\n",
            "Collecting rustworkx==0.12.0\n",
            "  Downloading rustworkx-0.12.0-cp37-cp37m-manylinux_2_17_x86_64.manylinux2014_x86_64.whl (1.9 MB)\n",
            "\u001b[K     |████████████████████████████████| 1.9 MB 46.6 MB/s \n",
            "\u001b[?25hCollecting pbr!=2.1.0,>=2.0.0\n",
            "  Downloading pbr-5.11.0-py2.py3-none-any.whl (112 kB)\n",
            "\u001b[K     |████████████████████████████████| 112 kB 40.6 MB/s \n",
            "\u001b[?25hRequirement already satisfied: mpmath>=0.19 in /usr/local/lib/python3.7/dist-packages (from sympy>=1.3->qiskit-terra==0.22.2->qiskit) (1.2.1)\n",
            "Requirement already satisfied: pyparsing!=2.0.4,!=2.1.2,!=2.1.6,>=2.0.1 in /usr/local/lib/python3.7/dist-packages (from matplotlib) (3.0.9)\n",
            "Requirement already satisfied: cycler>=0.10 in /usr/local/lib/python3.7/dist-packages (from matplotlib) (0.11.0)\n",
            "Requirement already satisfied: kiwisolver>=1.0.1 in /usr/local/lib/python3.7/dist-packages (from matplotlib) (1.4.4)\n",
            "Building wheels for collected packages: qiskit\n",
            "  Building wheel for qiskit (setup.py) ... \u001b[?25l\u001b[?25hdone\n",
            "  Created wheel for qiskit: filename=qiskit-0.39.2-py3-none-any.whl size=12226 sha256=9c763e0fe5110ddb6f78fd4d26d0f66615efd5404ef44bf0d40c5207c1deee31\n",
            "  Stored in directory: /root/.cache/pip/wheels/30/dc/90/0ee55ccffd13c16db1abd4c43028f7c9cedb5576b190402190\n",
            "Successfully built qiskit\n",
            "Installing collected packages: rustworkx, pbr, tweedledum, symengine, stevedore, shared-memory38, retworkx, ply, ntlm-auth, cryptography, websockets, websocket-client, requests-ntlm, qiskit-terra, qiskit-ibmq-provider, qiskit-aer, qiskit\n",
            "Successfully installed cryptography-38.0.3 ntlm-auth-1.5.0 pbr-5.11.0 ply-3.11 qiskit-0.39.2 qiskit-aer-0.11.1 qiskit-ibmq-provider-0.19.2 qiskit-terra-0.22.2 requests-ntlm-1.1.0 retworkx-0.12.0 rustworkx-0.12.0 shared-memory38-0.1.2 stevedore-3.5.2 symengine-0.9.2 tweedledum-1.1.1 websocket-client-1.4.2 websockets-10.4\n"
          ]
        }
      ],
      "source": [
        "!pip install qiskit matplotlib\n",
        "\n",
        "import qiskit\n",
        "import matplotlib\n",
        "\n",
        "from qiskit import QuantumCircuit, assemble, Aer, circuit, QuantumRegister, ClassicalRegister, transpile\n",
        "from qiskit.visualization import plot_histogram\n",
        "from qiskit.quantum_info.operators import Operator"
      ]
    },
    {
      "cell_type": "markdown",
      "source": [
        "# Hash and De-Hash Operators"
      ],
      "metadata": {
        "id": "jyazJ3IVsxgp"
      }
    },
    {
      "cell_type": "markdown",
      "source": [
        "We simulate a \"hash function\" by creating a quantum gate that does a one-to-one linear transformation mapping from one four-qubit state to another. We also code its inverse, which is needed for Grover's."
      ],
      "metadata": {
        "id": "QZqzzxAo2x6k"
      }
    },
    {
      "cell_type": "code",
      "source": [
        "def hash_operator():\n",
        "  hash_gate = Operator([\n",
        "    [0,0,1,0,0,0,0,0,0,0,0,0,0,0,0,0],\n",
        "    [0,0,0,0,0,0,0,0,0,0,0,0,0,0,1,0],\n",
        "    [0,1,0,0,0,0,0,0,0,0,0,0,0,0,0,0],\n",
        "    [0,0,0,0,0,0,0,0,0,0,0,0,1,0,0,0],\n",
        "    [0,0,0,0,0,0,0,0,0,0,0,0,0,0,0,1],\n",
        "    [0,0,0,1,0,0,0,0,0,0,0,0,0,0,0,0],\n",
        "    [0,0,0,0,0,0,0,0,0,0,1,0,0,0,0,0],\n",
        "    [0,0,0,0,0,0,0,0,1,0,0,0,0,0,0,0],\n",
        "    [0,0,0,0,0,0,1,0,0,0,0,0,0,0,0,0],\n",
        "    [0,0,0,0,0,0,0,0,0,0,0,1,0,0,0,0],\n",
        "    [0,0,0,0,1,0,0,0,0,0,0,0,0,0,0,0],\n",
        "    [0,0,0,0,0,0,0,1,0,0,0,0,0,0,0,0],\n",
        "    [0,0,0,0,0,0,0,0,0,1,0,0,0,0,0,0],\n",
        "    [0,0,0,0,0,1,0,0,0,0,0,0,0,0,0,0],\n",
        "    [0,0,0,0,0,0,0,0,0,0,0,0,0,1,0,0],\n",
        "    [1,0,0,0,0,0,0,0,0,0,0,0,0,0,0,0]\n",
        "  ])\n",
        "  hash_gate.name = \"Hash Gate\"\n",
        "  return hash_gate\n",
        "\n",
        "def dehash_operator():\n",
        "  hash_dagger = hash_operator().conjugate().transpose()\n",
        "  hash_dagger.name = \"Hash Dagger\"\n",
        "  return hash_dagger"
      ],
      "metadata": {
        "id": "_AXsP0cisUPd"
      },
      "execution_count": null,
      "outputs": []
    },
    {
      "cell_type": "markdown",
      "source": [
        "# Oracle"
      ],
      "metadata": {
        "id": "KS86hwNyswRs"
      }
    },
    {
      "cell_type": "markdown",
      "source": [
        "Since the desired hash output is 00xx (x = don't care), we put X-gates around a CZ gate for the 2 most significant bits."
      ],
      "metadata": {
        "id": "g1AYbx1F2ODh"
      }
    },
    {
      "cell_type": "code",
      "source": [
        "def oracle():\n",
        "  qreg_q = QuantumRegister(4, 'q')\n",
        "  oracle = QuantumCircuit(qreg_q, name='oracle')\n",
        "  oracle.x(qreg_q[2:4])\n",
        "  oracle.cz(qreg_q[2], qreg_q[3])\n",
        "  oracle.x(qreg_q[2:4])\n",
        "  oracle_op = oracle.to_gate()\n",
        "  oracle_op.name = 'oracle'\n",
        "  return oracle\n",
        "\n",
        "oracle().draw()"
      ],
      "metadata": {
        "id": "A3KvCzvwsnaV",
        "colab": {
          "base_uri": "https://localhost:8080/",
          "height": 171
        },
        "outputId": "24778b3a-2a48-4d55-ee63-655a8b4c51f6"
      },
      "execution_count": null,
      "outputs": [
        {
          "output_type": "execute_result",
          "data": {
            "text/plain": [
              "                  \n",
              "q_0: ─────────────\n",
              "                  \n",
              "q_1: ─────────────\n",
              "     ┌───┐   ┌───┐\n",
              "q_2: ┤ X ├─■─┤ X ├\n",
              "     ├───┤ │ ├───┤\n",
              "q_3: ┤ X ├─■─┤ X ├\n",
              "     └───┘   └───┘"
            ],
            "text/html": [
              "<pre style=\"word-wrap: normal;white-space: pre;background: #fff0;line-height: 1.1;font-family: &quot;Courier New&quot;,Courier,monospace\">                  \n",
              "q_0: ─────────────\n",
              "                  \n",
              "q_1: ─────────────\n",
              "     ┌───┐   ┌───┐\n",
              "q_2: ┤ X ├─■─┤ X ├\n",
              "     ├───┤ │ ├───┤\n",
              "q_3: ┤ X ├─■─┤ X ├\n",
              "     └───┘   └───┘</pre>"
            ]
          },
          "metadata": {},
          "execution_count": 3
        }
      ]
    },
    {
      "cell_type": "markdown",
      "source": [
        "# Diffuser"
      ],
      "metadata": {
        "id": "yZ6LcKRgtDHF"
      }
    },
    {
      "cell_type": "markdown",
      "source": [
        "A diffusor amplifies the magnitude of the ideal states and dampens the magnitude of the undesired states."
      ],
      "metadata": {
        "id": "QHYM59Ez3XSr"
      }
    },
    {
      "cell_type": "code",
      "source": [
        "# diffuser from https://qiskit.org/textbook/ch-algorithms/grover.html\n",
        "def diffuser(nqubits):\n",
        "    qc = QuantumCircuit(nqubits)\n",
        "    # Apply transformation |s> -> |00..0> (H-gates)\n",
        "    for qubit in range(nqubits):\n",
        "        qc.h(qubit)\n",
        "    # Apply transformation |00..0> -> |11..1> (X-gates)\n",
        "    for qubit in range(nqubits):\n",
        "        qc.x(qubit)\n",
        "    # Do multi-controlled-Z gate\n",
        "    qc.h(nqubits-1)\n",
        "    qc.mct(list(range(nqubits-1)), nqubits-1)  # multi-controlled-toffoli\n",
        "    qc.h(nqubits-1)\n",
        "    # Apply transformation |11..1> -> |00..0>\n",
        "    for qubit in range(nqubits):\n",
        "        qc.x(qubit)\n",
        "    # Apply transformation |00..0> -> |s>\n",
        "    for qubit in range(nqubits):\n",
        "        qc.h(qubit)\n",
        "    # We will return the diffuser as a gate\n",
        "    U_s = qc.to_gate()\n",
        "    U_s.name = \"diffusor\"\n",
        "    return U_s"
      ],
      "metadata": {
        "id": "aJivC89dtCPc"
      },
      "execution_count": null,
      "outputs": []
    },
    {
      "cell_type": "markdown",
      "source": [
        "# Four-block Grover's"
      ],
      "metadata": {
        "id": "Qucj6bo0tJk3"
      }
    },
    {
      "cell_type": "markdown",
      "source": [
        "Since our algorithm is hypothesized to run in $O(2^{n/2})$ time, we need $\\lceil 2^{4/2} \\rceil = 4$ blocks."
      ],
      "metadata": {
        "id": "HJw9PL7v3mdy"
      }
    },
    {
      "cell_type": "code",
      "source": [
        "n_qubits = 4\n",
        "controls = QuantumRegister(n_qubits)\n",
        "circuit = QuantumCircuit(controls)\n",
        "\n",
        "circuit.append(hash_operator(), [0, 1, 2, 3])\n",
        "circuit.append(oracle(), [0, 1, 2, 3])\n",
        "circuit.append(dehash_operator(), [0, 1, 2, 3])\n",
        "circuit.append(diffuser(n_qubits), [0, 1, 2, 3])\n",
        "\n",
        "#circuit.measure_all()\n",
        "circuit.draw()"
      ],
      "metadata": {
        "colab": {
          "base_uri": "https://localhost:8080/",
          "height": 171
        },
        "id": "MNu7wVSQtICb",
        "outputId": "29900e6c-9c71-4155-f7cb-134731462c88"
      },
      "execution_count": null,
      "outputs": [
        {
          "output_type": "execute_result",
          "data": {
            "text/plain": [
              "      ┌──────────┐┌─────────┐┌──────────┐┌───────────┐\n",
              "q0_0: ┤0         ├┤0        ├┤0         ├┤0          ├\n",
              "      │          ││         ││          ││           │\n",
              "q0_1: ┤1         ├┤1        ├┤1         ├┤1          ├\n",
              "      │  Unitary ││  oracle ││  Unitary ││  diffusor │\n",
              "q0_2: ┤2         ├┤2        ├┤2         ├┤2          ├\n",
              "      │          ││         ││          ││           │\n",
              "q0_3: ┤3         ├┤3        ├┤3         ├┤3          ├\n",
              "      └──────────┘└─────────┘└──────────┘└───────────┘"
            ],
            "text/html": [
              "<pre style=\"word-wrap: normal;white-space: pre;background: #fff0;line-height: 1.1;font-family: &quot;Courier New&quot;,Courier,monospace\">      ┌──────────┐┌─────────┐┌──────────┐┌───────────┐\n",
              "q0_0: ┤0         ├┤0        ├┤0         ├┤0          ├\n",
              "      │          ││         ││          ││           │\n",
              "q0_1: ┤1         ├┤1        ├┤1         ├┤1          ├\n",
              "      │  Unitary ││  oracle ││  Unitary ││  diffusor │\n",
              "q0_2: ┤2         ├┤2        ├┤2         ├┤2          ├\n",
              "      │          ││         ││          ││           │\n",
              "q0_3: ┤3         ├┤3        ├┤3         ├┤3          ├\n",
              "      └──────────┘└─────────┘└──────────┘└───────────┘</pre>"
            ]
          },
          "metadata": {},
          "execution_count": 5
        }
      ]
    },
    {
      "cell_type": "markdown",
      "source": [
        "#Building the Circuit"
      ],
      "metadata": {
        "id": "56X8Z7PezVYS"
      }
    },
    {
      "cell_type": "code",
      "source": [
        "n_qubits = 4\n",
        "controls = QuantumRegister(n_qubits)\n",
        "circuit = QuantumCircuit(controls)\n",
        "\n",
        "#Create uniform superposition of possible inputs\n",
        "circuit.h([0,1,2,3])\n",
        "\n",
        "#Run Grover's 2^(4/2) times\n",
        "circuit.append(hash_operator(), [0, 1, 2, 3])\n",
        "circuit.append(oracle(), [0, 1, 2, 3])\n",
        "circuit.append(dehash_operator(), [0, 1, 2, 3])\n",
        "circuit.append(diffuser(n_qubits), [0, 1, 2, 3])\n",
        "\n",
        "circuit.append(hash_operator(), [0, 1, 2, 3])\n",
        "circuit.append(oracle(), [0, 1, 2, 3])\n",
        "circuit.append(dehash_operator(), [0, 1, 2, 3])\n",
        "circuit.append(diffuser(n_qubits), [0, 1, 2, 3])\n",
        "\n",
        "circuit.append(hash_operator(), [0, 1, 2, 3])\n",
        "circuit.append(oracle(), [0, 1, 2, 3])\n",
        "circuit.append(dehash_operator(), [0, 1, 2, 3])\n",
        "circuit.append(diffuser(n_qubits), [0, 1, 2, 3])\n",
        "\n",
        "circuit.append(hash_operator(), [0, 1, 2, 3])\n",
        "circuit.append(oracle(), [0, 1, 2, 3])\n",
        "circuit.append(dehash_operator(), [0, 1, 2, 3])\n",
        "circuit.append(diffuser(n_qubits), [0, 1, 2, 3])\n",
        "\n",
        "circuit.measure_all()\n",
        "circuit.draw()"
      ],
      "metadata": {
        "colab": {
          "base_uri": "https://localhost:8080/",
          "height": 1000
        },
        "id": "1MpEccCjzXqw",
        "outputId": "ce32537c-945f-45c5-977d-360e82cd118a"
      },
      "execution_count": null,
      "outputs": [
        {
          "output_type": "execute_result",
          "data": {
            "text/plain": [
              "        ┌───┐┌──────────┐┌─────────┐┌──────────┐┌───────────┐┌──────────┐»\n",
              "  q1_0: ┤ H ├┤0         ├┤0        ├┤0         ├┤0          ├┤0         ├»\n",
              "        ├───┤│          ││         ││          ││           ││          │»\n",
              "  q1_1: ┤ H ├┤1         ├┤1        ├┤1         ├┤1          ├┤1         ├»\n",
              "        ├───┤│  Unitary ││  oracle ││  Unitary ││  diffusor ││  Unitary │»\n",
              "  q1_2: ┤ H ├┤2         ├┤2        ├┤2         ├┤2          ├┤2         ├»\n",
              "        ├───┤│          ││         ││          ││           ││          │»\n",
              "  q1_3: ┤ H ├┤3         ├┤3        ├┤3         ├┤3          ├┤3         ├»\n",
              "        └───┘└──────────┘└─────────┘└──────────┘└───────────┘└──────────┘»\n",
              "meas_0: ═════════════════════════════════════════════════════════════════»\n",
              "                                                                         »\n",
              "meas_1: ═════════════════════════════════════════════════════════════════»\n",
              "                                                                         »\n",
              "meas_2: ═════════════════════════════════════════════════════════════════»\n",
              "                                                                         »\n",
              "meas_3: ═════════════════════════════════════════════════════════════════»\n",
              "                                                                         »\n",
              "«        ┌─────────┐┌──────────┐┌───────────┐┌──────────┐┌─────────┐»\n",
              "«  q1_0: ┤0        ├┤0         ├┤0          ├┤0         ├┤0        ├»\n",
              "«        │         ││          ││           ││          ││         │»\n",
              "«  q1_1: ┤1        ├┤1         ├┤1          ├┤1         ├┤1        ├»\n",
              "«        │  oracle ││  Unitary ││  diffusor ││  Unitary ││  oracle │»\n",
              "«  q1_2: ┤2        ├┤2         ├┤2          ├┤2         ├┤2        ├»\n",
              "«        │         ││          ││           ││          ││         │»\n",
              "«  q1_3: ┤3        ├┤3         ├┤3          ├┤3         ├┤3        ├»\n",
              "«        └─────────┘└──────────┘└───────────┘└──────────┘└─────────┘»\n",
              "«meas_0: ═══════════════════════════════════════════════════════════»\n",
              "«                                                                   »\n",
              "«meas_1: ═══════════════════════════════════════════════════════════»\n",
              "«                                                                   »\n",
              "«meas_2: ═══════════════════════════════════════════════════════════»\n",
              "«                                                                   »\n",
              "«meas_3: ═══════════════════════════════════════════════════════════»\n",
              "«                                                                   »\n",
              "«        ┌──────────┐┌───────────┐┌──────────┐┌─────────┐┌──────────┐»\n",
              "«  q1_0: ┤0         ├┤0          ├┤0         ├┤0        ├┤0         ├»\n",
              "«        │          ││           ││          ││         ││          │»\n",
              "«  q1_1: ┤1         ├┤1          ├┤1         ├┤1        ├┤1         ├»\n",
              "«        │  Unitary ││  diffusor ││  Unitary ││  oracle ││  Unitary │»\n",
              "«  q1_2: ┤2         ├┤2          ├┤2         ├┤2        ├┤2         ├»\n",
              "«        │          ││           ││          ││         ││          │»\n",
              "«  q1_3: ┤3         ├┤3          ├┤3         ├┤3        ├┤3         ├»\n",
              "«        └──────────┘└───────────┘└──────────┘└─────────┘└──────────┘»\n",
              "«meas_0: ════════════════════════════════════════════════════════════»\n",
              "«                                                                    »\n",
              "«meas_1: ════════════════════════════════════════════════════════════»\n",
              "«                                                                    »\n",
              "«meas_2: ════════════════════════════════════════════════════════════»\n",
              "«                                                                    »\n",
              "«meas_3: ════════════════════════════════════════════════════════════»\n",
              "«                                                                    »\n",
              "«        ┌───────────┐ ░ ┌─┐         \n",
              "«  q1_0: ┤0          ├─░─┤M├─────────\n",
              "«        │           │ ░ └╥┘┌─┐      \n",
              "«  q1_1: ┤1          ├─░──╫─┤M├──────\n",
              "«        │  diffusor │ ░  ║ └╥┘┌─┐   \n",
              "«  q1_2: ┤2          ├─░──╫──╫─┤M├───\n",
              "«        │           │ ░  ║  ║ └╥┘┌─┐\n",
              "«  q1_3: ┤3          ├─░──╫──╫──╫─┤M├\n",
              "«        └───────────┘ ░  ║  ║  ║ └╥┘\n",
              "«meas_0: ═════════════════╩══╬══╬══╬═\n",
              "«                            ║  ║  ║ \n",
              "«meas_1: ════════════════════╩══╬══╬═\n",
              "«                               ║  ║ \n",
              "«meas_2: ═══════════════════════╩══╬═\n",
              "«                                  ║ \n",
              "«meas_3: ══════════════════════════╩═\n",
              "«                                    "
            ],
            "text/html": [
              "<pre style=\"word-wrap: normal;white-space: pre;background: #fff0;line-height: 1.1;font-family: &quot;Courier New&quot;,Courier,monospace\">        ┌───┐┌──────────┐┌─────────┐┌──────────┐┌───────────┐┌──────────┐»\n",
              "  q1_0: ┤ H ├┤0         ├┤0        ├┤0         ├┤0          ├┤0         ├»\n",
              "        ├───┤│          ││         ││          ││           ││          │»\n",
              "  q1_1: ┤ H ├┤1         ├┤1        ├┤1         ├┤1          ├┤1         ├»\n",
              "        ├───┤│  Unitary ││  oracle ││  Unitary ││  diffusor ││  Unitary │»\n",
              "  q1_2: ┤ H ├┤2         ├┤2        ├┤2         ├┤2          ├┤2         ├»\n",
              "        ├───┤│          ││         ││          ││           ││          │»\n",
              "  q1_3: ┤ H ├┤3         ├┤3        ├┤3         ├┤3          ├┤3         ├»\n",
              "        └───┘└──────────┘└─────────┘└──────────┘└───────────┘└──────────┘»\n",
              "meas_0: ═════════════════════════════════════════════════════════════════»\n",
              "                                                                         »\n",
              "meas_1: ═════════════════════════════════════════════════════════════════»\n",
              "                                                                         »\n",
              "meas_2: ═════════════════════════════════════════════════════════════════»\n",
              "                                                                         »\n",
              "meas_3: ═════════════════════════════════════════════════════════════════»\n",
              "                                                                         »\n",
              "«        ┌─────────┐┌──────────┐┌───────────┐┌──────────┐┌─────────┐»\n",
              "«  q1_0: ┤0        ├┤0         ├┤0          ├┤0         ├┤0        ├»\n",
              "«        │         ││          ││           ││          ││         │»\n",
              "«  q1_1: ┤1        ├┤1         ├┤1          ├┤1         ├┤1        ├»\n",
              "«        │  oracle ││  Unitary ││  diffusor ││  Unitary ││  oracle │»\n",
              "«  q1_2: ┤2        ├┤2         ├┤2          ├┤2         ├┤2        ├»\n",
              "«        │         ││          ││           ││          ││         │»\n",
              "«  q1_3: ┤3        ├┤3         ├┤3          ├┤3         ├┤3        ├»\n",
              "«        └─────────┘└──────────┘└───────────┘└──────────┘└─────────┘»\n",
              "«meas_0: ═══════════════════════════════════════════════════════════»\n",
              "«                                                                   »\n",
              "«meas_1: ═══════════════════════════════════════════════════════════»\n",
              "«                                                                   »\n",
              "«meas_2: ═══════════════════════════════════════════════════════════»\n",
              "«                                                                   »\n",
              "«meas_3: ═══════════════════════════════════════════════════════════»\n",
              "«                                                                   »\n",
              "«        ┌──────────┐┌───────────┐┌──────────┐┌─────────┐┌──────────┐»\n",
              "«  q1_0: ┤0         ├┤0          ├┤0         ├┤0        ├┤0         ├»\n",
              "«        │          ││           ││          ││         ││          │»\n",
              "«  q1_1: ┤1         ├┤1          ├┤1         ├┤1        ├┤1         ├»\n",
              "«        │  Unitary ││  diffusor ││  Unitary ││  oracle ││  Unitary │»\n",
              "«  q1_2: ┤2         ├┤2          ├┤2         ├┤2        ├┤2         ├»\n",
              "«        │          ││           ││          ││         ││          │»\n",
              "«  q1_3: ┤3         ├┤3          ├┤3         ├┤3        ├┤3         ├»\n",
              "«        └──────────┘└───────────┘└──────────┘└─────────┘└──────────┘»\n",
              "«meas_0: ════════════════════════════════════════════════════════════»\n",
              "«                                                                    »\n",
              "«meas_1: ════════════════════════════════════════════════════════════»\n",
              "«                                                                    »\n",
              "«meas_2: ════════════════════════════════════════════════════════════»\n",
              "«                                                                    »\n",
              "«meas_3: ════════════════════════════════════════════════════════════»\n",
              "«                                                                    »\n",
              "«        ┌───────────┐ ░ ┌─┐         \n",
              "«  q1_0: ┤0          ├─░─┤M├─────────\n",
              "«        │           │ ░ └╥┘┌─┐      \n",
              "«  q1_1: ┤1          ├─░──╫─┤M├──────\n",
              "«        │  diffusor │ ░  ║ └╥┘┌─┐   \n",
              "«  q1_2: ┤2          ├─░──╫──╫─┤M├───\n",
              "«        │           │ ░  ║  ║ └╥┘┌─┐\n",
              "«  q1_3: ┤3          ├─░──╫──╫──╫─┤M├\n",
              "«        └───────────┘ ░  ║  ║  ║ └╥┘\n",
              "«meas_0: ═════════════════╩══╬══╬══╬═\n",
              "«                            ║  ║  ║ \n",
              "«meas_1: ════════════════════╩══╬══╬═\n",
              "«                               ║  ║ \n",
              "«meas_2: ═══════════════════════╩══╬═\n",
              "«                                  ║ \n",
              "«meas_3: ══════════════════════════╩═\n",
              "«                                    </pre>"
            ]
          },
          "metadata": {},
          "execution_count": 6
        }
      ]
    },
    {
      "cell_type": "code",
      "source": [
        "sim = Aer.get_backend('aer_simulator') \n",
        "# We run the simulator with sim.run(QUANTUM CIRCUIT),\n",
        "# And we get the resulting values with .result()\n",
        "transpiled_grover_circuit = transpile(circuit, sim)\n",
        "qobj = assemble(transpiled_grover_circuit)\n",
        "result = sim.run(qobj).result()\n",
        "# We then collect the results using .get_counts()\n",
        "counts = result.get_counts()\n",
        "# Visualization\n",
        "plot_histogram(counts)"
      ],
      "metadata": {
        "id": "HR-chLGTtQoM",
        "colab": {
          "base_uri": "https://localhost:8080/",
          "height": 369
        },
        "outputId": "c6dfe5e2-7cfc-4e1f-cf73-78bf1004ef5f"
      },
      "execution_count": null,
      "outputs": [
        {
          "output_type": "execute_result",
          "data": {
            "text/plain": [
              "<Figure size 504x360 with 1 Axes>"
            ],
            "image/png": "[encoded data removed]"
          },
          "metadata": {},
          "execution_count": 7
        }
      ]
    },
    {
      "cell_type": "markdown",
      "source": [
        "We get the states 0001, 0010, 1100, and 1110 as expected :)"
      ],
      "metadata": {
        "id": "g04b8HXsSpHS"
      }
    },
    {
      "cell_type": "code",
      "source": [],
      "metadata": {
        "id": "TM3Lm3-RuH_Y"
      },
      "execution_count": null,
      "outputs": []
    }
  ]
}