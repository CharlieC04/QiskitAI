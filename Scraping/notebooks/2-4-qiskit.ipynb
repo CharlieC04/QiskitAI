{
 "cells": [
  {
   "cell_type": "code",
   "execution_count": 4,
   "metadata": {},
   "outputs": [
    {
     "name": "stderr",
     "output_type": "stream",
     "text": [
      "ibmqfactory.load_account:WARNING:2021-04-21 03:11:16,095: Credentials are already in use. The existing account in the session will be replaced.\n"
     ]
    }
   ],
   "source": [
    "import numpy as np\n",
    "# Importing standard Qiskit libraries\n",
    "from qiskit import QuantumCircuit, transpile, Aer, IBMQ\n",
    "from qiskit.tools.jupyter import *\n",
    "from qiskit.visualization import *\n",
    "from ibm_quantum_widgets import *\n",
    "\n",
    "# Loading your IBM Q account(s)\n",
    "provider = IBMQ.load_account()"
   ]
  },
  {
   "cell_type": "code",
   "execution_count": 5,
   "metadata": {},
   "outputs": [
    {
     "data": {
      "application/vnd.jupyter.widget-view+json": {
       "model_id": "2089d631810f4af88cb5caaf20a86626",
       "version_major": 2,
       "version_minor": 0
      },
      "text/plain": [
       "CircuitComposer(circuit=<qiskit.circuit.quantumcircuit.QuantumCircuit object at 0x7f15efebfe50>)"
      ]
     },
     "metadata": {},
     "output_type": "display_data"
    }
   ],
   "source": [
    "from qiskit import QuantumRegister, ClassicalRegister, QuantumCircuit\n",
    "from numpy import pi\n",
    "\n",
    "qreg_alice = QuantumRegister(1, 'alice')\n",
    "qreg_fiber = QuantumRegister(1, 'fiber')\n",
    "qreg_bob = QuantumRegister(1, 'bob')\n",
    "creg_ahad = ClassicalRegister(1, 'ahad')\n",
    "creg_aval = ClassicalRegister(1, 'aval')\n",
    "creg_fval = ClassicalRegister(1, 'fval')\n",
    "creg_bhad = ClassicalRegister(1, 'bhad')\n",
    "creg_bval = ClassicalRegister(1, 'bval')\n",
    "circuit = QuantumCircuit(qreg_alice, qreg_fiber, qreg_bob, creg_ahad, creg_aval, creg_fval, creg_bhad, creg_bval)\n",
    "\n",
    "circuit.reset(qreg_alice[0])\n",
    "circuit.h(qreg_alice[0])\n",
    "circuit.measure(qreg_alice[0], creg_ahad[0])\n",
    "circuit.reset(qreg_alice[0])\n",
    "circuit.h(qreg_alice[0])\n",
    "circuit.measure(qreg_alice[0], creg_aval[0])\n",
    "circuit.reset(qreg_alice[0])\n",
    "circuit.x(qreg_alice[0]).c_if(creg_aval, 1)\n",
    "circuit.h(qreg_alice[0]).c_if(creg_ahad, 1)\n",
    "circuit.swap(qreg_alice[0], qreg_fiber[0])\n",
    "circuit.barrier(qreg_alice[0], qreg_fiber[0], qreg_bob[0])\n",
    "circuit.h(qreg_fiber[0])\n",
    "circuit.measure(qreg_fiber[0], creg_fval[0])\n",
    "circuit.reset(qreg_fiber[0])\n",
    "circuit.x(qreg_fiber[0]).c_if(creg_fval, 1)\n",
    "circuit.h(qreg_fiber[0])\n",
    "circuit.barrier(qreg_alice[0], qreg_fiber[0], qreg_bob[0])\n",
    "circuit.reset(qreg_bob[0])\n",
    "circuit.h(qreg_bob[0])\n",
    "circuit.measure(qreg_bob[0], creg_bhad[0])\n",
    "circuit.swap(qreg_fiber[0], qreg_bob[0])\n",
    "circuit.h(qreg_bob[0]).c_if(creg_bhad, 1)\n",
    "circuit.measure(qreg_bob[0], creg_bval[0])\n",
    "\n",
    "\n",
    "editor = CircuitComposer(circuit=circuit)\n",
    "editor"
   ]
  },
  {
   "cell_type": "code",
   "execution_count": null,
   "metadata": {},
   "outputs": [],
   "source": []
  }
 ],
 "metadata": {
  "kernelspec": {
   "display_name": "Python 3",
   "language": "python",
   "name": "python3"
  },
  "language_info": {
   "codemirror_mode": {
    "name": "ipython",
    "version": 3
   },
   "file_extension": ".py",
   "mimetype": "text/x-python",
   "name": "python",
   "nbconvert_exporter": "python",
   "pygments_lexer": "ipython3",
   "version": "3.8.8"
  },
  "widgets": {
   "application/vnd.jupyter.widget-state+json": {
    "state": {
     "0482c636cb0846e6800450d7da0f954e": {
      "model_module": "@quantum/ibm-q-lab-widgets",
      "model_module_version": "^1.0.3",
      "model_name": "CircuitComposerModel",
      "state": {
       "_model_module_version": "^1.0.3",
       "_view_module_version": "^1.0.3",
       "circuit": "\"OPENQASM 2.0;\\ninclude \\\"qelib1.inc\\\";\\n\\nqreg alice[1];\\nqreg fiber[1];\\nqreg bob[1];\\ncreg ahad[1];\\ncreg aval[1];\\ncreg fval[1];\\ncreg bhad[1];\\ncreg bval[1];\\n\\nreset alice[0];\\nh alice[0];\\nmeasure alice[0] -> ahad[0];\\nreset alice[0];\\nh alice[0];\\nmeasure alice[0] -> aval[0];\\nreset alice[0];\\nif (aval==1) x alice[0];\\nif (ahad==1) h alice[0];\\nswap alice[0],fiber[0];\\nbarrier alice[0],fiber[0],bob[0];\\nh fiber[0];\\nmeasure fiber[0] -> fval[0];\\nreset fiber[0];\\nif (fval==1) x fiber[0];\\nh fiber[0];\\nbarrier alice[0],fiber[0],bob[0];\\nreset bob[0];\\nh bob[0];\\nmeasure bob[0] -> bhad[0];\\nswap fiber[0],bob[0];\\nif (bhad==1) h bob[0];\\nmeasure bob[0] -> bval[0];\"",
       "editable": true,
       "layout": "IPY_MODEL_4a8b533231ad41df9620187b93dcbfd9",
       "qiskit_code_cell_index": -1
      }
     },
     "04cc50a5bd4b497f975b441d4474d39c": {
      "model_module": "@jupyter-widgets/base",
      "model_module_version": "1.2.0",
      "model_name": "LayoutModel",
      "state": {}
     },
     "0b22b97b9f404cdeb58ec16825cc3be5": {
      "model_module": "@jupyter-widgets/base",
      "model_module_version": "1.2.0",
      "model_name": "LayoutModel",
      "state": {
       "width": "95px"
      }
     },
     "152c777152f54ee5bbcea66004f9cc34": {
      "model_module": "@jupyter-widgets/controls",
      "model_module_version": "1.5.0",
      "model_name": "DescriptionStyleModel",
      "state": {
       "description_width": ""
      }
     },
     "170d1c524c7748f7bcfaeb56ff8967b8": {
      "model_module": "@jupyter-widgets/controls",
      "model_module_version": "1.5.0",
      "model_name": "HBoxModel",
      "state": {
       "children": [
        "IPY_MODEL_7c6811ef5ec84745be9d4679c3894db2",
        "IPY_MODEL_4942a61382db4a21b09f1626336ad064",
        "IPY_MODEL_4ff3e77a5073461e8a951a5a9343588e",
        "IPY_MODEL_f9f576ad1ec94b95a5215ee0d1af1c17",
        "IPY_MODEL_dc0e5b15d2eb4e29bd91eada0574d820"
       ],
       "layout": "IPY_MODEL_c6b02519ed90443f94d58b0613554c00"
      }
     },
     "2089d631810f4af88cb5caaf20a86626": {
      "model_module": "@quantum/ibm-q-lab-widgets",
      "model_module_version": "^1.0.3",
      "model_name": "CircuitComposerModel",
      "state": {
       "_model_module_version": "^1.0.3",
       "_view_module_version": "^1.0.3",
       "circuit": "\"OPENQASM 2.0;\\ninclude \\\"qelib1.inc\\\";\\n\\nqreg alice[1];\\nqreg fiber[1];\\nqreg bob[1];\\ncreg ahad[1];\\ncreg aval[1];\\ncreg fval[1];\\ncreg bhad[1];\\ncreg bval[1];\\n\\nreset alice[0];\\nh alice[0];\\nmeasure alice[0] -> ahad[0];\\nreset alice[0];\\nh alice[0];\\nmeasure alice[0] -> aval[0];\\nreset alice[0];\\nif (aval==1) x alice[0];\\nif (ahad==1) h alice[0];\\nswap alice[0],fiber[0];\\nbarrier alice[0],fiber[0],bob[0];\\nh fiber[0];\\nmeasure fiber[0] -> fval[0];\\nreset fiber[0];\\nif (fval==1) x fiber[0];\\nh fiber[0];\\nbarrier alice[0],fiber[0],bob[0];\\nreset bob[0];\\nh bob[0];\\nmeasure bob[0] -> bhad[0];\\nswap fiber[0],bob[0];\\nif (bhad==1) h bob[0];\\nmeasure bob[0] -> bval[0];\"",
       "editable": true,
       "layout": "IPY_MODEL_d439fe9abc9e469dad3298312068ee1c",
       "qiskit_code_cell_index": -1
      }
     },
     "24ecaeb38707468b8a99f37645dcc78d": {
      "model_module": "@jupyter-widgets/controls",
      "model_module_version": "1.5.0",
      "model_name": "ButtonModel",
      "state": {
       "button_style": "primary",
       "description": "Clear",
       "layout": "IPY_MODEL_4abb9c0625214e16b9d5d62537e4be37",
       "style": "IPY_MODEL_f7a074f7b0a44d79801bc8168f9affa3"
      }
     },
     "35d125181af14a6cb04914c4ed0aef3c": {
      "model_module": "@jupyter-widgets/controls",
      "model_module_version": "1.5.0",
      "model_name": "DescriptionStyleModel",
      "state": {
       "description_width": ""
      }
     },
     "4942a61382db4a21b09f1626336ad064": {
      "model_module": "@jupyter-widgets/controls",
      "model_module_version": "1.5.0",
      "model_name": "HTMLModel",
      "state": {
       "layout": "IPY_MODEL_5b24d0242205426aa7e4897dff72f916",
       "style": "IPY_MODEL_fe5fd2321ae448eda9b732b861ea70b8",
       "value": "<h5>Backend</h5>"
      }
     },
     "4a8b533231ad41df9620187b93dcbfd9": {
      "model_module": "@jupyter-widgets/base",
      "model_module_version": "1.2.0",
      "model_name": "LayoutModel",
      "state": {}
     },
     "4abb9c0625214e16b9d5d62537e4be37": {
      "model_module": "@jupyter-widgets/base",
      "model_module_version": "1.2.0",
      "model_name": "LayoutModel",
      "state": {
       "grid_area": "right",
       "padding": "0px 0px 0px 0px",
       "width": "70px"
      }
     },
     "4fe7b6118acb4fc9b829947cb405ffe6": {
      "model_module": "@jupyter-widgets/controls",
      "model_module_version": "1.5.0",
      "model_name": "DescriptionStyleModel",
      "state": {
       "description_width": ""
      }
     },
     "4ff3e77a5073461e8a951a5a9343588e": {
      "model_module": "@jupyter-widgets/controls",
      "model_module_version": "1.5.0",
      "model_name": "HTMLModel",
      "state": {
       "layout": "IPY_MODEL_0b22b97b9f404cdeb58ec16825cc3be5",
       "style": "IPY_MODEL_152c777152f54ee5bbcea66004f9cc34",
       "value": "<h5>Status</h5>"
      }
     },
     "5b24d0242205426aa7e4897dff72f916": {
      "model_module": "@jupyter-widgets/base",
      "model_module_version": "1.2.0",
      "model_name": "LayoutModel",
      "state": {
       "width": "145px"
      }
     },
     "7c6811ef5ec84745be9d4679c3894db2": {
      "model_module": "@jupyter-widgets/controls",
      "model_module_version": "1.5.0",
      "model_name": "HTMLModel",
      "state": {
       "layout": "IPY_MODEL_e4f45c268d7e4721b4d87c5f1c3a2692",
       "style": "IPY_MODEL_4fe7b6118acb4fc9b829947cb405ffe6",
       "value": "<h5>Job ID</h5>"
      }
     },
     "b54c6920a01c4e08a813802f91dcc914": {
      "model_module": "@jupyter-widgets/base",
      "model_module_version": "1.2.0",
      "model_name": "LayoutModel",
      "state": {
       "margin": "0px 0px 10px 0px"
      }
     },
     "bac969ae4f74482b82746b7668b7007f": {
      "model_module": "@jupyter-widgets/base",
      "model_module_version": "1.2.0",
      "model_name": "LayoutModel",
      "state": {
       "width": "70px"
      }
     },
     "c6b02519ed90443f94d58b0613554c00": {
      "model_module": "@jupyter-widgets/base",
      "model_module_version": "1.2.0",
      "model_name": "LayoutModel",
      "state": {
       "margin": "0px 0px 0px 37px",
       "width": "600px"
      }
     },
     "d439fe9abc9e469dad3298312068ee1c": {
      "model_module": "@jupyter-widgets/base",
      "model_module_version": "1.2.0",
      "model_name": "LayoutModel",
      "state": {}
     },
     "d5945b820e5d4dd8b5b3fcf624d22542": {
      "model_module": "@jupyter-widgets/controls",
      "model_module_version": "1.5.0",
      "model_name": "DescriptionStyleModel",
      "state": {
       "description_width": ""
      }
     },
     "dc0e5b15d2eb4e29bd91eada0574d820": {
      "model_module": "@jupyter-widgets/controls",
      "model_module_version": "1.5.0",
      "model_name": "HTMLModel",
      "state": {
       "layout": "IPY_MODEL_04cc50a5bd4b497f975b441d4474d39c",
       "style": "IPY_MODEL_e26109effe994b0692bb50400dc35f87",
       "value": "<h5>Message</h5>"
      }
     },
     "e26109effe994b0692bb50400dc35f87": {
      "model_module": "@jupyter-widgets/controls",
      "model_module_version": "1.5.0",
      "model_name": "DescriptionStyleModel",
      "state": {
       "description_width": ""
      }
     },
     "e4f45c268d7e4721b4d87c5f1c3a2692": {
      "model_module": "@jupyter-widgets/base",
      "model_module_version": "1.2.0",
      "model_name": "LayoutModel",
      "state": {
       "width": "190px"
      }
     },
     "e814f7e6af9f4d6e96a2ff97fe225bfb": {
      "model_module": "@jupyter-widgets/controls",
      "model_module_version": "1.5.0",
      "model_name": "HTMLModel",
      "state": {
       "layout": "IPY_MODEL_b54c6920a01c4e08a813802f91dcc914",
       "style": "IPY_MODEL_35d125181af14a6cb04914c4ed0aef3c",
       "value": "<p style='font-family: IBM Plex Sans, Arial, Helvetica, sans-serif; font-size: 20px; font-weight: medium;'>Circuit Properties</p>"
      }
     },
     "e87e766f0e85439d9f7218982a78f5f4": {
      "model_module": "@jupyter-widgets/controls",
      "model_module_version": "1.5.0",
      "model_name": "GridBoxModel",
      "state": {
       "children": [
        "IPY_MODEL_24ecaeb38707468b8a99f37645dcc78d"
       ],
       "layout": "IPY_MODEL_f4fff763e562458dbc38f263f0c9d32b"
      }
     },
     "f4fff763e562458dbc38f263f0c9d32b": {
      "model_module": "@jupyter-widgets/base",
      "model_module_version": "1.2.0",
      "model_name": "LayoutModel",
      "state": {
       "grid_template_areas": "\n                                       \". . . . right \"\n                                        ",
       "grid_template_columns": "20% 20% 20% 20% 20%",
       "width": "100%"
      }
     },
     "f7a074f7b0a44d79801bc8168f9affa3": {
      "model_module": "@jupyter-widgets/controls",
      "model_module_version": "1.5.0",
      "model_name": "ButtonStyleModel",
      "state": {}
     },
     "f9f576ad1ec94b95a5215ee0d1af1c17": {
      "model_module": "@jupyter-widgets/controls",
      "model_module_version": "1.5.0",
      "model_name": "HTMLModel",
      "state": {
       "layout": "IPY_MODEL_bac969ae4f74482b82746b7668b7007f",
       "style": "IPY_MODEL_d5945b820e5d4dd8b5b3fcf624d22542",
       "value": "<h5>Queue</h5>"
      }
     },
     "fe5fd2321ae448eda9b732b861ea70b8": {
      "model_module": "@jupyter-widgets/controls",
      "model_module_version": "1.5.0",
      "model_name": "DescriptionStyleModel",
      "state": {
       "description_width": ""
      }
     }
    },
    "version_major": 2,
    "version_minor": 0
   }
  }
 },
 "nbformat": 4,
 "nbformat_minor": 4
}
