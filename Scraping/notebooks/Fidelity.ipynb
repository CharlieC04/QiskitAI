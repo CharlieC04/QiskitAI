{
 "cells": [
  {
   "cell_type": "markdown",
   "id": "e603857c",
   "metadata": {},
   "source": [
    "# Fidelity\n",
    "\n",
    "In this notebook, we will try to summarize some of the substancial fidelity operations in qiskit and how to implement them"
   ]
  },
  {
   "cell_type": "code",
   "execution_count": 1,
   "id": "b7696dde",
   "metadata": {},
   "outputs": [],
   "source": [
    "import numpy as np\n",
    "from qiskit import QuantumCircuit, BasicAer, execute\n",
    "from qiskit.circuit.library import YGate\n",
    "from qiskit.quantum_info import Operator, average_gate_fidelity, process_fidelity, state_fidelity"
   ]
  },
  {
   "cell_type": "markdown",
   "id": "2055d62a",
   "metadata": {},
   "source": [
    "## For gates\n",
    "\n",
    "Fidelity can be calculated among gates through \n",
    "\n",
    "* `quantum_info.average_gate_fidelity`:https://qiskit.org/documentation/stubs/qiskit.quantum_info.average_gate_fidelity.html\n",
    "* `quantum_info.process_fidelity`: https://qiskit.org/documentation/stubs/qiskit.quantum_info.process_fidelity.html\n"
   ]
  },
  {
   "cell_type": "markdown",
   "id": "a51059c8",
   "metadata": {},
   "source": [
    "<b> 1. <b>  `average_gate_fidelity` \n",
    "    \n",
    "It returns the average gate fidelity of a noisy quantum channel"
   ]
  },
  {
   "cell_type": "code",
   "execution_count": 2,
   "id": "04ffb84a",
   "metadata": {},
   "outputs": [
    {
     "data": {
      "text/plain": [
       "1.0"
      ]
     },
     "execution_count": 2,
     "metadata": {},
     "output_type": "execute_result"
    }
   ],
   "source": [
    "#we define a operator op_a = Ygate\n",
    "op_a = Operator(YGate())\n",
    "\n",
    "# we define also op_b=np.exp(1j / 2) * op_a which is essentially op_a but with a global phase np.exp(1j / 2)\n",
    "op_b = np.exp(1j / 2) * op_a\n",
    "\n",
    "#we run the fidelity for those gates\n",
    "average_gate_fidelity(op_a,op_b)"
   ]
  },
  {
   "cell_type": "markdown",
   "id": "d50b465f",
   "metadata": {},
   "source": [
    "Note, in the case of unitary operators, it does not depend on global phase."
   ]
  },
  {
   "cell_type": "markdown",
   "id": "8b88b3e5",
   "metadata": {},
   "source": [
    "<b> 2. <b> `quantum_info.process_fidelity`\n",
    " \n",
    " We may also compare operators using the `process_fidelity`"
   ]
  },
  {
   "cell_type": "code",
   "execution_count": 3,
   "id": "394ca90d",
   "metadata": {},
   "outputs": [
    {
     "data": {
      "text/plain": [
       "1.0"
      ]
     },
     "execution_count": 3,
     "metadata": {},
     "output_type": "execute_result"
    }
   ],
   "source": [
    "process_fidelity(op_a, op_b)"
   ]
  },
  {
   "cell_type": "markdown",
   "id": "3cd46a83",
   "metadata": {},
   "source": [
    "## For states\n",
    "\n",
    "<b> 1. <b>`quantum_info.state_fidelity`: https://qiskit.org/documentation/stubs/qiskit.quantum_info.state_fidelity.html"
   ]
  },
  {
   "cell_type": "code",
   "execution_count": 4,
   "id": "39c34761",
   "metadata": {},
   "outputs": [
    {
     "data": {
      "image/png": "[encoded data removed]",
      "text/plain": [
       "<Figure size 193.726x84.28 with 1 Axes>"
      ]
     },
     "execution_count": 4,
     "metadata": {},
     "output_type": "execute_result"
    }
   ],
   "source": [
    "# same here, but now with a general state\n",
    "n = 1/np.sqrt(3) \n",
    "desired_state = [n,np.sqrt(1-n**2)]\n",
    "\n",
    "qc = QuantumCircuit(1)\n",
    "qc.initialize(desired_state,0)\n",
    "qc.draw('mpl')"
   ]
  },
  {
   "cell_type": "code",
   "execution_count": 5,
   "id": "dac9b633",
   "metadata": {},
   "outputs": [
    {
     "data": {
      "text/plain": [
       "1.0"
      ]
     },
     "execution_count": 5,
     "metadata": {},
     "output_type": "execute_result"
    }
   ],
   "source": [
    "# we run it with help of a simulator\n",
    "back_sv = BasicAer.get_backend('statevector_simulator')\n",
    "result = execute(qc, back_sv).result()\n",
    "qc_sv = result.get_statevector(qc)\n",
    "\n",
    "#Now, we run the fidelity for those states and we see they are the same \n",
    "state_fidelity(desired_state, qc_sv) "
   ]
  },
  {
   "cell_type": "markdown",
   "id": "e70ac371",
   "metadata": {},
   "source": [
    "## Also possible option:\n",
    "\n",
    "<b> 1. <b> `quantum_info.hellinger_fidelity`: https://qiskit.org/documentation/stubs/qiskit.quantum_info.hellinger_fidelity.html\n"
   ]
  },
  {
   "cell_type": "code",
   "execution_count": null,
   "id": "c0959381",
   "metadata": {},
   "outputs": [],
   "source": []
  }
 ],
 "metadata": {
  "kernelspec": {
   "display_name": "Python 3 (ipykernel)",
   "language": "python",
   "name": "python3"
  },
  "language_info": {
   "codemirror_mode": {
    "name": "ipython",
    "version": 3
   },
   "file_extension": ".py",
   "mimetype": "text/x-python",
   "name": "python",
   "nbconvert_exporter": "python",
   "pygments_lexer": "ipython3",
   "version": "3.8.10"
  }
 },
 "nbformat": 4,
 "nbformat_minor": 5
}
