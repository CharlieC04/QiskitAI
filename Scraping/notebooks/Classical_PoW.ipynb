{
  "cells": [
    {
      "cell_type": "markdown",
      "metadata": {},
      "source": [
        "# Classical Brute Force Proof of Work Algorithm\n",
        "This is just a demonstration of code that would be traditionally used to try to get the desired input for a desired hash output. Called \"brute force\" because it quite literally just iterates through every single possible permutation."
      ]
    },
    {
      "cell_type": "code",
      "execution_count": 1,
      "metadata": {
        "id": "GFx4Ls-Vun-8"
      },
      "outputs": [],
      "source": [
        "hash_dict = {\n",
        "    '0000': '1111',\n",
        "    '0001': '0010',\n",
        "    '0010': '0000',\n",
        "    '0011': '0101',\n",
        "    '0100': '1010',\n",
        "    '0101': '1101',\n",
        "    '0110': '1000',\n",
        "    '0111': '1011',\n",
        "    '1000': '0111',\n",
        "    '1001': '1100',\n",
        "    '1010': '0110',\n",
        "    '1011': '1001',\n",
        "    '1100': '0011',\n",
        "    '1101': '1110',\n",
        "    '1110': '0001',\n",
        "    '1111': '0100'\n",
        "}"
      ]
    },
    {
      "cell_type": "code",
      "execution_count": 2,
      "metadata": {
        "id": "eFyD7j38zTxM"
      },
      "outputs": [],
      "source": [
        "import random\n",
        "def get_strings(bit_count):\n",
        "    strarr = []\n",
        "    def generate(n, s=''):\n",
        "        if len(s) == n:\n",
        "            strarr.append(s)\n",
        "        else:\n",
        "            generate(n, s + '0')\n",
        "            generate(n, s + '1')\n",
        "\n",
        "    generate(bit_count)\n",
        "    random.shuffle(strarr)\n",
        "    return strarr"
      ]
    },
    {
      "cell_type": "code",
      "execution_count": 3,
      "metadata": {
        "id": "vipjAszevjAV"
      },
      "outputs": [],
      "source": [
        "def proof_of_work(level, bitlen):\n",
        "  strarr = get_strings(bitlen)\n",
        "  count = 1\n",
        "  for i in strarr:\n",
        "    if hash_dict[i].startswith('0'*level):\n",
        "      # print(\"found hash\", i, \"in\", count, \" tries\")\n",
        "      random.shuffle(strarr)\n",
        "      break;\n",
        "    else: \n",
        "      count += 1\n",
        "    \n",
        "  return count\n",
        " "
      ]
    },
    {
      "cell_type": "code",
      "execution_count": 4,
      "metadata": {
        "id": "EACe2v8hxhJL"
      },
      "outputs": [],
      "source": [
        "def getAvgTries(tries, level=4, bitlen=4):\n",
        "  sum = 0\n",
        "  for i in range(tries):\n",
        "    sum += proof_of_work(level, bitlen)\n",
        "  return sum/tries"
      ]
    },
    {
      "cell_type": "code",
      "execution_count": 5,
      "metadata": {
        "colab": {
          "base_uri": "https://localhost:8080/"
        },
        "id": "1CxU0exVxjT9",
        "outputId": "b20dddba-60ab-4549-f8d8-2d55bb7981dc"
      },
      "outputs": [
        {
          "data": {
            "text/plain": [
              "9.21"
            ]
          },
          "execution_count": 5,
          "metadata": {},
          "output_type": "execute_result"
        }
      ],
      "source": [
        "getAvgTries(100)"
      ]
    }
  ],
  "metadata": {
    "colab": {
      "provenance": []
    },
    "kernelspec": {
      "display_name": "Python 3.9.1 64-bit ('3.9.1')",
      "language": "python",
      "name": "python3"
    },
    "language_info": {
      "codemirror_mode": {
        "name": "ipython",
        "version": 3
      },
      "file_extension": ".py",
      "mimetype": "text/x-python",
      "name": "python",
      "nbconvert_exporter": "python",
      "pygments_lexer": "ipython3",
      "version": "3.9.1"
    },
    "vscode": {
      "interpreter": {
        "hash": "b8c15e19cfce258d75d85d6cc4634120fe6577f04e3dad8ab0d7041aa0b318bd"
      }
    }
  },
  "nbformat": 4,
  "nbformat_minor": 0
}
