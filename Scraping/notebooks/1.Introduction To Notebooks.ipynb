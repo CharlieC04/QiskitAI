{
  "cells": [
    {
      "cell_type": "code",
      "source": [
        "# A jupyter notebook is composed by one or more cells.\n",
        "# There are two main cells: Code and Markdown.\n",
        "# A code cell is used to write and execute your codes.\n",
        "# A markdown cell is used to write text descriptions, notes, formulas or include graphics and images.\n",
        "# On a markdown cell, you can format your content by using Markdown, HTML, or LaTeX codes.\n",
        "# During our tutorial, you are expected to write only python codes.\n",
        "# Interested readers may also use markdown cells, but it is not necesary to complete our tutorial. \n",
        "\n",
        "#\n",
        "# We explain basic usage of cells in Jupyter notebooks here\n",
        "#\n",
        "\n",
        "# This is the first cell in this notebook.\n",
        "# You can write Python code here, \n",
        "# and then EXECUTE/RUN it by\n",
        "# 1) pressing CTRL+ENTER or SHIFT+ENTER\n",
        "# 2) clicking \"Run\" on the menu\n",
        "\n",
        "\n",
        "# here are few lines of python code\n",
        "\n",
        "print(\"hello world\")\n",
        "str=\"*\"\n",
        "for i in range(10):\n",
        "    print(str)\n",
        "    str+=\"*\"\n",
        "\n",
        "# after executing this cell, the outcomes will immedeately appear after this cell\n",
        "#     you can change the range above and re-run this cell"
      ],
      "outputs": [
        {
          "output_type": "stream",
          "name": "stdout",
          "text": [
            "hello world\n",
            "*\n",
            "**\n",
            "***\n",
            "****\n",
            "*****\n",
            "******\n",
            "*******\n",
            "********\n",
            "*********\n",
            "**********\n"
          ]
        }
      ],
      "execution_count": 1,
      "metadata": {}
    },
    {
      "cell_type": "code",
      "source": [
        "# This is the second cell in this notebook. \n",
        "#\n",
        "# By using menu item \"Insert\", you can add a new cell before or after the active cell.\n",
        "#     When a cell is selected, you may delete it by using menu item \"Edit\".\n",
        "#\n",
        "# As you may notice, there are other editing options under \"Edit\",\n",
        "#     for example, copy/cut-paste cells and split-merge cells.\n",
        "#"
      ],
      "outputs": [],
      "execution_count": 2,
      "metadata": {}
    },
    {
      "cell_type": "markdown",
      "source": [
        "<b>This is the third cell.</b>\n",
        "\\\n",
        "This is a markdown type cell.\n",
        "\\\n",
        "The type of any cell is shown on the toolbar under the menu bar (right-side). You can change the type of a cell from this pulldown menu\n",
        "\n",
        "You can write Markdown, HTML, and LaTex code on this cell.\n",
        "\n",
        "<i>By double clicking on this cell, you can see the code of this cell.</i> <br>\n",
        "<u>By execucting this cell, you see the result content.</u>"
      ],
      "metadata": {}
    },
    {
      "cell_type": "markdown",
      "source": [
        "<b> This is the fourth cell.</b>\n",
        "\\\n",
        "This is also a markdown cell.\n",
        "\n",
        "LaTex is used to show mathematical expressions, formulas, etc. \n",
        "\n",
        "For example, $ x^2 + y ^ 2 = \\frac{4}{9} $, $ \\sum_{i=1}^n (i+2)^{3} $, or $ \\left( \\begin{array}{rr}  1 & 0 & -1 \\\\ 2 & -2 & 0 \\\\ 3 & -1 & -2  \\end{array} \\right) $.\n",
        "\n",
        "<i>By double clicking on this cell, you can see the code.</i> <br> \n",
        "<u>By executing/running this cell, you can see the result content.</u>"
      ],
      "metadata": {}
    },
    {
      "cell_type": "markdown",
      "source": [
        "<h2> Tips </h2>"
      ],
      "metadata": {}
    },
    {
      "cell_type": "markdown",
      "source": [
        "Showing line numbers: View $\\rightarrow$ Toggle Line Numbers\n",
        "\n",
        "Command mode: CTRL+SHIFT+P"
      ],
      "metadata": {}
    },
    {
      "cell_type": "markdown",
      "source": [
        "<h2>Magic Commands</h2>\n",
        "\n",
        "Here we list a few built-in magic commands for Jupyter notebooks that we will use during this tutorial. \n",
        "\n",
        "These commands can be executed in code-type cells."
      ],
      "metadata": {}
    },
    {
      "cell_type": "markdown",
      "source": [
        "<b><u>Write the content of a code cell</u></b> into an external file:\n",
        "    \n",
        "    %%writefile FILENAME.py\n",
        "This command should be placed in the first line of cell, and then the cell should be executed.\n",
        "\n",
        "<i> Example:</i>"
      ],
      "metadata": {}
    },
    {
      "cell_type": "code",
      "source": [
        "%%writefile first.py \n",
        "\n",
        "print(\"hello world\")\n",
        "\n",
        "str=\"*\"\n",
        "for i in range(5):\n",
        "    print(str)\n",
        "    str+=\"*\"  "
      ],
      "outputs": [
        {
          "output_type": "stream",
          "name": "stdout",
          "text": [
            "Writing first.py\n"
          ]
        }
      ],
      "execution_count": 3,
      "metadata": {}
    },
    {
      "cell_type": "markdown",
      "source": [
        "<b><u>Execute an external script</u></b> without loading its content into the cell:\n",
        "    \n",
        "    %run FILENAME.py\n",
        "<i>Example:</i>    "
      ],
      "metadata": {}
    },
    {
      "cell_type": "code",
      "source": [
        "%run first.py\n"
      ],
      "outputs": [
        {
          "output_type": "stream",
          "name": "stdout",
          "text": [
            "hello world\n",
            "*\n",
            "**\n",
            "***\n",
            "****\n",
            "*****\n"
          ]
        }
      ],
      "execution_count": 4,
      "metadata": {}
    },
    {
      "cell_type": "markdown",
      "source": [
        "<b><u>Load an external script</u></b> into a cell:\n",
        "\n",
        "    %load FILENAME.py\n",
        "Once this command is executed, the content of cell is replaced with the content of file. (The previous content is deleted.)\n",
        "\n",
        "Besides, this command is placed to the first line, and then commented out.\n",
        "\n",
        "<i>Example:</i>"
      ],
      "metadata": {}
    },
    {
      "cell_type": "code",
      "source": [
        "# %load first.py\n",
        "\n",
        "print(\"hello world\")\n",
        "\n",
        "str=\"*\"\n",
        "for i in range(5):\n",
        "    print(str)\n",
        "    str+=\"*\"  \n"
      ],
      "outputs": [],
      "execution_count": 5,
      "metadata": {}
    },
    {
      "cell_type": "code",
      "source": [],
      "outputs": [],
      "execution_count": null,
      "metadata": {}
    }
  ],
  "metadata": {
    "kernelspec": {
      "display_name": "Python 3",
      "language": "python",
      "name": "python3"
    },
    "language_info": {
      "codemirror_mode": {
        "name": "ipython",
        "version": 3
      },
      "file_extension": ".py",
      "mimetype": "text/x-python",
      "name": "python",
      "nbconvert_exporter": "python",
      "pygments_lexer": "ipython3",
      "version": "3.8.3"
    },
    "nteract": {
      "version": "0.26.0"
    }
  },
  "nbformat": 4,
  "nbformat_minor": 4
}