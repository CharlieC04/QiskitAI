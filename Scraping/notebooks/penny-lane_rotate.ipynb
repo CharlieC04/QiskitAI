{
  "cells": [
    {
      "cell_type": "code",
      "execution_count": null,
      "metadata": {
        "collapsed": false
      },
      "outputs": [],
      "source": [
        "# This cell is added by sphinx-gallery\n# It can be customized to whatever you like\n%matplotlib inline"
      ]
    },
    {
      "cell_type": "markdown",
      "metadata": {},
      "source": [
        "Basic tutorial: qubit rotation\n==============================\n\n*Author: PennyLane dev team. Last updated: 19 Jan 2021.*\n\nTo see how PennyLane allows the easy construction and optimization of\nquantum functions, let's consider the simple case of **qubit rotation**\nthe PennyLane version of the 'Hello, world!' example.\n\nThe task at hand is to optimize two rotation gates in order to flip a\nsingle qubit from state $\\left|0\\right\\rangle$ to state\n$\\left|1\\right\\rangle$.\n\nThe quantum circuit\n-------------------\n\nIn the qubit rotation example, we wish to implement the following\nquantum circuit:\n\n![](../demonstrations/qubit_rotation/rotation_circuit.png){width=\"40%\"}\n\nBreaking this down step-by-step, we first start with a qubit in the\nground state $|0\\rangle = \\begin{bmatrix}1 & 0 \\end{bmatrix}^T$, and\nrotate it around the x-axis by applying the gate\n\n$$R_x(\\phi_1) = e^{-i \\phi_1 \\sigma_x /2} =\n \\begin{bmatrix} \\cos \\frac{\\phi_1}{2} &  -i \\sin \\frac{\\phi_1}{2} \\\\\n                -i \\sin \\frac{\\phi_1}{2} &  \\cos \\frac{\\phi_1}{2}\n \\end{bmatrix},$$\n\nand then around the y-axis via the gate\n\n$$R_y(\\phi_2) = e^{-i \\phi_2 \\sigma_y/2} =\n\\begin{bmatrix} \\cos \\frac{\\phi_2}{2} &  - \\sin \\frac{\\phi_2}{2} \\\\\n                \\sin \\frac{\\phi_2}{2} &  \\cos \\frac{\\phi_2}{2}\n\\end{bmatrix}.$$\n\nAfter these operations the qubit is now in the state\n\n$$| \\psi \\rangle = R_y(\\phi_2) R_x(\\phi_1) | 0 \\rangle.$$\n\nFinally, we measure the expectation value\n$\\langle \\psi \\mid \\sigma_z \\mid \\psi \\rangle$ of the Pauli-Z operator\n\n$$\\sigma_z =\n\\begin{bmatrix} 1 &  0 \\\\\n                0 & -1\n\\end{bmatrix}.$$\n\nUsing the above to calculate the exact expectation value, we find that\n\n$$\\langle \\psi \\mid \\sigma_z \\mid \\psi \\rangle\n = \\langle 0 \\mid R_x(\\phi_1)^\\dagger R_y(\\phi_2)^\\dagger \\sigma_z  R_y(\\phi_2) R_x(\\phi_1) \\mid 0 \\rangle\n = \\cos(\\phi_1)\\cos(\\phi_2).$$\n\nDepending on the circuit parameters $\\phi_1$ and $\\phi_2$, the output\nexpectation lies between $1$ (if\n$\\left|\\psi\\right\\rangle = \\left|0\\right\\rangle$) and $-1$ (if\n$\\left|\\psi\\right\\rangle = \\left|1\\right\\rangle$).\n"
      ]
    },
    {
      "cell_type": "markdown",
      "metadata": {},
      "source": [
        "Let's see how we can easily implement and optimize this circuit using\nPennyLane.\n\nImporting PennyLane and NumPy\n=============================\n\nThe first thing we need to do is import PennyLane, as well as the\nwrapped version of NumPy provided by PennyLane.\n"
      ]
    },
    {
      "cell_type": "code",
      "execution_count": null,
      "metadata": {
        "collapsed": false
      },
      "outputs": [],
      "source": [
        "import pennylane as qml\nfrom pennylane import numpy as np"
      ]
    },
    {
      "cell_type": "markdown",
      "metadata": {},
      "source": [
        "> **important**\n>\n> When constructing a hybrid quantum/classical computational model with\n> PennyLane, it is important to **always import NumPy from PennyLane**,\n> not the standard NumPy!\n>\n> By importing the wrapped version of NumPy provided by PennyLane, you\n> can combine the power of NumPy with PennyLane:\n>\n> -   continue to use the classical NumPy functions and arrays you know\n>     and love\n> -   combine quantum functions (evaluated on\n>     quantum hardware/simulators) and classical functions (provided\n>     by NumPy)\n> -   allow PennyLane to automatically calculate gradients of both\n>     classical and quantum functions\n\n"
      ]
    },
    {
      "cell_type": "markdown",
      "metadata": {},
      "source": [
        "Creating a device\n=================\n\nBefore we can construct our quantum node, we need to initialize a\n**device**.\n\n> **Definition**\n>\n> Any computational object that can apply quantum operations and return\n> a measurement value is called a quantum **device**.\n>\n> In PennyLane, a device could be a hardware device (such as the IBM\n> QX4, via the PennyLane-PQ plugin), or a software simulator (such as\n> Strawberry Fields, via the PennyLane-SF plugin).\n\n> **tip**\n>\n> *Devices are loaded in PennyLane via the function* \\~.pennylane.device\n\nPennyLane supports devices using both the qubit model of quantum\ncomputation and devices using the CV model of quantum computation. In\nfact, even a hybrid computation containing both qubit and CV quantum\nnodes is possible; see the\nhybrid computation example &lt;hybrid\\_computation\\_example&gt; for more\ndetails.\n\nFor this tutorial, we are using the qubit model, so let's initialize the\n`'default.qubit'` device provided by PennyLane; a simple pure-state\nqubit simulator.\n"
      ]
    },
    {
      "cell_type": "code",
      "execution_count": null,
      "metadata": {
        "collapsed": false
      },
      "outputs": [],
      "source": [
        "dev1 = qml.device(\"default.qubit\", wires=1)"
      ]
    },
    {
      "cell_type": "markdown",
      "metadata": {},
      "source": [
        "For all devices, \\~.pennylane.device accepts the following arguments:\n\n-   `name`: the name of the device to be loaded\n-   `wires`: the number of subsystems to initialize the device with\n\nHere, as we only require a single qubit for this example, we set\n`wires=1`.\n"
      ]
    },
    {
      "cell_type": "markdown",
      "metadata": {},
      "source": [
        "Constructing the QNode\n======================\n\nNow that we have initialized our device, we can begin to construct a\n**quantum node** (or QNode).\n\n> **Definition**\n>\n> QNodes are an abstract encapsulation of a quantum function, described\n> by a quantum circuit. QNodes are bound to a particular quantum device,\n> which is used to evaluate expectation and variance values of this\n> circuit.\n\n> **tip**\n>\n> *QNodes can be constructed via the* \\~.pennylane.QNode *class, or by\n> using the provided* \\~.pennylane.qnode decorator.\n\nFirst, we need to define the quantum function that will be evaluated in\nthe QNode:\n"
      ]
    },
    {
      "cell_type": "code",
      "execution_count": null,
      "metadata": {
        "collapsed": false
      },
      "outputs": [],
      "source": [
        "def circuit(params):\n    qml.RX(params[0], wires=0)\n    qml.RY(params[1], wires=0)\n    return qml.expval(qml.PauliZ(0))"
      ]
    },
    {
      "cell_type": "markdown",
      "metadata": {},
      "source": [
        "This is a simple circuit, matching the one described above. Notice that\nthe function `circuit()` is constructed as if it were any other Python\nfunction; it accepts a positional argument `params`, which may be a\nlist, tuple, or array, and uses the individual elements for gate\nparameters.\n\nHowever, quantum functions are a **restricted subset** of Python\nfunctions. For a Python function to also be a valid quantum function,\nthere are some important restrictions:\n\n-   **Quantum functions must contain quantum operations, one operation\n    per line, in the order in which they are to be applied.**\n\n    In addition, we must always specify the subsystem the operation\n    applies to, by passing the `wires` argument; this may be a list or\n    an integer, depending on how many wires the operation acts on.\n\n    For a full list of quantum operations,\n    see the documentation &lt;introduction/operations&gt;.\n\n-   **Quantum functions must return either a single or a tuple of\n    measured observables**.\n\n    As a result, the quantum function always returns a classical\n    quantity, allowing the QNode to interface with other classical\n    functions (and also other QNodes).\n\n    For a full list of observables, see\n    the documentation &lt;introduction/operations&gt;. The documentation\n    also provides details on\n    supported measurement return types &lt;introduction/measurements&gt;.\n\n> **note**\n>\n> Certain devices may only support a subset of the available PennyLane\n> operations/observables, or may even provide additional\n> operations/observables. Please consult the documentation for the\n> plugin/device for more details.\n\nOnce we have written the quantum function, we convert it into a\n\\~.pennylane.QNode running on device `dev1` by applying the\n\\~.pennylane.qnode decorator. **directly above** the function\ndefinition:\n"
      ]
    },
    {
      "cell_type": "code",
      "execution_count": null,
      "metadata": {
        "collapsed": false
      },
      "outputs": [],
      "source": [
        "@qml.qnode(dev1)\ndef circuit(params):\n    qml.RX(params[0], wires=0)\n    qml.RY(params[1], wires=0)\n    return qml.expval(qml.PauliZ(0))"
      ]
    },
    {
      "cell_type": "markdown",
      "metadata": {},
      "source": [
        "Thus, our `circuit()` quantum function is now a \\~.pennylane.QNode,\nwhich will run on device `dev1` every time it is evaluated.\n\nTo evaluate, we simply call the function with some appropriate numerical\ninputs:\n"
      ]
    },
    {
      "cell_type": "code",
      "execution_count": null,
      "metadata": {
        "collapsed": false
      },
      "outputs": [],
      "source": [
        "print(circuit([0.54, 0.12]))"
      ]
    },
    {
      "cell_type": "markdown",
      "metadata": {},
      "source": [
        "Calculating quantum gradients\n=============================\n\nThe gradient of the function `circuit`, encapsulated within the `QNode`,\ncan be evaluated by utilizing the same quantum device (`dev1`) that we\nused to evaluate the function itself.\n\nPennyLane incorporates both analytic differentiation, as well as\nnumerical methods (such as the method of finite differences). Both of\nthese are done automatically.\n\nWe can differentiate by using the built-in \\~.pennylane.grad function.\nThis returns another function, representing the gradient (i.e., the\nvector of partial derivatives) of `circuit`. The gradient can be\nevaluated in the same way as the original function:\n"
      ]
    },
    {
      "cell_type": "code",
      "execution_count": null,
      "metadata": {
        "collapsed": false
      },
      "outputs": [],
      "source": [
        "dcircuit = qml.grad(circuit, argnum=0)"
      ]
    },
    {
      "cell_type": "markdown",
      "metadata": {},
      "source": [
        "The function \\~.pennylane.grad itself **returns a function**,\nrepresenting the derivative of the QNode with respect to the argument\nspecified in `argnum`. In this case, the function `circuit` takes one\nargument (`params`), so we specify `argnum=0`. Because the argument has\ntwo elements, the returned gradient is two-dimensional. We can then\nevaluate this gradient function at any point in the parameter space.\n"
      ]
    },
    {
      "cell_type": "code",
      "execution_count": null,
      "metadata": {
        "collapsed": false
      },
      "outputs": [],
      "source": [
        "print(dcircuit([0.54, 0.12]))"
      ]
    },
    {
      "cell_type": "markdown",
      "metadata": {},
      "source": [
        "**A note on arguments**\n\nQuantum circuit functions, being a restricted subset of Python\nfunctions, can also make use of multiple positional arguments and\nkeyword arguments. For example, we could have defined the above quantum\ncircuit function using two positional arguments, instead of one array\nargument:\n"
      ]
    },
    {
      "cell_type": "code",
      "execution_count": null,
      "metadata": {
        "collapsed": false
      },
      "outputs": [],
      "source": [
        "@qml.qnode(dev1)\ndef circuit2(phi1, phi2):\n    qml.RX(phi1, wires=0)\n    qml.RY(phi2, wires=0)\n    return qml.expval(qml.PauliZ(0))"
      ]
    },
    {
      "cell_type": "markdown",
      "metadata": {},
      "source": [
        "When we calculate the gradient for such a function, the usage of\n`argnum` will be slightly different. In this case, `argnum=0` will\nreturn the gradient with respect to only the first parameter (`phi1`),\nand `argnum=1` will give the gradient for `phi2`. To get the gradient\nwith respect to both parameters, we can use `argnum=[0,1]`:\n"
      ]
    },
    {
      "cell_type": "code",
      "execution_count": null,
      "metadata": {
        "collapsed": false
      },
      "outputs": [],
      "source": [
        "dcircuit = qml.grad(circuit2, argnum=[0, 1])\nprint(dcircuit(0.54, 0.12))"
      ]
    },
    {
      "cell_type": "markdown",
      "metadata": {},
      "source": [
        "Keyword arguments may also be used in your custom quantum function.\nPennyLane does **not** differentiate QNodes with respect to keyword\narguments, so they are useful for passing external data to your QNode.\n"
      ]
    },
    {
      "cell_type": "markdown",
      "metadata": {},
      "source": [
        "Optimization\n============\n\n> **Definition**\n>\n> If using the default NumPy/Autograd interface, PennyLane provides a\n> collection of optimizers based on gradient descent. These optimizers\n> accept a cost function and initial parameters, and utilize PennyLane's\n> automatic differentiation to perform gradient descent.\n\n> **tip**\n>\n> *See* introduction/optimizers *for details and documentation of\n> available optimizers*\n\nNext, let's make use of PennyLane's built-in optimizers to optimize the\ntwo circuit parameters $\\phi_1$ and $\\phi_2$ such that the qubit,\noriginally in state $\\left|0\\right\\rangle$, is rotated to be in state\n$\\left|1\\right\\rangle$. This is equivalent to measuring a Pauli-Z\nexpectation value of $-1$, since the state $\\left|1\\right\\rangle$ is an\neigenvector of the Pauli-Z matrix with eigenvalue $\\lambda=-1$.\n\nIn other words, the optimization procedure will find the weights\n$\\phi_1$ and $\\phi_2$ that result in the following rotation on the Bloch\nsphere:\n\n![](../demonstrations/qubit_rotation/bloch.png){width=\"70%\"}\n\nTo do so, we need to define a **cost** function. By *minimizing* the\ncost function, the optimizer will determine the values of the circuit\nparameters that produce the desired outcome.\n\nIn this case, our desired outcome is a Pauli-Z expectation value of\n$-1$. Since we know that the Pauli-Z expectation is bound between\n$[-1, 1]$, we can define our cost directly as the output of the QNode:\n"
      ]
    },
    {
      "cell_type": "code",
      "execution_count": null,
      "metadata": {
        "collapsed": false
      },
      "outputs": [],
      "source": [
        "def cost(x):\n    return circuit(x)"
      ]
    },
    {
      "cell_type": "markdown",
      "metadata": {},
      "source": [
        "To begin our optimization, let's choose small initial values of $\\phi_1$\nand $\\phi_2$:\n"
      ]
    },
    {
      "cell_type": "code",
      "execution_count": null,
      "metadata": {
        "collapsed": false
      },
      "outputs": [],
      "source": [
        "init_params = np.array([0.011, 0.012])\nprint(cost(init_params))"
      ]
    },
    {
      "cell_type": "markdown",
      "metadata": {},
      "source": [
        "We can see that, for these initial parameter values, the cost function\nis close to $1$.\n\nFinally, we use an optimizer to update the circuit parameters for 100\nsteps. We can use the built-in \\~.pennylane.GradientDescentOptimizer\nclass:\n"
      ]
    },
    {
      "cell_type": "code",
      "execution_count": null,
      "metadata": {
        "collapsed": false
      },
      "outputs": [],
      "source": [
        "# initialise the optimizer\nopt = qml.GradientDescentOptimizer(stepsize=0.4)\n\n# set the number of steps\nsteps = 100\n# set the initial parameter values\nparams = init_params\n\nfor i in range(steps):\n    # update the circuit parameters\n    params = opt.step(cost, params)\n\n    if (i + 1) % 5 == 0:\n        print(\"Cost after step {:5d}: {: .7f}\".format(i + 1, cost(params)))\n\nprint(\"Optimized rotation angles: {}\".format(params))"
      ]
    },
    {
      "cell_type": "markdown",
      "metadata": {},
      "source": [
        "We can see that the optimization converges after approximately 40 steps.\n\nSubstituting this into the theoretical result\n$\\langle \\psi \\mid \\sigma_z \\mid \\psi \\rangle = \\cos\\phi_1\\cos\\phi_2$,\nwe can verify that this is indeed one possible value of the circuit\nparameters that produces\n$\\langle \\psi \\mid \\sigma_z \\mid \\psi \\rangle=-1$, resulting in the\nqubit being rotated to the state $\\left|1\\right\\rangle$.\n\n> **note**\n>\n> Some optimizers, such as \\~.pennylane.AdagradOptimizer, have internal\n> hyperparameters that are stored in the optimizer instance. These can\n> be reset using the reset method.\n\nContinue on to the next tutorial, gaussian\\_transformation, to see a\nsimilar example using continuous-variable (CV) quantum nodes.\n"
      ]
    }
  ],
  "metadata": {
    "kernelspec": {
      "display_name": "Python 3",
      "language": "python",
      "name": "python3"
    },
    "language_info": {
      "codemirror_mode": {
        "name": "ipython",
        "version": 3
      },
      "file_extension": ".py",
      "mimetype": "text/x-python",
      "name": "python",
      "nbconvert_exporter": "python",
      "pygments_lexer": "ipython3",
      "version": "3.7.2"
    }
  },
  "nbformat": 4,
  "nbformat_minor": 0
}