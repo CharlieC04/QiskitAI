{
 "cells": [
  {
   "cell_type": "code",
   "execution_count": 1,
   "id": "9b385bc1",
   "metadata": {},
   "outputs": [],
   "source": [
    "from qiskit import IBMQ, Aer\n",
    "from qiskit.providers.ibmq import least_busy\n",
    "from qiskit import QuantumCircuit, transpile, assemble\n",
    "from qiskit.tools.monitor import job_monitor\n",
    "import matplotlib as mpl\n",
    "# import basic plot tools\n",
    "from qiskit.visualization import plot_histogram"
   ]
  },
  {
   "cell_type": "code",
   "execution_count": 2,
   "id": "ee6fb7ed",
   "metadata": {},
   "outputs": [],
   "source": [
    "\n",
    "game_circuit = QuantumCircuit(2,1)"
   ]
  },
  {
   "cell_type": "code",
   "execution_count": 3,
   "id": "eeb5b310",
   "metadata": {},
   "outputs": [
    {
     "data": {
      "text/plain": [
       "<qiskit.circuit.instructionset.InstructionSet at 0x206d10998b0>"
      ]
     },
     "execution_count": 3,
     "metadata": {},
     "output_type": "execute_result"
    }
   ],
   "source": [
    "#game_circuit\n",
    "\n",
    "game_circuit.clear()\n",
    "game_circuit.h(0)\n",
    "game_circuit.h(1)\n",
    "game_circuit.cx(0,1)\n",
    "game_circuit.h(1)\n",
    "game_circuit.measure(1,0)\n"
   ]
  },
  {
   "cell_type": "code",
   "execution_count": 4,
   "id": "d71e93b4",
   "metadata": {},
   "outputs": [
    {
     "data": {
      "image/png": "[encoded data removed]",
      "text/plain": [
       "<Figure size 327.252x204.68 with 1 Axes>"
      ]
     },
     "execution_count": 4,
     "metadata": {},
     "output_type": "execute_result"
    }
   ],
   "source": [
    "game_circuit.draw('mpl')"
   ]
  },
  {
   "cell_type": "code",
   "execution_count": 5,
   "id": "5189e4ff",
   "metadata": {},
   "outputs": [
    {
     "data": {
      "image/png": "[encoded data removed]",
      "text/plain": [
       "<Figure size 504x360 with 1 Axes>"
      ]
     },
     "execution_count": 5,
     "metadata": {},
     "output_type": "execute_result"
    }
   ],
   "source": [
    "#running on ibm simulator\n",
    "\n",
    "aer_sim=Aer.get_backend('aer_simulator')\n",
    "\n",
    "shots=1024\n",
    "qobj=assemble(game_circuit, shots=1024)\n",
    "\n",
    "results=aer_sim.run(qobj).result()\n",
    "\n",
    "counts=results.get_counts()\n",
    "plot_histogram(counts)\n"
   ]
  },
  {
   "cell_type": "code",
   "execution_count": 6,
   "id": "0f8b4c73",
   "metadata": {},
   "outputs": [
    {
     "name": "stderr",
     "output_type": "stream",
     "text": [
      "configrc.store_credentials:WARNING:2023-05-29 00:06:16,419: Credentials already present. Set overwrite=True to overwrite.\n"
     ]
    }
   ],
   "source": [
    "#running on quantum computer\n",
    "#signing in to ibm using api token\n",
    "\n",
    "IBMQ.save_account('eb51948e03130da6b3212b337a0276eb3ddfb106e6e3ff49388aaf14efdded08d2624fa55f7d7158e02266b904d46424988e127c44056949754947d624319860')"
   ]
  },
  {
   "cell_type": "code",
   "execution_count": 7,
   "id": "ebcf4fa0",
   "metadata": {},
   "outputs": [],
   "source": [
    "IBMQ.load_account()\n",
    "provider = IBMQ.get_provider(hub='ibm-q')"
   ]
  },
  {
   "cell_type": "code",
   "execution_count": null,
   "id": "e83d8d88",
   "metadata": {},
   "outputs": [
    {
     "name": "stdout",
     "output_type": "stream",
     "text": [
      "ibmq_lima\n",
      "Job Status: job is queued (None)"
     ]
    }
   ],
   "source": [
    "backend = least_busy(provider.backends(filters=lambda b: b.configuration().n_qubits >= 2 and not b.configuration().simulator and b.status().operational==True))\n",
    "print(backend)\n",
    "t_qc = transpile(game_circuit, backend, optimization_level=3)#transpile=assembling the circuit and everything\n",
    "job = backend.run(t_qc)#backend means device\n",
    "job_monitor(job)"
   ]
  },
  {
   "cell_type": "code",
   "execution_count": null,
   "id": "007b272e",
   "metadata": {},
   "outputs": [],
   "source": [
    "exp_result = job.result()\n",
    "exp_counts = exp_result.get_counts(game_circuit)\n",
    "print(exp_counts)\n",
    "plot_histogram(exp_counts)"
   ]
  },
  {
   "cell_type": "code",
   "execution_count": null,
   "id": "6d4dac16",
   "metadata": {},
   "outputs": [],
   "source": []
  }
 ],
 "metadata": {
  "kernelspec": {
   "display_name": "Python 3",
   "language": "python",
   "name": "python3"
  },
  "language_info": {
   "codemirror_mode": {
    "name": "ipython",
    "version": 3
   },
   "file_extension": ".py",
   "mimetype": "text/x-python",
   "name": "python",
   "nbconvert_exporter": "python",
   "pygments_lexer": "ipython3",
   "version": "3.8.8"
  }
 },
 "nbformat": 4,
 "nbformat_minor": 5
}
