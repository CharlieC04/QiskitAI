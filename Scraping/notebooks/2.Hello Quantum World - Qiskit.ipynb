{
 "cells": [
  {
   "cell_type": "markdown",
   "metadata": {},
   "source": [
    "<h2> Hello From Quantum World </h2>\n",
    "\n",
    "This is our test file. \n",
    "\n",
    "Please run each cell one by one."
   ]
  },
  {
   "cell_type": "markdown",
   "metadata": {},
   "source": [
    "<h3> Sqaure brackets on the left sides of the code cells </h3>\n",
    "\n",
    "<ul>\n",
    "    <li> Each pair of the brackets shows the execution counter of the cell. </li>\n",
    "    <li> If the cell has not been executed, the inside of the brackets is empty.</li>\n",
    "    <li> When the code cell is still running, there appears <u>a single star</u> inside the brackets [*].</li>    \n",
    "    <li> When the execution is finished, there appears a number inside the brackets [number].</li>\n",
    "    <li> A cell can be executed many times. Each time it takes a new number (in increasing order). </li>\n",
    "</ul>\n",
    "\n",
    "The execution of a cell may take a few miliseconds, a few seconds, a few minutes, or much longer time.\n",
    "\n",
    "<font style=\"color:blue;\"> Therefore, you may not see any outcome until [*] is changed to [number].</font>"
   ]
  },
  {
   "cell_type": "markdown",
   "metadata": {},
   "source": [
    "<h3> Python Test </h3>"
   ]
  },
  {
   "cell_type": "code",
   "execution_count": 1,
   "metadata": {},
   "outputs": [
    {
     "name": "stdout",
     "output_type": "stream",
     "text": [
      "Hello From Quantum World :-)\n"
     ]
    }
   ],
   "source": [
    "# I am a comment in python\n",
    "\n",
    "print(\"Hello From Quantum World :-)\")\n",
    "\n",
    "# please run this cell"
   ]
  },
  {
   "cell_type": "markdown",
   "metadata": {},
   "source": [
    "<h3> Quantum Circuit Test </h3>\n",
    "\n",
    "Our quantum programs are designed as quantum curcuits. \n",
    "\n",
    "The details will appear in the main tutorial.\n",
    "\n",
    "<h4>We create a very simple quantum circuit here to test our system.</h4>\n",
    "\n",
    "Please run the cell below, and wait until the execution is completed.\n",
    "\n",
    "<i>Remark that we include a function or an object from a module in python as:\n",
    "    \n",
    "<b>from</b> module-name <b>import</b> function-name\n",
    "    \n",
    "<b>from</b> module-name <b>import</b> object-name\n",
    "</i>"
   ]
  },
  {
   "cell_type": "code",
   "execution_count": 2,
   "metadata": {},
   "outputs": [
    {
     "name": "stdout",
     "output_type": "stream",
     "text": [
      "The execution of the cell was completed, and the circuit was created :)\n"
     ]
    }
   ],
   "source": [
    "# import the objects from qiskit\n",
    "from qiskit import QuantumRegister, ClassicalRegister, QuantumCircuit, execute, Aer\n",
    "from random import randrange\n",
    "\n",
    "# create a quantum circuit and its register objects\n",
    "qreg = QuantumRegister(2) # my quantum register\n",
    "creg = ClassicalRegister(2) # my classical register \n",
    "circuit = QuantumCircuit(qreg,creg) # my quantum circuit\n",
    "\n",
    "# apply a Hadamard gate to the first qubit\n",
    "\n",
    "circuit.h(qreg[0])\n",
    "\n",
    "# set the second qubit to |1>\n",
    "circuit.x(qreg[1])\n",
    "\n",
    "# apply CNOT(first_qubit,second_qubit)\n",
    "circuit.cx(qreg[0],qreg[1])\n",
    "\n",
    "# measure the both qubits\n",
    "circuit.measure(qreg,creg)\n",
    "\n",
    "print(\"The execution of the cell was completed, and the circuit was created :)\")"
   ]
  },
  {
   "cell_type": "markdown",
   "metadata": {},
   "source": [
    "<h4>We execute the circuit (our program) 1024 times in the local simulator</h4>\n",
    "\n",
    "Each execution may have a different outcome.\n",
    "\n",
    "In our simple program, we expect to observe either 01 or 10 as the outcome in a single execution. \n",
    "\n",
    "We print the measurement results. \n",
    "\n",
    "Thus, we will see how many times '01' is observed and how many times '10' is observed.\n",
    "\n",
    "You may execute the cell below a few times, and check the outcomes in each case."
   ]
  },
  {
   "cell_type": "code",
   "execution_count": 3,
   "metadata": {},
   "outputs": [
    {
     "name": "stdout",
     "output_type": "stream",
     "text": [
      "{'01': 514, '10': 510}\n"
     ]
    }
   ],
   "source": [
    "## execute the circuit 100 times\n",
    "job = execute(circuit,Aer.get_backend('qasm_simulator'),shots=1024)\n",
    "# get the result\n",
    "counts = job.result().get_counts(circuit)\n",
    "print(counts)"
   ]
  },
  {
   "cell_type": "markdown",
   "metadata": {},
   "source": [
    "<h4>Draw the circuit</h4>\n",
    "\n",
    "We can draw our circuit.  \n",
    "\n",
    "If the circuit does not appear in the first run, please re-run the cell."
   ]
  },
  {
   "cell_type": "code",
   "execution_count": 4,
   "metadata": {},
   "outputs": [
    {
     "data": {
      "image/png": "[encoded data removed]",
      "text/plain": [
       "<Figure size 340.233x204.68 with 1 Axes>"
      ]
     },
     "execution_count": 4,
     "metadata": {},
     "output_type": "execute_result"
    }
   ],
   "source": [
    "# draw circuit \n",
    "circuit.draw(output='mpl')\n",
    "\n",
    "# the output will be a \"matplotlib.Figure\" object"
   ]
  },
  {
   "cell_type": "code",
   "execution_count": null,
   "metadata": {},
   "outputs": [],
   "source": []
  }
 ],
 "metadata": {
  "kernelspec": {
   "display_name": "Python 3",
   "language": "python",
   "name": "python3"
  },
  "language_info": {
   "codemirror_mode": {
    "name": "ipython",
    "version": 3
   },
   "file_extension": ".py",
   "mimetype": "text/x-python",
   "name": "python",
   "nbconvert_exporter": "python",
   "pygments_lexer": "ipython3",
   "version": "3.8.3"
  }
 },
 "nbformat": 4,
 "nbformat_minor": 4
}
