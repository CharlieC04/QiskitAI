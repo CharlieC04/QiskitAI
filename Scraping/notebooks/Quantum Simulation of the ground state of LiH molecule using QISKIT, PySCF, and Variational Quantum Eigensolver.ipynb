{
 "cells": [
  {
   "cell_type": "code",
   "execution_count": 2,
   "id": "f64cff66",
   "metadata": {},
   "outputs": [],
   "source": [
    "from qiskit.algorithms import VQE\n",
    "from qiskit_nature.algorithms import (GroundStateEigensolver,\n",
    "                                      NumPyMinimumEigensolverFactory)\n",
    "from qiskit_nature.drivers import Molecule\n",
    "from qiskit_nature.drivers.second_quantization import (\n",
    "    ElectronicStructureMoleculeDriver, ElectronicStructureDriverType)\n",
    "from qiskit_nature.transformers.second_quantization.electronic import FreezeCoreTransformer\n",
    "from qiskit_nature.problems.second_quantization import ElectronicStructureProblem\n",
    "from qiskit_nature.converters.second_quantization import QubitConverter\n",
    "from qiskit_nature.mappers.second_quantization import ParityMapper\n",
    "\n",
    "import matplotlib.pyplot as plt\n",
    "import numpy as np\n",
    "from qiskit_nature.circuit.library import UCCSD, HartreeFock\n",
    "from qiskit.circuit.library import EfficientSU2\n",
    "from qiskit.algorithms.optimizers import COBYLA, SPSA, SLSQP\n",
    "from qiskit.opflow import TwoQubitReduction\n",
    "from qiskit import BasicAer, Aer\n",
    "from qiskit.utils import QuantumInstance\n",
    "from qiskit.utils.mitigation import CompleteMeasFitter\n",
    "from qiskit.providers.aer.noise import NoiseModel"
   ]
  },
  {
   "cell_type": "code",
   "execution_count": 3,
   "id": "85b696fc",
   "metadata": {},
   "outputs": [],
   "source": [
    "def get_qubit_op(dist):\n",
    "    # Define Molecule\n",
    "    molecule = Molecule(\n",
    "        # Coordinates in Angstrom\n",
    "        geometry=[\n",
    "            [\"Li\", [0.0, 0.0, 0.0] ],\n",
    "            [\"H\", [dist, 0.0, 0.0] ]\n",
    "        ],\n",
    "        multiplicity=1,  # = 2*spin + 1\n",
    "        charge=0,\n",
    "    )\n",
    "\n",
    "    driver = ElectronicStructureMoleculeDriver(\n",
    "        molecule=molecule,\n",
    "        basis=\"sto3g\",\n",
    "        driver_type=ElectronicStructureDriverType.PYSCF)\n",
    "\n",
    "    # Get properties\n",
    "    properties = driver.run()\n",
    "    num_particles = (properties\n",
    "                        .get_property(\"ParticleNumber\")\n",
    "                        .num_particles)\n",
    "    num_spin_orbitals = int(properties\n",
    "                            .get_property(\"ParticleNumber\")\n",
    "                            .num_spin_orbitals)\n",
    "\n",
    "    # Define Problem, Use freeze core approximation, remove orbitals.\n",
    "    problem = ElectronicStructureProblem(\n",
    "        driver,\n",
    "        [FreezeCoreTransformer(freeze_core=True,\n",
    "                               remove_orbitals=[-3,-2])])\n",
    "\n",
    "    second_q_ops = problem.second_q_ops()  # Get 2nd Quant OP\n",
    "    num_spin_orbitals = problem.num_spin_orbitals\n",
    "    num_particles = problem.num_particles\n",
    "\n",
    "    mapper = ParityMapper()  # Set Mapper\n",
    "    hamiltonian = second_q_ops[0]  # Set Hamiltonian\n",
    "    # Do two qubit reduction\n",
    "    converter = QubitConverter(mapper,two_qubit_reduction=True)\n",
    "    reducer = TwoQubitReduction(num_particles)\n",
    "    qubit_op = converter.convert(hamiltonian)\n",
    "    qubit_op = reducer.convert(qubit_op)\n",
    "\n",
    "    return qubit_op, num_particles, num_spin_orbitals, problem, converter"
   ]
  },
  {
   "cell_type": "code",
   "execution_count": 4,
   "id": "692e47c0",
   "metadata": {},
   "outputs": [
    {
     "name": "stderr",
     "output_type": "stream",
     "text": [
      "/home/bt/anaconda3/lib/python3.9/site-packages/qiskit_nature/problems/second_quantization/electronic/electronic_structure_problem.py:93: ListAuxOpsDeprecationWarning: List-based `aux_operators` are deprecated as of version 0.3.0 and support for them will be removed no sooner than 3 months after the release. Instead, use dict-based `aux_operators`. You can switch to the dict-based interface immediately, by setting `qiskit_nature.settings.dict_aux_operators` to `True`.\n",
      "  second_quantized_ops = self._grouped_property_transformed.second_q_ops()\n"
     ]
    },
    {
     "name": "stdout",
     "output_type": "stream",
     "text": [
      "Interatomic Distance: 0.5 VQE Result: -7.04751 Exact Energy: -7.04791\n",
      "Interatomic Distance: 0.7 VQE Result: -7.50392 Exact Energy: -7.50400\n",
      "Interatomic Distance: 0.9 VQE Result: -7.72278 Exact Energy: -7.72283\n",
      "Interatomic Distance: 1.1 VQE Result: -7.82516 Exact Energy: -7.82520\n",
      "Interatomic Distance: 1.3 VQE Result: -7.86886 Exact Energy: -7.86890\n",
      "Interatomic Distance: 1.5 VQE Result: -7.88210 Exact Energy: -7.88214\n",
      "Interatomic Distance: 1.7 VQE Result: -7.87917 Exact Energy: -7.87920\n",
      "Interatomic Distance: 1.9 VQE Result: -7.86788 Exact Energy: -7.86799\n",
      "Interatomic Distance: 2.1 VQE Result: -7.85312 Exact Energy: -7.85320\n",
      "Interatomic Distance: 2.3 VQE Result: -7.83763 Exact Energy: -7.83772\n",
      "Interatomic Distance: 2.5 VQE Result: -7.82324 Exact Energy: -7.82343\n",
      "Interatomic Distance: 2.7 VQE Result: -7.81116 Exact Energy: -7.81142\n",
      "Interatomic Distance: 2.9 VQE Result: -7.80195 Exact Energy: -7.80215\n",
      "Interatomic Distance: 3.1 VQE Result: -7.79516 Exact Energy: -7.79545\n",
      "Interatomic Distance: 3.3 VQE Result: -7.78973 Exact Energy: -7.79085\n",
      "Interatomic Distance: 3.5 VQE Result: -7.78572 Exact Energy: -7.78776\n",
      "Interatomic Distance: 3.7 VQE Result: -7.78351 Exact Energy: -7.78573\n",
      "Interatomic Distance: 3.9 VQE Result: -7.78245 Exact Energy: -7.78441\n",
      "All energies have been calculated\n"
     ]
    }
   ],
   "source": [
    "def exact_solver(problem, converter):\n",
    "    solver = NumPyMinimumEigensolverFactory()\n",
    "    calc = GroundStateEigensolver(converter, solver)\n",
    "    result = calc.solve(problem)\n",
    "    return result\n",
    "\n",
    "backend = BasicAer.get_backend(\"statevector_simulator\")\n",
    "distances = np.arange(0.5, 4.0, 0.2)\n",
    "exact_energies = []\n",
    "vqe_energies = []\n",
    "optimizer = SLSQP(maxiter=5)\n",
    "for dist in distances:\n",
    "    (qubit_op, num_particles, num_spin_orbitals,\n",
    "                             problem, converter) = get_qubit_op(dist)\n",
    "    result = exact_solver(problem,converter)\n",
    "    exact_energies.append(result.total_energies[0].real)\n",
    "    init_state = HartreeFock(num_spin_orbitals, num_particles, converter)\n",
    "    var_form = UCCSD(converter,\n",
    "                     num_particles,\n",
    "                     num_spin_orbitals,\n",
    "                     initial_state=init_state)\n",
    "    vqe = VQE(var_form, optimizer, quantum_instance=backend)\n",
    "    vqe_calc = vqe.compute_minimum_eigenvalue(qubit_op)\n",
    "    vqe_result = problem.interpret(vqe_calc).total_energies[0].real\n",
    "    vqe_energies.append(vqe_result)\n",
    "    print(f\"Interatomic Distance: {np.round(dist, 2)}\",\n",
    "          f\"VQE Result: {vqe_result:.5f}\",\n",
    "          f\"Exact Energy: {exact_energies[-1]:.5f}\")\n",
    "\n",
    "print(\"All energies have been calculated\")"
   ]
  },
  {
   "cell_type": "code",
   "execution_count": 8,
   "id": "95e7db11",
   "metadata": {},
   "outputs": [
    {
     "data": {
      "image/png": "[encoded data removed]",
      "text/plain": [
       "<Figure size 432x288 with 1 Axes>"
      ]
     },
     "metadata": {
      "needs_background": "light"
     },
     "output_type": "display_data"
    }
   ],
   "source": [
    "plt.plot(distances, exact_energies, label=\"Exact Energy\")\n",
    "plt.plot(distances, vqe_energies, label=\"VQE Energy\")\n",
    "plt.xlabel('Interatomic distance(Angstrom)')\n",
    "plt.ylabel('Energy(Hartree)')\n",
    "plt.legend()\n",
    "plt.show()"
   ]
  },
  {
   "cell_type": "code",
   "execution_count": null,
   "id": "10221e98",
   "metadata": {},
   "outputs": [],
   "source": []
  }
 ],
 "metadata": {
  "kernelspec": {
   "display_name": "base",
   "language": "python",
   "name": "base"
  },
  "language_info": {
   "codemirror_mode": {
    "name": "ipython",
    "version": 3
   },
   "file_extension": ".py",
   "mimetype": "text/x-python",
   "name": "python",
   "nbconvert_exporter": "python",
   "pygments_lexer": "ipython3",
   "version": "3.9.12"
  }
 },
 "nbformat": 4,
 "nbformat_minor": 5
}
