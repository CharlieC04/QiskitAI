{
 "cells": [
  {
   "cell_type": "code",
   "execution_count": 15,
   "id": "9dc5670a",
   "metadata": {},
   "outputs": [],
   "source": [
    "#Extending Grover's Algorithm to cover the Satisfiability Problem\n",
    "#Satifiability Problem Ex\n",
    "#Ordering food\n",
    "# Satisfiability Constraints\n",
    "# Open, Nearby, Deliver, Thai Food\n",
    "\n",
    "#For a reasonable # of resturants, classical comp is fine\n",
    "#However for big datasets, we can use a quantum speedup\n",
    "#recast problem into search problem\n",
    "\n",
    "#Grover's Dinner Party\n",
    "#Invite as many friends over as possible while everyone gets along\n",
    "#Grover's search can be used for boolean satisfiability problems\n",
    "#((Olivia & Abe) | (Jin & Amira)) & ~(Abe & Amira)\n",
    "#((A & B) | (C & D)) & ~(A & D)\n",
    "\n",
    "from qiskit import BasicAer\n",
    "#Deprecation of Aqua\n",
    "#from qiskit.aqua.algorithms import Grover\n",
    "#from qiskit.aqua.components.oracles import LogicalExpressionOracle\n",
    "from qiskit.circuit.library import PhaseOracle\n",
    "from qiskit.algorithms import Grover, AmplificationProblem\n",
    "from qiskit.utils import QuantumInstance\n",
    "from qiskit.tools.visualization import plot_histogram"
   ]
  },
  {
   "cell_type": "code",
   "execution_count": 32,
   "id": "19285e2a",
   "metadata": {},
   "outputs": [],
   "source": [
    "log_expr = '((Olivia & Abe) | (Jin & Amira)) & ~(Abe & Amira)'\n",
    "oracle = PhaseOracle(log_expr)\n",
    "problem = AmplificationProblem(oracle=oracle)\n",
    "\n",
    "backend = BasicAer.get_backend('qasm_simulator')\n",
    "qinstance = QuantumInstance(backend, shots = 1000)\n",
    "grover = Grover(quantum_instance = qinstance)\n",
    "#algorithm = Grover(oracle)\n"
   ]
  },
  {
   "cell_type": "code",
   "execution_count": 33,
   "id": "646b2080",
   "metadata": {},
   "outputs": [
    {
     "name": "stdout",
     "output_type": "stream",
     "text": [
      "Top measurement: 0011\n"
     ]
    }
   ],
   "source": [
    "result = grover.amplify(problem)\n",
    "print('Top measurement:', result.top_measurement)"
   ]
  },
  {
   "cell_type": "code",
   "execution_count": null,
   "id": "3c0cb494",
   "metadata": {},
   "outputs": [],
   "source": []
  }
 ],
 "metadata": {
  "kernelspec": {
   "display_name": "Python 3 (ipykernel)",
   "language": "python",
   "name": "python3"
  },
  "language_info": {
   "codemirror_mode": {
    "name": "ipython",
    "version": 3
   },
   "file_extension": ".py",
   "mimetype": "text/x-python",
   "name": "python",
   "nbconvert_exporter": "python",
   "pygments_lexer": "ipython3",
   "version": "3.9.13"
  }
 },
 "nbformat": 4,
 "nbformat_minor": 5
}
