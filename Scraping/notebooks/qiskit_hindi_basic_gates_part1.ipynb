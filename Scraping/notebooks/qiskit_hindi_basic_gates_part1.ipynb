{
  "cells": [
    {
      "cell_type": "markdown",
      "source": [
        "# किस्किट की सहायता से प्रमात्रा अभिकलन एवम प्रमात्रा यंत्र अधिगम\n",
        "---------------------------------------------------------------------------------------------------------------------------------------------------------------------------------------------------------------------------------------\n",
        "\n",
        "# Quantum Computing and Quantum Machine Learning with Qiskit"
      ],
      "metadata": {
        "id": "8PwqQ-_6PF9R"
      },
      "id": "8PwqQ-_6PF9R"
    },
    {
      "cell_type": "markdown",
      "source": [
        "प्रमात्रा अभिकलन क्या है और इसका उपयोग यंत्र अधिगम में कैसे किया जा सकता है? जानकारी के पहाड़ों में अत्यंत जटिल प्रतिरूप खोजने का तरीका अब प्रमात्रा यंत्र अधिगम नामक क्षेत्र का उद्देश्य है।\n",
        "\n",
        "यह क्षेत्र मेरे अध्ययन के दो सबसे पसंदीदा क्षेत्रों को मिलाता है: अभिकलन और भौतिकी, और यहां मैं अध्ययन के इस क्षेत्र को अधिक से अधिक लोगों द्वारा बेहतर रूप से ज्ञात करने का प्रयास करता हूं।\n",
        "\n",
        "हम पायथन और किस्किट का उपयोग करेंगे।\n",
        "\n",
        "\n",
        "-------------------------------------------------------------------------------------\n",
        "\\\\\n",
        "\n",
        "\n",
        "\n",
        "\n",
        "What is quantum computing and how can it be used in machine learning, the method of finding extremely complex patterns in the mountains of information is now the aim of a field called quantum machine learning.\n",
        "\n",
        "This field combines two of my favorite fields of study: computation and physics, and here I try to make this field of study better known by as many people as possible.\n",
        "\n",
        "We will be using Python and Qiskit.\n",
        "\n"
      ],
      "metadata": {
        "id": "HnayPgdcRECG"
      },
      "id": "HnayPgdcRECG"
    },
    {
      "cell_type": "markdown",
      "source": [
        "प्रमात्रा यांत्रिकी और प्रमात्रा अभिकलन के पीछे का विचार तीन अवधारणाओं पर आधारित है:\n",
        "\n",
        "१. अवस्था का अध्यारोपण: क्यूबिट न तो $|0\\rangle$ अवस्था में है,  और न ही $|1\\rangle$ अवस्था में है , क्यूबिट मिश्रित अवस्था में है , जिसे अवस्था का अध्यारोपण कहा जाता है। इस बात को ध्यान में रखें कि यह धारणा कि यह एक ही समय में $|0\\rangle$ और $|1\\rangle$ अवस्था में है, गलत है। निकाय एक ऐसी अवस्था में है जो आधार अवस्था $|0\\rangle$ और $|1\\rangle$ से बनता है।\n",
        "\n",
        "\n",
        "२. व्यतिकरण: अवस्थाओं को एक दूसरे  (या खुद )  पे परस्पर प्रभाव करवा कर  वांछित स्वरूप (वह जो हमारी समस्या का उत्तर रखता है) को मजबूत किया जाता है जबकि अन्य स्वरूप रद्द कर दिए जाते हैं।\n",
        "\n",
        "\n",
        "३. संलिप्तता : अवस्थाओं के बीच एक अत्यंत मजबूत संबंध जो  चिरसम्मत भौतिकी में नहीं हो सकता। इसके कारण, दो कण जब वे एक दूसरे पर परस्पर प्रभाव डालते हैं, तो उसके बाद संलिप्त रहते हैं । इस संलिप्त  स्थिति का अर्थ है कि उनके अवस्थाओं को इस तरह से समूहीकृत किया जाता है कि उनका व्यक्तिगत रूप से प्रतिनिधित्व नहीं किया जा सकता है।\n",
        "\n",
        "\n",
        "----------------------------------------------------------------------\n",
        "Quantum Mechanics & Quantum Computing\n",
        "The idea behind quantum computing is based in three concepts:\n",
        "\n",
        "1. Superposition of states: the Qubit is neither in the $|0\\rangle$ or $|1\\rangle$ state but in a mixed state called superposition of states. Bare in mind that the notion that it is at the same time in the $|0\\rangle$  and $|1\\rangle$ state is wrong. The system is in a state that is formed from the basis states $|0\\rangle$   and  $|1\\rangle$ .\n",
        "\n",
        "2. Interference: is the possibility of making states interact with one another (or with themselves) in such a way that the desired pattern (the one that holds the answer for our problem) is reinforced while the other patterns are cancelled out.\n",
        "3. Entanglement: an extremely strong correlation between states that cannot happen in classical physics. Because of it, two particles when they interact with one another remain entangled after that. This entangled state means that their states are grouped in such a way that they cannot be represented individually.\n"
      ],
      "metadata": {
        "id": "44F6-O8DTuS-"
      },
      "id": "44F6-O8DTuS-"
    },
    {
      "cell_type": "markdown",
      "source": [
        "### आवश्यक पायथन संकुल आयात करना\n",
        "------------------------------------------------------------------\n",
        "### Importing Necessary python packges"
      ],
      "metadata": {
        "id": "ALzGEZmXH7xz"
      },
      "id": "ALzGEZmXH7xz"
    },
    {
      "cell_type": "code",
      "execution_count": null,
      "id": "380595e2-f0d5-49b8-b236-cae5111d90d1",
      "metadata": {
        "id": "380595e2-f0d5-49b8-b236-cae5111d90d1",
        "outputId": "95e0d81a-05bd-4a3f-98b3-f463b22c099e"
      },
      "outputs": [
        {
          "name": "stderr",
          "output_type": "stream",
          "text": [
            "<frozen importlib._bootstrap>:219: RuntimeWarning: scipy._lib.messagestream.MessageStream size changed, may indicate binary incompatibility. Expected 56 from C header, got 64 from PyObject\n"
          ]
        }
      ],
      "source": [
        "import numpy as np\n",
        "\n",
        "# Importing standard Qiskit libraries\n",
        "from qiskit import QuantumCircuit, transpile, Aer, IBMQ\n",
        "from qiskit.tools.jupyter import *\n",
        "from qiskit.visualization import *\n",
        "from ibm_quantum_widgets import *\n",
        "from qiskit.providers.aer import QasmSimulator\n",
        "\n",
        "# Loading your IBM Quantum account(s)\n",
        "provider = IBMQ.load_account()"
      ]
    },
    {
      "cell_type": "markdown",
      "source": [
        "#### पायथन और किस्किट रूपरचना\n",
        "\n",
        "-------------------------------------------------\n",
        "#### Python and Qiskit Setup"
      ],
      "metadata": {
        "id": "qpffvAs0I-P-"
      },
      "id": "qpffvAs0I-P-"
    },
    {
      "cell_type": "markdown",
      "source": [
        "इस अध्ययन/पाठ्यक्रम में हमारा उद्देश्य प्रमात्रा अभिकलन के जरिए यंत्र अधिगम करना है। इसे सम्पादित करने के लिए प्रमात्रा परिपथ द्वारा अभ्यासों की एक श्रृंखला को हल किया जाएगा। किस्किट के अलावा, तीन पैकेज का भारी उपयोग किया जाएगा: पांडा, स्किकिट-लर्न और कुटिप। \n",
        "\n",
        "----------------------------------------------------------------------\n",
        "\n",
        "Our objective in this course is doing machine learning through quantum computing. To achieve this a series of exercises will be solved by quantum circuits. Besides qiskit, three libraries will be heavily used: pandas, scikit-learn and qutip. \n"
      ],
      "metadata": {
        "id": "MsfWBpR9JQ87"
      },
      "id": "MsfWBpR9JQ87"
    },
    {
      "cell_type": "code",
      "execution_count": null,
      "id": "09357608-cda6-4573-81dd-0984dd49233d",
      "metadata": {
        "id": "09357608-cda6-4573-81dd-0984dd49233d"
      },
      "outputs": [],
      "source": [
        "!pip install qutip -q\n",
        "!pip install qiskit -q\n",
        "!pip install qiskit[visualization] -q\n",
        "!pip install git+https://github.com/qiskit-community/qiskit-textbook.git#subdirectory=qiskit-textbook-src -q\n",
        "\n",
        "import numpy as np\n",
        "np.set_printoptions(precision=3, suppress=True)\n",
        "import qutip as qt \n",
        "from matplotlib import pyplot as plt\n",
        "%matplotlib inline\n",
        "\n",
        "import pandas as pd\n",
        "import sklearn as sk\n",
        "import qiskit as qk"
      ]
    },
    {
      "cell_type": "markdown",
      "source": [
        " ### प्रमात्रा द्वयंक\n",
        "\n",
        " #### सिद्धांत\n",
        "\n",
        " प्रमात्रा यांत्रिकी में हम एक या एक से अधिक कणों की अवस्थाओं को समझने में रुचि रखते हैं।  अवस्था  एक ऐसी चीज है जिसे बाद में एक पर्यवेक्षक  द्वारा मापा जाएगा। यह कण की गति, स्थिति, द्रव्यमान, प्रचक्रण, आदि हो सकता है ... इस अधिनियम से प्राप्त जानकारी का उपयोग \"हमारी\" दुनिया में किसी उद्देश्य के लिए किया जा सकता है।\n",
        "\n",
        " अभिकलन में हम कणों के बारे में बात करने के बजाय द्वयंक के बारे में बात करते हैं।\n",
        "\n",
        "द्वयंक एक कण के लिए एक मॉडल है। एक कण की तरह इसकी अवस्थाएँ होती हैं। \n",
        "\n",
        " माप पर आपको दो संभावित परिणामों में से एक देंगे। एक अतिसूक्ष्म परमाणु का चक्कर एक उदाहरण है (यह +१ या -१ हो सकता है)। एक अन्य उदाहरण एक फोटॉन का ध्रुवीकरण समक्षेत्र है |\n",
        "\n",
        "-------------------------------------------------------\n",
        " ### Qubit\n",
        "\n",
        " #### Theory\n",
        "\n",
        " In quantum mechanics, we are interested in understanding the states of one or more particles. State is something that will be measured later by an observer. It can be the particle's speed, position, mass, spin, etc... The information obtained from this act can be used for some purpose in \"our\" world.\n",
        "\n",
        " In computing, we talk about bits instead of particles.\n",
        "\n",
        "Bits is a model for a particle. Like a particle it has states.\n",
        "\n",
        " On measurement , it will give you one of two possible outcomes. An example is the rotation of an electron (it can be +1 or -1). Another example is the polarization plane of a photon.\n",
        "\n",
        "\n"
      ],
      "metadata": {
        "id": "CBc9VpE5LKK_"
      },
      "id": "CBc9VpE5LKK_"
    },
    {
      "cell_type": "markdown",
      "source": [
        "## **अभ्यास १  : एक प्रमात्रा द्वयंक बनाना**\n",
        "\n",
        "इस उदाहरण में, हम एक प्रमात्रा द्वयंक बनाएंगे $|\\psi_0⟩$, उसे $|0\\rangle$ अवस्था में डालेंगे और उसे मापेंगे। \n",
        "\n",
        "हम गणितीय अभ्यावेदन के साथ भी काम कर रहे हैं। $|0⟩$ अवस्था एक सदिश  है, जिसका मान $\\begin{bmatrix} 1 \\\\ 0 \\end{bmatrix}$ है| इसी तरह $|1⟩$ का मान $\\begin{bmatrix} 0 \\\\ 1 \\end{bmatrix}$ है|\n",
        "\n",
        "\n",
        "------------------------------------------------------------------\n",
        "## **Ex. 1 : Creating a qubit**\n",
        "\n",
        "In this example we will create a qubit $|\\psi_0⟩$ \n",
        ", put it in the state $|0⟩$ and measure it.\n",
        "\n",
        "We are also working with the mathematical respresentations. The state $|0⟩$ is a vector $\\begin{bmatrix} 1 \\\\ 0 \\end{bmatrix}$ and the state $|1\\rangle$ is also a vector, represented by $\\begin{bmatrix} 0 \\\\ 1 \\end{bmatrix}$ "
      ],
      "metadata": {
        "id": "Oy3OuKZ2PSAb"
      },
      "id": "Oy3OuKZ2PSAb"
    },
    {
      "cell_type": "code",
      "execution_count": null,
      "id": "ccd1bd56-5795-425f-a435-49b5a00b8dc3",
      "metadata": {
        "id": "ccd1bd56-5795-425f-a435-49b5a00b8dc3",
        "outputId": "60524519-8331-4d76-969e-20ebdf013ef0"
      },
      "outputs": [
        {
          "data": {
            "image/png": "[encoded data removed]",
            "text/plain": [
              "<Figure size 103.426x84.28 with 1 Axes>"
            ]
          },
          "execution_count": 3,
          "metadata": {},
          "output_type": "execute_result"
        }
      ],
      "source": [
        "# Remember that qiskit has to be already installed in the Python environment.\n",
        "# Otherwise the import command will fail\n",
        "import qiskit as qk\n",
        "\n",
        "# A circuit composed of just one qubit\n",
        "qc = qk.QuantumCircuit(1)\n",
        "qc.draw('mpl')"
      ]
    },
    {
      "cell_type": "code",
      "execution_count": null,
      "id": "1e56727f-323f-4258-ba1a-183ebc0880b2",
      "metadata": {
        "id": "1e56727f-323f-4258-ba1a-183ebc0880b2",
        "outputId": "cfd9faa6-0948-493a-ff2c-75ec13e1497a"
      },
      "outputs": [
        {
          "data": {
            "image/png": "[encoded data removed]",
            "text/plain": [
              "<Figure size 133.526x84.28 with 1 Axes>"
            ]
          },
          "execution_count": 4,
          "metadata": {},
          "output_type": "execute_result"
        }
      ],
      "source": [
        "import qiskit as qiskit\n",
        "\n",
        "# A qubit initialized in the state |0>\n",
        "qc = qk.QuantumCircuit(1)\n",
        "qc.initialize([1,0])\n",
        "qc.draw('mpl')"
      ]
    },
    {
      "cell_type": "code",
      "execution_count": null,
      "id": "792dcb30-ff88-4c02-a1dc-a0211afd3f80",
      "metadata": {
        "id": "792dcb30-ff88-4c02-a1dc-a0211afd3f80",
        "outputId": "c2eff47d-c2db-45c6-a77c-255bc7f6ad2b"
      },
      "outputs": [
        {
          "data": {
            "image/png": "[encoded data removed]",
            "text/plain": [
              "<Figure size 133.526x84.28 with 1 Axes>"
            ]
          },
          "execution_count": 5,
          "metadata": {},
          "output_type": "execute_result"
        }
      ],
      "source": [
        "import qiskit as qiskit\n",
        "\n",
        "# A qubit initialized in the state |0>\n",
        "qc = qk.QuantumCircuit(1)\n",
        "qc.initialize([1,0])\n",
        "qc.draw('mpl')"
      ]
    },
    {
      "cell_type": "code",
      "execution_count": null,
      "id": "4e534757-2eb0-4ce1-b414-7e2bfbeb6efd",
      "metadata": {
        "id": "4e534757-2eb0-4ce1-b414-7e2bfbeb6efd",
        "outputId": "f85855bc-5da0-426e-c860-691da76eadba"
      },
      "outputs": [
        {
          "data": {
            "image/png": "[encoded data removed]",
            "text/plain": [
              "<Figure size 133.526x84.28 with 1 Axes>"
            ]
          },
          "execution_count": 6,
          "metadata": {},
          "output_type": "execute_result"
        }
      ],
      "source": [
        "import qiskit as qiskit\n",
        "\n",
        "# A qubit initialized in the state |0>\n",
        "qc = qk.QuantumCircuit(1)\n",
        "qc.initialize([1,0])\n",
        "qc.draw('mpl')"
      ]
    },
    {
      "cell_type": "code",
      "execution_count": null,
      "id": "1ad014ec-cbb6-46e4-82e1-a5e4898c290e",
      "metadata": {
        "id": "1ad014ec-cbb6-46e4-82e1-a5e4898c290e",
        "outputId": "e424f001-c9a7-4941-dcb1-0c7ffce16b27"
      },
      "outputs": [
        {
          "data": {
            "text/plain": [
              "{'0': 1000}"
            ]
          },
          "execution_count": 7,
          "metadata": {},
          "output_type": "execute_result"
        }
      ],
      "source": [
        "import qiskit as qk\n",
        "\n",
        "qc = qk.QuantumCircuit(1)\n",
        "qc.initialize([1,0],0)\n",
        "qc.measure_all()\n",
        "\n",
        "# Let's choose the statevector simulator from the Aer backend\n",
        "backend = qk.Aer.get_backend('statevector_simulator')\n",
        "\n",
        "# And execute the circuit qc in the simulator backend \n",
        "#  getting as final result the counts from 1.000 measures\n",
        "#  of the qubit state\n",
        "result = qk.execute(qc, backend, shots=1000).result().get_counts()\n",
        "result"
      ]
    },
    {
      "cell_type": "markdown",
      "source": [
        "प्रमात्रा अभिकलन एक संभाव्य गणना पद्धति है| प्रमात्रा परिपथ चलाने के लिए, हमें बैकएंड चुनना होगा। बैकएंड स्थानीय अनुकारक या वास्तविक प्रमात्रा अभिकलित्र हो सकता है।\n",
        "\n",
        "\n",
        "--------------------------------------------------------------------\n",
        "\n",
        "Quantum Computing is a probabilistic computation method. To run a quantum circuit, we must chose a backend. The backend can be local simulator, or a real quantum computer."
      ],
      "metadata": {
        "id": "kUGYuAV1TAAz"
      },
      "id": "kUGYuAV1TAAz"
    },
    {
      "cell_type": "markdown",
      "source": [
        "\n",
        "अब, हम प्रमात्रा परिपथ  को १000 बार चलाना चाहते हैं। नीचे दिया गया रेखाचित्र परिणामों का एक आयत चित्र प्रस्तुत करता है\n",
        "\n",
        "--------------------------------------------------------------\n",
        "Now, we want to run the quantum circuit 1000 times. The graph below presents a histogram of the results"
      ],
      "metadata": {
        "id": "YClAnOAoUy0E"
      },
      "id": "YClAnOAoUy0E"
    },
    {
      "cell_type": "code",
      "execution_count": null,
      "id": "b168e1da-884b-44e2-96b4-832190419500",
      "metadata": {
        "id": "b168e1da-884b-44e2-96b4-832190419500",
        "outputId": "e32d1427-ccef-4f26-928c-10bbd7637ba8"
      },
      "outputs": [
        {
          "data": {
            "image/png": "[encoded data removed]",
            "text/plain": [
              "<Figure size 504x360 with 1 Axes>"
            ]
          },
          "execution_count": 8,
          "metadata": {},
          "output_type": "execute_result"
        }
      ],
      "source": [
        "import qiskit as qk\n",
        "\n",
        "qc = qk.QuantumCircuit(1)\n",
        "qc.initialize([1,0],0)\n",
        "qc.measure_all()\n",
        "backend = qk.Aer.get_backend('statevector_simulator')\n",
        "result = qk.execute(qc, backend, shots=1000).result().get_counts()\n",
        "\n",
        "qk.visualization.plot_histogram(result)"
      ]
    },
    {
      "cell_type": "markdown",
      "source": [
        "प्रमात्रा परिपथ बनाने का दूसरा तरीका नीचे प्रस्तुत किया गया है। इसमें, हम प्रमात्रा द्वयंक,  द्वयंक बनाते हैं और माप के परिणाम द्वयंक में संग्रहीत होते हैं।\n",
        "\n",
        "\n",
        "\n",
        "-------------------------------------------------------\n",
        "Another way of creating the quantum circuit is presented below. In it, we create quantum registers (qubits), classical registers (bits) and the results from the qubit measurement are stored in the classical register (the bit)."
      ],
      "metadata": {
        "id": "BQV26C4dWJ3D"
      },
      "id": "BQV26C4dWJ3D"
    },
    {
      "cell_type": "code",
      "execution_count": null,
      "id": "1969a500-84be-4d33-8b7e-e4e2efb5e066",
      "metadata": {
        "id": "1969a500-84be-4d33-8b7e-e4e2efb5e066",
        "outputId": "0aeb2e49-ae48-440f-f5cd-e16363fc3950"
      },
      "outputs": [
        {
          "data": {
            "image/png": "[encoded data removed]",
            "text/plain": [
              "<Figure size 206.707x144.48 with 1 Axes>"
            ]
          },
          "execution_count": 9,
          "metadata": {},
          "output_type": "execute_result"
        }
      ],
      "source": [
        "import qiskit as qk\n",
        "\n",
        "qr = qk.QuantumRegister(1,'q0')\n",
        "cr = qk.ClassicalRegister(1,'c0')\n",
        "qc = qk.QuantumCircuit(qr, cr)\n",
        "qc.initialize([1,0],0)\n",
        "qc.measure(0,0)\n",
        "qc.draw('mpl')"
      ]
    },
    {
      "cell_type": "code",
      "execution_count": null,
      "id": "4f1fe4b1-3079-4548-9114-52832910936f",
      "metadata": {
        "id": "4f1fe4b1-3079-4548-9114-52832910936f",
        "outputId": "bb0b8115-c717-4aed-db0f-72c8656add8f"
      },
      "outputs": [
        {
          "data": {
            "image/png": "[encoded data removed]",
            "text/plain": [
              "<Figure size 504x360 with 1 Axes>"
            ]
          },
          "execution_count": 10,
          "metadata": {},
          "output_type": "execute_result"
        }
      ],
      "source": [
        "backend = qk.Aer.get_backend('statevector_simulator')\n",
        "result = qk.execute(qc, backend, shots=1000).result().get_counts()\n",
        "\n",
        "qk.visualization.plot_histogram(result)"
      ]
    },
    {
      "cell_type": "markdown",
      "source": [
        "## **अभ्यास २ : एक परिपथ  बनाएं जो एक प्रमात्रा द्वयंक $|0⟩$ प्राप्त करता है और इसे $|1⟩$ स्थिति में रखता है**\n",
        "\n",
        "याद रखें कि अवस्था $|0⟩$ और $|1⟩$ को सदिश द्वारा भी दर्शाया जा सकता है , $\\begin{bmatrix} 1 \\\\ 0 \\end{bmatrix}$ तथा $\\begin{bmatrix} 0 \\\\ 1 \\end{bmatrix}$\n",
        "\n",
        "हम $\\begin{bmatrix} 1 \\\\ 0 \\end{bmatrix}$ सदिश को सर्किट में रखना चाहते हैं और इस $\\begin{bmatrix} 0 \\\\ 1 \\end{bmatrix}$ सदिश को वापस पाना चाहते हैं|\n",
        "\n",
        "गणितीय दृष्टिकोण से, हम एक और आव्यूह $X$ चाहते हैं, जिसे $|0⟩$ से गुणा करने पर परिणामस्वरूप $|1⟩$ मिलता है।\n",
        "वह आव्यूह है:\n",
        "\n",
        "$X = \\begin{bmatrix} 1 & 0 \\\\ 0 & 1 \\end{bmatrix}$\n",
        "\n",
        "प्रमात्रा परिपथ परिप्रेक्ष्य से, एक आव्यूह जो संचालित और संशोधित करता है उसे गेट/तर्कद्वार कहा जाता है। \n",
        "नॉट गेट \n",
        "\n",
        "--------------------------------------------------------------\n",
        "\n",
        "## **Ex.2: Create a circuit which receives a qubit in the state $|0⟩$  and puts it in the state $|1⟩$.**\n",
        "\n",
        "Remember that the states $|0\\rangle$ and $|1\\rangle$ can be represented as $\\begin{bmatrix} 1 \\\\ 0 \\end{bmatrix}$ and $\\begin{bmatrix} 0 \\\\ 1 \\end{bmatrix}$? \n",
        "We want in this exercise is a way of putting a matrix $\\begin{bmatrix} 1 \\\\ 0 \\end{bmatrix}$ in the circuit and getting back the matrix $\\begin{bmatrix} 0 \\\\ 1 \\end{bmatrix}$. \n",
        "\n",
        "From a purely mathematical perspective what we want is another matrix $X$ which when multilied by $|0\\rangle$ gives as a result $|1\\rangle$.\n",
        "Or in other words $|1\\rangle = X |0⟩$. Which matrix is that?\n",
        "\n",
        "The answer is $X = \\begin{bmatrix} 1 & 0 \\\\ 0 & 1 \\end{bmatrix}$.\n",
        "\n",
        "From a quantum circuit persepective, a matrix that operates in a qubit and modifies it is called a gate. The $X$ matrix depicted here represent the $NOT$ gate"
      ],
      "metadata": {
        "id": "Phuo15CbXr8L"
      },
      "id": "Phuo15CbXr8L"
    },
    {
      "cell_type": "code",
      "execution_count": null,
      "id": "8fb270b8-96bb-4c68-ac61-b67f2778fb62",
      "metadata": {
        "id": "8fb270b8-96bb-4c68-ac61-b67f2778fb62",
        "outputId": "2a3664b9-e9c4-49a7-c993-bcad6e827e9a"
      },
      "outputs": [
        {
          "data": {
            "text/plain": [
              "array([[1],\n",
              "       [0]])"
            ]
          },
          "execution_count": 11,
          "metadata": {},
          "output_type": "execute_result"
        }
      ],
      "source": [
        "import numpy as np\n",
        "v0 = np.array([[1],[0]]);v0"
      ]
    },
    {
      "cell_type": "code",
      "execution_count": null,
      "id": "66895073-39e9-4763-996e-3361631e7706",
      "metadata": {
        "id": "66895073-39e9-4763-996e-3361631e7706",
        "outputId": "d558dc2b-0dd3-4591-ca92-281d6afa841a"
      },
      "outputs": [
        {
          "data": {
            "text/plain": [
              "array([[0],\n",
              "       [1]])"
            ]
          },
          "execution_count": 12,
          "metadata": {},
          "output_type": "execute_result"
        }
      ],
      "source": [
        "v1 = np.array([[0],[1]]); v1"
      ]
    },
    {
      "cell_type": "code",
      "execution_count": null,
      "id": "e9e71fa2-6002-43b2-85ce-6ebec578e6ec",
      "metadata": {
        "id": "e9e71fa2-6002-43b2-85ce-6ebec578e6ec",
        "outputId": "cbbb9309-c7b9-4a0d-f4f1-02a695dc1c12"
      },
      "outputs": [
        {
          "data": {
            "text/plain": [
              "array([[0, 1],\n",
              "       [1, 0]])"
            ]
          },
          "execution_count": 13,
          "metadata": {},
          "output_type": "execute_result"
        }
      ],
      "source": [
        "X = np.array([[0,1],[1,0]]); X"
      ]
    },
    {
      "cell_type": "code",
      "execution_count": null,
      "id": "36de64da-bcd4-4b9e-8d32-ce35a054dc0b",
      "metadata": {
        "id": "36de64da-bcd4-4b9e-8d32-ce35a054dc0b",
        "outputId": "ed1073df-1d3a-49ee-ca55-f6d9fad0bf8f"
      },
      "outputs": [
        {
          "data": {
            "text/plain": [
              "array([[0],\n",
              "       [1]])"
            ]
          },
          "execution_count": 14,
          "metadata": {},
          "output_type": "execute_result"
        }
      ],
      "source": [
        "X.dot(v0)"
      ]
    },
    {
      "cell_type": "code",
      "execution_count": null,
      "id": "fa1aa557-ca00-4f0d-b42f-c6db65192ef6",
      "metadata": {
        "id": "fa1aa557-ca00-4f0d-b42f-c6db65192ef6",
        "outputId": "03d1fc5e-c728-4cb6-ade1-6bd795cb5bbe"
      },
      "outputs": [
        {
          "data": {
            "text/plain": [
              "array([[1],\n",
              "       [0]])"
            ]
          },
          "execution_count": 15,
          "metadata": {},
          "output_type": "execute_result"
        }
      ],
      "source": [
        "X.dot(v1)"
      ]
    },
    {
      "cell_type": "code",
      "execution_count": null,
      "id": "0b0ed24c-fa2f-412e-a2a4-c3257a1cc1ad",
      "metadata": {
        "id": "0b0ed24c-fa2f-412e-a2a4-c3257a1cc1ad",
        "outputId": "22990a83-0bd6-4281-f6b4-9c22e9c0c7bb"
      },
      "outputs": [
        {
          "data": {
            "image/png": "[encoded data removed]",
            "text/plain": [
              "<Figure size 266.907x144.48 with 1 Axes>"
            ]
          },
          "execution_count": 16,
          "metadata": {},
          "output_type": "execute_result"
        }
      ],
      "source": [
        "import qiskit as qk\n",
        "qr = qk.QuantumRegister(1,\"q0\")\n",
        "cr = qk.ClassicalRegister(1,\"c0\")\n",
        "qc = qk.QuantumCircuit(qr, cr)\n",
        "qc.initialize([1,0],0)\n",
        "qc.x(0)\n",
        "qc.measure(qr[0], cr[0])\n",
        "qc.draw('mpl')"
      ]
    },
    {
      "cell_type": "code",
      "execution_count": null,
      "id": "4b966270-af35-4e04-92f1-04f1bd5b81d4",
      "metadata": {
        "id": "4b966270-af35-4e04-92f1-04f1bd5b81d4",
        "outputId": "72515e9d-4b6d-44e1-dbb8-dc8d9c61b188"
      },
      "outputs": [
        {
          "data": {
            "text/plain": [
              "{'1': 1000}"
            ]
          },
          "execution_count": 17,
          "metadata": {},
          "output_type": "execute_result"
        }
      ],
      "source": [
        "simulator = qk.Aer.get_backend('statevector_simulator')\n",
        "results = qk.execute(qc, simulator, shots=1000).result().get_counts()\n",
        "results"
      ]
    },
    {
      "cell_type": "code",
      "execution_count": null,
      "id": "feafaaeb-ed23-4660-96ee-b9a8e95f3a2a",
      "metadata": {
        "id": "feafaaeb-ed23-4660-96ee-b9a8e95f3a2a",
        "outputId": "cffcaa8c-f716-424a-ffe5-65a19910469d"
      },
      "outputs": [
        {
          "data": {
            "image/png": "[encoded data removed]",
            "text/plain": [
              "<Figure size 504x360 with 1 Axes>"
            ]
          },
          "execution_count": 18,
          "metadata": {},
          "output_type": "execute_result"
        }
      ],
      "source": [
        "qk.visualization.plot_histogram(results)"
      ]
    },
    {
      "cell_type": "markdown",
      "source": [
        "एक्स संकारक यदि दो बार लागू किया जाता है, तो यह परिणाम को फिर से उलट देगा।\n",
        "आव्यूह के दृष्टिकोण से, इसका अर्थ है\n",
        "$X⋅X⋅|0⟩ = |0⟩$ या $X^2 ⋅ |0⟩ = |0⟩$.\n",
        "दूसरे शब्दों में $X^2 = I$. \n",
        "जहाँ X को पहचान संकारक कहा जाता है\n",
        "\n",
        "\n",
        "\n",
        "\n",
        "--------------------------------------------------------------------\n",
        "\n",
        "\n",
        "Note that the $X$ operator if applied twice in a qubit will reverse the result again. From a matrix perspective, it means $X⋅X⋅|0⟩ = |0⟩$ or $X^2 ⋅ |0⟩ = |0⟩$. In other words $X^2 = I$ where $I$ is called Idenity Matrix"
      ],
      "metadata": {
        "id": "O7n75KA1eXXW"
      },
      "id": "O7n75KA1eXXW"
    },
    {
      "cell_type": "code",
      "execution_count": null,
      "id": "e1319eac-0ee9-4ef0-a4a8-29f60518c3c5",
      "metadata": {
        "id": "e1319eac-0ee9-4ef0-a4a8-29f60518c3c5",
        "outputId": "53280999-df81-477f-e2b3-44846a05020a"
      },
      "outputs": [
        {
          "data": {
            "text/plain": [
              "array([[1],\n",
              "       [0]])"
            ]
          },
          "execution_count": 19,
          "metadata": {},
          "output_type": "execute_result"
        }
      ],
      "source": [
        "import numpy as np\n",
        "# Notice that we are creating the v0 matrix using the transpose operation\n",
        "v0 = np.array([[1,0]]).T; v0"
      ]
    },
    {
      "cell_type": "code",
      "execution_count": null,
      "id": "d45cc14a-47e4-4bc5-93ec-42676dd92d31",
      "metadata": {
        "id": "d45cc14a-47e4-4bc5-93ec-42676dd92d31",
        "outputId": "4b4e0fb6-8415-40d2-add9-ddc32fdf45f1"
      },
      "outputs": [
        {
          "data": {
            "text/plain": [
              "array([[0, 1],\n",
              "       [1, 0]])"
            ]
          },
          "execution_count": 20,
          "metadata": {},
          "output_type": "execute_result"
        }
      ],
      "source": [
        "# Here it is created again de X matrix \n",
        "X = np.array([[0,1],[1,0]]); X"
      ]
    },
    {
      "cell_type": "code",
      "execution_count": null,
      "id": "239bbf34-dfe8-4f14-8935-56a320629a45",
      "metadata": {
        "id": "239bbf34-dfe8-4f14-8935-56a320629a45",
        "outputId": "ccc4fa4c-cbe3-4437-9279-3616130f3023"
      },
      "outputs": [
        {
          "data": {
            "text/plain": [
              "array([[1],\n",
              "       [0]])"
            ]
          },
          "execution_count": 21,
          "metadata": {},
          "output_type": "execute_result"
        }
      ],
      "source": [
        "# Multiplying v0 by the X matrix twice you get again v0\n",
        "X.dot(X).dot(v0)"
      ]
    },
    {
      "cell_type": "code",
      "execution_count": null,
      "id": "90132119-75dc-4245-972a-911e2cceb510",
      "metadata": {
        "id": "90132119-75dc-4245-972a-911e2cceb510",
        "outputId": "2b996b14-68c9-4d31-d783-3b781d19bc05"
      },
      "outputs": [
        {
          "data": {
            "text/plain": [
              "array([[1, 0],\n",
              "       [0, 1]])"
            ]
          },
          "execution_count": 22,
          "metadata": {},
          "output_type": "execute_result"
        }
      ],
      "source": [
        "# Multiplying the X matrix by itself you get the Identity matrix\n",
        "X.dot(X)"
      ]
    },
    {
      "cell_type": "code",
      "execution_count": null,
      "id": "e93925b7-cef7-4ffb-bb06-80137b891407",
      "metadata": {
        "id": "e93925b7-cef7-4ffb-bb06-80137b891407",
        "outputId": "7b3f04b5-44d4-44b4-ca1c-fd032ae2c8f0"
      },
      "outputs": [
        {
          "data": {
            "image/png": "[encoded data removed]",
            "text/plain": [
              "<Figure size 327.107x144.48 with 1 Axes>"
            ]
          },
          "execution_count": 23,
          "metadata": {},
          "output_type": "execute_result"
        }
      ],
      "source": [
        "import qiskit as qk\n",
        "qr = qk.QuantumRegister(1,'q0')\n",
        "cr = qk.ClassicalRegister(1,'c0')\n",
        "qc = qk.QuantumCircuit(qr, cr)\n",
        "qc.initialize([1,0],0)\n",
        "qc.x(0)\n",
        "qc.x(0)\n",
        "qc.measure(qr[0],cr[0])\n",
        "qc.draw('mpl')"
      ]
    },
    {
      "cell_type": "code",
      "execution_count": null,
      "id": "d058fcbb-a751-4140-86a6-705ef296b679",
      "metadata": {
        "id": "d058fcbb-a751-4140-86a6-705ef296b679",
        "outputId": "ff847056-4c5f-4135-f117-1e6c1dcd7304"
      },
      "outputs": [
        {
          "data": {
            "text/plain": [
              "{'0': 1000}"
            ]
          },
          "execution_count": 24,
          "metadata": {},
          "output_type": "execute_result"
        }
      ],
      "source": [
        "# The result of 1000 measures of the qubit above gives the |0> state as result\n",
        "#  in all measures\n",
        "simulator = qk.Aer.get_backend('statevector_simulator')\n",
        "results = qk.execute(qc,simulator,shots=1000).result().get_counts()\n",
        "results"
      ]
    },
    {
      "cell_type": "code",
      "execution_count": null,
      "id": "f8e9cb5a-27f8-4ffb-b144-dfc145c4ef9d",
      "metadata": {
        "id": "f8e9cb5a-27f8-4ffb-b144-dfc145c4ef9d",
        "outputId": "d21f2651-1180-44cd-ecfb-8da1890b9ab5"
      },
      "outputs": [
        {
          "data": {
            "image/png": "[encoded data removed]",
            "text/plain": [
              "<Figure size 504x360 with 1 Axes>"
            ]
          },
          "execution_count": 25,
          "metadata": {},
          "output_type": "execute_result"
        }
      ],
      "source": [
        "qk.visualization.plot_histogram(results)\n"
      ]
    },
    {
      "cell_type": "markdown",
      "source": [
        "## **अभ्यास ३ : $|\\psi\\rangle = \\frac{1}{\\sqrt{2}} |0\\rangle +  \\frac{1}{\\sqrt{2}} |1\\rangle$ अवस्था में एक प्रमात्रा द्वयंक शुरू करें और परिणाम प्रस्तुत करें**\n",
        "\n",
        "\n",
        "\n",
        "जब आप एक प्रमात्रा द्वयंक  को नहीं देख रहे हैं, तो यह एक सिक्के की तरह है जो अभी भी घूम रहा है। प्रमात्रा द्वयंक की स्थिति को $|\\psi\\rangle = a|0\\rangle + b|1\\rangle$ द्वारा दर्शाया जा सकता है, जहां $|a|^2 + |b|^2 = 1$ , एवं $ a $ , $b$ संबंधित आधार अवस्था $|0\\rangle$, $|1\\rangle$ को मापने की संभावनाएं हैं| चूँकि $a^2 = \\frac{1}{2}$, $|0\\rangle$ मापने की प्रायिकता 50% है, इसी तरह $|1\\rangle$ के मापने की प्रायिकता भी 50% है.\n",
        "इसलिए इस उदाहरण में, यदि हम $10$ माप निष्पादित करते हैं, तो हम उम्मीद करते हैं कि लगभग $5$ माप $|0⟩$ में और $5$ माप $|1⟩$ आधार अवस्था में दिखाई देंगे। नीचे दिया गया परिपथ इस प्रयोग को दर्शाता है\n",
        "\n",
        "\n",
        "\n",
        "----------------------------------------------------------------\n",
        "\n",
        "## **Ex.3: Initialize a qubit in the state $|ψ⟩ = \\frac{1}{\\sqrt{2}} |0⟩ + \\frac{1}{\\sqrt{2}} |1⟩$ and present the results of $1.000$ measures.**\n",
        "\n",
        "Remember that a qubit, when you're not looking at it, is like a coin that is still spinning. The state that this qubit it can be represented by $|\\psi⟩ = a |0⟩ + b |1⟩$, with $|a|^2 + |b|^2 = 1 $, where $a$ and $b$ are the probabilities of measuring the associated base states $|0⟩$ and $|1⟩$ respectively. Since $a^2 = \\frac{1}{2}$ the probability of measuring $|0⟩$ is $50\\%$ and same for $|1⟩$. Therefore in this example, if we execute $10$ measurements, we expect to see approximately $5$ measures in $|0\\rangle$ and $5$ measures in $|1⟩$ base state respectively. The circuit below depicts this experiment."
      ],
      "metadata": {
        "id": "XEEALlfFfdED"
      },
      "id": "XEEALlfFfdED"
    },
    {
      "cell_type": "code",
      "execution_count": null,
      "id": "359ca8c4-1cca-4fb2-90e2-d26253b4712e",
      "metadata": {
        "id": "359ca8c4-1cca-4fb2-90e2-d26253b4712e",
        "outputId": "6a017a95-19fa-4b1f-8d34-9138307d8804"
      },
      "outputs": [
        {
          "data": {
            "image/png": "[encoded data removed]",
            "text/plain": [
              "<Figure size 266.907x144.48 with 1 Axes>"
            ]
          },
          "execution_count": 26,
          "metadata": {},
          "output_type": "execute_result"
        }
      ],
      "source": [
        "import qiskit as qk\n",
        "\n",
        "qr = qk.QuantumRegister(1,'q0')\n",
        "cr = qk.ClassicalRegister(1,'c0')\n",
        "qc = qk.QuantumCircuit(qr,cr)\n",
        "qc.initialize([2**-0.5,2**-0.5],0)\n",
        "qc.measure(qr[0],cr[0])\n",
        "qc.draw('mpl')"
      ]
    },
    {
      "cell_type": "code",
      "execution_count": null,
      "id": "dc4226b8-da9e-4d79-b663-a51d7dee2be5",
      "metadata": {
        "id": "dc4226b8-da9e-4d79-b663-a51d7dee2be5",
        "outputId": "6a8f93a1-e09c-4a5a-ca27-892b8d3469d3"
      },
      "outputs": [
        {
          "data": {
            "image/png": "[encoded data removed]",
            "text/plain": [
              "<Figure size 504x360 with 1 Axes>"
            ]
          },
          "execution_count": 27,
          "metadata": {},
          "output_type": "execute_result"
        }
      ],
      "source": [
        "simulator = qk.Aer.get_backend('statevector_simulator')\n",
        "results = qk.execute(qc,simulator,shots=10000).result().get_counts()\n",
        "qk.visualization.plot_histogram(results)"
      ]
    },
    {
      "cell_type": "markdown",
      "source": [
        "अवस्था $|\\psi\\rangle = \\frac{1}{\\sqrt{2}}|0\\rangle + \\frac{1}{\\sqrt{2}}|1⟩$  में प्रमात्रा द्वयंक को प्रारंभिक स्थापन करने की प्रक्रिया को दूसरे गेट का उपयोग करके भी पूरा किया जा सकता था।\n",
        "यह गेट $|0\\rangle$ अवस्था में प्रमात्रा द्वयंक प्राप्त करेगा और $\\frac{1}{\\sqrt{2}}|0\\rangle + \\frac{1}{\\sqrt{2}}|1⟩$ अवस्था का उत्पाद करेगा।\n",
        "यह हैडामर्ड गेट है। $H = \\frac{1}{\\sqrt{2}} \\begin{bmatrix} 1 & 1 \\\\ 1 & -1 \\end{bmatrix}$ , अगर हम गणना करें\n",
        "$ H⋅ |0⟩ = \\frac{1}{\\sqrt{2}} \\begin{bmatrix} 1 & 1 \\\\ 1 & -1 \\end{bmatrix} ⋅\\begin{bmatrix} 1 \\\\ 0 \\end{bmatrix} = \\frac{1}{\\sqrt{2}} \\begin{bmatrix} 1 \\\\ 1 \\end{bmatrix}  = \\frac{1}{\\sqrt{2}}|0\\rangle + \\frac{1}{\\sqrt{2}}|1⟩$\n",
        "\n",
        "-------------------------------------------------------------------------------------------\n",
        "\n",
        "The process of initializing the qubit in the state $|\\psi\\rangle = \\frac{1}{\\sqrt{2}}|0\\rangle + \\frac{1}{\\sqrt{2}}|1⟩$ could also have been accomplished using another gate. This gate would recieve a qubit in state $|0\\rangle$ and output the state $\\frac{1}{\\sqrt{2}}|0\\rangle + \\frac{1}{\\sqrt{2}}|1⟩$.\n",
        "\n",
        "That gate would be hadamard gate. Call it $H$, where $H = \\frac{1}{\\sqrt{2}} \\begin{bmatrix} 1 & 1 \\\\ 1 & -1 \\end{bmatrix}$. If we calculate:\n",
        "$ H⋅ |0⟩ = \\frac{1}{\\sqrt{2}} \\begin{bmatrix} 1 & 1 \\\\ 1 & -1 \\end{bmatrix} ⋅\\begin{bmatrix} 1 \\\\ 0 \\end{bmatrix} = \\frac{1}{\\sqrt{2}} \\begin{bmatrix} 1 \\\\ 1 \\end{bmatrix}  = \\frac{1}{\\sqrt{2}}|0\\rangle + \\frac{1}{\\sqrt{2}}|1⟩$"
      ],
      "metadata": {
        "id": "xEX44zaSDQAj"
      },
      "id": "xEX44zaSDQAj"
    },
    {
      "cell_type": "markdown",
      "source": [
        "आइए इस संक्रिया को numpy . में विस्तार  करें\n",
        "\n",
        "---------------------------------------------------\n",
        "Let's deploy this operation in numpy"
      ],
      "metadata": {
        "id": "IrUR-AMUKsf4"
      },
      "id": "IrUR-AMUKsf4"
    },
    {
      "cell_type": "code",
      "execution_count": null,
      "id": "5ed1cba3-cc46-477a-b221-0cd2f261ffb9",
      "metadata": {
        "id": "5ed1cba3-cc46-477a-b221-0cd2f261ffb9",
        "outputId": "0d287ccf-bd4b-403a-89f6-0c2dc6962893"
      },
      "outputs": [
        {
          "data": {
            "text/plain": [
              "array([[1],\n",
              "       [0]])"
            ]
          },
          "execution_count": 28,
          "metadata": {},
          "output_type": "execute_result"
        }
      ],
      "source": [
        "\n",
        " import numpy as np\n",
        "v0 = np.array([[1,0]]).T; v0"
      ]
    },
    {
      "cell_type": "code",
      "execution_count": null,
      "id": "b80ae65e-76c6-4765-90e1-5063c0e2cecd",
      "metadata": {
        "id": "b80ae65e-76c6-4765-90e1-5063c0e2cecd",
        "outputId": "73f92896-6700-4dfa-edff-146719ba4da4"
      },
      "outputs": [
        {
          "data": {
            "text/plain": [
              "array([[ 0.707,  0.707],\n",
              "       [ 0.707, -0.707]])"
            ]
          },
          "execution_count": 29,
          "metadata": {},
          "output_type": "execute_result"
        }
      ],
      "source": [
        "H = np.array([[1,1],[1,-1]])/np.sqrt(2); H"
      ]
    },
    {
      "cell_type": "code",
      "execution_count": null,
      "id": "0db88e61-6379-4376-ad9f-4fb66de8092f",
      "metadata": {
        "id": "0db88e61-6379-4376-ad9f-4fb66de8092f",
        "outputId": "10d5a41c-41e5-423b-e1bc-325c7f15198a"
      },
      "outputs": [
        {
          "data": {
            "text/plain": [
              "array([[0.707],\n",
              "       [0.707]])"
            ]
          },
          "execution_count": 30,
          "metadata": {},
          "output_type": "execute_result"
        }
      ],
      "source": [
        "H.dot(v0)"
      ]
    },
    {
      "cell_type": "markdown",
      "source": [
        ".. और फिर प्रमात्रा परिपथ के माध्यम से, जैसा कि आप देख सकते हैं, माप का आयतचित्र समान है\n",
        "\n",
        "------------------------------------------------------------------\n",
        ".. and then through a quantum circuit. As you can see, the histogram of measurements is the same"
      ],
      "metadata": {
        "id": "C45YWOMNXpXn"
      },
      "id": "C45YWOMNXpXn"
    },
    {
      "cell_type": "code",
      "execution_count": null,
      "id": "a7d81cb4-281f-45d4-ab3d-885a6a2c6333",
      "metadata": {
        "id": "a7d81cb4-281f-45d4-ab3d-885a6a2c6333",
        "outputId": "88f57836-bdf6-40f3-93c5-a61cb37f4a9b"
      },
      "outputs": [
        {
          "data": {
            "image/png": "[encoded data removed]",
            "text/plain": [
              "<Figure size 266.907x144.48 with 1 Axes>"
            ]
          },
          "execution_count": 31,
          "metadata": {},
          "output_type": "execute_result"
        }
      ],
      "source": [
        "import qiskit as qk\n",
        "\n",
        "qr = qk.QuantumRegister(1,'q0')\n",
        "cr = qk.ClassicalRegister(1,'c0')\n",
        "qc = qk.QuantumCircuit(qr,cr)\n",
        "qc.initialize([1,0],0)\n",
        "qc.h(qr[0])\n",
        "qc.measure(qr[0],cr[0])\n",
        "qc.draw('mpl')"
      ]
    },
    {
      "cell_type": "code",
      "execution_count": null,
      "id": "c85623ab-3f19-45f8-a0fd-9bd588d29fc2",
      "metadata": {
        "id": "c85623ab-3f19-45f8-a0fd-9bd588d29fc2",
        "outputId": "b02c9034-f4ba-497c-f3ec-e2f6429c7faf"
      },
      "outputs": [
        {
          "data": {
            "image/png": "[encoded data removed]",
            "text/plain": [
              "<Figure size 504x360 with 1 Axes>"
            ]
          },
          "execution_count": 32,
          "metadata": {},
          "output_type": "execute_result"
        }
      ],
      "source": [
        "simulator = qk.Aer.get_backend('statevector_simulator')\n",
        "results = qk.execute(qc, simulator, shots=10000).result().get_counts()\n",
        "qk.visualization.plot_histogram(results)"
      ]
    },
    {
      "cell_type": "markdown",
      "source": [
        "##**अभ्यास ४ : $|\\psi\\rangle = \\frac{1}{\\sqrt{2}} |0\\rangle -  \\frac{1}{\\sqrt{2}} |1\\rangle$ अवस्था में एक प्रमात्रा द्वयंक शुरू करें और परिणाम प्रस्तुत करें**\n",
        "\n",
        "जब हमने अपनी प्रमात्रा अध्यारोपन स्थिति को परिभाषित किया और कहा कि संभाव्यता आयाम $a$ और $b$ भी एक काल्पनिक संख्या हो सकती है।\n",
        "क्या होगा यदि $b$ एक ऋणात्मक संख्या हो| \n",
        "हमारे माप का परिणाम क्या होगा?\n",
        "\n",
        "परिणाम पिछले अभ्यास के समान ही होगा, क्योंकि $|\\frac{-1}{\\sqrt{2}}|^2 = \\frac{1}{2}$.\n",
        "आइए हम एक प्रमात्रा परिपथ  बनाएं और पता करें\n",
        "\n",
        "-------------------------------------------------------------------------\n",
        "\n",
        "## **Ex.4 : Initialize a qubit in the state $|\\psi⟩ = \\frac{1}{\\sqrt{2}} |0⟩ - \\frac{1}{\\sqrt{2}}|1⟩$ and present the result**\n",
        "\n",
        "When we defined our qubit's superposition state and said that the probabilities amplitudes $a$ and $b$ could also be any complex number. What if $b$ is a negative number , lie $-1$? What would we measure?\n",
        "\n",
        "The result would be same as well, because $|\\frac{-1}{\\sqrt{2}}|^2 = \\frac{1}{2}$. Let us create a quantum circuit and find out."
      ],
      "metadata": {
        "id": "rdNaBB4lY2e6"
      },
      "id": "rdNaBB4lY2e6"
    },
    {
      "cell_type": "code",
      "execution_count": null,
      "id": "55205426-1c9c-4108-999e-4cd8265ea073",
      "metadata": {
        "id": "55205426-1c9c-4108-999e-4cd8265ea073",
        "outputId": "963b9667-49cf-4709-8438-206247633ad9"
      },
      "outputs": [
        {
          "data": {
            "image/png": "[encoded data removed]",
            "text/plain": [
              "<Figure size 266.907x144.48 with 1 Axes>"
            ]
          },
          "execution_count": 33,
          "metadata": {},
          "output_type": "execute_result"
        }
      ],
      "source": [
        "import qiskit as qk\n",
        "\n",
        "qr = qk.QuantumRegister(1,'q0')\n",
        "cr = qk.ClassicalRegister(1,'c0')\n",
        "qc = qk.QuantumCircuit(qr,cr)\n",
        "qc.initialize([2**-0.5,-(2**-0.5)],0)\n",
        "qc.measure(qr[0],cr[0])\n",
        "qc.draw('mpl')"
      ]
    },
    {
      "cell_type": "code",
      "execution_count": null,
      "id": "cd9e83fc-eb04-4145-8ae5-4c321fec85f1",
      "metadata": {
        "id": "cd9e83fc-eb04-4145-8ae5-4c321fec85f1",
        "outputId": "f4c103f7-38d2-4252-843a-6024e0389f21"
      },
      "outputs": [
        {
          "data": {
            "image/png": "[encoded data removed]",
            "text/plain": [
              "<Figure size 504x360 with 1 Axes>"
            ]
          },
          "execution_count": 34,
          "metadata": {},
          "output_type": "execute_result"
        }
      ],
      "source": [
        "simulator = qk.Aer.get_backend('statevector_simulator')\n",
        "results = qk.execute(qc,simulator,shots=10000).result().get_counts()\n",
        "qk.visualization.plot_histogram(results)"
      ]
    },
    {
      "cell_type": "markdown",
      "source": [
        "आइए एक और प्रयोग करें| हम अवस्था $|Ψ⟩ = \\frac{1}{\\sqrt{2}} |0⟩ - \\frac{1}{\\sqrt{2}}|1⟩$ में प्रमात्रा द्वयंक से शुरू करते हैं। हम इसे एक $H$ गेट से गुजारते हैं और फिर इसे मापते हैं।\n",
        "परिणाम क्या होगा?\n",
        "\n",
        "--------------------------------------------------------------------\n",
        "Let's make another experiment. We start with the qubit in the state $|Ψ⟩ = \\frac{1}{\\sqrt{2}} |0⟩ - \\frac{1}{\\sqrt{2}}|1⟩$. We pass it through an $H$ gate and then we measure it. \n",
        "What's going to be the result"
      ],
      "metadata": {
        "id": "AKANQmVVkCPj"
      },
      "id": "AKANQmVVkCPj"
    },
    {
      "cell_type": "code",
      "execution_count": null,
      "id": "ece92691-be23-49a3-b3dd-9e162dee3a3c",
      "metadata": {
        "id": "ece92691-be23-49a3-b3dd-9e162dee3a3c",
        "outputId": "6bb9eedf-6c9a-49b0-bd4a-99fb48359b68"
      },
      "outputs": [
        {
          "data": {
            "image/png": "[encoded data removed]",
            "text/plain": [
              "<Figure size 327.107x144.48 with 1 Axes>"
            ]
          },
          "execution_count": 35,
          "metadata": {},
          "output_type": "execute_result"
        }
      ],
      "source": [
        "import qiskit as qk\n",
        "\n",
        "qr = qk.QuantumRegister(1,'q0')\n",
        "cr = qk.ClassicalRegister(1,'c0')\n",
        "qc = qk.QuantumCircuit(qr,cr)\n",
        "qc.initialize([2**-0.5,-(2**-0.5)],0)\n",
        "qc.h(0)\n",
        "qc.measure(qr[0],cr[0])\n",
        "qc.draw('mpl')"
      ]
    },
    {
      "cell_type": "code",
      "execution_count": null,
      "id": "2c11b92c-76d2-4b54-b1a3-b79549d7299e",
      "metadata": {
        "id": "2c11b92c-76d2-4b54-b1a3-b79549d7299e",
        "outputId": "10e4ff30-382b-4469-be7c-69cd53ce97ef"
      },
      "outputs": [
        {
          "data": {
            "image/png": "[encoded data removed]",
            "text/plain": [
              "<Figure size 504x360 with 1 Axes>"
            ]
          },
          "execution_count": 36,
          "metadata": {},
          "output_type": "execute_result"
        }
      ],
      "source": [
        "simulator = qk.Aer.get_backend('statevector_simulator')\n",
        "results = qk.execute(qc,simulator,shots=10000).result().get_counts()\n",
        "qk.visualization.plot_histogram(results)"
      ]
    },
    {
      "cell_type": "markdown",
      "source": [
        "परिणामी अवस्था $|Ψ⟩ = |1⟩$ है|\n",
        "\n",
        "इसका मतलब यह है कि यदि हम अवस्था   $|1⟩$  में प्रमात्रा द्वयंक से शुरू करते हैं और इसे $H$ गेट से दो बार गुजारते करते हैं, तो हमें $|1⟩$ वापस मिलेगा।\n",
        "आइए अपनी समझ को जांचने के लिए एक और परिपथ बनाएं\n",
        "\n",
        "\n",
        "-----------------------------------------------------------------\n",
        "The resulting state is $|Ψ⟩ = |1⟩$. This means that if we start with the qubit in the state $|1⟩$ and pass it through an $H$ gate twice, we will get back to $|1⟩$. Let's create another circuit to check our understanding."
      ],
      "metadata": {
        "id": "W6Lk1e2Rmcz5"
      },
      "id": "W6Lk1e2Rmcz5"
    },
    {
      "cell_type": "code",
      "execution_count": null,
      "id": "9822bd75-907c-4f49-bcf9-e2348d2289cf",
      "metadata": {
        "id": "9822bd75-907c-4f49-bcf9-e2348d2289cf",
        "outputId": "3bb2641d-16ea-4c61-8acf-c9e9c5a9c1a0"
      },
      "outputs": [
        {
          "data": {
            "image/png": "[encoded data removed]",
            "text/plain": [
              "<Figure size 327.107x144.48 with 1 Axes>"
            ]
          },
          "execution_count": 37,
          "metadata": {},
          "output_type": "execute_result"
        }
      ],
      "source": [
        "import qiskit as qk\n",
        "\n",
        "qr = qk.QuantumRegister(1,'q0')\n",
        "cr = qk.ClassicalRegister(1,'c0')\n",
        "qc = qk.QuantumCircuit(qr,cr)\n",
        "qc.initialize([0,1],0)\n",
        "qc.h(0)\n",
        "qc.h(0)\n",
        "qc.measure(qr[0],cr[0])\n",
        "qc.draw('mpl')"
      ]
    },
    {
      "cell_type": "code",
      "execution_count": null,
      "id": "42a4fa58-c329-46e5-8464-b0cc13d3f659",
      "metadata": {
        "id": "42a4fa58-c329-46e5-8464-b0cc13d3f659",
        "outputId": "3b45ebc6-b8ff-45f4-cf36-87f01c973562"
      },
      "outputs": [
        {
          "data": {
            "image/png": "[encoded data removed]",
            "text/plain": [
              "<Figure size 504x360 with 1 Axes>"
            ]
          },
          "execution_count": 38,
          "metadata": {},
          "output_type": "execute_result"
        }
      ],
      "source": [
        "simulator = qk.Aer.get_backend('statevector_simulator')\n",
        "results = qk.execute(qc,simulator,shots=10000).result().get_counts()\n",
        "qk.visualization.plot_histogram(results)"
      ]
    },
    {
      "cell_type": "markdown",
      "source": [
        "आइए हम इसे आव्यूह का उपयोग करके जांचें\n",
        "\n",
        "------------------------------------------------\n",
        "Let us check the same with matrices using numpy"
      ],
      "metadata": {
        "id": "swQGJRxRn80i"
      },
      "id": "swQGJRxRn80i"
    },
    {
      "cell_type": "code",
      "execution_count": null,
      "id": "25cf4bf9-e697-44f3-85f2-500b2412d186",
      "metadata": {
        "id": "25cf4bf9-e697-44f3-85f2-500b2412d186",
        "outputId": "474bb383-a338-4422-911e-0fe5c9dbfc22"
      },
      "outputs": [
        {
          "data": {
            "text/plain": [
              "array([[ 0.707],\n",
              "       [-0.707]])"
            ]
          },
          "execution_count": 39,
          "metadata": {},
          "output_type": "execute_result"
        }
      ],
      "source": [
        "import numpy as np\n",
        "\n",
        "# First let's start with the qubit in the state |psi> = (|0> - |1>)/sqrt(2)\n",
        "psi = np.array([[1,-1]]).T/(2**0.5); psi"
      ]
    },
    {
      "cell_type": "code",
      "execution_count": null,
      "id": "ab42d1a4-d30c-4b08-b73c-bc8479f4cd02",
      "metadata": {
        "id": "ab42d1a4-d30c-4b08-b73c-bc8479f4cd02",
        "outputId": "0948f65b-2732-4973-e853-806b46836f95"
      },
      "outputs": [
        {
          "data": {
            "text/plain": [
              "array([[ 0.707,  0.707],\n",
              "       [ 0.707, -0.707]])"
            ]
          },
          "execution_count": 40,
          "metadata": {},
          "output_type": "execute_result"
        }
      ],
      "source": [
        "H = np.array([[1,1],[1,-1]])/2**0.5; H"
      ]
    },
    {
      "cell_type": "code",
      "execution_count": null,
      "id": "ddd54eab-8ee4-4862-a0b4-af73412937c2",
      "metadata": {
        "id": "ddd54eab-8ee4-4862-a0b4-af73412937c2",
        "outputId": "36fae745-7120-4590-834d-8837d84eb444"
      },
      "outputs": [
        {
          "data": {
            "text/plain": [
              "array([[0.],\n",
              "       [1.]])"
            ]
          },
          "execution_count": 41,
          "metadata": {},
          "output_type": "execute_result"
        }
      ],
      "source": [
        "# Now let's pass the qubit Psi through an Hadamard gate. \n",
        "# The result is a qubit in the state |1>\n",
        "H.dot(psi)"
      ]
    },
    {
      "cell_type": "code",
      "execution_count": null,
      "id": "2a73c54d-53ef-4a5b-b375-3d5df454a94e",
      "metadata": {
        "id": "2a73c54d-53ef-4a5b-b375-3d5df454a94e",
        "outputId": "1f881104-aa7c-43cb-bcee-cb27d4139d9b"
      },
      "outputs": [
        {
          "data": {
            "text/plain": [
              "array([[0],\n",
              "       [1]])"
            ]
          },
          "execution_count": 42,
          "metadata": {},
          "output_type": "execute_result"
        }
      ],
      "source": [
        "# Let's start with a qubit in the state |1>, pass it through a\n",
        "#  a hadamard gate twice and check the result\n",
        "v0 = np.array([[0,1]]).T; v0"
      ]
    },
    {
      "cell_type": "code",
      "execution_count": null,
      "id": "80a865ec-ca5d-4a7c-ace8-ff955e3b1325",
      "metadata": {
        "id": "80a865ec-ca5d-4a7c-ace8-ff955e3b1325",
        "outputId": "b5a4493c-0855-430e-d401-1413d139371a"
      },
      "outputs": [
        {
          "data": {
            "text/plain": [
              "array([[-0.],\n",
              "       [ 1.]])"
            ]
          },
          "execution_count": 43,
          "metadata": {},
          "output_type": "execute_result"
        }
      ],
      "source": [
        "H.dot(H).dot(v0)"
      ]
    },
    {
      "cell_type": "code",
      "execution_count": null,
      "id": "e3672a4d-358a-4c4c-bd59-dd0f86dd4cf7",
      "metadata": {
        "id": "e3672a4d-358a-4c4c-bd59-dd0f86dd4cf7",
        "outputId": "f896c496-1a82-4506-aa37-1f83227cf405"
      },
      "outputs": [
        {
          "data": {
            "text/plain": [
              "array([[ 1., -0.],\n",
              "       [-0.,  1.]])"
            ]
          },
          "execution_count": 44,
          "metadata": {},
          "output_type": "execute_result"
        }
      ],
      "source": [
        "# This means that if we multiply the H gate by itself the result \n",
        "#  will be an Identity matrix. Let's check it.\n",
        "H.dot(H)"
      ]
    },
    {
      "cell_type": "markdown",
      "source": [
        "##**अभ्यास ५ :  दो प्रमात्रा द्वयंक से शुरू करें, प्रत्येक $|0\\rangle$ अवस्था में और परिणामों को मापें। मैट्रिसेस संक्रियाओं के माध्यम से उत्तर की जाँच करें।**\n",
        "\n",
        "\n",
        "-------------------------------------------------\n",
        "##**Ex.5: Start with two qubits, each one in the state $|0⟩$ and measure the results. Check the answer through matrices operation**"
      ],
      "metadata": {
        "id": "yB-bGryDp8_Y"
      },
      "id": "yB-bGryDp8_Y"
    },
    {
      "cell_type": "code",
      "execution_count": null,
      "id": "3e823771-02f8-44c9-8a35-4fff940bbeb0",
      "metadata": {
        "id": "3e823771-02f8-44c9-8a35-4fff940bbeb0",
        "outputId": "404c7d73-a28c-4d54-886e-0d374d144066"
      },
      "outputs": [
        {
          "data": {
            "image/png": "[encoded data removed]",
            "text/plain": [
              "<Figure size 267.052x204.68 with 1 Axes>"
            ]
          },
          "execution_count": 45,
          "metadata": {},
          "output_type": "execute_result"
        }
      ],
      "source": [
        "import qiskit as qk\n",
        "\n",
        "qr = qk.QuantumRegister(2,'q')\n",
        "cr = qk.ClassicalRegister(2,'c')\n",
        "qc = qk.QuantumCircuit(qr,cr)\n",
        "qc.initialize([1,0],0)\n",
        "qc.initialize([1,0],1)\n",
        "qc.measure(qr,cr)\n",
        "qc.draw('mpl')"
      ]
    },
    {
      "cell_type": "code",
      "execution_count": null,
      "id": "fd953a49-75b0-48de-88dc-6409925e11a4",
      "metadata": {
        "id": "fd953a49-75b0-48de-88dc-6409925e11a4",
        "outputId": "31e36889-cecc-44a0-8f49-82729ce9a9e8"
      },
      "outputs": [
        {
          "data": {
            "image/png": "[encoded data removed]",
            "text/plain": [
              "<Figure size 504x360 with 1 Axes>"
            ]
          },
          "execution_count": 46,
          "metadata": {},
          "output_type": "execute_result"
        }
      ],
      "source": [
        "simulator = qk.Aer.get_backend('statevector_simulator')\n",
        "results = qk.execute(qc,simulator,shots=10000).result().get_counts()\n",
        "qk.visualization.plot_histogram(results)"
      ]
    },
    {
      "cell_type": "markdown",
      "source": [
        "ध्यान दें कि परिणाम अब अवस्था  $|00\\rangle$ है| इसका मतलब यह है कि दो प्रमात्रा द्वयंक  अब एक मिश्रित अवस्था में हैं| इस राज्य का प्रतिनिधित्व है:\n",
        "$|\\psi⟩ = a |00⟩ + b |01⟩ + c |10⟩ + d |11⟩$ जहां $|a|^2 + |b|^2 + |c|^2 + |d|^2$  है\n",
        "पहली प्रमात्रा द्वयंक को $|\\psi_1⟩   = a_1 |0⟩ + b_1|1⟩$ द्वारा प्रस्तुत किया जा सकता है|  दूसरा प्रमात्रा द्वयंक $|\\psi_2⟩   = a_2 |0⟩ + b_2|1⟩$ |\n",
        "\n",
        "परिपथ में परिणामी प्रमात्रा द्वयंक, प्रदिश गुणनफल नामक एक संक्रिया का परिणाम होगा।\n",
        "इस संक्रिया को $|\\psi_1⟩$ और $|\\psi_2⟩$ प्रमात्रा द्वयंक के साथ निष्पादित किया जाएगा|\n",
        "इसे $|\\psi_3⟩ = |\\psi_1⟩ \\otimes |\\psi_2⟩$ द्वारा दर्शाया जाता है\n",
        "\n",
        "इस संक्रिया के पीछे बीजगणित है:\n",
        "$|\\psi_3⟩ = |\\psi_1⟩ \\otimes |\\psi_2⟩$\n",
        "$(a_1|0⟩ + b_1|1⟩) ⊗ (a_2 |0⟩ + b_2 |1⟩)$\n",
        "$=a_1 a_2 |0⟩|0⟩ + a_1 b_2 |0⟩|1⟩ + b_1 a_2 |1⟩|0⟩ + b_1 b_2 |1⟩|1⟩$\n",
        "$ = a_1 a_2 |00⟩ + a_1b_2|01⟩ + b_1 a_2 |10⟩ + b_1 b_2 |11⟩$\n",
        "\n",
        "आव्यूह के दृष्टिकोण से\n",
        "$|\\psi_3⟩ = |\\psi_1⟩ \\otimes |\\psi_2⟩$\n",
        "\n",
        "$= \\begin{bmatrix} a_1 \\\\ b_1 \\end{bmatrix} \\otimes \\begin{bmatrix} a_2 \\\\ b_2 \\end{bmatrix} $\n",
        "$ = \\begin{bmatrix} a_1 a_2 \\\\ a_1 b_2 \\\\ b_1 a_2 \\\\ b_1 a_2 \\end{bmatrix}$\n",
        "\n",
        "इस उदाहरण में संख्याओं का उपयोग:\n",
        "$(1|0⟩ + 0|1⟩) ⊗ (1 |0⟩ + 0 |1⟩)$\n",
        "$=1 |0⟩|0⟩ + 0 |0⟩|1⟩ + 0 |1⟩|0⟩ + 0 |1⟩|1⟩$\n",
        "$ = 1 |00⟩ + 0|01⟩ + 0 |10⟩ + 0 |11⟩$\n",
        "\n",
        "समतुल्य आव्यूह संचालन है:\n",
        "$|\\psi_3⟩ = |\\psi_1⟩ \\otimes |\\psi_2 ⟩ = \\begin {bmatrix} 1 \\\\ 0 \\end{bmatrix} ⊗ \\begin {bmatrix} 1 \\\\ 0 \\end{bmatrix} = \\begin{bmatrix} 1 \\\\ 0 \\\\ 0 \\\\ 0 \\end{bmatrix}$\n",
        "\n",
        "यह सब पाइथन के साथ जांचें\n",
        "\n",
        "-------------------------------------------\n",
        "\n",
        "Notice that the result now is the state $|00⟩$. This means that the two qubits are now in a composite state. The representation of this state is :    \n",
        "$|\\psi⟩ = a |00⟩ + b |01⟩ + c |10⟩ + d |11⟩$ where $|a|^2 + |b|^2 + |c|^2 + |d|^2$ \n",
        "\n",
        "The first qubit can be represented by $|\\psi_1⟩   = a_1 |0⟩ + b_1|1⟩$. The second qubit by $|\\psi_2⟩   = a_2 |0⟩ + b_2|1⟩$. The resulting qubit in the circuit input will be the result of an operation called tensor product.\n",
        "\n",
        "This operation will be executed with the qubits $|\\psi_1⟩$ and $|\\psi_2⟩$. It is represented by:\n",
        "$|\\psi_3⟩ = |\\psi_1⟩ \\otimes |\\psi_2⟩$\n",
        "\n",
        "The algebra behind this operation is this:\n",
        "$|\\psi_3⟩ = |\\psi_1⟩ \\otimes |\\psi_2⟩$\n",
        "$(a_1|0⟩ + b_1|1⟩) ⊗ (a_2 |0⟩ + b_2 |1⟩)$\n",
        "$=a_1 a_2 |0⟩|0⟩ + a_1 b_2 |0⟩|1⟩ + b_1 a_2 |1⟩|0⟩ + b_1 b_2 |1⟩|1⟩$\n",
        "$ = a_1 a_2 |00⟩ + a_1b_2|01⟩ + b_1 a_2 |10⟩ + b_1 b_2 |11⟩$\n",
        "\n",
        "From a matrix pov:\n",
        "$|\\psi_3⟩ = |\\psi_1⟩ \\otimes |\\psi_2⟩$\n",
        "\n",
        "$= \\begin{bmatrix} a_1 \\\\ b_1 \\end{bmatrix} \\otimes \\begin{bmatrix} a_2 \\\\ b_2 \\end{bmatrix} $\n",
        "$ = \\begin{bmatrix} a_1 a_2 \\\\ a_1 b_2 \\\\ b_1 a_2 \\\\ b_1 a_2 \\end{bmatrix}$\n",
        "\n",
        "Using numbers in this example:\n",
        "$(1|0⟩ + 0|1⟩) ⊗ (1 |0⟩ + 0 |1⟩)$\n",
        "$=1 |0⟩|0⟩ + 0 |0⟩|1⟩ + 0 |1⟩|0⟩ + 0 |1⟩|1⟩$\n",
        "$ = 1 |00⟩ + 0|01⟩ + 0 |10⟩ + 0 |11⟩$\n",
        "\n",
        "And the equivalent matrix operation is:\n",
        "$|\\psi_3⟩ = |\\psi_1⟩ \\otimes |\\psi_2 ⟩ = \\begin {bmatrix} 1 \\\\ 0 \\end{bmatrix} ⊗ \\begin {bmatrix} 1 \\\\ 0 \\end{bmatrix} = \\begin{bmatrix} 1 \\\\ 0 \\\\ 0 \\\\ 0 \\end{bmatrix}$\n",
        "\n",
        "Check this all with python"
      ],
      "metadata": {
        "id": "S72AbpyuquOl"
      },
      "id": "S72AbpyuquOl"
    },
    {
      "cell_type": "code",
      "execution_count": null,
      "id": "562abb71-582f-4588-9852-21b9ed983647",
      "metadata": {
        "id": "562abb71-582f-4588-9852-21b9ed983647",
        "outputId": "98a5ab5b-a88b-45b0-d16d-4cadc5d70c50"
      },
      "outputs": [
        {
          "data": {
            "text/plain": [
              "array([[1],\n",
              "       [0]])"
            ]
          },
          "execution_count": 47,
          "metadata": {},
          "output_type": "execute_result"
        }
      ],
      "source": [
        "import numpy as np\n",
        "psi1 = np.array([[1,0]]).T; psi1"
      ]
    },
    {
      "cell_type": "code",
      "execution_count": null,
      "id": "478fb75b-dc28-4da9-8145-906e55011d15",
      "metadata": {
        "id": "478fb75b-dc28-4da9-8145-906e55011d15",
        "outputId": "5138abde-2089-4247-b157-31a621beb510"
      },
      "outputs": [
        {
          "data": {
            "text/plain": [
              "array([[1],\n",
              "       [0]])"
            ]
          },
          "execution_count": 48,
          "metadata": {},
          "output_type": "execute_result"
        }
      ],
      "source": [
        "psi2 = np.array([[1,0]]).T; psi2"
      ]
    },
    {
      "cell_type": "code",
      "execution_count": null,
      "id": "12eb8323-2c08-4985-8346-2f59b204c6c2",
      "metadata": {
        "id": "12eb8323-2c08-4985-8346-2f59b204c6c2",
        "outputId": "786bdbb9-47e1-4642-f40f-c76c595db776"
      },
      "outputs": [
        {
          "data": {
            "text/plain": [
              "array([[1],\n",
              "       [0],\n",
              "       [0],\n",
              "       [0]])"
            ]
          },
          "execution_count": 49,
          "metadata": {},
          "output_type": "execute_result"
        }
      ],
      "source": [
        "# In numpy the tensor product is calculated with the function kron\n",
        "np.kron(psi1,psi2)"
      ]
    },
    {
      "cell_type": "markdown",
      "source": [
        "\n",
        "##**अभ्यास ६ : मान लीजिए $|+⟩ = \\frac{1}{\\sqrt{2}}|0⟩ + \\frac{1}{\\sqrt{2}}|1⟩$ है| दो प्रमात्रा द्वयंक $|+\\rangle$  अवस्था मे प्रारंभ करें, परिणामों को मापें और उन्हें आव्यूह संचालन के माध्यम से जांचें।** \n",
        "\n",
        "\n",
        "\n",
        "अवस्था $|+⟩$ में एक प्रमात्रा द्वयंक लगाने के लिए, हम या तो इसमें प्रमात्रा द्वयंक को प्रारंभ कर सकते हैं या हम अवस्था $|0⟩$ में प्रमात्रा द्वयंक को प्रारंभ कर सकते हैं और फिर इसे $H$ गेट से पारित कर सकते हैं।\n",
        "आइए दूसरी प्रक्रिया का उपयोग करें\n",
        "\n",
        "\n",
        "\n",
        "\n",
        "------------------------------------------------------------------\n",
        "##**Ex.6: Suppose $|+⟩ = \\frac{1}{\\sqrt{2}}|0⟩ + \\frac{1}{\\sqrt{2}}|1⟩$. Start two qubits in the state $|+⟩$, measure the results and check them thorugh matrix operations**\n",
        "\n",
        "To put a qubit in the state $|+⟩$ we can either initialize the qubit in it or we can initialize the qubit in the state $|0⟩$ and pass it through a Hadamard gate. Let's use this second procedure."
      ],
      "metadata": {
        "id": "xaqoplRE3ufC"
      },
      "id": "xaqoplRE3ufC"
    },
    {
      "cell_type": "code",
      "execution_count": null,
      "id": "28beb9e9-5a53-4016-bfd9-97763589df9d",
      "metadata": {
        "id": "28beb9e9-5a53-4016-bfd9-97763589df9d",
        "outputId": "f7797e42-e849-4149-d4f0-4a0992bf34c6"
      },
      "outputs": [
        {
          "data": {
            "image/png": "[encoded data removed]",
            "text/plain": [
              "<Figure size 327.252x204.68 with 1 Axes>"
            ]
          },
          "execution_count": 50,
          "metadata": {},
          "output_type": "execute_result"
        }
      ],
      "source": [
        "import qiskit as qk\n",
        "\n",
        "qr = qk.QuantumRegister(2,'q')\n",
        "cr = qk.ClassicalRegister(2,'c')\n",
        "qc = qk.QuantumCircuit(qr,cr)\n",
        "qc.initialize([1,0],0)\n",
        "qc.initialize([1,0],1)\n",
        "qc.h(0)\n",
        "qc.h(1)\n",
        "qc.measure(qr,cr)\n",
        "qc.draw('mpl')"
      ]
    },
    {
      "cell_type": "code",
      "execution_count": null,
      "id": "3448cec5-233b-4d1c-b40e-a10689804108",
      "metadata": {
        "id": "3448cec5-233b-4d1c-b40e-a10689804108",
        "outputId": "203932ea-6e8c-4772-d5fa-0e7cd1fb32cf"
      },
      "outputs": [
        {
          "data": {
            "image/png": "[encoded data removed]",
            "text/plain": [
              "<Figure size 504x360 with 1 Axes>"
            ]
          },
          "execution_count": 51,
          "metadata": {},
          "output_type": "execute_result"
        }
      ],
      "source": [
        "simulator = qk.Aer.get_backend('statevector_simulator')\n",
        "results = qk.execute(qc,simulator,shots=10000).result().get_counts()\n",
        "qk.visualization.plot_histogram(results)"
      ]
    },
    {
      "cell_type": "markdown",
      "source": [
        "परिणामी अवस्था $|\\psi⟩ = \\frac{1}{2}|00⟩ + \\frac{1}{2}|01⟩ + \\frac{1}{2}|10⟩ + \\frac{1}{2}|11⟩$ है. \n",
        "ऐसा इसलिए हुआ क्योंकि प्रत्येक अवस्था $25\\%$ समय परिणाम में दिखाई दी।\n",
        "आइए आव्यूह संचालन के माध्यम से जांचें\n",
        "\n",
        "----------------------------------------------\n",
        "It seems the resulting state is $|\\psi⟩ = \\frac{1}{2}|00⟩ + \\frac{1}{2}|01⟩ + \\frac{1}{2}|10⟩ + \\frac{1}{2}|11⟩$. This happens because each state appears in the result $25\\%$ of time $(\\frac{1}{2}^2 = \\frac{1}{4})$. Let's compare this idea through matrix operations"
      ],
      "metadata": {
        "id": "Q2fll98yKhrc"
      },
      "id": "Q2fll98yKhrc"
    },
    {
      "cell_type": "code",
      "execution_count": null,
      "id": "4ccc1fdb-62eb-4e1e-8b79-37afa188447b",
      "metadata": {
        "id": "4ccc1fdb-62eb-4e1e-8b79-37afa188447b",
        "outputId": "c5d02894-9dee-4463-d645-4cec5db3e807"
      },
      "outputs": [
        {
          "data": {
            "text/plain": [
              "array([[1],\n",
              "       [0]])"
            ]
          },
          "execution_count": 52,
          "metadata": {},
          "output_type": "execute_result"
        }
      ],
      "source": [
        "import numpy as np\n",
        "psi1 = np.array([[1,0]]).T;psi1"
      ]
    },
    {
      "cell_type": "code",
      "execution_count": null,
      "id": "be345616-05f5-4217-bbc8-36ebe01fc0dd",
      "metadata": {
        "id": "be345616-05f5-4217-bbc8-36ebe01fc0dd",
        "outputId": "d926a240-7e87-4bea-94e7-4fb83fc9f5dc"
      },
      "outputs": [
        {
          "data": {
            "text/plain": [
              "array([[1],\n",
              "       [0]])"
            ]
          },
          "execution_count": 53,
          "metadata": {},
          "output_type": "execute_result"
        }
      ],
      "source": [
        "psi2 = np.array([[1,0]]).T;psi2"
      ]
    },
    {
      "cell_type": "code",
      "execution_count": null,
      "id": "5e7becb9-ecd5-4896-8ced-b30bb3112bf5",
      "metadata": {
        "id": "5e7becb9-ecd5-4896-8ced-b30bb3112bf5",
        "outputId": "4a63d3e6-a46c-4abc-c5b8-c5c78c70f1b3"
      },
      "outputs": [
        {
          "data": {
            "text/plain": [
              "array([[ 0.707,  0.707],\n",
              "       [ 0.707, -0.707]])"
            ]
          },
          "execution_count": 54,
          "metadata": {},
          "output_type": "execute_result"
        }
      ],
      "source": [
        "H = np.array([[1,1],[1,-1]])/2**0.5;H"
      ]
    },
    {
      "cell_type": "code",
      "execution_count": null,
      "id": "55079889-b1d9-4832-9ab0-0964e8059249",
      "metadata": {
        "id": "55079889-b1d9-4832-9ab0-0964e8059249",
        "outputId": "409263e1-e246-477d-ec6a-f879c3ef8233"
      },
      "outputs": [
        {
          "data": {
            "text/plain": [
              "array([[1],\n",
              "       [0],\n",
              "       [0],\n",
              "       [0]])"
            ]
          },
          "execution_count": 55,
          "metadata": {},
          "output_type": "execute_result"
        }
      ],
      "source": [
        "# When we want to combine two vector states or gate matrices we tensor product them.\n",
        "psi3 = np.kron(psi1,psi2);psi3"
      ]
    },
    {
      "cell_type": "code",
      "execution_count": null,
      "id": "db190e47-d099-4755-8265-71aa3b13bdd6",
      "metadata": {
        "id": "db190e47-d099-4755-8265-71aa3b13bdd6",
        "outputId": "7c63264e-c4d9-4bed-9667-fdd493aadec7"
      },
      "outputs": [
        {
          "data": {
            "text/plain": [
              "array([[ 0.5,  0.5,  0.5,  0.5],\n",
              "       [ 0.5, -0.5,  0.5, -0.5],\n",
              "       [ 0.5,  0.5, -0.5, -0.5],\n",
              "       [ 0.5, -0.5, -0.5,  0.5]])"
            ]
          },
          "execution_count": 56,
          "metadata": {},
          "output_type": "execute_result"
        }
      ],
      "source": [
        "H2 = np.kron(H,H);H2"
      ]
    },
    {
      "cell_type": "code",
      "execution_count": null,
      "id": "fe3bfae4-7111-4d71-8f45-d526c9407c02",
      "metadata": {
        "id": "fe3bfae4-7111-4d71-8f45-d526c9407c02",
        "outputId": "39b68d97-cee6-48ee-a6af-a156a6ef9a37"
      },
      "outputs": [
        {
          "data": {
            "text/plain": [
              "array([[0.5],\n",
              "       [0.5],\n",
              "       [0.5],\n",
              "       [0.5]])"
            ]
          },
          "execution_count": 57,
          "metadata": {},
          "output_type": "execute_result"
        }
      ],
      "source": [
        "# When we want to pass a vetor through a gate we calculate the dot product\n",
        "#  of the total gate matrix with the total vector.\n",
        "# As we have predicted, the resulting vector state has a=b=c=d=1/2\n",
        "psi4 = H2.dot(psi3); psi4"
      ]
    }
  ],
  "metadata": {
    "kernelspec": {
      "display_name": "Python 3 (ipykernel)",
      "language": "python",
      "name": "python3"
    },
    "language_info": {
      "codemirror_mode": {
        "name": "ipython",
        "version": 3
      },
      "file_extension": ".py",
      "mimetype": "text/x-python",
      "name": "python",
      "nbconvert_exporter": "python",
      "pygments_lexer": "ipython3",
      "version": "3.8.13"
    },
    "colab": {
      "name": "qiskit_hindi_basic_gates_part1.ipynb",
      "provenance": [],
      "collapsed_sections": []
    }
  },
  "nbformat": 4,
  "nbformat_minor": 5
}