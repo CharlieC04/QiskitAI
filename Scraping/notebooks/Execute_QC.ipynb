{
 "cells": [
  {
   "cell_type": "markdown",
   "id": "17077c97",
   "metadata": {},
   "source": [
    "# Executing the Quantum Circuits:\n"
   ]
  },
  {
   "cell_type": "markdown",
   "id": "27c9470c",
   "metadata": {},
   "source": [
    "# Execute( ) : \n",
    "\n",
    "To run the quantum circuit on simulator or real device(IBM quantum backend )\n",
    "\n",
    "Reference: https://qiskit.org/documentation/apidoc/execute.html"
   ]
  },
  {
   "cell_type": "markdown",
   "id": "251ef78c",
   "metadata": {},
   "source": [
    "1. Execution : asynchronous\n",
    "2. Returns: Job instance "
   ]
  },
  {
   "cell_type": "markdown",
   "id": "8b3c2789",
   "metadata": {},
   "source": [
    "# Execute ( ):  parameters used in the following example:\n",
    "1. backend i.e ideal or real qasm simulator\n",
    "2. experiment i.e quantum circuit\n",
    "3. shots i.e number of times the circuit is run"
   ]
  },
  {
   "cell_type": "markdown",
   "id": "6e1d78a6",
   "metadata": {},
   "source": [
    "## Examples:\n",
    "1. Execute on qasm\n",
    "2. Execute on real device\n",
    "3. [Alternative method](#Alt_method):\n",
    "    transpile and run method\n",
    "4. <a href=\"./Execute_parameters.ipynb\">Using other parameters from the execute method</a>"
   ]
  },
  {
   "cell_type": "code",
   "execution_count": 1,
   "id": "3f34e352",
   "metadata": {},
   "outputs": [],
   "source": [
    "from qiskit import QuantumCircuit, Aer,execute, IBMQ\n",
    "from qiskit.visualization import plot_histogram\n"
   ]
  },
  {
   "cell_type": "code",
   "execution_count": 2,
   "id": "a0aff34e",
   "metadata": {},
   "outputs": [
    {
     "data": {
      "image/png": "[encoded data removed]",
      "text/plain": [
       "<Figure size 206.852x204.68 with 1 Axes>"
      ]
     },
     "execution_count": 2,
     "metadata": {},
     "output_type": "execute_result"
    }
   ],
   "source": [
    "## Sample Program: Bell Circuit\n",
    "\n",
    "qc=QuantumCircuit(2,2) # 2 qubits and 2 classical bits\n",
    "qc.h(0)\n",
    "qc.cx(0,1)\n",
    "qc.draw(output=\"mpl\")"
   ]
  },
  {
   "cell_type": "code",
   "execution_count": 3,
   "id": "1be84b33",
   "metadata": {},
   "outputs": [
    {
     "data": {
      "image/png": "[encoded data removed]",
      "text/plain": [
       "<Figure size 327.252x204.68 with 1 Axes>"
      ]
     },
     "execution_count": 3,
     "metadata": {},
     "output_type": "execute_result"
    }
   ],
   "source": [
    "qc.measure([0,1],[0,1])\n",
    "qc.draw(output=\"mpl\")"
   ]
  },
  {
   "cell_type": "markdown",
   "id": "99a8408b",
   "metadata": {},
   "source": [
    "### Steps for the execution:\n",
    "    1. get the backend\n",
    "    2. use the execute function :QuantumCircuit,backend info,shots\n",
    "    3. obtain the result data using the result()\n",
    "    4. extract the counts from the result data using get_counts()"
   ]
  },
  {
   "cell_type": "markdown",
   "id": "4d49a553",
   "metadata": {},
   "source": [
    "### Experiment Results: result and counts\n",
    "Reference:\n",
    "1. https://qiskit.org/documentation/apidoc/result.html\n",
    "2. https://qiskit.org/documentation/stubs/qiskit.result.Result.get_counts.html\n",
    "\n",
    "get_counts() from result: histogram data of the experiment"
   ]
  },
  {
   "cell_type": "markdown",
   "id": "a9fdef2f",
   "metadata": {},
   "source": [
    "### shots is the number of times experiment is run\n",
    "-  By default: 1024"
   ]
  },
  {
   "cell_type": "markdown",
   "id": "51d8c2db",
   "metadata": {},
   "source": [
    "***\n",
    "# Execution on the qasm simulator\n",
    "***"
   ]
  },
  {
   "cell_type": "code",
   "execution_count": 4,
   "id": "a5e4ea74",
   "metadata": {},
   "outputs": [
    {
     "name": "stdout",
     "output_type": "stream",
     "text": [
      "{'00': 502, '11': 522}\n"
     ]
    }
   ],
   "source": [
    "backend=Aer.get_backend('qasm_simulator')\n",
    "\n",
    "job=execute(qc,backend,shots=1024)\n",
    "\n",
    "result=job.result()\n",
    "\n",
    "counts=result.get_counts()\n",
    "\n",
    "print(counts)"
   ]
  },
  {
   "cell_type": "markdown",
   "id": "cffd5824",
   "metadata": {},
   "source": [
    "### NOTE: Since it's a noise-free backend we get 00 and 11"
   ]
  },
  {
   "cell_type": "code",
   "execution_count": 5,
   "id": "c8c5bcf5",
   "metadata": {},
   "outputs": [
    {
     "data": {
      "image/png": "[encoded data removed]",
      "text/plain": [
       "<Figure size 504x360 with 1 Axes>"
      ]
     },
     "execution_count": 5,
     "metadata": {},
     "output_type": "execute_result"
    }
   ],
   "source": [
    "plot_histogram(counts,title=\"Bell State without noise\")"
   ]
  },
  {
   "cell_type": "markdown",
   "id": "776182ec",
   "metadata": {},
   "source": [
    "***\n",
    "# Execution on the Real Backend\n",
    "***\n",
    "\n",
    "NOTE: since the real backend device are noisy we would get counts for 01 and 10"
   ]
  },
  {
   "cell_type": "code",
   "execution_count": 6,
   "id": "794faf90",
   "metadata": {},
   "outputs": [],
   "source": [
    "#Load the  account\n",
    "provider=IBMQ.load_account() \n",
    "\n",
    "#List all the available backends for the account\n",
    "#provider.backends()"
   ]
  },
  {
   "cell_type": "code",
   "execution_count": 7,
   "id": "c4d58b7d",
   "metadata": {},
   "outputs": [],
   "source": [
    "#Get the backend\n",
    "backend=provider.get_backend('ibmq_bogota')\n",
    "\n",
    "#Execute the circuit on the backend\n",
    "\n",
    "job=execute(qc,backend,shots=1024)"
   ]
  },
  {
   "cell_type": "code",
   "execution_count": 8,
   "id": "398d4105",
   "metadata": {},
   "outputs": [],
   "source": [
    "#job.cancel()"
   ]
  },
  {
   "cell_type": "code",
   "execution_count": 9,
   "id": "ebacade5",
   "metadata": {},
   "outputs": [
    {
     "data": {
      "text/plain": [
       "<JobStatus.QUEUED: 'job is queued'>"
      ]
     },
     "execution_count": 9,
     "metadata": {},
     "output_type": "execute_result"
    }
   ],
   "source": [
    "job.status()"
   ]
  },
  {
   "cell_type": "code",
   "execution_count": 10,
   "id": "7654d1d5",
   "metadata": {},
   "outputs": [
    {
     "name": "stdout",
     "output_type": "stream",
     "text": [
      "Job Status: job has successfully run\n"
     ]
    }
   ],
   "source": [
    "from qiskit.tools import job_monitor\n",
    "\n",
    "job_monitor(job)"
   ]
  },
  {
   "cell_type": "code",
   "execution_count": 11,
   "id": "4e8a4b50",
   "metadata": {},
   "outputs": [
    {
     "data": {
      "text/plain": [
       "<JobStatus.DONE: 'job has successfully run'>"
      ]
     },
     "execution_count": 11,
     "metadata": {},
     "output_type": "execute_result"
    }
   ],
   "source": [
    "job.status()"
   ]
  },
  {
   "cell_type": "code",
   "execution_count": 12,
   "id": "761cefd8",
   "metadata": {},
   "outputs": [
    {
     "name": "stdout",
     "output_type": "stream",
     "text": [
      "{'00': 490, '01': 41, '10': 44, '11': 449}\n"
     ]
    }
   ],
   "source": [
    "result=job.result()\n",
    "\n",
    "counts=result.get_counts()\n",
    "\n",
    "print(counts)"
   ]
  },
  {
   "cell_type": "code",
   "execution_count": 13,
   "id": "b6d43bf8",
   "metadata": {},
   "outputs": [
    {
     "data": {
      "image/png": "[encoded data removed]",
      "text/plain": [
       "<Figure size 504x360 with 1 Axes>"
      ]
     },
     "execution_count": 13,
     "metadata": {},
     "output_type": "execute_result"
    }
   ],
   "source": [
    "plot_histogram(counts,title=\"Bell State with noise\")"
   ]
  },
  {
   "cell_type": "code",
   "execution_count": 14,
   "id": "1348890d",
   "metadata": {},
   "outputs": [
    {
     "data": {
      "text/plain": [
       "'61e93e9c4eebdaf6f07a7ff5'"
      ]
     },
     "execution_count": 14,
     "metadata": {},
     "output_type": "execute_result"
    }
   ],
   "source": [
    "job.job_id()"
   ]
  },
  {
   "cell_type": "markdown",
   "id": "b99161e3",
   "metadata": {},
   "source": [
    "# <a id=\"Alt_method\">Alternative method:</a>\n",
    "Reference : https://quantum-computing.ibm.com/lab/docs/iql/manage/account/ibmq\n",
    "        \n",
    "        1. Map the circuit using transpile\n",
    "        2. Send to the backend instance using run()"
   ]
  },
  {
   "cell_type": "markdown",
   "id": "17f91764",
   "metadata": {},
   "source": [
    "## transpile:\n",
    "\n",
    "https://qiskit.org/documentation/stubs/qiskit.compiler.transpile.html#qiskit.compiler.transpile\n",
    "\n",
    "https://qiskit.org/documentation/tutorials/circuits_advanced/04_transpiler_passes_and_passmanager.html\n",
    "\n",
    "<a href=\"./transpile.ipynb\"> Transpile</a>"
   ]
  },
  {
   "cell_type": "markdown",
   "id": "856e4518",
   "metadata": {},
   "source": [
    "### transpile circuit with the backend=ibmq_qasm_simulator"
   ]
  },
  {
   "cell_type": "code",
   "execution_count": 15,
   "id": "1d84aea8",
   "metadata": {},
   "outputs": [
    {
     "data": {
      "image/png": "[encoded data removed]",
      "text/plain": [
       "<Figure size 327.252x204.68 with 1 Axes>"
      ]
     },
     "execution_count": 15,
     "metadata": {},
     "output_type": "execute_result"
    }
   ],
   "source": [
    "from qiskit.compiler import transpile\n",
    "\n",
    "backend=provider.get_backend('ibmq_qasm_simulator')\n",
    "\n",
    "transpile_circuit=transpile(qc,backend)\n",
    "\n",
    "transpile_circuit.draw(output=\"mpl\")\n"
   ]
  },
  {
   "cell_type": "markdown",
   "id": "5b123567",
   "metadata": {},
   "source": [
    "### transpile circuit with the backend=ibmq_bogota"
   ]
  },
  {
   "cell_type": "code",
   "execution_count": 16,
   "id": "905fa35f",
   "metadata": {},
   "outputs": [
    {
     "data": {
      "image/png": "[encoded data removed]",
      "text/plain": [
       "<Figure size 540.531x385.28 with 1 Axes>"
      ]
     },
     "execution_count": 16,
     "metadata": {},
     "output_type": "execute_result"
    }
   ],
   "source": [
    "from qiskit.compiler import transpile,assemble\n",
    "\n",
    "backend=provider.get_backend('ibmq_bogota')\n",
    "\n",
    "transpile_circuit=transpile(qc,backend)\n",
    "\n",
    "transpile_circuit.draw(output=\"mpl\")"
   ]
  },
  {
   "cell_type": "code",
   "execution_count": 17,
   "id": "0318291a",
   "metadata": {},
   "outputs": [
    {
     "data": {
      "text/plain": [
       "['id', 'rz', 'sx', 'x', 'cx', 'reset']"
      ]
     },
     "execution_count": 17,
     "metadata": {},
     "output_type": "execute_result"
    }
   ],
   "source": [
    "backend.configuration().basis_gates"
   ]
  },
  {
   "cell_type": "markdown",
   "id": "296f47d0",
   "metadata": {},
   "source": [
    "***\n",
    "# run ():runs on the backend\n",
    "***\n",
    "\n",
    "## We can use the run method to execute the experiments on backend\n",
    "\n",
    "## IMP Note: run method does not transpile the circuit \n",
    "    \n",
    "Reference: https://qiskit.org/documentation/stubs/qiskit.providers.ibmq.IBMQBackend.html"
   ]
  },
  {
   "cell_type": "code",
   "execution_count": 18,
   "id": "76b9d247",
   "metadata": {},
   "outputs": [],
   "source": [
    "backend=provider.get_backend('ibmq_bogota')\n",
    "\n",
    "transpile_circuit=transpile(qc,backend)\n",
    "\n",
    "job=backend.run(transpile_circuit)"
   ]
  },
  {
   "cell_type": "code",
   "execution_count": 19,
   "id": "b77e0d7d",
   "metadata": {},
   "outputs": [
    {
     "data": {
      "text/plain": [
       "<JobStatus.VALIDATING: 'job is being validated'>"
      ]
     },
     "execution_count": 19,
     "metadata": {},
     "output_type": "execute_result"
    }
   ],
   "source": [
    "job.status()"
   ]
  },
  {
   "cell_type": "code",
   "execution_count": 20,
   "id": "ddcff7eb",
   "metadata": {},
   "outputs": [
    {
     "name": "stdout",
     "output_type": "stream",
     "text": [
      "Job Status: job has successfully run\n"
     ]
    }
   ],
   "source": [
    "job_monitor(job)"
   ]
  },
  {
   "cell_type": "code",
   "execution_count": 21,
   "id": "1ab2b2f8",
   "metadata": {},
   "outputs": [
    {
     "name": "stdout",
     "output_type": "stream",
     "text": [
      "{'00': 1908, '01': 174, '10': 135, '11': 1783}\n"
     ]
    }
   ],
   "source": [
    "result=job.result()\n",
    "counts=result.get_counts()\n",
    "print(counts)"
   ]
  },
  {
   "cell_type": "code",
   "execution_count": 22,
   "id": "8c5caae5",
   "metadata": {},
   "outputs": [
    {
     "data": {
      "image/png": "[encoded data removed]",
      "text/plain": [
       "<Figure size 504x360 with 1 Axes>"
      ]
     },
     "execution_count": 22,
     "metadata": {},
     "output_type": "execute_result"
    }
   ],
   "source": [
    "plot_histogram(counts)"
   ]
  }
 ],
 "metadata": {
  "kernelspec": {
   "display_name": "Python 3",
   "language": "python",
   "name": "python3"
  },
  "language_info": {
   "codemirror_mode": {
    "name": "ipython",
    "version": 3
   },
   "file_extension": ".py",
   "mimetype": "text/x-python",
   "name": "python",
   "nbconvert_exporter": "python",
   "pygments_lexer": "ipython3",
   "version": "3.7.9"
  }
 },
 "nbformat": 4,
 "nbformat_minor": 5
}
