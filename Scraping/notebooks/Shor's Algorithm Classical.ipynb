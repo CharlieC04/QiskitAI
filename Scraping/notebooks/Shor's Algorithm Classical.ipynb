{
 "cells": [
  {
   "cell_type": "code",
   "execution_count": 3,
   "metadata": {},
   "outputs": [],
   "source": [
    "from scipy.fft import fft\n",
    "import matplotlib.pyplot as plt\n",
    "import numpy as np\n",
    "from tqdm import tqdm\n",
    "from fractions import Fraction\n",
    "from numpy.random import choice\n",
    "import warnings \n",
    "warnings.filterwarnings(\"ignore\", category=RuntimeWarning) \n",
    "#some Runtime Warnings occur when graph is set to true\n"
   ]
  },
  {
   "cell_type": "code",
   "execution_count": 32,
   "metadata": {},
   "outputs": [
    {
     "name": "stderr",
     "output_type": "stream",
     "text": [
      "100%|███████████████████████████████████████████████████████████████████████████████| 16/16 [00:00<00:00, 15947.92it/s]"
     ]
    },
    {
     "name": "stdout",
     "output_type": "stream",
     "text": [
      "3 * 5   = 15 , r = 4  , a = 2  , nbits = 4 \n"
     ]
    },
    {
     "name": "stderr",
     "output_type": "stream",
     "text": [
      "\n"
     ]
    },
    {
     "data": {
      "image/png": "[encoded data removed]",
      "text/plain": [
       "<Figure size 432x288 with 1 Axes>"
      ]
     },
     "metadata": {
      "needs_background": "light"
     },
     "output_type": "display_data"
    }
   ],
   "source": [
    "delta = lambda x,y: int(x==y)\n",
    "shorbox = lambda a,x,nbits,N: (abs(fft([delta(x, a**k % N) for k in range(2**nbits)]))/(2**nbits))**2\n",
    "\n",
    "# Chooses smallest nbits > log2(N) so code is fast as possible\n",
    "# Picks some a coprime with N\n",
    "# Takes the Fourier transform of the periodic equation a^k mod N = x with respect to k, and sums all these for every a.\n",
    "# Measures the location of one of the spikes of the probability graph about 1000 times \n",
    "# And uses fractions.Fraction to guess r\n",
    "# If r is odd the code is thrown out and we start again for a new a.\n",
    "# If we have the correct r, p1 = gcd(a^(r/2) - 1,N), p2 = gcd(a^(r/2) + 1,N)\n",
    "\n",
    "\n",
    "def Factorise(N,tests = 8000,a = 2,nbits = 0,loop = True,graph = False,timer = False): #loop = False if we know it only works for a certain seed\n",
    "    loop2 = True\n",
    "    if nbits == 0:\n",
    "        nbits = max(7,int(1+np.log2(N+4)))\n",
    "    while a < N and loop2 == True:\n",
    "        loop2 = loop\n",
    "        while np.gcd(a,N) != 1:\n",
    "            a += 1\n",
    "        if timer:\n",
    "            probabilities = [0]*2**nbits\n",
    "            for i in tqdm(range(2**nbits)):\n",
    "                probabilities += shorbox(a,i,nbits,N)#\n",
    "        else: #the following line does the same as above but is less likely to give divide by zero errors\n",
    "            probabilities = sum([shorbox(a,x,nbits,N) for x in range(2**nbits)]) #probabilites is a list length 2**nbits\n",
    "        if graph:\n",
    "            plt.bar(range(len(probabilities)),probabilities,width=.6,color=(0.4,0.6,1))\n",
    "        checkedlist = []\n",
    "        for i in range(tests):\n",
    "            phase = choice(range(2**nbits),p=probabilities)/2**nbits\n",
    "            r = Fraction(phase).limit_denominator(int(N/2)).denominator\n",
    "            if r not in checkedlist:\n",
    "                checkedlist.append(r)\n",
    "                #print(r)\n",
    "                if r > 1 and r % 2 == 0:\n",
    "                    if int(a**(r/2)) <= 2**62: #gcd requires numbers below 2^64\n",
    "                        p1 = np.gcd(int(a**(r/2)-1),N)\n",
    "                        p2 = np.gcd(int(a**(r/2)+1),N)\n",
    "                        plist = [p1,p2] if p1 <= p2 else [p2,p1]\n",
    "                        if p1 * p2 == N and p1 != 1 and p2 != 1:                        \n",
    "                            return f\"{plist[0]:<2d}* {plist[1]:<3d} = {N:<3d}, r = {r:<3d}, a = {a:<3d}, nbits = {nbits:<2d}\"\n",
    "        a += 1\n",
    "    return \"I can't do \"+str(N)\n",
    "\n",
    "\n",
    "print(Factorise(15,nbits=4,a=2,graph=True,loop=False,timer = True))"
   ]
  },
  {
   "cell_type": "code",
   "execution_count": 33,
   "metadata": {},
   "outputs": [],
   "source": [
    "def primes(N):\n",
    "    primel = [2]\n",
    "    endindex = 0\n",
    "    for i in range(3,N+1,2):\n",
    "        for j in primel[endindex:-1]:\n",
    "            if j > np.sqrt(i):\n",
    "                endindex = primel.index(j)\n",
    "                break\n",
    "        prime = True\n",
    "        for k in primel[0:endindex]:\n",
    "            if i%k == 0:\n",
    "                prime = False\n",
    "                break\n",
    "        if prime:\n",
    "            primel.append(i)\n",
    "    return primel\n",
    "\n",
    "def Semiprimes(N):\n",
    "    semiprimel = []\n",
    "    primelist = primes(N//2)[1:] #2 does not behave well with Shor's algorithm\n",
    "    for i in enumerate(primelist):\n",
    "        for j in primelist[i[0]:]:\n",
    "            if j > i[1]: #square numbers also dont work since the algorithm finds 2 different factors\n",
    "                if i[1]*j <= N:\n",
    "                    semiprimel.append(i[1]*j)\n",
    "    semiprimel.sort()\n",
    "    return semiprimel\n"
   ]
  },
  {
   "cell_type": "code",
   "execution_count": 35,
   "metadata": {
    "scrolled": false
   },
   "outputs": [
    {
     "name": "stdout",
     "output_type": "stream",
     "text": [
      "3 * 5   = 15 , r = 4  , a = 2  , nbits = 7 \n",
      "3 * 7   = 21 , r = 6  , a = 2  , nbits = 7 \n",
      "3 * 11  = 33 , r = 10 , a = 5  , nbits = 7 \n",
      "5 * 7   = 35 , r = 12 , a = 2  , nbits = 7 \n",
      "3 * 13  = 39 , r = 12 , a = 2  , nbits = 7 \n",
      "3 * 17  = 51 , r = 8  , a = 2  , nbits = 7 \n",
      "5 * 11  = 55 , r = 10 , a = 4  , nbits = 7 \n",
      "3 * 19  = 57 , r = 18 , a = 5  , nbits = 7 \n",
      "5 * 13  = 65 , r = 6  , a = 9  , nbits = 7 \n",
      "3 * 23  = 69 , r = 22 , a = 2  , nbits = 7 \n",
      "7 * 11  = 77 , r = 30 , a = 2  , nbits = 7 \n",
      "5 * 17  = 85 , r = 8  , a = 2  , nbits = 7 \n",
      "3 * 29  = 87 , r = 4  , a = 17 , nbits = 7 \n",
      "7 * 13  = 91 , r = 30 , a = 3  , nbits = 7 \n",
      "3 * 31  = 93 , r = 2  , a = 32 , nbits = 7 \n",
      "5 * 19  = 95 , r = 4  , a = 18 , nbits = 7 \n",
      "3 * 37  = 111, r = 4  , a = 31 , nbits = 7 \n",
      "5 * 23  = 115, r = 4  , a = 22 , nbits = 7 \n",
      "7 * 17  = 119, r = 16 , a = 6  , nbits = 7 \n",
      "3 * 41  = 123, r = 8  , a = 14 , nbits = 7 \n",
      "3 * 43  = 129, r = 6  , a = 7  , nbits = 8 \n",
      "7 * 19  = 133, r = 2  , a = 20 , nbits = 8 \n",
      "3 * 47  = 141, r = 46 , a = 2  , nbits = 8 \n",
      "11* 13  = 143, r = 60 , a = 2  , nbits = 8 \n",
      "5 * 29  = 145, r = 4  , a = 28 , nbits = 8 \n",
      "5 * 31  = 155, r = 60 , a = 3  , nbits = 8 \n",
      "3 * 53  = 159, r = 26 , a = 4  , nbits = 8 \n",
      "7 * 23  = 161, r = 66 , a = 3  , nbits = 8 \n",
      "3 * 59  = 177, r = 2  , a = 58 , nbits = 8 \n",
      "3 * 61  = 183, r = 4  , a = 11 , nbits = 8 \n",
      "5 * 37  = 185, r = 4  , a = 6  , nbits = 8 \n",
      "11* 17  = 187, r = 16 , a = 10 , nbits = 8 \n",
      "3 * 67  = 201, r = 2  , a = 68 , nbits = 8 \n",
      "7 * 29  = 203, r = 4  , a = 41 , nbits = 8 \n",
      "5 * 41  = 205, r = 8  , a = 3  , nbits = 8 \n",
      "11* 19  = 209, r = 2  , a = 56 , nbits = 8 \n",
      "3 * 71  = 213, r = 2  , a = 70 , nbits = 8 \n",
      "5 * 43  = 215, r = 4  , a = 42 , nbits = 8 \n",
      "7 * 31  = 217, r = 2  , a = 92 , nbits = 8 \n",
      "3 * 73  = 219, r = 8  , a = 10 , nbits = 8 \n",
      "13* 17  = 221, r = 16 , a = 5  , nbits = 8 \n",
      "5 * 47  = 235, r = 2  , a = 46 , nbits = 8 \n",
      "3 * 79  = 237, r = 2  , a = 80 , nbits = 8 \n",
      "13* 19  = 247, r = 4  , a = 18 , nbits = 8 \n",
      "3 * 83  = 249, r = 2  , a = 82 , nbits = 8 \n",
      "11* 23  = 253, r = 10 , a = 24 , nbits = 9 \n",
      "7 * 37  = 259, r = 18 , a = 4  , nbits = 9 \n",
      "5 * 53  = 265, r = 26 , a = 6  , nbits = 9 \n",
      "3 * 89  = 267, r = 22 , a = 2  , nbits = 9 \n",
      "7 * 41  = 287, r = 30 , a = 4  , nbits = 9 \n",
      "3 * 97  = 291, r = 16 , a = 8  , nbits = 9 \n"
     ]
    }
   ],
   "source": [
    "for N in Semiprimes(292):\n",
    "    print(Factorise(N,100))"
   ]
  }
 ],
 "metadata": {
  "kernelspec": {
   "display_name": "Python 3",
   "language": "python",
   "name": "python3"
  },
  "language_info": {
   "codemirror_mode": {
    "name": "ipython",
    "version": 3
   },
   "file_extension": ".py",
   "mimetype": "text/x-python",
   "name": "python",
   "nbconvert_exporter": "python",
   "pygments_lexer": "ipython3",
   "version": "3.8.5"
  }
 },
 "nbformat": 4,
 "nbformat_minor": 4
}
