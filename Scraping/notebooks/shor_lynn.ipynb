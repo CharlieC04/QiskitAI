{
  "nbformat": 4,
  "nbformat_minor": 0,
  "metadata": {
    "colab": {
      "name": "shor-lynn.ipynb",
      "provenance": [],
      "collapsed_sections": [
        "ici9I7XIYArD",
        "FBjmNQ_td6pN",
        "EqevQK8OYAr0",
        "RlLEpUbPYAsC",
        "_7ZMlsRiYAsQ",
        "2apE-zW8dObo",
        "PvoEWimKYAsd",
        "1B6Gce4WOSai"
      ],
      "toc_visible": true
    },
    "kernelspec": {
      "display_name": "Python 3",
      "name": "python3"
    }
  },
  "cells": [
    {
      "cell_type": "markdown",
      "metadata": {
        "id": "ici9I7XIYArD"
      },
      "source": [
        "# Test Shor's algorithm with Cirq\n"
      ]
    },
    {
      "cell_type": "markdown",
      "metadata": {
        "id": "eE7eP_-bjsf6"
      },
      "source": [
        "Setup requirements, import and verify required libraries. Source links and more information at the end of this notebook."
      ]
    },
    {
      "cell_type": "code",
      "metadata": {
        "id": "dwpxc9cfYCfR"
      },
      "source": [
        "try:\n",
        "    import cirq\n",
        "except ImportError:\n",
        "    print(\"installing cirq...\")\n",
        "    !pip install --quiet cirq\n",
        "    print(\"installed cirq.\")"
      ],
      "execution_count": 1,
      "outputs": []
    },
    {
      "cell_type": "code",
      "metadata": {
        "id": "0f-6DbifYArF",
        "colab": {
          "base_uri": "https://localhost:8080/"
        },
        "outputId": "bb654c0c-97e9-47c5-844c-639f60e47d14"
      },
      "source": [
        "import fractions\n",
        "import math\n",
        "import random\n",
        "import matplotlib.pyplot as plt\n",
        "import numpy as np\n",
        "import sympy\n",
        "from typing import Callable, List, Optional, Sequence, Union\n",
        "\n",
        "import cirq\n",
        "#import cirq_google\n",
        "\n",
        "print(cirq.google.Foxtail)  \n",
        "# verify cirq, should print a circuit as shown belown\n",
        "# (0, 0)───(0, 1)───(0, 2)───(0, 3)───(0, 4)───(0, 5)───(0, 6)───(0, 7)───(0, 8)───(0, 9)───(0, 10)\n",
        "# │        │        │        │        │        │        │        │        │        │        │\n",
        "# │        │        │        │        │        │        │        │        │        │        │\n",
        "# (1, 0)───(1, 1)───(1, 2)───(1, 3)───(1, 4)───(1, 5)───(1, 6)───(1, 7)───(1, 8)───(1, 9)───(1, 10)"
      ],
      "execution_count": 2,
      "outputs": [
        {
          "output_type": "stream",
          "text": [
            "(0, 0)───(0, 1)───(0, 2)───(0, 3)───(0, 4)───(0, 5)───(0, 6)───(0, 7)───(0, 8)───(0, 9)───(0, 10)\n",
            "│        │        │        │        │        │        │        │        │        │        │\n",
            "│        │        │        │        │        │        │        │        │        │        │\n",
            "(1, 0)───(1, 1)───(1, 2)───(1, 3)───(1, 4)───(1, 5)───(1, 6)───(1, 7)───(1, 8)───(1, 9)───(1, 10)\n"
          ],
          "name": "stdout"
        },
        {
          "output_type": "stream",
          "text": [
            "/usr/local/lib/python3.7/dist-packages/ipykernel_launcher.py:12: DeprecationWarning: cirq.google was used but is deprecated.\n",
            " it will be removed in cirq v0.14.\n",
            " Use cirq_google instead.\n",
            "\n",
            "  if sys.path[0] == '':\n"
          ],
          "name": "stderr"
        }
      ]
    },
    {
      "cell_type": "markdown",
      "metadata": {
        "id": "Ock9kZvcYArL"
      },
      "source": [
        "# Understand Order Finding\n"
      ]
    },
    {
      "cell_type": "markdown",
      "metadata": {
        "id": "FBjmNQ_td6pN"
      },
      "source": [
        "## Case A: Classical Order Finding"
      ]
    },
    {
      "cell_type": "markdown",
      "metadata": {
        "id": "NwZUENkWYArZ"
      },
      "source": [
        "A function for classically computing the order $r$ of an element $x \\in \\mathbb{Z}_n$ is provided below. This function simply computes the sequence \n",
        "\n",
        "$$ x^2 \\text{ mod } n $$\n",
        "$$ x^3 \\text{ mod } n $$\n",
        "$$ x^4 \\text{ mod } n $$\n",
        "$$ \\vdots $$\n",
        "\n",
        "until an integer $r$ is found such that $x^r = 1 \\text{ mod } n$. Since $|\\mathbb{Z}_n| = \\phi(n)$, this algorithm for order finding has time complexity $O(\\phi(n))$ which is inefficient. (Roughly $O(2^{L / 2})$ where $L$ is the number of bits in $n$.)"
      ]
    },
    {
      "cell_type": "code",
      "metadata": {
        "id": "v3GfJ0POYAra"
      },
      "source": [
        "def classical_order_finder(x: int, n: int) -> Optional[int]:\n",
        "\n",
        "    # Make sure x is both valid and in Z_n.\n",
        "    if x < 2 or x >= n or math.gcd(x, n) > 1:\n",
        "        raise ValueError(f\"Invalid x={x} for modulus n={n}.\")\n",
        "    \n",
        "    # Determine the order.\n",
        "    r, y = 1, x\n",
        "    while y != 1:\n",
        "        y = (x * y) % n\n",
        "        r += 1\n",
        "    return r"
      ],
      "execution_count": 3,
      "outputs": []
    },
    {
      "cell_type": "markdown",
      "metadata": {
        "id": "n3J_akErYAre"
      },
      "source": [
        "An example of classically computing $r$ for a given $x \\in \\mathbb{Z}_n$ and given $n$ is shown in the code block below."
      ]
    },
    {
      "cell_type": "code",
      "metadata": {
        "id": "Lvs1wwgPYAre",
        "colab": {
          "base_uri": "https://localhost:8080/"
        },
        "outputId": "05bb83e2-0c86-40ea-a79d-ac30976105e7"
      },
      "source": [
        "n = 15  # The multiplicative group is [1, 2, 4, 7, 8, 11, 13, 14].\n",
        "x = 8\n",
        "r = classical_order_finder(x, n)\n",
        "\n",
        "# Check that the order is indeed correct.\n",
        "print(f\"x^r mod n = {x}^{r} mod {n} = {x**r % n}\")"
      ],
      "execution_count": 4,
      "outputs": [
        {
          "output_type": "stream",
          "text": [
            "x^r mod n = 8^4 mod 15 = 1\n"
          ],
          "name": "stdout"
        }
      ]
    },
    {
      "cell_type": "markdown",
      "metadata": {
        "id": "9U7ajXpEYArj"
      },
      "source": [
        "The quantum part of Shor's algorithm is order finding, but done via a quantum circuit, which is discussed below."
      ]
    },
    {
      "cell_type": "markdown",
      "metadata": {
        "id": "sdm5KtkiYArk"
      },
      "source": [
        "Quantum order finding is quantum phase estimation with [unitary $U$](https://en.wikipedia.org/wiki/Unitary_matrix) that computes the modular exponential function $f_x(z)$ for some randomly chosen $x \\in \\mathbb{Z}_n$. In this tutorial, use arithmetic operations in Cirq which can implement such a unitary $U$. To start we define and use a Modular Expontial operation.\n",
        "\n",
        "<img src=\"https://i1.wp.com/www.physicsmindboggler.co/wp-content/uploads/2020/10/Screenshot-2020-10-26-212025-1.png?w=462&ssl=1\">"
      ]
    },
    {
      "cell_type": "markdown",
      "metadata": {
        "id": "EqevQK8OYAr0"
      },
      "source": [
        "### Define Modular Exponential"
      ]
    },
    {
      "cell_type": "markdown",
      "metadata": {
        "id": "U3A2OnVTYAr1"
      },
      "source": [
        "The key part of the code block below is the `apply` method which defines the arithmetic operation.\n",
        "\n",
        "The `apply` method evaluates `(target * base**exponent) % modulus`. The `target` and the `exponent` depend on the values of the respective qubit registers, and the `base` and `modulus` are constant -- namely, the `modulus` is $n$ and the `base` is some $x \\in \\mathbb{Z}_n$. "
      ]
    },
    {
      "cell_type": "code",
      "metadata": {
        "id": "Yt3iyR3uYAr1"
      },
      "source": [
        "class ModularExp(cirq.ArithmeticOperation):\n",
        "    \n",
        "    def __init__(\n",
        "        self, \n",
        "        target: Sequence[cirq.Qid],\n",
        "        exponent: Union[int, Sequence[cirq.Qid]], \n",
        "        base: int,\n",
        "        modulus: int\n",
        "    ) -> None:\n",
        "        if len(target) < modulus.bit_length():\n",
        "            raise ValueError(f'Register with {len(target)} qubits is too small '\n",
        "                             f'for modulus {modulus}')\n",
        "        self.target = target\n",
        "        self.exponent = exponent\n",
        "        self.base = base\n",
        "        self.modulus = modulus\n",
        "\n",
        "    def registers(self) -> Sequence[Union[int, Sequence[cirq.Qid]]]:\n",
        "        return self.target, self.exponent, self.base, self.modulus\n",
        "\n",
        "    def with_registers(\n",
        "            self,\n",
        "            *new_registers: Union[int, Sequence['cirq.Qid']],\n",
        "    ) -> cirq.ArithmeticOperation:\n",
        "        if len(new_registers) != 4:\n",
        "            raise ValueError(f'Expected 4 registers (target, exponent, base, '\n",
        "                             f'modulus), but got {len(new_registers)}')\n",
        "        target, exponent, base, modulus = new_registers\n",
        "        if not isinstance(target, Sequence):\n",
        "            raise ValueError(\n",
        "                f'Target must be a qubit register, got {type(target)}')\n",
        "        if not isinstance(base, int):\n",
        "            raise ValueError(\n",
        "                f'Base must be a classical constant, got {type(base)}')\n",
        "        if not isinstance(modulus, int):\n",
        "            raise ValueError(\n",
        "                f'Modulus must be a classical constant, got {type(modulus)}')\n",
        "        return ModularExp(target, exponent, base, modulus)\n",
        "\n",
        "    def apply(self, *register_values: int) -> int:\n",
        "        assert len(register_values) == 4\n",
        "        target, exponent, base, modulus = register_values\n",
        "        if target >= modulus:\n",
        "            return target\n",
        "        return (target * base**exponent) % modulus\n",
        "\n",
        "    def _circuit_diagram_info_(\n",
        "            self,\n",
        "            args: cirq.CircuitDiagramInfoArgs,\n",
        "    ) -> cirq.CircuitDiagramInfo:\n",
        "        assert args.known_qubits is not None\n",
        "        wire_symbols: List[str] = []\n",
        "        t, e = 0, 0\n",
        "        for qubit in args.known_qubits:\n",
        "            if qubit in self.target:\n",
        "                if t == 0:\n",
        "                    if isinstance(self.exponent, Sequence):\n",
        "                        e_str = 'e'\n",
        "                    else:\n",
        "                        e_str = str(self.exponent)\n",
        "                    wire_symbols.append(\n",
        "                        f'ModularExp(t*{self.base}**{e_str} % {self.modulus})')\n",
        "                else:\n",
        "                    wire_symbols.append('t' + str(t))\n",
        "                t += 1\n",
        "            if isinstance(self.exponent, Sequence) and qubit in self.exponent:\n",
        "                wire_symbols.append('e' + str(e))\n",
        "                e += 1\n",
        "        return cirq.CircuitDiagramInfo(wire_symbols=tuple(wire_symbols))"
      ],
      "execution_count": 5,
      "outputs": []
    },
    {
      "cell_type": "markdown",
      "metadata": {
        "id": "-6VgDqbXYAr6"
      },
      "source": [
        "Use a total number of qubits of $3 (L + 1)$ where $L$ is the number of bits needed to store the integer $n$ to factor. The size of the unitary which implements the modular exponential is thus $4^{3(L + 1)}$. For $n = 15$, the unitary requires storing $2^{30}$ floating point numbers in memory which is out of reach of most current standard laptops."
      ]
    },
    {
      "cell_type": "code",
      "metadata": {
        "id": "aLPqY6gtYAr7",
        "colab": {
          "base_uri": "https://localhost:8080/"
        },
        "outputId": "d53938f1-09b2-4ab1-8932-20efbb93c723"
      },
      "source": [
        "n = 15\n",
        "L = n.bit_length()\n",
        "\n",
        "# The target register has L qubits.\n",
        "target = cirq.LineQubit.range(L)\n",
        "\n",
        "# The exponent register has 2L + 3 qubits.\n",
        "exponent = cirq.LineQubit.range(L, 3 * L + 3)\n",
        "\n",
        "# Display the total number of qubits to factor this n.\n",
        "print(f\"To factor n = {n} which has L = {L} bits, we need 3L + 3 = {3 * L + 3} qubits.\")"
      ],
      "execution_count": 6,
      "outputs": [
        {
          "output_type": "stream",
          "text": [
            "To factor n = 15 which has L = 4 bits, we need 3L + 3 = 15 qubits.\n"
          ],
          "name": "stdout"
        }
      ]
    },
    {
      "cell_type": "markdown",
      "metadata": {
        "id": "RlLEpUbPYAsC"
      },
      "source": [
        "### Use ModularExp in a circuit"
      ]
    },
    {
      "cell_type": "markdown",
      "metadata": {
        "id": "Tq9LhevvYAsD"
      },
      "source": [
        "The quantum part of Shor's algorithm is phase estimation with the unitary $U$ corresponding to the modular exponential operation. The following cell defines a function which creates the circuit for Shor's algorithm using the `ModularExp` operation defined above.\n",
        "\n",
        "Using this function to visualize the circuit for a given $x$ and $n$ as follows."
      ]
    },
    {
      "cell_type": "code",
      "metadata": {
        "id": "9RPcq0o8YAsD",
        "colab": {
          "base_uri": "https://localhost:8080/"
        },
        "outputId": "02f3521d-3462-4116-cdc2-12c2f8654f04"
      },
      "source": [
        "def make_order_finding_circuit(x: int, n: int) -> cirq.Circuit:\n",
        "    L = n.bit_length()\n",
        "    target = cirq.LineQubit.range(L)\n",
        "    exponent = cirq.LineQubit.range(L, 3 * L + 3)\n",
        "    return cirq.Circuit(\n",
        "        cirq.X(target[L - 1]),\n",
        "        cirq.H.on_each(*exponent),\n",
        "        ModularExp(target, exponent, x, n),\n",
        "        cirq.qft(*exponent, inverse=True),\n",
        "        cirq.measure(*exponent, key='exponent'),\n",
        "    )\n",
        "\n",
        "n = 15\n",
        "x = 7\n",
        "circuit = make_order_finding_circuit(x, n)\n",
        "print(circuit)"
      ],
      "execution_count": 7,
      "outputs": [
        {
          "output_type": "stream",
          "text": [
            "0: ────────ModularExp(t*7**e % 15)────────────────────────────\n",
            "           │\n",
            "1: ────────t1─────────────────────────────────────────────────\n",
            "           │\n",
            "2: ────────t2─────────────────────────────────────────────────\n",
            "           │\n",
            "3: ────X───t3─────────────────────────────────────────────────\n",
            "           │\n",
            "4: ────H───e0────────────────────────qft^-1───M('exponent')───\n",
            "           │                         │        │\n",
            "5: ────H───e1────────────────────────#2───────M───────────────\n",
            "           │                         │        │\n",
            "6: ────H───e2────────────────────────#3───────M───────────────\n",
            "           │                         │        │\n",
            "7: ────H───e3────────────────────────#4───────M───────────────\n",
            "           │                         │        │\n",
            "8: ────H───e4────────────────────────#5───────M───────────────\n",
            "           │                         │        │\n",
            "9: ────H───e5────────────────────────#6───────M───────────────\n",
            "           │                         │        │\n",
            "10: ───H───e6────────────────────────#7───────M───────────────\n",
            "           │                         │        │\n",
            "11: ───H───e7────────────────────────#8───────M───────────────\n",
            "           │                         │        │\n",
            "12: ───H───e8────────────────────────#9───────M───────────────\n",
            "           │                         │        │\n",
            "13: ───H───e9────────────────────────#10──────M───────────────\n",
            "           │                         │        │\n",
            "14: ───H───e10───────────────────────#11──────M───────────────\n"
          ],
          "name": "stdout"
        }
      ]
    },
    {
      "cell_type": "markdown",
      "metadata": {
        "id": "xDRxEMRlYAsL"
      },
      "source": [
        "Put the exponent register into an equal superposition via Hadamard gates. The $X$ gate on the last qubit in the target register is used for phase kickback. The modular exponential operation performs the sequence of controlled unitaries in phase estimation, then apply the inverse quantum Fourier transform (inv-QFT) to the exponent register and measure to read out the result."
      ]
    },
    {
      "cell_type": "markdown",
      "metadata": {
        "id": "XuRRIrnXYAsM"
      },
      "source": [
        "To illustrate the measurement results, sample from a smaller circuit. (Note that in practice we would never run Shor's algorithm with $n = 6$ because it is even. This is just an example to illustrate the measurement outcomes.)\n",
        "\n",
        "Interpret each measured bitstring as an integer, but what do these integers tell us? In the next section use a classically post-process to interpret them."
      ]
    },
    {
      "cell_type": "code",
      "metadata": {
        "id": "zGb2AbE1YAsN",
        "colab": {
          "base_uri": "https://localhost:8080/"
        },
        "outputId": "220e102c-58c3-4904-fd09-fa71a33331c4"
      },
      "source": [
        "circuit = make_order_finding_circuit(x=5, n=6)\n",
        "res = cirq.sample(circuit, repetitions=8)\n",
        "\n",
        "print(\"Raw measurements:\")\n",
        "print(res)\n",
        "\n",
        "print(\"\\nInteger in exponent register:\")\n",
        "print(res.data)\n",
        "\n",
        "def binary_labels(num_qubits):\n",
        "    return [bin(x)[2:].zfill(num_qubits) for x in range(2 ** num_qubits)]\n",
        "\n",
        "# Refactor this plot to use this cell's output\n",
        "# q = cirq.LineQubit.range(3)\n",
        "# circuit = cirq.Circuit([cirq.H.on_each(*q), cirq.measure(*q)])\n",
        "# result = cirq.Simulator().run(circuit, repetitions=100)\n",
        "# _ = cirq.vis.plot_state_histogram(result, plt.subplot(), title = 'Integer in exponent Register', xlabel = 'Integer', ylabel = 'Count', tick_label=binary_labels(3))"
      ],
      "execution_count": 8,
      "outputs": [
        {
          "output_type": "stream",
          "text": [
            "Raw measurements:\n",
            "exponent=10110100, 00000000, 00000000, 00000000, 00000000, 00000000, 00000000, 00000000, 00000000\n",
            "\n",
            "Integer in exponent register:\n",
            "   exponent\n",
            "0       256\n",
            "1         0\n",
            "2       256\n",
            "3       256\n",
            "4         0\n",
            "5       256\n",
            "6         0\n",
            "7         0\n"
          ],
          "name": "stdout"
        }
      ]
    },
    {
      "cell_type": "markdown",
      "metadata": {
        "id": "_7ZMlsRiYAsQ"
      },
      "source": [
        "### Use Classical post-processing"
      ]
    },
    {
      "cell_type": "markdown",
      "metadata": {
        "id": "-MHQF1x4YAsR"
      },
      "source": [
        "The integer measured is close to $s / r$ where $r$ is the order of $x \\in \\mathbb{Z}_n$ and $0 \\le s < r$ is an integer. Use the continued fractions algorithm to determine $r$ from $s / r$ then return it if the order finding circuit succeeded, else return `None`."
      ]
    },
    {
      "cell_type": "code",
      "metadata": {
        "id": "pKQ59vB6YAsR"
      },
      "source": [
        "def process_measurement(result: cirq.Result, x: int, n: int) -> Optional[int]:\n",
        "    # Read the output integer of the exponent register.\n",
        "    exponent_as_integer = result.data[\"exponent\"][0]\n",
        "    exponent_num_bits = result.measurements[\"exponent\"].shape[1]\n",
        "    eigenphase = float(exponent_as_integer / 2**exponent_num_bits)\n",
        "\n",
        "    # Run the continued fractions algorithm to determine f = s / r.\n",
        "    f = fractions.Fraction.from_float(eigenphase).limit_denominator(n)\n",
        "    \n",
        "    if f.numerator == 0:\n",
        "        return None\n",
        "    \n",
        "    r = f.denominator\n",
        "    if x**r % n != 1:\n",
        "        return None\n",
        "    return r"
      ],
      "execution_count": 9,
      "outputs": []
    },
    {
      "cell_type": "markdown",
      "metadata": {
        "id": "A9cGZBaEYAsU"
      },
      "source": [
        "The next code block shows an example of creating an order finding circuit, executing it, then using the classical postprocessing function to determine the order. Recall that the quantum part of the algorithm succeeds with some probability. If the order is `None`, try re-running the cell a few times. "
      ]
    },
    {
      "cell_type": "code",
      "metadata": {
        "id": "CTFqzZRdYAsU",
        "colab": {
          "base_uri": "https://localhost:8080/"
        },
        "outputId": "279f408d-2179-474e-c7fc-aea5718a717a"
      },
      "source": [
        "n = 6\n",
        "x = 5\n",
        "\n",
        "print(f\"Finding the order of x = {x} modulo n = {n}\\n\")\n",
        "measurement = cirq.sample(circuit, repetitions=1)\n",
        "print(\"Raw measurements:\")\n",
        "print(measurement)\n",
        "\n",
        "print(\"\\nInteger in exponent register:\")\n",
        "print(measurement.data)\n",
        "\n",
        "r = process_measurement(measurement, x, n)\n",
        "print(\"\\nOrder r =\", r)\n",
        "if r is not None:\n",
        "    print(f\"x^r mod n = {x}^{r} mod {n} = {x**r % n}\")"
      ],
      "execution_count": 10,
      "outputs": [
        {
          "output_type": "stream",
          "text": [
            "Finding the order of x = 5 modulo n = 6\n",
            "\n",
            "Raw measurements:\n",
            "exponent=1, 0, 0, 0, 0, 0, 0, 0, 0\n",
            "\n",
            "Integer in exponent register:\n",
            "   exponent\n",
            "0       256\n",
            "\n",
            "Order r = 2\n",
            "x^r mod n = 5^2 mod 6 = 1\n"
          ],
          "name": "stdout"
        }
      ]
    },
    {
      "cell_type": "markdown",
      "metadata": {
        "id": "2apE-zW8dObo"
      },
      "source": [
        "## Case B: Quantum Order Finding"
      ]
    },
    {
      "cell_type": "markdown",
      "metadata": {
        "id": "u5BzQWsLYAsY"
      },
      "source": [
        "### Define Quantum Order Finder"
      ]
    },
    {
      "cell_type": "markdown",
      "metadata": {
        "id": "c-4fTF_TYAsY"
      },
      "source": [
        "We can now define a streamlined function for the quantum version of order finding using the functions we have previously written. The quantum order finder below creates the circuit, executes it, and processes the measurement result.  \n",
        "\n",
        "You should see that the order of $x = 5$ in $\\mathbb{Z}_6$ is $r = 2$. Indeed, $5^2 \\text{ mod } 6 = 25 \\text{ mod } 6 = 1$. \n",
        "\n",
        "This completes a quantum implementation of an order finder, and the quantum part of Shor's algorithm."
      ]
    },
    {
      "cell_type": "code",
      "metadata": {
        "id": "Qwo3s-AsYAsZ"
      },
      "source": [
        "def quantum_order_finder(x: int, n: int) -> Optional[int]:\n",
        "    if x < 2 or n <= x or math.gcd(x, n) > 1:\n",
        "        raise ValueError(f'Invalid x={x} for modulus n={n}.')\n",
        "\n",
        "    circuit = make_order_finding_circuit(x, n)\n",
        "    \n",
        "    measurement = cirq.sample(circuit)\n",
        "    return process_measurement(measurement, x, n)"
      ],
      "execution_count": 11,
      "outputs": []
    },
    {
      "cell_type": "markdown",
      "metadata": {
        "id": "PvoEWimKYAsd"
      },
      "source": [
        "# Use Order Finding"
      ]
    },
    {
      "cell_type": "markdown",
      "metadata": {
        "id": "_GIl9R48YAse"
      },
      "source": [
        "### Use the Quantum Order Finder\n",
        "\n",
        "Use this quantum order finder to **complete** Shor's algorithm. In the following code block, add a few pre-processing steps which check if $n$ is even or prime or a prime power.\n",
        "\n",
        "These steps can be done efficiently with a **classical** computer. Then add a final post-processing step which uses the order $r$ to compute a non-trivial factor $p$ of $n$. This is achieved by computing $y = x^{r / 2} \\text{ mod } n$ (assuming $r$ is even), then computing $p = \\text{gcd}(y - 1, n)$.\n",
        "\n",
        "The function `find_factor` uses the `quantum_order_finder` by default, which executes Shor's algorithm. "
      ]
    },
    {
      "cell_type": "code",
      "metadata": {
        "id": "XvRmVZRLYAse"
      },
      "source": [
        "def find_factor_of_prime_power(n: int) -> Optional[int]:\n",
        "    for k in range(2, math.floor(math.log2(n)) + 1):\n",
        "        c = math.pow(n, 1 / k)\n",
        "        c1 = math.floor(c)\n",
        "        if c1**k == n:\n",
        "            return c1\n",
        "        c2 = math.ceil(c)\n",
        "        if c2**k == n:\n",
        "            return c2\n",
        "    return None\n",
        "\n",
        "def find_factor(\n",
        "    n: int,\n",
        "    order_finder: Callable[[int, int], Optional[int]] = quantum_order_finder,\n",
        "    max_attempts: int = 30\n",
        ") -> Optional[int]:\n",
        "   \n",
        "    if sympy.isprime(n):\n",
        "        print(\"n is prime!\")\n",
        "        return None\n",
        "    \n",
        "    if n % 2 == 0:\n",
        "        return 2\n",
        "    \n",
        "    c = find_factor_of_prime_power(n)\n",
        "    if c is not None:\n",
        "        return c\n",
        "    \n",
        "    for _ in range(max_attempts):\n",
        "        x = random.randint(2, n - 1)\n",
        "        c = math.gcd(x, n)\n",
        "        \n",
        "        if 1 < c < n:\n",
        "            return c\n",
        "        \n",
        "        r = order_finder(x, n)\n",
        "        \n",
        "        if r is None:\n",
        "            continue\n",
        "        \n",
        "        if r % 2 != 0:\n",
        "            continue\n",
        "        \n",
        "        y = x**(r // 2) % n\n",
        "        assert 1 < y < n\n",
        "        c = math.gcd(y - 1, n)\n",
        "        if 1 < c < n:\n",
        "            return c\n",
        "\n",
        "    print(f\"Failed to find a non-trivial factor in {max_attempts} attempts.\")\n",
        "    # return None"
      ],
      "execution_count": 12,
      "outputs": []
    },
    {
      "cell_type": "markdown",
      "metadata": {
        "id": "migE2tNYYAsh"
      },
      "source": [
        "### Use the Classical Order Finder\n",
        "The `find_factor` operation uses the`quantum_order_finder` method, which executes Shor's algorithm by defaul. Due to the large memory requirements for classically *simulating* this circuit, use the `classical_order_ finder`. \n",
        "\n",
        "NOTE: Use Shor's algorithm for $n \\le 15$. "
      ]
    },
    {
      "cell_type": "code",
      "metadata": {
        "id": "1RN4SqfDYAsh",
        "colab": {
          "base_uri": "https://localhost:8080/"
        },
        "outputId": "4306de1d-ca14-462c-c108-c13e23089914"
      },
      "source": [
        "# test with non-prime numbers only\n",
        "n = 184572\n",
        "p = find_factor(n, order_finder=classical_order_finder)\n",
        "q = n // p\n",
        "p * q == n\n",
        "\n",
        "print(\"If p * q == n is True, then this answer is correct.\")\n",
        "print(\"The result of \" + str(p) + \" * \" + str(q) + \" = \"+ str(n) + \" is \" + str(p * q == n))"
      ],
      "execution_count": 13,
      "outputs": [
        {
          "output_type": "stream",
          "text": [
            "If p * q == n is True, then this answer is correct.\n",
            "The result of 2 * 92286 = 184572 is True\n"
          ],
          "name": "stdout"
        }
      ]
    },
    {
      "cell_type": "markdown",
      "metadata": {
        "id": "1B6Gce4WOSai"
      },
      "source": [
        "# Learn More and Sources\n",
        "##### Copyright 2020 The Cirq Developers"
      ]
    },
    {
      "cell_type": "markdown",
      "metadata": {
        "id": "abMvY4i0offo"
      },
      "source": [
        "### License"
      ]
    },
    {
      "cell_type": "code",
      "metadata": {
        "id": "-u3Vm2jvOSak"
      },
      "source": [
        "# Licensed under the Apache License, Version 2.0 (the \"License\");\n",
        "# you may not use this file except in compliance with the License.\n",
        "# You may obtain a copy of the License at\n",
        "#\n",
        "# https://www.apache.org/licenses/LICENSE-2.0\n",
        "#\n",
        "# Unless required by applicable law or agreed to in writing, software\n",
        "# distributed under the License is distributed on an \"AS IS\" BASIS,\n",
        "# WITHOUT WARRANTIES OR CONDITIONS OF ANY KIND, either express or implied.\n",
        "# See the License for the specific language governing permissions and\n",
        "# limitations under the License."
      ],
      "execution_count": 14,
      "outputs": []
    },
    {
      "cell_type": "markdown",
      "metadata": {
        "id": "EDjKq6XBYArE"
      },
      "source": [
        "This tutorial presents a pedagogical demonstration of Shor's algorithm. It is a modified and expanded version of [this Cirq example](https://github.com/quantumlib/Cirq/blob/master/examples/shor.py)."
      ]
    },
    {
      "cell_type": "markdown",
      "metadata": {
        "id": "abbe82620fff"
      },
      "source": [
        "<table class=\"tfo-notebook-buttons\" align=\"left\">\n",
        "  <td>\n",
        "    <a target=\"_blank\" href=\"https://quantumai.google/cirq/tutorials/shor\"><img src=\"https://quantumai.google/site-assets/images/buttons/quantumai_logo_1x.png\" />View on QuantumAI</a>\n",
        "  </td>\n",
        "  <td>\n",
        "    <a target=\"_blank\" href=\"https://colab.research.google.com/github/quantumlib/Cirq/blob/master/docs/tutorials/shor.ipynb\"><img src=\"https://quantumai.google/site-assets/images/buttons/colab_logo_1x.png\" />Run in Google Colab</a>\n",
        "  </td>\n",
        "  <td>\n",
        "    <a target=\"_blank\" href=\"https://github.com/quantumlib/Cirq/blob/master/docs/tutorials/shor.ipynb\"><img src=\"https://quantumai.google/site-assets/images/buttons/github_logo_1x.png\" />View source on GitHub</a>\n",
        "  </td>\n",
        "  <td>\n",
        "    <a href=\"https://storage.googleapis.com/tensorflow_docs/Cirq/docs/tutorials/shor.ipynb\"><img src=\"https://quantumai.google/site-assets/images/buttons/download_icon_1x.png\" />Download notebook</a>\n",
        "  </td>\n",
        "</table>"
      ]
    }
  ]
}