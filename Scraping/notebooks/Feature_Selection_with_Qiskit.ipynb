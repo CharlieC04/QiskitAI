{
 "cells": [
  {
   "cell_type": "markdown",
   "id": "6a4b1727",
   "metadata": {},
   "source": [
    "# Feature selection and then classification with [Qiskit](https://qiskit.org/documentation/stable/0.19/index.html)\n",
    "\n",
    "This notebook has two parts\n",
    "- __Feature selection__ can be cast as a Quadratic Unconstrained Binary Optimization (__QUBO__) problem [[arXiv:2104.04049](https://arxiv.org/abs/2104.04049), [arXiv:2203.13261](https://arxiv.org/abs/2203.13261)] that can be solved with [Qiskit Optimization](https://qiskit.org/ecosystem/optimization/). \n",
    "- __Classification__ is a Machine learning (__ML__) problem that can be completed with [Qiskit Machine Learning](https://qiskit.org/ecosystem/machine-learning/)\n",
    "\n",
    "\n",
    "\n",
    "Here, we have taken [sklearn.datasets](https://scikit-learn.org/stable/datasets/toy_dataset.html)\n",
    "and given several methods for both feature selection and classification."
   ]
  },
  {
   "cell_type": "code",
   "execution_count": 1,
   "id": "fa24894a",
   "metadata": {},
   "outputs": [],
   "source": [
    "import numpy as np\n",
    "import matplotlib.pyplot as plt\n",
    "import time, copy, warnings\n",
    "\n",
    "\n",
    "from sklearn import linear_model, svm\n",
    "from sklearn.ensemble import GradientBoostingClassifier, RandomForestClassifier\n",
    "from sklearn.neural_network import MLPClassifier\n",
    "\n",
    "\n",
    "'''datasets:'''\n",
    "from sklearn.datasets import (load_iris, load_wine, load_breast_cancer)\n",
    "\n",
    "from sklearn.preprocessing import MinMaxScaler\n",
    "from sklearn.model_selection import train_test_split\n"
   ]
  },
  {
   "cell_type": "markdown",
   "id": "ef90e9fc",
   "metadata": {},
   "source": [
    "## Data loading ..."
   ]
  },
  {
   "cell_type": "code",
   "execution_count": 2,
   "id": "09439ab4",
   "metadata": {},
   "outputs": [
    {
     "name": "stdout",
     "output_type": "stream",
     "text": [
      "number of examples =  178\n",
      "number of features =  13\n"
     ]
    },
    {
     "data": {
      "text/plain": [
       "(array([[0.84210526, 0.1916996 , 0.57219251, 0.25773196, 0.61956522,\n",
       "         0.62758621, 0.57383966, 0.28301887, 0.59305994, 0.37201365,\n",
       "         0.45528455, 0.97069597, 0.56134094],\n",
       "        [0.57105263, 0.2055336 , 0.4171123 , 0.03092784, 0.32608696,\n",
       "         0.57586207, 0.51054852, 0.24528302, 0.27444795, 0.26450512,\n",
       "         0.46341463, 0.78021978, 0.55064194],\n",
       "        [0.56052632, 0.3201581 , 0.70053476, 0.41237113, 0.33695652,\n",
       "         0.62758621, 0.61181435, 0.32075472, 0.75709779, 0.37542662,\n",
       "         0.44715447, 0.6959707 , 0.64693295]]),\n",
       " array([0, 0, 0]))"
      ]
     },
     "execution_count": 2,
     "metadata": {},
     "output_type": "execute_result"
    }
   ],
   "source": [
    "dataset = load_wine()                         # choose one of the above datasets\n",
    "X, y = dataset.data, dataset.target\n",
    "\n",
    "\n",
    "X = MinMaxScaler().fit_transform(X)           # this will put all the feature (X) values in the interval [0,1]\n",
    "\n",
    "\n",
    "num_examples, num_features = X.shape   \n",
    "print(\"number of examples = \", num_examples)\n",
    "print(\"number of features = \", num_features)\n",
    "\n",
    "\n",
    "X[:3,:], y[:3]                                # first 3 examples"
   ]
  },
  {
   "cell_type": "markdown",
   "id": "c7ba474e",
   "metadata": {},
   "source": [
    "## train test split"
   ]
  },
  {
   "cell_type": "code",
   "execution_count": 3,
   "id": "020d8366",
   "metadata": {
    "scrolled": true
   },
   "outputs": [
    {
     "name": "stdout",
     "output_type": "stream",
     "text": [
      "(124, 13) (54, 13)\n"
     ]
    }
   ],
   "source": [
    "X_train_, X_test_, y_train, y_test = train_test_split(X, y, test_size=0.3, random_state=0)\n",
    "\n",
    "print(X_train_.shape, X_test_.shape)"
   ]
  },
  {
   "cell_type": "markdown",
   "id": "758eb777",
   "metadata": {},
   "source": [
    "$ $\n",
    "\n",
    "$ $\n",
    "\n",
    "# Feature Selection"
   ]
  },
  {
   "cell_type": "code",
   "execution_count": 4,
   "id": "ab6cdba8",
   "metadata": {},
   "outputs": [
    {
     "name": "stdout",
     "output_type": "stream",
     "text": [
      "feature_names = ['alcohol', 'malic_acid', 'ash', 'alcalinity_of_ash', 'magnesium', 'total_phenols', 'flavanoids', 'nonflavanoid_phenols', 'proanthocyanins', 'color_intensity', 'hue', 'od280/od315_of_diluted_wines', 'proline'] \n",
      "\n"
     ]
    }
   ],
   "source": [
    "feature_names = dataset.feature_names\n",
    "print(f'feature_names = {feature_names} \\n') \n"
   ]
  },
  {
   "cell_type": "code",
   "execution_count": 5,
   "id": "99908eb5",
   "metadata": {},
   "outputs": [
    {
     "name": "stdout",
     "output_type": "stream",
     "text": [
      "number of features to be selected = 4\n",
      "\n"
     ]
    }
   ],
   "source": [
    "k = 4\n",
    "print(f'number of features to be selected = {k}\\n')"
   ]
  },
  {
   "cell_type": "markdown",
   "id": "f45ad8e7",
   "metadata": {},
   "source": [
    "## (A) Feature selection with a quantum algorithm\n",
    "\n",
    "For feature selection, we are following the approach given in [arXiv:2104.04049](https://arxiv.org/abs/2104.04049) (see also, [arXiv:2203.13261](https://arxiv.org/abs/2203.13261)) where one can cast it as a \n",
    "\n",
    "__quadratic program (QP)__:\n",
    "$\\min_{\\bf{v}} \\bf{v}\\ Q\\ \\bf{v}$ where the binary vector $\\bf{v}$ carries decision variable $v_i$ for each feature $i$. \n",
    "$v_i = 1$ and $0$ mean $i$th feature is and is not selected, respectively.\n",
    "To select $k$ number of features, we put the constraint $\\sum_i v_i=k$.\n",
    "\n",
    "$Q$ is an upper triangular matrix.\n",
    "- The __off-diagonal__ entry $Q_{ij}$, $i<j$, is proportional to the Pearson correlation coefficient between features $x_i$ and $x_j$. A higher value of such a correlation is a signature of __redundancy__ that we want to minimize.\n",
    "\n",
    "- The __negative__ of __diagonal__ entry $-Q_{ii}$ is proportional to the Pearson correlation coefficient between features $x_i$ and target $y$. A higher value of such a correlation is a signature of __relevancy__ that we want to maximize.\n",
    "\n",
    "\n",
    "\n",
    "The QP can be turned into a Quadratic Unconstrained Binary Optimization (QUBO) problem that can be covered into an Ising Hamiltonian whose ground state represents the optimal solution. One can use different quantum algorithms to find a state close to the ground state as shown below.  \n",
    "\n",
    "\n",
    "### (A1a) Q matrix"
   ]
  },
  {
   "cell_type": "code",
   "execution_count": 6,
   "id": "3b775a1c",
   "metadata": {
    "scrolled": false
   },
   "outputs": [
    {
     "data": {
      "image/png": "[encoded data removed]",
      "text/plain": [
       "<Figure size 288x288 with 2 Axes>"
      ]
     },
     "metadata": {
      "needs_background": "light"
     },
     "output_type": "display_data"
    },
    {
     "data": {
      "image/png": "[encoded data removed]",
      "text/plain": [
       "<Figure size 288x288 with 2 Axes>"
      ]
     },
     "metadata": {
      "needs_background": "light"
     },
     "output_type": "display_data"
    }
   ],
   "source": [
    "# Pearson correlation coefficient between features x_i and x_j\n",
    "xx_pcc = np.corrcoef(X_train_.T)\n",
    "xx_pcc = np.abs(np.triu(xx_pcc, 1)) \n",
    "\n",
    "\n",
    "plt.matshow(xx_pcc, cmap='Reds')\n",
    "plt.xticks(np.arange(num_features))\n",
    "plt.yticks(np.arange(num_features))\n",
    "cb = plt.colorbar(shrink=0.7)\n",
    "plt.title('abs corr upp-tri matrix') \n",
    "plt.show()\n",
    "\n",
    "\n",
    "# Pearson correlation coefficient between feature x_i and target y\n",
    "xy_pcc = [np.abs(np.corrcoef(X_train_[:,l], y_train)[0,1]) for l in range(num_features)]\n",
    "\n",
    "\n",
    "# alpha is the weight attached to the off-diagonal terms,  0 <= alpha <=1\n",
    "# 1- alpha is the weight attached to the diagonal terms of Q\n",
    "alpha = 0.5\n",
    "\n",
    "Q = alpha*xx_pcc - (1-alpha)*np.diag(xy_pcc)\n",
    "\n",
    "\n",
    "def plot_Q_matrix():\n",
    "    plt.matshow(Q, cmap='bwr')\n",
    "    plt.xticks(np.arange(num_features))\n",
    "    plt.yticks(np.arange(num_features))\n",
    "    cb = plt.colorbar(shrink=0.7)\n",
    "    plt.title(f'Q matrix (alpha = {alpha})') \n",
    "    plt.show()\n",
    "\n",
    "plot_Q_matrix()"
   ]
  },
  {
   "cell_type": "code",
   "execution_count": 7,
   "id": "3d18775a",
   "metadata": {},
   "outputs": [],
   "source": [
    "from qiskit_optimization import QuadraticProgram                         #!pip install qiskit[optimization]\n",
    "\n",
    "from qiskit.algorithms.minimum_eigensolvers import SamplingVQE, NumPyMinimumEigensolver, QAOA\n",
    "from qiskit_optimization.algorithms import MinimumEigenOptimizer\n",
    "\n",
    "from qiskit_optimization.converters import QuadraticProgramToQubo\n",
    "from qiskit.primitives import Sampler\n",
    "from qiskit.circuit.library import TwoLocal\n",
    "from qiskit.algorithms.optimizers import SPSA, COBYLA"
   ]
  },
  {
   "cell_type": "markdown",
   "id": "0581c9a5",
   "metadata": {},
   "source": [
    "### (A1b) Quadratic Program using the Q matrix"
   ]
  },
  {
   "cell_type": "code",
   "execution_count": 8,
   "id": "7ec32307",
   "metadata": {},
   "outputs": [
    {
     "data": {
      "text/plain": [
       "<QuadraticProgram: minimize 0.043633758272574194*v0*v1 + 0.023714908751248903*..., 13 variables, 1 constraints, ''>"
      ]
     },
     "execution_count": 8,
     "metadata": {},
     "output_type": "execute_result"
    }
   ],
   "source": [
    "qp = QuadraticProgram()\n",
    "\n",
    "for i in range(num_features):\n",
    "    qp.binary_var(f'v{i}')\n",
    "\n",
    "    \n",
    "linear = [Q[i,i] for i in range(num_features)]\n",
    "\n",
    "quadratic = {}\n",
    "for i in range(num_features):\n",
    "    for j in range(i+1, num_features):\n",
    "        quadratic[(f'v{i}', f'v{j}')] = Q[i,j]\n",
    "        \n",
    "\n",
    "qp.minimize(linear=linear, quadratic=quadratic)\n",
    "\n",
    "\n",
    "linear_const = {f'v{i}':1 for i in range(num_features)}        # the constraint to select k number of features\n",
    "qp.linear_constraint(linear=linear_const, sense=\"==\", rhs=k, name=\"lin_const\")\n",
    "qp"
   ]
  },
  {
   "cell_type": "markdown",
   "id": "e2c4c573",
   "metadata": {},
   "source": [
    "### (A2a) Feature selection by solving Quadratic Program with the exact classical eigensolver\n",
    "\n",
    "The class [__MinimumEigenOptimizer__](https://qiskit.org/ecosystem/optimization/stubs/qiskit_optimization.algorithms.MinimumEigenOptimizer.html) provides a wrapper for minimum eigen solvers from Qiskit to be used within the optimization module. It assumes a problem consisting only of binary or integer variables as well as linear equality constraints thereof. It converts such a problem into a QUBO problem by expanding integer variables into binary variables and by adding the linear equality constraints as weighted penalty terms to the objective function. The resulting QUBO is then translated into an Ising Hamiltonian whose minimal eigen vector and corresponding eigenstate correspond to the optimal solution of the original optimization problem. The provided minimum eigen solver is then used to approximate the ground state of the Hamiltonian to find a good solution for the optimization problem.\n"
   ]
  },
  {
   "cell_type": "code",
   "execution_count": 9,
   "id": "ab750cda",
   "metadata": {},
   "outputs": [
    {
     "name": "stdout",
     "output_type": "stream",
     "text": [
      "objective function value: -0.44192253595886444\n",
      "variable values: v0=1.0, v1=0.0, v2=0.0, v3=0.0, v4=1.0, v5=0.0, v6=0.0, v7=0.0, v8=0.0, v9=0.0, v10=1.0, v11=1.0, v12=0.0\n",
      "status: SUCCESS\n",
      "\n",
      "CPU times: user 376 ms, sys: 0 ns, total: 376 ms\n",
      "Wall time: 374 ms\n"
     ]
    }
   ],
   "source": [
    "%%time\n",
    "\n",
    "exact = MinimumEigenOptimizer(min_eigen_solver=NumPyMinimumEigensolver())\n",
    "result = exact.solve(qp)\n",
    "print(result.prettyprint())\n",
    "print()"
   ]
  },
  {
   "cell_type": "markdown",
   "id": "2f5c41b2",
   "metadata": {},
   "source": [
    "### (A2b) Feature selection by solving Quadratic Program with [VQE](https://qiskit.org/documentation/stubs/qiskit.algorithms.minimum_eigensolvers.SamplingVQE.html)\n",
    "\n",
    "VQE is a hybrid quantum-classical algorithm that uses a variational technique to find the minimum eigenvalue of a given diagonal Hamiltonian."
   ]
  },
  {
   "cell_type": "code",
   "execution_count": 10,
   "id": "82052f11",
   "metadata": {},
   "outputs": [
    {
     "name": "stdout",
     "output_type": "stream",
     "text": [
      "objective function value: -0.44192253595886444\n",
      "variable values: v0=1.0, v1=0.0, v2=0.0, v3=0.0, v4=1.0, v5=0.0, v6=0.0, v7=0.0, v8=0.0, v9=0.0, v10=1.0, v11=1.0, v12=0.0\n",
      "status: SUCCESS\n",
      "\n",
      "CPU times: user 11.4 s, sys: 124 ms, total: 11.6 s\n",
      "Wall time: 11.5 s\n"
     ]
    }
   ],
   "source": [
    "%%time\n",
    "ansatz = TwoLocal(num_features, \"ry\", \"cz\", reps=3, entanglement=\"linear\")           # construct ansatz for VQE\n",
    "vqe = SamplingVQE(sampler=Sampler(), ansatz=ansatz, optimizer=COBYLA(maxiter=10))    # construct VQE\n",
    "\n",
    "\n",
    "meo_vqe = MinimumEigenOptimizer(min_eigen_solver=vqe)                                # run VQE\n",
    "result_vqe = meo_vqe.solve(qp)\n",
    "\n",
    "\n",
    "print(result_vqe.prettyprint())\n",
    "print()"
   ]
  },
  {
   "cell_type": "markdown",
   "id": "1381546e",
   "metadata": {},
   "source": [
    "### (A2c) Feature selection by solving Quadratic Program with [QAOA](https://qiskit.org/documentation/stubs/qiskit.algorithms.QAOA.html)\n",
    "\n",
    "The QAOA implementation directly extends VQE and inherits VQE’s optimization structure."
   ]
  },
  {
   "cell_type": "code",
   "execution_count": 11,
   "id": "8babef62",
   "metadata": {},
   "outputs": [
    {
     "name": "stdout",
     "output_type": "stream",
     "text": [
      "objective function value: -0.44192253595886444\n",
      "variable values: v0=1.0, v1=0.0, v2=0.0, v3=0.0, v4=1.0, v5=0.0, v6=0.0, v7=0.0, v8=0.0, v9=0.0, v10=1.0, v11=1.0, v12=0.0\n",
      "status: SUCCESS\n",
      "\n",
      "CPU times: user 19.6 s, sys: 120 ms, total: 19.7 s\n",
      "Wall time: 19.7 s\n"
     ]
    }
   ],
   "source": [
    "%%time\n",
    "qaoa = QAOA(sampler=Sampler(), optimizer=COBYLA(maxiter=10), reps=3)      # construct QAOA\n",
    "\n",
    "\n",
    "meo_qaoa = MinimumEigenOptimizer(min_eigen_solver=qaoa)                   # run QAOA\n",
    "result_qaoa = meo_qaoa.solve(qp)\n",
    "\n",
    "\n",
    "print(result_qaoa.prettyprint())\n",
    "print()"
   ]
  },
  {
   "cell_type": "markdown",
   "id": "0ea5d2df",
   "metadata": {},
   "source": [
    "### (A2d) Feature selection by solving Quadratic Program with a classical greedy algorithm\n",
    "\n",
    "Here, the initial solution carries k ones and the rest zeros. A new solution is a random permutation of the last accepted solution. We accept the new solution if and only if the cost (energy) decreases. Hence, it is a classical greedy algorithm."
   ]
  },
  {
   "cell_type": "code",
   "execution_count": 12,
   "id": "6a5456dd",
   "metadata": {},
   "outputs": [
    {
     "name": "stdout",
     "output_type": "stream",
     "text": [
      "inital sol = [1 1 1 1 0 0 0 0 0 0 0 0 0]\n",
      "initial Emin = 0.133\n",
      "\n",
      "l =     0   Emin = -0.228   sol = [0 1 0 0 1 0 1 0 0 0 0 1 0]\n",
      "l =     1   Emin = -0.288   sol = [0 0 0 1 0 0 0 1 1 1 0 0 0]\n",
      "l =     3   Emin = -0.3   sol = [0 1 0 1 0 0 0 0 1 1 0 0 0]\n",
      "l =     5   Emin = -0.305   sol = [0 0 0 1 1 0 1 0 0 0 0 1 0]\n",
      "l =    29   Emin = -0.312   sol = [0 1 0 1 0 1 0 0 0 1 0 0 0]\n",
      "l =    56   Emin = -0.318   sol = [1 0 0 1 1 0 0 0 0 0 1 0 0]\n",
      "l =   130   Emin = -0.328   sol = [0 0 0 0 1 0 0 0 0 0 1 1 1]\n",
      "l =   209   Emin = -0.401   sol = [0 0 0 1 1 0 0 0 0 0 1 1 0]\n",
      "l =   309   Emin = -0.442   sol = [1 0 0 0 1 0 0 0 0 0 1 1 0]\n",
      "\n",
      "selected_feature_positions = [ 0  4 10 11]\n",
      "\n"
     ]
    },
    {
     "data": {
      "image/png": "[encoded data removed]",
      "text/plain": [
       "<Figure size 288x288 with 2 Axes>"
      ]
     },
     "metadata": {
      "needs_background": "light"
     },
     "output_type": "display_data"
    }
   ],
   "source": [
    "sol = np.append(np.ones(k, dtype=int), np.zeros(num_features-k, dtype=int))\n",
    "Emin = np.linalg.multi_dot([sol, Q , sol])\n",
    "\n",
    "print(f'inital sol = {sol}')\n",
    "print(f'initial Emin = {round(Emin,3)}\\n')\n",
    "       \n",
    "for l in range(10000):\n",
    "    s = np.random.permutation(sol)\n",
    "    E = np.linalg.multi_dot([s, Q , s])\n",
    "    if E < Emin:\n",
    "        sol, Emin = s, E\n",
    "        print(f'l = {l:5d}   Emin = {round(Emin,3)}   sol = {sol}')\n",
    "        \n",
    "        \n",
    "\n",
    "pos = np.where(sol==1)[0]\n",
    "print()\n",
    "print(f'selected_feature_positions = {pos}\\n')\n",
    "\n",
    "plot_Q_matrix()\n"
   ]
  },
  {
   "cell_type": "markdown",
   "id": "9d944b54",
   "metadata": {},
   "source": [
    "$ $\n",
    "\n",
    "## (B) Feature selection with sklearn based on mutual_info_classif"
   ]
  },
  {
   "cell_type": "code",
   "execution_count": 13,
   "id": "ca690a4a",
   "metadata": {},
   "outputs": [
    {
     "name": "stdout",
     "output_type": "stream",
     "text": [
      "selected_features = ['flavanoids' 'color_intensity' 'hue' 'od280/od315_of_diluted_wines']\n",
      "\n",
      "selected_feature_positions = [6, 9, 10, 11]\n",
      "\n"
     ]
    }
   ],
   "source": [
    "from sklearn.feature_selection import SelectKBest, mutual_info_classif\n",
    "\n",
    "\n",
    "f = SelectKBest(mutual_info_classif, k=4).fit(X_train_, y_train)\n",
    "selected_features = f.get_feature_names_out(feature_names)\n",
    "selected_features_pos = [np.where(np.array(feature_names) == sf)[0][0] for sf in selected_features]\n",
    "\n",
    "print(f'selected_features = {selected_features}\\n')\n",
    "print(f'selected_feature_positions = {selected_features_pos}\\n')\n"
   ]
  },
  {
   "cell_type": "markdown",
   "id": "05281008",
   "metadata": {},
   "source": [
    "# After feature selection train and test sets"
   ]
  },
  {
   "cell_type": "code",
   "execution_count": 14,
   "id": "ff4d2f39",
   "metadata": {
    "scrolled": false
   },
   "outputs": [
    {
     "name": "stdout",
     "output_type": "stream",
     "text": [
      "selected_feature_positions = [ 0  4 10 11]\n",
      "\n",
      "selected_features = ['alcohol' 'magnesium' 'hue' 'od280/od315_of_diluted_wines']\n",
      "\n",
      "number selected of features = k = 4: True\n"
     ]
    }
   ],
   "source": [
    "print(f'selected_feature_positions = {pos}\\n')\n",
    "print(f'selected_features = {np.array(feature_names)[pos]}\\n')\n",
    "\n",
    "X_train, X_test = X_train_[:,pos], X_test_[:,pos]\n",
    "\n",
    "   \n",
    "print(f\"number selected of features = k = {k}:\", k==X_train.shape[1])"
   ]
  },
  {
   "cell_type": "markdown",
   "id": "2bfe44f2",
   "metadata": {},
   "source": [
    "$ $\n",
    "\n",
    "# Classification with Quantum Machine Learning\n",
    "\n",
    "The following part is based on [the Qiskit Machine Learning tutorial](https://qiskit.org/ecosystem/machine-learning/tutorials/02a_training_a_quantum_model_on_a_real_dataset.html)\n",
    "\n",
    "\n",
    "## (1) Feature Map (FM): angle encoding"
   ]
  },
  {
   "cell_type": "code",
   "execution_count": 15,
   "id": "3032109e",
   "metadata": {},
   "outputs": [
    {
     "data": {
      "text/html": [
       "<pre style=\"word-wrap: normal;white-space: pre;background: #fff0;line-height: 1.1;font-family: &quot;Courier New&quot;,Courier,monospace\">     ┌───┐┌─────────────┐                                               »\n",
       "q_0: ┤ H ├┤ P(2.0*x[0]) ├──■────────────────────────────────────■────■──»\n",
       "     ├───┤├─────────────┤┌─┴─┐┌──────────────────────────────┐┌─┴─┐  │  »\n",
       "q_1: ┤ H ├┤ P(2.0*x[1]) ├┤ X ├┤ P(2.0*(π - x[0])*(π - x[1])) ├┤ X ├──┼──»\n",
       "     ├───┤├─────────────┤└───┘└──────────────────────────────┘└───┘┌─┴─┐»\n",
       "q_2: ┤ H ├┤ P(2.0*x[2]) ├──────────────────────────────────────────┤ X ├»\n",
       "     ├───┤├─────────────┤                                          └───┘»\n",
       "q_3: ┤ H ├┤ P(2.0*x[3]) ├───────────────────────────────────────────────»\n",
       "     └───┘└─────────────┘                                               »\n",
       "«                                                    »\n",
       "«q_0: ──────────────────────────────────■─────────■──»\n",
       "«                                       │         │  »\n",
       "«q_1: ──────────────────────────────────┼────■────┼──»\n",
       "«     ┌──────────────────────────────┐┌─┴─┐┌─┴─┐  │  »\n",
       "«q_2: ┤ P(2.0*(π - x[0])*(π - x[2])) ├┤ X ├┤ X ├──┼──»\n",
       "«     └──────────────────────────────┘└───┘└───┘┌─┴─┐»\n",
       "«q_3: ──────────────────────────────────────────┤ X ├»\n",
       "«                                               └───┘»\n",
       "«                                                    »\n",
       "«q_0: ───────────────────────────────────────■───────»\n",
       "«                                            │       »\n",
       "«q_1: ──────────────────────────────────■────┼────■──»\n",
       "«     ┌──────────────────────────────┐┌─┴─┐  │    │  »\n",
       "«q_2: ┤ P(2.0*(π - x[1])*(π - x[2])) ├┤ X ├──┼────┼──»\n",
       "«     ├──────────────────────────────┤└───┘┌─┴─┐┌─┴─┐»\n",
       "«q_3: ┤ P(2.0*(π - x[0])*(π - x[3])) ├─────┤ X ├┤ X ├»\n",
       "«     └──────────────────────────────┘     └───┘└───┘»\n",
       "«                                               »\n",
       "«q_0: ──────────────────────────────────────────»\n",
       "«                                               »\n",
       "«q_1: ──────────────────────────────────■───────»\n",
       "«                                       │       »\n",
       "«q_2: ──────────────────────────────────┼────■──»\n",
       "«     ┌──────────────────────────────┐┌─┴─┐┌─┴─┐»\n",
       "«q_3: ┤ P(2.0*(π - x[1])*(π - x[3])) ├┤ X ├┤ X ├»\n",
       "«     └──────────────────────────────┘└───┘└───┘»\n",
       "«                                          \n",
       "«q_0: ─────────────────────────────────────\n",
       "«                                          \n",
       "«q_1: ─────────────────────────────────────\n",
       "«                                          \n",
       "«q_2: ──────────────────────────────────■──\n",
       "«     ┌──────────────────────────────┐┌─┴─┐\n",
       "«q_3: ┤ P(2.0*(π - x[2])*(π - x[3])) ├┤ X ├\n",
       "«     └──────────────────────────────┘└───┘</pre>"
      ],
      "text/plain": [
       "     ┌───┐┌─────────────┐                                               »\n",
       "q_0: ┤ H ├┤ P(2.0*x[0]) ├──■────────────────────────────────────■────■──»\n",
       "     ├───┤├─────────────┤┌─┴─┐┌──────────────────────────────┐┌─┴─┐  │  »\n",
       "q_1: ┤ H ├┤ P(2.0*x[1]) ├┤ X ├┤ P(2.0*(π - x[0])*(π - x[1])) ├┤ X ├──┼──»\n",
       "     ├───┤├─────────────┤└───┘└──────────────────────────────┘└───┘┌─┴─┐»\n",
       "q_2: ┤ H ├┤ P(2.0*x[2]) ├──────────────────────────────────────────┤ X ├»\n",
       "     ├───┤├─────────────┤                                          └───┘»\n",
       "q_3: ┤ H ├┤ P(2.0*x[3]) ├───────────────────────────────────────────────»\n",
       "     └───┘└─────────────┘                                               »\n",
       "«                                                    »\n",
       "«q_0: ──────────────────────────────────■─────────■──»\n",
       "«                                       │         │  »\n",
       "«q_1: ──────────────────────────────────┼────■────┼──»\n",
       "«     ┌──────────────────────────────┐┌─┴─┐┌─┴─┐  │  »\n",
       "«q_2: ┤ P(2.0*(π - x[0])*(π - x[2])) ├┤ X ├┤ X ├──┼──»\n",
       "«     └──────────────────────────────┘└───┘└───┘┌─┴─┐»\n",
       "«q_3: ──────────────────────────────────────────┤ X ├»\n",
       "«                                               └───┘»\n",
       "«                                                    »\n",
       "«q_0: ───────────────────────────────────────■───────»\n",
       "«                                            │       »\n",
       "«q_1: ──────────────────────────────────■────┼────■──»\n",
       "«     ┌──────────────────────────────┐┌─┴─┐  │    │  »\n",
       "«q_2: ┤ P(2.0*(π - x[1])*(π - x[2])) ├┤ X ├──┼────┼──»\n",
       "«     ├──────────────────────────────┤└───┘┌─┴─┐┌─┴─┐»\n",
       "«q_3: ┤ P(2.0*(π - x[0])*(π - x[3])) ├─────┤ X ├┤ X ├»\n",
       "«     └──────────────────────────────┘     └───┘└───┘»\n",
       "«                                               »\n",
       "«q_0: ──────────────────────────────────────────»\n",
       "«                                               »\n",
       "«q_1: ──────────────────────────────────■───────»\n",
       "«                                       │       »\n",
       "«q_2: ──────────────────────────────────┼────■──»\n",
       "«     ┌──────────────────────────────┐┌─┴─┐┌─┴─┐»\n",
       "«q_3: ┤ P(2.0*(π - x[1])*(π - x[3])) ├┤ X ├┤ X ├»\n",
       "«     └──────────────────────────────┘└───┘└───┘»\n",
       "«                                          \n",
       "«q_0: ─────────────────────────────────────\n",
       "«                                          \n",
       "«q_1: ─────────────────────────────────────\n",
       "«                                          \n",
       "«q_2: ──────────────────────────────────■──\n",
       "«     ┌──────────────────────────────┐┌─┴─┐\n",
       "«q_3: ┤ P(2.0*(π - x[2])*(π - x[3])) ├┤ X ├\n",
       "«     └──────────────────────────────┘└───┘"
      ]
     },
     "execution_count": 15,
     "metadata": {},
     "output_type": "execute_result"
    }
   ],
   "source": [
    "from qiskit.circuit.library import PauliFeatureMap, ZFeatureMap, ZZFeatureMap\n",
    "\n",
    "\n",
    "fm = ZZFeatureMap(feature_dimension=k, reps=1)                  \n",
    "fm.decompose().draw() \n"
   ]
  },
  {
   "cell_type": "markdown",
   "id": "5095dcbb",
   "metadata": {},
   "source": [
    "## (2) Parameterized Quantum Circuit (PQC)"
   ]
  },
  {
   "cell_type": "code",
   "execution_count": 16,
   "id": "09033fdc",
   "metadata": {},
   "outputs": [
    {
     "data": {
      "text/html": [
       "<pre style=\"word-wrap: normal;white-space: pre;background: #fff0;line-height: 1.1;font-family: &quot;Courier New&quot;,Courier,monospace\">     ┌──────────┐                             ┌──────────┐             »\n",
       "q_0: ┤ Ry(θ[0]) ├──────────────────────■──────┤ Ry(θ[4]) ├─────────────»\n",
       "     ├──────────┤                    ┌─┴─┐    ├──────────┤             »\n",
       "q_1: ┤ Ry(θ[1]) ├──────────■─────────┤ X ├────┤ Ry(θ[5]) ├──────■──────»\n",
       "     ├──────────┤        ┌─┴─┐    ┌──┴───┴───┐└──────────┘    ┌─┴─┐    »\n",
       "q_2: ┤ Ry(θ[2]) ├──■─────┤ X ├────┤ Ry(θ[6]) ├─────■──────────┤ X ├────»\n",
       "     ├──────────┤┌─┴─┐┌──┴───┴───┐└──────────┘   ┌─┴─┐    ┌───┴───┴───┐»\n",
       "q_3: ┤ Ry(θ[3]) ├┤ X ├┤ Ry(θ[7]) ├───────────────┤ X ├────┤ Ry(θ[11]) ├»\n",
       "     └──────────┘└───┘└──────────┘               └───┘    └───────────┘»\n",
       "«                  ┌──────────┐                          ┌───────────┐\n",
       "«q_0: ──────■──────┤ Ry(θ[8]) ├───────────────────■──────┤ Ry(θ[12]) ├\n",
       "«         ┌─┴─┐    ├──────────┤                 ┌─┴─┐    ├───────────┤\n",
       "«q_1: ────┤ X ├────┤ Ry(θ[9]) ├──────■──────────┤ X ├────┤ Ry(θ[13]) ├\n",
       "«     ┌───┴───┴───┐└──────────┘    ┌─┴─┐    ┌───┴───┴───┐└───────────┘\n",
       "«q_2: ┤ Ry(θ[10]) ├─────■──────────┤ X ├────┤ Ry(θ[14]) ├─────────────\n",
       "«     └───────────┘   ┌─┴─┐    ┌───┴───┴───┐└───────────┘             \n",
       "«q_3: ────────────────┤ X ├────┤ Ry(θ[15]) ├──────────────────────────\n",
       "«                     └───┘    └───────────┘                          </pre>"
      ],
      "text/plain": [
       "     ┌──────────┐                             ┌──────────┐             »\n",
       "q_0: ┤ Ry(θ[0]) ├──────────────────────■──────┤ Ry(θ[4]) ├─────────────»\n",
       "     ├──────────┤                    ┌─┴─┐    ├──────────┤             »\n",
       "q_1: ┤ Ry(θ[1]) ├──────────■─────────┤ X ├────┤ Ry(θ[5]) ├──────■──────»\n",
       "     ├──────────┤        ┌─┴─┐    ┌──┴───┴───┐└──────────┘    ┌─┴─┐    »\n",
       "q_2: ┤ Ry(θ[2]) ├──■─────┤ X ├────┤ Ry(θ[6]) ├─────■──────────┤ X ├────»\n",
       "     ├──────────┤┌─┴─┐┌──┴───┴───┐└──────────┘   ┌─┴─┐    ┌───┴───┴───┐»\n",
       "q_3: ┤ Ry(θ[3]) ├┤ X ├┤ Ry(θ[7]) ├───────────────┤ X ├────┤ Ry(θ[11]) ├»\n",
       "     └──────────┘└───┘└──────────┘               └───┘    └───────────┘»\n",
       "«                  ┌──────────┐                          ┌───────────┐\n",
       "«q_0: ──────■──────┤ Ry(θ[8]) ├───────────────────■──────┤ Ry(θ[12]) ├\n",
       "«         ┌─┴─┐    ├──────────┤                 ┌─┴─┐    ├───────────┤\n",
       "«q_1: ────┤ X ├────┤ Ry(θ[9]) ├──────■──────────┤ X ├────┤ Ry(θ[13]) ├\n",
       "«     ┌───┴───┴───┐└──────────┘    ┌─┴─┐    ┌───┴───┴───┐└───────────┘\n",
       "«q_2: ┤ Ry(θ[10]) ├─────■──────────┤ X ├────┤ Ry(θ[14]) ├─────────────\n",
       "«     └───────────┘   ┌─┴─┐    ┌───┴───┴───┐└───────────┘             \n",
       "«q_3: ────────────────┤ X ├────┤ Ry(θ[15]) ├──────────────────────────\n",
       "«                     └───┘    └───────────┘                          "
      ]
     },
     "execution_count": 16,
     "metadata": {},
     "output_type": "execute_result"
    }
   ],
   "source": [
    "from qiskit.circuit.library import RealAmplitudes\n",
    "\n",
    "\n",
    "pqc = RealAmplitudes(num_qubits=k, reps=3)\n",
    "pqc.decompose().draw()\n"
   ]
  },
  {
   "cell_type": "markdown",
   "id": "039a10b8",
   "metadata": {},
   "source": [
    "## (3) Build the model: [Variational Quantum Classifier (VQC)](https://qiskit.org/documentation/stable/0.19/stubs/qiskit.aqua.algorithms.VQC.html#qiskit.aqua.algorithms.VQC) with FM and PQC\n",
    "\n",
    "\n",
    "__[Sampler](https://qiskit.org/documentation/apidoc/primitives.html) class calculates probabilities or quasi-probabilities of bitstrings from quantum circuits.__\n",
    "A sampler is initialized with an empty parameter set. The sampler is used to create a JobV1, via the qiskit.primitives.Sampler.run() method, and yields a SamplerResult object, which contains probabilities or quasi-probabilities of bitstrings, plus optional metadata like error bars in the samples.\n"
   ]
  },
  {
   "cell_type": "code",
   "execution_count": 17,
   "id": "092d8331",
   "metadata": {},
   "outputs": [],
   "source": [
    "from qiskit.algorithms.optimizers import COBYLA\n",
    "\n",
    "# This defines where to train our classifier: on a simulator or a real quantum computer\n",
    "from qiskit.primitives import Sampler                             # here we have chosen a simulator \n",
    "\n",
    "from qiskit_machine_learning.algorithms.classifiers import VQC    # !pip install qiskit[machine-learning]\n",
    "\n",
    "\n",
    "#------------------------------------------------------------------------------------------------\n",
    "\n",
    "optimizer = COBYLA(maxiter=250)                 # maxiter = Maximum number of iterations (function evaluations)\n",
    "sampler = Sampler()\n",
    "\n",
    "#------------------------------------------------------------------------------------------------\n",
    "\n",
    "from IPython.display import clear_output\n",
    "objective_func_vals = []\n",
    "                                    # a callback that can access the intermediate data during the optimization\n",
    "def callback(weights, obj_func_eval):\n",
    "    clear_output(wait=True)\n",
    "    objective_func_vals.append(obj_func_eval)\n",
    "    plt.xlabel(\"Iteration\")\n",
    "    plt.ylabel(\"Objective function value\")\n",
    "    plt.plot(range(len(objective_func_vals)), objective_func_vals)\n",
    "    plt.show()\n",
    "\n",
    "#------------------------------------------------------------------------------------------------\n",
    "\n",
    "vqc = VQC(\n",
    "    sampler=sampler,\n",
    "    feature_map=fm,\n",
    "    ansatz=pqc,\n",
    "    optimizer=optimizer,\n",
    "    callback=callback,\n",
    ")"
   ]
  },
  {
   "cell_type": "markdown",
   "id": "0169855d",
   "metadata": {},
   "source": [
    "## (4) Training VQC ..."
   ]
  },
  {
   "cell_type": "code",
   "execution_count": 18,
   "id": "7d8a6f94",
   "metadata": {
    "scrolled": false
   },
   "outputs": [
    {
     "data": {
      "image/png": "[encoded data removed]",
      "text/plain": [
       "<Figure size 432x288 with 1 Axes>"
      ]
     },
     "metadata": {
      "needs_background": "light"
     },
     "output_type": "display_data"
    },
    {
     "name": "stdout",
     "output_type": "stream",
     "text": [
      "CPU times: user 3min 41s, sys: 45.6 s, total: 4min 27s\n",
      "Wall time: 3min 29s\n"
     ]
    },
    {
     "data": {
      "text/plain": [
       "<qiskit_machine_learning.algorithms.classifiers.vqc.VQC at 0x7f19faeb3dc0>"
      ]
     },
     "execution_count": 18,
     "metadata": {},
     "output_type": "execute_result"
    }
   ],
   "source": [
    "%%time\n",
    "\n",
    "'''Training time increases with the number of features'''\n",
    "\n",
    "vqc.fit(X_train, y_train)"
   ]
  },
  {
   "cell_type": "markdown",
   "id": "3c7185a9",
   "metadata": {},
   "source": [
    "## (5) performance evaluation of trained VQC"
   ]
  },
  {
   "cell_type": "code",
   "execution_count": 19,
   "id": "afd4b48d",
   "metadata": {},
   "outputs": [
    {
     "name": "stdout",
     "output_type": "stream",
     "text": [
      "VQC train score: 0.83\n",
      "VQC test score:  0.80\n"
     ]
    }
   ],
   "source": [
    "train_score = vqc.score(X_train, y_train)\n",
    "test_score = vqc.score(X_test, y_test)\n",
    "\n",
    "print(f\"VQC train score: {train_score:.2f}\")\n",
    "print(f\"VQC test score:  {test_score:.2f}\")"
   ]
  },
  {
   "cell_type": "markdown",
   "id": "f474951d",
   "metadata": {},
   "source": [
    "$ $\n",
    "\n",
    "$ $\n",
    "\n",
    "# Classification with Classical Machine Learning (ML) models with [scikit-learn](https://scikit-learn.org/stable/)"
   ]
  },
  {
   "cell_type": "code",
   "execution_count": 20,
   "id": "a1bfb347",
   "metadata": {},
   "outputs": [
    {
     "name": "stdout",
     "output_type": "stream",
     "text": [
      "--------------- LogisticRegression() --------------- \n",
      "\n",
      "ML train score: 0.91\n",
      "ML test score:  0.96\n",
      "\n",
      "--------------- MLPClassifier() --------------- \n",
      "\n",
      "ML train score: 0.92\n",
      "ML test score:  0.94\n",
      "\n",
      "--------------- SVC() --------------- \n",
      "\n",
      "ML train score: 0.94\n",
      "ML test score:  0.94\n",
      "\n",
      "--------------- RandomForestClassifier() --------------- \n",
      "\n",
      "ML train score: 1.00\n",
      "ML test score:  0.98\n",
      "\n",
      "CPU times: user 235 ms, sys: 2.96 ms, total: 237 ms\n",
      "Wall time: 255 ms\n"
     ]
    }
   ],
   "source": [
    "%%time\n",
    "warnings.filterwarnings('ignore')\n",
    "\n",
    "def train_test(ML_model):\n",
    "    print(15*'-', ML_model, 15*'-','\\n')\n",
    "    ML_model.fit(X_train, y_train)                          # fit model\n",
    "    \n",
    "    train_score_ML = ML_model.score(X_train, y_train)       # evaluate model\n",
    "    test_score_ML = ML_model.score(X_test, y_test)\n",
    "    \n",
    "    print(f\"ML train score: {train_score_ML:.2f}\")\n",
    "    print(f\"ML test score:  {test_score_ML:.2f}\")\n",
    "\n",
    "    print()\n",
    "    \n",
    "\n",
    "#----------------------------------------------------------------------------------\n",
    "\n",
    "\n",
    "ML_model = linear_model.LogisticRegression()              # create model instance\n",
    "train_test(ML_model)\n",
    "\n",
    "\n",
    "ML_model = MLPClassifier()                            \n",
    "train_test(ML_model)\n",
    "\n",
    "\n",
    "ML_model = svm.SVC() \n",
    "train_test(ML_model)\n",
    "\n",
    "\n",
    "ML_model = RandomForestClassifier()\n",
    "train_test(ML_model)\n"
   ]
  },
  {
   "cell_type": "code",
   "execution_count": null,
   "id": "d7defb0a",
   "metadata": {},
   "outputs": [],
   "source": []
  },
  {
   "cell_type": "code",
   "execution_count": null,
   "id": "0997130b",
   "metadata": {},
   "outputs": [],
   "source": []
  },
  {
   "cell_type": "code",
   "execution_count": null,
   "id": "3c040ab6",
   "metadata": {},
   "outputs": [],
   "source": []
  },
  {
   "cell_type": "markdown",
   "id": "ba0b9f67",
   "metadata": {},
   "source": [
    "# $ $\n",
    "\n",
    "\n",
    "\n",
    "\n",
    "$ $"
   ]
  }
 ],
 "metadata": {
  "kernelspec": {
   "display_name": "Python 3 (ipykernel)",
   "language": "python",
   "name": "python3"
  },
  "language_info": {
   "codemirror_mode": {
    "name": "ipython",
    "version": 3
   },
   "file_extension": ".py",
   "mimetype": "text/x-python",
   "name": "python",
   "nbconvert_exporter": "python",
   "pygments_lexer": "ipython3",
   "version": "3.10.6"
  }
 },
 "nbformat": 4,
 "nbformat_minor": 5
}
