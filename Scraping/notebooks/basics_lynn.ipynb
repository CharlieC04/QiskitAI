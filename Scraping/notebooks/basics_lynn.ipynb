{
  "cells": [
    {
      "cell_type": "markdown",
      "metadata": {
        "id": "Me7G0WVTHwHg"
      },
      "source": [
        "# Install and Use Cirq"
      ]
    },
    {
      "cell_type": "code",
      "execution_count": 1,
      "metadata": {
        "id": "bd9529db1c0b"
      },
      "outputs": [],
      "source": [
        "try:\n",
        "    import cirq\n",
        "except ImportError:\n",
        "    print(\"installing cirq...\")\n",
        "    %pip install --quiet cirq\n",
        "    print(\"installed cirq.\")"
      ]
    },
    {
      "cell_type": "markdown",
      "source": [
        "# Create & Run a Simple Circuit / NOT"
      ],
      "metadata": {
        "id": "jjTrbV4S87uD"
      }
    },
    {
      "cell_type": "code",
      "source": [
        "import cirq\n",
        "\n",
        "# One Qubit\n",
        "q = cirq.NamedQubit(\"a\")\n",
        "\n",
        "# Create a Circuit A and NOT the qubit, then measure\n",
        "circuit = cirq.Circuit(cirq.X(q), cirq.measure(q, key='measured value')  )\n",
        "print(\"Circuit A:\")\n",
        "print(circuit)\n",
        "print()\n",
        "\n",
        "# Simulate the circuit 10 times\n",
        "simulator = cirq.Simulator()\n",
        "result = simulator.run(circuit, repetitions=10)\n",
        "print(\"Results of Circuit A:\")\n",
        "print(result)"
      ],
      "metadata": {
        "colab": {
          "base_uri": "https://localhost:8080/"
        },
        "id": "3bp2SGTB9BKl",
        "outputId": "1aa8d599-25fc-409b-b52e-497884c6d984"
      },
      "execution_count": 2,
      "outputs": [
        {
          "output_type": "stream",
          "name": "stdout",
          "text": [
            "Circuit A:\n",
            "a: ───X───M('measured value')───\n",
            "\n",
            "Results of Circuit A:\n",
            "measured value=1111111111\n"
          ]
        }
      ]
    },
    {
      "cell_type": "markdown",
      "source": [
        "# Create & Run 2 Qubits / NOT"
      ],
      "metadata": {
        "id": "jvFp8V8OX0Nh"
      }
    },
    {
      "cell_type": "code",
      "source": [
        "# Two Qubits\n",
        "q0,q1 = cirq.LineQubit.range(2)\n",
        "\n",
        "# Create a Circuit B and NOT the qubit, use a controlled-X gate on the qubits, then measure\n",
        "ops = cirq.X(q0), cirq.CNOT(q0,q1),cirq.measure(q0, key='m'),cirq.measure(q1, key='n')\n",
        "circuit1 = cirq.Circuit(ops  )\n",
        "print(\"Circuit B:\")\n",
        "print(circuit1)\n",
        "print()\n",
        "\n",
        "simulator = cirq.Simulator()\n",
        "result = simulator.run(circuit1, repetitions=10)\n",
        "print(\"Results of Circuit B:\")\n",
        "print(result)"
      ],
      "metadata": {
        "colab": {
          "base_uri": "https://localhost:8080/"
        },
        "id": "uZhbNbdZXmA6",
        "outputId": "815d6ac0-a5a5-4a77-fd7f-7f55154b866a"
      },
      "execution_count": 3,
      "outputs": [
        {
          "output_type": "stream",
          "name": "stdout",
          "text": [
            "Circuit B:\n",
            "0: ───X───@───M('m')───\n",
            "          │\n",
            "1: ───────X───M('n')───\n",
            "\n",
            "Results of Circuit B:\n",
            "m=1111111111\n",
            "n=1111111111\n"
          ]
        }
      ]
    },
    {
      "cell_type": "markdown",
      "source": [
        "# Create & Run a Circuit / H"
      ],
      "metadata": {
        "id": "Hp6yLDDYl3Vt"
      }
    },
    {
      "cell_type": "code",
      "source": [
        "qubit = cirq.NamedQubit(\"a\")\n",
        "\n",
        "# Create a circuit which puts a qubit into superposition using H, then measure\n",
        "circuit = cirq.Circuit(cirq.H(qubit), cirq.measure(qubit, key='m')  )\n",
        "print(\"Circuit C:\")\n",
        "print(circuit)\n",
        "\n",
        "# Simulate the circuit 10 times\n",
        "simulator = cirq.Simulator()\n",
        "result = simulator.run(circuit, repetitions=10)\n",
        "print(\"Results:\")\n",
        "print(result)\n"
      ],
      "metadata": {
        "colab": {
          "base_uri": "https://localhost:8080/"
        },
        "id": "tUPMOZy5kx9Z",
        "outputId": "e0b10b3c-3cec-4bb9-abe6-c549256f0f1b"
      },
      "execution_count": 4,
      "outputs": [
        {
          "output_type": "stream",
          "name": "stdout",
          "text": [
            "Circuit C:\n",
            "a: ───H───M('m')───\n",
            "Results:\n",
            "m=0001111010\n"
          ]
        }
      ]
    },
    {
      "cell_type": "markdown",
      "source": [
        "# Run and Plot Results"
      ],
      "metadata": {
        "id": "VjXhqiDy3AfX"
      }
    },
    {
      "cell_type": "code",
      "source": [
        "import matplotlib.pyplot as plt\n",
        "\n",
        "qubit = cirq.NamedQubit(\"a\")\n",
        "\n",
        "# Create a circuit which puts a qubit into superposition using H, then measure\n",
        "ops = [cirq.H(qubit), cirq.measure(qubit, key='m')]\n",
        "circuit = cirq.Circuit(ops)\n",
        "print(\"Circuit C:\")\n",
        "print(circuit)\n",
        "\n",
        "# Simulate the circuit 100 times, plot results\n",
        "result = cirq.Simulator().run(circuit, repetitions=100)\n",
        "_ = cirq.vis.plot_state_histogram(result, plt.subplot())\n"
      ],
      "metadata": {
        "colab": {
          "base_uri": "https://localhost:8080/",
          "height": 331
        },
        "id": "xCx0xctn3DKQ",
        "outputId": "c6f0d7ed-8847-4c29-d120-4646c6f83dc7"
      },
      "execution_count": 5,
      "outputs": [
        {
          "output_type": "stream",
          "name": "stdout",
          "text": [
            "Circuit C:\n",
            "a: ───H───M('m')───\n"
          ]
        },
        {
          "output_type": "display_data",
          "data": {
            "text/plain": [
              "<Figure size 432x288 with 1 Axes>"
            ],
            "image/png": "[encoded data removed]"
          },
          "metadata": {
            "needs_background": "light"
          }
        }
      ]
    },
    {
      "cell_type": "markdown",
      "source": [
        "# Use Multiple Gates"
      ],
      "metadata": {
        "id": "wmHg6ZfV4vK3"
      }
    },
    {
      "cell_type": "code",
      "source": [
        "a = cirq.NamedQubit(\"a\")\n",
        "b = cirq.NamedQubit(\"b\")\n",
        "c = cirq.NamedQubit(\"c\")\n",
        "\n",
        "# Create a circuit which puts qubits into superposition using H, \n",
        "# Then entangle two qubits, then measure\n",
        "ops = [cirq.H(a), cirq.H(b), cirq.CNOT(b,c), cirq.H(b),cirq.measure(b)]\n",
        "circuit = cirq.Circuit(ops) \n",
        "print(\"Circuit D:\\n\")\n",
        "print(circuit) \n",
        "\n",
        "# Simulate the circuit 100 times, plot results\n",
        "result = cirq.Simulator().run(circuit, repetitions=100)\n",
        "_ = cirq.vis.plot_state_histogram(result, plt.subplot())\n"
      ],
      "metadata": {
        "colab": {
          "base_uri": "https://localhost:8080/",
          "height": 420
        },
        "id": "cJHw-zrQ4yVw",
        "outputId": "6ede7937-3f5f-4a0b-d7b4-b7ddc8fb5b9b"
      },
      "execution_count": 6,
      "outputs": [
        {
          "output_type": "stream",
          "name": "stdout",
          "text": [
            "Circuit D:\n",
            "\n",
            "a: ───H───────────────\n",
            "\n",
            "b: ───H───@───H───M───\n",
            "          │\n",
            "c: ───────X───────────\n"
          ]
        },
        {
          "output_type": "display_data",
          "data": {
            "text/plain": [
              "<Figure size 432x288 with 1 Axes>"
            ],
            "image/png": "[encoded data removed]"
          },
          "metadata": {
            "needs_background": "light"
          }
        }
      ]
    }
  ],
  "metadata": {
    "colab": {
      "collapsed_sections": [],
      "name": "basics_lynn.ipynb",
      "provenance": []
    },
    "kernelspec": {
      "display_name": "Python 3",
      "name": "python3"
    }
  },
  "nbformat": 4,
  "nbformat_minor": 0
}