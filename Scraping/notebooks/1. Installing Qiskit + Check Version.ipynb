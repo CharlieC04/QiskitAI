{
 "cells": [
  {
   "cell_type": "markdown",
   "metadata": {},
   "source": [
    "## Qiskit installation and test\n",
    "\n",
    "- [Check your system](#check)\n",
    "- [Install qiskit](#install)\n",
    "- [Tips](#tips)\n",
    "- [Execute an example quantum program](#test)"
   ]
  },
  {
   "cell_type": "markdown",
   "metadata": {},
   "source": [
    "<hr id=\"check\">\n",
    "\n",
    "### Check your system\n",
    "\n",
    "Check your system, if Qiskit has already been installed:"
   ]
  },
  {
   "cell_type": "code",
   "execution_count": 1,
   "metadata": {},
   "outputs": [
    {
     "name": "stdout",
     "output_type": "stream",
     "text": [
      "The version of Qiskit is 0.23.0\n",
      "\n",
      "The version of each component:\n",
      "qiskit-terra -> 0.16.0\n",
      "qiskit-aer -> 0.7.0\n",
      "qiskit-ignis -> 0.5.0\n",
      "qiskit-ibmq-provider -> 0.11.0\n",
      "qiskit-aqua -> 0.8.0\n",
      "qiskit -> 0.23.0\n"
     ]
    }
   ],
   "source": [
    "import qiskit\n",
    "versions = qiskit.__qiskit_version__\n",
    "print(\"The version of Qiskit is\",versions['qiskit'])\n",
    "print()\n",
    "print(\"The version of each component:\")\n",
    "for key in versions:\n",
    "    print(key,\"->\",versions[key])"
   ]
  },
  {
   "cell_type": "markdown",
   "metadata": {},
   "source": [
    "**You should be able to see the version number of any library that is already installed in your system.**"
   ]
  },
  {
   "cell_type": "markdown",
   "metadata": {},
   "source": [
    "<hr id=\"install\">\n",
    "\n",
    "### Install qiskit\n",
    "\n",
    "(If you are an experienced user, visit this link: https://qiskit.org/documentation/install.html)\n",
    "\n",
    "You can install Qiskit by executing the following cell:"
   ]
  },
  {
   "cell_type": "code",
   "execution_count": 2,
   "metadata": {},
   "outputs": [
    {
     "name": "stdout",
     "output_type": "stream",
     "text": [
      "Requirement already satisfied: qiskit[visualization] in c:\\users\\aarbs\\anaconda3\\envs\\virtual_environment_name\\lib\\site-packages (0.23.0)\n",
      "Requirement already satisfied: qiskit-aer==0.7.0 in c:\\users\\aarbs\\anaconda3\\envs\\virtual_environment_name\\lib\\site-packages (from qiskit[visualization]) (0.7.0)\n",
      "Requirement already satisfied: qiskit-ignis==0.5.0 in c:\\users\\aarbs\\anaconda3\\envs\\virtual_environment_name\\lib\\site-packages (from qiskit[visualization]) (0.5.0)\n",
      "Requirement already satisfied: qiskit-terra==0.16.0 in c:\\users\\aarbs\\anaconda3\\envs\\virtual_environment_name\\lib\\site-packages (from qiskit[visualization]) (0.16.0)\n",
      "Requirement already satisfied: qiskit-aqua==0.8.0 in c:\\users\\aarbs\\anaconda3\\envs\\virtual_environment_name\\lib\\site-packages (from qiskit[visualization]) (0.8.0)\n",
      "Requirement already satisfied: qiskit-ibmq-provider==0.11.0 in c:\\users\\aarbs\\anaconda3\\envs\\virtual_environment_name\\lib\\site-packages (from qiskit[visualization]) (0.11.0)\n",
      "Requirement already satisfied: pydot; extra == \"visualization\" in c:\\users\\aarbs\\anaconda3\\envs\\virtual_environment_name\\lib\\site-packages (from qiskit[visualization]) (1.4.1)\n",
      "Requirement already satisfied: ipywidgets>=7.3.0; extra == \"visualization\" in c:\\users\\aarbs\\anaconda3\\envs\\virtual_environment_name\\lib\\site-packages (from qiskit[visualization]) (7.5.1)\n",
      "Requirement already satisfied: seaborn>=0.9.0; extra == \"visualization\" in c:\\users\\aarbs\\anaconda3\\envs\\virtual_environment_name\\lib\\site-packages (from qiskit[visualization]) (0.10.1)\n",
      "Requirement already satisfied: matplotlib>=2.1; extra == \"visualization\" in c:\\users\\aarbs\\anaconda3\\envs\\virtual_environment_name\\lib\\site-packages (from qiskit[visualization]) (3.1.3)\n",
      "Requirement already satisfied: pylatexenc>=1.4; extra == \"visualization\" in c:\\users\\aarbs\\anaconda3\\envs\\virtual_environment_name\\lib\\site-packages (from qiskit[visualization]) (2.8)\n",
      "Requirement already satisfied: pygments>=2.4; extra == \"visualization\" in c:\\users\\aarbs\\anaconda3\\envs\\virtual_environment_name\\lib\\site-packages (from qiskit[visualization]) (2.6.1)\n",
      "Requirement already satisfied: pillow>=4.2.1; extra == \"visualization\" in c:\\users\\aarbs\\anaconda3\\envs\\virtual_environment_name\\lib\\site-packages (from qiskit[visualization]) (7.1.2)\n",
      "Requirement already satisfied: numpy>=1.16.3 in c:\\users\\aarbs\\anaconda3\\envs\\virtual_environment_name\\lib\\site-packages (from qiskit-aer==0.7.0->qiskit[visualization]) (1.18.1)\n",
      "Requirement already satisfied: cython>=0.27.1 in c:\\users\\aarbs\\anaconda3\\envs\\virtual_environment_name\\lib\\site-packages (from qiskit-aer==0.7.0->qiskit[visualization]) (0.29.17)\n",
      "Requirement already satisfied: pybind11>=2.4 in c:\\users\\aarbs\\anaconda3\\envs\\virtual_environment_name\\lib\\site-packages (from qiskit-aer==0.7.0->qiskit[visualization]) (2.6.0)\n",
      "Requirement already satisfied: scipy>=1.0 in c:\\users\\aarbs\\anaconda3\\envs\\virtual_environment_name\\lib\\site-packages (from qiskit-aer==0.7.0->qiskit[visualization]) (1.4.1)\n",
      "Requirement already satisfied: setuptools>=40.1.0 in c:\\users\\aarbs\\anaconda3\\envs\\virtual_environment_name\\lib\\site-packages (from qiskit-ignis==0.5.0->qiskit[visualization]) (47.1.1.post20200604)\n",
      "Requirement already satisfied: scikit-learn>=0.17 in c:\\users\\aarbs\\anaconda3\\envs\\virtual_environment_name\\lib\\site-packages (from qiskit-ignis==0.5.0->qiskit[visualization]) (0.22.1)\n",
      "Requirement already satisfied: networkx>=2.2 in c:\\users\\aarbs\\anaconda3\\envs\\virtual_environment_name\\lib\\site-packages (from qiskit-terra==0.16.0->qiskit[visualization]) (2.4)\n",
      "Requirement already satisfied: jsonschema>=2.6 in c:\\users\\aarbs\\anaconda3\\envs\\virtual_environment_name\\lib\\site-packages (from qiskit-terra==0.16.0->qiskit[visualization]) (3.2.0)\n",
      "Requirement already satisfied: python-constraint>=1.4 in c:\\users\\aarbs\\anaconda3\\envs\\virtual_environment_name\\lib\\site-packages (from qiskit-terra==0.16.0->qiskit[visualization]) (1.4.0)\n",
      "Requirement already satisfied: fastjsonschema>=2.10 in c:\\users\\aarbs\\anaconda3\\envs\\virtual_environment_name\\lib\\site-packages (from qiskit-terra==0.16.0->qiskit[visualization]) (2.14.5)\n",
      "Requirement already satisfied: dill>=0.3 in c:\\users\\aarbs\\anaconda3\\envs\\virtual_environment_name\\lib\\site-packages (from qiskit-terra==0.16.0->qiskit[visualization]) (0.3.3)\n",
      "Requirement already satisfied: sympy>=1.3 in c:\\users\\aarbs\\anaconda3\\envs\\virtual_environment_name\\lib\\site-packages (from qiskit-terra==0.16.0->qiskit[visualization]) (1.5.1)\n",
      "Requirement already satisfied: python-dateutil>=2.8.0 in c:\\users\\aarbs\\anaconda3\\envs\\virtual_environment_name\\lib\\site-packages (from qiskit-terra==0.16.0->qiskit[visualization]) (2.8.1)\n",
      "Requirement already satisfied: psutil>=5 in c:\\users\\aarbs\\anaconda3\\envs\\virtual_environment_name\\lib\\site-packages (from qiskit-terra==0.16.0->qiskit[visualization]) (5.7.0)\n",
      "Requirement already satisfied: ply>=3.10 in c:\\users\\aarbs\\anaconda3\\envs\\virtual_environment_name\\lib\\site-packages (from qiskit-terra==0.16.0->qiskit[visualization]) (3.11)\n",
      "Requirement already satisfied: retworkx>=0.5.0 in c:\\users\\aarbs\\anaconda3\\envs\\virtual_environment_name\\lib\\site-packages (from qiskit-terra==0.16.0->qiskit[visualization]) (0.5.0)\n",
      "Requirement already satisfied: yfinance in c:\\users\\aarbs\\anaconda3\\envs\\virtual_environment_name\\lib\\site-packages (from qiskit-aqua==0.8.0->qiskit[visualization]) (0.1.55)\n",
      "Requirement already satisfied: pandas in c:\\users\\aarbs\\anaconda3\\envs\\virtual_environment_name\\lib\\site-packages (from qiskit-aqua==0.8.0->qiskit[visualization]) (1.0.3)\n",
      "Requirement already satisfied: docplex in c:\\users\\aarbs\\anaconda3\\envs\\virtual_environment_name\\lib\\site-packages (from qiskit-aqua==0.8.0->qiskit[visualization]) (2.16.196)\n",
      "Requirement already satisfied: dlx in c:\\users\\aarbs\\anaconda3\\envs\\virtual_environment_name\\lib\\site-packages (from qiskit-aqua==0.8.0->qiskit[visualization]) (1.0.4)\n",
      "Requirement already satisfied: h5py in c:\\users\\aarbs\\anaconda3\\envs\\virtual_environment_name\\lib\\site-packages (from qiskit-aqua==0.8.0->qiskit[visualization]) (2.10.0)\n",
      "Requirement already satisfied: quandl in c:\\users\\aarbs\\anaconda3\\envs\\virtual_environment_name\\lib\\site-packages (from qiskit-aqua==0.8.0->qiskit[visualization]) (3.5.3)\n",
      "Requirement already satisfied: fastdtw in c:\\users\\aarbs\\anaconda3\\envs\\virtual_environment_name\\lib\\site-packages (from qiskit-aqua==0.8.0->qiskit[visualization]) (0.3.4)\n",
      "Requirement already satisfied: requests>=2.19 in c:\\users\\aarbs\\anaconda3\\envs\\virtual_environment_name\\lib\\site-packages (from qiskit-ibmq-provider==0.11.0->qiskit[visualization]) (2.23.0)\n",
      "Requirement already satisfied: nest-asyncio!=1.1.0,>=1.0.0 in c:\\users\\aarbs\\anaconda3\\envs\\virtual_environment_name\\lib\\site-packages (from qiskit-ibmq-provider==0.11.0->qiskit[visualization]) (1.4.2)\n",
      "Requirement already satisfied: websockets>=8 in c:\\users\\aarbs\\anaconda3\\envs\\virtual_environment_name\\lib\\site-packages (from qiskit-ibmq-provider==0.11.0->qiskit[visualization]) (8.1)\n",
      "Requirement already satisfied: urllib3>=1.21.1 in c:\\users\\aarbs\\anaconda3\\envs\\virtual_environment_name\\lib\\site-packages (from qiskit-ibmq-provider==0.11.0->qiskit[visualization]) (1.25.8)\n",
      "Requirement already satisfied: requests-ntlm>=1.1.0 in c:\\users\\aarbs\\anaconda3\\envs\\virtual_environment_name\\lib\\site-packages (from qiskit-ibmq-provider==0.11.0->qiskit[visualization]) (1.1.0)\n",
      "Requirement already satisfied: pyparsing>=2.1.4 in c:\\users\\aarbs\\anaconda3\\envs\\virtual_environment_name\\lib\\site-packages (from pydot; extra == \"visualization\"->qiskit[visualization]) (2.4.7)\n",
      "Requirement already satisfied: nbformat>=4.2.0 in c:\\users\\aarbs\\anaconda3\\envs\\virtual_environment_name\\lib\\site-packages (from ipywidgets>=7.3.0; extra == \"visualization\"->qiskit[visualization]) (5.0.6)\n",
      "Requirement already satisfied: traitlets>=4.3.1 in c:\\users\\aarbs\\anaconda3\\envs\\virtual_environment_name\\lib\\site-packages (from ipywidgets>=7.3.0; extra == \"visualization\"->qiskit[visualization]) (4.3.3)\n",
      "Requirement already satisfied: ipykernel>=4.5.1 in c:\\users\\aarbs\\anaconda3\\envs\\virtual_environment_name\\lib\\site-packages (from ipywidgets>=7.3.0; extra == \"visualization\"->qiskit[visualization]) (5.1.4)\n",
      "Requirement already satisfied: widgetsnbextension~=3.5.0 in c:\\users\\aarbs\\anaconda3\\envs\\virtual_environment_name\\lib\\site-packages (from ipywidgets>=7.3.0; extra == \"visualization\"->qiskit[visualization]) (3.5.1)\n",
      "Requirement already satisfied: ipython>=4.0.0; python_version >= \"3.3\" in c:\\users\\aarbs\\anaconda3\\envs\\virtual_environment_name\\lib\\site-packages (from ipywidgets>=7.3.0; extra == \"visualization\"->qiskit[visualization]) (7.13.0)\n",
      "Requirement already satisfied: kiwisolver>=1.0.1 in c:\\users\\aarbs\\anaconda3\\envs\\virtual_environment_name\\lib\\site-packages (from matplotlib>=2.1; extra == \"visualization\"->qiskit[visualization]) (1.2.0)\n",
      "Requirement already satisfied: cycler>=0.10 in c:\\users\\aarbs\\anaconda3\\envs\\virtual_environment_name\\lib\\site-packages (from matplotlib>=2.1; extra == \"visualization\"->qiskit[visualization]) (0.10.0)\n",
      "Requirement already satisfied: joblib>=0.11 in c:\\users\\aarbs\\anaconda3\\envs\\virtual_environment_name\\lib\\site-packages (from scikit-learn>=0.17->qiskit-ignis==0.5.0->qiskit[visualization]) (0.15.1)\n",
      "Requirement already satisfied: decorator>=4.3.0 in c:\\users\\aarbs\\anaconda3\\envs\\virtual_environment_name\\lib\\site-packages (from networkx>=2.2->qiskit-terra==0.16.0->qiskit[visualization]) (4.4.2)\n",
      "Requirement already satisfied: attrs>=17.4.0 in c:\\users\\aarbs\\anaconda3\\envs\\virtual_environment_name\\lib\\site-packages (from jsonschema>=2.6->qiskit-terra==0.16.0->qiskit[visualization]) (19.3.0)\n",
      "Requirement already satisfied: six>=1.11.0 in c:\\users\\aarbs\\anaconda3\\envs\\virtual_environment_name\\lib\\site-packages (from jsonschema>=2.6->qiskit-terra==0.16.0->qiskit[visualization]) (1.15.0)\n",
      "Requirement already satisfied: pyrsistent>=0.14.0 in c:\\users\\aarbs\\anaconda3\\envs\\virtual_environment_name\\lib\\site-packages (from jsonschema>=2.6->qiskit-terra==0.16.0->qiskit[visualization]) (0.16.0)\n",
      "Requirement already satisfied: mpmath>=0.19 in c:\\users\\aarbs\\anaconda3\\envs\\virtual_environment_name\\lib\\site-packages (from sympy>=1.3->qiskit-terra==0.16.0->qiskit[visualization]) (1.1.0)\n",
      "Requirement already satisfied: lxml>=4.5.1 in c:\\users\\aarbs\\anaconda3\\envs\\virtual_environment_name\\lib\\site-packages (from yfinance->qiskit-aqua==0.8.0->qiskit[visualization]) (4.5.1)\n",
      "Requirement already satisfied: multitasking>=0.0.7 in c:\\users\\aarbs\\anaconda3\\envs\\virtual_environment_name\\lib\\site-packages (from yfinance->qiskit-aqua==0.8.0->qiskit[visualization]) (0.0.9)\n",
      "Requirement already satisfied: pytz>=2017.2 in c:\\users\\aarbs\\anaconda3\\envs\\virtual_environment_name\\lib\\site-packages (from pandas->qiskit-aqua==0.8.0->qiskit[visualization]) (2020.1)\n",
      "Requirement already satisfied: more-itertools in c:\\users\\aarbs\\anaconda3\\envs\\virtual_environment_name\\lib\\site-packages (from quandl->qiskit-aqua==0.8.0->qiskit[visualization]) (8.3.0)\n",
      "Requirement already satisfied: inflection>=0.3.1 in c:\\users\\aarbs\\anaconda3\\envs\\virtual_environment_name\\lib\\site-packages (from quandl->qiskit-aqua==0.8.0->qiskit[visualization]) (0.5.1)\n",
      "Requirement already satisfied: chardet<4,>=3.0.2 in c:\\users\\aarbs\\anaconda3\\envs\\virtual_environment_name\\lib\\site-packages (from requests>=2.19->qiskit-ibmq-provider==0.11.0->qiskit[visualization]) (3.0.4)\n",
      "Requirement already satisfied: certifi>=2017.4.17 in c:\\users\\aarbs\\anaconda3\\envs\\virtual_environment_name\\lib\\site-packages (from requests>=2.19->qiskit-ibmq-provider==0.11.0->qiskit[visualization]) (2020.4.5.1)\n",
      "Requirement already satisfied: idna<3,>=2.5 in c:\\users\\aarbs\\anaconda3\\envs\\virtual_environment_name\\lib\\site-packages (from requests>=2.19->qiskit-ibmq-provider==0.11.0->qiskit[visualization]) (2.9)\n",
      "Requirement already satisfied: ntlm-auth>=1.0.2 in c:\\users\\aarbs\\anaconda3\\envs\\virtual_environment_name\\lib\\site-packages (from requests-ntlm>=1.1.0->qiskit-ibmq-provider==0.11.0->qiskit[visualization]) (1.5.0)\n",
      "Requirement already satisfied: cryptography>=1.3 in c:\\users\\aarbs\\anaconda3\\envs\\virtual_environment_name\\lib\\site-packages (from requests-ntlm>=1.1.0->qiskit-ibmq-provider==0.11.0->qiskit[visualization]) (2.9.2)\n",
      "Requirement already satisfied: ipython-genutils in c:\\users\\aarbs\\anaconda3\\envs\\virtual_environment_name\\lib\\site-packages (from nbformat>=4.2.0->ipywidgets>=7.3.0; extra == \"visualization\"->qiskit[visualization]) (0.2.0)\n",
      "Requirement already satisfied: jupyter-core in c:\\users\\aarbs\\anaconda3\\envs\\virtual_environment_name\\lib\\site-packages (from nbformat>=4.2.0->ipywidgets>=7.3.0; extra == \"visualization\"->qiskit[visualization]) (4.6.3)\n",
      "Requirement already satisfied: tornado>=4.2 in c:\\users\\aarbs\\anaconda3\\envs\\virtual_environment_name\\lib\\site-packages (from ipykernel>=4.5.1->ipywidgets>=7.3.0; extra == \"visualization\"->qiskit[visualization]) (6.0.4)\n",
      "Requirement already satisfied: jupyter-client in c:\\users\\aarbs\\anaconda3\\envs\\virtual_environment_name\\lib\\site-packages (from ipykernel>=4.5.1->ipywidgets>=7.3.0; extra == \"visualization\"->qiskit[visualization]) (6.1.3)\n",
      "Requirement already satisfied: notebook>=4.4.1 in c:\\users\\aarbs\\anaconda3\\envs\\virtual_environment_name\\lib\\site-packages (from widgetsnbextension~=3.5.0->ipywidgets>=7.3.0; extra == \"visualization\"->qiskit[visualization]) (6.0.3)\n",
      "Requirement already satisfied: jedi>=0.10 in c:\\users\\aarbs\\anaconda3\\envs\\virtual_environment_name\\lib\\site-packages (from ipython>=4.0.0; python_version >= \"3.3\"->ipywidgets>=7.3.0; extra == \"visualization\"->qiskit[visualization]) (0.15.2)\n",
      "Requirement already satisfied: pickleshare in c:\\users\\aarbs\\anaconda3\\envs\\virtual_environment_name\\lib\\site-packages (from ipython>=4.0.0; python_version >= \"3.3\"->ipywidgets>=7.3.0; extra == \"visualization\"->qiskit[visualization]) (0.7.5)\n",
      "Requirement already satisfied: prompt-toolkit!=3.0.0,!=3.0.1,<3.1.0,>=2.0.0 in c:\\users\\aarbs\\anaconda3\\envs\\virtual_environment_name\\lib\\site-packages (from ipython>=4.0.0; python_version >= \"3.3\"->ipywidgets>=7.3.0; extra == \"visualization\"->qiskit[visualization]) (3.0.5)\n",
      "Requirement already satisfied: backcall in c:\\users\\aarbs\\anaconda3\\envs\\virtual_environment_name\\lib\\site-packages (from ipython>=4.0.0; python_version >= \"3.3\"->ipywidgets>=7.3.0; extra == \"visualization\"->qiskit[visualization]) (0.1.0)\n",
      "Requirement already satisfied: colorama; sys_platform == \"win32\" in c:\\users\\aarbs\\appdata\\roaming\\python\\python38\\site-packages (from ipython>=4.0.0; python_version >= \"3.3\"->ipywidgets>=7.3.0; extra == \"visualization\"->qiskit[visualization]) (0.4.3)\n",
      "Requirement already satisfied: cffi!=1.11.3,>=1.8 in c:\\users\\aarbs\\anaconda3\\envs\\virtual_environment_name\\lib\\site-packages (from cryptography>=1.3->requests-ntlm>=1.1.0->qiskit-ibmq-provider==0.11.0->qiskit[visualization]) (1.14.0)\n",
      "Requirement already satisfied: pywin32>=1.0; sys_platform == \"win32\" in c:\\users\\aarbs\\anaconda3\\envs\\virtual_environment_name\\lib\\site-packages (from jupyter-core->nbformat>=4.2.0->ipywidgets>=7.3.0; extra == \"visualization\"->qiskit[visualization]) (227)\n",
      "Requirement already satisfied: pyzmq>=13 in c:\\users\\aarbs\\anaconda3\\envs\\virtual_environment_name\\lib\\site-packages (from jupyter-client->ipykernel>=4.5.1->ipywidgets>=7.3.0; extra == \"visualization\"->qiskit[visualization]) (18.1.1)\n",
      "Requirement already satisfied: terminado>=0.8.1 in c:\\users\\aarbs\\anaconda3\\envs\\virtual_environment_name\\lib\\site-packages (from notebook>=4.4.1->widgetsnbextension~=3.5.0->ipywidgets>=7.3.0; extra == \"visualization\"->qiskit[visualization]) (0.8.3)\n",
      "Requirement already satisfied: nbconvert in c:\\users\\aarbs\\anaconda3\\envs\\virtual_environment_name\\lib\\site-packages (from notebook>=4.4.1->widgetsnbextension~=3.5.0->ipywidgets>=7.3.0; extra == \"visualization\"->qiskit[visualization]) (5.6.1)\n",
      "Requirement already satisfied: jinja2 in c:\\users\\aarbs\\anaconda3\\envs\\virtual_environment_name\\lib\\site-packages (from notebook>=4.4.1->widgetsnbextension~=3.5.0->ipywidgets>=7.3.0; extra == \"visualization\"->qiskit[visualization]) (2.11.2)\n",
      "Requirement already satisfied: Send2Trash in c:\\users\\aarbs\\anaconda3\\envs\\virtual_environment_name\\lib\\site-packages (from notebook>=4.4.1->widgetsnbextension~=3.5.0->ipywidgets>=7.3.0; extra == \"visualization\"->qiskit[visualization]) (1.5.0)\n",
      "Requirement already satisfied: prometheus-client in c:\\users\\aarbs\\anaconda3\\envs\\virtual_environment_name\\lib\\site-packages (from notebook>=4.4.1->widgetsnbextension~=3.5.0->ipywidgets>=7.3.0; extra == \"visualization\"->qiskit[visualization]) (0.7.1)\n",
      "Requirement already satisfied: parso>=0.5.2 in c:\\users\\aarbs\\anaconda3\\envs\\virtual_environment_name\\lib\\site-packages (from jedi>=0.10->ipython>=4.0.0; python_version >= \"3.3\"->ipywidgets>=7.3.0; extra == \"visualization\"->qiskit[visualization]) (0.5.2)\n",
      "Requirement already satisfied: wcwidth in c:\\users\\aarbs\\anaconda3\\envs\\virtual_environment_name\\lib\\site-packages (from prompt-toolkit!=3.0.0,!=3.0.1,<3.1.0,>=2.0.0->ipython>=4.0.0; python_version >= \"3.3\"->ipywidgets>=7.3.0; extra == \"visualization\"->qiskit[visualization]) (0.1.9)\n",
      "Requirement already satisfied: pycparser in c:\\users\\aarbs\\anaconda3\\envs\\virtual_environment_name\\lib\\site-packages (from cffi!=1.11.3,>=1.8->cryptography>=1.3->requests-ntlm>=1.1.0->qiskit-ibmq-provider==0.11.0->qiskit[visualization]) (2.20)\n",
      "Requirement already satisfied: bleach in c:\\users\\aarbs\\anaconda3\\envs\\virtual_environment_name\\lib\\site-packages (from nbconvert->notebook>=4.4.1->widgetsnbextension~=3.5.0->ipywidgets>=7.3.0; extra == \"visualization\"->qiskit[visualization]) (3.1.4)\n",
      "Requirement already satisfied: pandocfilters>=1.4.1 in c:\\users\\aarbs\\anaconda3\\envs\\virtual_environment_name\\lib\\site-packages (from nbconvert->notebook>=4.4.1->widgetsnbextension~=3.5.0->ipywidgets>=7.3.0; extra == \"visualization\"->qiskit[visualization]) (1.4.2)\n",
      "Requirement already satisfied: mistune<2,>=0.8.1 in c:\\users\\aarbs\\anaconda3\\envs\\virtual_environment_name\\lib\\site-packages (from nbconvert->notebook>=4.4.1->widgetsnbextension~=3.5.0->ipywidgets>=7.3.0; extra == \"visualization\"->qiskit[visualization]) (0.8.4)\n",
      "Requirement already satisfied: testpath in c:\\users\\aarbs\\anaconda3\\envs\\virtual_environment_name\\lib\\site-packages (from nbconvert->notebook>=4.4.1->widgetsnbextension~=3.5.0->ipywidgets>=7.3.0; extra == \"visualization\"->qiskit[visualization]) (0.4.4)\n",
      "Requirement already satisfied: defusedxml in c:\\users\\aarbs\\anaconda3\\envs\\virtual_environment_name\\lib\\site-packages (from nbconvert->notebook>=4.4.1->widgetsnbextension~=3.5.0->ipywidgets>=7.3.0; extra == \"visualization\"->qiskit[visualization]) (0.6.0)\n",
      "Requirement already satisfied: entrypoints>=0.2.2 in c:\\users\\aarbs\\anaconda3\\envs\\virtual_environment_name\\lib\\site-packages (from nbconvert->notebook>=4.4.1->widgetsnbextension~=3.5.0->ipywidgets>=7.3.0; extra == \"visualization\"->qiskit[visualization]) (0.3)\n",
      "Requirement already satisfied: MarkupSafe>=0.23 in c:\\users\\aarbs\\anaconda3\\envs\\virtual_environment_name\\lib\\site-packages (from jinja2->notebook>=4.4.1->widgetsnbextension~=3.5.0->ipywidgets>=7.3.0; extra == \"visualization\"->qiskit[visualization]) (1.1.1)\n",
      "Requirement already satisfied: webencodings in c:\\users\\aarbs\\anaconda3\\envs\\virtual_environment_name\\lib\\site-packages (from bleach->nbconvert->notebook>=4.4.1->widgetsnbextension~=3.5.0->ipywidgets>=7.3.0; extra == \"visualization\"->qiskit[visualization]) (0.5.1)\n"
     ]
    }
   ],
   "source": [
    "!pip install qiskit[visualization] --user"
   ]
  },
  {
   "cell_type": "markdown",
   "metadata": {},
   "source": [
    "__*Restart the kernel*__ (check \"Kernel\" menu) to apply the changes to the current notebook."
   ]
  },
  {
   "cell_type": "markdown",
   "metadata": {},
   "source": [
    "<hr id=\"tips\">\n",
    "\n",
    "### Tips\n",
    "\n",
    "_Any terminal/shell command can be executed in the notebook cells by putting exclamation mark (!) to the beginning of the command._\n",
    "\n",
    "_$\\rightarrow$ For updating Qiskit version, execute the following command on a code cell_\n",
    "\n",
    "    !pip install -U qiskit --user\n",
    "    \n",
    "_$\\rightarrow$ For uninstall Qiskit, execute the following command on a code cell_\n",
    "\n",
    "    !pip uninstall qiskit"
   ]
  },
  {
   "cell_type": "code",
   "execution_count": null,
   "metadata": {},
   "outputs": [],
   "source": [
    "#!pip install -U qiskit --user\n",
    "#!pip uninstall qiskit"
   ]
  },
  {
   "cell_type": "markdown",
   "metadata": {},
   "source": [
    "<hr id=\"test\">\n",
    "\n",
    "### Execute an example quantum program\n"
   ]
  },
  {
   "cell_type": "markdown",
   "metadata": {},
   "source": [
    "1) Create a quantum circuit"
   ]
  },
  {
   "cell_type": "code",
   "execution_count": 3,
   "metadata": {},
   "outputs": [
    {
     "name": "stdout",
     "output_type": "stream",
     "text": [
      "The execution of the cell was completed, and the circuit was created :)\n"
     ]
    }
   ],
   "source": [
    "# import the objects from qiskit\n",
    "from qiskit import QuantumRegister, ClassicalRegister, QuantumCircuit, execute, Aer\n",
    "from random import randrange\n",
    "\n",
    "# create a quantum circuit and its register objects\n",
    "qreg = QuantumRegister(2) # quantum register with two quantum bits\n",
    "creg = ClassicalRegister(2) # classical register with two classical bit\n",
    "circuit = QuantumCircuit(qreg,creg) # quantum circuit composed by a quantum register and a classical register\n",
    "\n",
    "# apply a Hadamard gate to the first qubit\n",
    "circuit.h(qreg[0])\n",
    "\n",
    "# set the second qubit to state |1>\n",
    "circuit.x(qreg[1])\n",
    "\n",
    "# apply CNOT(first_qubit,second_qubit)\n",
    "circuit.cx(qreg[0],qreg[1])\n",
    "\n",
    "# measure the both qubits\n",
    "circuit.measure(qreg,creg)\n",
    "\n",
    "print(\"The execution of the cell was completed, and the circuit was created :)\")"
   ]
  },
  {
   "cell_type": "markdown",
   "metadata": {},
   "source": [
    "2) Draw the circuit\n",
    "\n",
    "_Run the cell once more if the figure is not shown_"
   ]
  },
  {
   "cell_type": "code",
   "execution_count": 4,
   "metadata": {},
   "outputs": [
    {
     "data": {
      "image/png": "[encoded data removed]",
      "text/plain": [
       "<Figure size 340.233x204.68 with 1 Axes>"
      ]
     },
     "execution_count": 4,
     "metadata": {},
     "output_type": "execute_result"
    }
   ],
   "source": [
    "# draw circuit \n",
    "circuit.draw(output='mpl')\n",
    "\n",
    "# the output will be a \"matplotlib.Figure\" object"
   ]
  },
  {
   "cell_type": "markdown",
   "metadata": {},
   "source": [
    "3) Execute the circuit 1024 times in the local simulator and print the observed the outcomes"
   ]
  },
  {
   "cell_type": "code",
   "execution_count": 5,
   "metadata": {},
   "outputs": [
    {
     "name": "stdout",
     "output_type": "stream",
     "text": [
      "{'01': 493, '10': 531}\n"
     ]
    }
   ],
   "source": [
    "## execute the circuit 1024 times\n",
    "job = execute(circuit,Aer.get_backend('qasm_simulator'),shots=1024)\n",
    "# get the result\n",
    "counts = job.result().get_counts(circuit)\n",
    "print(counts)"
   ]
  },
  {
   "cell_type": "code",
   "execution_count": null,
   "metadata": {},
   "outputs": [],
   "source": []
  }
 ],
 "metadata": {
  "kernelspec": {
   "display_name": "Python 3",
   "language": "python",
   "name": "python3"
  },
  "language_info": {
   "codemirror_mode": {
    "name": "ipython",
    "version": 3
   },
   "file_extension": ".py",
   "mimetype": "text/x-python",
   "name": "python",
   "nbconvert_exporter": "python",
   "pygments_lexer": "ipython3",
   "version": "3.8.3"
  }
 },
 "nbformat": 4,
 "nbformat_minor": 4
}
