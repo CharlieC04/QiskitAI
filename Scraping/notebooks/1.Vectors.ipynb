{
 "cells": [
  {
   "cell_type": "markdown",
   "metadata": {},
   "source": [
    "<h2>Vectors: One Dimensional Lists</h2>\n",
    "\n",
    "A <b>vector</b> is a list of numbers. \n",
    "\n",
    "Vectors are very useful to describe the state of a system, as we will see in the main tutorial. \n",
    "\n",
    "A list is a single object in python.\n",
    "\n",
    "Similarly, a vector is a single mathematical object. \n",
    "\n",
    "The number of elements in a list is its size or length.\n",
    "\n",
    "Similarly, the number of entries in a vector is called as the <b>size</b> or <b>dimension</b> of the vector."
   ]
  },
  {
   "cell_type": "code",
   "execution_count": 1,
   "metadata": {},
   "outputs": [
    {
     "name": "stdout",
     "output_type": "stream",
     "text": [
      "[1, -2, 0, 5]\n"
     ]
    }
   ],
   "source": [
    "# consider the following list with 4 elements \n",
    "L = [1,-2,0,5]\n",
    "print(L)"
   ]
  },
  {
   "cell_type": "markdown",
   "metadata": {},
   "source": [
    "Vectors can be in horizontal or vertical shape.\n",
    "\n",
    "We show this list as a <i><u>four dimensional</u></i> <b>row vector</b> (horizontal) or a <b>column vector</b> (vertical):\n",
    "\n",
    "$$\n",
    "    u = \\mypar{1~~-2~~0~~-5} ~~~\\mbox{ or }~~~ v =\\mymatrix{r}{1 \\\\ -2 \\\\ 0 \\\\ 5}, ~~~\\mbox{ respectively.}\n",
    "$$\n",
    "\n",
    "Remark that we do not need to use any comma in vector representation."
   ]
  },
  {
   "cell_type": "markdown",
   "metadata": {},
   "source": [
    "<h3> Multiplying a vector with a number</h3>\n",
    "\n",
    "A vector can be multiplied by a number.\n",
    "\n",
    "Multiplication of a vector with a number is also a vector: each entry is multiplied by this number.\n",
    "\n",
    "$$\n",
    "    3 \\cdot v = 3 \\cdot  \\mymatrix{r}{1 \\\\ -2 \\\\ 0 \\\\ 5} = \\mymatrix{r}{3 \\\\ -6 \\\\ 0 \\\\ 15}\n",
    "    ~~~~~~\\mbox{ or }~~~~~~\n",
    "    (-0.6) \\cdot v = (-0.6) \\cdot \\mymatrix{r}{1 \\\\ -2 \\\\ 0 \\\\ 5} = \\mymatrix{r}{-0.6 \\\\ 1.2 \\\\ 0 \\\\ -3}.\n",
    "$$\n",
    "\n",
    "We may consider this as enlarging or making smaller the entries of a vector.\n",
    "\n",
    "We verify our calculations in python."
   ]
  },
  {
   "cell_type": "code",
   "execution_count": 2,
   "metadata": {},
   "outputs": [
    {
     "name": "stdout",
     "output_type": "stream",
     "text": [
      "v is [1, -2, 0, 5]\n",
      "3v is [3, -6, 0, 15]\n",
      "0.6v is [-0.6, 1.2, -0.0, -3.0]\n"
     ]
    }
   ],
   "source": [
    "# 3 * v\n",
    "v = [1,-2,0,5]\n",
    "print(\"v is\",v)\n",
    "# we use the same list for the result\n",
    "for i in range(len(v)):\n",
    "    v[i] = 3 * v[i]\n",
    "print(\"3v is\",v)\n",
    "\n",
    "# -0.6 * u\n",
    "# reinitialize the list v\n",
    "v = [1,-2,0,5]\n",
    "for i in range(len(v)):\n",
    "    v[i] = -0.6 * v[i]\n",
    "print(\"0.6v is\",v)"
   ]
  },
  {
   "cell_type": "markdown",
   "metadata": {},
   "source": [
    "<h3> Summation of vectors</h3>\n",
    "\n",
    "Two vectors (with same dimension) can be summed up.\n",
    "\n",
    "The summation of two vectors is a vector: the numbers on the same entries are added up.\n",
    "\n",
    "$$\n",
    "    u = \\myrvector{-3 \\\\ -2 \\\\ 0 \\\\ -1 \\\\ 4} \\mbox{ and } v = \\myrvector{-1\\\\ -1 \\\\2 \\\\ -3 \\\\ 5}.\n",
    "    ~~~~~~~ \\mbox{Then, }~~\n",
    "    u+v = \\myrvector{-3 \\\\ -2 \\\\ 0 \\\\ -1 \\\\ 4} + \\myrvector{-1\\\\ -1 \\\\2 \\\\ -3 \\\\ 5} =\n",
    "    \\myrvector{-3+(-1)\\\\ -2+(-1) \\\\0+2 \\\\ -1+(-3) \\\\ 4+5} = \\myrvector{-4\\\\ -3 \\\\2 \\\\ -4 \\\\ 9}.\n",
    "$$\n",
    "\n",
    "We do the same calculations in Python."
   ]
  },
  {
   "cell_type": "code",
   "execution_count": 3,
   "metadata": {},
   "outputs": [
    {
     "name": "stdout",
     "output_type": "stream",
     "text": [
      "u+v is [-4, -3, 2, -4, 9]\n",
      "\n",
      "the elements of u+v are\n",
      "-4\n",
      "-3\n",
      "2\n",
      "-4\n",
      "9\n"
     ]
    }
   ],
   "source": [
    "u = [-3,-2,0,-1,4]\n",
    "v = [-1,-1,2,-3,5]\n",
    "result=[]\n",
    "for i in range(len(u)):\n",
    "    result.append(u[i]+v[i])\n",
    "\n",
    "print(\"u+v is\",result)\n",
    "\n",
    "# print the result vector similarly to a column vector\n",
    "print() # print an empty line\n",
    "print(\"the elements of u+v are\")\n",
    "for j in range(len(result)):\n",
    "    print(result[j])"
   ]
  },
  {
   "cell_type": "markdown",
   "metadata": {},
   "source": [
    "<h3> Task 1 </h3>\n",
    "\n",
    "Create two 7-dimensional vectors $u$ and $ v $ as two different lists in Python having entries randomly picked between $-10$ and $10$. \n",
    "\n",
    "Print their entries."
   ]
  },
  {
   "cell_type": "code",
   "execution_count": 4,
   "metadata": {},
   "outputs": [
    {
     "name": "stdout",
     "output_type": "stream",
     "text": [
      "u is [0, 10, -6, -5, 4, 6, -6]\n",
      "v is [9, 10, -10, 10, -8, 5, -4]\n"
     ]
    }
   ],
   "source": [
    "from random import randrange\n",
    "#\n",
    "# your solution is here\n",
    "#\n",
    "from random import randrange\n",
    "\n",
    "dimension = 7\n",
    "\n",
    "# create u and v as empty lists \n",
    "u = []\n",
    "v = []\n",
    "\n",
    "for i in range(dimension):\n",
    "    u.append(randrange(-10,11)) # add a randomly picked number to the list u\n",
    "    v.append(randrange(-10,11)) # add a randomly picked number to the list v\n",
    "\n",
    "# print both lists\n",
    "print(\"u is\",u)\n",
    "print(\"v is\",v)\n",
    "#r=randrange(-10,11) # randomly pick a number from the list {-10,-9,...,-1,0,1,...,9,10}\n"
   ]
  },
  {
   "cell_type": "markdown",
   "metadata": {},
   "source": [
    "<h3> Task 2 </h3>\n",
    "\n",
    "By using the same vectors, find the vector $  (3  u-2  v) $ and print its entries. Here $ 3u $ and $ 2v $ means $u$ and $v$ are multiplied by $3$ and $2$, respectively."
   ]
  },
  {
   "cell_type": "code",
   "execution_count": 5,
   "metadata": {},
   "outputs": [
    {
     "name": "stdout",
     "output_type": "stream",
     "text": [
      "by using the first method, the result vector is initialized to [0, 0, 0, 0, 0, 0, 0]\n",
      "by using the second method, the result vector is initialized to [0, 0, 0, 0, 0, 0, 0]\n",
      "u is [0, 10, -6, -5, 4, 6, -6]\n",
      "v is [9, 10, -10, 10, -8, 5, -4]\n",
      "3u-2v is [-18, 10, 2, -35, 28, 8, -10]\n"
     ]
    }
   ],
   "source": [
    "#\n",
    "# your solution is here\n",
    "#\n",
    "# please execute the cell for Task 1 to define u and v\n",
    "# create a result list \n",
    "\n",
    "# the first method\n",
    "result=[]\n",
    "\n",
    "# fill it with zeros\n",
    "for i in range(dimension): \n",
    "    result.append(0)\n",
    "\n",
    "print(\"by using the first method, the result vector is initialized to\",result)\n",
    "\n",
    "# the second method\n",
    "# alternative and shorter solution for creating a list with zeros\n",
    "result = [0] * 7 \n",
    "\n",
    "print(\"by using the second method, the result vector is initialized to\",result)\n",
    "\n",
    "# calculate 3u-2v\n",
    "for i in range(dimension):\n",
    "    result[i] = 3 * u[i] - 2 * v[i]\n",
    "\n",
    "# print all lists\n",
    "print(\"u is\",u)\n",
    "print(\"v is\",v)\n",
    "print(\"3u-2v is\",result)"
   ]
  },
  {
   "cell_type": "markdown",
   "metadata": {},
   "source": [
    "<h3> Visualization of vectors </h3>\n",
    "\n",
    "We can visualize the vectors with dimension at most 3. \n",
    "\n",
    "For simplicity, we give examples of 2-dimensional vectors. \n",
    "\n",
    "Consider the vector $ v = \\myvector{1 \\\\ 2} $. \n",
    "\n",
    "A 2-dimensional vector can be represented on the two-dimensional plane by an arrow starting from the origin $ (0,0) $ to the point $ (1,2) $."
   ]
  },
  {
   "cell_type": "markdown",
   "metadata": {},
   "source": [
    "<img src=\"../images/vector_1_2-small.jpg\" width=\"40%\">"
   ]
  },
  {
   "cell_type": "markdown",
   "metadata": {},
   "source": [
    "We represent the vectors $ 2v = \\myvector{2 \\\\ 4} $ and $ -v = \\myvector{-1 \\\\ -2} $ below.\n",
    "\n",
    "<img src=\"../images/vectors_2_4_-1_-2.jpg\" width=\"40%\">\n",
    "\n",
    "As we can observe, after multiplying by 2, the vector is enlarged, and, after multiplying by $(-1)$, the vector is the same but its direction is opposite."
   ]
  },
  {
   "cell_type": "markdown",
   "metadata": {},
   "source": [
    "<h3> The length of a vector </h3>\n",
    "\n",
    "The length of a vector is the (shortest) distance from the points represented by the entries of vector to the origin point $(0,0)$.\n",
    "\n",
    "The length of a vector can be calculated by using Pythagoras Theorem. \n",
    "\n",
    "We visualize a vector, its length, and the contributions of each entry to the length. \n",
    "\n",
    "Consider the vector $ u = \\myrvector{-3 \\\\ 4} $."
   ]
  },
  {
   "cell_type": "markdown",
   "metadata": {},
   "source": [
    "<img src=\"../images/length_-3_4-small.jpg\" width=\"80%\">"
   ]
  },
  {
   "cell_type": "markdown",
   "metadata": {},
   "source": [
    "The length of $ u $ is denoted as $ \\norm{u} $, and it is calculated as $ \\norm{u} =\\sqrt{(-3)^2+4^2} = 5 $. \n",
    "\n",
    "Here each entry contributes with its square value. All contributions are summed up. Then, we obtain the square of the length. \n",
    "\n",
    "This formula is generalized to any dimension. \n",
    "\n",
    "We find the length of the following vector by using Python:\n",
    " \n",
    "$$\n",
    "    v = \\myrvector{-1 \\\\ -3 \\\\ 5 \\\\ 3 \\\\ 1 \\\\ 2}\n",
    "    ~~~~~~~~~~\n",
    "    \\mbox{and}\n",
    "    ~~~~~~~~~~\n",
    "    \\norm{v} = \\sqrt{(-1)^2+(-3)^2+5^2+3^2+1^2+2^2} .\n",
    "$$"
   ]
  },
  {
   "cell_type": "markdown",
   "metadata": {},
   "source": [
    "<div style=\"font-style:italic;background-color:#fafafa;font-size:10pt;\"> Remember: There is a short way of writing power operation in Python. \n",
    "    <ul>\n",
    "        <li> In its generic form: $ a^x $ can be denoted by $ a ** x $ in Python. </li>\n",
    "        <li> The square of a number $a$: $ a^2 $ can be denoted by $ a ** 2 $ in Python. </li>\n",
    "        <li> The square root of a number $ a $: $ \\sqrt{a} = a^{\\frac{1}{2}} = a^{0.5} $ can be denoted by $ a ** 0.5 $ in Python.</li>\n",
    "    </ul>\n",
    "</div>"
   ]
  },
  {
   "cell_type": "code",
   "execution_count": 6,
   "metadata": {},
   "outputs": [
    {
     "name": "stdout",
     "output_type": "stream",
     "text": [
      "-1 :square -> 1\n",
      "-3 :square -> 9\n",
      "5 :square -> 25\n",
      "3 :square -> 9\n",
      "1 :square -> 1\n",
      "2 :square -> 4\n",
      "the summation is 49\n",
      "then the length is 7.0\n",
      "\n",
      "the square root of 49 is 7.0\n"
     ]
    }
   ],
   "source": [
    "v = [-1,-3,5,3,1,2]\n",
    "\n",
    "length_square=0\n",
    "for i in range(len(v)):\n",
    "    print(v[i],\":square ->\",v[i]**2) # print each entry and its square value\n",
    "    length_square = length_square + v[i]**2 # sum up the square of each entry\n",
    "\n",
    "length = length_square ** 0.5 # take the square root of the summation of the squares of all entries\n",
    "print(\"the summation is\",length_square)\n",
    "print(\"then the length is\",length)\n",
    "\n",
    "# for square root, we can also use built-in function math.sqrt\n",
    "print() # print an empty line\n",
    "from math import sqrt\n",
    "print(\"the square root of\",length_square,\"is\",sqrt(length_square))"
   ]
  },
  {
   "cell_type": "markdown",
   "metadata": {},
   "source": [
    "<h3> Task 3 </h3>\n",
    "\n",
    "Let $ u = \\myrvector{1 \\\\ -2 \\\\ -4 \\\\ 2} $ be a four dimensional vector.\n",
    "\n",
    "Verify that $ \\norm{4 u} = 4 \\cdot \\norm{u} $ in Python. \n",
    "\n",
    "Remark that $ 4u $ is another vector obtained from $ u $ by multiplying it with 4. "
   ]
  },
  {
   "cell_type": "code",
   "execution_count": 7,
   "metadata": {},
   "outputs": [
    {
     "name": "stdout",
     "output_type": "stream",
     "text": [
      "length of u is 5.0\n",
      "4 * length of u is 20.0\n",
      "length of 4u is 20.0\n"
     ]
    }
   ],
   "source": [
    "#\n",
    "# your solution is here\n",
    "#\n",
    "u = [1,-2,-4,2]\n",
    "\n",
    "fouru=[4,-8,-16,8]\n",
    "\n",
    "len_u = 0\n",
    "len_fouru = 0\n",
    "for i in range(len(u)):\n",
    "    len_u = len_u + u[i]**2 # adding square of each value \n",
    "    len_fouru = len_fouru + fouru[i]**2 # adding square of each value\n",
    "\n",
    "len_u = len_u ** 0.5 # taking square root of the summation\n",
    "len_fouru = len_fouru ** 0.5 # taking square root of the summation\n",
    "\n",
    "# print the lengths\n",
    "print(\"length of u is\",len_u)\n",
    "print(\"4 * length of u is\",4 * len_u)\n",
    "print(\"length of 4u is\",len_fouru)"
   ]
  },
  {
   "cell_type": "markdown",
   "metadata": {},
   "source": [
    "<h3> Notes:</h3>\n",
    "\n",
    "When a vector is multiplied by a number, then its length is also multiplied with the same number.\n",
    "\n",
    "But, we should be careful with the sign.\n",
    "\n",
    "Consider the vector $ -3 v $. It has the same length of $ 3v $, but its direction is opposite.\n",
    "\n",
    "So, when calculating the length of $ -3 v $, we use absolute value of the number:\n",
    "\n",
    "$ \\norm{-3 v} = |-3| \\norm{v} = 3 \\norm{v}  $.\n",
    "\n",
    "Here $ |-3| $ is the absolute value of $ -3 $. \n",
    "\n",
    "The absolute value of a number is its distance to 0. So, $ |-3| = 3 $."
   ]
  },
  {
   "cell_type": "markdown",
   "metadata": {},
   "source": [
    "<h3> Task 4 </h3>\n",
    "\n",
    "Let $ u = \\myrvector{1 \\\\ -2 \\\\ -4 \\\\ 2} $ be a four dimensional vector.\n",
    "\n",
    "Randomly pick a number $r$ from $ \\left\\{ \\dfrac{1}{10}, \\dfrac{2}{10}, \\cdots, \\dfrac{9}{10} \\right\\} $.\n",
    "\n",
    "Find the vector $(-r)\\cdot u$ and then its length."
   ]
  },
  {
   "cell_type": "code",
   "execution_count": 8,
   "metadata": {},
   "outputs": [
    {
     "name": "stdout",
     "output_type": "stream",
     "text": [
      "u is [1, -2, -4, 2]\n",
      "\n",
      "r is 0.5\n",
      "\n",
      "-ru is [-0.5, 1.0, 2.0, -1.0]\n",
      "\n",
      "-0.5 ->[square]-> 0.25\n",
      "1.0 ->[square]-> 1.0\n",
      "2.0 ->[square]-> 4.0\n",
      "-1.0 ->[square]-> 1.0\n",
      "\n",
      "the summation of squares is 6.25\n",
      "the length of [-0.5, 1.0, 2.0, -1.0] is 2.5\n"
     ]
    }
   ],
   "source": [
    "#\n",
    "# your solution is here\n",
    "#\n",
    "from random import randrange\n",
    "\n",
    "u = [1,-2,-4,2]\n",
    "\n",
    "print(\"u is\",u)\n",
    "\n",
    "r = randrange(9) # r is a number in {0,...,8}\n",
    "r = r + 1 # r is a number in {1,...,9}\n",
    "r = r/10 # r is a number in {1/10,...,9/10}\n",
    "\n",
    "print()\n",
    "print(\"r is\",r)\n",
    "\n",
    "newu=[]\n",
    "\n",
    "for i in range(len(u)):\n",
    "    newu.append(-1*r*u[i])\n",
    "\n",
    "print()   \n",
    "print(\"-ru is\",newu)\n",
    "print()\n",
    "\n",
    "length = 0\n",
    "\n",
    "for i in range(len(newu)):\n",
    "    length = length + newu[i]**2 # adding square of each number\n",
    "    print(newu[i],\"->[square]->\",newu[i]**2)\n",
    "    \n",
    "print()    \n",
    "print(\"the summation of squares is\",length)    \n",
    "length = length**0.5 # taking square root\n",
    "print(\"the length of\",newu,\"is\",length)"
   ]
  },
  {
   "cell_type": "markdown",
   "metadata": {},
   "source": [
    "Remark that:\n",
    "\n",
    "The length of $ u $ is 5.\n",
    "\n",
    "The length of $ (-r)u $ will be $ 5r $.  "
   ]
  }
 ],
 "metadata": {
  "kernelspec": {
   "display_name": "Python 3",
   "language": "python",
   "name": "python3"
  },
  "language_info": {
   "codemirror_mode": {
    "name": "ipython",
    "version": 3
   },
   "file_extension": ".py",
   "mimetype": "text/x-python",
   "name": "python",
   "nbconvert_exporter": "python",
   "pygments_lexer": "ipython3",
   "version": "3.8.3"
  }
 },
 "nbformat": 4,
 "nbformat_minor": 4
}
