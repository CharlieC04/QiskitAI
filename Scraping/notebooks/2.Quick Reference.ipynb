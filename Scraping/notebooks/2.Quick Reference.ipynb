{
  "cells": [
    {
      "cell_type": "markdown",
      "source": [
        "<h2> Python: Quick Reference </h2>\n",
        "<hr>\n",
        "<ul>\n",
        "    <li><a href=\"#Variables\">Variables</a></li>\n",
        "    <li><a href=\"#Arithmetic_operators\">Arithmetic operators</a></li>\n",
        "    <li><a href=\"#Objects\">Objects</a></li>\n",
        "    <li><a href=\"#Size_of_an_object\">Size of an object</a></li>    \n",
        "    <li><a href=\"#Loops\">Loops</a></li>\n",
        "    <li><a href=\"#Conditionals\">Conditionals</a></li>\n",
        "    <li><a href=\"#Logical_and_Boolean_operators\">Logical and Boolean operators</a></li>\n",
        "    <li><a href=\"#Double_list\">Double list</a></li>\n",
        "    <li><a href=\"#List_operations\">List operations</a></li>\n",
        "    <li><a href=\"#Functions\">Functions</a></li>\n",
        "    <li><a href=\"#Random_number\">Random number</a></li>\n",
        "</ul>\n",
        "<hr>"
      ],
      "metadata": {}
    },
    {
      "cell_type": "markdown",
      "source": [
        "<a id=\"Variables\"></a>\n",
        "<h3> Variables </h3>"
      ],
      "metadata": {}
    },
    {
      "cell_type": "code",
      "source": [
        "number = 5 # integer\n",
        "real = -3.4 # float\n",
        "\n",
        "name = 'Asja' # string\n",
        "surname = \"Sarkana\" # string\n",
        "\n",
        "boolean1 = True # Boolean \n",
        "boolean2 = False # Boolean "
      ],
      "outputs": [],
      "execution_count": 1,
      "metadata": {}
    },
    {
      "cell_type": "markdown",
      "source": [
        "<hr>"
      ],
      "metadata": {}
    },
    {
      "cell_type": "markdown",
      "source": [
        "<a id=\"Arithmetic_operators\"></a>\n",
        "<h3> Arithmetic operators </h3>"
      ],
      "metadata": {}
    },
    {
      "cell_type": "markdown",
      "source": [
        "<h4> Basic operators </h4>"
      ],
      "metadata": {}
    },
    {
      "cell_type": "code",
      "source": [
        "a = 13\n",
        "b = 5\n",
        "print(\"a =\",a)\n",
        "print(\"b =\",b)\n",
        "print()\n",
        "\n",
        "# basics operators\n",
        "print(\"a + b =\",a+b)\n",
        "print(\"a - b =\",a-b)\n",
        "print(\"a * b =\",a*b)\n",
        "print(\"a / b =\",a/b)"
      ],
      "outputs": [
        {
          "output_type": "stream",
          "name": "stdout",
          "text": [
            "a = 13\n",
            "b = 5\n",
            "\n",
            "a + b = 18\n",
            "a - b = 8\n",
            "a * b = 65\n",
            "a / b = 2.6\n"
          ]
        }
      ],
      "execution_count": 2,
      "metadata": {}
    },
    {
      "cell_type": "markdown",
      "source": [
        "<h4> Integer division and modulus operators </h4>"
      ],
      "metadata": {}
    },
    {
      "cell_type": "code",
      "source": [
        "a = 13\n",
        "b = 5\n",
        "print(\"a =\",a)\n",
        "print(\"b =\",b)\n",
        "print()\n",
        "\n",
        "print(\"integer division:\")\n",
        "print(\"a//b =\",a//b)\n",
        "\n",
        "print(\"modulus operator:\")\n",
        "print(\"a mod b =\",a % b)"
      ],
      "outputs": [
        {
          "output_type": "stream",
          "name": "stdout",
          "text": [
            "a = 13\n",
            "b = 5\n",
            "\n",
            "integer division:\n",
            "a//b = 2\n",
            "modulus operator:\n",
            "a mod b = 3\n"
          ]
        }
      ],
      "execution_count": 3,
      "metadata": {}
    },
    {
      "cell_type": "markdown",
      "source": [
        "<h4> Exponent operator</h4>\n",
        "\n",
        "number\\*\\*exponent"
      ],
      "metadata": {}
    },
    {
      "cell_type": "code",
      "source": [
        "b = 5\n",
        "print(\"b =\",b)\n",
        "print()\n",
        "\n",
        "print(\"b*b =\",b**2)\n",
        "print(\"b*b*b =\",b**3)\n",
        "print(\"sqrt(b)=\",b**0.5)"
      ],
      "outputs": [
        {
          "output_type": "stream",
          "name": "stdout",
          "text": [
            "b = 5\n",
            "\n",
            "b*b = 25\n",
            "b*b*b = 125\n",
            "sqrt(b)= 2.23606797749979\n"
          ]
        }
      ],
      "execution_count": 4,
      "metadata": {}
    },
    {
      "cell_type": "markdown",
      "source": [
        "<hr>"
      ],
      "metadata": {}
    },
    {
      "cell_type": "markdown",
      "source": [
        "<a id=\"Objects\"></a>\n",
        "<h3> Objects </h3>"
      ],
      "metadata": {}
    },
    {
      "cell_type": "markdown",
      "source": [
        "<h4> Lists </h4>"
      ],
      "metadata": {}
    },
    {
      "cell_type": "code",
      "source": [
        "# list\n",
        "mylist = [10,8,6,4,2] \n",
        "\n",
        "print(mylist)"
      ],
      "outputs": [
        {
          "output_type": "stream",
          "name": "stdout",
          "text": [
            "[10, 8, 6, 4, 2]\n"
          ]
        }
      ],
      "execution_count": 5,
      "metadata": {}
    },
    {
      "cell_type": "markdown",
      "source": [
        "<h4> Tuple </h4>"
      ],
      "metadata": {}
    },
    {
      "cell_type": "code",
      "source": [
        "# tuple\n",
        "mytuple=(1,4,5,'Asja') \n",
        "\n",
        "print(mytuple)"
      ],
      "outputs": [
        {
          "output_type": "stream",
          "name": "stdout",
          "text": [
            "(1, 4, 5, 'Asja')\n"
          ]
        }
      ],
      "execution_count": 6,
      "metadata": {}
    },
    {
      "cell_type": "markdown",
      "source": [
        "<h4> Dictionary </h4>"
      ],
      "metadata": {}
    },
    {
      "cell_type": "code",
      "source": [
        "# dictionary\n",
        "mydictionary = {\n",
        "    'name' : \"Asja\",\n",
        "    'surname':'Sarkane',\n",
        "    'age': 23\n",
        "}\n",
        "\n",
        "print(mydictionary)\n",
        "\n",
        "print(mydictionary['surname'])"
      ],
      "outputs": [
        {
          "output_type": "stream",
          "name": "stdout",
          "text": [
            "{'name': 'Asja', 'surname': 'Sarkane', 'age': 23}\n",
            "Sarkane\n"
          ]
        }
      ],
      "execution_count": 7,
      "metadata": {}
    },
    {
      "cell_type": "markdown",
      "source": [
        "<h4>List of the other objects or variables </h4>"
      ],
      "metadata": {}
    },
    {
      "cell_type": "code",
      "source": [
        "# list of the other objects or variables\n",
        "list_of_other_objects =[\n",
        "    mylist,\n",
        "    mytuple,\n",
        "    3,\n",
        "    \"Asja\",\n",
        "    mydictionary\n",
        "]\n",
        "\n",
        "print(list_of_other_objects)"
      ],
      "outputs": [
        {
          "output_type": "stream",
          "name": "stdout",
          "text": [
            "[[10, 8, 6, 4, 2], (1, 4, 5, 'Asja'), 3, 'Asja', {'name': 'Asja', 'surname': 'Sarkane', 'age': 23}]\n"
          ]
        }
      ],
      "execution_count": 8,
      "metadata": {}
    },
    {
      "cell_type": "markdown",
      "source": [
        "<hr>"
      ],
      "metadata": {}
    },
    {
      "cell_type": "markdown",
      "source": [
        "<a id=\"Size_of_an_object\"></a>\n",
        "<h3> Size of an object </h3>\n",
        "\n",
        "We use the method \"len()\" that takes an object as the input."
      ],
      "metadata": {}
    },
    {
      "cell_type": "code",
      "source": [
        "# length of a string\n",
        "print(len(\"Asja Sarkane\"))\n",
        "\n",
        "# size of a list\n",
        "print(len([1,2,3,4]))\n",
        "\n",
        "# size of a dictionary\n",
        "mydictionary = { 'name' : \"Asja\", 'surname':'Sarkane', 'age': 23}\n",
        "print(len(mydictionary))"
      ],
      "outputs": [
        {
          "output_type": "stream",
          "name": "stdout",
          "text": [
            "12\n",
            "4\n",
            "3\n"
          ]
        }
      ],
      "execution_count": 9,
      "metadata": {}
    },
    {
      "cell_type": "markdown",
      "source": [
        "<hr>"
      ],
      "metadata": {}
    },
    {
      "cell_type": "markdown",
      "source": [
        "<a id=\"Loops\"></a>\n",
        "<h3> Loops </h3>"
      ],
      "metadata": {}
    },
    {
      "cell_type": "markdown",
      "source": [
        "<h4> While-loop </h4>"
      ],
      "metadata": {}
    },
    {
      "cell_type": "code",
      "source": [
        "i = 10\n",
        "while i>0: # while condition(s):\n",
        "    print(i)\n",
        "    i = i - 1   "
      ],
      "outputs": [
        {
          "output_type": "stream",
          "name": "stdout",
          "text": [
            "10\n",
            "9\n",
            "8\n",
            "7\n",
            "6\n",
            "5\n",
            "4\n",
            "3\n",
            "2\n",
            "1\n"
          ]
        }
      ],
      "execution_count": 10,
      "metadata": {}
    },
    {
      "cell_type": "markdown",
      "source": [
        "<h4> For-loop </h4>"
      ],
      "metadata": {}
    },
    {
      "cell_type": "code",
      "source": [
        "for i in range(10): # i is in [0,1,...,9]\n",
        "    print(i)"
      ],
      "outputs": [
        {
          "output_type": "stream",
          "name": "stdout",
          "text": [
            "0\n",
            "1\n",
            "2\n",
            "3\n",
            "4\n",
            "5\n",
            "6\n",
            "7\n",
            "8\n",
            "9\n"
          ]
        }
      ],
      "execution_count": 11,
      "metadata": {}
    },
    {
      "cell_type": "code",
      "source": [
        "for i in range(-5,6): # i is in [-5,-4,...,0,...,4,5]\n",
        "    print(i)"
      ],
      "outputs": [
        {
          "output_type": "stream",
          "name": "stdout",
          "text": [
            "-5\n",
            "-4\n",
            "-3\n",
            "-2\n",
            "-1\n",
            "0\n",
            "1\n",
            "2\n",
            "3\n",
            "4\n",
            "5\n"
          ]
        }
      ],
      "execution_count": 12,
      "metadata": {}
    },
    {
      "cell_type": "code",
      "source": [
        "for i in range(0,23,4): # i is in [0,4,8,12,16,20]\n",
        "    print(i)"
      ],
      "outputs": [
        {
          "output_type": "stream",
          "name": "stdout",
          "text": [
            "0\n",
            "4\n",
            "8\n",
            "12\n",
            "16\n",
            "20\n"
          ]
        }
      ],
      "execution_count": 13,
      "metadata": {}
    },
    {
      "cell_type": "code",
      "source": [
        "for i in [3,8,-5,11]: \n",
        "    print(i)"
      ],
      "outputs": [
        {
          "output_type": "stream",
          "name": "stdout",
          "text": [
            "3\n",
            "8\n",
            "-5\n",
            "11\n"
          ]
        }
      ],
      "execution_count": 14,
      "metadata": {}
    },
    {
      "cell_type": "code",
      "source": [
        "for i in \"Sarkane\":\n",
        "    print(i)"
      ],
      "outputs": [
        {
          "output_type": "stream",
          "name": "stdout",
          "text": [
            "S\n",
            "a\n",
            "r\n",
            "k\n",
            "a\n",
            "n\n",
            "e\n"
          ]
        }
      ],
      "execution_count": 15,
      "metadata": {}
    },
    {
      "cell_type": "code",
      "source": [
        "# dictionary\n",
        "mydictionary = {\n",
        "    'name' : \"Asja\",\n",
        "    'surname':'Sarkane',\n",
        "    'age': 23,\n",
        "}\n",
        "\n",
        "for key in mydictionary:\n",
        "    print(\"key is\",key,\"and its value is\",mydictionary[key])"
      ],
      "outputs": [
        {
          "output_type": "stream",
          "name": "stdout",
          "text": [
            "key is name and its value is Asja\n",
            "key is surname and its value is Sarkane\n",
            "key is age and its value is 23\n"
          ]
        }
      ],
      "execution_count": 16,
      "metadata": {}
    },
    {
      "cell_type": "markdown",
      "source": [
        "<hr>"
      ],
      "metadata": {}
    },
    {
      "cell_type": "markdown",
      "source": [
        "<a id=\"Conditionals\"></a>\n",
        "<h3>Conditionals </h3>"
      ],
      "metadata": {}
    },
    {
      "cell_type": "code",
      "source": [
        "for a in range(4,7):\n",
        "    \n",
        "    # if condition(s)\n",
        "    if a<5: \n",
        "        print(a,\"is less than 5\")\n",
        "        \n",
        "    # elif conditions(s)\n",
        "    elif a==5: \n",
        "        print(a,\"is equal to 5\")\n",
        "        \n",
        "    # else\n",
        "    else:\n",
        "        print(a,\"is greater than 5\")"
      ],
      "outputs": [
        {
          "output_type": "stream",
          "name": "stdout",
          "text": [
            "4 is less than 5\n",
            "5 is equal to 5\n",
            "6 is greater than 5\n"
          ]
        }
      ],
      "execution_count": 17,
      "metadata": {}
    },
    {
      "cell_type": "markdown",
      "source": [
        "<hr>"
      ],
      "metadata": {}
    },
    {
      "cell_type": "markdown",
      "source": [
        "<a id=\"Logical_and_Boolean_operators\"></a>\n",
        "<h3>Logical and Boolean operators</h3>"
      ],
      "metadata": {}
    },
    {
      "cell_type": "markdown",
      "source": [
        "<h4> Logical operator \"and\"</h4>"
      ],
      "metadata": {}
    },
    {
      "cell_type": "code",
      "source": [
        "# Logical operator \"and\"\n",
        "i = -3\n",
        "j = 4\n",
        "if i<0 and j > 0:  \n",
        "    print(i,\"is negative AND\",j,\"is positive\")"
      ],
      "outputs": [
        {
          "output_type": "stream",
          "name": "stdout",
          "text": [
            "-3 is negative AND 4 is positive\n"
          ]
        }
      ],
      "execution_count": 18,
      "metadata": {}
    },
    {
      "cell_type": "markdown",
      "source": [
        "<h4>Logical operator \"or\"</h4>"
      ],
      "metadata": {}
    },
    {
      "cell_type": "code",
      "source": [
        "# Logical operator \"or\"\n",
        "i = -2\n",
        "j = 2\n",
        "if i==2 or j == 2:  \n",
        "    print(\"i OR j is 2: (\",i,\",\",j,\")\")"
      ],
      "outputs": [
        {
          "output_type": "stream",
          "name": "stdout",
          "text": [
            "i OR j is 2: ( -2 , 2 )\n"
          ]
        }
      ],
      "execution_count": 19,
      "metadata": {}
    },
    {
      "cell_type": "markdown",
      "source": [
        "<h4>Logical operator \"not\" </h4>"
      ],
      "metadata": {}
    },
    {
      "cell_type": "code",
      "source": [
        "# Logical operator \"not\"\n",
        "i = 3\n",
        "if not (i==2):\n",
        "    print(i,\"is NOT equal to 2\")"
      ],
      "outputs": [
        {
          "output_type": "stream",
          "name": "stdout",
          "text": [
            "3 is NOT equal to 2\n"
          ]
        }
      ],
      "execution_count": 20,
      "metadata": {}
    },
    {
      "cell_type": "markdown",
      "source": [
        "<h4> Operator \"equal to\" </h4>"
      ],
      "metadata": {}
    },
    {
      "cell_type": "code",
      "source": [
        "# Operator \"equal to\"\n",
        "i = -1\n",
        "if i == -1:\n",
        "    print(i,\"is EQUAL TO -1\")"
      ],
      "outputs": [
        {
          "output_type": "stream",
          "name": "stdout",
          "text": [
            "-1 is EQUAL TO -1\n"
          ]
        }
      ],
      "execution_count": 21,
      "metadata": {}
    },
    {
      "cell_type": "markdown",
      "source": [
        "<h4> Operator \"not equal to\" </h4>"
      ],
      "metadata": {}
    },
    {
      "cell_type": "code",
      "source": [
        "# Operator \"not equal to\"\n",
        "i = 4\n",
        "if i != 3:\n",
        "    print(i,\"is NOT EQUAL TO 3\")"
      ],
      "outputs": [
        {
          "output_type": "stream",
          "name": "stdout",
          "text": [
            "4 is NOT EQUAL TO 3\n"
          ]
        }
      ],
      "execution_count": 22,
      "metadata": {}
    },
    {
      "cell_type": "markdown",
      "source": [
        "<h4> Operator \"less than or equal to\" </h4>"
      ],
      "metadata": {}
    },
    {
      "cell_type": "code",
      "source": [
        "# Operator \"not equal to\"\n",
        "i = 2\n",
        "if i <= 5:\n",
        "    print(i,\"is LESS THAN OR EQUAL TO 5\")"
      ],
      "outputs": [
        {
          "output_type": "stream",
          "name": "stdout",
          "text": [
            "2 is LESS THAN OR EQUAL TO 5\n"
          ]
        }
      ],
      "execution_count": 23,
      "metadata": {}
    },
    {
      "cell_type": "markdown",
      "source": [
        "<h4> Operator \"greater than or equal to\" </h4>"
      ],
      "metadata": {}
    },
    {
      "cell_type": "code",
      "source": [
        "# Operator \"not equal to\"\n",
        "i = 5\n",
        "if i >= 1:\n",
        "    print(i,\"is GREATER THAN OR EQUAL TO 3\")"
      ],
      "outputs": [
        {
          "output_type": "stream",
          "name": "stdout",
          "text": [
            "5 is GREATER THAN OR EQUAL TO 3\n"
          ]
        }
      ],
      "execution_count": 24,
      "metadata": {}
    },
    {
      "cell_type": "markdown",
      "source": [
        "<hr>"
      ],
      "metadata": {}
    },
    {
      "cell_type": "markdown",
      "source": [
        "<a id=\"Double_list\"></a>\n",
        "<h3> Double list </h3>"
      ],
      "metadata": {}
    },
    {
      "cell_type": "code",
      "source": [
        "A =[\n",
        "    [1,2,3],\n",
        "    [-2,-4,-6],\n",
        "    [3,6,9]\n",
        "]\n",
        "\n",
        "# print all\n",
        "print(A)\n",
        "print()\n",
        "\n",
        "# print each list in a new line\n",
        "for list in A:\n",
        "    print(list)"
      ],
      "outputs": [
        {
          "output_type": "stream",
          "name": "stdout",
          "text": [
            "[[1, 2, 3], [-2, -4, -6], [3, 6, 9]]\n",
            "\n",
            "[1, 2, 3]\n",
            "[-2, -4, -6]\n",
            "[3, 6, 9]\n"
          ]
        }
      ],
      "execution_count": 25,
      "metadata": {}
    },
    {
      "cell_type": "markdown",
      "source": [
        "<hr>"
      ],
      "metadata": {}
    },
    {
      "cell_type": "markdown",
      "source": [
        "<a id=\"List_operations\"></a>\n",
        "<h3>List operations</h3>"
      ],
      "metadata": {}
    },
    {
      "cell_type": "markdown",
      "source": [
        "<h4> Concatenation of two lists </h4>"
      ],
      "metadata": {}
    },
    {
      "cell_type": "code",
      "source": [
        "list1 = [1,2,3]\n",
        "list2 = [4,5,6]\n",
        "\n",
        "#concatenation of two lists\n",
        "\n",
        "list3 = list1 + list2\n",
        "print(list3)\n",
        "\n",
        "list4 = list2 + list1\n",
        "print(list4)"
      ],
      "outputs": [
        {
          "output_type": "stream",
          "name": "stdout",
          "text": [
            "[1, 2, 3, 4, 5, 6]\n",
            "[4, 5, 6, 1, 2, 3]\n"
          ]
        }
      ],
      "execution_count": 26,
      "metadata": {}
    },
    {
      "cell_type": "markdown",
      "source": [
        "<h4> Appending a new element </h4>"
      ],
      "metadata": {}
    },
    {
      "cell_type": "code",
      "source": [
        "list = [0,1,2]\n",
        "\n",
        "list.append(3)\n",
        "print(list)\n",
        "\n",
        "list = list + [4]\n",
        "print(list)"
      ],
      "outputs": [
        {
          "output_type": "stream",
          "name": "stdout",
          "text": [
            "[0, 1, 2, 3]\n",
            "[0, 1, 2, 3, 4]\n"
          ]
        }
      ],
      "execution_count": 27,
      "metadata": {}
    },
    {
      "cell_type": "markdown",
      "source": [
        "<hr>"
      ],
      "metadata": {}
    },
    {
      "cell_type": "markdown",
      "source": [
        "<a id=\"Functions\"></a>\n",
        "<h3>Functions</h3>"
      ],
      "metadata": {}
    },
    {
      "cell_type": "code",
      "source": [
        "def summation_of_integers(n):\n",
        "    summation = 0\n",
        "    for integer in range(n+1):\n",
        "        summation = summation + integer\n",
        "    return summation\n",
        "\n",
        "print(summation_of_integers(10))\n",
        "print(summation_of_integers(20))"
      ],
      "outputs": [
        {
          "output_type": "stream",
          "name": "stdout",
          "text": [
            "55\n",
            "210\n"
          ]
        }
      ],
      "execution_count": 28,
      "metadata": {}
    },
    {
      "cell_type": "markdown",
      "source": [
        "<hr>"
      ],
      "metadata": {}
    },
    {
      "cell_type": "markdown",
      "source": [
        "<a id=\"Random_number\"></a>\n",
        "<h3>Random number</h3>\n",
        "\n",
        "We can use method \"randrange()\"."
      ],
      "metadata": {}
    },
    {
      "cell_type": "code",
      "source": [
        "from random import randrange\n",
        "\n",
        "print(randrange(10),\"is picked randomly between 0 and 9\")\n",
        "      \n",
        "print(randrange(-9,10),\"is picked randomly between -9 and 9\")\n",
        "\n",
        "print(randrange(0,20,3),\"is picked randomly from the list [0,3,6,9,12,15,18]\")"
      ],
      "outputs": [
        {
          "output_type": "stream",
          "name": "stdout",
          "text": [
            "8 is picked randomly between 0 and 9\n",
            "7 is picked randomly between -9 and 9\n",
            "3 is picked randomly from the list [0,3,6,9,12,15,18]\n"
          ]
        }
      ],
      "execution_count": 29,
      "metadata": {}
    },
    {
      "cell_type": "code",
      "source": [],
      "outputs": [],
      "execution_count": null,
      "metadata": {}
    },
    {
      "cell_type": "code",
      "source": [],
      "outputs": [],
      "execution_count": null,
      "metadata": {}
    }
  ],
  "metadata": {
    "kernelspec": {
      "display_name": "Python 3",
      "language": "python",
      "name": "python3"
    },
    "language_info": {
      "codemirror_mode": {
        "name": "ipython",
        "version": 3
      },
      "file_extension": ".py",
      "mimetype": "text/x-python",
      "name": "python",
      "nbconvert_exporter": "python",
      "pygments_lexer": "ipython3",
      "version": "3.8.3"
    },
    "nteract": {
      "version": "0.26.0"
    }
  },
  "nbformat": 4,
  "nbformat_minor": 4
}