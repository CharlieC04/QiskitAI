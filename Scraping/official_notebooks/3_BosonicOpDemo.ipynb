{
 "cells": [
  {
   "cell_type": "markdown",
   "metadata": {},
   "source": [
    "## The new `BosonicOp` and `BosonicLinearMapper` in Qiskit Nature"
   ]
  },
  {
   "cell_type": "markdown",
   "metadata": {},
   "source": [
    "Francesco Troisi\n",
    "Qiskit Demo Day - June 15th, 2023"
   ]
  },
  {
   "cell_type": "markdown",
   "metadata": {},
   "source": [
    "Overview: See [related issue](https://github.com/qiskit-community/qiskit-nature/issues/958) and [related PR](https://github.com/qiskit-community/qiskit-nature/pull/1085)"
   ]
  },
  {
   "cell_type": "markdown",
   "metadata": {},
   "source": [
    "## Bosonic Operator\n",
    "\n",
    "A Bosonic operator allows to create and annihilitate a Boson, which is a particle with integer spin (like photon and phonons).\n",
    "The behavior of this class is very similar to the `FermionicOp`, so if one is familiar with that it is going to be straightforward to use this. One has to remember that the BosonicOp follows the commutation relations (instead of the anti-commutation)"
   ]
  },
  {
   "cell_type": "code",
   "execution_count": 21,
   "metadata": {},
   "outputs": [],
   "source": [
    "from qiskit_nature.second_q.operators import BosonicOp, FermionicOp"
   ]
  },
  {
   "cell_type": "code",
   "execution_count": 12,
   "metadata": {},
   "outputs": [],
   "source": [
    "# Create a creation operator\n",
    "bosonic_op = BosonicOp({'+_0': 1}, num_modes=1)\n",
    "# Create an annihilation operator\n",
    "bosonic_op = BosonicOp({'-_0': 1}, num_modes=1)"
   ]
  },
  {
   "cell_type": "markdown",
   "metadata": {},
   "source": [
    "The BosonicOp class supports all functionalities supported by FermionicOp"
   ]
  },
  {
   "cell_type": "code",
   "execution_count": 13,
   "metadata": {},
   "outputs": [
    {
     "name": "stdout",
     "output_type": "stream",
     "text": [
      "Sum\n",
      "Bosonic Operator\n",
      "number modes=3, number terms=3\n",
      "  2 * ( +_0 -_0 -_1 +_1 )\n",
      "+ 1.5 * ( +_2 -_2 )\n",
      "+ 3 * ( +_0 )\n",
      "\n",
      "Multiplication\n",
      "Bosonic Operator\n",
      "number modes=3, number terms=2\n",
      "  1.5 * ( +_0 -_0 -_1 +_1 +_2 -_2 )\n",
      "+ 3.0 * ( +_0 -_0 -_1 +_1 +_0 )\n"
     ]
    }
   ],
   "source": [
    "bosonic_op1 = BosonicOp({'+_0 -_0 -_1 +_1': 2}, num_modes=2)\n",
    "bosonic_op2 = BosonicOp({'+_2 -_2': 1.5, '+_0': 3}, num_modes=3)\n",
    "# Sum\n",
    "print(\"Sum\")\n",
    "print(bosonic_op1 + bosonic_op2)\n",
    "# Multiplication\n",
    "print(\"\\nMultiplication\")\n",
    "print(0.5 * bosonic_op1 @ bosonic_op2)"
   ]
  },
  {
   "cell_type": "markdown",
   "metadata": {},
   "source": [
    "Simplificiation and ordering operations"
   ]
  },
  {
   "cell_type": "code",
   "execution_count": 14,
   "metadata": {},
   "outputs": [
    {
     "name": "stdout",
     "output_type": "stream",
     "text": [
      "Normal Ordering\n",
      "Bosonic Operator\n",
      "number modes=2, number terms=2\n",
      "  1 * ( +_0 -_1 )\n",
      "+ 1 * ( +_0 +_0 -_0 -_1 )\n",
      "\n",
      "Index Ordering\n",
      "Bosonic Operator\n",
      "number modes=2, number terms=1\n",
      "  (1+0j) * ( +_0 -_0 +_0 -_1 )\n"
     ]
    }
   ],
   "source": [
    "bosonic_op = BosonicOp({'+_0 -_0 -_1 +_0': 1}, num_modes=2)\n",
    "# Normal order (reorder all operators such that all creation op are in front). Due to the commutation relations, when inverting -_0 +_0 we get 1 + +_0 -_0, which explains the two terms\n",
    "print(\"Normal Ordering\")\n",
    "print(bosonic_op.normal_order())\n",
    "# Index order (reorder all operators such that the lowest indices come first)\n",
    "print(\"\\nIndex Ordering\")\n",
    "print(bosonic_op.index_order())"
   ]
  },
  {
   "cell_type": "code",
   "execution_count": 22,
   "metadata": {},
   "outputs": [
    {
     "name": "stdout",
     "output_type": "stream",
     "text": [
      "Simplify\n",
      "Bosonic Operator\n",
      "number modes=1, number terms=1\n",
      "  1 * ( +_0 -_0 )\n"
     ]
    }
   ],
   "source": [
    "# Simplify\n",
    "print(\"Simplify\")\n",
    "# Simplify can be used to reduce numerical noise:\n",
    "print(BosonicOp({'+_0 -_0': 1}) + BosonicOp({'+_0 -_0': 1e-10}).simplify(atol=1e-9))"
   ]
  },
  {
   "cell_type": "markdown",
   "metadata": {},
   "source": [
    "An important difference with FermionicOp, whose cause lies in the nature of particles, is that for bosons we can have apply the creation or annihilation operator multiple times"
   ]
  },
  {
   "cell_type": "code",
   "execution_count": 16,
   "metadata": {},
   "outputs": [
    {
     "name": "stdout",
     "output_type": "stream",
     "text": [
      "\n",
      "Simplify with two creation operators\n",
      "\n",
      "Bosons:\n",
      "Bosonic Operator\n",
      "number modes=2, number terms=1\n",
      "  1 * ( +_0 -_0 -_1 +_0 +_0 )\n",
      "\n",
      "Fermions:\n",
      "Fermionic Operator\n",
      "number spin orbitals=2, number terms=0\n",
      "  \n"
     ]
    }
   ],
   "source": [
    "print(\"\\nSimplify with two creation operators\")\n",
    "print(\"\\nBosons:\")\n",
    "print(BosonicOp({'+_0 -_0 -_1 +_0 +_0': 1}, num_modes=2).simplify())\n",
    "print(\"\\nFermions:\")\n",
    "print(FermionicOp({'+_0 -_0 -_1 +_0 +_0': 1}, num_spin_orbitals=2).simplify())"
   ]
  },
  {
   "cell_type": "code",
   "execution_count": 17,
   "metadata": {},
   "outputs": [
    {
     "data": {
      "text/plain": [
       "FermionicOp({'+_0 -_1': (-1+0j)}, num_spin_orbitals=2, )"
      ]
     },
     "execution_count": 17,
     "metadata": {},
     "output_type": "execute_result"
    }
   ],
   "source": [
    "FermionicOp({'+_0 -_0 -_1 +_0': 1}, num_spin_orbitals=2).simplify()"
   ]
  },
  {
   "cell_type": "markdown",
   "metadata": {},
   "source": [
    "# Bosonic Linear Mapper\n",
    "\n",
    "In order to use a the Bosonic operator, it is necessary to be able to map it to the Qubit space.\n",
    "The Bosonic Linear Mapper class implements a mapping described in Section II.C of [A. Miessen et al., Quantum algorithms for quantum dynamics: A performance study on the spin-boson model](https://link.aps.org/doi/10.1103/PhysRevResearch.3.043212).\n",
    "Note that it is compulsory to **set use_pauli_sum_op to False**, as this feature is now deprecated"
   ]
  },
  {
   "cell_type": "markdown",
   "metadata": {},
   "source": [
    "The implemented formula is the following:\n",
    "$$\\hat{b}_k^\\dagger \\rightarrow \\sum_{n_k = 0}^{n_k^{max} - 1} \\sqrt{n_k + 1} \\sigma_{n_k}^{+} \\sigma_{n_k + 1}^{-}$$\n",
    "$$\\hat{b}_{k} \\rightarrow \\sum_{n_k = 0}^{n_k^{max} - 1} \\sqrt{n_k + 1} \\sigma_{n_k}^- \\sigma_{n_k + 1}^+$$\n",
    "Where\n",
    "$\\sigma_{n_k}^{\\pm} = \\frac{1}{2} \\left(\\sigma_{n_k}^x \\pm i\\sigma_{n_k}^y\\right)$"
   ]
  },
  {
   "cell_type": "code",
   "execution_count": 18,
   "metadata": {},
   "outputs": [],
   "source": [
    "from qiskit_nature.second_q.mappers import BosonicLinearMapper\n",
    "from qiskit_nature import settings\n",
    "settings.use_pauli_sum_op = False"
   ]
  },
  {
   "cell_type": "markdown",
   "metadata": {},
   "source": [
    "In order to use it, one must initialize it and then call the map method"
   ]
  },
  {
   "cell_type": "code",
   "execution_count": 19,
   "metadata": {},
   "outputs": [
    {
     "name": "stdout",
     "output_type": "stream",
     "text": [
      "SparsePauliOp(['II', 'ZZ', 'ZI', 'IZ'],\n",
      "              coeffs=[ 0.25+0.j, -0.25+0.j, -0.25+0.j,  0.25+0.j])\n"
     ]
    }
   ],
   "source": [
    "mapper_occ1 = BosonicLinearMapper(max_occupation=1)\n",
    "boson1 = mapper_occ1.map(BosonicOp({'+_0 -_0': 1}))\n",
    "print(boson1)"
   ]
  },
  {
   "cell_type": "markdown",
   "metadata": {},
   "source": [
    "The parameter `max_occupation` defines what is the state at which the maximum excitation can take place. This parameter has a huge impact on the size of the calculation (in terms of number of qubits required) and on the representation of the state.\n",
    "In fact, one has to keep in mind that this mapper is not exact (alike the fermions, we would need an infinite number of qubits to represent a boson). As such, the higher the `max_occupation`, the better the state is represented"
   ]
  },
  {
   "cell_type": "code",
   "execution_count": 20,
   "metadata": {},
   "outputs": [
    {
     "name": "stdout",
     "output_type": "stream",
     "text": [
      "Max occupation = 1\n",
      "SparsePauliOp(['XX', 'YY', 'YX', 'XY'],\n",
      "              coeffs=[0.25+0.j  , 0.25+0.j  , 0.  -0.25j, 0.  +0.25j])\n",
      "\n",
      "Max occupation = 2\n",
      "SparsePauliOp(['IXX', 'IYY', 'IYX', 'IXY', 'XXI', 'YYI', 'YXI', 'XYI'],\n",
      "              coeffs=[0.25      +0.j        , 0.25      +0.j        , 0.        -0.25j      ,\n",
      " 0.        +0.25j      , 0.35355339+0.j        , 0.35355339+0.j        ,\n",
      " 0.        -0.35355339j, 0.        +0.35355339j])\n",
      "\n",
      "Max occupation = 3\n",
      "SparsePauliOp(['IIXX', 'IIYY', 'IIYX', 'IIXY', 'IXXI', 'IYYI', 'IYXI', 'IXYI', 'XXII', 'YYII', 'YXII', 'XYII'],\n",
      "              coeffs=[0.25      +0.j        , 0.25      +0.j        , 0.        -0.25j      ,\n",
      " 0.        +0.25j      , 0.35355339+0.j        , 0.35355339+0.j        ,\n",
      " 0.        -0.35355339j, 0.        +0.35355339j, 0.4330127 +0.j        ,\n",
      " 0.4330127 +0.j        , 0.        -0.4330127j , 0.        +0.4330127j ])\n"
     ]
    }
   ],
   "source": [
    "print(\"Max occupation = 1\")\n",
    "boson_p1 = mapper_occ1.map(BosonicOp({'+_0': 1}))\n",
    "boson_m1 = mapper_occ1.map(BosonicOp({'-_0': 1}))\n",
    "print(boson_p1)\n",
    "\n",
    "print(\"\\nMax occupation = 2\")\n",
    "mapper_occ2 = BosonicLinearMapper(max_occupation=2)\n",
    "boson_p2 = mapper_occ2.map(BosonicOp({'+_0': 1}))\n",
    "boson_m2 = mapper_occ2.map(BosonicOp({'-_0': 1}))\n",
    "print(boson_p2)\n",
    "\n",
    "print(\"\\nMax occupation = 3\")\n",
    "mapper_occ3 = BosonicLinearMapper(max_occupation=3)\n",
    "boson_p3 = mapper_occ3.map(BosonicOp({'+_0': 1}))\n",
    "boson_m3 = mapper_occ3.map(BosonicOp({'-_0': 1}))\n",
    "print(boson_p3)"
   ]
  },
  {
   "cell_type": "code",
   "execution_count": null,
   "metadata": {},
   "outputs": [],
   "source": []
  }
 ],
 "metadata": {
  "kernelspec": {
   "display_name": "Python 3",
   "language": "python",
   "name": "python3"
  },
  "language_info": {
   "codemirror_mode": {
    "name": "ipython",
    "version": 3
   },
   "file_extension": ".py",
   "mimetype": "text/x-python",
   "name": "python",
   "nbconvert_exporter": "python",
   "pygments_lexer": "ipython3",
   "version": "3.9.16"
  }
 },
 "nbformat": 4,
 "nbformat_minor": 2
}
