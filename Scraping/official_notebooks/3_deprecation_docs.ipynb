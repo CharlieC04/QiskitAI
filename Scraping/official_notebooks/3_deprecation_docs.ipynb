{
 "cells": [
  {
   "cell_type": "code",
   "execution_count": 1,
   "id": "e9b2772b",
   "metadata": {
    "ExecuteTime": {
     "end_time": "2022-09-29T14:05:16.324559Z",
     "start_time": "2022-09-29T14:05:14.772088Z"
    }
   },
   "outputs": [],
   "source": [
    "from qiskit.utils.deprecation import deprecate_function\n",
    "from qiskit.utils.deprecation import deprecate_arguments"
   ]
  },
  {
   "cell_type": "code",
   "execution_count": 2,
   "id": "30a2aac2",
   "metadata": {
    "ExecuteTime": {
     "end_time": "2022-09-29T14:05:47.673136Z",
     "start_time": "2022-09-29T14:05:47.661486Z"
    }
   },
   "outputs": [],
   "source": [
    "class DummyClass:\n",
    "    \"\"\"This is short description. Let's make it\n",
    "    multiline\"\"\"\n",
    "\n",
    "    def __init__(self, arg1: int = None, arg2: [int] = None):\n",
    "        self.arg1 = arg1\n",
    "        self.arg2 = arg2\n",
    "\n",
    "    @deprecate_function(\n",
    "        \"The DummyClass.foo() method is being deprecated. Use the DummyClass.some_othermethod()\",\n",
    "        since=\"1.2.3\",\n",
    "    )\n",
    "    def foo_deprecated(self, index_arg2: int):\n",
    "        \"\"\"A multi-line\n",
    "        docstring.\n",
    "\n",
    "        Here are more details.\n",
    "\n",
    "        Args:\n",
    "            index_arg2: `index_arg2` description\n",
    "\n",
    "        Returns:\n",
    "            int: returns `arg2[index_arg2]`\n",
    "\n",
    "        Raises:\n",
    "            QiskitError: if `len(self.arg2) < index_arg2`\n",
    "        \"\"\"\n",
    "        if len(self.arg2) < index_arg2:\n",
    "            raise QiskitError(\"there is an error\")\n",
    "        return self.arg2[index_arg2]\n",
    "\n",
    "    @deprecate_arguments({\"if_arg1\": \"other_if_arg1\"}, since=\"1.2.3\")\n",
    "    def bar_with_deprecated_arg(\n",
    "        self, if_arg1: int = None, index_arg2: int = None, other_if_arg1: int = None\n",
    "    ):\n",
    "        \"\"\"\n",
    "        A multi-line short\n",
    "        docstring.\n",
    "\n",
    "        This is the long description\n",
    "\n",
    "        Args:\n",
    "            if_arg1: `if_arg1` description with\n",
    "               multi-line\n",
    "            index_arg2: `index_arg2` description\n",
    "            other_if_arg1: `other_if_arg1` description\n",
    "\n",
    "        Returns:\n",
    "            int or None: if `if_arg1 == self.arg1`, returns `arg2[index_arg2]`\n",
    "        \"\"\"\n",
    "        if other_if_arg1 == self.arg1 or if_arg1 == self.arg1:\n",
    "            return self.arg2[index_arg2]\n",
    "        return None"
   ]
  },
  {
   "cell_type": "code",
   "execution_count": 7,
   "id": "789104bd",
   "metadata": {
    "ExecuteTime": {
     "end_time": "2022-09-29T14:07:37.026133Z",
     "start_time": "2022-09-29T14:07:37.023619Z"
    }
   },
   "outputs": [],
   "source": [
    "d = DummyClass(1, [1,2])"
   ]
  },
  {
   "cell_type": "code",
   "execution_count": 8,
   "id": "f02a5c47",
   "metadata": {
    "ExecuteTime": {
     "end_time": "2022-09-29T14:07:38.217469Z",
     "start_time": "2022-09-29T14:07:38.175495Z"
    }
   },
   "outputs": [
    {
     "name": "stderr",
     "output_type": "stream",
     "text": [
      "<ipython-input-8-a054c87ca79f>:1: DeprecationWarning: The DummyClass.foo() method is being deprecated. Use the DummyClass.some_othermethod()\n",
      "  d.foo_deprecated(0)\n"
     ]
    },
    {
     "data": {
      "text/plain": [
       "1"
      ]
     },
     "execution_count": 8,
     "metadata": {},
     "output_type": "execute_result"
    }
   ],
   "source": [
    "d.foo_deprecated(0)"
   ]
  },
  {
   "cell_type": "code",
   "execution_count": 10,
   "id": "201774d4",
   "metadata": {
    "ExecuteTime": {
     "end_time": "2022-09-29T14:07:59.230914Z",
     "start_time": "2022-09-29T14:07:59.228221Z"
    }
   },
   "outputs": [
    {
     "name": "stdout",
     "output_type": "stream",
     "text": [
      "A multi-line\n",
      "        docstring.\n",
      "\n",
      "        Here are more details.\n",
      "\n",
      "        .. deprecated:: 1.2.3\n",
      "          The DummyClass.foo() method is being deprecated. Use the DummyClass.some_othermethod()\n",
      "\n",
      "        Args:\n",
      "            index_arg2: `index_arg2` description\n",
      "\n",
      "        Returns:\n",
      "            int: returns `arg2[index_arg2]`\n",
      "\n",
      "        Raises:\n",
      "            QiskitError: if `len(self.arg2) < index_arg2`\n",
      "        \n"
     ]
    }
   ],
   "source": [
    "print(d.foo_deprecated.__doc__)"
   ]
  },
  {
   "cell_type": "code",
   "execution_count": 14,
   "id": "0472f1ba",
   "metadata": {
    "ExecuteTime": {
     "end_time": "2022-09-29T14:09:52.052435Z",
     "start_time": "2022-09-29T14:09:52.049887Z"
    }
   },
   "outputs": [
    {
     "name": "stderr",
     "output_type": "stream",
     "text": [
      "<ipython-input-14-3be6551c96eb>:1: DeprecationWarning: bar_with_deprecated_arg keyword argument if_arg1 is deprecated and replaced with other_if_arg1.\n",
      "  d.bar_with_deprecated_arg(if_arg1=0)\n"
     ]
    }
   ],
   "source": [
    "d.bar_with_deprecated_arg(if_arg1=0)"
   ]
  },
  {
   "cell_type": "code",
   "execution_count": 15,
   "id": "cf04e4cb",
   "metadata": {
    "ExecuteTime": {
     "end_time": "2022-09-29T14:10:07.109806Z",
     "start_time": "2022-09-29T14:10:07.107018Z"
    }
   },
   "outputs": [],
   "source": [
    "d.bar_with_deprecated_arg(other_if_arg1=0)"
   ]
  },
  {
   "cell_type": "code",
   "execution_count": 16,
   "id": "78eb32b1",
   "metadata": {
    "ExecuteTime": {
     "end_time": "2022-09-29T14:10:24.519492Z",
     "start_time": "2022-09-29T14:10:24.515916Z"
    }
   },
   "outputs": [
    {
     "name": "stdout",
     "output_type": "stream",
     "text": [
      "\n",
      "        A multi-line short\n",
      "        docstring.\n",
      "\n",
      "        This is the long description\n",
      "\n",
      "        Args:\n",
      "            if_arg1:\n",
      "                .. deprecated:: 1.2.3\n",
      "                    The keyword argument ``if_arg1`` is deprecated.\n",
      "                    Please, use ``other_if_arg1`` instead.\n",
      "\n",
      "            index_arg2: `index_arg2` description\n",
      "            other_if_arg1: `other_if_arg1` description\n",
      "\n",
      "        Returns:\n",
      "            int or None: if `if_arg1 == self.arg1`, returns `arg2[index_arg2]`\n",
      "        \n"
     ]
    }
   ],
   "source": [
    "print(d.bar_with_deprecated_arg.__doc__)"
   ]
  },
  {
   "cell_type": "code",
   "execution_count": 33,
   "id": "77cc1b10",
   "metadata": {
    "ExecuteTime": {
     "end_time": "2022-09-29T14:38:53.784347Z",
     "start_time": "2022-09-29T14:38:53.779690Z"
    }
   },
   "outputs": [
    {
     "name": "stdout",
     "output_type": "stream",
     "text": [
      "Normal docstring\n",
      "\n",
      ".. deprecated:: 1.2.3\n",
      "  deprecation message\n"
     ]
    }
   ],
   "source": [
    "def f():\n",
    "    \"\"\"Normal docstring\"\"\"\n",
    "    pass\n",
    "deprecate_function(\"deprecation message\", since=\"1.2.3\")(f)\n",
    "print(f.__doc__)"
   ]
  },
  {
   "cell_type": "code",
   "execution_count": 35,
   "id": "1e5d8d80",
   "metadata": {
    "ExecuteTime": {
     "end_time": "2022-09-29T14:39:13.848468Z",
     "start_time": "2022-09-29T14:39:13.844162Z"
    }
   },
   "outputs": [
    {
     "name": "stdout",
     "output_type": "stream",
     "text": [
      "None\n"
     ]
    }
   ],
   "source": [
    "def f():\n",
    "    \"\"\"Normal docstring\"\"\"\n",
    "    pass\n",
    "deprecate_function(\"deprecation message\", modify_docstring=False, since=\"1.2.3\")(f)\n",
    "print(f.__doc__)"
   ]
  },
  {
   "cell_type": "code",
   "execution_count": 37,
   "id": "39760d6f",
   "metadata": {
    "ExecuteTime": {
     "end_time": "2022-09-29T14:40:24.816844Z",
     "start_time": "2022-09-29T14:40:24.811991Z"
    }
   },
   "outputs": [
    {
     "name": "stdout",
     "output_type": "stream",
     "text": [
      "Normal docstring\n"
     ]
    },
    {
     "name": "stderr",
     "output_type": "stream",
     "text": [
      "<ipython-input-37-8375d798f5f6>:4: UserWarning: Modifying the docstring needs a version. Add parameter `since` with it.\n",
      "  deprecate_function(\"deprecation message\", modify_docstring=True)(f)\n"
     ]
    }
   ],
   "source": [
    "def f():\n",
    "    \"\"\"Normal docstring\"\"\"\n",
    "    pass\n",
    "deprecate_function(\"deprecation message\", modify_docstring=True)(f)\n",
    "print(f.__doc__)"
   ]
  },
  {
   "cell_type": "code",
   "execution_count": 38,
   "id": "356a5789",
   "metadata": {
    "ExecuteTime": {
     "end_time": "2022-09-29T14:41:11.871559Z",
     "start_time": "2022-09-29T14:41:11.868581Z"
    }
   },
   "outputs": [],
   "source": [
    "from qiskit import __version__"
   ]
  },
  {
   "cell_type": "code",
   "execution_count": 39,
   "id": "7dd6eefd",
   "metadata": {
    "ExecuteTime": {
     "end_time": "2022-09-29T14:41:23.889814Z",
     "start_time": "2022-09-29T14:41:23.886594Z"
    }
   },
   "outputs": [
    {
     "name": "stdout",
     "output_type": "stream",
     "text": [
      "Normal docstring\n",
      "\n",
      ".. deprecated:: 0.22.0.dev0+427a334\n",
      "  deprecation message\n"
     ]
    }
   ],
   "source": [
    "def f():\n",
    "    \"\"\"Normal docstring\"\"\"\n",
    "    pass\n",
    "deprecate_function(\"deprecation message\", modify_docstring=True, since=__version__)(f)\n",
    "print(f.__doc__)"
   ]
  },
  {
   "cell_type": "code",
   "execution_count": null,
   "id": "56b4650c",
   "metadata": {},
   "outputs": [],
   "source": []
  }
 ],
 "metadata": {
  "kernelspec": {
   "display_name": "Python 3",
   "language": "python",
   "name": "python3"
  },
  "language_info": {
   "codemirror_mode": {
    "name": "ipython",
    "version": 3
   },
   "file_extension": ".py",
   "mimetype": "text/x-python",
   "name": "python",
   "nbconvert_exporter": "python",
   "pygments_lexer": "ipython3",
   "version": "3.9.13"
  }
 },
 "nbformat": 4,
 "nbformat_minor": 5
}
