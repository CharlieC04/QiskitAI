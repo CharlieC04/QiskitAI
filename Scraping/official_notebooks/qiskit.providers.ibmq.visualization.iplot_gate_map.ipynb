{
 "cells": [
  {
   "cell_type": "code",
   "execution_count": 1,
   "id": "ae7fa76e",
   "metadata": {
    "execution": {
     "iopub.execute_input": "2023-05-03T18:48:55.905142Z",
     "iopub.status.busy": "2023-05-03T18:48:55.904851Z",
     "iopub.status.idle": "2023-05-03T18:48:56.409799Z",
     "shell.execute_reply": "2023-05-03T18:48:56.409120Z"
    }
   },
   "outputs": [],
   "source": [
    "from qiskit.test.ibmq_mock import mock_get_backend\n",
    "mock_get_backend('FakeVigo')"
   ]
  },
  {
   "cell_type": "code",
   "execution_count": 2,
   "id": "8b60023d",
   "metadata": {
    "execution": {
     "iopub.execute_input": "2023-05-03T18:48:56.413390Z",
     "iopub.status.busy": "2023-05-03T18:48:56.412796Z",
     "iopub.status.idle": "2023-05-03T18:48:57.687310Z",
     "shell.execute_reply": "2023-05-03T18:48:57.686511Z"
    }
   },
   "outputs": [
    {
     "data": {
      "application/vnd.jupyter.widget-view+json": {
       "model_id": "4430339791054551b3a421eefa5f665d",
       "version_major": 2,
       "version_minor": 0
      },
      "text/plain": [
       "PlotlyWidget({\n",
       "    'data': [{'hoverinfo': 'none',\n",
       "              'line': {'color': '#2f4b7c', 'width': 6},\n",
       "              'mode': 'lines',\n",
       "              'type': 'scatter',\n",
       "              'uid': '225fd5b2-110c-4875-ae47-226e2a100786',\n",
       "              'x': [0, 0.5, 0.5],\n",
       "              'y': [-1, -0.5, -0.5]},\n",
       "             {'hoverinfo': 'none',\n",
       "              'line': {'color': '#2f4b7c', 'width': 6},\n",
       "              'mode': 'lines',\n",
       "              'type': 'scatter',\n",
       "              'uid': 'bc68e7bc-061d-40ec-83c1-fbf74d275613',\n",
       "              'x': [1, 0.5, 0.5],\n",
       "              'y': [0, -0.5, -0.5]},\n",
       "             {'hoverinfo': 'none',\n",
       "              'line': {'color': '#2f4b7c', 'width': 6},\n",
       "              'mode': 'lines',\n",
       "              'type': 'scatter',\n",
       "              'uid': 'c4385201-d2ef-491d-b5c4-83af69fcc89f',\n",
       "              'x': [1, 1, 1],\n",
       "              'y': [0, -0.5, -0.5]},\n",
       "             {'hoverinfo': 'none',\n",
       "              'line': {'color': '#2f4b7c', 'width': 6},\n",
       "              'mode': 'lines',\n",
       "              'type': 'scatter',\n",
       "              'uid': 'b93c8cf7-7f0c-40cf-ac98-1387cc42decf',\n",
       "              'x': [1, 1.5, 1.5],\n",
       "              'y': [0, -0.5, -0.5]},\n",
       "             {'hoverinfo': 'none',\n",
       "              'line': {'color': '#2f4b7c', 'width': 6},\n",
       "              'mode': 'lines',\n",
       "              'type': 'scatter',\n",
       "              'uid': '97523c2c-938f-4d16-9a0a-2a5098fb9328',\n",
       "              'x': [1, 1, 1],\n",
       "              'y': [-1, -0.5, -0.5]},\n",
       "             {'hoverinfo': 'none',\n",
       "              'line': {'color': '#2f4b7c', 'width': 6},\n",
       "              'mode': 'lines',\n",
       "              'type': 'scatter',\n",
       "              'uid': '282b863c-3a3d-4701-aa02-904eca3c1378',\n",
       "              'x': [2, 1.5, 1.5],\n",
       "              'y': [-1, -0.5, -0.5]},\n",
       "             {'hoverinfo': 'none',\n",
       "              'line': {'color': '#2f4b7c', 'width': 6},\n",
       "              'mode': 'lines',\n",
       "              'type': 'scatter',\n",
       "              'uid': 'a1f9fd89-e825-47bd-9cce-a6c3e490614d',\n",
       "              'x': [2, 1.5, 1.5],\n",
       "              'y': [-1, -1.5, -1.5]},\n",
       "             {'hoverinfo': 'none',\n",
       "              'line': {'color': '#2f4b7c', 'width': 6},\n",
       "              'mode': 'lines',\n",
       "              'type': 'scatter',\n",
       "              'uid': '8cf0e758-5712-465a-b633-f3c42765a559',\n",
       "              'x': [1, 1.5, 1.5],\n",
       "              'y': [-2, -1.5, -1.5]},\n",
       "             {'hoverinfo': 'text',\n",
       "              'hovertext': [<b>Qubit 0, <b>Qubit 1, <b>Qubit 2, <b>Qubit 3,\n",
       "                            <b>Qubit 4],\n",
       "              'marker': {'color': ['#2f4b7c', '#2f4b7c', '#2f4b7c', '#2f4b7c', '#2f4b7c'], 'opacity': 1, 'size': 32},\n",
       "              'mode': 'markers+text',\n",
       "              'text': [0, 1, 2, 3, 4],\n",
       "              'textfont': {'color': 'white', 'size': 14},\n",
       "              'textposition': 'middle center',\n",
       "              'type': 'scatter',\n",
       "              'uid': 'c50c2d43-52e9-4cca-8643-c99ff13e4ff3',\n",
       "              'x': [0, 1, 1, 2, 1],\n",
       "              'y': [-1, 0, -1, -1, -2]}],\n",
       "    'layout': {'height': 300,\n",
       "               'margin': {'b': 0, 'l': 0, 'r': 0, 't': 30},\n",
       "               'paper_bgcolor': 'white',\n",
       "               'plot_bgcolor': 'white',\n",
       "               'showlegend': False,\n",
       "               'template': '...',\n",
       "               'width': 300,\n",
       "               'xaxis': {'visible': False},\n",
       "               'yaxis': {'visible': False}}\n",
       "})"
      ]
     },
     "execution_count": 2,
     "metadata": {},
     "output_type": "execute_result"
    }
   ],
   "source": [
    "from qiskit import IBMQ\n",
    "from qiskit.providers.ibmq.visualization import iplot_gate_map\n",
    "\n",
    "IBMQ.load_account()\n",
    "\n",
    "provider = IBMQ.get_provider(group='open', project='main')\n",
    "backend = provider.get_backend('ibmq_vigo')\n",
    "\n",
    "iplot_gate_map(backend, as_widget=True)"
   ]
  }
 ],
 "metadata": {
  "kernelspec": {
   "display_name": "Python 3 (ipykernel)",
   "language": "python",
   "name": "python3"
  },
  "language_info": {
   "codemirror_mode": {
    "name": "ipython",
    "version": 3
   },
   "file_extension": ".py",
   "mimetype": "text/x-python",
   "name": "python",
   "nbconvert_exporter": "python",
   "pygments_lexer": "ipython3",
   "version": "3.8.16"
  },
  "widgets": {
   "application/vnd.jupyter.widget-state+json": {
    "state": {
     "4430339791054551b3a421eefa5f665d": {
      "model_module": "jupyterlab-plotly",
      "model_module_version": "^5.14.1",
      "model_name": "FigureModel",
      "state": {
       "_config": {
        "plotlyServerURL": "https://plot.ly"
       },
       "_data": [
        {
         "hoverinfo": "none",
         "line": {
          "color": "#2f4b7c",
          "width": 6
         },
         "mode": "lines",
         "type": "scatter",
         "uid": "225fd5b2-110c-4875-ae47-226e2a100786",
         "x": [
          0,
          0.5,
          0.5
         ],
         "y": [
          -1,
          -0.5,
          -0.5
         ]
        },
        {
         "hoverinfo": "none",
         "line": {
          "color": "#2f4b7c",
          "width": 6
         },
         "mode": "lines",
         "type": "scatter",
         "uid": "bc68e7bc-061d-40ec-83c1-fbf74d275613",
         "x": [
          1,
          0.5,
          0.5
         ],
         "y": [
          0,
          -0.5,
          -0.5
         ]
        },
        {
         "hoverinfo": "none",
         "line": {
          "color": "#2f4b7c",
          "width": 6
         },
         "mode": "lines",
         "type": "scatter",
         "uid": "c4385201-d2ef-491d-b5c4-83af69fcc89f",
         "x": [
          1,
          1,
          1
         ],
         "y": [
          0,
          -0.5,
          -0.5
         ]
        },
        {
         "hoverinfo": "none",
         "line": {
          "color": "#2f4b7c",
          "width": 6
         },
         "mode": "lines",
         "type": "scatter",
         "uid": "b93c8cf7-7f0c-40cf-ac98-1387cc42decf",
         "x": [
          1,
          1.5,
          1.5
         ],
         "y": [
          0,
          -0.5,
          -0.5
         ]
        },
        {
         "hoverinfo": "none",
         "line": {
          "color": "#2f4b7c",
          "width": 6
         },
         "mode": "lines",
         "type": "scatter",
         "uid": "97523c2c-938f-4d16-9a0a-2a5098fb9328",
         "x": [
          1,
          1,
          1
         ],
         "y": [
          -1,
          -0.5,
          -0.5
         ]
        },
        {
         "hoverinfo": "none",
         "line": {
          "color": "#2f4b7c",
          "width": 6
         },
         "mode": "lines",
         "type": "scatter",
         "uid": "282b863c-3a3d-4701-aa02-904eca3c1378",
         "x": [
          2,
          1.5,
          1.5
         ],
         "y": [
          -1,
          -0.5,
          -0.5
         ]
        },
        {
         "hoverinfo": "none",
         "line": {
          "color": "#2f4b7c",
          "width": 6
         },
         "mode": "lines",
         "type": "scatter",
         "uid": "a1f9fd89-e825-47bd-9cce-a6c3e490614d",
         "x": [
          2,
          1.5,
          1.5
         ],
         "y": [
          -1,
          -1.5,
          -1.5
         ]
        },
        {
         "hoverinfo": "none",
         "line": {
          "color": "#2f4b7c",
          "width": 6
         },
         "mode": "lines",
         "type": "scatter",
         "uid": "8cf0e758-5712-465a-b633-f3c42765a559",
         "x": [
          1,
          1.5,
          1.5
         ],
         "y": [
          -2,
          -1.5,
          -1.5
         ]
        },
        {
         "hoverinfo": "text",
         "hovertext": [
          "<b>Qubit 0",
          "<b>Qubit 1",
          "<b>Qubit 2",
          "<b>Qubit 3",
          "<b>Qubit 4"
         ],
         "marker": {
          "color": [
           "#2f4b7c",
           "#2f4b7c",
           "#2f4b7c",
           "#2f4b7c",
           "#2f4b7c"
          ],
          "opacity": 1,
          "size": 32
         },
         "mode": "markers+text",
         "text": [
          "0",
          "1",
          "2",
          "3",
          "4"
         ],
         "textfont": {
          "color": "white",
          "size": 14
         },
         "textposition": "middle center",
         "type": "scatter",
         "uid": "c50c2d43-52e9-4cca-8643-c99ff13e4ff3",
         "x": [
          0,
          1,
          1,
          2,
          1
         ],
         "y": [
          -1,
          0,
          -1,
          -1,
          -2
         ]
        }
       ],
       "_dom_classes": [],
       "_js2py_layoutDelta": {},
       "_js2py_pointsCallback": {},
       "_js2py_relayout": {},
       "_js2py_restyle": {},
       "_js2py_traceDeltas": {},
       "_js2py_update": {},
       "_last_layout_edit_id": 0,
       "_last_trace_edit_id": 0,
       "_layout": {
        "height": 300,
        "margin": {
         "b": 0,
         "l": 0,
         "r": 0,
         "t": 30
        },
        "paper_bgcolor": "white",
        "plot_bgcolor": "white",
        "showlegend": false,
        "template": {
         "data": {
          "bar": [
           {
            "error_x": {
             "color": "#2a3f5f"
            },
            "error_y": {
             "color": "#2a3f5f"
            },
            "marker": {
             "line": {
              "color": "#E5ECF6",
              "width": 0.5
             },
             "pattern": {
              "fillmode": "overlay",
              "size": 10,
              "solidity": 0.2
             }
            },
            "type": "bar"
           }
          ],
          "barpolar": [
           {
            "marker": {
             "line": {
              "color": "#E5ECF6",
              "width": 0.5
             },
             "pattern": {
              "fillmode": "overlay",
              "size": 10,
              "solidity": 0.2
             }
            },
            "type": "barpolar"
           }
          ],
          "carpet": [
           {
            "aaxis": {
             "endlinecolor": "#2a3f5f",
             "gridcolor": "white",
             "linecolor": "white",
             "minorgridcolor": "white",
             "startlinecolor": "#2a3f5f"
            },
            "baxis": {
             "endlinecolor": "#2a3f5f",
             "gridcolor": "white",
             "linecolor": "white",
             "minorgridcolor": "white",
             "startlinecolor": "#2a3f5f"
            },
            "type": "carpet"
           }
          ],
          "choropleth": [
           {
            "colorbar": {
             "outlinewidth": 0,
             "ticks": ""
            },
            "type": "choropleth"
           }
          ],
          "contour": [
           {
            "colorbar": {
             "outlinewidth": 0,
             "ticks": ""
            },
            "colorscale": [
             [
              0.0,
              "#0d0887"
             ],
             [
              0.1111111111111111,
              "#46039f"
             ],
             [
              0.2222222222222222,
              "#7201a8"
             ],
             [
              0.3333333333333333,
              "#9c179e"
             ],
             [
              0.4444444444444444,
              "#bd3786"
             ],
             [
              0.5555555555555556,
              "#d8576b"
             ],
             [
              0.6666666666666666,
              "#ed7953"
             ],
             [
              0.7777777777777778,
              "#fb9f3a"
             ],
             [
              0.8888888888888888,
              "#fdca26"
             ],
             [
              1.0,
              "#f0f921"
             ]
            ],
            "type": "contour"
           }
          ],
          "contourcarpet": [
           {
            "colorbar": {
             "outlinewidth": 0,
             "ticks": ""
            },
            "type": "contourcarpet"
           }
          ],
          "heatmap": [
           {
            "colorbar": {
             "outlinewidth": 0,
             "ticks": ""
            },
            "colorscale": [
             [
              0.0,
              "#0d0887"
             ],
             [
              0.1111111111111111,
              "#46039f"
             ],
             [
              0.2222222222222222,
              "#7201a8"
             ],
             [
              0.3333333333333333,
              "#9c179e"
             ],
             [
              0.4444444444444444,
              "#bd3786"
             ],
             [
              0.5555555555555556,
              "#d8576b"
             ],
             [
              0.6666666666666666,
              "#ed7953"
             ],
             [
              0.7777777777777778,
              "#fb9f3a"
             ],
             [
              0.8888888888888888,
              "#fdca26"
             ],
             [
              1.0,
              "#f0f921"
             ]
            ],
            "type": "heatmap"
           }
          ],
          "heatmapgl": [
           {
            "colorbar": {
             "outlinewidth": 0,
             "ticks": ""
            },
            "colorscale": [
             [
              0.0,
              "#0d0887"
             ],
             [
              0.1111111111111111,
              "#46039f"
             ],
             [
              0.2222222222222222,
              "#7201a8"
             ],
             [
              0.3333333333333333,
              "#9c179e"
             ],
             [
              0.4444444444444444,
              "#bd3786"
             ],
             [
              0.5555555555555556,
              "#d8576b"
             ],
             [
              0.6666666666666666,
              "#ed7953"
             ],
             [
              0.7777777777777778,
              "#fb9f3a"
             ],
             [
              0.8888888888888888,
              "#fdca26"
             ],
             [
              1.0,
              "#f0f921"
             ]
            ],
            "type": "heatmapgl"
           }
          ],
          "histogram": [
           {
            "marker": {
             "pattern": {
              "fillmode": "overlay",
              "size": 10,
              "solidity": 0.2
             }
            },
            "type": "histogram"
           }
          ],
          "histogram2d": [
           {
            "colorbar": {
             "outlinewidth": 0,
             "ticks": ""
            },
            "colorscale": [
             [
              0.0,
              "#0d0887"
             ],
             [
              0.1111111111111111,
              "#46039f"
             ],
             [
              0.2222222222222222,
              "#7201a8"
             ],
             [
              0.3333333333333333,
              "#9c179e"
             ],
             [
              0.4444444444444444,
              "#bd3786"
             ],
             [
              0.5555555555555556,
              "#d8576b"
             ],
             [
              0.6666666666666666,
              "#ed7953"
             ],
             [
              0.7777777777777778,
              "#fb9f3a"
             ],
             [
              0.8888888888888888,
              "#fdca26"
             ],
             [
              1.0,
              "#f0f921"
             ]
            ],
            "type": "histogram2d"
           }
          ],
          "histogram2dcontour": [
           {
            "colorbar": {
             "outlinewidth": 0,
             "ticks": ""
            },
            "colorscale": [
             [
              0.0,
              "#0d0887"
             ],
             [
              0.1111111111111111,
              "#46039f"
             ],
             [
              0.2222222222222222,
              "#7201a8"
             ],
             [
              0.3333333333333333,
              "#9c179e"
             ],
             [
              0.4444444444444444,
              "#bd3786"
             ],
             [
              0.5555555555555556,
              "#d8576b"
             ],
             [
              0.6666666666666666,
              "#ed7953"
             ],
             [
              0.7777777777777778,
              "#fb9f3a"
             ],
             [
              0.8888888888888888,
              "#fdca26"
             ],
             [
              1.0,
              "#f0f921"
             ]
            ],
            "type": "histogram2dcontour"
           }
          ],
          "mesh3d": [
           {
            "colorbar": {
             "outlinewidth": 0,
             "ticks": ""
            },
            "type": "mesh3d"
           }
          ],
          "parcoords": [
           {
            "line": {
             "colorbar": {
              "outlinewidth": 0,
              "ticks": ""
             }
            },
            "type": "parcoords"
           }
          ],
          "pie": [
           {
            "automargin": true,
            "type": "pie"
           }
          ],
          "scatter": [
           {
            "fillpattern": {
             "fillmode": "overlay",
             "size": 10,
             "solidity": 0.2
            },
            "type": "scatter"
           }
          ],
          "scatter3d": [
           {
            "line": {
             "colorbar": {
              "outlinewidth": 0,
              "ticks": ""
             }
            },
            "marker": {
             "colorbar": {
              "outlinewidth": 0,
              "ticks": ""
             }
            },
            "type": "scatter3d"
           }
          ],
          "scattercarpet": [
           {
            "marker": {
             "colorbar": {
              "outlinewidth": 0,
              "ticks": ""
             }
            },
            "type": "scattercarpet"
           }
          ],
          "scattergeo": [
           {
            "marker": {
             "colorbar": {
              "outlinewidth": 0,
              "ticks": ""
             }
            },
            "type": "scattergeo"
           }
          ],
          "scattergl": [
           {
            "marker": {
             "colorbar": {
              "outlinewidth": 0,
              "ticks": ""
             }
            },
            "type": "scattergl"
           }
          ],
          "scattermapbox": [
           {
            "marker": {
             "colorbar": {
              "outlinewidth": 0,
              "ticks": ""
             }
            },
            "type": "scattermapbox"
           }
          ],
          "scatterpolar": [
           {
            "marker": {
             "colorbar": {
              "outlinewidth": 0,
              "ticks": ""
             }
            },
            "type": "scatterpolar"
           }
          ],
          "scatterpolargl": [
           {
            "marker": {
             "colorbar": {
              "outlinewidth": 0,
              "ticks": ""
             }
            },
            "type": "scatterpolargl"
           }
          ],
          "scatterternary": [
           {
            "marker": {
             "colorbar": {
              "outlinewidth": 0,
              "ticks": ""
             }
            },
            "type": "scatterternary"
           }
          ],
          "surface": [
           {
            "colorbar": {
             "outlinewidth": 0,
             "ticks": ""
            },
            "colorscale": [
             [
              0.0,
              "#0d0887"
             ],
             [
              0.1111111111111111,
              "#46039f"
             ],
             [
              0.2222222222222222,
              "#7201a8"
             ],
             [
              0.3333333333333333,
              "#9c179e"
             ],
             [
              0.4444444444444444,
              "#bd3786"
             ],
             [
              0.5555555555555556,
              "#d8576b"
             ],
             [
              0.6666666666666666,
              "#ed7953"
             ],
             [
              0.7777777777777778,
              "#fb9f3a"
             ],
             [
              0.8888888888888888,
              "#fdca26"
             ],
             [
              1.0,
              "#f0f921"
             ]
            ],
            "type": "surface"
           }
          ],
          "table": [
           {
            "cells": {
             "fill": {
              "color": "#EBF0F8"
             },
             "line": {
              "color": "white"
             }
            },
            "header": {
             "fill": {
              "color": "#C8D4E3"
             },
             "line": {
              "color": "white"
             }
            },
            "type": "table"
           }
          ]
         },
         "layout": {
          "annotationdefaults": {
           "arrowcolor": "#2a3f5f",
           "arrowhead": 0,
           "arrowwidth": 1
          },
          "autotypenumbers": "strict",
          "coloraxis": {
           "colorbar": {
            "outlinewidth": 0,
            "ticks": ""
           }
          },
          "colorscale": {
           "diverging": [
            [
             0,
             "#8e0152"
            ],
            [
             0.1,
             "#c51b7d"
            ],
            [
             0.2,
             "#de77ae"
            ],
            [
             0.3,
             "#f1b6da"
            ],
            [
             0.4,
             "#fde0ef"
            ],
            [
             0.5,
             "#f7f7f7"
            ],
            [
             0.6,
             "#e6f5d0"
            ],
            [
             0.7,
             "#b8e186"
            ],
            [
             0.8,
             "#7fbc41"
            ],
            [
             0.9,
             "#4d9221"
            ],
            [
             1,
             "#276419"
            ]
           ],
           "sequential": [
            [
             0.0,
             "#0d0887"
            ],
            [
             0.1111111111111111,
             "#46039f"
            ],
            [
             0.2222222222222222,
             "#7201a8"
            ],
            [
             0.3333333333333333,
             "#9c179e"
            ],
            [
             0.4444444444444444,
             "#bd3786"
            ],
            [
             0.5555555555555556,
             "#d8576b"
            ],
            [
             0.6666666666666666,
             "#ed7953"
            ],
            [
             0.7777777777777778,
             "#fb9f3a"
            ],
            [
             0.8888888888888888,
             "#fdca26"
            ],
            [
             1.0,
             "#f0f921"
            ]
           ],
           "sequentialminus": [
            [
             0.0,
             "#0d0887"
            ],
            [
             0.1111111111111111,
             "#46039f"
            ],
            [
             0.2222222222222222,
             "#7201a8"
            ],
            [
             0.3333333333333333,
             "#9c179e"
            ],
            [
             0.4444444444444444,
             "#bd3786"
            ],
            [
             0.5555555555555556,
             "#d8576b"
            ],
            [
             0.6666666666666666,
             "#ed7953"
            ],
            [
             0.7777777777777778,
             "#fb9f3a"
            ],
            [
             0.8888888888888888,
             "#fdca26"
            ],
            [
             1.0,
             "#f0f921"
            ]
           ]
          },
          "colorway": [
           "#636efa",
           "#EF553B",
           "#00cc96",
           "#ab63fa",
           "#FFA15A",
           "#19d3f3",
           "#FF6692",
           "#B6E880",
           "#FF97FF",
           "#FECB52"
          ],
          "font": {
           "color": "#2a3f5f"
          },
          "geo": {
           "bgcolor": "white",
           "lakecolor": "white",
           "landcolor": "#E5ECF6",
           "showlakes": true,
           "showland": true,
           "subunitcolor": "white"
          },
          "hoverlabel": {
           "align": "left"
          },
          "hovermode": "closest",
          "mapbox": {
           "style": "light"
          },
          "paper_bgcolor": "white",
          "plot_bgcolor": "#E5ECF6",
          "polar": {
           "angularaxis": {
            "gridcolor": "white",
            "linecolor": "white",
            "ticks": ""
           },
           "bgcolor": "#E5ECF6",
           "radialaxis": {
            "gridcolor": "white",
            "linecolor": "white",
            "ticks": ""
           }
          },
          "scene": {
           "xaxis": {
            "backgroundcolor": "#E5ECF6",
            "gridcolor": "white",
            "gridwidth": 2,
            "linecolor": "white",
            "showbackground": true,
            "ticks": "",
            "zerolinecolor": "white"
           },
           "yaxis": {
            "backgroundcolor": "#E5ECF6",
            "gridcolor": "white",
            "gridwidth": 2,
            "linecolor": "white",
            "showbackground": true,
            "ticks": "",
            "zerolinecolor": "white"
           },
           "zaxis": {
            "backgroundcolor": "#E5ECF6",
            "gridcolor": "white",
            "gridwidth": 2,
            "linecolor": "white",
            "showbackground": true,
            "ticks": "",
            "zerolinecolor": "white"
           }
          },
          "shapedefaults": {
           "line": {
            "color": "#2a3f5f"
           }
          },
          "ternary": {
           "aaxis": {
            "gridcolor": "white",
            "linecolor": "white",
            "ticks": ""
           },
           "baxis": {
            "gridcolor": "white",
            "linecolor": "white",
            "ticks": ""
           },
           "bgcolor": "#E5ECF6",
           "caxis": {
            "gridcolor": "white",
            "linecolor": "white",
            "ticks": ""
           }
          },
          "title": {
           "x": 0.05
          },
          "xaxis": {
           "automargin": true,
           "gridcolor": "white",
           "linecolor": "white",
           "ticks": "",
           "title": {
            "standoff": 15
           },
           "zerolinecolor": "white",
           "zerolinewidth": 2
          },
          "yaxis": {
           "automargin": true,
           "gridcolor": "white",
           "linecolor": "white",
           "ticks": "",
           "title": {
            "standoff": 15
           },
           "zerolinecolor": "white",
           "zerolinewidth": 2
          }
         }
        },
        "width": 300,
        "xaxis": {
         "visible": false
        },
        "yaxis": {
         "visible": false
        }
       },
       "_model_module": "jupyterlab-plotly",
       "_model_module_version": "^5.14.1",
       "_model_name": "FigureModel",
       "_py2js_addTraces": {},
       "_py2js_animate": {},
       "_py2js_deleteTraces": {},
       "_py2js_moveTraces": {},
       "_py2js_relayout": {},
       "_py2js_removeLayoutProps": {},
       "_py2js_removeTraceProps": {},
       "_py2js_restyle": {},
       "_py2js_update": {},
       "_view_count": 0,
       "_view_module": "jupyterlab-plotly",
       "_view_module_version": "^5.14.1",
       "_view_name": "FigureView"
      }
     }
    },
    "version_major": 2,
    "version_minor": 0
   }
  }
 },
 "nbformat": 4,
 "nbformat_minor": 5
}