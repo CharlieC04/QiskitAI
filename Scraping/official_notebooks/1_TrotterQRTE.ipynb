{
 "cells": [
  {
   "attachments": {},
   "cell_type": "markdown",
   "metadata": {
    "slideshow": {
     "slide_type": "slide"
    }
   },
   "source": [
    "# Adding support for t-dependent Hamiltonians to `TrotterQRTE` (#9565)\n",
    "\n",
    "### Why?\n",
    "* `TrotterQRTE` should support parameterized Hamiltonians (`t_param`)\n",
    "* [`SparsePauliOp` should support parameter assignments -- added in `#9796`]\n",
    "* `aux_operators` should be measured at **every step** during Trotter evolution\n"
   ]
  },
  {
   "attachments": {},
   "cell_type": "markdown",
   "metadata": {},
   "source": [
    "### Trotter Evolution\n",
    "\n",
    "* H can carry time-dependence\n",
    "$$H = \\sum_l a_l H_l$$\n",
    "\n",
    "* Trotterized time-evolution operator\n",
    "$$\n",
    "U(t) = \\exp \\Bigl( -i H t \\Bigr) = \\Bigl( e^{ -i \\frac{t}{n} \\sum_l a_l H_l} \\Bigr)^n$$\n",
    "$$\\longrightarrow \\quad\n",
    "U \\approx \\Bigl( \\prod_{l=1}^L e^{-i a_l H_l \\Delta t} \\Bigr)^n\n",
    "$$"
   ]
  },
  {
   "cell_type": "markdown",
   "metadata": {
    "slideshow": {
     "slide_type": "subslide"
    }
   },
   "source": [
    "### Trotter Evolution with t-dependent Hamiltonian\n",
    "\n",
    "* H can carry time-dependence\n",
    "$$H(t) = \\sum_l a_l(t) H_l$$\n",
    "\n",
    "* Trotterized time-evolution operator\n",
    "$$\n",
    "U(t_f,t_0) = \\mathcal{T} \\exp \\Biggl( -i \\int_{t_0}^{t_f} \\mathrm{d}{t'} \\, H(t') \\Biggr)$$\n",
    "$$\\longrightarrow \\quad \n",
    "U \\approx \\prod_{m=n}^1 e^{ -i \\Delta t \\sum_l a_l(m \\Delta t) H_l}$$\n",
    "$$\\longrightarrow \\quad\n",
    "U \\approx \\prod_{m=n}^1 \\prod_{l=1}^L e^{-i a_l(m \\Delta t) H_l \\Delta t}\n",
    "$$"
   ]
  },
  {
   "cell_type": "markdown",
   "metadata": {},
   "source": [
    "## Main changes:\n",
    "#### Previously:\n",
    "* initialize `TimeEvolutionProblem` and `TrotterQRTE` (and potentially `ProductFormula`)\n",
    "* call `TrotterQRTE.evolve(TimeEvolutionProblem)`\n",
    "    * `evolve()` then called `PauliEvolutionGate` which constructed **one gate for the entire Trotter evolution**\n",
    "    * the `evolution_gate` was then used to measure observables **at the end of the full evolution**\n",
    "\n",
    "#### Now:\n",
    "* added argument `TrotterQRTE(..., num_timesteps, ...)` otherwise **interface is unchanged**\n",
    "* initialize `TimeEvolutionProblem` and `TrotterQRTE` (and potentially `ProductFormula`)\n",
    "* call `TrotterQRTE.evolve(TimeEvolutionProblem)`\n",
    "    * `evolve()` loops over `num_timesteps`\n",
    "    * at each step:\n",
    "        * constructs `PauliEvolutionGate` from Hamiltonian with bound parameters\n",
    "        * measures `aux_operators`\n",
    "\n",
    "#### Careful\n",
    "* must set `reps=1` in `ProductFormula(..., reps = 1, ...)` (see documentation of `TrotterQRTE`)"
   ]
  },
  {
   "cell_type": "code",
   "execution_count": 2,
   "metadata": {},
   "outputs": [],
   "source": [
    "from qiskit.circuit import Parameter\n",
    "from qiskit import QuantumCircuit\n",
    "from qiskit.primitives import Estimator\n",
    "from qiskit.quantum_info import SparsePauliOp\n",
    "from qiskit.algorithms import TimeEvolutionProblem\n",
    "from qiskit.algorithms.time_evolvers import TrotterQRTE\n",
    "from qiskit.synthesis import LieTrotter\n",
    "\n",
    "import numpy as np"
   ]
  },
  {
   "cell_type": "code",
   "execution_count": 3,
   "metadata": {},
   "outputs": [
    {
     "name": "stdout",
     "output_type": "stream",
     "text": [
      "SparsePauliOp(['X', 'Z', 'Y'],\n",
      "              coeffs=[ParameterExpression(2.0 - 2.0*t), ParameterExpression(2.0*t), (1000+0j)])\n"
     ]
    }
   ],
   "source": [
    "A = lambda t: 1 - t\n",
    "B = lambda t: t\n",
    "t_param = Parameter(\"t\")\n",
    "\n",
    "op1 = SparsePauliOp([\"X\"], np.array([2*A(t_param)]))\n",
    "op2 = SparsePauliOp([\"Z\"], np.array([2*B(t_param)]))\n",
    "op3 = SparsePauliOp([\"Y\"], np.array([1000]))\n",
    "H_t = op1 + op2 + op3\n",
    "print(H_t)\n",
    "\n",
    "aux_op = [SparsePauliOp([\"Z\"])]\n",
    "\n",
    "T = 2\n",
    "reps = 10\n",
    "\n",
    "init = QuantumCircuit(1)\n",
    "# init.h(0)"
   ]
  },
  {
   "cell_type": "code",
   "execution_count": 4,
   "metadata": {},
   "outputs": [],
   "source": [
    "evolution_problem = TimeEvolutionProblem(\n",
    "    H_t,\n",
    "    time=T,\n",
    "    initial_state=init,\n",
    "    aux_operators=aux_op,\n",
    "    t_param=t_param\n",
    ")\n",
    "pf = LieTrotter(reps=1)\n",
    "estimator = Estimator()\n",
    "\n",
    "trotter_qrte = TrotterQRTE(product_formula=pf, num_timesteps=reps, estimator=estimator)\n",
    "result = trotter_qrte.evolve(evolution_problem)"
   ]
  },
  {
   "cell_type": "code",
   "execution_count": 5,
   "metadata": {},
   "outputs": [
    {
     "name": "stdout",
     "output_type": "stream",
     "text": [
      "   ┌──────────┐┌──────────┐┌─────────┐┌──────────┐┌──────────┐┌─────────┐»\n",
      "q: ┤ Rx(0.64) ├┤ Rz(0.16) ├┤ Ry(400) ├┤ Rx(0.48) ├┤ Rz(0.32) ├┤ Ry(400) ├»\n",
      "   └──────────┘└──────────┘└─────────┘└──────────┘└──────────┘└─────────┘»\n",
      "«   ┌──────────┐┌──────────┐┌─────────┐┌──────────┐┌──────────┐┌─────────┐»\n",
      "«q: ┤ Rx(0.32) ├┤ Rz(0.48) ├┤ Ry(400) ├┤ Rx(0.16) ├┤ Rz(0.64) ├┤ Ry(400) ├»\n",
      "«   └──────────┘└──────────┘└─────────┘└──────────┘└──────────┘└─────────┘»\n",
      "«   ┌───────┐┌─────────┐┌─────────┐┌───────────┐┌──────────┐┌─────────┐»\n",
      "«q: ┤ Rx(0) ├┤ Rz(0.8) ├┤ Ry(400) ├┤ Rx(-0.16) ├┤ Rz(0.96) ├┤ Ry(400) ├»\n",
      "«   └───────┘└─────────┘└─────────┘└───────────┘└──────────┘└─────────┘»\n",
      "«   ┌───────────┐┌──────────┐┌─────────┐┌───────────┐┌──────────┐┌─────────┐»\n",
      "«q: ┤ Rx(-0.32) ├┤ Rz(1.12) ├┤ Ry(400) ├┤ Rx(-0.48) ├┤ Rz(1.28) ├┤ Ry(400) ├»\n",
      "«   └───────────┘└──────────┘└─────────┘└───────────┘└──────────┘└─────────┘»\n",
      "«   ┌───────────┐┌──────────┐┌─────────┐┌──────────┐┌─────────┐┌─────────┐\n",
      "«q: ┤ Rx(-0.64) ├┤ Rz(1.44) ├┤ Ry(400) ├┤ Rx(-0.8) ├┤ Rz(1.6) ├┤ Ry(400) ├\n",
      "«   └───────────┘└──────────┘└─────────┘└──────────┘└─────────┘└─────────┘\n"
     ]
    }
   ],
   "source": [
    "full_evo_circ = result.evolved_state\n",
    "\n",
    "print(full_evo_circ.decompose().decompose())"
   ]
  },
  {
   "cell_type": "code",
   "execution_count": 6,
   "metadata": {},
   "outputs": [
    {
     "name": "stdout",
     "output_type": "stream",
     "text": [
      "final result (previous only aux_op evaluation):  [(0.5196318320730456, {})]\n",
      "\n",
      "Newly added aux_op evaluations at each time step:\n",
      "step 0:  <Z> = [(1.0, {})]\n",
      "step 1:  <Z> = [(-0.3403780024970582, {})]\n",
      "step 2:  <Z> = [(-0.1921446709473405, {})]\n",
      "step 3:  <Z> = [(0.9817563369486734, {})]\n",
      "step 4:  <Z> = [(-0.5124163987127632, {})]\n",
      "step 5:  <Z> = [(-0.037579783878145645, {})]\n",
      "step 6:  <Z> = [(0.7999948160086598, {})]\n",
      "step 7:  <Z> = [(-0.8506385802705987, {})]\n",
      "step 8:  <Z> = [(0.8247792619454901, {})]\n",
      "step 9:  <Z> = [(-0.5484314496609569, {})]\n",
      "step 10:  <Z> = [(0.5196318320730456, {})]\n"
     ]
    }
   ],
   "source": [
    "aux_op_res = result.aux_ops_evaluated\n",
    "obs_evo = result.observables\n",
    "\n",
    "print(f\"final result (previous only aux_op evaluation):  {aux_op_res}\\n\")\n",
    "print(\"Newly added aux_op evaluations at each time step:\")\n",
    "for i, m in enumerate(obs_evo):\n",
    "    print(f\"step {i}:  <Z> = {m}\")"
   ]
  },
  {
   "cell_type": "code",
   "execution_count": 7,
   "metadata": {},
   "outputs": [
    {
     "data": {
      "text/html": [
       "<h3>Version Information</h3><table><tr><th>Qiskit Software</th><th>Version</th></tr><tr><td><code>qiskit-terra</code></td><td>0.25.0.dev0+69dc975</td></tr><tr><td><code>qiskit-aer</code></td><td>0.12.0</td></tr><tr><td><code>qiskit-ibmq-provider</code></td><td>0.19.2.dev0+78a1222</td></tr><tr><td><code>qiskit-nature</code></td><td>0.6.0</td></tr><tr><th>System information</th></tr><tr><td>Python version</td><td>3.9.13</td></tr><tr><td>Python compiler</td><td>Clang 13.0.1 </td></tr><tr><td>Python build</td><td>main, May 27 2022 17:01:00</td></tr><tr><td>OS</td><td>Darwin</td></tr><tr><td>CPUs</td><td>4</td></tr><tr><td>Memory (Gb)</td><td>32.0</td></tr><tr><td colspan='2'>Thu May 04 15:19:07 2023 CEST</td></tr></table>"
      ],
      "text/plain": [
       "<IPython.core.display.HTML object>"
      ]
     },
     "metadata": {},
     "output_type": "display_data"
    },
    {
     "data": {
      "text/html": [
       "<div style='width: 100%; background-color:#d5d9e0;padding-left: 10px; padding-bottom: 10px; padding-right: 10px; padding-top: 5px'><h3>This code is a part of Qiskit</h3><p>&copy; Copyright IBM 2017, 2023.</p><p>This code is licensed under the Apache License, Version 2.0. You may<br>obtain a copy of this license in the LICENSE.txt file in the root directory<br> of this source tree or at http://www.apache.org/licenses/LICENSE-2.0.<p>Any modifications or derivative works of this code must retain this<br>copyright notice, and modified files need to carry a notice indicating<br>that they have been altered from the originals.</p></div>"
      ],
      "text/plain": [
       "<IPython.core.display.HTML object>"
      ]
     },
     "metadata": {},
     "output_type": "display_data"
    }
   ],
   "source": [
    "import qiskit.tools.jupyter\n",
    "\n",
    "%qiskit_version_table\n",
    "%qiskit_copyright"
   ]
  },
  {
   "cell_type": "code",
   "execution_count": null,
   "metadata": {},
   "outputs": [],
   "source": []
  }
 ],
 "metadata": {
  "celltoolbar": "Slideshow",
  "kernelspec": {
   "display_name": "Python 3 (ipykernel)",
   "language": "python",
   "name": "python3"
  },
  "language_info": {
   "codemirror_mode": {
    "name": "ipython",
    "version": 3
   },
   "file_extension": ".py",
   "mimetype": "text/x-python",
   "name": "python",
   "nbconvert_exporter": "python",
   "pygments_lexer": "ipython3",
   "version": "3.9.13"
  }
 },
 "nbformat": 4,
 "nbformat_minor": 2
}
