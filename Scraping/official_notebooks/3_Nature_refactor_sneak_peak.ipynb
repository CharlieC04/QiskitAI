{
 "cells": [
  {
   "cell_type": "markdown",
   "id": "5fb5d77a",
   "metadata": {
    "slideshow": {
     "slide_type": "slide"
    }
   },
   "source": [
    "# Qiskit Nature 0.5 - Sneak Peak\n",
    "\n",
    "Max Rossmannek\n",
    "\n",
    "Qiskit Demo Day - July 21st, 2022"
   ]
  },
  {
   "cell_type": "markdown",
   "id": "92a4e5a9",
   "metadata": {
    "slideshow": {
     "slide_type": "fragment"
    }
   },
   "source": [
    "Qiskit Nature is taking strides towards a non-driver focused future:\n",
    "- https://github.com/Qiskit/qiskit-nature/issues/701\n",
    "- https://github.com/Qiskit/qiskit-nature/pull/757"
   ]
  },
  {
   "cell_type": "markdown",
   "id": "d006217a",
   "metadata": {
    "slideshow": {
     "slide_type": "slide"
    }
   },
   "source": [
    "## The Old Way"
   ]
  },
  {
   "cell_type": "code",
   "execution_count": 1,
   "id": "6bc36f18",
   "metadata": {
    "slideshow": {
     "slide_type": "-"
    }
   },
   "outputs": [],
   "source": [
    "from qiskit_nature.drivers.second_quantization import PySCFDriver\n",
    "from qiskit_nature.transformers.second_quantization.electronic import FreezeCoreTransformer\n",
    "from qiskit_nature.problems.second_quantization.electronic import ElectronicStructureProblem"
   ]
  },
  {
   "cell_type": "code",
   "execution_count": 2,
   "id": "052de3ba",
   "metadata": {
    "slideshow": {
     "slide_type": "fragment"
    }
   },
   "outputs": [],
   "source": [
    "driver = PySCFDriver(atom=\"O 0.0 0.0 0.115; H 0.0 0.754 -0.459; H 0.0 -0.754 -0.459\")\n",
    "\n",
    "transformer = FreezeCoreTransformer()\n",
    "\n",
    "problem = ElectronicStructureProblem(driver, [transformer])"
   ]
  },
  {
   "cell_type": "code",
   "execution_count": 3,
   "id": "7d6f7fad",
   "metadata": {
    "slideshow": {
     "slide_type": "fragment"
    }
   },
   "outputs": [],
   "source": [
    "second_q_ops = problem.second_q_ops()\n",
    "# implicitly calls driver.run() EVERY time!"
   ]
  },
  {
   "cell_type": "code",
   "execution_count": 4,
   "id": "6df61a45",
   "metadata": {
    "slideshow": {
     "slide_type": "slide"
    }
   },
   "outputs": [
    {
     "name": "stdout",
     "output_type": "stream",
     "text": [
      "ParticleNumber\n",
      "Fermionic Operator\n",
      "register length=12, number terms=12\n",
      "  (1+0j) * ( +_0 -_0 )\n",
      "+ (1+0j) * ( +_1 -_1 )\n",
      "+ (1+0j) * ( +_2 -_2 )\n",
      "+ (1+0j) * ( +_3 -_3 )\n",
      "+ (1+0j) * ( +_4 -_4 )\n",
      "+ (1+0j) * ( +_5 -_5 )\n",
      "+ (1+0j) * ( +_6 -_6 )\n",
      "+ (1+0j) * ( +_7 -_7 )\n",
      "+ (1+0j) * ( ...\n",
      "\n",
      "ElectronicEnergy\n",
      "Fermionic Operator\n",
      "register length=12, number terms=1596\n",
      "  -5.730482808911875 * ( +_0 -_0 )\n",
      "+ -0.19189839726343158 * ( +_0 -_2 )\n",
      "+ -0.8059146921129485 * ( +_0 -_4 )\n",
      "+ -4.796088797097696 * ( +_1 -_1 )\n",
      "+ -1.0002237898229975 * ( +_1 -_5 )\n",
      "+ -0.191898397263 ...\n",
      "\n",
      "DipoleMomentX\n",
      "Fermionic Operator\n",
      "register length=12, number terms=12\n",
      "  0.6191142242701686 * ( +_0 -_3 )\n",
      "+ 0.17032910668223206 * ( +_2 -_3 )\n",
      "+ 0.6191142242701686 * ( +_3 -_0 )\n",
      "+ 0.17032910668223206 * ( +_3 -_2 )\n",
      "+ 0.07483374421731032 * ( +_3 -_4 )\n",
      "+ 0.07483374421731 ...\n",
      "\n",
      "DipoleMomentY\n",
      "Fermionic Operator\n",
      "register length=12, number terms=24\n",
      "  0.8475158979655412 * ( +_0 -_1 )\n",
      "+ -0.1479991530686536 * ( +_0 -_5 )\n",
      "+ 0.847515897965541 * ( +_1 -_0 )\n",
      "+ -0.27202825801735275 * ( +_1 -_2 )\n",
      "+ -0.8324514901047421 * ( +_1 -_4 )\n",
      "+ -0.2720282580173 ...\n",
      "\n",
      "DipoleMomentZ\n",
      "Fermionic Operator\n",
      "register length=12, number terms=28\n",
      "  -0.1426566225706986 * ( +_0 -_0 )\n",
      "+ 0.6792921892835581 * ( +_0 -_2 )\n",
      "+ 0.11317023988340127 * ( +_0 -_4 )\n",
      "+ -0.26286780071476473 * ( +_1 -_1 )\n",
      "+ 0.6293642812725831 * ( +_1 -_5 )\n",
      "+ 0.6792921892835 ...\n",
      "\n",
      "AngularMomentum\n",
      "Fermionic Operator\n",
      "register length=12, number terms=108\n",
      "  (0.75+0j) * ( +_0 -_0 )\n",
      "+ (0.75+0j) * ( +_1 -_1 )\n",
      "+ (0.75+0j) * ( +_2 -_2 )\n",
      "+ (0.75+0j) * ( +_3 -_3 )\n",
      "+ (0.75+0j) * ( +_4 -_4 )\n",
      "+ (0.75+0j) * ( +_5 -_5 )\n",
      "+ (0.75+0j) * ( +_6 -_6 )\n",
      "+ (0.75+0j) *  ...\n",
      "\n",
      "Magnetization\n",
      "Fermionic Operator\n",
      "register length=12, number terms=12\n",
      "  (0.5+0j) * ( +_0 -_0 )\n",
      "+ (0.5+0j) * ( +_1 -_1 )\n",
      "+ (0.5+0j) * ( +_2 -_2 )\n",
      "+ (0.5+0j) * ( +_3 -_3 )\n",
      "+ (0.5+0j) * ( +_4 -_4 )\n",
      "+ (0.5+0j) * ( +_5 -_5 )\n",
      "+ (-0.5+0j) * ( +_6 -_6 )\n",
      "+ (-0.5+0j) * ( +_7  ...\n",
      "\n"
     ]
    }
   ],
   "source": [
    "for name, op in second_q_ops.items():\n",
    "    print(f\"{name}\\n{op}\\n\")"
   ]
  },
  {
   "cell_type": "code",
   "execution_count": 5,
   "id": "0d9f78fc",
   "metadata": {
    "slideshow": {
     "slide_type": "slide"
    }
   },
   "outputs": [
    {
     "name": "stdout",
     "output_type": "stream",
     "text": [
      "ElectronicEnergy\n",
      "Fermionic Operator\n",
      "register length=12, number terms=1596\n",
      "  -5.730482808911875 * ( +_0 -_0 )\n",
      "+ -0.19189839726343158 * ( +_0 -_2 )\n",
      "+ -0.8059146921129485 * ( +_0 -_4 )\n",
      "+ -4.796088797097696 * ( +_1 -_1 )\n",
      "+ -1.0002237898229975 * ( +_1 -_5 )\n",
      "+ -0.191898397263 ...\n"
     ]
    }
   ],
   "source": [
    "hamiltonian = second_q_ops[problem.main_property_name]\n",
    "print(problem.main_property_name)\n",
    "print(hamiltonian)"
   ]
  },
  {
   "cell_type": "markdown",
   "id": "5386d65a",
   "metadata": {
    "slideshow": {
     "slide_type": "slide"
    }
   },
   "source": [
    "## The New Way"
   ]
  },
  {
   "cell_type": "code",
   "execution_count": 6,
   "id": "e77b4764",
   "metadata": {
    "slideshow": {
     "slide_type": "-"
    }
   },
   "outputs": [],
   "source": [
    "from qiskit_nature.second_q.drivers import PySCFDriver\n",
    "from qiskit_nature.second_q.transformers import FreezeCoreTransformer"
   ]
  },
  {
   "cell_type": "code",
   "execution_count": 7,
   "id": "d7b9e81d",
   "metadata": {
    "slideshow": {
     "slide_type": "fragment"
    }
   },
   "outputs": [],
   "source": [
    "driver = PySCFDriver(atom=\"O 0.0 0.0 0.115; H 0.0 0.754 -0.459; H 0.0 -0.754 -0.459\")\n",
    "\n",
    "transformer = FreezeCoreTransformer()"
   ]
  },
  {
   "cell_type": "code",
   "execution_count": 8,
   "id": "46b85d44",
   "metadata": {
    "slideshow": {
     "slide_type": "fragment"
    }
   },
   "outputs": [],
   "source": [
    "problem = driver.run()"
   ]
  },
  {
   "cell_type": "code",
   "execution_count": 9,
   "id": "608aa3e3",
   "metadata": {
    "slideshow": {
     "slide_type": "fragment"
    }
   },
   "outputs": [],
   "source": [
    "transformed_problem = transformer.transform(problem)"
   ]
  },
  {
   "cell_type": "code",
   "execution_count": 10,
   "id": "fd2995e9",
   "metadata": {
    "slideshow": {
     "slide_type": "fragment"
    }
   },
   "outputs": [],
   "source": [
    "hamiltonian, aux_ops = transformed_problem.second_q_ops()"
   ]
  },
  {
   "cell_type": "code",
   "execution_count": 11,
   "id": "041caace",
   "metadata": {
    "slideshow": {
     "slide_type": "slide"
    }
   },
   "outputs": [
    {
     "name": "stdout",
     "output_type": "stream",
     "text": [
      "Fermionic Operator\n",
      "register length=12, number terms=1596\n",
      "  -5.730482808911907 * ( +_0 -_0 )\n",
      "+ -0.1918983972634753 * ( +_0 -_2 )\n",
      "+ -0.805914692112896 * ( +_0 -_4 )\n",
      "+ -4.796088797097785 * ( +_1 -_1 )\n",
      "+ -1.0002237898229607 * ( +_1 -_5 )\n",
      "+ -0.19189839726347 ...\n"
     ]
    }
   ],
   "source": [
    "print(hamiltonian)"
   ]
  },
  {
   "cell_type": "code",
   "execution_count": 12,
   "id": "5785dc9f",
   "metadata": {
    "scrolled": false,
    "slideshow": {
     "slide_type": "slide"
    }
   },
   "outputs": [
    {
     "name": "stdout",
     "output_type": "stream",
     "text": [
      "ParticleNumber\n",
      "Fermionic Operator\n",
      "register length=12, number terms=12\n",
      "  (1+0j) * ( +_0 -_0 )\n",
      "+ (1+0j) * ( +_1 -_1 )\n",
      "+ (1+0j) * ( +_2 -_2 )\n",
      "+ (1+0j) * ( +_3 -_3 )\n",
      "+ (1+0j) * ( +_4 -_4 )\n",
      "+ (1+0j) * ( +_5 -_5 )\n",
      "+ (1+0j) * ( +_6 -_6 )\n",
      "+ (1+0j) * ( +_7 -_7 )\n",
      "+ (1+0j) * ( ...\n",
      "\n",
      "DipoleMomentX\n",
      "Fermionic Operator\n",
      "register length=12, number terms=12\n",
      "  0.6191142242701753 * ( +_0 -_3 )\n",
      "+ 0.17032910668221893 * ( +_2 -_3 )\n",
      "+ 0.6191142242701753 * ( +_3 -_0 )\n",
      "+ 0.17032910668221893 * ( +_3 -_2 )\n",
      "+ 0.07483374421728971 * ( +_3 -_4 )\n",
      "+ 0.07483374421728 ...\n",
      "\n",
      "DipoleMomentY\n",
      "Fermionic Operator\n",
      "register length=12, number terms=24\n",
      "  0.8475158979655188 * ( +_0 -_1 )\n",
      "+ -0.14799915306865835 * ( +_0 -_5 )\n",
      "+ 0.8475158979655187 * ( +_1 -_0 )\n",
      "+ -0.27202825801742575 * ( +_1 -_2 )\n",
      "+ -0.8324514901046803 * ( +_1 -_4 )\n",
      "+ -0.27202825801 ...\n",
      "\n",
      "DipoleMomentZ\n",
      "Fermionic Operator\n",
      "register length=12, number terms=28\n",
      "  -0.142656622570653 * ( +_0 -_0 )\n",
      "+ 0.6792921892835783 * ( +_0 -_2 )\n",
      "+ 0.11317023988332052 * ( +_0 -_4 )\n",
      "+ -0.2628678007147113 * ( +_1 -_1 )\n",
      "+ 0.6293642812725757 * ( +_1 -_5 )\n",
      "+ 0.679292189283578 ...\n",
      "\n",
      "AngularMomentum\n",
      "Fermionic Operator\n",
      "register length=12, number terms=108\n",
      "  (0.75+0j) * ( +_0 -_0 )\n",
      "+ (0.75+0j) * ( +_1 -_1 )\n",
      "+ (0.75+0j) * ( +_2 -_2 )\n",
      "+ (0.75+0j) * ( +_3 -_3 )\n",
      "+ (0.75+0j) * ( +_4 -_4 )\n",
      "+ (0.75+0j) * ( +_5 -_5 )\n",
      "+ (0.75+0j) * ( +_6 -_6 )\n",
      "+ (0.75+0j) *  ...\n",
      "\n",
      "Magnetization\n",
      "Fermionic Operator\n",
      "register length=12, number terms=12\n",
      "  (0.5+0j) * ( +_0 -_0 )\n",
      "+ (0.5+0j) * ( +_1 -_1 )\n",
      "+ (0.5+0j) * ( +_2 -_2 )\n",
      "+ (0.5+0j) * ( +_3 -_3 )\n",
      "+ (0.5+0j) * ( +_4 -_4 )\n",
      "+ (0.5+0j) * ( +_5 -_5 )\n",
      "+ (-0.5+0j) * ( +_6 -_6 )\n",
      "+ (-0.5+0j) * ( +_7  ...\n",
      "\n"
     ]
    }
   ],
   "source": [
    "for name, op in aux_ops.items():\n",
    "    print(f\"{name}\\n{op}\\n\")"
   ]
  },
  {
   "cell_type": "markdown",
   "id": "21bebc32",
   "metadata": {
    "slideshow": {
     "slide_type": "slide"
    }
   },
   "source": [
    "## Outlook"
   ]
  },
  {
   "cell_type": "markdown",
   "id": "48744ffc",
   "metadata": {
    "slideshow": {
     "slide_type": "-"
    }
   },
   "source": [
    "What will this allow us to do?\n",
    "\n",
    "- simpler implementation/development of iterative algorithms (e.g. CASSCF using VQE for CAS)\n",
    "\n",
    "- code- and language-agnostic problem injection via HDF5:\n",
    "    - https://github.com/MolSSI/QCSchema/pull/83\n",
    "\n",
    "- simpler construction of custom (user-provided) problem instances"
   ]
  },
  {
   "cell_type": "code",
   "execution_count": 13,
   "id": "5a6f13b9",
   "metadata": {
    "scrolled": false,
    "slideshow": {
     "slide_type": "notes"
    }
   },
   "outputs": [
    {
     "data": {
      "text/html": [
       "<h3>Version Information</h3><table><tr><th>Qiskit Software</th><th>Version</th></tr><tr><td><code>qiskit-terra</code></td><td>0.22.0.dev0+40668f0</td></tr><tr><td><code>qiskit-aer</code></td><td>0.11.0</td></tr><tr><td><code>qiskit-ibmq-provider</code></td><td>0.20.0.dev0+4f1f8c6</td></tr><tr><td><code>qiskit-nature</code></td><td>0.5.0</td></tr><tr><th>System information</th></tr><tr><td>Python version</td><td>3.9.13</td></tr><tr><td>Python compiler</td><td>GCC 12.1.1 20220507 (Red Hat 12.1.1-1)</td></tr><tr><td>Python build</td><td>main, Jun  9 2022 00:00:00</td></tr><tr><td>OS</td><td>Linux</td></tr><tr><td>CPUs</td><td>4</td></tr><tr><td>Memory (Gb)</td><td>14.844989776611328</td></tr><tr><td colspan='2'>Thu Jul 21 16:43:51 2022 CEST</td></tr></table>"
      ],
      "text/plain": [
       "<IPython.core.display.HTML object>"
      ]
     },
     "metadata": {},
     "output_type": "display_data"
    },
    {
     "data": {
      "text/html": [
       "<div style='width: 100%; background-color:#d5d9e0;padding-left: 10px; padding-bottom: 10px; padding-right: 10px; padding-top: 5px'><h3>This code is a part of Qiskit</h3><p>&copy; Copyright IBM 2017, 2022.</p><p>This code is licensed under the Apache License, Version 2.0. You may<br>obtain a copy of this license in the LICENSE.txt file in the root directory<br> of this source tree or at http://www.apache.org/licenses/LICENSE-2.0.<p>Any modifications or derivative works of this code must retain this<br>copyright notice, and modified files need to carry a notice indicating<br>that they have been altered from the originals.</p></div>"
      ],
      "text/plain": [
       "<IPython.core.display.HTML object>"
      ]
     },
     "metadata": {},
     "output_type": "display_data"
    }
   ],
   "source": [
    "import qiskit.tools.jupyter\n",
    "\n",
    "%qiskit_version_table\n",
    "%qiskit_copyright"
   ]
  }
 ],
 "metadata": {
  "celltoolbar": "Slideshow",
  "kernelspec": {
   "display_name": "Python 3",
   "language": "python",
   "name": "python3"
  },
  "language_info": {
   "codemirror_mode": {
    "name": "ipython",
    "version": 3
   },
   "file_extension": ".py",
   "mimetype": "text/x-python",
   "name": "python",
   "nbconvert_exporter": "python",
   "pygments_lexer": "ipython3",
   "version": "3.9.13"
  }
 },
 "nbformat": 4,
 "nbformat_minor": 5
}
