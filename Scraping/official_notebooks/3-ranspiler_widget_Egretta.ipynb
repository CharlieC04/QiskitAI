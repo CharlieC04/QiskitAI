{
 "cells": [
  {
   "cell_type": "markdown",
   "metadata": {},
   "source": [
    "# Transpiler Widget\n",
    "\n",
    "This is a POC for building a Qiskit transpiler debugger using Jupyter Widgets."
   ]
  },
  {
   "cell_type": "code",
   "execution_count": 22,
   "metadata": {
    "ExecuteTime": {
     "end_time": "2021-10-21T08:33:05.776538Z",
     "start_time": "2021-10-21T08:33:05.764005Z"
    }
   },
   "outputs": [],
   "source": [
    "from qiskit import QuantumCircuit, transpile\n",
    "import ipywidgets as widgets\n",
    "from IPython.display import HTML\n",
    "import logging"
   ]
  },
  {
   "cell_type": "markdown",
   "metadata": {},
   "source": [
    "Create the widget. Starting with the view:"
   ]
  },
  {
   "cell_type": "code",
   "execution_count": 23,
   "metadata": {
    "ExecuteTime": {
     "end_time": "2021-10-21T08:33:06.975087Z",
     "start_time": "2021-10-21T08:33:06.963832Z"
    }
   },
   "outputs": [],
   "source": [
    "class WidgetLayout:\n",
    "    timeline_layout = { \n",
    "        'border': '1px inset #eee',\n",
    "        'padding': '2px',\n",
    "        'height': '275px',\n",
    "        'overflow': 'auto',\n",
    "        'width': '70%'\n",
    "    }\n",
    "\n",
    "    accordion_layout = {\n",
    "        'border': '1px inset #eee',\n",
    "        'padding': '0',\n",
    "        'height': '275px',\n",
    "        'width': '30%'\n",
    "    }\n",
    "    \n",
    "    tabular_data_layout = {\n",
    "        'padding': '5px',\n",
    "        'grid_template_columns': 'repeat(2, 50%)'\n",
    "    }"
   ]
  },
  {
   "cell_type": "code",
   "execution_count": 24,
   "metadata": {
    "ExecuteTime": {
     "end_time": "2021-10-21T08:33:08.270381Z",
     "start_time": "2021-10-21T08:33:08.171125Z"
    }
   },
   "outputs": [
    {
     "data": {
      "application/vnd.jupyter.widget-view+json": {
       "model_id": "d55fbda1f12c43fa8fed3029ca7d6824",
       "version_major": 2,
       "version_minor": 0
      },
      "text/plain": [
       "VBox(children=(HBox(children=(Box(children=(VBox(layout=Layout(width='100%')),), layout=Layout(border='1px ins…"
      ]
     },
     "metadata": {},
     "output_type": "display_data"
    }
   ],
   "source": [
    "timeline_panel = widgets.VBox([], layout = { 'width': '100%' })\n",
    "timeline_wpr = widgets.Box([timeline_panel], layout = WidgetLayout.timeline_layout)\n",
    "\n",
    "stats_labels = [\n",
    "    widgets.Label('1Q ops'), widgets.Label(''),\n",
    "    widgets.Label('2Q ops'), widgets.Label(''),\n",
    "    widgets.Label('Depth'), widgets.Label(''),\n",
    "    widgets.Label('Size'), widgets.Label(''),\n",
    "    widgets.Label('Width'), widgets.Label(''),\n",
    "    \n",
    "]\n",
    "\n",
    "stats_panel = widgets.GridBox(stats_labels, layout = WidgetLayout.tabular_data_layout)\n",
    "\n",
    "properties_panel = widgets.GridBox([], layout = WidgetLayout.tabular_data_layout)\n",
    "\n",
    "accordion = widgets.Accordion(children = [stats_panel, properties_panel], layout = WidgetLayout.accordion_layout)\n",
    "accordion.set_title(0, 'Circuit Stats')\n",
    "accordion.set_title(1, 'Property Set')\n",
    "\n",
    "main_view = widgets.HBox([timeline_wpr, accordion], layout = { 'width': '100%' })\n",
    "\n",
    "modal = widgets.Output(layout = { 'width': '100%' })\n",
    "\n",
    "tp_widget = widgets.VBox([\n",
    "    main_view,\n",
    "    modal\n",
    "], layout = { 'width': '100%' })\n",
    "\n",
    "tp_widget.add_class('tp-widget')"
   ]
  },
  {
   "cell_type": "code",
   "execution_count": 25,
   "metadata": {
    "ExecuteTime": {
     "end_time": "2021-10-21T08:33:08.751986Z",
     "start_time": "2021-10-21T08:33:08.735746Z"
    }
   },
   "outputs": [],
   "source": [
    "import sys\n",
    "from types import ModuleType, FunctionType\n",
    "from gc import get_referents\n",
    "\n",
    "# Custom objects know their class.\n",
    "# Function objects seem to know way too much, including modules.\n",
    "# Exclude modules as well.\n",
    "BLACKLIST = type, ModuleType, FunctionType\n",
    "\n",
    "def getsize(obj):\n",
    "    \"\"\"sum size of object & members.\"\"\"\n",
    "    #if isinstance(obj, BLACKLIST):\n",
    "    #    raise TypeError('getsize() does not take argument of type: '+ str(type(obj)))\n",
    "    seen_ids = set()\n",
    "    size = 0\n",
    "    objects = [obj]\n",
    "    while objects:\n",
    "        need_referents = []\n",
    "        for obj in objects:\n",
    "            if not isinstance(obj, BLACKLIST) and id(obj) not in seen_ids:\n",
    "            # if id(obj) not in seen_ids:\n",
    "                seen_ids.add(id(obj))\n",
    "                size += sys.getsizeof(obj)\n",
    "                need_referents.append(obj)\n",
    "        objects = get_referents(*need_referents)\n",
    "    return size"
   ]
  },
  {
   "cell_type": "code",
   "execution_count": 26,
   "metadata": {
    "ExecuteTime": {
     "end_time": "2021-10-21T08:33:09.174145Z",
     "start_time": "2021-10-21T08:33:09.170128Z"
    }
   },
   "outputs": [],
   "source": [
    "from enum import Enum\n",
    "\n",
    "class PassType(Enum):\n",
    "    ANALYSIS = 'A'\n",
    "    TRANSFORMATION = 'T'"
   ]
  },
  {
   "cell_type": "code",
   "execution_count": 27,
   "metadata": {
    "ExecuteTime": {
     "end_time": "2021-10-21T08:33:09.676194Z",
     "start_time": "2021-10-21T08:33:09.670957Z"
    }
   },
   "outputs": [],
   "source": [
    "class Property:\n",
    "    LARGE_VALUE_THRESHOLD = 2 ** 20\n",
    "\n",
    "    def __init__(self, name, type, value) -> None:\n",
    "        self.name = name\n",
    "        self.type = type\n",
    "        \n",
    "        if getsize(value) > self.LARGE_VALUE_THRESHOLD:\n",
    "            self.value = 'LARGE_VALUE'\n",
    "        else:\n",
    "            self.value = value\n",
    "\n",
    "    def __repr__(self) -> str:\n",
    "        return f\"{self.name} ({self.type.__name__}) : {self.value}\""
   ]
  },
  {
   "cell_type": "code",
   "execution_count": 28,
   "metadata": {
    "ExecuteTime": {
     "end_time": "2021-10-21T08:33:10.306991Z",
     "start_time": "2021-10-21T08:33:10.293463Z"
    }
   },
   "outputs": [],
   "source": [
    "class CircuitStats:\n",
    "    def __init__(self) -> None:\n",
    "        self.width = None\n",
    "        self.size = None\n",
    "        self.depth = None\n",
    "        self.ops_1q = None\n",
    "        self.ops_2q = None\n",
    "\n",
    "    def __eq__(self, other):\n",
    "        return self.width == other.width and self.size == other.size and self.depth == other.depth and self.ops_1q == other.ops_1q and self.ops_2q == other.ops_2q\n",
    "\n",
    "    def __repr__(self) -> str:\n",
    "        return f\"CircuitStats(width={self.width}, size={self.size}, depth={self.depth}, 1Q ops={self.ops_1q}, 2Q ops={self.ops_2q})\""
   ]
  },
  {
   "cell_type": "code",
   "execution_count": 29,
   "metadata": {
    "ExecuteTime": {
     "end_time": "2021-10-21T08:33:10.769576Z",
     "start_time": "2021-10-21T08:33:10.761654Z"
    }
   },
   "outputs": [],
   "source": [
    "from time import time\n",
    "\n",
    "class LogEntry:\n",
    "    def __init__(self, levelname, msg, args) -> None:\n",
    "        self.levelname = levelname\n",
    "        self.msg = msg\n",
    "        self.args = args\n",
    "        self.time = time()\n",
    "\n",
    "    def __repr__(self) -> str:\n",
    "        return f\"[{self.levelname}] {self.msg}\""
   ]
  },
  {
   "cell_type": "code",
   "execution_count": 30,
   "metadata": {
    "ExecuteTime": {
     "end_time": "2021-10-21T08:33:11.265652Z",
     "start_time": "2021-10-21T08:33:11.249951Z"
    }
   },
   "outputs": [],
   "source": [
    "class TranspilationStep:\n",
    "    def __init__(self, name, type) -> None:\n",
    "        self.name = name\n",
    "        self.type = type\n",
    "        self.docs = ''\n",
    "        self.run_docs = ''\n",
    "        self.duration = 0\n",
    "        self.circuit_stats = CircuitStats()\n",
    "        self.property_set = {}\n",
    "        self.logs = []\n",
    "        self.dag = None\n",
    "\n",
    "    def __repr__(self) -> str:\n",
    "        return f\"(name={self.name}, type={self.type})\""
   ]
  },
  {
   "cell_type": "code",
   "execution_count": 31,
   "metadata": {
    "ExecuteTime": {
     "end_time": "2021-10-21T08:33:11.685621Z",
     "start_time": "2021-10-21T08:33:11.673005Z"
    }
   },
   "outputs": [],
   "source": [
    "class ButtonWithValue(widgets.Button):\n",
    "    def __init__(self, *args, **kwargs):\n",
    "        self.value = kwargs['value']\n",
    "        kwargs.pop('value', None)\n",
    "        super(ButtonWithValue, self).__init__(*args, **kwargs)"
   ]
  },
  {
   "cell_type": "code",
   "execution_count": 32,
   "metadata": {
    "ExecuteTime": {
     "end_time": "2021-10-21T08:33:12.080867Z",
     "start_time": "2021-10-21T08:33:12.048642Z"
    }
   },
   "outputs": [],
   "source": [
    "from datetime import datetime\n",
    "import html\n",
    "\n",
    "%matplotlib inline\n",
    "\n",
    "def on_logs(btn):\n",
    "    step = transpilation_sequence.steps[int(btn.value)]\n",
    "    logs = step.logs\n",
    "\n",
    "    #TEMP:\n",
    "    if len(logs) > 22:\n",
    "        logs[7].levelname = 'WARNING'\n",
    "        logs[10].levelname = 'ERROR'\n",
    "        logs[13].levelname = 'CRITICAL'\n",
    "        logs[15].levelname = 'INFO'\n",
    "        logs[16].levelname = 'INFO'\n",
    "        logs[20].levelname = 'ERROR'\n",
    "        logs[21].levelname = 'CRITICAL'\n",
    "    #END-TEMP\n",
    "\n",
    "    html_str = '<div class=\"logs-wpr\">'\n",
    "    for entry in logs:\n",
    "        html_str = html_str + \"<pre class='date'>{0}</pre><pre class='level {1}'>[{1}]</pre><pre class='log-entry {1}'>{2}</pre>\".format(datetime.fromtimestamp(entry.time).strftime(\"%H:%M:%S.%f\")[:-3], entry.levelname, entry.msg % entry.args)\n",
    "    html_str = html_str + '</div>'\n",
    "    \n",
    "    show_modal(step.name + ' Logs', html_str, '')\n",
    "\n",
    "def on_circ(btn):\n",
    "    from qiskit.converters import dag_to_circuit\n",
    "    from io import BytesIO\n",
    "    from binascii import b2a_base64\n",
    "    \n",
    "    circ = dag_to_circuit(transpilation_sequence.steps[int(btn.value)].dag)\n",
    "    fig = circ.draw('mpl', idle_wires = False, with_layout = False, scale = 0.8, fold = 20)\n",
    "\n",
    "    bio = BytesIO()\n",
    "    #fig.canvas.print_png(bio)\n",
    "    fig.savefig(bio, format = 'png', bbox_inches = 'tight')\n",
    "\n",
    "    img_data = b2a_base64(bio.getvalue()).decode()\n",
    "    img_html = '<img src=\"data:image/png;base64,{}&#10;\">'.format(img_data)\n",
    "\n",
    "    show_modal('Circuit Plot', img_html, '840px')\n",
    "\n",
    "def on_info(btn):\n",
    "    step = transpilation_sequence.steps[int(btn.value)]\n",
    "\n",
    "    html_str = '<pre class=\"help\">' + step.docs + '</pre>'\n",
    "    html_str = html_str + '<div class=\"help-header\"><span style=\"color: #e83e8c;\">' + step.name + '</span>.run(<span style=\"color: #0072c3;\">dag</span>)</div>'\n",
    "    html_str = html_str + '<pre class=\"help\">' + step.run_docs + '</pre>'\n",
    "\n",
    "    show_modal(step.name, html_str, '')\n",
    "\n",
    "def on_property(btn):\n",
    "    step_index, property_name = btn.value.split(',')\n",
    "    property_set = transpilation_sequence.steps[int(step_index)].property_set\n",
    "    property = property_set[property_name]\n",
    "\n",
    "    html_str = '<table>'\n",
    "    for v in property.value:\n",
    "        ###\n",
    "        # ??? if type(v) == tuple:\n",
    "        if property_name == 'block_list':\n",
    "            html_str = html_str + '<tr><td><pre>' + html.escape(str([node.name for node in v])) + '</pre></td></tr>'\n",
    "        else:\n",
    "            html_str = html_str + '<tr><td><pre>' + html.escape(str(v)) + '</pre></td></tr>'\n",
    "    html_str = html_str + '</table>'\n",
    "    show_modal('Property: ' + property_name, html_str, '')\n",
    "\n",
    "def show_modal(title, content, width):\n",
    "    modal.remove_class('show')\n",
    "    html_str = \"\"\"\n",
    "    <script>\n",
    "        // Fix z-index issue:\n",
    "        var stackingContextRoot = document.querySelector(\".tp-widget\").closest(\"div.cell\");\n",
    "        if(stackingContextRoot) {{\n",
    "            stackingContextRoot.classList.add(\"stacking-context\");\n",
    "        }}\n",
    "\n",
    "        var closeButton = document.getElementsByClassName(\"close-wdgt-modal\")[0];\n",
    "        closeButton.addEventListener(\"click\", function(ev) {{\n",
    "            document.querySelectorAll(\".output_wrapper\").forEach(function(div) {{\n",
    "                div.classList.remove(\"show\");\n",
    "            }});\n",
    "        }});\n",
    "    </script>\n",
    "    <div class=\"wdgt-modal-background\"></div>\n",
    "    <div class=\"wdgt-modal\" style=\"width: {width}\">\n",
    "        <div class=\"wdgt-modal-header\">\n",
    "            <h3>{title}</h3>\n",
    "            <span class=\"close-wdgt-modal\">\n",
    "                <img src=\"data:image/png;base64,iVBORw0KGgoAAAANSUhEUgAAABAAAAAQCAMAAAAoLQ9TAAAAdVBMVEUAAABNTU1NTU1NTU1NTU1NTU1NTU1NTU1NTU1NTU1NTU1NTU1NTU1NTU1NTU1NTU1NTU1NTU1NTU1NTU1NTU1NTU1NTU1NTU1NTU1NTU1NTU1NTU1NTU1NTU1NTU1NTU1NTU1NTU1NTU1NTU1NTU1NTU1NTU0N3NIOAAAAJnRSTlMAAQIDBAUGBwgRFRYZGiEjQ3l7hYaqtLm8vsDFx87a4uvv8fP1+bbY9ZEAAAB8SURBVBhXXY5LFoJAAMOCIP4VBRXEv5j7H9HFDOizu2TRFljedgCQHeocWHVaAWStXnKyl2oVWI+kd1XLvFV1D7Ng3qrWKYMZ+MdEhk3gbhw59KvlH0eTnf2mgiRwvQ7NW6aqNmncukKhnvo/zzlQ2PR/HgsAJkncH6XwAcr0FUY5BVeFAAAAAElFTkSuQmCC\" width=\"16\" height=\"16\" alt=\"\">\n",
    "            </span>\n",
    "        </div>\n",
    "        <div class=\"wdgt-modal-content\">{content}</div></div>\n",
    "    \"\"\".format(title = title, content = content, width = width)\n",
    "    modal.outputs = []\n",
    "    modal.append_display_data(HTML(html_str))\n",
    "    modal.add_class('show')"
   ]
  },
  {
   "cell_type": "code",
   "execution_count": 33,
   "metadata": {
    "ExecuteTime": {
     "end_time": "2021-10-21T08:33:12.589929Z",
     "start_time": "2021-10-21T08:33:12.552758Z"
    }
   },
   "outputs": [],
   "source": [
    "class TranspilationSequence:\n",
    "    def __init__(self) -> None:\n",
    "        self.steps = []\n",
    "        self._collected_logs = {}\n",
    "        self._prop_labels_map = {}\n",
    "\n",
    "    def add_step(self, step) -> None:\n",
    "        if step.name in self._collected_logs:\n",
    "            step.logs = self._collected_logs[step.name]\n",
    "            self._collected_logs.pop(step.name, None)\n",
    "\n",
    "        ######\n",
    "        if len(transpilation_sequence.steps) == 0:\n",
    "            prev_stats = CircuitStats()\n",
    "        else:\n",
    "            prev_stats = self.steps[-1].circuit_stats\n",
    "\n",
    "        if prev_stats.ops_1q != step.circuit_stats.ops_1q:\n",
    "            stats_labels[1].value = str(step.circuit_stats.ops_1q)\n",
    "            stats_labels[1].add_class('highlight')\n",
    "        else:\n",
    "            stats_labels[1].remove_class('highlight')\n",
    "\n",
    "        if prev_stats.ops_2q != step.circuit_stats.ops_2q:\n",
    "            stats_labels[3].value = str(step.circuit_stats.ops_2q)\n",
    "            stats_labels[3].add_class('highlight')\n",
    "        else:\n",
    "            stats_labels[3].remove_class('highlight')\n",
    "\n",
    "        if prev_stats.depth != step.circuit_stats.depth:\n",
    "            stats_labels[5].value = str(step.circuit_stats.depth)\n",
    "            stats_labels[5].add_class('highlight')\n",
    "        else:\n",
    "            stats_labels[5].remove_class('highlight')\n",
    "            \n",
    "        if prev_stats.size != step.circuit_stats.size:\n",
    "            stats_labels[7].value = str(step.circuit_stats.size)\n",
    "            stats_labels[7].add_class('highlight')\n",
    "        else:\n",
    "            stats_labels[7].remove_class('highlight')\n",
    "\n",
    "        if prev_stats.width != step.circuit_stats.width:\n",
    "            stats_labels[9].value = str(step.circuit_stats.width)\n",
    "            stats_labels[9].add_class('highlight')\n",
    "        else:\n",
    "            stats_labels[9].remove_class('highlight')\n",
    "        ######\n",
    "\n",
    "        for prop_name in step.property_set:\n",
    "            property = step.property_set[prop_name]\n",
    "            if property.name in self._prop_labels_map:\n",
    "                index = self._prop_labels_map[property.name]\n",
    "            else:\n",
    "                ####\n",
    "                u = widgets.Label(value = property.name)\n",
    "                if type(property.value) == list:\n",
    "                    prop_label = widgets.Label('(list)', layout = { 'width': '80%' })\n",
    "                    prop_button = ButtonWithValue(value = str(len(self.steps)) + ',' + property.name, description = '...', layout = { 'width': '20%' })\n",
    "                    prop_button.on_click(on_property)\n",
    "                    v = widgets.HBox([prop_label, prop_button], layout = { 'width': '100%' })\n",
    "                else:\n",
    "                    v = widgets.Label(value = str(property.value))\n",
    "                index = len(properties_panel.children)\n",
    "                properties_panel.children = properties_panel.children + (u, v)\n",
    "                ####\n",
    "                \n",
    "                self._prop_labels_map[property.name] = index\n",
    "\n",
    "            u = widgets.Label(value = property.name)\n",
    "            if type(property.value) != list:\n",
    "                properties_panel.children[index + 1].value = str(property.value)\n",
    "        ######\n",
    "            \n",
    "        a = widgets.Label(step.type.value)\n",
    "        a.add_class(step.type.name.lower())\n",
    "        \n",
    "        b = widgets.Label(step.name)\n",
    "\n",
    "        from math import log10\n",
    "        if step.duration > 0:\n",
    "            duration_font_size = 10\n",
    "            duration_font_size = 10 + round(log10(step.duration))\n",
    "            t = widgets.Label(str(round(step.duration, 1)) + ' ms')\n",
    "            t.add_class('fs' + str(duration_font_size))\n",
    "        else:\n",
    "            t = widgets.Label('')\n",
    "\n",
    "        if type(step.logs) == list and len(step.logs) > 0:\n",
    "            c = ButtonWithValue(value = str(len(self.steps)), tooltip = str(len(step.logs)) + ' logs entries', icon = 'align-justify', layout = { 'width': '32px' })\n",
    "            c.on_click(on_logs)\n",
    "        else:\n",
    "            c = widgets.Label('', layout = { 'width': '32px' })\n",
    "\n",
    "        # Due to a bug in DAGCircuit.__eq__, we can not use ``step.dag != None``\n",
    "        from qiskit.dagcircuit import DAGCircuit\n",
    "        if isinstance(step.dag, DAGCircuit):\n",
    "            d = ButtonWithValue(value = str(len(self.steps)), icon = 'sliders', layout = { 'width': '32px' })\n",
    "            d.on_click(on_circ)\n",
    "        else:\n",
    "            d = widgets.Label('', layout = { 'width': '32px' })\n",
    "\n",
    "        e = ButtonWithValue(value = str(len(self.steps)), icon = 'info-circle', layout = { 'width': '32px' })\n",
    "        e.on_click(on_info)\n",
    "        \n",
    "        item = widgets.GridBox([a, b, t, c, d, e], layout = { 'width': '100%', 'grid_template_columns': '20px auto 70px 35px 35px 35px', 'min_height': '35px' })\n",
    "        item.add_class('transpilation-step')\n",
    "        timeline_panel.children = timeline_panel.children + (item, )\n",
    "        ######\n",
    "\n",
    "        self.steps.append(step)\n",
    "\n",
    "    def add_log_entry(self, pass_name, log_entry) -> None:\n",
    "        if not pass_name in self._collected_logs:\n",
    "            self._collected_logs[pass_name] = []\n",
    "\n",
    "        self._collected_logs[pass_name].append(log_entry)\n",
    "\n",
    "transpilation_sequence = TranspilationSequence()"
   ]
  },
  {
   "cell_type": "markdown",
   "metadata": {},
   "source": [
    "Create a custom logging handler to handle the transpiler logs:"
   ]
  },
  {
   "cell_type": "code",
   "execution_count": 34,
   "metadata": {
    "ExecuteTime": {
     "end_time": "2021-10-21T08:33:12.969032Z",
     "start_time": "2021-10-21T08:33:12.962594Z"
    }
   },
   "outputs": [],
   "source": [
    "class TranspilerLoggingHandler(logging.Handler):\n",
    "    def __init__(self, *args, **kwargs):\n",
    "        self.loggers_map = kwargs['loggers_map']\n",
    "        kwargs.pop('loggers_map', None)\n",
    "        super(TranspilerLoggingHandler, self).__init__(*args, **kwargs)\n",
    "\n",
    "    def emit(self, record):\n",
    "        log_entry = LogEntry(record.levelname, record.msg, record.args)\n",
    "        transpilation_sequence.add_log_entry(self.loggers_map[record.name], log_entry)"
   ]
  },
  {
   "cell_type": "code",
   "execution_count": 35,
   "metadata": {
    "ExecuteTime": {
     "end_time": "2021-10-21T08:33:14.256551Z",
     "start_time": "2021-10-21T08:33:14.240644Z"
    },
    "scrolled": true
   },
   "outputs": [],
   "source": [
    "from qiskit.transpiler.basepasses import AnalysisPass, TransformationPass\n",
    "\n",
    "all_loggers = logging.Logger.manager.loggerDict\n",
    "passes_loggers = {key:value for (key, value) in all_loggers.items() if key.startswith('qiskit.transpiler.passes.')}\n",
    "\n",
    "loggers_map = {}\n",
    "for _pass in AnalysisPass.__subclasses__():\n",
    "    if _pass.__module__ in passes_loggers.keys():\n",
    "        loggers_map[_pass.__module__] = _pass.__name__\n",
    "\n",
    "for _pass in TransformationPass.__subclasses__():\n",
    "    if _pass.__module__ in passes_loggers.keys():\n",
    "        loggers_map[_pass.__module__] = _pass.__name__\n",
    "\n",
    "handler = TranspilerLoggingHandler(loggers_map = loggers_map)\n",
    "logger = logging.getLogger('qiskit.transpiler.passes')\n",
    "logger.setLevel(logging.DEBUG)\n",
    "logger.addHandler(handler)\n"
   ]
  },
  {
   "cell_type": "markdown",
   "metadata": {},
   "source": [
    "Create a function to be used as a callback for the transpiler:"
   ]
  },
  {
   "cell_type": "code",
   "execution_count": 36,
   "metadata": {
    "ExecuteTime": {
     "end_time": "2021-10-21T08:33:16.367639Z",
     "start_time": "2021-10-21T08:33:16.339291Z"
    }
   },
   "outputs": [],
   "source": [
    "_properties = {}\n",
    "\n",
    "def transpiler_callback(**kwargs):\n",
    "    pass_ = kwargs['pass_']\n",
    "\n",
    "    pass_name = pass_.name()\n",
    "    pass_type = ''\n",
    "    if pass_.is_analysis_pass:\n",
    "        pass_type = PassType.ANALYSIS\n",
    "    elif pass_.is_transformation_pass:\n",
    "        pass_type = PassType.TRANSFORMATION\n",
    "\n",
    "    transpilation_step = TranspilationStep(pass_name, pass_type)\n",
    "    transpilation_step.docs = pass_.__doc__\n",
    "    transpilation_step.run_docs = getattr(pass_, 'run').__doc__\n",
    "\n",
    "    duration_value = round(1000 * kwargs['time'], 2)\n",
    "    transpilation_step.duration = duration_value\n",
    "\n",
    "    # Properties\n",
    "    _props_updated = False\n",
    "    property_set = kwargs['property_set']\n",
    "    for key in property_set:\n",
    "        if key not in _properties.keys():\n",
    "            _props_updated = True\n",
    "            _properties[key] = property_set[key]\n",
    "\n",
    "    if _props_updated:\n",
    "\n",
    "        from collections import defaultdict\n",
    "        for property_name in property_set:\n",
    "            #if property_name == 'commutation_set':\n",
    "            #    print(property_set[property_name])\n",
    "            property_type = type(property_set[property_name])\n",
    "            property_value = None\n",
    "            if property_type in (int, float, bool, str):\n",
    "                property_value = property_set[property_name]\n",
    "            elif property_type == list:\n",
    "                property_value = []\n",
    "                for value in property_set[property_name]:\n",
    "                    property_value.append(value)\n",
    "            elif property_type == defaultdict:\n",
    "                #print('defaultdict')\n",
    "                property_value = []\n",
    "                for key, value in property_set[property_name].items():\n",
    "                    #print(key, value)\n",
    "                    #print('------------------------')\n",
    "                    property_value.append(str(key) + ': ' + str(value))\n",
    "            else:\n",
    "                property_value = '(' + property_type.__name__ + ')'\n",
    "\n",
    "            transpilation_step.property_set[property_name] = Property(property_name, property_type, property_value)\n",
    "\n",
    "    # circuit stats:\n",
    "    dag = kwargs['dag']\n",
    "    transpilation_step.circuit_stats.width = dag.width()\n",
    "    transpilation_step.circuit_stats.size = dag.size()\n",
    "    transpilation_step.circuit_stats.depth = dag.depth()\n",
    "\n",
    "    nodes = dag.op_nodes(include_directives = False)\n",
    "    circ_ops_1q = 0\n",
    "    circ_ops_2q = 0\n",
    "    for node in nodes:\n",
    "        if len(node.qargs) > 1:\n",
    "            circ_ops_2q += 1\n",
    "        else:\n",
    "            circ_ops_1q += 1\n",
    "    \n",
    "    transpilation_step.circuit_stats.ops_1q = circ_ops_1q\n",
    "    transpilation_step.circuit_stats.ops_2q = circ_ops_2q\n",
    "\n",
    "    # ???\n",
    "    if transpilation_step.type == PassType.TRANSFORMATION and transpilation_step.circuit_stats.depth < 200:\n",
    "        # if len(transpilation_sequence.steps) == 0 or transpilation_sequence.steps[-1].circuit_stats != transpilation_step.circuit_stats:\n",
    "        transpilation_step.dag = dag\n",
    "\n",
    "    transpilation_sequence.add_step(transpilation_step)"
   ]
  },
  {
   "cell_type": "markdown",
   "metadata": {},
   "source": [
    "Optionally, use css to enhance how the widget looks like:"
   ]
  },
  {
   "cell_type": "code",
   "execution_count": 37,
   "metadata": {
    "ExecuteTime": {
     "end_time": "2021-10-21T08:33:18.570507Z",
     "start_time": "2021-10-21T08:33:18.556511Z"
    }
   },
   "outputs": [
    {
     "data": {
      "text/html": [
       "<style>\n",
       ".tp-widget { border:1px solid #aaa; }\n",
       ".p-TabPanel-tabContents { padding: 10px !important; }\n",
       ".p-Collapse-header { padding: 1px 5px; background: #eee; }\n",
       ".p-Collapse-open > .p-Collapse-header { background: #ddd; }\n",
       ".p-Collapse-contents { padding-top: 0; padding-left: 0; padding-bottom: 0;\n",
       "    padding-right: 0; height: 220px; background: #f5f5f5; }\n",
       ".p-Collapse-contents button {\n",
       "    width: 20%;\n",
       "    background: #fff;\n",
       "    text-align: center;\n",
       "    padding: 0;\n",
       "    font-weight: bold; }\n",
       "\n",
       ".widget-gridbox { background: #f5f5f5; }\n",
       ".widget-checkbox { padding-left: 40px; }\n",
       "div.output_scroll { box-shadow: none }\n",
       "\n",
       ".p-Accordion .widget-gridbox .widget-label { background-color: #fff; padding: 0 3px;\n",
       "    font-family: 'Roboto Mono', monospace; font-size: 14px; }\n",
       "                                            \n",
       ".highlight { background-color: #ffc !important; font-weight: bold; }\n",
       "\n",
       ".transpilation-step { background: #fff; border-bottom: 1px solid #ccc; }\n",
       ".transpilation-step button { background: #fff; }\n",
       ".transpilation-step .transformation { color: red; }\n",
       ".transpilation-step .analysis { color: green; }\n",
       "\n",
       ".transpilation-step div.fs10 { font-size: 10px; }\n",
       ".transpilation-step div.fs11 { font-size: 11px; }\n",
       ".transpilation-step div.fs12 { font-size: 12px; }\n",
       ".transpilation-step div.fs13 { font-size: 13px; }\n",
       ".transpilation-step div.fs14 { font-size: 14px; }\n",
       ".transpilation-step div.fs15 { font-size: 15px; }\n",
       "                            \n",
       ".transpilation-step > :nth-child(1) { text-align: center; font-weight: bold; font-size: 14px; }\n",
       ".transpilation-step > :nth-child(2) { font-family: 'Roboto Mono', monospace; font-size: 15px; }\n",
       ".transpilation-step > :nth-child(3) { font-family: 'Roboto Mono', monospace; font-size: 10px; color: #900;}\n",
       ".transpilation-step > :nth-child(4) { color: #ff9d85; }\n",
       ".transpilation-step > :nth-child(5) { color: #b587f7; }\n",
       ".transpilation-step > :nth-child(6) { color: #6ea2c9; }\n",
       "\n",
       ".logs-wpr { display: grid; grid-template-columns: 70px 60px auto; }\n",
       ".logs-wpr pre.date { font-size: 10px; }\n",
       ".logs-wpr pre.level { font-size: 10px; text-align: right; padding-right: 5px; }\n",
       ".logs-wpr pre.log-entry { font-size: 12px; }\n",
       ".logs-wpr pre.DEBUG { color: #000000; }\n",
       ".logs-wpr pre.INFO { color: #1c84a2; }\n",
       ".logs-wpr pre.WARNING { color: #ed7723; }\n",
       ".logs-wpr pre.ERROR { color: #d64e4a; }\n",
       ".logs-wpr pre.CRITICAL { color: white; background: #d64e4a; }\n",
       "\n",
       "div.output_area pre.help { font-family: Helvetica,Arial,sans-serif; font-size: 13px;\n",
       "    border: 1px solid #ccc; padding: 10px;}\n",
       "div.help-header {\n",
       "    font-family: 'Roboto Mono', monospace;\n",
       "    font-size: 12px;\n",
       "    border: 1px solid #ccc;\n",
       "    border-bottom: none;\n",
       "    margin-top: 4px;\n",
       "    padding: 5px 10px;\n",
       "    font-weight: bold;\n",
       "    background: #f5f5f5;\n",
       "}\n",
       "\n",
       ".stacking-context { position: relative; z-index: 99997; }\n",
       "\n",
       ".wdgt-modal-background {\n",
       "    width: 100%;\n",
       "    height: 100%;\n",
       "    background-color: rgba(0,0,0,0.5);\n",
       "    position: fixed;\n",
       "    top: 0;\n",
       "    left: 0;\n",
       "    display: none;\n",
       "    z-index: 99998;\n",
       "}\n",
       "\n",
       ".wdgt-modal {\n",
       "    position: fixed;\n",
       "    top: 0;\n",
       "    left: 0;\n",
       "    right: 0;\n",
       "    bottom: 0;\n",
       "    margin: auto;\n",
       "    display: none;\n",
       "    width: 700px;\n",
       "    height: 300px;\n",
       "    background-color: #fff;\n",
       "    box-sizing: border-box;\n",
       "    border: 1px solid #eee;\n",
       "    border-radius: 5px;\n",
       "    overflow:hidden;\n",
       "    z-index: 99999;\n",
       "}\n",
       "\n",
       ".wdgt-modal-header {\n",
       "    background-color: #ccc;\n",
       "    border-bottom: 1px solid #dddddd;\n",
       "    box-sizing: border-box;\n",
       "    height: 50px;\n",
       "    padding: 0;\n",
       "}\n",
       ".wdgt-modal-header h3 {\n",
       "    margin: 0 !important;\n",
       "    box-sizing: border-box;\n",
       "    padding-left: 15px;\n",
       "    line-height: 50px;\n",
       "    color: #4d4d4d;\n",
       "    font-size: 16px;\n",
       "    display: inline-block;\n",
       "}\n",
       ".wdgt-modal-header span.close-wdgt-modal {\n",
       "    box-sizing: border-box;\n",
       "    border-left: 1px solid #dddddd;\n",
       "    float: right;\n",
       "    line-height: 50px;\n",
       "    margin-top: 18px;\n",
       "    padding: 0 15px 0 15px;\n",
       "    cursor: pointer;\n",
       "}\n",
       ".wdgt-modal-header span.close-wdgt-modal:hover img {\n",
       "    opacity: 0.6;\n",
       "}\n",
       "\n",
       ".wdgt-modal-content { overflow-y: auto; height: 250px; margin: 0; padding: 10px; }\n",
       ".wdgt-modal-content pre { background: #fff; text-align: left; }\n",
       ".show .wdgt-modal, .show .wdgt-modal-background { display: block; }\n",
       "\n",
       "div.output_area .wdgt-modal-content img { max-width: none; /*height: 100%;*/ }\n",
       "</style>\n"
      ],
      "text/plain": [
       "<IPython.core.display.HTML object>"
      ]
     },
     "metadata": {},
     "output_type": "display_data"
    }
   ],
   "source": [
    "%%html\n",
    "<style>\n",
    ".tp-widget { border:1px solid #aaa; }\n",
    ".p-TabPanel-tabContents { padding: 10px !important; }\n",
    ".p-Collapse-header { padding: 1px 5px; background: #eee; }\n",
    ".p-Collapse-open > .p-Collapse-header { background: #ddd; }\n",
    ".p-Collapse-contents { padding-top: 0; padding-left: 0; padding-bottom: 0;\n",
    "    padding-right: 0; height: 220px; background: #f5f5f5; }\n",
    ".p-Collapse-contents button {\n",
    "    width: 20%;\n",
    "    background: #fff;\n",
    "    text-align: center;\n",
    "    padding: 0;\n",
    "    font-weight: bold; }\n",
    "\n",
    ".widget-gridbox { background: #f5f5f5; }\n",
    ".widget-checkbox { padding-left: 40px; }\n",
    "div.output_scroll { box-shadow: none }\n",
    "\n",
    ".p-Accordion .widget-gridbox .widget-label { background-color: #fff; padding: 0 3px;\n",
    "    font-family: 'Roboto Mono', monospace; font-size: 14px; }\n",
    "                                            \n",
    ".highlight { background-color: #ffc !important; font-weight: bold; }\n",
    "\n",
    ".transpilation-step { background: #fff; border-bottom: 1px solid #ccc; }\n",
    ".transpilation-step button { background: #fff; }\n",
    ".transpilation-step .transformation { color: red; }\n",
    ".transpilation-step .analysis { color: green; }\n",
    "\n",
    ".transpilation-step div.fs10 { font-size: 10px; }\n",
    ".transpilation-step div.fs11 { font-size: 11px; }\n",
    ".transpilation-step div.fs12 { font-size: 12px; }\n",
    ".transpilation-step div.fs13 { font-size: 13px; }\n",
    ".transpilation-step div.fs14 { font-size: 14px; }\n",
    ".transpilation-step div.fs15 { font-size: 15px; }\n",
    "                            \n",
    ".transpilation-step > :nth-child(1) { text-align: center; font-weight: bold; font-size: 14px; }\n",
    ".transpilation-step > :nth-child(2) { font-family: 'Roboto Mono', monospace; font-size: 15px; }\n",
    ".transpilation-step > :nth-child(3) { font-family: 'Roboto Mono', monospace; font-size: 10px; color: #900;}\n",
    ".transpilation-step > :nth-child(4) { color: #ff9d85; }\n",
    ".transpilation-step > :nth-child(5) { color: #b587f7; }\n",
    ".transpilation-step > :nth-child(6) { color: #6ea2c9; }\n",
    "\n",
    ".logs-wpr { display: grid; grid-template-columns: 70px 60px auto; }\n",
    ".logs-wpr pre.date { font-size: 10px; }\n",
    ".logs-wpr pre.level { font-size: 10px; text-align: right; padding-right: 5px; }\n",
    ".logs-wpr pre.log-entry { font-size: 12px; }\n",
    ".logs-wpr pre.DEBUG { color: #000000; }\n",
    ".logs-wpr pre.INFO { color: #1c84a2; }\n",
    ".logs-wpr pre.WARNING { color: #ed7723; }\n",
    ".logs-wpr pre.ERROR { color: #d64e4a; }\n",
    ".logs-wpr pre.CRITICAL { color: white; background: #d64e4a; }\n",
    "\n",
    "div.output_area pre.help { font-family: Helvetica,Arial,sans-serif; font-size: 13px;\n",
    "    border: 1px solid #ccc; padding: 10px;}\n",
    "div.help-header {\n",
    "    font-family: 'Roboto Mono', monospace;\n",
    "    font-size: 12px;\n",
    "    border: 1px solid #ccc;\n",
    "    border-bottom: none;\n",
    "    margin-top: 4px;\n",
    "    padding: 5px 10px;\n",
    "    font-weight: bold;\n",
    "    background: #f5f5f5;\n",
    "}\n",
    "\n",
    ".stacking-context { position: relative; z-index: 99997; }\n",
    "\n",
    ".wdgt-modal-background {\n",
    "    width: 100%;\n",
    "    height: 100%;\n",
    "    background-color: rgba(0,0,0,0.5);\n",
    "    position: fixed;\n",
    "    top: 0;\n",
    "    left: 0;\n",
    "    display: none;\n",
    "    z-index: 99998;\n",
    "}\n",
    "\n",
    ".wdgt-modal {\n",
    "    position: fixed;\n",
    "    top: 0;\n",
    "    left: 0;\n",
    "    right: 0;\n",
    "    bottom: 0;\n",
    "    margin: auto;\n",
    "    display: none;\n",
    "    width: 700px;\n",
    "    height: 300px;\n",
    "    background-color: #fff;\n",
    "    box-sizing: border-box;\n",
    "    border: 1px solid #eee;\n",
    "    border-radius: 5px;\n",
    "    overflow:hidden;\n",
    "    z-index: 99999;\n",
    "}\n",
    "\n",
    ".wdgt-modal-header {\n",
    "    background-color: #ccc;\n",
    "    border-bottom: 1px solid #dddddd;\n",
    "    box-sizing: border-box;\n",
    "    height: 50px;\n",
    "    padding: 0;\n",
    "}\n",
    ".wdgt-modal-header h3 {\n",
    "    margin: 0 !important;\n",
    "    box-sizing: border-box;\n",
    "    padding-left: 15px;\n",
    "    line-height: 50px;\n",
    "    color: #4d4d4d;\n",
    "    font-size: 16px;\n",
    "    display: inline-block;\n",
    "}\n",
    ".wdgt-modal-header span.close-wdgt-modal {\n",
    "    box-sizing: border-box;\n",
    "    border-left: 1px solid #dddddd;\n",
    "    float: right;\n",
    "    line-height: 50px;\n",
    "    margin-top: 18px;\n",
    "    padding: 0 15px 0 15px;\n",
    "    cursor: pointer;\n",
    "}\n",
    ".wdgt-modal-header span.close-wdgt-modal:hover img {\n",
    "    opacity: 0.6;\n",
    "}\n",
    "\n",
    ".wdgt-modal-content { overflow-y: auto; height: 250px; margin: 0; padding: 10px; }\n",
    ".wdgt-modal-content pre { background: #fff; text-align: left; }\n",
    ".show .wdgt-modal, .show .wdgt-modal-background { display: block; }\n",
    "\n",
    "div.output_area .wdgt-modal-content img { max-width: none; /*height: 100%;*/ }\n",
    "</style>"
   ]
  },
  {
   "cell_type": "markdown",
   "metadata": {},
   "source": [
    "\n",
    "\n",
    "\n",
    "Display the widget:"
   ]
  },
  {
   "cell_type": "code",
   "execution_count": 38,
   "metadata": {
    "ExecuteTime": {
     "end_time": "2021-10-21T08:33:21.189132Z",
     "start_time": "2021-10-21T08:33:21.177071Z"
    },
    "scrolled": false
   },
   "outputs": [],
   "source": [
    "from qiskit.circuit.random import random_circuit\n",
    "from qiskit.test.mock import FakeAlmaden\n",
    "\n",
    "backend = FakeAlmaden()\n",
    "\n",
    "transpilation_sequence = TranspilationSequence()\n",
    "circ = random_circuit(5, 20, measure = True)"
   ]
  },
  {
   "cell_type": "code",
   "execution_count": 39,
   "metadata": {
    "ExecuteTime": {
     "end_time": "2021-10-21T08:33:21.670631Z",
     "start_time": "2021-10-21T08:33:21.635943Z"
    }
   },
   "outputs": [
    {
     "data": {
      "application/vnd.jupyter.widget-view+json": {
       "model_id": "d55fbda1f12c43fa8fed3029ca7d6824",
       "version_major": 2,
       "version_minor": 0
      },
      "text/plain": [
       "VBox(children=(HBox(children=(Box(children=(VBox(layout=Layout(width='100%')),), layout=Layout(border='1px ins…"
      ]
     },
     "metadata": {},
     "output_type": "display_data"
    }
   ],
   "source": [
    "tp_widget"
   ]
  },
  {
   "cell_type": "markdown",
   "metadata": {},
   "source": [
    "Transpile the circuits:\n",
    "\n",
    "\n",
    "\n"
   ]
  },
  {
   "cell_type": "code",
   "execution_count": 40,
   "metadata": {
    "ExecuteTime": {
     "end_time": "2021-10-21T08:33:28.895824Z",
     "start_time": "2021-10-21T08:33:24.503431Z"
    },
    "scrolled": false
   },
   "outputs": [
    {
     "name": "stdout",
     "output_type": "stream",
     "text": [
      "4.364556074142456\n"
     ]
    }
   ],
   "source": [
    "start_time = time()\n",
    "circ_tr = transpile(circ, backend, optimization_level = 3, callback = transpiler_callback)\n",
    "print(time() - start_time)"
   ]
  },
  {
   "cell_type": "code",
   "execution_count": null,
   "metadata": {},
   "outputs": [],
   "source": []
  }
 ],
 "metadata": {
  "interpreter": {
   "hash": "04635d289a519a1410467dd0afb0db42f9184808881ca68b2eb5a687a20a5a94"
  },
  "kernelspec": {
   "display_name": "Python 3",
   "language": "python",
   "name": "python3"
  },
  "language_info": {
   "codemirror_mode": {
    "name": "ipython",
    "version": 3
   },
   "file_extension": ".py",
   "mimetype": "text/x-python",
   "name": "python",
   "nbconvert_exporter": "python",
   "pygments_lexer": "ipython3",
   "version": "3.8.8"
  },
  "varInspector": {
   "cols": {
    "lenName": 16,
    "lenType": 16,
    "lenVar": 40
   },
   "kernels_config": {
    "python": {
     "delete_cmd_postfix": "",
     "delete_cmd_prefix": "del ",
     "library": "var_list.py",
     "varRefreshCmd": "print(var_dic_list())"
    },
    "r": {
     "delete_cmd_postfix": ") ",
     "delete_cmd_prefix": "rm(",
     "library": "var_list.r",
     "varRefreshCmd": "cat(var_dic_list()) "
    }
   },
   "types_to_exclude": [
    "module",
    "function",
    "builtin_function_or_method",
    "instance",
    "_Feature"
   ],
   "window_display": false
  }
 },
 "nbformat": 4,
 "nbformat_minor": 2
}
