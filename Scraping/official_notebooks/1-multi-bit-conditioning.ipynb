{
 "cells": [
  {
   "cell_type": "markdown",
   "id": "87fde96a",
   "metadata": {},
   "source": [
    "## Multi-bit conditioning of gates"
   ]
  },
  {
   "cell_type": "markdown",
   "id": "f71de89f",
   "metadata": {},
   "source": [
    "Please refer to PR #6761 of qiskit-terra. This is a generalization of PR #6018. In this work, we introduce a feature where a user can condition gates on a list of classical bits being set to a value."
   ]
  },
  {
   "cell_type": "code",
   "execution_count": null,
   "id": "3668a006",
   "metadata": {},
   "outputs": [],
   "source": [
    "from qiskit import *"
   ]
  },
  {
   "cell_type": "code",
   "execution_count": null,
   "id": "882497a1",
   "metadata": {},
   "outputs": [],
   "source": [
    "q = QuantumRegister(3,'q')\n",
    "c = ClassicalRegister(2,'c')\n",
    "q1 = QuantumRegister(4,'q1')\n",
    "c1 = ClassicalRegister(2,'c1')\n",
    "res = ClassicalRegister(1,'r')"
   ]
  },
  {
   "cell_type": "code",
   "execution_count": null,
   "id": "81d4002f",
   "metadata": {},
   "outputs": [],
   "source": [
    "backend = Aer.get_backend('qasm_simulator')"
   ]
  },
  {
   "cell_type": "markdown",
   "id": "1cc2c6f5",
   "metadata": {},
   "source": [
    "### 1.Conditioning of gates on bits of the same classical register"
   ]
  },
  {
   "cell_type": "code",
   "execution_count": null,
   "id": "c2426386",
   "metadata": {},
   "outputs": [],
   "source": [
    "qc = QuantumCircuit(q,c,res)\n",
    "qc.x([0,1])\n",
    "qc.measure([0,1],[0,1])\n",
    "qc.h(2).c_if([c[0],c[1]],3)\n",
    "qc.measure(2,res)"
   ]
  },
  {
   "cell_type": "code",
   "execution_count": null,
   "id": "aea6a629",
   "metadata": {},
   "outputs": [],
   "source": [
    "qjob = execute(qc,backend)\n",
    "counts = qjob.result().get_counts()\n",
    "print(counts)"
   ]
  },
  {
   "cell_type": "code",
   "execution_count": null,
   "id": "6d52d036",
   "metadata": {},
   "outputs": [],
   "source": [
    "qc.draw('mpl', cregbundle=False)"
   ]
  },
  {
   "cell_type": "markdown",
   "id": "b1d632c4",
   "metadata": {},
   "source": [
    "### 2.Conditioning of gates on bits belonging to multiple classical registers"
   ]
  },
  {
   "cell_type": "code",
   "execution_count": null,
   "id": "b83de283",
   "metadata": {},
   "outputs": [],
   "source": [
    "qc1 = QuantumCircuit(q,c,c1,res)\n",
    "qc1.x([0,1])\n",
    "qc1.measure([0,1],[c[0],c1[0]])\n",
    "qc1.h(2).c_if([c[0],c1[1]],2)\n",
    "qc1.measure(2,res)"
   ]
  },
  {
   "cell_type": "code",
   "execution_count": null,
   "id": "4ce7bc79",
   "metadata": {},
   "outputs": [],
   "source": [
    "qjob1 = execute(qc1,backend)\n",
    "counts = qjob1.result().get_counts()\n",
    "print(counts)"
   ]
  },
  {
   "cell_type": "code",
   "execution_count": null,
   "id": "fef30ef5",
   "metadata": {},
   "outputs": [],
   "source": [
    "qc1.draw('mpl',cregbundle=False)"
   ]
  }
 ],
 "metadata": {
  "kernelspec": {
   "display_name": "Python 3 (ipykernel)",
   "language": "python",
   "name": "python3"
  },
  "language_info": {
   "codemirror_mode": {
    "name": "ipython",
    "version": 3
   },
   "file_extension": ".py",
   "mimetype": "text/x-python",
   "name": "python",
   "nbconvert_exporter": "python",
   "pygments_lexer": "ipython3",
   "version": "3.7.10"
  }
 },
 "nbformat": 4,
 "nbformat_minor": 5
}
