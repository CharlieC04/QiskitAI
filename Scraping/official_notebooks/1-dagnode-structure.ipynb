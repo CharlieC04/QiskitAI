{
 "cells": [
  {
   "cell_type": "markdown",
   "source": [
    "# DemoDay Presentation - New DAGNode Structure"
   ],
   "metadata": {
    "slideshow": {
     "slide_type": "slide"
    }
   }
  },
  {
   "cell_type": "markdown",
   "source": [
    "### Rationale\n",
    "\n",
    "    Discussion in https://github.com/Qiskit/qiskit-terra/issues/6493 \n",
    "      \"Performance regression caused by DAGNode op property\"\n",
    "    \n",
    "    Performance issues when using @property for 'op'\n",
    "    \n",
    "    Desire to remove 'type' attribute and checks of 'node.type == '\n",
    "    \n",
    "    Avoid using '_op' and other ‘private’ variables in internal code"
   ],
   "metadata": {
    "slideshow": {
     "slide_type": "slide"
    }
   }
  },
  {
   "cell_type": "markdown",
   "source": [
    "### Previous State\n",
    "\n",
    "    DAGNode attributes\n",
    "        type - ['in', 'out', 'op']\n",
    "        op - Instruction (node.type == 'op' only)\n",
    "        qargs\n",
    "        cargs\n",
    "        wire - Qubit or Clbit (node.type in ['in', 'out'] only)\n",
    "        node_id\n",
    "        sort_key - used in DAGCircuit.topological_nodes()\n",
    "        name - as @property\n",
    "        condition - as @property"
   ],
   "metadata": {
    "slideshow": {
     "slide_type": "slide"
    }
   }
  },
  {
   "cell_type": "markdown",
   "source": [
    "### DAGCircuit / DAGNode function\n",
    "\n",
    "    DAGCircuit instance created directly or through circuit_to_dag\n",
    "\n",
    "    DAGNode ‘op’ nodes not created directly by user\n",
    "    \n",
    "        'apply_operation_front' and 'apply_operation_back' take ‘op’ arg\n",
    "        DAGNodes created in '_add_op_node' calls\n",
    "        \n",
    "\tDAGNode ‘in’ and ‘out’ nodes not created directly by user\n",
    "    \n",
    "        'add_qubits' and 'add_clbits' take ‘qubits’ and ‘clbits’ args\n",
    "        DAGNodes created in '_add_wire' calls\n",
    "        \n",
    "\tWith 2 exceptions (sabre_swap and lookahead_swap) DAGNodes only created\n",
    "        in '_add_op_node' and '_add_wire'\n",
    "    \n",
    "\tUsers should only be calling 'apply_operation_back', etc. and not\n",
    "        instantiating DAGNodes directly"
   ],
   "metadata": {
    "slideshow": {
     "slide_type": "slide"
    }
   }
  },
  {
   "cell_type": "markdown",
   "source": [
    "### Proposed Solution\n",
    "\n",
    "\tChange DAGNode from primary class to parent class with attributes\n",
    "        node_id\n",
    "        condition (already deprecated)\n",
    "        name (to be deprecated)\n",
    "        \n",
    "\tAdd DAGOpNode class with attributes\n",
    "        op\n",
    "        qargs\n",
    "        cargs\n",
    "        sort_key\n",
    "        \n",
    "\tAdd DAGInNode and DAGOutNode classes with attributes\n",
    "        wire\n",
    "        sort_key"
   ],
   "metadata": {
    "slideshow": {
     "slide_type": "slide"
    }
   }
  },
  {
   "cell_type": "markdown",
   "source": [
    "### New Commit #6567\n",
    "\n",
    "    Implement new DAGNode classes\n",
    "\n",
    "    Internally, all ‘if node.type == op’ replaced by ‘if isinstance(node, DAGOpNode)’\n",
    "        and similarly for DAGInNode and DAGOutNode\n",
    "        \n",
    "    Deprecations in DAGNode\n",
    "    \n",
    "    Many doc-string changes\n",
    "    \n",
    "    DAGCircuit, circuit_to_dag, and dag_to_circuit function exactly as before"
   ],
   "metadata": {
    "slideshow": {
     "slide_type": "slide"
    }
   }
  },
  {
   "cell_type": "markdown",
   "source": [
    "### Deprecations\n",
    "\n",
    "    These DAGNode kwargs are being deprecated as of 0.19.0\n",
    "        type\n",
    "        op\n",
    "        name\n",
    "        qargs\n",
    "        cargs\n",
    "        wire\n",
    "        \n",
    "\tThese DAGNode attributes are being deprecated as of 0.19.0\n",
    "        type\n",
    "        op\n",
    "        qargs\n",
    "        cargs\n",
    "        wire\n",
    "        \n",
    "\tThe DAGNode ‘condition’ kwarg has been deprecated and removed,\n",
    "        and the ‘condition’ attribute was deprecated in 0.18.0"
   ],
   "metadata": {
    "slideshow": {
     "slide_type": "slide"
    }
   }
  },
  {
   "cell_type": "markdown",
   "source": [
    "### Performance\n",
    "\n",
    "\tPerformance benchmarks run after the PR was merged showed mostly small improvements.\n",
    "    \n",
    "\tAll the transpiler tests were improved by a few percent\n",
    "    \n",
    "\tSmall benchmark decresase in performance in circuit_to_dag. May be the overhead\n",
    "        for the deprecation checks in DAGNode. Needs further investigating."
   ],
   "metadata": {
    "slideshow": {
     "slide_type": "slide"
    }
   }
  },
  {
   "cell_type": "markdown",
   "source": [
    "### Future To Do\n",
    "\n",
    "\tRemove ‘condition’ attribute 3 months after 0.18.0 release date\n",
    "    \n",
    "\tRemove all other deprecated items 3 months after release of 0.19.0\n",
    "    \n",
    "\tDeprecate ‘name’ attribute and convert all ‘node.name’ references to ‘node.op.name’"
   ],
   "metadata": {
    "slideshow": {
     "slide_type": "slide"
    }
   }
  },
  {
   "cell_type": "code",
   "execution_count": null,
   "source": [
    "from qiskit.circuit import QuantumCircuit\n",
    "from qiskit.visualization import dag_drawer\n",
    "from qiskit.converters import circuit_to_dag\n",
    "\n",
    "# Create basic Bell circuit\n",
    "\n",
    "qc = QuantumCircuit(2, 1)\n",
    "qc.x(1)\n",
    "qc.h(0)\n",
    "qc.cx(0, 1)\n",
    "\n",
    "display(qc.draw('mpl', cregbundle=False))\n",
    "print(qc._data)"
   ],
   "outputs": [],
   "metadata": {}
  },
  {
   "cell_type": "code",
   "execution_count": null,
   "source": [
    "# Convert circuit to dag and display dag\n",
    "\n",
    "dag = circuit_to_dag(qc)\n",
    "display(dag_drawer(dag))"
   ],
   "outputs": [],
   "metadata": {}
  },
  {
   "cell_type": "code",
   "execution_count": null,
   "source": [
    "# Using pre-6567 branch\n",
    "\n",
    "for node in dag.topological_nodes():\n",
    "    if node.type == \"op\":\n",
    "        print(type(node), node.type, node.op)\n",
    "    else:\n",
    "        print(type(node), node.type, node.wire)"
   ],
   "outputs": [],
   "metadata": {}
  },
  {
   "cell_type": "code",
   "execution_count": null,
   "source": [
    "# Using post-6567 branch\n",
    "\n",
    "from qiskit.dagcircuit import DAGOpNode\n",
    "\n",
    "for node in dag.topological_nodes():\n",
    "    if isinstance(node, DAGOpNode):\n",
    "        print(type(node), node.op)\n",
    "    else:\n",
    "        print(type(node), node.wire)"
   ],
   "outputs": [],
   "metadata": {}
  },
  {
   "cell_type": "code",
   "execution_count": null,
   "source": [
    "<class 'qiskit.dagcircuit.dagnode.DAGInNode'> Qubit(QuantumRegister(2, 'q'), 0)\n",
    "<class 'qiskit.dagcircuit.dagnode.DAGOpNode'> <qiskit.circuit.library.standard_gates.h.HGate object at 0x7f65b6f89d30>\n",
    "<class 'qiskit.dagcircuit.dagnode.DAGInNode'> Qubit(QuantumRegister(2, 'q'), 1)\n",
    "<class 'qiskit.dagcircuit.dagnode.DAGOpNode'> <qiskit.circuit.library.standard_gates.x.XGate object at 0x7f65b6f89fd0>\n",
    "<class 'qiskit.dagcircuit.dagnode.DAGOpNode'> <qiskit.circuit.library.standard_gates.x.CXGate object at 0x7f65b6f89400>\n",
    "<class 'qiskit.dagcircuit.dagnode.DAGOutNode'> Qubit(QuantumRegister(2, 'q'), 0)\n",
    "<class 'qiskit.dagcircuit.dagnode.DAGOutNode'> Qubit(QuantumRegister(2, 'q'), 1)\n",
    "<class 'qiskit.dagcircuit.dagnode.DAGInNode'> Clbit(ClassicalRegister(1, 'c'), 0)\n",
    "<class 'qiskit.dagcircuit.dagnode.DAGOutNode'> Clbit(ClassicalRegister(1, 'c'), 0)"
   ],
   "outputs": [],
   "metadata": {}
  }
 ],
 "metadata": {
  "kernelspec": {
   "display_name": "Python 3",
   "language": "python",
   "name": "python3"
  },
  "language_info": {
   "codemirror_mode": {
    "name": "ipython",
    "version": 3
   },
   "file_extension": ".py",
   "mimetype": "text/x-python",
   "name": "python",
   "nbconvert_exporter": "python",
   "pygments_lexer": "ipython3",
   "version": "3.8.5"
  }
 },
 "nbformat": 4,
 "nbformat_minor": 4
}