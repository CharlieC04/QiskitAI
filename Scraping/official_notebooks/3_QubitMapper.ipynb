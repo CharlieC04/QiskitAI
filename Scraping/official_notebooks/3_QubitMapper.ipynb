{
 "cells": [
  {
   "cell_type": "markdown",
   "id": "bc362530",
   "metadata": {},
   "source": [
    "# The new `QubitMapper` classes in Qiskit Nature\n",
    "\n",
    "    Max Rossmannek\n",
    "    Qiskit Demo Day - Feb 23rd, 2023\n",
    "\n",
    "\n",
    "Overview: https://github.com/Qiskit/qiskit-nature/issues/967\n",
    "    \n",
    "    \n",
    "Special thanks go to Anthony Gandon (https://github.com/Anthony-Gandon) for his great contributions!"
   ]
  },
  {
   "cell_type": "markdown",
   "id": "17cf3483",
   "metadata": {},
   "source": [
    "## Preparation\n",
    "\n",
    "First, let us get a `FermionicOp` for demonstration purposes."
   ]
  },
  {
   "cell_type": "code",
   "execution_count": 1,
   "id": "93d83f07",
   "metadata": {},
   "outputs": [],
   "source": [
    "from qiskit_nature.second_q.drivers import PySCFDriver"
   ]
  },
  {
   "cell_type": "code",
   "execution_count": 2,
   "id": "5bbde195",
   "metadata": {},
   "outputs": [
    {
     "name": "stderr",
     "output_type": "stream",
     "text": [
      "/home/oss/Files/Dev/Qiskit/qiskit-nature/main/qiskit_nature/second_q/operators/polynomial_tensor.py:242: DeprecationWarning: As of version 0.6.0 the return of unwrapped tensors in the `PolynomialTensor.__getitem__` method is deprecated. No sooner that 3 months after this release, arrays will always be returned as `Tensor` objects. You can switch to the new objects immediately, by setting `qiskit_nature.settings.tensor_unwrapping` to `False`.\n",
      "  return cast(Union[np.ndarray, SparseArray, Tensor], self[key]).shape[0]\n"
     ]
    }
   ],
   "source": [
    "driver = PySCFDriver()\n",
    "problem = driver.run()\n",
    "hamiltonian = problem.hamiltonian.second_q_op()"
   ]
  },
  {
   "cell_type": "code",
   "execution_count": 3,
   "id": "0195039e",
   "metadata": {
    "scrolled": false
   },
   "outputs": [
    {
     "name": "stdout",
     "output_type": "stream",
     "text": [
      "Fermionic Operator\n",
      "number spin orbitals=4, number terms=36\n",
      "  -1.2563390730032498 * ( +_0 -_0 )\n",
      "+ -0.47189600728114245 * ( +_1 -_1 )\n",
      "+ -1.2563390730032498 * ( +_2 -_2 )\n",
      "+ -0.47189600728114245 * ( +_3 -_3 )\n",
      "+ 0.33785507740175813 * ( +_0 +_0 -_0 -_0 )\n",
      "+ 0.09046559989211565 * ( +_0 +_0 -_1 -_1 )\n",
      "+ 0.09046559989211556 * ( +_0 +_1 -_0 -_1 )\n",
      "+ 0.33229086512764827 * ( +_0 +_1 -_1 -_0 )\n",
      "+ 0.33785507740175813 * ( +_0 +_2 -_2 -_0 )\n",
      "+ 0.09046559989211565 * ( +_0 +_2 -_3 -_1 )\n",
      "+ 0.09046559989211556 * ( +_0 +_3 -_2 -_1 )\n",
      "+ 0.33229086512764827 * ( +_0 +_3 -_3 -_0 )\n",
      "+ 0.33229086512764816 * ( +_1 +_0 -_0 -_1 )\n",
      "+ 0.09046559989211574 * ( +_1 +_0 -_1 -_0 )\n",
      "+ 0.09046559989211564 * ( +_1 +_1 -_0 -_0 )\n",
      "+ 0.34928686136600906 * ( +_1 +_1 -_1 -_1 )\n",
      "+ 0.33229086512764816 * ( +_1 +_2 -_2 -_1 )\n",
      "+ 0.09046559989211574 * ( +_1 +_2 -_3 -_0 )\n",
      "+ 0.09046559989211564 * ( +_1 +_3 -_2 -_0 )\n",
      "+ 0.34928686136600906 * ( +_1 +_3 -_3 -_1 )\n",
      "+ 0.33785507740175813 * ( +_2 +_0 -_0 -_2 )\n",
      "+ 0.09046559989211565 * ( +_2 +_0 -_1 -_3 )\n",
      "+ 0.09046559989211556 * ( +_2 +_1 -_0 -_3 )\n",
      "+ 0.33229086512764827 * ( +_2 +_1 -_1 -_2 )\n",
      "+ 0.33785507740175813 * ( +_2 +_2 -_2 -_2 )\n",
      "+ 0.09046559989211565 * ( +_2 +_2 -_3 -_3 )\n",
      "+ 0.09046559989211556 * ( +_2 +_3 -_2 -_3 )\n",
      "+ 0.33229086512764827 * ( +_2 +_3 -_3 -_2 )\n",
      "+ 0.33229086512764816 * ( +_3 +_0 -_0 -_3 )\n",
      "+ 0.09046559989211574 * ( +_3 +_0 -_1 -_2 )\n",
      "+ 0.09046559989211564 * ( +_3 +_1 -_0 -_2 )\n",
      "+ 0.34928686136600906 * ( +_3 +_1 -_1 -_3 )\n",
      "+ 0.33229086512764816 * ( +_3 +_2 -_2 -_3 )\n",
      "+ 0.09046559989211574 * ( +_3 +_2 -_3 -_2 )\n",
      "+ 0.09046559989211564 * ( +_3 +_3 -_2 -_2 )\n",
      "+ 0.34928686136600906 * ( +_3 +_3 -_3 -_3 )\n"
     ]
    }
   ],
   "source": [
    "print(hamiltonian)"
   ]
  },
  {
   "cell_type": "markdown",
   "id": "d2fc0df3",
   "metadata": {},
   "source": [
    "You could always map this to a qubit operator using one of the mappers in Nature:"
   ]
  },
  {
   "cell_type": "code",
   "execution_count": 4,
   "id": "3c48bc71",
   "metadata": {},
   "outputs": [],
   "source": [
    "from qiskit_nature.second_q.mappers import JordanWignerMapper"
   ]
  },
  {
   "cell_type": "code",
   "execution_count": 5,
   "id": "31082a16",
   "metadata": {},
   "outputs": [],
   "source": [
    "mapper = JordanWignerMapper()"
   ]
  },
  {
   "cell_type": "code",
   "execution_count": 6,
   "id": "27fd5220",
   "metadata": {},
   "outputs": [
    {
     "name": "stdout",
     "output_type": "stream",
     "text": [
      "-0.8105479805373271 * IIII\n",
      "+ 0.1721839326191555 * IIIZ\n",
      "- 0.2257534922240236 * IIZI\n",
      "+ 0.1721839326191552 * IZII\n",
      "- 0.22575349222402366 * ZIII\n",
      "+ 0.12091263261776633 * IIZZ\n",
      "+ 0.16892753870087907 * IZIZ\n",
      "+ 0.045232799946057826 * YYYY\n",
      "+ 0.045232799946057826 * XXYY\n",
      "+ 0.045232799946057826 * YYXX\n",
      "+ 0.045232799946057826 * XXXX\n",
      "+ 0.1661454325638241 * ZIIZ\n",
      "+ 0.16614543256382408 * IZZI\n",
      "+ 0.1746434306830045 * ZIZI\n",
      "+ 0.12091263261776633 * ZZII\n"
     ]
    },
    {
     "name": "stderr",
     "output_type": "stream",
     "text": [
      "/home/oss/Files/Dev/Qiskit/qiskit-nature/main/qiskit_nature/deprecation.py:298: PauliSumOpDeprecationWarning: PauliSumOp is deprecated as of version 0.6.0 and support for them will be removed no sooner than 3 months after the release. Instead, use SparsePauliOp. You can switch to SparsePauliOp immediately, by setting `qiskit_nature.settings.use_pauli_sum_op` to `False`.\n",
      "  return func(*args, **kwargs)\n"
     ]
    }
   ],
   "source": [
    "print(mapper.map(hamiltonian))"
   ]
  },
  {
   "cell_type": "markdown",
   "id": "aeecf89e",
   "metadata": {},
   "source": [
    "## How things used to integrate with the stack:\n",
    "\n",
    "So far, you always had to wrap every mapper into a `QubitConverter` if you wanted to use it in the rest of the stack:"
   ]
  },
  {
   "cell_type": "code",
   "execution_count": 7,
   "id": "c751f119",
   "metadata": {},
   "outputs": [],
   "source": [
    "from qiskit_nature.second_q.mappers import QubitConverter"
   ]
  },
  {
   "cell_type": "code",
   "execution_count": 8,
   "id": "141448ff",
   "metadata": {},
   "outputs": [],
   "source": [
    "converter = QubitConverter(mapper)"
   ]
  },
  {
   "cell_type": "code",
   "execution_count": 9,
   "id": "6ca5f060",
   "metadata": {},
   "outputs": [],
   "source": [
    "from qiskit.algorithms.minimum_eigensolvers import NumPyMinimumEigensolver\n",
    "from qiskit_nature.second_q.algorithms import GroundStateEigensolver"
   ]
  },
  {
   "cell_type": "code",
   "execution_count": 10,
   "id": "d21d24a9",
   "metadata": {},
   "outputs": [],
   "source": [
    "algo = GroundStateEigensolver(converter, NumPyMinimumEigensolver())"
   ]
  },
  {
   "cell_type": "code",
   "execution_count": 11,
   "id": "f58dd44d",
   "metadata": {},
   "outputs": [
    {
     "name": "stdout",
     "output_type": "stream",
     "text": [
      "=== GROUND STATE ENERGY ===\n",
      " \n",
      "* Electronic ground state energy (Hartree): -1.857275030202\n",
      "  - computed part:      -1.857275030202\n",
      "~ Nuclear repulsion energy (Hartree): 0.719968994449\n",
      "> Total ground state energy (Hartree): -1.137306035753\n",
      " \n",
      "=== MEASURED OBSERVABLES ===\n",
      " \n",
      "  0:  # Particles: 2.000 S: 0.000 S^2: 0.000 M: 0.000\n",
      " \n",
      "=== DIPOLE MOMENTS ===\n",
      " \n",
      "~ Nuclear dipole moment (a.u.): [0.0  0.0  1.3889487]\n",
      " \n",
      "  0: \n",
      "  * Electronic dipole moment (a.u.): [0.0  0.0  1.3889487]\n",
      "    - computed part:      [0.0  0.0  1.3889487]\n",
      "  > Dipole moment (a.u.): [0.0  0.0  0.0]  Total: 0.0\n",
      "                 (debye): [0.0  0.0  0.0]  Total: 0.0\n",
      " \n"
     ]
    }
   ],
   "source": [
    "print(algo.solve(problem))"
   ]
  },
  {
   "cell_type": "markdown",
   "id": "5964ef8d",
   "metadata": {},
   "source": [
    "## How things work now:\n",
    "\n",
    "Instead, you can now use the new mapper instances **directly**:"
   ]
  },
  {
   "cell_type": "code",
   "execution_count": 12,
   "id": "d07689e1",
   "metadata": {},
   "outputs": [],
   "source": [
    "algo = GroundStateEigensolver(mapper, NumPyMinimumEigensolver())"
   ]
  },
  {
   "cell_type": "code",
   "execution_count": 13,
   "id": "868eefe1",
   "metadata": {},
   "outputs": [
    {
     "name": "stdout",
     "output_type": "stream",
     "text": [
      "=== GROUND STATE ENERGY ===\n",
      " \n",
      "* Electronic ground state energy (Hartree): -1.857275030202\n",
      "  - computed part:      -1.857275030202\n",
      "~ Nuclear repulsion energy (Hartree): 0.719968994449\n",
      "> Total ground state energy (Hartree): -1.137306035753\n",
      " \n",
      "=== MEASURED OBSERVABLES ===\n",
      " \n",
      "  0:  # Particles: 2.000 S: 0.000 S^2: 0.000 M: 0.000\n",
      " \n",
      "=== DIPOLE MOMENTS ===\n",
      " \n",
      "~ Nuclear dipole moment (a.u.): [0.0  0.0  1.3889487]\n",
      " \n",
      "  0: \n",
      "  * Electronic dipole moment (a.u.): [0.0  0.0  1.3889487]\n",
      "    - computed part:      [0.0  0.0  1.3889487]\n",
      "  > Dipole moment (a.u.): [0.0  0.0  0.0]  Total: 0.0\n",
      "                 (debye): [0.0  0.0  0.0]  Total: 0.0\n",
      " \n"
     ]
    }
   ],
   "source": [
    "print(algo.solve(problem))"
   ]
  },
  {
   "cell_type": "markdown",
   "id": "0db6ccca",
   "metadata": {},
   "source": [
    "## What other features do the new `QubitMapper` classes have in store?"
   ]
  },
  {
   "cell_type": "markdown",
   "id": "cecc6ace",
   "metadata": {},
   "source": [
    "### 2-qubit reduction\n",
    "\n",
    "The 2-qubit reduction method has now been directly integrated into the `ParityMapper`:"
   ]
  },
  {
   "cell_type": "code",
   "execution_count": 14,
   "id": "7ef33f8f",
   "metadata": {},
   "outputs": [],
   "source": [
    "from qiskit_nature.second_q.mappers import ParityMapper"
   ]
  },
  {
   "cell_type": "code",
   "execution_count": 15,
   "id": "6a5e4273",
   "metadata": {},
   "outputs": [],
   "source": [
    "mapper = ParityMapper(num_particles=(1, 1))"
   ]
  },
  {
   "cell_type": "code",
   "execution_count": 16,
   "id": "b080080f",
   "metadata": {},
   "outputs": [
    {
     "name": "stdout",
     "output_type": "stream",
     "text": [
      "-1.0523732457728594 * II\n",
      "+ 0.39793742484317896 * IZ\n",
      "- 0.39793742484317873 * ZI\n",
      "- 0.01128010425623538 * ZZ\n",
      "+ 0.18093119978423122 * XX\n"
     ]
    }
   ],
   "source": [
    "print(mapper.map(hamiltonian))"
   ]
  },
  {
   "cell_type": "markdown",
   "id": "84d461b8",
   "metadata": {},
   "source": [
    "### Tapering more qubits\n",
    "\n",
    "Tapering more qubits is now handled by a separate mapper, the `TaperedQubitMapper`.\n",
    "Because this relies on problem specific information to find the correct symmetry sector, the easiest way to construct this mapper is like so:"
   ]
  },
  {
   "cell_type": "code",
   "execution_count": 17,
   "id": "69d32f03",
   "metadata": {},
   "outputs": [],
   "source": [
    "tapered_mapper = problem.get_tapered_mapper(mapper)"
   ]
  },
  {
   "cell_type": "code",
   "execution_count": 18,
   "id": "34b1d8ce",
   "metadata": {},
   "outputs": [
    {
     "name": "stdout",
     "output_type": "stream",
     "text": [
      "<class 'qiskit_nature.second_q.mappers.tapered_qubit_mapper.TaperedQubitMapper'>\n"
     ]
    }
   ],
   "source": [
    "print(type(tapered_mapper))"
   ]
  },
  {
   "cell_type": "code",
   "execution_count": 19,
   "id": "371683e2",
   "metadata": {},
   "outputs": [
    {
     "name": "stdout",
     "output_type": "stream",
     "text": [
      "-1.0410931415166238 * I\n",
      "- 0.7958748496863575 * Z\n",
      "- 0.1809311997842312 * X\n"
     ]
    }
   ],
   "source": [
    "print(tapered_mapper.map(hamiltonian))"
   ]
  },
  {
   "cell_type": "markdown",
   "id": "873f399e",
   "metadata": {},
   "source": [
    "If you want to learn how to construct such a mapper manually from the `Z2Symmetries` found in your hamiltonian, be sure to check out the documentation/tutorial once Qiskit Nature 0.6 releases!"
   ]
  },
  {
   "cell_type": "markdown",
   "id": "511522be",
   "metadata": {},
   "source": [
    "### Bonus: interleaved qubit ordering\n",
    "\n",
    "Qiskit Nature always arranges the qubit register in _blocked_ order, meaning that the fermionic modes corresponding to alpha-spin (or up-spin) particles occupy the first half, and the beta-spin (or down-spin) particles the second half.\n",
    "We can see this very easily when looking at the `HartreeFock` initial state:"
   ]
  },
  {
   "cell_type": "code",
   "execution_count": 20,
   "id": "d4c7b39f",
   "metadata": {},
   "outputs": [],
   "source": [
    "from qiskit_nature.second_q.circuit.library import HartreeFock"
   ]
  },
  {
   "cell_type": "code",
   "execution_count": 21,
   "id": "c416973d",
   "metadata": {},
   "outputs": [
    {
     "data": {
      "text/html": [
       "<pre style=\"word-wrap: normal;white-space: pre;background: #fff0;line-height: 1.1;font-family: &quot;Courier New&quot;,Courier,monospace\">     ┌───┐\n",
       "q_0: ┤ X ├\n",
       "     └───┘\n",
       "q_1: ─────\n",
       "     ┌───┐\n",
       "q_2: ┤ X ├\n",
       "     └───┘\n",
       "q_3: ─────\n",
       "          </pre>"
      ],
      "text/plain": [
       "     ┌───┐\n",
       "q_0: ┤ X ├\n",
       "     └───┘\n",
       "q_1: ─────\n",
       "     ┌───┐\n",
       "q_2: ┤ X ├\n",
       "     └───┘\n",
       "q_3: ─────\n",
       "          "
      ]
     },
     "execution_count": 21,
     "metadata": {},
     "output_type": "execute_result"
    }
   ],
   "source": [
    "hf_state = HartreeFock(2, (1, 1), JordanWignerMapper())\n",
    "hf_state.draw()"
   ]
  },
  {
   "cell_type": "markdown",
   "id": "a6d8ed5c",
   "metadata": {},
   "source": [
    "However, sometimes you want to rearrange your qubits into an interleaved layout where the alpha- and beta-spin modes alternate. This can be useful for various circuit designs. For simplicity, let us just look at the `HartreeFock` initial state again:"
   ]
  },
  {
   "cell_type": "code",
   "execution_count": 22,
   "id": "99e0e3e2",
   "metadata": {},
   "outputs": [],
   "source": [
    "from qiskit_nature.second_q.mappers import InterleavedQubitMapper"
   ]
  },
  {
   "cell_type": "code",
   "execution_count": 23,
   "id": "0bac0b1e",
   "metadata": {},
   "outputs": [],
   "source": [
    "interleaved_mapper = InterleavedQubitMapper(JordanWignerMapper())"
   ]
  },
  {
   "cell_type": "code",
   "execution_count": 24,
   "id": "998548d5",
   "metadata": {},
   "outputs": [
    {
     "data": {
      "text/html": [
       "<pre style=\"word-wrap: normal;white-space: pre;background: #fff0;line-height: 1.1;font-family: &quot;Courier New&quot;,Courier,monospace\">     ┌───┐\n",
       "q_0: ┤ X ├\n",
       "     ├───┤\n",
       "q_1: ┤ X ├\n",
       "     └───┘\n",
       "q_2: ─────\n",
       "          \n",
       "q_3: ─────\n",
       "          </pre>"
      ],
      "text/plain": [
       "     ┌───┐\n",
       "q_0: ┤ X ├\n",
       "     ├───┤\n",
       "q_1: ┤ X ├\n",
       "     └───┘\n",
       "q_2: ─────\n",
       "          \n",
       "q_3: ─────\n",
       "          "
      ]
     },
     "execution_count": 24,
     "metadata": {},
     "output_type": "execute_result"
    }
   ],
   "source": [
    "hf_state = HartreeFock(2, (1, 1), interleaved_mapper)\n",
    "hf_state.draw()"
   ]
  },
  {
   "cell_type": "markdown",
   "id": "d8e7ec0a",
   "metadata": {},
   "source": [
    "### Yet another bonus: replacing `PauliSumOp` with `SparsePauliOp`"
   ]
  },
  {
   "cell_type": "code",
   "execution_count": 25,
   "id": "c40339fc",
   "metadata": {},
   "outputs": [
    {
     "name": "stdout",
     "output_type": "stream",
     "text": [
      "<class 'qiskit.opflow.primitive_ops.pauli_sum_op.PauliSumOp'>\n"
     ]
    }
   ],
   "source": [
    "print(type(mapper.map(hamiltonian)))"
   ]
  },
  {
   "cell_type": "code",
   "execution_count": 26,
   "id": "701b61dc",
   "metadata": {},
   "outputs": [],
   "source": [
    "from qiskit_nature import settings\n",
    "\n",
    "settings.use_pauli_sum_op = False"
   ]
  },
  {
   "cell_type": "code",
   "execution_count": 27,
   "id": "4acd7eac",
   "metadata": {},
   "outputs": [
    {
     "name": "stdout",
     "output_type": "stream",
     "text": [
      "<class 'qiskit.quantum_info.operators.symplectic.sparse_pauli_op.SparsePauliOp'>\n"
     ]
    }
   ],
   "source": [
    "print(type(mapper.map(hamiltonian)))"
   ]
  },
  {
   "cell_type": "code",
   "execution_count": 28,
   "id": "99ef6003",
   "metadata": {},
   "outputs": [
    {
     "data": {
      "text/html": [
       "<h3>Version Information</h3><table><tr><th>Qiskit Software</th><th>Version</th></tr><tr><td><code>qiskit-terra</code></td><td>0.24.0.dev0+38132d8</td></tr><tr><td><code>qiskit-aer</code></td><td>0.11.2</td></tr><tr><td><code>qiskit-ibmq-provider</code></td><td>0.19.2</td></tr><tr><td><code>qiskit-nature</code></td><td>0.6.0</td></tr><tr><th>System information</th></tr><tr><td>Python version</td><td>3.9.16</td></tr><tr><td>Python compiler</td><td>GCC 12.2.1 20221121 (Red Hat 12.2.1-4)</td></tr><tr><td>Python build</td><td>main, Dec  7 2022 00:00:00</td></tr><tr><td>OS</td><td>Linux</td></tr><tr><td>CPUs</td><td>8</td></tr><tr><td>Memory (Gb)</td><td>62.5001335144043</td></tr><tr><td colspan='2'>Thu Feb 23 16:14:42 2023 CET</td></tr></table>"
      ],
      "text/plain": [
       "<IPython.core.display.HTML object>"
      ]
     },
     "metadata": {},
     "output_type": "display_data"
    },
    {
     "data": {
      "text/html": [
       "<div style='width: 100%; background-color:#d5d9e0;padding-left: 10px; padding-bottom: 10px; padding-right: 10px; padding-top: 5px'><h3>This code is a part of Qiskit</h3><p>&copy; Copyright IBM 2017, 2023.</p><p>This code is licensed under the Apache License, Version 2.0. You may<br>obtain a copy of this license in the LICENSE.txt file in the root directory<br> of this source tree or at http://www.apache.org/licenses/LICENSE-2.0.<p>Any modifications or derivative works of this code must retain this<br>copyright notice, and modified files need to carry a notice indicating<br>that they have been altered from the originals.</p></div>"
      ],
      "text/plain": [
       "<IPython.core.display.HTML object>"
      ]
     },
     "metadata": {},
     "output_type": "display_data"
    }
   ],
   "source": [
    "import qiskit.tools.jupyter\n",
    "\n",
    "%qiskit_version_table\n",
    "%qiskit_copyright"
   ]
  }
 ],
 "metadata": {
  "kernelspec": {
   "display_name": "Python 3",
   "language": "python",
   "name": "python3"
  },
  "language_info": {
   "codemirror_mode": {
    "name": "ipython",
    "version": 3
   },
   "file_extension": ".py",
   "mimetype": "text/x-python",
   "name": "python",
   "nbconvert_exporter": "python",
   "pygments_lexer": "ipython3",
   "version": "3.9.16"
  }
 },
 "nbformat": 4,
 "nbformat_minor": 5
}
