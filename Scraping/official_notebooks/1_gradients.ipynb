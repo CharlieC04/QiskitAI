{
 "cells": [
  {
   "cell_type": "markdown",
   "id": "d9ac2354",
   "metadata": {
    "slideshow": {
     "slide_type": "slide"
    }
   },
   "source": [
    "# Gradients on primitives:\n",
    "## `qiskit.algorithms.gradients`\n",
    "\n",
    "\n",
    "\n",
    "Qiskit Demoday (Sep. 29th, 2022)\n",
    "\n",
    "Atsushi Matsuo\n",
    "\n",
    "*Acknowledgements: Imamichi-san and Hamamura-san's gradient implementations helped me a lot. Thank you so much and I appreciate it.*"
   ]
  },
  {
   "cell_type": "markdown",
   "id": "69fe1448",
   "metadata": {
    "slideshow": {
     "slide_type": "slide"
    }
   },
   "source": [
    "## Index\n",
    "1. Introduction\n",
    "2. Gradient classes\n",
    "3. Examples\n",
    "4. Performance\n",
    "5. Summary"
   ]
  },
  {
   "cell_type": "markdown",
   "id": "8db3f630",
   "metadata": {
    "slideshow": {
     "slide_type": "slide"
    }
   },
   "source": [
    "# 1. Introduction\n",
    "\n",
    "- New gradient classes in `qiskt-terra 0.22`.\n",
    "- Unlike `opflow.gradients`, they use `primitives` to calculate the gradients of parameterized circuits.\n",
    "- Can be used in many applications such as VQE, QNN, and so on."
   ]
  },
  {
   "cell_type": "markdown",
   "id": "253096a9",
   "metadata": {
    "slideshow": {
     "slide_type": "slide"
    }
   },
   "source": [
    "# 2. Gradient classes\n",
    "- `Sampler` and `Estimator` have 4 gradient classes each (so 8 classes in total).\n",
    "- For Sampler:\n",
    "  - `FiniteDiffSamplerGradient`\n",
    "  - `LinCombSamplerGradient`\n",
    "  - `ParamShiftSamplerGradient`\n",
    "  - `SPSASamplerGradient`\n",
    "- For estimator:\n",
    "  - `FiniteDiffEstimatorGradient`\n",
    "  - `LinCombEstimatorGradient`\n",
    "  - `ParamShiftEstimatorGradient`\n",
    "  - `SPSAEstimatorGradient`\n",
    "\n",
    "We also have base classes (`BaseSamplerGradient` and `BaseEstimatorGradient`) and result classes (`SamplerGradientResult` and `EstimatorGradientResult`)."
   ]
  },
  {
   "cell_type": "markdown",
   "id": "d24b5cc6",
   "metadata": {
    "slideshow": {
     "slide_type": "slide"
    }
   },
   "source": [
    "## APIs\n",
    "APIs of the new gradient classes are similar to that of the primitives. Basically, the sampler gradients and estimator gradients have similar APIs, but the estimator gradients additionally requires `observables`."
   ]
  },
  {
   "cell_type": "code",
   "execution_count": null,
   "id": "a4d37b19",
   "metadata": {
    "slideshow": {
     "slide_type": "-"
    }
   },
   "outputs": [],
   "source": [
    "class BaseEstimatorGradient(ABC):\n",
    "    \n",
    "    def __init__(\n",
    "        self,\n",
    "        estimator: BaseEstimator,\n",
    "        options: Options | None = None,\n",
    "    ):\n",
    "        ...\n",
    "\n",
    "    def run(\n",
    "        self,\n",
    "        circuits: Sequence[QuantumCircuit],\n",
    "        observables: Sequence[BaseOperator | PauliSumOp],\n",
    "        parameter_values: Sequence[Sequence[float]],\n",
    "        parameters: Sequence[Sequence[Parameter] | None] | None = None,\n",
    "        **options,\n",
    "    ) -> AlgorithmJob:\n",
    "        ..."
   ]
  },
  {
   "cell_type": "code",
   "execution_count": null,
   "id": "d23f67de",
   "metadata": {},
   "outputs": [],
   "source": [
    "@dataclass(frozen=True)\n",
    "class EstimatorGradientResult:\n",
    "    \"\"\"Result of EstimatorGradient.\"\"\"\n",
    "\n",
    "    gradients: list[np.ndarray]\n",
    "    \"\"\"The gradients of the expectation values.\"\"\"\n",
    "    metadata: list[dict[str, Any]]\n",
    "    \"\"\"Additional information about the job.\"\"\"\n",
    "    options: Options\n",
    "    \"\"\"Primitive runtime options for the execution of the job.\"\"\""
   ]
  },
  {
   "cell_type": "markdown",
   "id": "f5c3bf2a",
   "metadata": {},
   "source": [
    "Let's see examples. It is faster to show than to explain."
   ]
  },
  {
   "cell_type": "markdown",
   "id": "0c38539e",
   "metadata": {
    "slideshow": {
     "slide_type": "slide"
    }
   },
   "source": [
    "# 3. Example of `ParamShiftEstimatorGradient`"
   ]
  },
  {
   "cell_type": "code",
   "execution_count": 1,
   "id": "38969e57",
   "metadata": {
    "slideshow": {
     "slide_type": "skip"
    }
   },
   "outputs": [],
   "source": [
    "from qiskit.algorithms.gradients import ParamShiftEstimatorGradient\n",
    "from qiskit.circuit import Parameter\n",
    "from qiskit.circuit.library import RealAmplitudes\n",
    "from qiskit.primitives import Estimator\n",
    "from qiskit.quantum_info import SparsePauliOp"
   ]
  },
  {
   "cell_type": "markdown",
   "id": "f79391fe",
   "metadata": {},
   "source": [
    "Use a `RealAmplitudes` circuit and a `ZI` operator. We have four parameters in the circuit."
   ]
  },
  {
   "cell_type": "code",
   "execution_count": 2,
   "id": "a1dc1a64",
   "metadata": {
    "slideshow": {
     "slide_type": "-"
    }
   },
   "outputs": [
    {
     "data": {
      "image/png": "[encoded data removed]",
      "text/plain": [
       "<Figure size 370.906x200.667 with 1 Axes>"
      ]
     },
     "execution_count": 2,
     "metadata": {},
     "output_type": "execute_result"
    }
   ],
   "source": [
    "qc = RealAmplitudes(num_qubits=2, reps=1)\n",
    "op = SparsePauliOp.from_list([(\"ZI\", 1)])\n",
    "qc.decompose().draw('mpl')"
   ]
  },
  {
   "cell_type": "markdown",
   "id": "8592817d",
   "metadata": {
    "slideshow": {
     "slide_type": "slide"
    }
   },
   "source": [
    "## Single execution example"
   ]
  },
  {
   "cell_type": "code",
   "execution_count": 3,
   "id": "30f8ed2b",
   "metadata": {},
   "outputs": [
    {
     "data": {
      "text/plain": [
       "array([0.83512712])"
      ]
     },
     "execution_count": 3,
     "metadata": {},
     "output_type": "execute_result"
    }
   ],
   "source": [
    "# How to use the Estimator\n",
    "estimator = Estimator()\n",
    "values = [1, 2, 3, 4]\n",
    "\n",
    "# run a job\n",
    "job = estimator.run([qc], [op], [values])\n",
    "\n",
    "# get results\n",
    "result = job.result().values\n",
    "result"
   ]
  },
  {
   "cell_type": "code",
   "execution_count": 4,
   "id": "ebddc45f",
   "metadata": {
    "slideshow": {
     "slide_type": "-"
    }
   },
   "outputs": [
    {
     "data": {
      "text/plain": [
       "[array([-0.22888997,  0.0061912 ,  0.        ,  0.42419313])]"
      ]
     },
     "execution_count": 4,
     "metadata": {},
     "output_type": "execute_result"
    }
   ],
   "source": [
    "# How to use the ParamShiftEstimatorGradient\n",
    "param_shift_grad = ParamShiftEstimatorGradient(estimator)\n",
    "\n",
    "# run a job\n",
    "job = param_shift_grad.run([qc], [op], [values])\n",
    "\n",
    "# get results\n",
    "result = job.result().gradients\n",
    "result"
   ]
  },
  {
   "cell_type": "markdown",
   "id": "f0b5a48f",
   "metadata": {},
   "source": [
    "APIs of the `ParamShiftEstimatorGradient` are similar to that of the `Estimator` "
   ]
  },
  {
   "cell_type": "markdown",
   "id": "821b7f17",
   "metadata": {
    "slideshow": {
     "slide_type": "slide"
    }
   },
   "source": [
    "## Example with batching"
   ]
  },
  {
   "cell_type": "code",
   "execution_count": 5,
   "id": "43680dd4",
   "metadata": {},
   "outputs": [
    {
     "data": {
      "text/plain": [
       "[array([-0.22888997,  0.0061912 ,  0.        ,  0.42419313]),\n",
       " array([-1.33966333e-01, -9.61484667e-01,  6.93889390e-17, -3.10120536e-01])]"
      ]
     },
     "execution_count": 5,
     "metadata": {},
     "output_type": "execute_result"
    }
   ],
   "source": [
    "estimator = Estimator()\n",
    "\n",
    "# Instantiate a grdient class\n",
    "param_shift_grad = ParamShiftEstimatorGradient(estimator)\n",
    "\n",
    "values1 = [1, 2, 3, 4]\n",
    "values2 = [5, 6, 7, 8]\n",
    "\n",
    "# run a job\n",
    "job = param_shift_grad.run([qc]*2, [op]*2, [values1, values2])\n",
    "\n",
    "# get results\n",
    "result = job.result().gradients\n",
    "result"
   ]
  },
  {
   "cell_type": "markdown",
   "id": "7b899f36",
   "metadata": {
    "slideshow": {
     "slide_type": "slide"
    }
   },
   "source": [
    "## Example with specified parameters\n",
    "We use a list of parameters to calculate only the gradients of the specified parameters."
   ]
  },
  {
   "cell_type": "code",
   "execution_count": 7,
   "id": "e2bb1ab6",
   "metadata": {},
   "outputs": [
    {
     "data": {
      "text/plain": [
       "[array([-0.22888997,  0.0061912 ,  0.        ,  0.42419313]),\n",
       " array([-0.22888997,  0.0061912 ])]"
      ]
     },
     "execution_count": 7,
     "metadata": {},
     "output_type": "execute_result"
    }
   ],
   "source": [
    "# EstimatorGradient\n",
    "param_shift_grad = ParamShiftEstimatorGradient(estimator)\n",
    "\n",
    "param = [p for p in qc.parameters]\n",
    "\n",
    "# run a job\n",
    "# param = list of parameters in the quantum circuit\n",
    "job = param_shift_grad.run([qc]*2, [op]*2, [values, values], [param, param[:2]])\n",
    "\n",
    "# get results\n",
    "result = job.result()\n",
    "result.gradients"
   ]
  },
  {
   "cell_type": "code",
   "execution_count": 8,
   "id": "3ded5ef4",
   "metadata": {},
   "outputs": [
    {
     "name": "stdout",
     "output_type": "stream",
     "text": [
      "result.metadata\n",
      "{'parameters': [ParameterVectorElement(θ[0]), ParameterVectorElement(θ[1]), ParameterVectorElement(θ[2]), ParameterVectorElement(θ[3])]}\n",
      "{'parameters': [ParameterVectorElement(θ[0]), ParameterVectorElement(θ[1])]}\n"
     ]
    }
   ],
   "source": [
    "# metadata in EstimatorGradientResult stores which parameters' graidents were caluclated\n",
    "print(\"result.metadata\")\n",
    "print(result.metadata[0])\n",
    "print(result.metadata[1])"
   ]
  },
  {
   "cell_type": "markdown",
   "id": "552e3ff6",
   "metadata": {},
   "source": [
    "This functionality is useful especially in QNNs. Some parameters in QNNs are used to encode input data. We don't need to calculate gradients for those parameters."
   ]
  },
  {
   "cell_type": "markdown",
   "id": "016e68b4",
   "metadata": {
    "slideshow": {
     "slide_type": "slide"
    }
   },
   "source": [
    "# Performance analysis\n",
    "\n",
    "- Used a `RealAmplitudes` circuit with 10 qubits, and changed the number of the layers in the circuit.\n",
    "- The parameter shift gradient is used for a gradient method.\n",
    "- The Primitive-based gradient is much faster than the Opflow gradient (~ 100 times).\n",
    "- `normalized` means `gradient_time/foward_time` to show the overhead of gradient calculation.\n",
    "- Primitive-based gradients avoids copying quantum circuits as much as possible for speed.\n",
    "\n",
    "<img src=\"comparison1.png\" width=\"80%\">\n",
    "\n",
    "\n",
    "\n",
    "<img src=\"comparison2.png\" width=\"80%\">"
   ]
  },
  {
   "cell_type": "markdown",
   "id": "28294e76",
   "metadata": {},
   "source": [
    "| name            |   forward_avg |   gradient_avg |   normalized_exec_time | \n",
    "|-----------------|---------------|----------------|------------------------|\n",
    "| opflow_rep0     |    0.0211032  |      3.5008    |              165.889   |\n",
    "| primitive_rep0  |    0.00701542 |      0.0438078 |                6.24451 |\n",
    "| opflow_rep1     |    0.0170194  |      8.82974   |              518.804   |\n",
    "| primitive_rep1  |    0.00849342 |      0.111733  |               13.1553  |\n",
    "| opflow_rep5     |    0.030078   |     43.4287    |             1443.87    |\n",
    "| primitive_rep5  |    0.015219   |      0.787144  |               51.7212  |\n",
    "| opflow_rep10    |    0.0505518  |    125.67      |             2485.96    |\n",
    "| primitive_rep10 |    0.0201492  |      2.02269   |              100.386   |"
   ]
  },
  {
   "cell_type": "markdown",
   "id": "173f7a0d",
   "metadata": {
    "slideshow": {
     "slide_type": "slide"
    }
   },
   "source": [
    "## Summary\n",
    "- New gradient classes in `qiskit-terra 0.22`.\n",
    "  - They use primitives to calculate the gradients of parametarized circuits.\n",
    "  - `Sampler` and `Estimator` have 4 gradient classes each (so 8 classes in total).\n",
    "- APIs are similar to primitives and easy to use. \n",
    "  - e.g., `param_shift_grad.run([qc], [op], [values])`\n",
    "- Support batching and can caluclate the gradients for specified parameters.\n",
    "- Much faster than exisiting the Opflow gradients."
   ]
  }
 ],
 "metadata": {
  "celltoolbar": "Slideshow",
  "kernelspec": {
   "display_name": "Python 3 (ipykernel)",
   "language": "python",
   "name": "python3"
  },
  "language_info": {
   "codemirror_mode": {
    "name": "ipython",
    "version": 3
   },
   "file_extension": ".py",
   "mimetype": "text/x-python",
   "name": "python",
   "nbconvert_exporter": "python",
   "pygments_lexer": "ipython3",
   "version": "3.9.10"
  },
  "vscode": {
   "interpreter": {
    "hash": "2cca81ced9bc0d1157ce91d058de4135598ae64aff2f412a3d22049f2343c1fe"
   }
  }
 },
 "nbformat": 4,
 "nbformat_minor": 5
}
