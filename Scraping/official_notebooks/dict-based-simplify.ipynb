{
 "cells": [
  {
   "cell_type": "markdown",
   "metadata": {
    "slideshow": {
     "slide_type": "slide"
    }
   },
   "source": [
    "# Performance improvement of `SparsePauliOp.simplify` with Rust \n",
    "\n",
    "Qiskit Demoday (April 28, 2022)\n",
    "\n",
    "Takashi Imamichi (@t-imamichi), IBM Research - Tokyo"
   ]
  },
  {
   "cell_type": "markdown",
   "metadata": {
    "slideshow": {
     "slide_type": "slide"
    }
   },
   "source": [
    "## Relevant PR\n",
    "\n",
    "- dict-based `SparsePauliOp.simplify` [terra#7656](https://github.com/Qiskit/qiskit-terra/pull/7656) (merged)"
   ]
  },
  {
   "cell_type": "markdown",
   "metadata": {},
   "source": [
    "## Background\n",
    "\n",
    "- I have been working on performance improvement of `SparsePauliOp` and qubit mapping (e.g., Jordan Wigner transformation) of Qiskit nature\n",
    "  - I talked about performance improvements in Qiskit nature in [Oct 2021](https://github.com/qiskit-community/feedback/wiki/Qiskit-DemoDays#oct-28-2021).\n",
    "- Recent PRs related to performance improvement\n",
    "  - Performance improvement of `SparsePauliOp.__init__` [terra#7830](https://github.com/Qiskit/qiskit-terra/pull/7830) (under review)\n",
    "  - Performance improvement of `SparsePauliOp.compose` [terra#7739](https://github.com/Qiskit/qiskit-terra/pull/7739) (merged)"
   ]
  },
  {
   "cell_type": "markdown",
   "metadata": {
    "slideshow": {
     "slide_type": "slide"
    }
   },
   "source": [
    "## Performance improvement"
   ]
  },
  {
   "cell_type": "markdown",
   "metadata": {},
   "source": [
    "Qiskit airspeed velocity\n",
    "![asv](asv.png)\n",
    "https://qiskit.github.io/qiskit/#quantum_info.SparsePauliOpBench.time_simplify"
   ]
  },
  {
   "cell_type": "markdown",
   "metadata": {
    "slideshow": {
     "slide_type": "slide"
    }
   },
   "source": [
    "### Benchmark using Jordan Wigner transformation"
   ]
  },
  {
   "cell_type": "code",
   "execution_count": 1,
   "metadata": {
    "slideshow": {
     "slide_type": "-"
    }
   },
   "outputs": [],
   "source": [
    "# based on https://github.com/Qiskit-Extensions/qiskit-alt/blob/main/bench/jordan_wigner_nature_time.py\n",
    "\n",
    "from timeit import timeit\n",
    "\n",
    "from qiskit import __qiskit_version__\n",
    "from qiskit_nature.drivers import UnitsType, Molecule\n",
    "from qiskit_nature.drivers.second_quantization import (\n",
    "    ElectronicStructureDriverType,\n",
    "    ElectronicStructureMoleculeDriver,\n",
    ")\n",
    "from qiskit_nature.problems.second_quantization import ElectronicStructureProblem\n",
    "from qiskit_nature.converters.second_quantization import QubitConverter\n",
    "from qiskit_nature.mappers.second_quantization import JordanWignerMapper\n",
    "from qiskit_nature.operators.second_quantization import FermionicOp\n",
    "\n",
    "geometry = {\n",
    "    \"h2\": [[\"H\", [0.0, 0.0, 0.0]], [\"H\", [0.0, 0.0, 0.735]]],\n",
    "    \"h2o\": [[\"O\", [0.0, 0.0, 0.0]], [\"H\", [0.757, 0.586, 0.0]], [\"H\", [-0.757, 0.586, 0.0]]],\n",
    "}"
   ]
  },
  {
   "cell_type": "code",
   "execution_count": 2,
   "metadata": {
    "slideshow": {
     "slide_type": "slide"
    }
   },
   "outputs": [],
   "source": [
    "def setup(basis, geom):\n",
    "    molecule = Molecule(geometry=geom, charge=0, multiplicity=1)\n",
    "    driver = ElectronicStructureMoleculeDriver(\n",
    "        molecule, basis=basis, driver_type=ElectronicStructureDriverType.PYSCF\n",
    "    )\n",
    "    es_problem = ElectronicStructureProblem(driver)\n",
    "    second_q_op = es_problem.second_q_ops()\n",
    "    qubit_converter = QubitConverter(mapper=JordanWignerMapper())\n",
    "    hamiltonian = second_q_op[0].reduce()\n",
    "    return qubit_converter, hamiltonian\n",
    "\n",
    "\n",
    "def run_one_basis(basis, molecule, num_repetitions):\n",
    "    qubit_converter, hamiltonian = setup(basis, geometry[molecule])\n",
    "    time = timeit(lambda: qubit_converter.convert(hamiltonian), number=num_repetitions)\n",
    "    t = 1000 * time / num_repetitions\n",
    "    print(f\"geometry={molecule}, basis={basis}, size={len(hamiltonian)}, time={t:0.2f} ms\")\n",
    "    return t"
   ]
  },
  {
   "cell_type": "code",
   "execution_count": 3,
   "metadata": {
    "slideshow": {
     "slide_type": "slide"
    }
   },
   "outputs": [
    {
     "name": "stdout",
     "output_type": "stream",
     "text": [
      "{'qiskit-terra': '0.21.0.dev0+ac234b6', 'qiskit-aer': '0.10.4', 'qiskit-ignis': '0.7.0', 'qiskit-ibmq-provider': '0.19.1', 'qiskit-aqua': None, 'qiskit': None, 'qiskit-nature': '0.4.0', 'qiskit-finance': None, 'qiskit-optimization': '0.4.0', 'qiskit-machine-learning': None}\n",
      "geometry=h2, basis=sto3g, size=14, time=5.75 ms\n",
      "geometry=h2, basis=631g, size=184, time=45.51 ms\n",
      "geometry=h2, basis=631++g, size=918, time=225.84 ms\n",
      "geometry=h2o, basis=sto3g, size=1085, time=268.08 ms\n",
      "geometry=h2o, basis=631g, size=12731, time=3239.09 ms\n"
     ]
    }
   ],
   "source": [
    "print(__qiskit_version__)\n",
    "for basis, molecule, num_repetitions in [\n",
    "    (\"sto3g\", \"h2\", 10),\n",
    "    (\"631g\", \"h2\", 10),\n",
    "    (\"631++g\", \"h2\", 5),\n",
    "    (\"sto3g\", \"h2o\", 5),\n",
    "    (\"631g\", \"h2o\", 1),\n",
    "]:\n",
    "    run_one_basis(basis, molecule, num_repetitions)"
   ]
  },
  {
   "cell_type": "markdown",
   "metadata": {},
   "source": [
    "Comparison of different Qiskit versions on a Linux server follows..."
   ]
  },
  {
   "cell_type": "markdown",
   "metadata": {
    "slideshow": {
     "slide_type": "slide"
    }
   },
   "source": [
    "Results with Qiskit 0.32.1 (Nov 22, 2021)\n",
    "\n",
    "```\n",
    "{'qiskit-terra': '0.18.3', 'qiskit-aer': '0.9.1', 'qiskit-ignis': '0.6.0', 'qiskit-ibmq-provider': '0.18.1', 'qiskit-aqua': '0.9.5', 'qiskit': '0.32.1', 'qiskit-nature': '0.2.2', 'qiskit-finance': None, 'qiskit-optimization': None, 'qiskit-machine-learning': None}\n",
    "geometry=h2, basis=sto3g, size=14, time=13.12 ms\n",
    "geometry=h2, basis=631g, size=184, time=188.12 ms\n",
    "geometry=h2, basis=631++g, size=918, time=1038.58 ms\n",
    "geometry=h2o, basis=sto3g, size=1085, time=1264.94 ms\n",
    "geometry=h2o, basis=631g, size=12731, time=37428.53 ms\n",
    "```"
   ]
  },
  {
   "cell_type": "markdown",
   "metadata": {
    "slideshow": {
     "slide_type": "slide"
    }
   },
   "source": [
    "Results with Qiskit 0.34.2 (Feb 9, 2022)\n",
    "```\n",
    "{'qiskit-terra': '0.19.2', 'qiskit-aer': '0.10.3', 'qiskit-ignis': '0.7.0', 'qiskit-ibmq-provider': '0.18.3', 'qiskit-aqua': None, 'qiskit': '0.34.2', 'qiskit-nature': '0.3.0', 'qiskit-finance': None, 'qiskit-optimization': None, 'qiskit-machine-learning': None}\n",
    "geometry=h2, basis=sto3g, size=14, time=7.30 ms\n",
    "geometry=h2, basis=631g, size=184, time=85.73 ms\n",
    "geometry=h2, basis=631++g, size=918, time=441.14 ms\n",
    "geometry=h2o, basis=sto3g, size=1085, time=513.19 ms\n",
    "geometry=h2o, basis=631g, size=12731, time=6543.96 ms\n",
    "```"
   ]
  },
  {
   "cell_type": "markdown",
   "metadata": {
    "slideshow": {
     "slide_type": "slide"
    }
   },
   "source": [
    "Results with Qiskit 0.36.1 (Apr 21, 2022)\n",
    "\n",
    "The faster simplify is merged.\n",
    "```\n",
    "{'qiskit-terra': '0.20.1', 'qiskit-aer': '0.10.4', 'qiskit-ignis': '0.7.0', 'qiskit-ibmq-provider': '0.19.1', 'qiskit-aqua': None, 'qiskit':\n",
    " '0.36.1', 'qiskit-nature': '0.3.2', 'qiskit-finance': None, 'qiskit-optimization': None, 'qiskit-machine-learning': None}\n",
    "geometry=h2, basis=sto3g, size=14, time=6.37 ms\n",
    "geometry=h2, basis=631g, size=184, time=71.36 ms\n",
    "geometry=h2, basis=631++g, size=918, time=362.70 ms\n",
    "geometry=h2o, basis=sto3g, size=1085, time=420.28 ms\n",
    "geometry=h2o, basis=631g, size=12731, time=5288.26 ms\n",
    "```"
   ]
  },
  {
   "cell_type": "markdown",
   "metadata": {
    "slideshow": {
     "slide_type": "slide"
    }
   },
   "source": [
    "Result with Qiskit terra [#7830](https://github.com/Qiskit/qiskit-terra/pull/7830) + Qiskit nature main (Apr 27, 2022)\n",
    "```\n",
    "{'qiskit-terra': '0.21.0.dev0+dbd3961', 'qiskit-aer': '0.10.4', 'qiskit-ignis': None, 'qiskit-ibmq-provider': None, 'qiskit-aqua': None, 'qiskit': None, 'qiskit-nature': '0.4.0', 'qiskit-finance': None, 'qiskit-optimization': '0.4.0', 'qiskit-machine-learning': None}\n",
    "geometry=h2, basis=sto3g, size=14, time=7.46 ms\n",
    "geometry=h2, basis=631g, size=184, time=63.57 ms\n",
    "geometry=h2, basis=631++g, size=918, time=305.31 ms\n",
    "geometry=h2o, basis=sto3g, size=1085, time=356.95 ms\n",
    "geometry=h2o, basis=631g, size=12731, time=4433.57 ms\n",
    "```"
   ]
  },
  {
   "cell_type": "markdown",
   "metadata": {
    "slideshow": {
     "slide_type": "slide"
    }
   },
   "source": [
    "## Comparison of different versions with h2o + 631g\n",
    "\n",
    "| version       |   date        | time (ms) |\n",
    "|---------------|---------------|-----------|\n",
    "| Qiskit 0.32.1 | Nov 22, 2021  | 37428.53  |\n",
    "| Qiskit 0.34.2 | Feb 9, 2022   | 6543.96   |\n",
    "| Qiskit 0.36.1 | Apr 21, 2022  | 5288.26   |\n",
    "| Qiskit terra #7830 + nature main | Apr 27, 2022 | 4433.57 |"
   ]
  },
  {
   "cell_type": "markdown",
   "metadata": {
    "slideshow": {
     "slide_type": "slide"
    }
   },
   "source": [
    "## How I developed \"dict-based `SparsePauliOp.simplify`\"?\n",
    "\n",
    "- `simplify` used `np.unique`, which relies on `np.argsort`.\n",
    "  - It takes $O(n \\log n)$ time with $n$ operators.\n",
    "- I noticed that a dict-based approach asymptotically better ($O(n)$ time)\n",
    "- I tried a pure-Python PoC and it ran faster with large number of operators.\n",
    "  - However, it is slower than the conventional way with small number of qubits.\n",
    "  - I tried Cython implementation, but did not succeed to outperform the conventional implementation.\n",
    "- I noticed that Matthew was working on Rust framework for Terra at the time.\n",
    "  - I was new to Rust and the code was not well optimized; but it outperformed the conventional `simplify`.\n",
    "  - Matthew rewrote my Rust code (much faster!) and I completed the PR."
   ]
  },
  {
   "cell_type": "markdown",
   "metadata": {
    "slideshow": {
     "slide_type": "slide"
    }
   },
   "source": [
    "## Matthew's rust framework for Terra\n",
    "![medium blog](blog-rust.png)\n",
    "https://medium.com/qiskit/new-weve-started-using-rust-in-qiskit-for-better-performance-a3676433ca8c"
   ]
  },
  {
   "cell_type": "markdown",
   "metadata": {
    "slideshow": {
     "slide_type": "slide"
    }
   },
   "source": [
    "## The strategy of update of `simplify`\n",
    "\n",
    "- replaces `np.unique` with a dict-based compatible function\n",
    "- implements the new `unique` function with Rust"
   ]
  },
  {
   "cell_type": "code",
   "execution_count": 5,
   "metadata": {
    "slideshow": {
     "slide_type": "-"
    }
   },
   "outputs": [],
   "source": [
    "# Pure-Python PoC of unique\n",
    "# https://github.com/Qiskit/qiskit-terra/pull/7656/commits/7e886dde94a7c2e46345d85b97b8bb4f7c928fc0\n",
    "def _unique(array):\n",
    "    # This function corresponds to\n",
    "    # _, indexes, inverses = np.unique(array, return_index=True, return_inverse=True, axis=0)\n",
    "    table = {}\n",
    "    indexes = []\n",
    "    inverses = np.empty(array.shape[0], dtype=int)\n",
    "    for i, ary in enumerate(array):\n",
    "        b = ary.data.tobytes()\n",
    "        if b in table:\n",
    "            inverses[i] = table[b]\n",
    "        else:\n",
    "            inverses[i] = table[b] = len(table)\n",
    "            indexes.append(i)\n",
    "    return indexes, inverses"
   ]
  },
  {
   "cell_type": "markdown",
   "metadata": {
    "slideshow": {
     "slide_type": "slide"
    }
   },
   "source": [
    "```rust\n",
    "// Rust version of unique\n",
    "// https://github.com/Qiskit/qiskit-terra/blob/48306bda792599e3bf456e2b5ea254347c386df9/src/sparse_pauli_op.rs#L40\n",
    "pub fn unordered_unique(py: Python, array: PyReadonlyArray2<u16>) -> (PyObject, PyObject) {\n",
    "    let array = array.as_array();\n",
    "    let shape = array.shape();\n",
    "    let mut table = HashMap::<ArrayView1<u16>, usize>::with_capacity(shape[0]);\n",
    "    let mut indices = Vec::new();\n",
    "    let mut inverses = vec![0; shape[0]];\n",
    "    for (i, v) in array.axis_iter(Axis(0)).enumerate() {\n",
    "        match table.get(&v) {\n",
    "            Some(id) => inverses[i] = *id,\n",
    "            None => {\n",
    "                let new_id = table.len();\n",
    "                table.insert(v, new_id);\n",
    "                inverses[i] = new_id;\n",
    "                indices.push(i);\n",
    "            }\n",
    "        }\n",
    "    }\n",
    "    (indices.into_pyarray(py).into(), inverses.into_pyarray(py).into())\n",
    "}\n",
    "```"
   ]
  },
  {
   "cell_type": "markdown",
   "metadata": {
    "slideshow": {
     "slide_type": "slide"
    }
   },
   "source": [
    "## Conclusions\n",
    "\n",
    "- If you notice any bottleneck in Terra, it's good to try to replace it with a Rust version!\n",
    "  - You can focus on only the slow part\n",
    "- You can manipulate ndarray with Rust\n",
    "- It's much easier to parallelize codes with Rust\n",
    "- Check out [Matthew's blog](https://medium.com/qiskit/new-weve-started-using-rust-in-qiskit-for-better-performance-a3676433ca8c) for details\n",
    "\n",
    "Thank you for your attention!"
   ]
  }
 ],
 "metadata": {
  "celltoolbar": "Slideshow",
  "kernelspec": {
   "display_name": "Python 3 (ipykernel)",
   "language": "python",
   "name": "python3"
  },
  "language_info": {
   "codemirror_mode": {
    "name": "ipython",
    "version": 3
   },
   "file_extension": ".py",
   "mimetype": "text/x-python",
   "name": "python",
   "nbconvert_exporter": "python",
   "pygments_lexer": "ipython3",
   "version": "3.9.12"
  }
 },
 "nbformat": 4,
 "nbformat_minor": 1
}
