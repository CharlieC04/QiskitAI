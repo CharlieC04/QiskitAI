{
 "cells": [
  {
   "cell_type": "markdown",
   "id": "center-macro",
   "metadata": {
    "slideshow": {
     "slide_type": "slide"
    }
   },
   "source": [
    "# Coherence limit error of gates with three or more qubits (Qiskit Demoday 2022/07/21)\n",
    "\n",
    "https://github.com/Qiskit/qiskit-experiments/pull/779\n",
    "\n",
    "Toshinari Itoko"
   ]
  },
  {
   "cell_type": "markdown",
   "id": "4a5299aa",
   "metadata": {
    "slideshow": {
     "slide_type": "slide"
    }
   },
   "source": [
    "## What is coherence limit error\n",
    "**The minimum $n$-qubit gate error achievable** on $n$ physical qubits with coherence limit.\n",
    "\n",
    "= A value computed from $n$, `gate_length`, `T1` and `T2` values.\n",
    "\n",
    "= **Average gate infidelity** (1 - average gate fidelity) of a noisy $n$-qubit gate with duration `gate_length`\n",
    "- Assume **qubit-wise thermal relaxation error** (without excitation) is only the error source on a gate of interest\n",
    "- Assume the thermal relaxation error approximately commutes with the gate (-> **gate independent** quantity)\n",
    "\n",
    "Note: Thermal relaxation channel is parameterized by `T1` and `T2` values, which can be measured by experiments."
   ]
  },
  {
   "cell_type": "markdown",
   "id": "5c8751c3",
   "metadata": {
    "slideshow": {
     "slide_type": "slide"
    }
   },
   "source": [
    "### Issue\n",
    "- `RBUtils.coherence_limit` can compute only the coherence limit error of 1- or 2-qubit gates"
   ]
  },
  {
   "cell_type": "code",
   "execution_count": 1,
   "id": "83570afd",
   "metadata": {},
   "outputs": [],
   "source": [
    "from qiskit_experiments.library.randomized_benchmarking import RBUtils"
   ]
  },
  {
   "cell_type": "code",
   "execution_count": 12,
   "id": "15e909e9",
   "metadata": {},
   "outputs": [
    {
     "name": "stderr",
     "output_type": "stream",
     "text": [
      "/var/folders/z0/psqdmn3d5pv75gs1dp30b0b00000gn/T/ipykernel_3616/1696815553.py:7: DeprecationWarning: The method 'coherence_limit' of 'RBUtils' class has been deprecated and will be removed after Qiskit Experiments 0.4. Please use coherence_limit_error function that can handle three or more qubits instead.\n",
      "  RBUtils.coherence_limit(\n"
     ]
    },
    {
     "data": {
      "text/plain": [
       "0.057454334533604046"
      ]
     },
     "execution_count": 12,
     "metadata": {},
     "output_type": "execute_result"
    }
   ],
   "source": [
    "# Run old function with num_qubits = 2\n",
    "num_qubits = 2\n",
    "t1s = [100 for _ in range(num_qubits)]\n",
    "t2s = [100 for _ in range(num_qubits)]\n",
    "gate_length = 5\n",
    "\n",
    "RBUtils.coherence_limit(\n",
    "    nQ=num_qubits,\n",
    "    T1_list=t1s,\n",
    "    T2_list=t2s,\n",
    "    gatelen=gate_length\n",
    ")"
   ]
  },
  {
   "cell_type": "code",
   "execution_count": 13,
   "id": "971bbf39",
   "metadata": {
    "scrolled": true
   },
   "outputs": [
    {
     "name": "stderr",
     "output_type": "stream",
     "text": [
      "/var/folders/z0/psqdmn3d5pv75gs1dp30b0b00000gn/T/ipykernel_3616/1602455470.py:7: DeprecationWarning: The method 'coherence_limit' of 'RBUtils' class has been deprecated and will be removed after Qiskit Experiments 0.4. Please use coherence_limit_error function that can handle three or more qubits instead.\n",
      "  RBUtils.coherence_limit(\n"
     ]
    },
    {
     "ename": "ValueError",
     "evalue": "Not a valid number of qubits",
     "output_type": "error",
     "traceback": [
      "\u001b[0;31m---------------------------------------------------------------------------\u001b[0m",
      "\u001b[0;31mValueError\u001b[0m                                Traceback (most recent call last)",
      "Input \u001b[0;32mIn [13]\u001b[0m, in \u001b[0;36m<cell line: 7>\u001b[0;34m()\u001b[0m\n\u001b[1;32m      4\u001b[0m t2s \u001b[38;5;241m=\u001b[39m [\u001b[38;5;241m100\u001b[39m \u001b[38;5;28;01mfor\u001b[39;00m _ \u001b[38;5;129;01min\u001b[39;00m \u001b[38;5;28mrange\u001b[39m(num_qubits)]\n\u001b[1;32m      5\u001b[0m gate_length \u001b[38;5;241m=\u001b[39m \u001b[38;5;241m5\u001b[39m\n\u001b[0;32m----> 7\u001b[0m \u001b[43mRBUtils\u001b[49m\u001b[38;5;241;43m.\u001b[39;49m\u001b[43mcoherence_limit\u001b[49m\u001b[43m(\u001b[49m\n\u001b[1;32m      8\u001b[0m \u001b[43m    \u001b[49m\u001b[43mnQ\u001b[49m\u001b[38;5;241;43m=\u001b[39;49m\u001b[43mnum_qubits\u001b[49m\u001b[43m,\u001b[49m\n\u001b[1;32m      9\u001b[0m \u001b[43m    \u001b[49m\u001b[43mT1_list\u001b[49m\u001b[38;5;241;43m=\u001b[39;49m\u001b[43mt1s\u001b[49m\u001b[43m,\u001b[49m\n\u001b[1;32m     10\u001b[0m \u001b[43m    \u001b[49m\u001b[43mT2_list\u001b[49m\u001b[38;5;241;43m=\u001b[39;49m\u001b[43mt2s\u001b[49m\u001b[43m,\u001b[49m\n\u001b[1;32m     11\u001b[0m \u001b[43m    \u001b[49m\u001b[43mgatelen\u001b[49m\u001b[38;5;241;43m=\u001b[39;49m\u001b[43mgate_length\u001b[49m\n\u001b[1;32m     12\u001b[0m \u001b[43m)\u001b[49m\n",
      "File \u001b[0;32m~/swd/qiskit-exp-v02/qiskit-experiments/qiskit_experiments/warnings.py:64\u001b[0m, in \u001b[0;36mdeprecated_function.<locals>.deprecated_wrapper.<locals>._wrap\u001b[0;34m(*args, **kwargs)\u001b[0m\n\u001b[1;32m     62\u001b[0m     message \u001b[38;5;241m+\u001b[39m\u001b[38;5;241m=\u001b[39m msg\n\u001b[1;32m     63\u001b[0m warnings\u001b[38;5;241m.\u001b[39mwarn(message, \u001b[38;5;167;01mDeprecationWarning\u001b[39;00m, stacklevel\u001b[38;5;241m=\u001b[39mstacklevel)\n\u001b[0;32m---> 64\u001b[0m \u001b[38;5;28;01mreturn\u001b[39;00m \u001b[43mfunc\u001b[49m\u001b[43m(\u001b[49m\u001b[38;5;241;43m*\u001b[39;49m\u001b[43margs\u001b[49m\u001b[43m,\u001b[49m\u001b[43m \u001b[49m\u001b[38;5;241;43m*\u001b[39;49m\u001b[38;5;241;43m*\u001b[39;49m\u001b[43mkwargs\u001b[49m\u001b[43m)\u001b[49m\n",
      "File \u001b[0;32m~/swd/qiskit-exp-v02/qiskit-experiments/qiskit_experiments/library/randomized_benchmarking/rb_utils.py:205\u001b[0m, in \u001b[0;36mRBUtils.coherence_limit\u001b[0;34m(nQ, T1_list, T2_list, gatelen)\u001b[0m\n\u001b[1;32m    202\u001b[0m     coherence_limit_err \u001b[38;5;241m=\u001b[39m \u001b[38;5;241m0.75\u001b[39m \u001b[38;5;241m*\u001b[39m (\u001b[38;5;241m1.0\u001b[39m \u001b[38;5;241m-\u001b[39m T1factor \u001b[38;5;241m-\u001b[39m T2factor)\n\u001b[1;32m    204\u001b[0m \u001b[38;5;28;01melse\u001b[39;00m:\n\u001b[0;32m--> 205\u001b[0m     \u001b[38;5;28;01mraise\u001b[39;00m \u001b[38;5;167;01mValueError\u001b[39;00m(\u001b[38;5;124m\"\u001b[39m\u001b[38;5;124mNot a valid number of qubits\u001b[39m\u001b[38;5;124m\"\u001b[39m)\n\u001b[1;32m    207\u001b[0m \u001b[38;5;28;01mreturn\u001b[39;00m coherence_limit_err\n",
      "\u001b[0;31mValueError\u001b[0m: Not a valid number of qubits"
     ]
    }
   ],
   "source": [
    "# Run old function with num_qubits = 3\n",
    "num_qubits = 3\n",
    "t1s = [100 for _ in range(num_qubits)]\n",
    "t2s = [100 for _ in range(num_qubits)]\n",
    "gate_length = 5\n",
    "\n",
    "RBUtils.coherence_limit(\n",
    "    nQ=num_qubits,\n",
    "    T1_list=t1s,\n",
    "    T2_list=t2s,\n",
    "    gatelen=gate_length\n",
    ")"
   ]
  },
  {
   "cell_type": "markdown",
   "id": "198193d7",
   "metadata": {
    "slideshow": {
     "slide_type": "slide"
    }
   },
   "source": [
    "### What PR does\n",
    "- Deprecate the original function `RBUtils.coherence_limit`\n",
    "- Reimplement it as a new function `RBUtils.coherence_limit_error` from scratch\n"
   ]
  },
  {
   "cell_type": "code",
   "execution_count": 16,
   "id": "a4768377",
   "metadata": {},
   "outputs": [
    {
     "data": {
      "text/plain": [
       "0.057454334533604094"
      ]
     },
     "execution_count": 16,
     "metadata": {},
     "output_type": "execute_result"
    }
   ],
   "source": [
    "# Run new function with num_qubits = 2\n",
    "num_qubits = 2\n",
    "t1s = [100 for _ in range(num_qubits)]\n",
    "t2s = [100 for _ in range(num_qubits)]\n",
    "gate_length = 5\n",
    "\n",
    "RBUtils.coherence_limit_error(\n",
    "    num_qubits=num_qubits,\n",
    "    gate_length=gate_length,\n",
    "    t1s=t1s,\n",
    "    t2s=t2s,\n",
    ")"
   ]
  },
  {
   "cell_type": "code",
   "execution_count": 19,
   "id": "1f3d6fda",
   "metadata": {},
   "outputs": [
    {
     "name": "stderr",
     "output_type": "stream",
     "text": [
      "/var/folders/z0/psqdmn3d5pv75gs1dp30b0b00000gn/T/ipykernel_3616/4074235615.py:4: DeprecationWarning: The method 'coherence_limit' of 'RBUtils' class has been deprecated and will be removed after Qiskit Experiments 0.4. Please use coherence_limit_error function that can handle three or more qubits instead.\n",
      "  RBUtils.coherence_limit(\n"
     ]
    },
    {
     "data": {
      "text/plain": [
       "True"
      ]
     },
     "execution_count": 19,
     "metadata": {},
     "output_type": "execute_result"
    }
   ],
   "source": [
    "import numpy as np\n",
    "\n",
    "np.isclose(\n",
    "    RBUtils.coherence_limit(\n",
    "        nQ=num_qubits,\n",
    "        T1_list=t1s,\n",
    "        T2_list=t2s,\n",
    "        gatelen=gate_length\n",
    "    ),\n",
    "    RBUtils.coherence_limit_error(\n",
    "        num_qubits=num_qubits,\n",
    "        gate_length=gate_length,\n",
    "        t1s=t1s,\n",
    "        t2s=t2s,\n",
    "    ),\n",
    "    15\n",
    ")"
   ]
  },
  {
   "cell_type": "code",
   "execution_count": 14,
   "id": "95e7682a",
   "metadata": {},
   "outputs": [
    {
     "data": {
      "text/plain": [
       "0.09401679901452938"
      ]
     },
     "execution_count": 14,
     "metadata": {},
     "output_type": "execute_result"
    }
   ],
   "source": [
    "# Run new function with num_qubits = 3\n",
    "num_qubits = 3\n",
    "t1s = [100 for _ in range(num_qubits)]\n",
    "t2s = [100 for _ in range(num_qubits)]\n",
    "gate_length = 5\n",
    "\n",
    "RBUtils.coherence_limit_error(\n",
    "    num_qubits=num_qubits,\n",
    "    gate_length=gate_length,\n",
    "    t1s=t1s,\n",
    "    t2s=t2s,\n",
    ")"
   ]
  },
  {
   "cell_type": "code",
   "execution_count": 15,
   "id": "8d5488c7",
   "metadata": {},
   "outputs": [
    {
     "data": {
      "text/plain": [
       "0.2843733430854025"
      ]
     },
     "execution_count": 15,
     "metadata": {},
     "output_type": "execute_result"
    }
   ],
   "source": [
    "# Run new function with num_qubits = 9\n",
    "num_qubits = 9\n",
    "t1s = [100 for _ in range(num_qubits)]\n",
    "t2s = [100 for _ in range(num_qubits)]\n",
    "gate_length = 5\n",
    "\n",
    "RBUtils.coherence_limit_error(\n",
    "    num_qubits=num_qubits,\n",
    "    gate_length=gate_length,\n",
    "    t1s=t1s,\n",
    "    t2s=t2s,\n",
    ")"
   ]
  },
  {
   "cell_type": "markdown",
   "id": "e2030312",
   "metadata": {
    "slideshow": {
     "slide_type": "slide"
    }
   },
   "source": [
    "## Difference between original and new implementation"
   ]
  },
  {
   "cell_type": "markdown",
   "id": "d5c2dc5f",
   "metadata": {
    "slideshow": {
     "slide_type": "slide"
    }
   },
   "source": [
    "### Original implementation\n",
    "https://github.com/Qiskit/qiskit-experiments/blob/c315cbd0062297b5a6696cf3e76d764833af303a/qiskit_experiments/library/randomized_benchmarking/rb_utils.py#L141"
   ]
  },
  {
   "cell_type": "code",
   "execution_count": null,
   "id": "9418b118",
   "metadata": {},
   "outputs": [],
   "source": [
    "def coherence_limit(nQ=2, T1_list=None, T2_list=None, gatelen=0.1):\n",
    "    T1 = np.array(T1_list)\n",
    "\n",
    "    if T2_list is None:\n",
    "        T2 = 2 * T1\n",
    "    else:\n",
    "        T2 = np.array(T2_list)\n",
    "\n",
    "    if len(T1) != nQ or len(T2) != nQ:\n",
    "        raise ValueError(\"T1 and/or T2 not the right length\")\n",
    "\n",
    "    coherence_limit_err = 0\n",
    "\n",
    "    if nQ == 1:\n",
    "\n",
    "        coherence_limit_err = 0.5 * (\n",
    "            1.0 - 2.0 / 3.0 * np.exp(-gatelen / T2[0]) - 1.0 / 3.0 * np.exp(-gatelen / T1[0])\n",
    "        )\n",
    "\n",
    "    elif nQ == 2:\n",
    "\n",
    "        T1factor = 0\n",
    "        T2factor = 0\n",
    "\n",
    "        for i in range(2):\n",
    "            T1factor += 1.0 / 15.0 * np.exp(-gatelen / T1[i])\n",
    "            T2factor += (\n",
    "                2.0\n",
    "                / 15.0\n",
    "                * (\n",
    "                    np.exp(-gatelen / T2[i])\n",
    "                    + np.exp(-gatelen * (1.0 / T2[i] + 1.0 / T1[1 - i]))\n",
    "                )\n",
    "            )\n",
    "\n",
    "        T1factor += 1.0 / 15.0 * np.exp(-gatelen * np.sum(1 / T1))\n",
    "        T2factor += 4.0 / 15.0 * np.exp(-gatelen * np.sum(1 / T2))\n",
    "\n",
    "        coherence_limit_err = 0.75 * (1.0 - T1factor - T2factor)\n",
    "\n",
    "    else:\n",
    "        raise ValueError(\"Not a valid number of qubits\")\n",
    "\n",
    "    return coherence_limit_err"
   ]
  },
  {
   "cell_type": "markdown",
   "id": "89710fd8",
   "metadata": {},
   "source": [
    "(Recap.) *Coherence limit error = Average gate infidelity at coherence limit*"
   ]
  },
  {
   "cell_type": "markdown",
   "id": "63bd30c6",
   "metadata": {
    "slideshow": {
     "slide_type": "slide"
    }
   },
   "source": [
    "## Equation behind the old implementation\n",
    "$$\n",
    "     \\begin{align}\n",
    "     1 - F_{\\text{ave}}(\\mathcal{E}, U)\n",
    "            &= \\frac{d-1}{d} \\left(1 - \\frac{Tr[{PTM}_{\\Lambda}] - 1}{d^2-1}\\right) \\quad\\mbox{(original)}\n",
    "     \\end{align}\n",
    "$$\n",
    "Note that the first diagonal element (the left-top corner element) of ${PTM}_{\\Lambda}$ is always 1 for any thermal relaxation channel $\\Lambda$.\n",
    "The original code somehow computes the sum of the second to last diagonal elements of ${PTM}_{\\Lambda}$  without explicitly using the formula $tr(X \\otimes Y) = tr(X) tr(Y)$."
   ]
  },
  {
   "cell_type": "markdown",
   "id": "12647845",
   "metadata": {
    "slideshow": {
     "slide_type": "slide"
    }
   },
   "source": [
    "## Equation behind the new implementation\n",
    "$$\n",
    "     \\begin{align}\n",
    "     1 - F_{\\text{ave}}(\\mathcal{E}, U)\n",
    "            &= \\frac{d}{d+1} \\left(1 - \\frac{Tr[S_{\\Lambda}]}{d^2}\\right) \\quad\\mbox{(proposed)} \\\\\n",
    "     \\end{align}\n",
    "$$\n",
    "Note that $Tr[S_{\\Lambda}] = Tr[{PTM}_{\\Lambda}]$ where $S_{\\Lambda}$ is the Liouville Superoperator and ${PTM}_{\\Lambda}$ is the Pauli Transfer Matrix of a quantum channel $\\Lambda$ because they can be transformed one another by basis transformation (unitary transformation),"
   ]
  },
  {
   "cell_type": "markdown",
   "id": "a683c9a1",
   "metadata": {
    "slideshow": {
     "slide_type": "slide"
    }
   },
   "source": [
    "### New implementation\n",
    "https://github.com/Qiskit/qiskit-experiments/blob/73488cd367b6d095f3472a7fb7ec53ee32a15e1f/qiskit_experiments/library/randomized_benchmarking/rb_utils.py#L210"
   ]
  },
  {
   "cell_type": "code",
   "execution_count": null,
   "id": "f1ee89fd",
   "metadata": {},
   "outputs": [],
   "source": [
    "def coherence_limit_error(\n",
    "    num_qubits: int, gate_length: float, t1s: Sequence, t2s: Optional[Sequence] = None\n",
    "):\n",
    "     t1s = np.array(t1s)\n",
    "    if t2s is None:\n",
    "        t2s = 2 * t1s\n",
    "    else:\n",
    "        t2s = np.array([min(t2, 2 * t1) for t1, t2 in zip(t1s, t2s)])\n",
    "\n",
    "    if len(t1s) != num_qubits or len(t2s) != num_qubits:\n",
    "        raise ValueError(\"Length of t1s/t2s must equal num_qubits\")\n",
    "\n",
    "    def thermal_relaxation_choi(t1, t2, time):  # without excitation\n",
    "        return qi.Choi(\n",
    "            np.array(\n",
    "                [\n",
    "                    [1, 0, 0, np.exp(-time / t2)],\n",
    "                    [0, 0, 0, 0],\n",
    "                    [0, 0, 1 - np.exp(-time / t1), 0],\n",
    "                    [np.exp(-time / t2), 0, 0, np.exp(-time / t1)],\n",
    "                ]\n",
    "            )\n",
    "        )\n",
    "\n",
    "    chois = [thermal_relaxation_choi(t1, t2, gate_length) for t1, t2 in zip(t1s, t2s)]\n",
    "    traces = [np.real(np.trace(np.array(qi.SuperOp(choi)))) for choi in chois]\n",
    "    d = 2**num_qubits\n",
    "    return d / (d + 1) * (1 - functools.reduce(operator.mul, traces) / (d * d))"
   ]
  },
  {
   "cell_type": "markdown",
   "id": "ce581420",
   "metadata": {
    "slideshow": {
     "slide_type": "slide"
    }
   },
   "source": [
    "(Recap.)\n",
    "$$\n",
    "     \\begin{align}\n",
    "     1 - F_{\\text{ave}}(\\mathcal{E}, U)\n",
    "            &= \\frac{d}{d+1} \\left(1 - \\frac{Tr[S_{\\Lambda}]}{d^2}\\right) \\quad\\mbox{(proposed)} \\\\\n",
    "     \\end{align}\n",
    "$$"
   ]
  },
  {
   "cell_type": "markdown",
   "id": "d5acdb2c",
   "metadata": {
    "slideshow": {
     "slide_type": "slide"
    }
   },
   "source": [
    "# Discussion\n",
    "The PR looks good but why not merged?\n",
    "-> Got a good question from reviewers (Naoki and Chris).\n",
    "\n",
    "- Where is the best place for the new `coherence_limit_error` function?\n",
    "\n",
    "    - Somewhere else in `qiskit-experiments`?\n",
    "    - `quantum_info` module in `qiskit-terra`?\n",
    "    - `noise` module in `qiskit-aer`?\n",
    "\n",
    "- Is the coherence limit error is widely accepted quantity?\n",
    "    - If not, to be a sample code in a tutorial notebook?"
   ]
  }
 ],
 "metadata": {
  "kernelspec": {
   "display_name": "Python 3 (ipykernel)",
   "language": "python",
   "name": "python3"
  },
  "language_info": {
   "codemirror_mode": {
    "name": "ipython",
    "version": 3
   },
   "file_extension": ".py",
   "mimetype": "text/x-python",
   "name": "python",
   "nbconvert_exporter": "python",
   "pygments_lexer": "ipython3",
   "version": "3.8.11"
  }
 },
 "nbformat": 4,
 "nbformat_minor": 5
}
