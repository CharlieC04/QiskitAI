{
 "cells": [
  {
   "cell_type": "code",
   "execution_count": 1,
   "id": "7625fadb",
   "metadata": {
    "execution": {
     "iopub.execute_input": "2023-05-03T18:45:41.126239Z",
     "iopub.status.busy": "2023-05-03T18:45:41.125814Z",
     "iopub.status.idle": "2023-05-03T18:45:41.474247Z",
     "shell.execute_reply": "2023-05-03T18:45:41.473456Z"
    }
   },
   "outputs": [],
   "source": [
    "from qiskit import *"
   ]
  },
  {
   "cell_type": "code",
   "execution_count": 2,
   "id": "064862db",
   "metadata": {
    "execution": {
     "iopub.execute_input": "2023-05-03T18:45:41.478293Z",
     "iopub.status.busy": "2023-05-03T18:45:41.477795Z",
     "iopub.status.idle": "2023-05-03T18:45:41.490358Z",
     "shell.execute_reply": "2023-05-03T18:45:41.489667Z"
    }
   },
   "outputs": [
    {
     "data": {
      "text/plain": [
       "<qiskit.circuit.instructionset.InstructionSet at 0x7fb1e3957580>"
      ]
     },
     "execution_count": 2,
     "metadata": {},
     "output_type": "execute_result"
    }
   ],
   "source": [
    "qr = QuantumRegister(3, 'q')\n",
    "cr = ClassicalRegister(2, 'zx_meas')\n",
    "qc = QuantumCircuit(qr,cr)\n",
    "qc.reset(range(3))\n",
    "qc.barrier()\n",
    "qc.h(1)\n",
    "qc.cx([1,0],[2,1])\n",
    "qc.h(0)\n",
    "qc.barrier()\n",
    "qc.measure([0,1], [0,1])\n",
    "qc.barrier()\n",
    "qc.z(2).c_if(cr, 1)\n",
    "qc.x(2).c_if(cr, 2)"
   ]
  }
 ],
 "metadata": {
  "kernelspec": {
   "display_name": "Python 3 (ipykernel)",
   "language": "python",
   "name": "python3"
  },
  "language_info": {
   "codemirror_mode": {
    "name": "ipython",
    "version": 3
   },
   "file_extension": ".py",
   "mimetype": "text/x-python",
   "name": "python",
   "nbconvert_exporter": "python",
   "pygments_lexer": "ipython3",
   "version": "3.8.16"
  }
 },
 "nbformat": 4,
 "nbformat_minor": 5
}