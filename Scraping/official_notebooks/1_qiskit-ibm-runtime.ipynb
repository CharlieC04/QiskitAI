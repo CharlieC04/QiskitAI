{
 "cells": [
  {
   "cell_type": "markdown",
   "id": "6196753d",
   "metadata": {
    "slideshow": {
     "slide_type": "slide"
    }
   },
   "source": [
    "# Using Qiskit Runtime with session and primitives"
   ]
  },
  {
   "cell_type": "markdown",
   "id": "toxic-blair",
   "metadata": {
    "slideshow": {
     "slide_type": "subslide"
    }
   },
   "source": [
    "**Qiskit Runtime** is a quantum computing service and programming model that allows our users to optimize workloads and efficiently execute them on quantum systems at scale."
   ]
  },
  {
   "cell_type": "markdown",
   "id": "5a7c5911",
   "metadata": {
    "slideshow": {
     "slide_type": "subslide"
    }
   },
   "source": [
    "**Primitives** are core functions that make it easier to build modular algorithms and applications. \n",
    "\n",
    "Instead of simply returning counts, they return more immediately meaningful information. \n",
    "\n",
    "Additionally, they provide a seamless way to access the latest advancements in IBM Quantum hardware and software."
   ]
  },
  {
   "cell_type": "markdown",
   "id": "1e937e1f",
   "metadata": {
    "slideshow": {
     "slide_type": "slide"
    }
   },
   "source": [
    "**Sampler:** Generates quasi-probabilities from input circuits.\n",
    "\n",
    "**Estimator:** Calculates expectation values from input circuits and observables."
   ]
  },
  {
   "cell_type": "markdown",
   "id": "fe7dcba0",
   "metadata": {
    "slideshow": {
     "slide_type": "slide"
    }
   },
   "source": [
    "## Using the Estimator primitive"
   ]
  },
  {
   "cell_type": "markdown",
   "id": "cb6af164",
   "metadata": {
    "slideshow": {
     "slide_type": "slide"
    }
   },
   "source": [
    "### 1. Create a circuit"
   ]
  },
  {
   "cell_type": "code",
   "execution_count": 1,
   "id": "c7f1c0fb",
   "metadata": {
    "slideshow": {
     "slide_type": "fragment"
    }
   },
   "outputs": [
    {
     "data": {
      "image/png": "[encoded data removed]",
      "text/plain": [
       "<Figure size 447.652x144.48 with 1 Axes>"
      ]
     },
     "metadata": {},
     "output_type": "display_data"
    }
   ],
   "source": [
    "from qiskit.circuit.random import random_circuit\n",
    "\n",
    "circuit = random_circuit(2, 2, seed=0).decompose(reps=1)\n",
    "display(circuit.draw(\"mpl\"))"
   ]
  },
  {
   "cell_type": "markdown",
   "id": "969d38bc",
   "metadata": {
    "slideshow": {
     "slide_type": "slide"
    }
   },
   "source": [
    "### 2. Create an observable to measure"
   ]
  },
  {
   "cell_type": "code",
   "execution_count": 2,
   "id": "0c87ed3e",
   "metadata": {
    "slideshow": {
     "slide_type": "fragment"
    }
   },
   "outputs": [
    {
     "name": "stdout",
     "output_type": "stream",
     "text": [
      ">>> Observable: ['XZ']\n"
     ]
    }
   ],
   "source": [
    "from qiskit.quantum_info import SparsePauliOp\n",
    "\n",
    "observable = SparsePauliOp(\"XZ\")\n",
    "print(f\">>> Observable: {observable.paulis}\")"
   ]
  },
  {
   "cell_type": "markdown",
   "id": "4a66c1f7",
   "metadata": {
    "slideshow": {
     "slide_type": "slide"
    }
   },
   "source": [
    "### 3. Initialize an Estimator class"
   ]
  },
  {
   "cell_type": "code",
   "execution_count": 3,
   "id": "0b101c57",
   "metadata": {
    "slideshow": {
     "slide_type": "fragment"
    }
   },
   "outputs": [],
   "source": [
    "from qiskit.primitives import Estimator\n",
    "\n",
    "estimator = Estimator()"
   ]
  },
  {
   "cell_type": "markdown",
   "id": "b4f21eaa",
   "metadata": {
    "slideshow": {
     "slide_type": "slide"
    }
   },
   "source": [
    "### 4. Invoke the Estimator and get results"
   ]
  },
  {
   "cell_type": "code",
   "execution_count": 4,
   "id": "2deaa129",
   "metadata": {
    "slideshow": {
     "slide_type": "fragment"
    }
   },
   "outputs": [
    {
     "name": "stdout",
     "output_type": "stream",
     "text": [
      ">>> Job ID: c23d3676-ce12-4a40-bf44-758ec6b11a04\n",
      ">>> Job Status: JobStatus.DONE\n"
     ]
    }
   ],
   "source": [
    "job = estimator.run(circuit, observable)\n",
    "print(f\">>> Job ID: {job.job_id()}\")\n",
    "print(f\">>> Job Status: {job.status()}\")"
   ]
  },
  {
   "cell_type": "code",
   "execution_count": 5,
   "id": "ea844ef5",
   "metadata": {
    "slideshow": {
     "slide_type": "fragment"
    }
   },
   "outputs": [
    {
     "name": "stdout",
     "output_type": "stream",
     "text": [
      ">>> EstimatorResult(values=array([0.85347811]), metadata=[{}])\n",
      "  > Expectation value: 0.8534781134132173\n"
     ]
    }
   ],
   "source": [
    "result = job.result()\n",
    "print(f\">>> {result}\")\n",
    "print(f\"  > Expectation value: {result.values[0]}\")"
   ]
  },
  {
   "cell_type": "markdown",
   "id": "0c814234",
   "metadata": {
    "slideshow": {
     "slide_type": "slide"
    }
   },
   "source": [
    "You can keep invoking the `run()` method again with the different inputs:"
   ]
  },
  {
   "cell_type": "code",
   "execution_count": 6,
   "id": "5d1a9325",
   "metadata": {
    "slideshow": {
     "slide_type": "fragment"
    }
   },
   "outputs": [
    {
     "data": {
      "image/png": "[encoded data removed]",
      "text/plain": [
       "<Figure size 929.252x144.48 with 1 Axes>"
      ]
     },
     "metadata": {},
     "output_type": "display_data"
    },
    {
     "name": "stdout",
     "output_type": "stream",
     "text": [
      ">>> Observable: ['IY']\n",
      ">>> Expectation value: -1.582539029327245e-16\n"
     ]
    }
   ],
   "source": [
    "circuit = random_circuit(2, 2, seed=1).decompose(reps=1)\n",
    "observable = SparsePauliOp(\"IY\")\n",
    "\n",
    "job = estimator.run(circuit, observable)\n",
    "result = job.result()\n",
    "\n",
    "display(circuit.draw(\"mpl\"))\n",
    "print(f\">>> Observable: {observable.paulis}\")\n",
    "print(f\">>> Expectation value: {result.values[0]}\")"
   ]
  },
  {
   "cell_type": "markdown",
   "id": "c1b5def8",
   "metadata": {
    "slideshow": {
     "slide_type": "slide"
    }
   },
   "source": [
    "You can also provide compound inputs to the `run()` method:"
   ]
  },
  {
   "cell_type": "code",
   "execution_count": 8,
   "id": "24b08980",
   "metadata": {
    "slideshow": {
     "slide_type": "fragment"
    }
   },
   "outputs": [
    {
     "name": "stdout",
     "output_type": "stream",
     "text": [
      ">>> Expectation values: [0.8534781134132173, -1.582539029327245e-16]\n"
     ]
    }
   ],
   "source": [
    "circuits = (\n",
    "    random_circuit(2, 2, seed=0).decompose(reps=1),\n",
    "    random_circuit(2, 2, seed=1).decompose(reps=1),\n",
    ")\n",
    "observables = (\n",
    "    SparsePauliOp(\"XZ\"),\n",
    "    SparsePauliOp(\"IY\"),\n",
    ")\n",
    "\n",
    "job = estimator.run(circuits, observables)\n",
    "result = job.result()\n",
    "\n",
    "print(f\">>> Expectation values: {result.values.tolist()}\")"
   ]
  },
  {
   "cell_type": "markdown",
   "id": "d04e4225",
   "metadata": {
    "slideshow": {
     "slide_type": "slide"
    }
   },
   "source": [
    "Or use parameterized circuits:"
   ]
  },
  {
   "cell_type": "code",
   "execution_count": 8,
   "id": "1456518e",
   "metadata": {
    "slideshow": {
     "slide_type": "fragment"
    }
   },
   "outputs": [
    {
     "data": {
      "image/png": "[encoded data removed]",
      "text/plain": [
       "<Figure size 538.128x200.667 with 1 Axes>"
      ]
     },
     "metadata": {},
     "output_type": "display_data"
    },
    {
     "name": "stdout",
     "output_type": "stream",
     "text": [
      ">>> Observable: ['ZI']\n",
      ">>> Parameter values: [0, 1, 2, 3, 4, 5]\n",
      ">>> Expectation value: -0.6485568434766461\n"
     ]
    }
   ],
   "source": [
    "from qiskit.circuit.library import RealAmplitudes\n",
    "\n",
    "circuit = RealAmplitudes(num_qubits=2, reps=2).decompose(reps=1)\n",
    "observable = SparsePauliOp(\"ZI\")\n",
    "parameter_values = [0, 1, 2, 3, 4, 5]\n",
    "\n",
    "job = estimator.run(circuit, observable, parameter_values)\n",
    "result = job.result()\n",
    "\n",
    "display(circuit.draw(\"mpl\"))\n",
    "print(f\">>> Observable: {observable.paulis}\")\n",
    "print(f\">>> Parameter values: {parameter_values}\")\n",
    "print(f\">>> Expectation value: {result.values[0]}\")"
   ]
  },
  {
   "cell_type": "markdown",
   "id": "11cdc73b",
   "metadata": {
    "slideshow": {
     "slide_type": "slide"
    }
   },
   "source": [
    "## Using Qiskit Runtime Estimator"
   ]
  },
  {
   "cell_type": "markdown",
   "id": "3710db96",
   "metadata": {
    "slideshow": {
     "slide_type": "slide"
    }
   },
   "source": [
    "### 1. Initialize account"
   ]
  },
  {
   "cell_type": "code",
   "execution_count": 9,
   "id": "dac21228",
   "metadata": {
    "slideshow": {
     "slide_type": "fragment"
    }
   },
   "outputs": [],
   "source": [
    "from qiskit_ibm_runtime import QiskitRuntimeService\n",
    "\n",
    "# QiskitRuntimeService.save_account(channel=\"ibm_quantum\", token=\"MY_API_TOKEN\") was used to save account.\n",
    "\n",
    "service = QiskitRuntimeService(channel=\"ibm_quantum\")\n",
    "backend = service.backend(\"ibmq_qasm_simulator\")"
   ]
  },
  {
   "cell_type": "markdown",
   "id": "00356482",
   "metadata": {
    "slideshow": {
     "slide_type": "slide"
    }
   },
   "source": [
    "### 2. Create a circuit and an observable"
   ]
  },
  {
   "cell_type": "code",
   "execution_count": 10,
   "id": "820a1bc7",
   "metadata": {
    "slideshow": {
     "slide_type": "fragment"
    }
   },
   "outputs": [
    {
     "data": {
      "image/png": "[encoded data removed]",
      "text/plain": [
       "<Figure size 621.739x200.667 with 1 Axes>"
      ]
     },
     "metadata": {},
     "output_type": "display_data"
    },
    {
     "name": "stdout",
     "output_type": "stream",
     "text": [
      ">>> Observable: ['XZ']\n"
     ]
    }
   ],
   "source": [
    "from qiskit.circuit.random import random_circuit\n",
    "from qiskit.quantum_info import SparsePauliOp\n",
    "\n",
    "circuit = random_circuit(2, 2, seed=0).decompose(reps=1)\n",
    "display(circuit.draw(\"mpl\"))\n",
    "\n",
    "observable = SparsePauliOp(\"XZ\")\n",
    "print(f\">>> Observable: {observable.paulis}\")"
   ]
  },
  {
   "cell_type": "markdown",
   "id": "c1fc88d3",
   "metadata": {
    "slideshow": {
     "slide_type": "slide"
    }
   },
   "source": [
    "### 3. Initialize the Qiskit Runtime Estimator"
   ]
  },
  {
   "cell_type": "code",
   "execution_count": 11,
   "id": "2756a944",
   "metadata": {
    "slideshow": {
     "slide_type": "fragment"
    }
   },
   "outputs": [],
   "source": [
    "from qiskit_ibm_runtime import Estimator\n",
    "\n",
    "estimator = Estimator(session=backend)"
   ]
  },
  {
   "cell_type": "markdown",
   "id": "617bbd25",
   "metadata": {
    "slideshow": {
     "slide_type": "slide"
    }
   },
   "source": [
    "### 4. Invoke the Estimator and get results"
   ]
  },
  {
   "cell_type": "code",
   "execution_count": 12,
   "id": "b474b4ea",
   "metadata": {
    "slideshow": {
     "slide_type": "fragment"
    }
   },
   "outputs": [
    {
     "name": "stdout",
     "output_type": "stream",
     "text": [
      ">>> Job ID: cdk1j0hg1234sbmpr5vg\n",
      ">>> Job Status: JobStatus.RUNNING\n"
     ]
    }
   ],
   "source": [
    "job = estimator.run(circuit, observable)\n",
    "print(f\">>> Job ID: {job.job_id()}\")\n",
    "print(f\">>> Job Status: {job.status()}\")"
   ]
  },
  {
   "cell_type": "code",
   "execution_count": 13,
   "id": "19a1b861",
   "metadata": {
    "slideshow": {
     "slide_type": "fragment"
    }
   },
   "outputs": [
    {
     "name": "stdout",
     "output_type": "stream",
     "text": [
      ">>> EstimatorResult(values=array([0.8515]), metadata=[{'variance': 0.27494774999999994, 'shots': 4000, 'readout_mitigation_num_twirled_circuits': 16, 'readout_mitigation_shots_calibration': 8192}])\n",
      "  > Expectation value: 0.8515\n",
      "  > Metadata: {'variance': 0.27494774999999994, 'shots': 4000, 'readout_mitigation_num_twirled_circuits': 16, 'readout_mitigation_shots_calibration': 8192}\n"
     ]
    }
   ],
   "source": [
    "result = job.result()\n",
    "print(f\">>> {result}\")\n",
    "print(f\"  > Expectation value: {result.values[0]}\")\n",
    "print(f\"  > Metadata: {result.metadata[0]}\")"
   ]
  },
  {
   "cell_type": "markdown",
   "id": "d8ccef83",
   "metadata": {
    "slideshow": {
     "slide_type": "slide"
    }
   },
   "source": [
    "## Options"
   ]
  },
  {
   "attachments": {
    "image-3.png": {
     "image/png": "[encoded data removed]"
    }
   },
   "cell_type": "markdown",
   "id": "af7a2b4b",
   "metadata": {
    "slideshow": {
     "slide_type": "slide"
    }
   },
   "source": [
    "Primitives come with a number of options that are grouped into different categories. Commonly used options, such as `resilience_level`, are at the first level.\n",
    "\n",
    "![image-3.png](attachment:image-3.png)"
   ]
  },
  {
   "cell_type": "markdown",
   "id": "3e2d2ab7",
   "metadata": {
    "slideshow": {
     "slide_type": "slide"
    }
   },
   "source": [
    "You can use the `Options` class to specify different options."
   ]
  },
  {
   "cell_type": "code",
   "execution_count": 14,
   "id": "4092d615",
   "metadata": {
    "slideshow": {
     "slide_type": "fragment"
    }
   },
   "outputs": [],
   "source": [
    "from qiskit_ibm_runtime import Options\n",
    "\n",
    "options = Options(optimization_level=3, environment={\"log_level\": \"INFO\"})"
   ]
  },
  {
   "cell_type": "markdown",
   "id": "37a09e15",
   "metadata": {
    "slideshow": {
     "slide_type": "slide"
    }
   },
   "source": [
    "`Options` supports auto-complete:"
   ]
  },
  {
   "cell_type": "code",
   "execution_count": 15,
   "id": "7101fabf",
   "metadata": {
    "slideshow": {
     "slide_type": "fragment"
    }
   },
   "outputs": [],
   "source": [
    "from qiskit_ibm_runtime import Options\n",
    "\n",
    "options = Options()\n",
    "options.resilience_level = 1\n",
    "options.execution.shots = 2048"
   ]
  },
  {
   "cell_type": "markdown",
   "id": "f8593fc5",
   "metadata": {
    "slideshow": {
     "slide_type": "slide"
    }
   },
   "source": [
    "Options can be at the primitive level:"
   ]
  },
  {
   "cell_type": "code",
   "execution_count": 16,
   "id": "507b64a3",
   "metadata": {
    "slideshow": {
     "slide_type": "fragment"
    }
   },
   "outputs": [
    {
     "name": "stdout",
     "output_type": "stream",
     "text": [
      ">>> Metadata: {'variance': 0.2781639099121094, 'shots': 2048, 'readout_mitigation_num_twirled_circuits': 16, 'readout_mitigation_shots_calibration': 8192}\n"
     ]
    }
   ],
   "source": [
    "estimator = Estimator(session=backend, options=options)\n",
    "result = estimator.run(circuit, observable).result()\n",
    "print(f\">>> Metadata: {result.metadata[0]}\")"
   ]
  },
  {
   "cell_type": "markdown",
   "id": "b06ad3b4",
   "metadata": {
    "slideshow": {
     "slide_type": "slide"
    }
   },
   "source": [
    "Or overwrite at the job level:"
   ]
  },
  {
   "cell_type": "code",
   "execution_count": 17,
   "id": "3e5e24ae",
   "metadata": {
    "slideshow": {
     "slide_type": "fragment"
    }
   },
   "outputs": [
    {
     "name": "stdout",
     "output_type": "stream",
     "text": [
      ">>> Metadata: {'variance': 0.2513694763183594, 'shots': 1024, 'readout_mitigation_num_twirled_circuits': 16, 'readout_mitigation_shots_calibration': 8192}\n"
     ]
    }
   ],
   "source": [
    "estimator = Estimator(session=backend, options=options)\n",
    "result = estimator.run(circuit, observable, shots=1024).result()\n",
    "print(f\">>> Metadata: {result.metadata[0]}\")"
   ]
  },
  {
   "cell_type": "markdown",
   "id": "c928cbd6",
   "metadata": {
    "slideshow": {
     "slide_type": "slide"
    }
   },
   "source": [
    "### Error suppression and mitigation"
   ]
  },
  {
   "cell_type": "markdown",
   "id": "bc0e936b",
   "metadata": {
    "slideshow": {
     "slide_type": "slide"
    }
   },
   "source": [
    "`optimization_level` and `resilience_level` are used to configure error suppression and mitigation.\n",
    "\n",
    "Advanced mitigation options can be specified under `resilience`."
   ]
  },
  {
   "cell_type": "code",
   "execution_count": 18,
   "id": "51d0d6b9",
   "metadata": {
    "slideshow": {
     "slide_type": "fragment"
    }
   },
   "outputs": [],
   "source": [
    "from qiskit_ibm_runtime import Options\n",
    "\n",
    "# optimization_level=3 adds dynamical decoupling\n",
    "# resilience_level=1 adds readout error mitigation\n",
    "options = Options(optimization_level=3, resilience_level=1)"
   ]
  },
  {
   "cell_type": "code",
   "execution_count": 19,
   "id": "d3989416",
   "metadata": {
    "slideshow": {
     "slide_type": "slide"
    }
   },
   "outputs": [
    {
     "name": "stdout",
     "output_type": "stream",
     "text": [
      ">>> Expectation value: 0.854\n",
      ">>> Metadata: {'variance': 0.27068400000000004, 'shots': 4000, 'readout_mitigation_num_twirled_circuits': 16, 'readout_mitigation_shots_calibration': 8192}\n"
     ]
    }
   ],
   "source": [
    "estimator = Estimator(session=backend, options=options)\n",
    "result = estimator.run(circuit, observable).result()\n",
    "print(f\">>> Expectation value: {result.values[0]}\")\n",
    "print(f\">>> Metadata: {result.metadata[0]}\")"
   ]
  },
  {
   "cell_type": "markdown",
   "id": "d1bf8e48",
   "metadata": {
    "slideshow": {
     "slide_type": "slide"
    }
   },
   "source": [
    "## Session"
   ]
  },
  {
   "cell_type": "markdown",
   "id": "cd816b63",
   "metadata": {
    "slideshow": {
     "slide_type": "slide"
    }
   },
   "source": [
    "A Qiskit Runtime **session** allows you to group a collection of iterative calls to the quantum computer. \n",
    "\n",
    "A session is started when the first job within the session is started. \n",
    "\n",
    "Subsequent jobs within an active session are prioritized by the scheduler, and data used within a session, such as transpiled circuits, is also cached."
   ]
  },
  {
   "cell_type": "markdown",
   "id": "15a6ce1b",
   "metadata": {
    "slideshow": {
     "slide_type": "slide"
    }
   },
   "source": [
    "### Invoking Estimator.run within a session"
   ]
  },
  {
   "cell_type": "code",
   "execution_count": 20,
   "id": "7932c40f",
   "metadata": {
    "slideshow": {
     "slide_type": "fragment"
    }
   },
   "outputs": [
    {
     "name": "stdout",
     "output_type": "stream",
     "text": [
      ">>> Expectation value from the first run: 0.838\n",
      ">>> Expectation value from the second run: 0.855\n"
     ]
    }
   ],
   "source": [
    "from qiskit_ibm_runtime import Session, Estimator\n",
    "\n",
    "with Session(backend=backend, max_time=\"1h\"):\n",
    "    estimator = Estimator()\n",
    "\n",
    "    result = estimator.run(circuit, observable).result()\n",
    "    print(f\">>> Expectation value from the first run: {result.values[0]}\")\n",
    "\n",
    "    result = estimator.run(circuit, observable).result()\n",
    "    print(f\">>> Expectation value from the second run: {result.values[0]}\")"
   ]
  },
  {
   "cell_type": "markdown",
   "id": "f1ddb414",
   "metadata": {
    "slideshow": {
     "slide_type": "slide"
    }
   },
   "source": [
    "### Invoke multiple primitives in a session"
   ]
  },
  {
   "cell_type": "code",
   "execution_count": 22,
   "id": "e1d788ed",
   "metadata": {
    "slideshow": {
     "slide_type": "slide"
    }
   },
   "outputs": [
    {
     "name": "stdout",
     "output_type": "stream",
     "text": [
      ">>> Quasi Distribution from the sampler job: {0: 0.5165, 2: 0.4835}\n",
      ">>> Expectation value from the estimator job: 0.8515\n"
     ]
    }
   ],
   "source": [
    "from qiskit_ibm_runtime import Session, Sampler, Estimator\n",
    "\n",
    "with Session(backend=backend):\n",
    "    sampler = Sampler()\n",
    "    estimator = Estimator()\n",
    "\n",
    "    result = sampler.run(sampler_circuit).result()\n",
    "    print(f\">>> Quasi Distribution from the sampler job: {result.quasi_dists[0]}\")\n",
    "\n",
    "    result = estimator.run(circuit, observable).result()\n",
    "    print(f\">>> Expectation value from the estimator job: {result.values[0]}\")"
   ]
  },
  {
   "cell_type": "markdown",
   "id": "743987f6",
   "metadata": {
    "slideshow": {
     "slide_type": "slide"
    }
   },
   "source": [
    "The calls can also be asynchronous"
   ]
  },
  {
   "cell_type": "code",
   "execution_count": 23,
   "id": "034bc913",
   "metadata": {
    "slideshow": {
     "slide_type": "fragment"
    }
   },
   "outputs": [
    {
     "name": "stdout",
     "output_type": "stream",
     "text": [
      ">>> Quasi Distribution from the sampler job: {0: 0.499, 2: 0.501}\n",
      ">>> Expectation value from the estimator job: 0.857\n"
     ]
    }
   ],
   "source": [
    "from qiskit_ibm_runtime import Session, Sampler, Estimator\n",
    "\n",
    "with Session(backend=backend):\n",
    "    sampler = Sampler()\n",
    "    estimator = Estimator()\n",
    "\n",
    "    sampler_job = sampler.run(sampler_circuit)\n",
    "    estimator_job = estimator.run(circuit, observable)\n",
    "    \n",
    "    print(f\">>> Quasi Distribution from the sampler job: {sampler_job.result().quasi_dists[0]}\")\n",
    "    print(f\">>> Expectation value from the estimator job: {estimator_job.result().values[0]}\")"
   ]
  },
  {
   "cell_type": "markdown",
   "id": "7bc801c0",
   "metadata": {
    "slideshow": {
     "slide_type": "slide"
    }
   },
   "source": [
    "# Summary"
   ]
  },
  {
   "cell_type": "code",
   "execution_count": 24,
   "id": "709d52da",
   "metadata": {
    "slideshow": {
     "slide_type": "slide"
    }
   },
   "outputs": [
    {
     "name": "stdout",
     "output_type": "stream",
     "text": [
      ">>> Quasi Distribution from the sampler job: {0: 0.508, 2: 0.492}\n",
      ">>> Expectation value from the estimator job: 0.8435\n"
     ]
    }
   ],
   "source": [
    "from qiskit_ibm_runtime import QiskitRuntimeService, Session, Sampler, Estimator, Options\n",
    "\n",
    "# 1. Initialize account\n",
    "service = QiskitRuntimeService(channel=\"ibm_quantum\")\n",
    "\n",
    "# 2. Specify options, such as enabling error mitigation\n",
    "options = Options(resilience_level=1)\n",
    "\n",
    "# 3. Select a backend.\n",
    "backend = service.backend(\"ibmq_qasm_simulator\")\n",
    "\n",
    "# 4. Create a session\n",
    "with Session(backend=backend):\n",
    "\n",
    "    # 5. Create primitive instances\n",
    "    sampler = Sampler(options=options)\n",
    "    estimator = Estimator(options=options)\n",
    "\n",
    "    # 6. Submit jobs\n",
    "    sampler_job = sampler.run(sampler_circuit)\n",
    "    estimator_job = estimator.run(circuit, observable)\n",
    "    \n",
    "    # 7. Get results\n",
    "    print(f\">>> Quasi Distribution from the sampler job: {sampler_job.result().quasi_dists[0]}\")\n",
    "    print(f\">>> Expectation value from the estimator job: {estimator_job.result().values[0]}\")"
   ]
  },
  {
   "cell_type": "markdown",
   "id": "e92ca242",
   "metadata": {
    "slideshow": {
     "slide_type": "slide"
    }
   },
   "source": [
    "# Questions?"
   ]
  }
 ],
 "metadata": {
  "celltoolbar": "Slideshow",
  "kernelspec": {
   "display_name": "Python 3",
   "language": "python",
   "name": "python3"
  },
  "language_info": {
   "codemirror_mode": {
    "name": "ipython",
    "version": 3
   },
   "file_extension": ".py",
   "mimetype": "text/x-python",
   "name": "python",
   "nbconvert_exporter": "python",
   "pygments_lexer": "ipython3",
   "version": "3.9.1"
  }
 },
 "nbformat": 4,
 "nbformat_minor": 5
}
