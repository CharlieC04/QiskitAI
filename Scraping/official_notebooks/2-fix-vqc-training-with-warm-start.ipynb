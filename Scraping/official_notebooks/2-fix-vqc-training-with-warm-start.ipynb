{
 "cells": [
  {
   "cell_type": "markdown",
   "id": "a2ecf1af-4d9d-482c-8cda-44ae649e40c3",
   "metadata": {},
   "source": [
    "# Fix VQC when training from a warm start\n",
    "\n",
    "This notebook uses pull request [#312](https://github.com/Qiskit/qiskit-machine-learning/pull/312) for Qiskit Machine Learning. This is provides a (trivial) fix for issue [#296](https://github.com/qiskit/qiskit-machine-learning/issues/296). Thanks, Patrick Odagiu, for raising it!\n",
    "\n",
    "## Introduction\n",
    "\n",
    "### Variational quantum algorithms\n",
    "\n",
    "![](https://learn.qiskit.org/content/quantum-machine-learning/images/vqc/va.svg)\n",
    "\n",
    "Variational quantum algorithm (VQAs) are near-term, classical-quantum-hybrid algorithms that use a parameterized quantum circuit $U(\\theta)$. \n",
    "\n",
    "Initially this circuit uses some initial guess of the parameters $\\boldsymbol{\\theta}_0$ (ansatz). \n",
    "We then prepare a state $|\\psi(\\boldsymbol{\\theta}_0) \\rangle = U(\\boldsymbol{\\theta}_0) |0 \\rangle$ and measure its expectation value.\n",
    "We then use a cost function $C(\\theta)$ that determines how far these expectation values are from the ideal solution.\n",
    "The cost function is evaluated and parameters updated using a classical optimization algorithm: $\\boldsymbol{\\theta}_0 \\rightarrow \\boldsymbol{\\theta}_1$.\n",
    "We then prepare the state $|\\psi(\\boldsymbol{\\theta}_1) \\rangle = U(\\boldsymbol{\\theta}_1) |0 \\rangle$ and evaluate the expectation value again.\n",
    "\n",
    "This cycle of preparation and evaluation of circuit parameters continues until we have sufficiently minimized the cost function.\n",
    "\n",
    "### The variational quantum classifier\n",
    "\n",
    "![](https://learn.qiskit.org/content/quantum-machine-learning/images/vqc/vqc.svg)\n",
    "\n",
    "The variational quantum classifier (VQC) is a supervised VQA, where the measured expectation value is interpreted as the output of a classifier. \n",
    "\n",
    "Consider a classification problem with binary target labels $y_i = \\{0,1\\}$ and data feature vectors $\\boldsymbol{x}_i$. For each feature, we build a parameterized quantum circuit that prepares the state of $n$ qubits:\n",
    "\n",
    "$$|\\psi(\\boldsymbol{x}_i;\\boldsymbol{\\theta}) \\rangle =  U_{W(\\boldsymbol{\\theta})}U_{\\phi(\\boldsymbol{x}_i)}|0 \\rangle,$$\n",
    "\n",
    "where $U_{\\phi(\\boldsymbol{x}_i)}$ corresponds to the data-encoding circuit and $U_{W(\\boldsymbol{\\theta})}$ corresponds to the variational circuit.\n",
    "\n",
    "Measuring this state provides an $n$-length bitstring. This is mapped to the binary classification label using a boolean function $f: \\{0, 1\\}^{n} \\rightarrow \\{0, 1\\}$, usually the parity function.\n",
    "We then compute the difference between predicted labels $\\hat{y}_i$ and the target labels $y_i$ using the cost function. \n",
    "The classical optimization algorithm selects a new point $\\boldsymbol{\\theta}'$, which is then used to create a new circuit.\n",
    "This training process is repeated until the cost function stabilizes around a minimum point for which $\\boldsymbol{\\theta}$ provides the best predictions.\n",
    "\n",
    "See the [tutorial on VQCs in the Qiskit Textbook Beta](https://learn.qiskit.org/course/machine-learning/variational-classification) for more information.\n",
    "\n",
    "### Warm-start training\n",
    "\n",
    "Training a VQC usually begins with initializing the model parameters with randomized values. \n",
    "\n",
    "Alternatively, we can initialize the parameters with values saved from a previously trained model. This warm-starting approach enables us to start training from a better initial point on the cost surface. Thus, warm-starting leverages prior computation to pick up where the last training run left off and reduce the time required to train the full model. This is useful for training in batches.\n",
    "\n",
    "## Minimal (not) working example\n",
    "\n",
    "Run the next cell to checkout the pre-fix commit and install it. **Note that this notebook expects to live in the root directory of the qiskit-machine-learning repository.** Restart the kernel for the changes to take effect. "
   ]
  },
  {
   "cell_type": "code",
   "execution_count": null,
   "id": "0b6479d1",
   "metadata": {},
   "outputs": [],
   "source": [
    "import sys \n",
    "!git checkout 44bfc66a8aef1baf6794ab43ea9c73e5be34ce8e && {sys.executable} -m pip install -e . > /dev/null"
   ]
  },
  {
   "cell_type": "code",
   "execution_count": null,
   "id": "a204a855",
   "metadata": {},
   "outputs": [],
   "source": [
    "import numpy as np\n",
    "from qiskit import Aer\n",
    "from qiskit.utils import QuantumInstance\n",
    "from qiskit_machine_learning.algorithms.classifiers import VQC"
   ]
  },
  {
   "cell_type": "markdown",
   "id": "f43a7094",
   "metadata": {},
   "source": [
    "Construct toy data set."
   ]
  },
  {
   "cell_type": "code",
   "execution_count": null,
   "id": "4f92345d",
   "metadata": {},
   "outputs": [],
   "source": [
    "features = np.random.rand(20, 2)\n",
    "target = [0, 0, 0, 0, 0, 1, 1, 1, 1, 1]\n",
    "target = np.tile(target, 2)\n",
    "print(f\"Features:\\n{features.T}\")\n",
    "print(f\"Target:\", target)"
   ]
  },
  {
   "cell_type": "markdown",
   "id": "f94b35d7",
   "metadata": {},
   "source": [
    "One-hot encode the target."
   ]
  },
  {
   "cell_type": "code",
   "execution_count": null,
   "id": "237de9ed",
   "metadata": {},
   "outputs": [],
   "source": [
    "onehot_target = np.zeros((target.size, int(target.max() + 1)))\n",
    "onehot_target[np.arange(target.size), target.astype(int)] = 1\n",
    "print(onehot_target.T)"
   ]
  },
  {
   "cell_type": "markdown",
   "id": "ab3ded2a",
   "metadata": {},
   "source": [
    "Initialize the quantum instance."
   ]
  },
  {
   "cell_type": "code",
   "execution_count": null,
   "id": "ee9751ca",
   "metadata": {},
   "outputs": [],
   "source": [
    "backend = Aer.get_backend(\"aer_simulator_statevector\")\n",
    "quantum_instance = QuantumInstance(backend)"
   ]
  },
  {
   "cell_type": "markdown",
   "id": "81aa6107",
   "metadata": {},
   "source": [
    "Initialize the VQC."
   ]
  },
  {
   "cell_type": "code",
   "execution_count": null,
   "id": "dba42b67",
   "metadata": {},
   "outputs": [],
   "source": [
    "vqc = VQC(\n",
    "    num_qubits=2,\n",
    "    loss=\"cross_entropy\",\n",
    "    warm_start=True,\n",
    "    quantum_instance=quantum_instance,\n",
    ")"
   ]
  },
  {
   "cell_type": "markdown",
   "id": "430381df",
   "metadata": {},
   "source": [
    "Fit the VQC to the first half of the constructed toy data."
   ]
  },
  {
   "cell_type": "code",
   "execution_count": null,
   "id": "f45d3218",
   "metadata": {},
   "outputs": [],
   "source": [
    "vqc.fit(features[:10, :], onehot_target[:10])\n",
    "print(\"First fit complete.\")"
   ]
  },
  {
   "cell_type": "markdown",
   "id": "c1eb132c",
   "metadata": {},
   "source": [
    "Fit the VQC to the second half of the constructed toy data."
   ]
  },
  {
   "cell_type": "code",
   "execution_count": null,
   "id": "1b3b47d9",
   "metadata": {},
   "outputs": [],
   "source": [
    "vqc.fit(features[10:, :], onehot_target[10:])\n",
    "print(\"Second fit complete.\")"
   ]
  },
  {
   "cell_type": "markdown",
   "id": "c2230f2e",
   "metadata": {},
   "source": [
    "## Why does it fail?\n",
    "\n",
    "In [Qiskit Terra](https://github.com/Qiskit/qiskit-terra) the optimizers were refactored in pull request [#6866](https://github.com/Qiskit/qiskit-terra/pull/6866/).\n",
    "\n",
    "The old `optimize` method, that returned a subscriptable `Tuple` was deprecated and a new method `minimize` was created that returns an [`OptimizerResult`](https://qiskit.org/documentation/stubs/qiskit.algorithms.optimizers.OptimizerResult.html) object. \n",
    "\n",
    "The code was updated to use the new `minimize` method but the result handling was not altered—leading to the above failure.\n",
    "\n",
    "## What's the fix?\n",
    "\n",
    "Examining the API documentation for [`OptimizerResult`](https://qiskit.org/documentation/stubs/qiskit.algorithms.optimizers.OptimizerResult.html), we see that the final point of the minimization is stored in the property `x`.\n",
    "\n",
    "So, the very simple fix is:\n",
    "```sh\n",
    "--- a/qiskit_machine_learning/algorithms/trainable_model.py\n",
    "+++ b/qiskit_machine_learning/algorithms/trainable_model.py\n",
    "@@ -201,7 +201,7 @@ class TrainableModel:\n",
    "             An array as an initial point\n",
    "         \"\"\"\n",
    "```\n",
    "```python\n",
    "         if self._warm_start and self._fit_result is not None:\n",
    "            self._initial_point = self._fit_result.x\n",
    "#            self._initial_point = self._fit_result[0]\n",
    "         elif self._initial_point is None:\n",
    "             self._initial_point = algorithm_globals.random.random(self._neural_network.num_weights)\n",
    "         return self._initial_point\n",
    "```\n",
    "\n",
    "Let's checkout the version of the code after the pull request that introduced this fix was merged."
   ]
  },
  {
   "cell_type": "code",
   "execution_count": null,
   "id": "f8049955",
   "metadata": {},
   "outputs": [],
   "source": [
    "import sys\n",
    "!git checkout 5a02c7639db6a86beb9a944b14721935a48932e6 && {sys.executable} -m pip install -e . > /dev/null"
   ]
  },
  {
   "cell_type": "markdown",
   "id": "54ed80af",
   "metadata": {},
   "source": [
    "**Now restart the kernel and clear the outputs of all cells. Then run the implementation cells again.**\n",
    "All cells should now run without raising any errors.\n",
    "\n",
    "## Conclusion\n",
    "\n",
    "We now correctly save the final point of the minimization of a fit for all trainable models. This enables one to use for a warm start in subsequent fits.\n",
    "\n",
    "We also added some additional unit tests to check this is functionality is not broken by any future commits."
   ]
  }
 ],
 "metadata": {
  "interpreter": {
   "hash": "bd3459d626a40602c148b869cc8e2af1e2dbf603497e331df8cb6fa36bd62cc3"
  },
  "kernelspec": {
   "display_name": "qiskit-nature",
   "language": "python",
   "name": "python3"
  },
  "language_info": {
   "codemirror_mode": {
    "name": "ipython",
    "version": 3
   },
   "file_extension": ".py",
   "mimetype": "text/x-python",
   "name": "python",
   "nbconvert_exporter": "python",
   "pygments_lexer": "ipython3",
   "version": "3.10.2"
  }
 },
 "nbformat": 4,
 "nbformat_minor": 5
}
