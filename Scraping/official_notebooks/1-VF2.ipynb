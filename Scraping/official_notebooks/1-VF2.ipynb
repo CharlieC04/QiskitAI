{
 "cells": [
  {
   "cell_type": "markdown",
   "id": "83b3fa71",
   "metadata": {},
   "source": [
    "# VF2 Layout : The layout allocation as a subgraph isomorphism problem\n",
    "\n",
    "https://github.com/Qiskit/qiskit-terra/pull/6620\n"
   ]
  },
  {
   "cell_type": "code",
   "execution_count": 1,
   "id": "294cff70",
   "metadata": {
    "ExecuteTime": {
     "end_time": "2021-10-14T14:04:28.335525Z",
     "start_time": "2021-10-14T14:04:25.684579Z"
    }
   },
   "outputs": [],
   "source": [
    "import numpy\n",
    "from qiskit.circuit.library import GraphState\n",
    "from qiskit.test.mock import FakeMumbai\n",
    "from qiskit.transpiler import CouplingMap\n",
    "from qiskit.transpiler.passes import VF2Layout, CSPLayout\n",
    "from qiskit.visualization import plot_gate_map, plot_circuit_layout"
   ]
  },
  {
   "cell_type": "code",
   "execution_count": 21,
   "id": "efde0307",
   "metadata": {
    "ExecuteTime": {
     "end_time": "2021-10-14T14:12:06.951922Z",
     "start_time": "2021-10-14T14:12:06.630144Z"
    }
   },
   "outputs": [
    {
     "data": {
      "image/png": "[encoded data removed]",
      "text/plain": [
       "<Figure size 360x360 with 1 Axes>"
      ]
     },
     "metadata": {},
     "output_type": "display_data"
    },
    {
     "data": {
      "text/html": [
       "<pre style=\"word-wrap: normal;white-space: pre;background: #fff0;line-height: 1.1;font-family: &quot;Courier New&quot;,Courier,monospace\">      ┌───┐                                                                  \n",
       " q_0: ┤ H ├─────────────■─────────────────■──────────────────────────────────\n",
       "      ├───┤             │                 │                                  \n",
       " q_1: ┤ H ├──────────■──┼─────────────────┼──────────────────────────────────\n",
       "      ├───┤          │  │                 │                                  \n",
       " q_2: ┤ H ├─■────────┼──┼─────■───────────┼───────────■──────────────────────\n",
       "      ├───┤ │        │  │     │           │           │                      \n",
       " q_3: ┤ H ├─┼─────■──┼──┼─────┼─────■─────┼───────────┼──────────────────────\n",
       "      ├───┤ │     │  │  │     │     │     │           │                      \n",
       " q_4: ┤ H ├─■─────┼──┼──┼─────┼──■──┼─────┼───────────┼──────────────────────\n",
       "      ├───┤       │  │  │     │  │  │     │           │                      \n",
       " q_5: ┤ H ├───────┼──┼──┼─────┼──┼──┼─────┼────────■──┼──────────────────────\n",
       "      ├───┤       │  │  │     │  │  │     │        │  │                      \n",
       " q_6: ┤ H ├────■──┼──┼──┼──■──┼──┼──┼─────┼────────┼──┼──■───────────────────\n",
       "      ├───┤    │  │  │  │  │  │  │  │     │        │  │  │                   \n",
       " q_7: ┤ H ├─■──┼──┼──┼──┼──┼──┼──┼──┼──■──┼────────┼──┼──┼───────────────────\n",
       "      ├───┤ │  │  │  │  │  │  │  │  │  │  │        │  │  │                   \n",
       " q_8: ┤ H ├─■──┼──┼──┼──┼──┼──┼──┼──┼──┼──┼─────■──┼──┼──┼────────■──────────\n",
       "      ├───┤    │  │  │  │  │  │  │  │  │  │     │  │  │  │        │          \n",
       " q_9: ┤ H ├────┼──┼──┼──┼──┼──┼──┼──┼──┼──┼─────┼──┼──┼──┼─────■──┼──■───────\n",
       "      ├───┤    │  │  │  │  │  │  │  │  │  │     │  │  │  │     │  │  │       \n",
       "q_10: ┤ H ├────■──┼──┼──┼──┼──┼──┼──┼──┼──┼──■──┼──┼──┼──┼─────┼──┼──┼───────\n",
       "      ├───┤       │  │  │  │  │  │  │  │  │  │  │  │  │  │     │  │  │       \n",
       "q_11: ┤ H ├───────┼──┼──┼──■──┼──┼──┼──┼──┼──┼──■──┼──┼──┼─────┼──┼──┼───────\n",
       "      ├───┤       │  │  │     │  │  │  │  │  │     │  │  │     │  │  │       \n",
       "q_12: ┤ H ├───────┼──┼──┼─────■──┼──┼──┼──┼──┼─────┼──┼──┼──■──┼──┼──┼───────\n",
       "      ├───┤       │  │  │        │  │  │  │  │     │  │  │  │  │  │  │       \n",
       "q_13: ┤ H ├───────┼──┼──┼────────■──┼──┼──┼──┼─────■──┼──┼──┼──■──┼──┼───────\n",
       "      ├───┤       │  │  │           │  │  │  │        │  │  │     │  │       \n",
       "q_14: ┤ H ├───────┼──┼──┼───────────┼──┼──┼──┼────────■──┼──┼─────┼──┼───────\n",
       "      ├───┤       │  │  │           │  │  │  │           │  │     │  │       \n",
       "q_15: ┤ H ├───────┼──┼──┼──■──■─────┼──┼──┼──┼───────────┼──┼─────┼──┼───────\n",
       "      ├───┤       │  │  │  │  │     │  │  │  │           │  │     │  │       \n",
       "q_16: ┤ H ├───────■──┼──┼──┼──┼─────┼──┼──┼──┼─────■─────┼──┼─────┼──┼───────\n",
       "      ├───┤          │  │  │  │     │  │  │  │     │     │  │     │  │       \n",
       "q_17: ┤ H ├──────────┼──┼──┼──┼─────┼──┼──┼──┼─────┼─────┼──┼─────■──┼──■────\n",
       "      ├───┤          │  │  │  │     │  │  │  │     │     │  │        │  │    \n",
       "q_18: ┤ H ├──────────■──┼──■──┼─────┼──┼──┼──┼──■──┼─────┼──┼────────┼──┼────\n",
       "      ├───┤             │     │     │  │  │  │  │  │     │  │        │  │    \n",
       "q_19: ┤ H ├─────────────┼─────┼─────■──┼──┼──┼──■──┼─────┼──┼────────┼──┼────\n",
       "      ├───┤             │     │        │  │  │     │     │  │        │  │    \n",
       "q_20: ┤ H ├─────────────┼─────┼────────┼──┼──┼─────┼─────┼──┼────────┼──┼──■─\n",
       "      ├───┤             │     │        │  │  │     │     │  │        │  │  │ \n",
       "q_21: ┤ H ├─────────────■─────┼────────■──┼──┼─────┼─────┼──┼────────■──┼──┼─\n",
       "      ├───┤                   │           │  │     │     │  │           │  │ \n",
       "q_22: ┤ H ├───────────────────┼───────────┼──┼─────┼──■──┼──┼───────────┼──┼─\n",
       "      ├───┤                   │           │  │     │  │  │  │           │  │ \n",
       "q_23: ┤ H ├───────────────────┼───────────■──┼─────■──■──┼──┼───────────┼──┼─\n",
       "      ├───┤                   │              │           │  │           │  │ \n",
       "q_24: ┤ H ├───────────────────■──────────────┼───────────┼──┼───────────■──■─\n",
       "      ├───┤                                  │           │  │                \n",
       "q_25: ┤ H ├──────────────────────────────────┼───────────■──┼────────────────\n",
       "      ├───┤                                  │              │                \n",
       "q_26: ┤ H ├──────────────────────────────────■──────────────■────────────────\n",
       "      └───┘                                                                  </pre>"
      ],
      "text/plain": [
       "      ┌───┐                                                                  \n",
       " q_0: ┤ H ├─────────────■─────────────────■──────────────────────────────────\n",
       "      ├───┤             │                 │                                  \n",
       " q_1: ┤ H ├──────────■──┼─────────────────┼──────────────────────────────────\n",
       "      ├───┤          │  │                 │                                  \n",
       " q_2: ┤ H ├─■────────┼──┼─────■───────────┼───────────■──────────────────────\n",
       "      ├───┤ │        │  │     │           │           │                      \n",
       " q_3: ┤ H ├─┼─────■──┼──┼─────┼─────■─────┼───────────┼──────────────────────\n",
       "      ├───┤ │     │  │  │     │     │     │           │                      \n",
       " q_4: ┤ H ├─■─────┼──┼──┼─────┼──■──┼─────┼───────────┼──────────────────────\n",
       "      ├───┤       │  │  │     │  │  │     │           │                      \n",
       " q_5: ┤ H ├───────┼──┼──┼─────┼──┼──┼─────┼────────■──┼──────────────────────\n",
       "      ├───┤       │  │  │     │  │  │     │        │  │                      \n",
       " q_6: ┤ H ├────■──┼──┼──┼──■──┼──┼──┼─────┼────────┼──┼──■───────────────────\n",
       "      ├───┤    │  │  │  │  │  │  │  │     │        │  │  │                   \n",
       " q_7: ┤ H ├─■──┼──┼──┼──┼──┼──┼──┼──┼──■──┼────────┼──┼──┼───────────────────\n",
       "      ├───┤ │  │  │  │  │  │  │  │  │  │  │        │  │  │                   \n",
       " q_8: ┤ H ├─■──┼──┼──┼──┼──┼──┼──┼──┼──┼──┼─────■──┼──┼──┼────────■──────────\n",
       "      ├───┤    │  │  │  │  │  │  │  │  │  │     │  │  │  │        │          \n",
       " q_9: ┤ H ├────┼──┼──┼──┼──┼──┼──┼──┼──┼──┼─────┼──┼──┼──┼─────■──┼──■───────\n",
       "      ├───┤    │  │  │  │  │  │  │  │  │  │     │  │  │  │     │  │  │       \n",
       "q_10: ┤ H ├────■──┼──┼──┼──┼──┼──┼──┼──┼──┼──■──┼──┼──┼──┼─────┼──┼──┼───────\n",
       "      ├───┤       │  │  │  │  │  │  │  │  │  │  │  │  │  │     │  │  │       \n",
       "q_11: ┤ H ├───────┼──┼──┼──■──┼──┼──┼──┼──┼──┼──■──┼──┼──┼─────┼──┼──┼───────\n",
       "      ├───┤       │  │  │     │  │  │  │  │  │     │  │  │     │  │  │       \n",
       "q_12: ┤ H ├───────┼──┼──┼─────■──┼──┼──┼──┼──┼─────┼──┼──┼──■──┼──┼──┼───────\n",
       "      ├───┤       │  │  │        │  │  │  │  │     │  │  │  │  │  │  │       \n",
       "q_13: ┤ H ├───────┼──┼──┼────────■──┼──┼──┼──┼─────■──┼──┼──┼──■──┼──┼───────\n",
       "      ├───┤       │  │  │           │  │  │  │        │  │  │     │  │       \n",
       "q_14: ┤ H ├───────┼──┼──┼───────────┼──┼──┼──┼────────■──┼──┼─────┼──┼───────\n",
       "      ├───┤       │  │  │           │  │  │  │           │  │     │  │       \n",
       "q_15: ┤ H ├───────┼──┼──┼──■──■─────┼──┼──┼──┼───────────┼──┼─────┼──┼───────\n",
       "      ├───┤       │  │  │  │  │     │  │  │  │           │  │     │  │       \n",
       "q_16: ┤ H ├───────■──┼──┼──┼──┼─────┼──┼──┼──┼─────■─────┼──┼─────┼──┼───────\n",
       "      ├───┤          │  │  │  │     │  │  │  │     │     │  │     │  │       \n",
       "q_17: ┤ H ├──────────┼──┼──┼──┼─────┼──┼──┼──┼─────┼─────┼──┼─────■──┼──■────\n",
       "      ├───┤          │  │  │  │     │  │  │  │     │     │  │        │  │    \n",
       "q_18: ┤ H ├──────────■──┼──■──┼─────┼──┼──┼──┼──■──┼─────┼──┼────────┼──┼────\n",
       "      ├───┤             │     │     │  │  │  │  │  │     │  │        │  │    \n",
       "q_19: ┤ H ├─────────────┼─────┼─────■──┼──┼──┼──■──┼─────┼──┼────────┼──┼────\n",
       "      ├───┤             │     │        │  │  │     │     │  │        │  │    \n",
       "q_20: ┤ H ├─────────────┼─────┼────────┼──┼──┼─────┼─────┼──┼────────┼──┼──■─\n",
       "      ├───┤             │     │        │  │  │     │     │  │        │  │  │ \n",
       "q_21: ┤ H ├─────────────■─────┼────────■──┼──┼─────┼─────┼──┼────────■──┼──┼─\n",
       "      ├───┤                   │           │  │     │     │  │           │  │ \n",
       "q_22: ┤ H ├───────────────────┼───────────┼──┼─────┼──■──┼──┼───────────┼──┼─\n",
       "      ├───┤                   │           │  │     │  │  │  │           │  │ \n",
       "q_23: ┤ H ├───────────────────┼───────────■──┼─────■──■──┼──┼───────────┼──┼─\n",
       "      ├───┤                   │              │           │  │           │  │ \n",
       "q_24: ┤ H ├───────────────────■──────────────┼───────────┼──┼───────────■──■─\n",
       "      ├───┤                                  │           │  │                \n",
       "q_25: ┤ H ├──────────────────────────────────┼───────────■──┼────────────────\n",
       "      ├───┤                                  │              │                \n",
       "q_26: ┤ H ├──────────────────────────────────■──────────────■────────────────\n",
       "      └───┘                                                                  "
      ]
     },
     "execution_count": 21,
     "metadata": {},
     "output_type": "execute_result"
    }
   ],
   "source": [
    "backend = FakeMumbai()\n",
    "config = backend.configuration()\n",
    "cm = config.coupling_map\n",
    "size = config.n_qubits\n",
    "display(plot_gate_map(backend))\n",
    "\n",
    "rows = [x[0] for x in cm]\n",
    "cols = [x[1] for x in cm]\n",
    "\n",
    "A = numpy.zeros((size, size))\n",
    "A[rows, cols] = 1\n",
    "\n",
    "from random import shuffle\n",
    "random_map = list(range(size))\n",
    "shuffle(random_map)\n",
    "B = numpy.zeros((size, size))\n",
    "for i in range(size):\n",
    "    for j in range(size):\n",
    "        B[i][j] = A[random_map[i]][random_map[j]]\n",
    "A = B\n",
    "    \n",
    "circuit = GraphState(A).decompose()\n",
    "circuit.draw(fold=-1)"
   ]
  },
  {
   "cell_type": "code",
   "execution_count": 22,
   "id": "1a1b772c",
   "metadata": {
    "ExecuteTime": {
     "end_time": "2021-10-14T14:12:07.548247Z",
     "start_time": "2021-10-14T14:12:07.544987Z"
    }
   },
   "outputs": [],
   "source": [
    "vf2_pass = VF2Layout(CouplingMap(cm))\n",
    "csp_pass = CSPLayout(CouplingMap(cm), time_limit=None, call_limit=None)"
   ]
  },
  {
   "cell_type": "code",
   "execution_count": 23,
   "id": "22c85c44",
   "metadata": {
    "ExecuteTime": {
     "end_time": "2021-10-14T14:12:57.512639Z",
     "start_time": "2021-10-14T14:12:08.534926Z"
    }
   },
   "outputs": [],
   "source": [
    "csp_transpiled = csp_pass(circuit)"
   ]
  },
  {
   "cell_type": "code",
   "execution_count": 24,
   "id": "3235d33c",
   "metadata": {
    "ExecuteTime": {
     "end_time": "2021-10-14T14:12:57.532076Z",
     "start_time": "2021-10-14T14:12:57.515021Z"
    }
   },
   "outputs": [],
   "source": [
    "vf2_transpiled = vf2_pass(circuit)"
   ]
  },
  {
   "cell_type": "code",
   "execution_count": 11,
   "id": "477be852",
   "metadata": {
    "ExecuteTime": {
     "end_time": "2021-10-14T14:09:57.059532Z",
     "start_time": "2021-10-14T14:09:56.727963Z"
    }
   },
   "outputs": [
    {
     "data": {
      "image/png": "[encoded data removed]",
      "text/plain": [
       "<Figure size 360x360 with 1 Axes>"
      ]
     },
     "execution_count": 11,
     "metadata": {},
     "output_type": "execute_result"
    }
   ],
   "source": [
    "plot_circuit_layout(vf2_transpiled, backend)"
   ]
  },
  {
   "cell_type": "code",
   "execution_count": null,
   "id": "21929db5",
   "metadata": {
    "ExecuteTime": {
     "end_time": "2021-10-14T13:50:40.160477Z",
     "start_time": "2021-10-14T13:50:39.900084Z"
    }
   },
   "outputs": [],
   "source": [
    "plot_circuit_layout(csp_transpiled, backend)"
   ]
  },
  {
   "cell_type": "code",
   "execution_count": 28,
   "id": "c187b76f",
   "metadata": {
    "ExecuteTime": {
     "end_time": "2021-10-14T14:13:53.510391Z",
     "start_time": "2021-10-14T14:13:53.503832Z"
    }
   },
   "outputs": [
    {
     "data": {
      "text/plain": [
       "<qiskit.circuit.instructionset.InstructionSet at 0x132c8fe50>"
      ]
     },
     "execution_count": 28,
     "metadata": {},
     "output_type": "execute_result"
    }
   ],
   "source": [
    "from qiskit import QuantumCircuit\n",
    "\n",
    "# T-shape interaction map\n",
    "circuit = QuantumCircuit(5)\n",
    "circuit.cx(0,1)\n",
    "circuit.cx(0,2)\n",
    "circuit.cx(0,3)\n",
    "circuit.cx(3,4)"
   ]
  },
  {
   "cell_type": "code",
   "execution_count": 31,
   "id": "d1691b2e",
   "metadata": {
    "ExecuteTime": {
     "end_time": "2021-10-14T14:14:18.960586Z",
     "start_time": "2021-10-14T14:14:18.956603Z"
    }
   },
   "outputs": [
    {
     "data": {
      "text/plain": [
       "Layout({\n",
       "11: Qubit(QuantumRegister(5, 'q'), 2),\n",
       "16: Qubit(QuantumRegister(5, 'q'), 1),\n",
       "12: Qubit(QuantumRegister(5, 'q'), 4),\n",
       "14: Qubit(QuantumRegister(5, 'q'), 0),\n",
       "13: Qubit(QuantumRegister(5, 'q'), 3)\n",
       "})"
      ]
     },
     "execution_count": 31,
     "metadata": {},
     "output_type": "execute_result"
    }
   ],
   "source": [
    "# Multiple possible answers. This allows for noise-awareness (ish).\n",
    "vf2_transpiled = vf2_pass(circuit)\n",
    "vf2_transpiled"
   ]
  },
  {
   "cell_type": "code",
   "execution_count": null,
   "id": "cc8d71ad",
   "metadata": {},
   "outputs": [],
   "source": []
  }
 ],
 "metadata": {
  "kernelspec": {
   "display_name": "Python 3",
   "language": "python",
   "name": "python3"
  },
  "language_info": {
   "codemirror_mode": {
    "name": "ipython",
    "version": 3
   },
   "file_extension": ".py",
   "mimetype": "text/x-python",
   "name": "python",
   "nbconvert_exporter": "python",
   "pygments_lexer": "ipython3",
   "version": "3.9.7"
  }
 },
 "nbformat": 4,
 "nbformat_minor": 5
}
