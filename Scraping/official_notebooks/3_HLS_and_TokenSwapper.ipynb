{
 "cells": [
  {
   "cell_type": "markdown",
   "id": "26490c23",
   "metadata": {},
   "source": [
    "# Supporting target / coupling map in HighLevelSynthesis and TokenSwapper synthesis plugin for permutations\n",
    "\n",
    "In short:\n",
    "* Extending high-level-synthesis interface to support target / coupling_map\n",
    "* Showcasing this for synthezing permutation gates\n",
    "\n",
    "Contact: Alexander Ivrii (Sasha), alexi@il.ibm.com"
   ]
  },
  {
   "cell_type": "markdown",
   "id": "df31fde5",
   "metadata": {},
   "source": [
    "### Why do we want connectivity-aware synthesis algorithms\n",
    "\n",
    "* One possible application: _resynthesizing blocks of gates in Qiskit's optimization loop_\n",
    "\n",
    "  * We already resynthesize blocks of 1-qubit and/or 2-qubit gates\n",
    "  * May want to resynthesize blocks of SWAP-gates, etc.\n"
   ]
  },
  {
   "cell_type": "markdown",
   "id": "62cfbbd0",
   "metadata": {},
   "source": [
    "### Recap"
   ]
  },
  {
   "cell_type": "code",
   "execution_count": 1,
   "id": "a0df19d0",
   "metadata": {},
   "outputs": [],
   "source": [
    "# imports\n",
    "\n",
    "from qiskit.circuit import QuantumCircuit\n",
    "\n",
    "from qiskit.circuit.library import PermutationGate\n",
    "\n",
    "from qiskit.transpiler.passes.synthesis.high_level_synthesis import (\n",
    "    HighLevelSynthesis,\n",
    "    HighLevelSynthesisPluginManager,\n",
    "    HighLevelSynthesisPlugin,\n",
    "    HLSConfig,\n",
    ")\n",
    "\n",
    "from qiskit.compiler import transpile\n",
    "\n",
    "from qiskit.transpiler import CouplingMap"
   ]
  },
  {
   "cell_type": "markdown",
   "id": "eee45711",
   "metadata": {},
   "source": [
    "---\n",
    "\n",
    "**Adding high-level objects on a quantum circuit**\n",
    "\n",
    "* We can add \"high-level objects\" on a quantum circuit, such as `Clifford`s, `LinearFunction`s or `PermutationGate`s.\n",
    "\n",
    "---\n",
    "\n",
    "**PermutationGate**\n",
    "* only stores the \"permutation pattern\", which specifies the new qubit locations after applying the permutation: \n",
    "* e.g., `PermutationGate([1, 2, 3, 4, 0])` means that 1->0, 2->1, 3->2, 4->3, 0->4 (this is a cyclic shift).\n",
    "* a `PermutationGate` _does not store_ how it should be synthesized (in particular, it does not have `definition`).\n",
    "\n",
    "--- \n",
    "\n",
    "**Main running example: quantum circuit with a single permutation gate**"
   ]
  },
  {
   "cell_type": "code",
   "execution_count": 2,
   "id": "d0215732",
   "metadata": {},
   "outputs": [
    {
     "data": {
      "image/png": "[encoded data removed]",
      "text/plain": [
       "<Figure size 267.197x385.28 with 1 Axes>"
      ]
     },
     "execution_count": 2,
     "metadata": {},
     "output_type": "execute_result"
    }
   ],
   "source": [
    "qc = QuantumCircuit(6)\n",
    "\n",
    "perm = PermutationGate([1, 2, 3, 4, 0])\n",
    "qc.append(perm, [1, 2, 3, 4, 5])\n",
    "\n",
    "qc.draw(output='mpl')"
   ]
  },
  {
   "cell_type": "markdown",
   "id": "6ff1ab8a",
   "metadata": {},
   "source": [
    "---\n",
    "\n",
    "**Transpiling circuits with permutation gates**"
   ]
  },
  {
   "cell_type": "code",
   "execution_count": 3,
   "id": "93d774a0",
   "metadata": {},
   "outputs": [
    {
     "data": {
      "image/png": "[encoded data removed]",
      "text/plain": [
       "<Figure size 327.397x385.28 with 1 Axes>"
      ]
     },
     "execution_count": 3,
     "metadata": {},
     "output_type": "execute_result"
    }
   ],
   "source": [
    "qct = transpile(qc)\n",
    "qct.draw(output='mpl')"
   ]
  },
  {
   "cell_type": "markdown",
   "id": "e3f289bd",
   "metadata": {},
   "source": [
    "We can verify that `q2` is mapped to `q1`, `q3` is mapped to `q2`, and so on.\n",
    "\n",
    "---\n",
    "\n",
    "Under the hood, `PermutationGate`s are synthesized using `HighLevelSynthesis` transpiler pass. \n",
    "\n",
    "---\n",
    "\n",
    "**Running HighLevelSynthesis directly**"
   ]
  },
  {
   "cell_type": "code",
   "execution_count": 4,
   "id": "4c95aefb",
   "metadata": {},
   "outputs": [
    {
     "data": {
      "image/png": "[encoded data removed]",
      "text/plain": [
       "<Figure size 327.397x385.28 with 1 Axes>"
      ]
     },
     "execution_count": 4,
     "metadata": {},
     "output_type": "execute_result"
    }
   ],
   "source": [
    "qct = HighLevelSynthesis()(qc)\n",
    "qct.draw(output='mpl')"
   ]
  },
  {
   "cell_type": "markdown",
   "id": "f29c06fd",
   "metadata": {},
   "source": [
    "---\n",
    "\n",
    "We have multiple algorithms (synthesis plugins) for synthesizing permutation gates\n",
    "\n",
    "---\n",
    "\n",
    "**Listing available synthesis algorithms**"
   ]
  },
  {
   "cell_type": "code",
   "execution_count": 5,
   "id": "f21acd27",
   "metadata": {},
   "outputs": [
    {
     "name": "stdout",
     "output_type": "stream",
     "text": [
      "['acg', 'basic', 'default', 'kms', 'token_swapper', 'sat_count', 'sat_depth']\n"
     ]
    }
   ],
   "source": [
    "print(HighLevelSynthesisPluginManager().method_names(\"permutation\"))"
   ]
  },
  {
   "cell_type": "markdown",
   "id": "8fcdcc36",
   "metadata": {},
   "source": [
    "**Some of these methods**\n",
    "\n",
    "* 'basic': \n",
    "  * original Qiskit method (used for constructing permutation circuits)\n",
    "  * assumes all-to-all connectivity\n",
    "* 'acg': \n",
    "  * Alon, Chung, Graham method\n",
    "  * assumes all-to-all connectivity\n",
    "  * produces a quantum circuit of depth 2 (measured in the number of SWAPs)\n",
    "* 'kms':\n",
    "  * Kutin, Moulton, Smithline method\n",
    "  * adheres to LNN (linear nearest-neighbor) connectivity\n",
    "* 'token_swapper':\n",
    "  * *NEW*, will be discussed shortly"
   ]
  },
  {
   "cell_type": "markdown",
   "id": "6cbb08dd",
   "metadata": {},
   "source": [
    "**Synthesizing permutation gates using 'acg' plugin**"
   ]
  },
  {
   "cell_type": "code",
   "execution_count": 49,
   "id": "c8ab5a9f",
   "metadata": {},
   "outputs": [
    {
     "data": {
      "image/png": "[encoded data removed]",
      "text/plain": [
       "<Figure size 206.997x385.28 with 1 Axes>"
      ]
     },
     "execution_count": 49,
     "metadata": {},
     "output_type": "execute_result"
    }
   ],
   "source": [
    "config = HLSConfig(permutation=[\"acg\"])\n",
    "qct = HighLevelSynthesis(hls_config=config)(qc)\n",
    "qct.draw(output='mpl')"
   ]
  },
  {
   "cell_type": "markdown",
   "id": "187b1624",
   "metadata": {},
   "source": [
    "**Synthesizing permutation gates using 'kms' plugin**"
   ]
  },
  {
   "cell_type": "code",
   "execution_count": 54,
   "id": "a4c3a736",
   "metadata": {},
   "outputs": [
    {
     "data": {
      "image/png": "[encoded data removed]",
      "text/plain": [
       "<Figure size 327.397x385.28 with 1 Axes>"
      ]
     },
     "execution_count": 54,
     "metadata": {},
     "output_type": "execute_result"
    }
   ],
   "source": [
    "config = HLSConfig(permutation=[\"kms\"])\n",
    "qct = HighLevelSynthesis(hls_config=config)(qc)\n",
    "qct.draw(output='mpl')"
   ]
  },
  {
   "cell_type": "markdown",
   "id": "fb904981",
   "metadata": {},
   "source": [
    "**Specifying synthesis plugin directly in transpile**"
   ]
  },
  {
   "cell_type": "code",
   "execution_count": 55,
   "id": "cda6546b",
   "metadata": {},
   "outputs": [
    {
     "data": {
      "image/png": "[encoded data removed]",
      "text/plain": [
       "<Figure size 327.397x385.28 with 1 Axes>"
      ]
     },
     "execution_count": 55,
     "metadata": {},
     "output_type": "execute_result"
    }
   ],
   "source": [
    "config = HLSConfig(permutation=[\"kms\"])\n",
    "qct = transpile(qc, hls_config=config)\n",
    "qct.draw(output='mpl')"
   ]
  },
  {
   "cell_type": "markdown",
   "id": "b4deb81f",
   "metadata": {},
   "source": [
    "**HighLevelSynthesis typically runs before routing**\n",
    "\n",
    "---\n",
    "\n",
    "In all of the examples above, synthesis was done on the _logical circuit_, before layout/routing.\n",
    "\n",
    "Note that we must unroll/synthesize 3q+ gates before routing.\n"
   ]
  },
  {
   "cell_type": "markdown",
   "id": "1a5c1139",
   "metadata": {},
   "source": [
    "---\n",
    "\n",
    "**ApproximateTokenSwapper algorithm in Qiskit**\n",
    "\n",
    "* An algorithm to synthesize permutations that works with arbitrary connectivity\n",
    "* Described in the paper \"Circuit Transformations for Quantum Architectures\", by Andrew M. Childs, Eddie Schoute, Cem M. Unsal, 2019\n",
    "* The code is in Qiskit for quite a while (called `ApproximateTokenSwapper`), the large part is implemented in Rustworkx "
   ]
  },
  {
   "cell_type": "markdown",
   "id": "99241cba",
   "metadata": {},
   "source": [
    "### NEW: Extending `HighLevelSynthesis` and `HighLevelSynthesisPlugin` interface with target / coupling map support"
   ]
  },
  {
   "cell_type": "markdown",
   "id": "b44778c5",
   "metadata": {},
   "source": [
    "* Reference: PR #10477 (merged) \n",
    "\n",
    "\n",
    "\n",
    "* Extends `HighLevelSynthesis` interface to support target / coupling map, in particular allowing to use connectivity-aware synthesis algorithms (plugins)\n",
    "\n",
    "```\n",
    "class HighLevelSynthesis(TransformationPass):\n",
    "\n",
    "    def __init__(\n",
    "        self,\n",
    "        hls_config: Optional[HLSConfig] = None,\n",
    "        coupling_map: Optional[CouplingMap] = None,\n",
    "        target: Optional[Target] = None,\n",
    "        use_qubit_indices: bool = False,\n",
    "    )\n",
    "```\n",
    "\n",
    "\n",
    "* The argument `use_qubit_indices` provides the context to `HighLevelSynthesis` whether it's running before or after the layout has been set, that is, whether the qubit indices of higher-level-objects correspond to qubit indices on the target backend.\n",
    "\n",
    "\n",
    "* Extends `HighLevelSynthesisPlugin` interface to take target/coupling map/qubits into account\n",
    "\n",
    "```\n",
    "class HighLevelSynthesisPlugin(abc.ABC):\n",
    "    @abc.abstractmethod\n",
    "    def run(self, high_level_object, coupling_map=None, target=None, qubits=None, **options):\n",
    "        pass\n",
    "```\n",
    "\n",
    "* If synthesis is done before routing, `qubits` is `None`, and all-to-all connectivity is assumed.\n",
    "\n",
    "* If synthesis is done after routing, both `qubits` and `coupling_map` are not `None`, and the synthesized circuit should adhere to connectivity constraints on specific qubits.\n",
    "\n",
    "* A synthesis plugin is allowed to return `None` if it's unable to synthesize the circuit (with the given connectivity constraints, options, etc.)\n"
   ]
  },
  {
   "cell_type": "markdown",
   "id": "7e940333",
   "metadata": {},
   "source": [
    "---\n",
    "\n",
    "**NEW: TokenSwapper synthesis plugin for `PermutationGate`s**\n",
    "\n",
    "* Reference: PR #10657 (not merged). \n",
    "\n",
    "* Exposes the `ApproximateTokenSwapper` algorithm as a synthesis plugin for `PermutationGate`s. \n",
    "* This is the first Qiskit synthesis plugin that actually takes connectivity into account. \n",
    "* The PR requires Rustworkx release (this is why it is not merged)."
   ]
  },
  {
   "cell_type": "markdown",
   "id": "44eb1542",
   "metadata": {},
   "source": [
    "---\n",
    "\n",
    "### Let's experiment with the new functionality\n",
    "\n",
    "---\n",
    "\n",
    "**Run token swapper without connectivity constraints**"
   ]
  },
  {
   "cell_type": "code",
   "execution_count": 56,
   "id": "366ca18a",
   "metadata": {},
   "outputs": [
    {
     "data": {
      "image/png": "[encoded data removed]",
      "text/plain": [
       "<Figure size 327.397x385.28 with 1 Axes>"
      ]
     },
     "execution_count": 56,
     "metadata": {},
     "output_type": "execute_result"
    }
   ],
   "source": [
    "config = HLSConfig(permutation=[\"token_swapper\"])\n",
    "qct = HighLevelSynthesis(hls_config=config)(qc)\n",
    "qct.draw(output='mpl')"
   ]
  },
  {
   "cell_type": "markdown",
   "id": "12baf691",
   "metadata": {},
   "source": [
    "**Run token swapper on a star-shaped graph centered at `q1`**"
   ]
  },
  {
   "cell_type": "code",
   "execution_count": 60,
   "id": "602db623",
   "metadata": {},
   "outputs": [
    {
     "data": {
      "image/png": "[encoded data removed]",
      "text/plain": [
       "<Figure size 327.397x385.28 with 1 Axes>"
      ]
     },
     "execution_count": 60,
     "metadata": {},
     "output_type": "execute_result"
    }
   ],
   "source": [
    "config = HLSConfig(permutation=[\"token_swapper\"])\n",
    "coupling_map = CouplingMap([[1, 2], [1, 3], [1, 4], [1, 5]])\n",
    "qct = HighLevelSynthesis(hls_config=config, coupling_map=coupling_map, use_qubit_indices=True)(qc)\n",
    "qct.draw(output='mpl')"
   ]
  },
  {
   "cell_type": "markdown",
   "id": "8b47b9a2",
   "metadata": {},
   "source": [
    "**Run token swapper on a star-shaped graph centered at `q2`**"
   ]
  },
  {
   "cell_type": "code",
   "execution_count": 59,
   "id": "f00a2f35",
   "metadata": {
    "scrolled": false
   },
   "outputs": [
    {
     "data": {
      "image/png": "[encoded data removed]",
      "text/plain": [
       "<Figure size 327.397x385.28 with 1 Axes>"
      ]
     },
     "execution_count": 59,
     "metadata": {},
     "output_type": "execute_result"
    }
   ],
   "source": [
    "config = HLSConfig(permutation=[\"token_swapper\"])\n",
    "coupling_map = CouplingMap([[1, 2], [2, 3], [2, 4], [2, 5]])\n",
    "qct = HighLevelSynthesis(hls_config=config, coupling_map=coupling_map, use_qubit_indices=True)(qc)\n",
    "qct.draw(output='mpl')"
   ]
  },
  {
   "cell_type": "markdown",
   "id": "3ec6e2ae",
   "metadata": {},
   "source": [
    "**Run token swapper on a ring**"
   ]
  },
  {
   "cell_type": "code",
   "execution_count": 61,
   "id": "5874c112",
   "metadata": {},
   "outputs": [
    {
     "data": {
      "image/png": "[encoded data removed]",
      "text/plain": [
       "<Figure size 327.397x385.28 with 1 Axes>"
      ]
     },
     "execution_count": 61,
     "metadata": {},
     "output_type": "execute_result"
    }
   ],
   "source": [
    "config = HLSConfig(permutation=[\"token_swapper\"])\n",
    "coupling_map = CouplingMap.from_ring(6)\n",
    "qct = HighLevelSynthesis(hls_config=config, coupling_map=coupling_map, use_qubit_indices=True)(qc)\n",
    "qct.draw(output='mpl')\n"
   ]
  },
  {
   "cell_type": "markdown",
   "id": "3a5948dd",
   "metadata": {},
   "source": [
    "**Token swapper plugin supports disconnected coupling maps**\n",
    "* Returns SWAP-circuit when synthesis is possible\n",
    "* Returns `None` when synthesis is impossible\n",
    "  * `HighLevelSynthesis` leaves the permutation gate alone\n",
    "\n",
    "---\n",
    "\n",
    "**Example where synthesis is possible**"
   ]
  },
  {
   "cell_type": "code",
   "execution_count": 62,
   "id": "50fb23d4",
   "metadata": {},
   "outputs": [
    {
     "data": {
      "image/png": "[encoded data removed]",
      "text/plain": [
       "<Figure size 146.797x385.28 with 1 Axes>"
      ]
     },
     "execution_count": 62,
     "metadata": {},
     "output_type": "execute_result"
    }
   ],
   "source": [
    "coupling_map = CouplingMap([[0, 1], [1, 2], [3, 4], [4, 5]])\n",
    "config = HLSConfig(permutation=[\"token_swapper\"])\n",
    "\n",
    "qc = QuantumCircuit(6)\n",
    "qc.append(PermutationGate([1, 0, 3, 2]), [1, 2, 3, 4])\n",
    "config = HLSConfig(permutation=[(\"token_swapper\", {\"trials\": 10})])\n",
    "qct = HighLevelSynthesis(hls_config=config, coupling_map=coupling_map, use_qubit_indices=True)(qc)\n",
    "qct.draw(output='mpl')"
   ]
  },
  {
   "cell_type": "markdown",
   "id": "15198a9a",
   "metadata": {},
   "source": [
    "**Example when synthesis is not possible**"
   ]
  },
  {
   "cell_type": "code",
   "execution_count": 63,
   "id": "41f0a666",
   "metadata": {},
   "outputs": [
    {
     "data": {
      "image/png": "[encoded data removed]",
      "text/plain": [
       "<Figure size 267.197x385.28 with 1 Axes>"
      ]
     },
     "execution_count": 63,
     "metadata": {},
     "output_type": "execute_result"
    }
   ],
   "source": [
    "coupling_map = CouplingMap([[0, 1], [1, 2], [3, 4], [4, 5]])\n",
    "config = HLSConfig(permutation=[\"token_swapper\"])\n",
    "\n",
    "qc = QuantumCircuit(6)\n",
    "qc.append(PermutationGate([1, 0, 3, 2]), [1, 4, 2, 3])\n",
    "config = HLSConfig(permutation=[(\"token_swapper\", {\"trials\": 10})])\n",
    "qct = HighLevelSynthesis(hls_config=config, coupling_map=coupling_map, use_qubit_indices=True)(qc)\n",
    "qct.draw(output='mpl')"
   ]
  },
  {
   "cell_type": "markdown",
   "id": "296d1e83",
   "metadata": {},
   "source": [
    "# Thanks! Questions?"
   ]
  }
 ],
 "metadata": {
  "kernelspec": {
   "display_name": "myenv",
   "language": "python",
   "name": "myenv"
  },
  "language_info": {
   "codemirror_mode": {
    "name": "ipython",
    "version": 3
   },
   "file_extension": ".py",
   "mimetype": "text/x-python",
   "name": "python",
   "nbconvert_exporter": "python",
   "pygments_lexer": "ipython3",
   "version": "3.10.6"
  }
 },
 "nbformat": 4,
 "nbformat_minor": 5
}
