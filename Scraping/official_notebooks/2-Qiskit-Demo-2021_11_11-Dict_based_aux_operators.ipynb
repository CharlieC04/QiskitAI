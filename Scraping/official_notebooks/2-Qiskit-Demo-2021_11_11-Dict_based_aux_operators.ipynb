{
 "cells": [
  {
   "cell_type": "markdown",
   "id": "a36c0910",
   "metadata": {
    "slideshow": {
     "slide_type": "slide"
    }
   },
   "source": [
    "# Dictionary-based `aux_operators`\n",
    "\n",
    "<br/>\n",
    "<br/>\n",
    "<br/>\n",
    "<br/>\n",
    "\n",
    "Max Rossmannek\n",
    "\n",
    "PhD Student, Quantum Applications Group, IBM Research Zurich"
   ]
  },
  {
   "cell_type": "markdown",
   "id": "24e3c13e",
   "metadata": {
    "slideshow": {
     "slide_type": "slide"
    }
   },
   "source": [
    "Recently, Qiskit Terra added support for dictionary-based `aux_operators` to their (Minimum)Eigensolver algorithms (https://github.com/Qiskit/qiskit-terra/pull/6870; credits: @CisterMoke). This means, we can now do both of the following:"
   ]
  },
  {
   "cell_type": "code",
   "execution_count": 1,
   "id": "d9689e43",
   "metadata": {
    "slideshow": {
     "slide_type": "fragment"
    }
   },
   "outputs": [],
   "source": [
    "from qiskit.opflow import I, X, Y, Z\n",
    "\n",
    "h2_op = (\n",
    "    -1.052373245772859 * (I ^ I)\n",
    "    + 0.39793742484318045 * (I ^ Z)\n",
    "    - 0.39793742484318045 * (Z ^ I)\n",
    "    - 0.01128010425623538 * (Z ^ Z)\n",
    "    + 0.18093119978423156 * (X ^ X)\n",
    ")"
   ]
  },
  {
   "cell_type": "code",
   "execution_count": 2,
   "id": "0f1b3096",
   "metadata": {
    "slideshow": {
     "slide_type": "fragment"
    }
   },
   "outputs": [],
   "source": [
    "list_aux_ops = [\n",
    "    2.0 * (I ^ I),\n",
    "    0.5 * (\n",
    "        (I ^ I) + (Z ^ Z) + (Y ^ Y) - (X ^ X)\n",
    "    ),\n",
    "]\n",
    "\n",
    "dict_aux_ops = {\n",
    "    \"AuxOp1\": 2.0 * (I ^ I),\n",
    "    \"AuxOp2\": 0.5 * (\n",
    "        (I ^ I) + (Z ^ Z) + (Y ^ Y) - (X ^ X)\n",
    "    ),\n",
    "}"
   ]
  },
  {
   "cell_type": "code",
   "execution_count": 3,
   "id": "bb20fe99",
   "metadata": {
    "slideshow": {
     "slide_type": "slide"
    }
   },
   "outputs": [],
   "source": [
    "from qiskit.algorithms import NumPyMinimumEigensolver\n",
    "\n",
    "solver = NumPyMinimumEigensolver()"
   ]
  },
  {
   "cell_type": "code",
   "execution_count": 4,
   "id": "3495bbd5",
   "metadata": {
    "slideshow": {
     "slide_type": "fragment"
    }
   },
   "outputs": [
    {
     "name": "stdout",
     "output_type": "stream",
     "text": [
      "{   'aux_operator_eigenvalues': [((1.9999999999999996+0j), 0.0), (0.0, 0.0)],\n",
      "    'eigenstate': VectorStateFn(Statevector([ 1.38777878e-16+1.29020059e-17j,\n",
      "              7.22856695e-01+6.81936898e-01j,\n",
      "             -8.11307233e-02-7.65380388e-02j,\n",
      "              5.55111512e-16-1.38777878e-16j],\n",
      "            dims=(2, 2)), coeff=1.0, is_measurement=False),\n",
      "    'eigenvalue': -1.857275030202379}\n"
     ]
    }
   ],
   "source": [
    "list_result = solver.compute_minimum_eigenvalue(h2_op, aux_operators=list_aux_ops)\n",
    "print(list_result)"
   ]
  },
  {
   "cell_type": "code",
   "execution_count": 5,
   "id": "5e059b44",
   "metadata": {
    "scrolled": true,
    "slideshow": {
     "slide_type": "fragment"
    }
   },
   "outputs": [
    {
     "name": "stdout",
     "output_type": "stream",
     "text": [
      "{   'aux_operator_eigenvalues': {   'AuxOp1': ((1.9999999999999987+0j), 0.0),\n",
      "                                    'AuxOp2': (0.0, 0.0)},\n",
      "    'eigenstate': VectorStateFn(Statevector([ 0.        -2.77555756e-17j, -0.63914825-7.60952858e-01j,\n",
      "              0.0717356 +8.54064936e-02j,  0.        +5.55111512e-17j],\n",
      "            dims=(2, 2)), coeff=1.0, is_measurement=False),\n",
      "    'eigenvalue': -1.8572750302023824}\n"
     ]
    }
   ],
   "source": [
    "dict_result = solver.compute_minimum_eigenvalue(h2_op, aux_operators=dict_aux_ops)\n",
    "print(dict_result)"
   ]
  },
  {
   "cell_type": "markdown",
   "id": "1563cb9d",
   "metadata": {
    "slideshow": {
     "slide_type": "slide"
    }
   },
   "source": [
    "This is very interesting for us application developers because we can significantly improve our code quality.\n",
    "Take the following as an example of how we had to handle default `aux_operators` in our stack:"
   ]
  },
  {
   "cell_type": "markdown",
   "id": "4036582e",
   "metadata": {
    "slideshow": {
     "slide_type": "fragment"
    }
   },
   "source": [
    "```python\n",
    "        for aux_op_eigenvalues in aux_operator_eigenvalues:\n",
    "            if aux_op_eigenvalues is None:\n",
    "                continue\n",
    "\n",
    "            if len(aux_op_eigenvalues) >= 6:\n",
    "                dipole_moment = []\n",
    "                for moment in aux_op_eigenvalues[3:6]:  # <- hard-coded indices !!!\n",
    "                    if moment is not None:\n",
    "                        dipole_moment += [moment[0].real]\n",
    "                    else:\n",
    "                        dipole_moment += [None]\n",
    "```"
   ]
  },
  {
   "cell_type": "markdown",
   "id": "7f62f673",
   "metadata": {
    "slideshow": {
     "slide_type": "fragment"
    }
   },
   "source": [
    "And this is just one example. Such hard-coded indices appeared in multiple places across our stack."
   ]
  },
  {
   "cell_type": "markdown",
   "id": "5ed9062e",
   "metadata": {
    "slideshow": {
     "slide_type": "slide"
    }
   },
   "source": [
    "With the dictionary-support and in combination with Qiskit Nature's relatively new `Property` framework (https://qiskit.org/documentation/nature/apidocs/qiskit_nature.properties.html#module-qiskit_nature.properties), we can significantly improve this implementation:"
   ]
  },
  {
   "cell_type": "markdown",
   "id": "a258234d",
   "metadata": {
    "slideshow": {
     "slide_type": "fragment"
    }
   },
   "source": [
    "```python\n",
    "        for aux_op_eigenvalues in aux_operator_eigenvalues:\n",
    "            if aux_op_eigenvalues is None:\n",
    "                continue\n",
    "\n",
    "            axes_order = {\"x\": 0, \"y\": 1, \"z\": 2}\n",
    "            dipole_moment = [None] * 3\n",
    "            \n",
    "            for prop in iter(self):\n",
    "                moment = aux_op_eigenvalues.get(prop.name, None)\n",
    "                if moment is not None:\n",
    "                    dipole_moment[axes_order[prop._axis]] = moment[0].real\n",
    "```"
   ]
  },
  {
   "cell_type": "markdown",
   "id": "f7b8b24e",
   "metadata": {
    "slideshow": {
     "slide_type": "slide"
    }
   },
   "source": [
    "We can now observe a difference when using the `ElectronicStructureProblem`:"
   ]
  },
  {
   "cell_type": "code",
   "execution_count": 6,
   "id": "d4391aff",
   "metadata": {
    "slideshow": {
     "slide_type": "fragment"
    }
   },
   "outputs": [
    {
     "name": "stderr",
     "output_type": "stream",
     "text": [
      "/home/oss/Files/Qiskit/.direnv/python-3.9.7/lib64/python3.9/site-packages/pyscf/lib/misc.py:46: H5pyDeprecationWarning: Using default_file_mode other than 'r' is deprecated. Pass the mode to h5py.File() instead.\n",
      "  h5py.get_config().default_file_mode = 'a'\n"
     ]
    }
   ],
   "source": [
    "from qiskit_nature.drivers import Molecule\n",
    "from qiskit_nature.drivers.second_quantization import (\n",
    "    ElectronicStructureMoleculeDriver,\n",
    "    ElectronicStructureDriverType,\n",
    ")\n",
    "\n",
    "molecule = Molecule(geometry=[(\"H\", (0.0, 0.0, 0.0)), (\"H\", (0.0, 0.0, 0.735))])\n",
    "driver = ElectronicStructureMoleculeDriver(molecule, \"sto3g\", driver_type=ElectronicStructureDriverType.PYSCF)"
   ]
  },
  {
   "cell_type": "code",
   "execution_count": 7,
   "id": "2a39bed5",
   "metadata": {
    "slideshow": {
     "slide_type": "fragment"
    }
   },
   "outputs": [],
   "source": [
    "from qiskit_nature.problems.second_quantization import ElectronicStructureProblem\n",
    "\n",
    "problem = ElectronicStructureProblem(driver)"
   ]
  },
  {
   "cell_type": "markdown",
   "id": "18b10181",
   "metadata": {
    "slideshow": {
     "slide_type": "slide"
    }
   },
   "source": [
    "You will now be able to tell a difference, upon inspecting the `SecondQuantizedOp`s generated by the problem instance:"
   ]
  },
  {
   "cell_type": "code",
   "execution_count": 8,
   "id": "d2be1d41",
   "metadata": {
    "slideshow": {
     "slide_type": "fragment"
    }
   },
   "outputs": [
    {
     "data": {
      "text/plain": [
       "[FermionicOp([('+_0 -_1 +_2 -_3', (0.18093119978423136+0j)), ('+_0 -_1 -_2 +_3', (-0.18093119978423156+0j)), ('-_0 +_1 +_2 -_3', (-0.18093119978423156+0j)), ('-_0 +_1 -_2 +_3', (0.18093119978423164+0j)), ('+_...)], register_length=4, display_format='sparse'),\n",
       " FermionicOp([('+_0 -_0', (1+0j)), ('+_1 -_1', (1+0j)), ('+_2 -_2', (1+0j)), ('+_3 -_3', (1+0j))], register_length=4, display_format='sparse'),\n",
       " FermionicOp([('+_0 -_1 -_2 +_3', (1+0j)), ('-_0 +_1 +_2 -_3', (1+0j)), ('+_3 -_3', (0.75+0j)), ('+_2 -_2', (0.75+0j)), ('+_2 -_2 +_3 -_3', (0.5+0j)), ('+_1 -_1', (0.75+0j)), ('+_1 -_1 +_3 -_3', (-1.5+0j)), (...)], register_length=4, display_format='sparse'),\n",
       " FermionicOp([('+_0 -_0', (0.5+0j)), ('+_1 -_1', (0.5+0j)), ('+_2 -_2', (-0.5+0j)), ('+_3 -_3', (-0.5+0j))], register_length=4, display_format='sparse'),\n",
       " FermionicOp([('', 0j)], register_length=4, display_format='sparse'),\n",
       " FermionicOp([('', 0j)], register_length=4, display_format='sparse'),\n",
       " FermionicOp([('+_0 -_1', (0.9278334704592323+0j)), ('-_0 +_1', (-0.9278334704592324+0j)), ('+_2 -_3', (0.9278334704592323+0j)), ('-_2 +_3', (-0.9278334704592324+0j)), ('+_3 -_3', (0.6944743507776605+0j)), ('...)], register_length=4, display_format='sparse')]"
      ]
     },
     "execution_count": 8,
     "metadata": {},
     "output_type": "execute_result"
    }
   ],
   "source": [
    "problem.second_q_ops()"
   ]
  },
  {
   "cell_type": "code",
   "execution_count": 9,
   "id": "b23604e7",
   "metadata": {
    "slideshow": {
     "slide_type": "slide"
    }
   },
   "outputs": [],
   "source": [
    "from qiskit_nature import settings\n",
    "settings.dict_aux_operators = True"
   ]
  },
  {
   "cell_type": "code",
   "execution_count": 10,
   "id": "916f7559",
   "metadata": {
    "scrolled": true,
    "slideshow": {
     "slide_type": "fragment"
    }
   },
   "outputs": [
    {
     "data": {
      "text/plain": [
       "{'ParticleNumber': FermionicOp([('+_0 -_0', (1+0j)), ('+_1 -_1', (1+0j)), ('+_2 -_2', (1+0j)), ('+_3 -_3', (1+0j))], register_length=4, display_format='sparse'),\n",
       " 'ElectronicEnergy': FermionicOp([('+_0 -_1 +_2 -_3', (0.18093119978423136+0j)), ('+_0 -_1 -_2 +_3', (-0.18093119978423156+0j)), ('-_0 +_1 +_2 -_3', (-0.18093119978423156+0j)), ('-_0 +_1 -_2 +_3', (0.18093119978423164+0j)), ('+_...)], register_length=4, display_format='sparse'),\n",
       " 'DipoleMomentX': FermionicOp([('', 0j)], register_length=4, display_format='sparse'),\n",
       " 'DipoleMomentY': FermionicOp([('', 0j)], register_length=4, display_format='sparse'),\n",
       " 'DipoleMomentZ': FermionicOp([('+_0 -_1', (0.9278334704592323+0j)), ('-_0 +_1', (-0.9278334704592324+0j)), ('+_2 -_3', (0.9278334704592323+0j)), ('-_2 +_3', (-0.9278334704592324+0j)), ('+_3 -_3', (0.6944743507776605+0j)), ('...)], register_length=4, display_format='sparse'),\n",
       " 'AngularMomentum': FermionicOp([('+_0 -_1 -_2 +_3', (1+0j)), ('-_0 +_1 +_2 -_3', (1+0j)), ('+_3 -_3', (0.75+0j)), ('+_2 -_2', (0.75+0j)), ('+_2 -_2 +_3 -_3', (0.5+0j)), ('+_1 -_1', (0.75+0j)), ('+_1 -_1 +_3 -_3', (-1.5+0j)), (...)], register_length=4, display_format='sparse'),\n",
       " 'Magnetization': FermionicOp([('+_0 -_0', (0.5+0j)), ('+_1 -_1', (0.5+0j)), ('+_2 -_2', (-0.5+0j)), ('+_3 -_3', (-0.5+0j))], register_length=4, display_format='sparse')}"
      ]
     },
     "execution_count": 10,
     "metadata": {},
     "output_type": "execute_result"
    }
   ],
   "source": [
    "problem.second_q_ops()"
   ]
  },
  {
   "cell_type": "markdown",
   "id": "b7df2d5b",
   "metadata": {
    "slideshow": {
     "slide_type": "slide"
    }
   },
   "source": [
    "In the remainder of the stack, you will not be able to tell them apart:"
   ]
  },
  {
   "cell_type": "code",
   "execution_count": 11,
   "id": "06d5edbd",
   "metadata": {
    "slideshow": {
     "slide_type": "fragment"
    }
   },
   "outputs": [],
   "source": [
    "from qiskit_nature.converters.second_quantization import QubitConverter\n",
    "from qiskit_nature.mappers.second_quantization import JordanWignerMapper\n",
    "\n",
    "converter = QubitConverter(JordanWignerMapper())"
   ]
  },
  {
   "cell_type": "code",
   "execution_count": 12,
   "id": "e0cd2afe",
   "metadata": {
    "slideshow": {
     "slide_type": "fragment"
    }
   },
   "outputs": [],
   "source": [
    "from qiskit_nature.algorithms.ground_state_solvers import GroundStateEigensolver\n",
    "from qiskit_nature.algorithms.ground_state_solvers.minimum_eigensolver_factories import NumPyMinimumEigensolverFactory\n",
    "\n",
    "solver = GroundStateEigensolver(converter, NumPyMinimumEigensolverFactory(use_default_filter_criterion=True))"
   ]
  },
  {
   "cell_type": "code",
   "execution_count": 13,
   "id": "a8aed217",
   "metadata": {
    "scrolled": true,
    "slideshow": {
     "slide_type": "slide"
    }
   },
   "outputs": [
    {
     "name": "stdout",
     "output_type": "stream",
     "text": [
      "=== GROUND STATE ENERGY ===\n",
      " \n",
      "* Electronic ground state energy (Hartree): -1.857275030202\n",
      "  - computed part:      -1.857275030202\n",
      "~ Nuclear repulsion energy (Hartree): 0.719968994449\n",
      "> Total ground state energy (Hartree): -1.137306035753\n",
      " \n",
      "=== MEASURED OBSERVABLES ===\n",
      " \n",
      "  0:  # Particles: 2.000 S: 0.000 S^2: 0.000 M: 0.000\n",
      " \n",
      "=== DIPOLE MOMENTS ===\n",
      " \n",
      "~ Nuclear dipole moment (a.u.): [0.0  0.0  1.3889487]\n",
      " \n",
      "  0: \n",
      "  * Electronic dipole moment (a.u.): [0.0  0.0  1.3889487]\n",
      "    - computed part:      [0.0  0.0  1.3889487]\n",
      "  > Dipole moment (a.u.): [0.0  0.0  0.0]  Total: 0.0\n",
      "                 (debye): [0.0  0.0  0.0]  Total: 0.0\n",
      " \n"
     ]
    }
   ],
   "source": [
    "result = solver.solve(problem)\n",
    "print(result)"
   ]
  },
  {
   "cell_type": "markdown",
   "id": "d9b922c8",
   "metadata": {
    "slideshow": {
     "slide_type": "slide"
    }
   },
   "source": [
    "However, in the future this will allow us to allow users to directly supply custom properties, which are to be evaluated alongside the default ones, within the problem defintion:\n",
    "```python\n",
    "my_custom_property = CustomProperty(...)\n",
    "\n",
    "problem = ElectronicStructureProblem(driver, aux_properties=[my_custom_property])\n",
    "```\n",
    "> If `aux_properties` is a list, the `Property.name` attribute will be used as the dictionary-key within the stack."
   ]
  },
  {
   "cell_type": "code",
   "execution_count": 14,
   "id": "b1f6c662",
   "metadata": {
    "scrolled": false,
    "slideshow": {
     "slide_type": "notes"
    }
   },
   "outputs": [
    {
     "data": {
      "text/html": [
       "<h3>Version Information</h3><table><tr><th>Qiskit Software</th><th>Version</th></tr><tr><td><code>qiskit-terra</code></td><td>0.19.0.dev0+aac9917</td></tr><tr><td><code>qiskit-aer</code></td><td>0.9.0</td></tr><tr><td><code>qiskit-ibmq-provider</code></td><td>0.17.0.dev0+f3c9e7f</td></tr><tr><td><code>qiskit-nature</code></td><td>0.3.0</td></tr><tr><th>System information</th></tr><tr><td>Python version</td><td>3.9.7</td></tr><tr><td>Python compiler</td><td>GCC 11.2.1 20210728 (Red Hat 11.2.1-1)</td></tr><tr><td>Python build</td><td>default, Aug 30 2021 00:00:00</td></tr><tr><td>OS</td><td>Linux</td></tr><tr><td>CPUs</td><td>4</td></tr><tr><td>Memory (Gb)</td><td>14.84256362915039</td></tr><tr><td colspan='2'>Thu Nov 11 09:43:56 2021 CET</td></tr></table>"
      ],
      "text/plain": [
       "<IPython.core.display.HTML object>"
      ]
     },
     "metadata": {},
     "output_type": "display_data"
    },
    {
     "data": {
      "text/html": [
       "<div style='width: 100%; background-color:#d5d9e0;padding-left: 10px; padding-bottom: 10px; padding-right: 10px; padding-top: 5px'><h3>This code is a part of Qiskit</h3><p>&copy; Copyright IBM 2017, 2021.</p><p>This code is licensed under the Apache License, Version 2.0. You may<br>obtain a copy of this license in the LICENSE.txt file in the root directory<br> of this source tree or at http://www.apache.org/licenses/LICENSE-2.0.<p>Any modifications or derivative works of this code must retain this<br>copyright notice, and modified files need to carry a notice indicating<br>that they have been altered from the originals.</p></div>"
      ],
      "text/plain": [
       "<IPython.core.display.HTML object>"
      ]
     },
     "metadata": {},
     "output_type": "display_data"
    }
   ],
   "source": [
    "import qiskit.tools.jupyter\n",
    "%qiskit_version_table\n",
    "%qiskit_copyright"
   ]
  }
 ],
 "metadata": {
  "celltoolbar": "Slideshow",
  "kernelspec": {
   "display_name": "Python 3",
   "language": "python",
   "name": "python3"
  },
  "language_info": {
   "codemirror_mode": {
    "name": "ipython",
    "version": 3
   },
   "file_extension": ".py",
   "mimetype": "text/x-python",
   "name": "python",
   "nbconvert_exporter": "python",
   "pygments_lexer": "ipython3",
   "version": "3.9.7"
  }
 },
 "nbformat": 4,
 "nbformat_minor": 5
}
