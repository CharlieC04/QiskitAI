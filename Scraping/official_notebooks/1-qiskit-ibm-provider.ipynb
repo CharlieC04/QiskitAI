{
 "cells": [
  {
   "cell_type": "markdown",
   "id": "fa120eaf",
   "metadata": {
    "slideshow": {
     "slide_type": "slide"
    }
   },
   "source": [
    "# qiskit-ibm-provider, the \"new\" IBM Quantum provider\n",
    "\n",
    "### Qiskit Demo Day (May 12, 2022)\n",
    "\n",
    "### Rathish Cholarajan"
   ]
  },
  {
   "cell_type": "markdown",
   "id": "565b040a",
   "metadata": {
    "slideshow": {
     "slide_type": "slide"
    }
   },
   "source": [
    "### Installation\n",
    "\n",
    "```\n",
    "pip install qiskit-ibm-provider\n",
    "```\n",
    "\n",
    "Note: This package has to be installed separately and will not get installed as part of qiskit meta package."
   ]
  },
  {
   "cell_type": "markdown",
   "id": "f8787c59",
   "metadata": {
    "slideshow": {
     "slide_type": "slide"
    }
   },
   "source": [
    "### Load Account using Saved Credentials"
   ]
  },
  {
   "cell_type": "markdown",
   "id": "2b30081c",
   "metadata": {
    "slideshow": {
     "slide_type": "-"
    }
   },
   "source": [
    "#### Before"
   ]
  },
  {
   "cell_type": "code",
   "execution_count": null,
   "id": "abb01260",
   "metadata": {
    "slideshow": {
     "slide_type": "-"
    }
   },
   "outputs": [],
   "source": [
    "from qiskit import IBMQ\n",
    "\n",
    "IBMQ.save_account(token='MY_API_TOKEN')\n",
    "provider = IBMQ.load_account() # loads saved account from disk"
   ]
  },
  {
   "cell_type": "markdown",
   "id": "9dd4c690",
   "metadata": {
    "slideshow": {
     "slide_type": "-"
    }
   },
   "source": [
    "#### After"
   ]
  },
  {
   "cell_type": "code",
   "execution_count": null,
   "id": "e664029f",
   "metadata": {
    "slideshow": {
     "slide_type": "-"
    }
   },
   "outputs": [],
   "source": [
    "from qiskit_ibm_provider import IBMProvider\n",
    "\n",
    "IBMProvider.save_account(token='MY_API_TOKEN')\n",
    "provider = IBMProvider() # loads default saved account from disk\n",
    "\n",
    "IBMProvider.save_account(token='MY_API_TOKEN_2', name=\"personal\")\n",
    "provider = IBMProvider(name=\"personal\") # loads saved account from disk named \"personal\""
   ]
  },
  {
   "cell_type": "markdown",
   "id": "1f1a46c4",
   "metadata": {
    "slideshow": {
     "slide_type": "slide"
    }
   },
   "source": [
    "### Saved Account"
   ]
  },
  {
   "cell_type": "markdown",
   "id": "b624839d",
   "metadata": {
    "slideshow": {
     "slide_type": "-"
    }
   },
   "source": [
    "#### Before"
   ]
  },
  {
   "cell_type": "code",
   "execution_count": null,
   "id": "3c2c79c3",
   "metadata": {
    "slideshow": {
     "slide_type": "-"
    }
   },
   "outputs": [],
   "source": [
    "from qiskit import IBMQ\n",
    "\n",
    "IBMQ.stored_account() # get saved account from qiskitrc file"
   ]
  },
  {
   "cell_type": "markdown",
   "id": "4e2b4de2",
   "metadata": {
    "slideshow": {
     "slide_type": "-"
    }
   },
   "source": [
    "#### After"
   ]
  },
  {
   "cell_type": "code",
   "execution_count": 17,
   "id": "9001f6c7",
   "metadata": {
    "slideshow": {
     "slide_type": "-"
    }
   },
   "outputs": [
    {
     "data": {
      "text/plain": [
       "{'default-ibm-quantum': {'channel': 'ibm_quantum',\n",
       "  'token': 'xyzabc',\n",
       "  'url': 'https://auth.quantum-computing.ibm.com/api',\n",
       "  'instance': 'ibm-q/open/main',\n",
       "  'verify': True}}"
      ]
     },
     "execution_count": 17,
     "metadata": {},
     "output_type": "execute_result"
    }
   ],
   "source": [
    "from qiskit_ibm_provider import IBMProvider\n",
    "\n",
    "IBMProvider.saved_accounts() # get saved accounts from qiskit-ibm.json file"
   ]
  },
  {
   "cell_type": "markdown",
   "id": "18e092ab",
   "metadata": {
    "slideshow": {
     "slide_type": "slide"
    }
   },
   "source": [
    "### Load Account using Environment Variables"
   ]
  },
  {
   "cell_type": "markdown",
   "id": "467a404c",
   "metadata": {
    "slideshow": {
     "slide_type": "-"
    }
   },
   "source": [
    "#### Before"
   ]
  },
  {
   "cell_type": "code",
   "execution_count": null,
   "id": "c2537d2c",
   "metadata": {
    "slideshow": {
     "slide_type": "-"
    }
   },
   "outputs": [],
   "source": [
    "# export QE_TOKEN='MY_API_TOKEN' (bash command)\n",
    "\n",
    "from qiskit import IBMQ\n",
    "\n",
    "provider = IBMQ.load_account() # loads account from env variables"
   ]
  },
  {
   "cell_type": "markdown",
   "id": "6e84e4a8",
   "metadata": {
    "slideshow": {
     "slide_type": "-"
    }
   },
   "source": [
    "#### After"
   ]
  },
  {
   "cell_type": "code",
   "execution_count": null,
   "id": "c22b114f",
   "metadata": {
    "slideshow": {
     "slide_type": "-"
    }
   },
   "outputs": [],
   "source": [
    "# export QISKIT_IBM_TOKEN='MY_API_TOKEN' (bash command)\n",
    "\n",
    "from qiskit_ibm_provider import IBMProvider\n",
    "\n",
    "provider = IBMProvider() # loads account from env variables"
   ]
  },
  {
   "cell_type": "markdown",
   "id": "e4f04351",
   "metadata": {
    "slideshow": {
     "slide_type": "slide"
    }
   },
   "source": [
    "### Enable Account"
   ]
  },
  {
   "cell_type": "markdown",
   "id": "33cfa36e",
   "metadata": {
    "slideshow": {
     "slide_type": "-"
    }
   },
   "source": [
    "#### Before"
   ]
  },
  {
   "cell_type": "code",
   "execution_count": null,
   "id": "9422e806",
   "metadata": {
    "slideshow": {
     "slide_type": "-"
    }
   },
   "outputs": [],
   "source": [
    "from qiskit import IBMQ\n",
    "\n",
    "provider = IBMQ.enable_account(token='MY_API_TOKEN') # enable account for current session"
   ]
  },
  {
   "cell_type": "markdown",
   "id": "4c864a85",
   "metadata": {
    "slideshow": {
     "slide_type": "-"
    }
   },
   "source": [
    "#### After"
   ]
  },
  {
   "cell_type": "code",
   "execution_count": null,
   "id": "d1853596",
   "metadata": {
    "slideshow": {
     "slide_type": "-"
    }
   },
   "outputs": [],
   "source": [
    "from qiskit_ibm_provider import IBMProvider\n",
    "\n",
    "provider = IBMProvider(token='MY_API_TOKEN') # enable account for current session"
   ]
  },
  {
   "cell_type": "markdown",
   "id": "42bc1f16",
   "metadata": {
    "slideshow": {
     "slide_type": "slide"
    }
   },
   "source": [
    "### hub/group/project selection order\n",
    "\n",
    "It is now optional to specify a hub/group/project upfront when connecting to the IBM Quantum account. The hub/group/project is selected in the following order (decreasing order of priority).\n",
    "\n",
    "- hub/group/project if passed via `instance` parameter when calling `provider.get_backend(<backend_name>, instance=\"h/g/p\")`\n",
    "\n",
    "- hub/group/project if passed via `instance` parameter when initializing `IBMProvider(..., instance=\"h/g/p)\"`\n",
    "\n",
    "- the default set previously via `save_account(..., instance=\"h/g/p\")`\n",
    "\n",
    "- a premium hub/group/project in your account\n",
    "\n",
    "- open access hub/group/project"
   ]
  },
  {
   "cell_type": "markdown",
   "id": "2a5adc9d",
   "metadata": {
    "slideshow": {
     "slide_type": "slide"
    }
   },
   "source": [
    "### Active Account"
   ]
  },
  {
   "cell_type": "markdown",
   "id": "3b92ba44",
   "metadata": {
    "slideshow": {
     "slide_type": "-"
    }
   },
   "source": [
    "#### Before"
   ]
  },
  {
   "cell_type": "code",
   "execution_count": null,
   "id": "de0ee5e0",
   "metadata": {
    "slideshow": {
     "slide_type": "-"
    }
   },
   "outputs": [],
   "source": [
    "from qiskit import IBMQ\n",
    "provider = IBMQ.load_account() # load saved account\n",
    "\n",
    "IBMQ.active_account() # check active account"
   ]
  },
  {
   "cell_type": "markdown",
   "id": "232bf8bb",
   "metadata": {
    "slideshow": {
     "slide_type": "-"
    }
   },
   "source": [
    "#### After"
   ]
  },
  {
   "cell_type": "code",
   "execution_count": 18,
   "id": "ecf4d34e",
   "metadata": {
    "slideshow": {
     "slide_type": "-"
    }
   },
   "outputs": [
    {
     "data": {
      "text/plain": [
       "{'channel': 'ibm_quantum',\n",
       " 'token': 'xyzabc',\n",
       " 'url': 'https://auth.quantum-computing.ibm.com/api',\n",
       " 'instance': 'ibm-q/open/main',\n",
       " 'verify': True}"
      ]
     },
     "execution_count": 18,
     "metadata": {},
     "output_type": "execute_result"
    }
   ],
   "source": [
    "from qiskit_ibm_provider import IBMProvider\n",
    "provider = IBMProvider() # load saved account\n",
    "\n",
    "provider.active_account() # check active account"
   ]
  },
  {
   "cell_type": "markdown",
   "id": "6f8c5698",
   "metadata": {
    "slideshow": {
     "slide_type": "slide"
    }
   },
   "source": [
    "### Delete Account"
   ]
  },
  {
   "cell_type": "markdown",
   "id": "4f3d67d4",
   "metadata": {
    "slideshow": {
     "slide_type": "-"
    }
   },
   "source": [
    "#### Before"
   ]
  },
  {
   "cell_type": "code",
   "execution_count": null,
   "id": "2540c889",
   "metadata": {
    "slideshow": {
     "slide_type": "-"
    }
   },
   "outputs": [],
   "source": [
    "from qiskit import IBMQ\n",
    "\n",
    "IBMQ.delete_account() # delete saved account from qiskitrc file"
   ]
  },
  {
   "cell_type": "markdown",
   "id": "c965fcb4",
   "metadata": {
    "slideshow": {
     "slide_type": "-"
    }
   },
   "source": [
    "#### After"
   ]
  },
  {
   "cell_type": "code",
   "execution_count": null,
   "id": "bfaf3ae3",
   "metadata": {
    "slideshow": {
     "slide_type": "-"
    }
   },
   "outputs": [],
   "source": [
    "from qiskit_ibm_provider import IBMProvider\n",
    "\n",
    "IBMProvider.delete_account() # delete saved account from saved credentials"
   ]
  },
  {
   "cell_type": "markdown",
   "id": "bc298427",
   "metadata": {
    "slideshow": {
     "slide_type": "slide"
    }
   },
   "source": [
    "### Retrieve backends"
   ]
  },
  {
   "cell_type": "code",
   "execution_count": 15,
   "id": "c0b3bc4d",
   "metadata": {
    "slideshow": {
     "slide_type": "-"
    }
   },
   "outputs": [
    {
     "data": {
      "text/plain": [
       "[<IBMBackend('ibmq_qasm_simulator')>,\n",
       " <IBMBackend('ibmq_armonk')>,\n",
       " <IBMBackend('ibmq_santiago')>,\n",
       " <IBMBackend('ibmq_bogota')>,\n",
       " <IBMBackend('ibmq_lima')>,\n",
       " <IBMBackend('ibmq_belem')>,\n",
       " <IBMBackend('ibmq_quito')>,\n",
       " <IBMBackend('simulator_statevector')>,\n",
       " <IBMBackend('simulator_mps')>,\n",
       " <IBMBackend('simulator_extended_stabilizer')>,\n",
       " <IBMBackend('simulator_stabilizer')>,\n",
       " <IBMBackend('ibmq_manila')>]"
      ]
     },
     "execution_count": 15,
     "metadata": {},
     "output_type": "execute_result"
    }
   ],
   "source": [
    "provider.backends()"
   ]
  },
  {
   "cell_type": "markdown",
   "id": "a095cea6",
   "metadata": {
    "slideshow": {
     "slide_type": "slide"
    }
   },
   "source": [
    "### Get backend"
   ]
  },
  {
   "cell_type": "code",
   "execution_count": 19,
   "id": "86257709",
   "metadata": {
    "slideshow": {
     "slide_type": "-"
    }
   },
   "outputs": [
    {
     "name": "stdout",
     "output_type": "stream",
     "text": [
      "<IBMBackend('ibmq_manila')>\n"
     ]
    }
   ],
   "source": [
    "backend = provider.get_backend(\"ibmq_manila\")\n",
    "print(backend)"
   ]
  },
  {
   "cell_type": "markdown",
   "id": "e430f301",
   "metadata": {
    "slideshow": {
     "slide_type": "slide"
    }
   },
   "source": [
    "### BackendV2"
   ]
  },
  {
   "cell_type": "markdown",
   "id": "03cee1df",
   "metadata": {
    "slideshow": {
     "slide_type": "-"
    }
   },
   "source": [
    "Flatter access patterns:\n",
    "```python\n",
    "# BackendV1:\n",
    "backend.configuration().n_qubits\n",
    "\n",
    "# BackendV2:\n",
    "backend.num_qubits\n",
    "```"
   ]
  },
  {
   "cell_type": "markdown",
   "id": "be0b60b5",
   "metadata": {
    "slideshow": {
     "slide_type": "-"
    }
   },
   "source": [
    "Only breaking change: `backend.name` is no longer a method but a property in BackendV2."
   ]
  },
  {
   "cell_type": "markdown",
   "id": "fedf5845",
   "metadata": {
    "slideshow": {
     "slide_type": "slide"
    }
   },
   "source": [
    "### Run Circuits"
   ]
  },
  {
   "cell_type": "code",
   "execution_count": 20,
   "id": "2b1e4578",
   "metadata": {
    "scrolled": true,
    "slideshow": {
     "slide_type": "subslide"
    }
   },
   "outputs": [
    {
     "data": {
      "text/html": [
       "<pre style=\"word-wrap: normal;white-space: pre;background: #fff0;line-height: 1.1;font-family: &quot;Courier New&quot;,Courier,monospace\">        ┌───┐      ░ ┌─┐   \n",
       "   q_0: ┤ H ├──■───░─┤M├───\n",
       "        └───┘┌─┴─┐ ░ └╥┘┌─┐\n",
       "   q_1: ─────┤ X ├─░──╫─┤M├\n",
       "             └───┘ ░  ║ └╥┘\n",
       "meas: 2/══════════════╩══╩═\n",
       "                      0  1 </pre>"
      ],
      "text/plain": [
       "        ┌───┐      ░ ┌─┐   \n",
       "   q_0: ┤ H ├──■───░─┤M├───\n",
       "        └───┘┌─┴─┐ ░ └╥┘┌─┐\n",
       "   q_1: ─────┤ X ├─░──╫─┤M├\n",
       "             └───┘ ░  ║ └╥┘\n",
       "meas: 2/══════════════╩══╩═\n",
       "                      0  1 "
      ]
     },
     "execution_count": 20,
     "metadata": {},
     "output_type": "execute_result"
    }
   ],
   "source": [
    "from qiskit import QuantumCircuit\n",
    "\n",
    "# Bell state circuit\n",
    "qc = QuantumCircuit(2)\n",
    "qc.h(0)\n",
    "qc.cx(0, 1)\n",
    "qc.measure_all()\n",
    "\n",
    "qc.draw()"
   ]
  },
  {
   "cell_type": "code",
   "execution_count": 23,
   "id": "b0b20e5d",
   "metadata": {
    "slideshow": {
     "slide_type": "subslide"
    }
   },
   "outputs": [
    {
     "name": "stdout",
     "output_type": "stream",
     "text": [
      "Result(backend_name='ibmq_manila', backend_version='1.0.29', qobj_id='6ea6a83d-bf62-48df-a2a8-98627b0921e5', job_id='627c7cb57c918115bb9a73fe', success=True, results=[ExperimentResult(shots=1024, success=True, meas_level=2, data=ExperimentResultData(counts={'0x0': 517, '0x1': 20, '0x2': 44, '0x3': 443}), header=QobjExperimentHeader(qubit_labels=[['q', 0], ['q', 1], ['q', 2], ['q', 3], ['q', 4]], n_qubits=5, qreg_sizes=[['q', 5]], clbit_labels=[['meas', 0], ['meas', 1]], memory_slots=2, creg_sizes=[['meas', 2]], name='circuit-0', global_phase=0.7853981633974483, metadata={}))], date=2022-05-11 23:26:49-04:00, status=Successful completion, status=QobjHeader(backend_name='ibmq_manila', backend_version='1.0.29'), execution_id='58f5de74-d1a3-11ec-b806-bc97e15b08d0', time_taken=5.193728923797607, error=None, client_version={'qiskit': '0.35.0'})\n"
     ]
    }
   ],
   "source": [
    "from qiskit import transpile\n",
    "qc = transpile(qc, backend)\n",
    "\n",
    "job = backend.run(circuits=qc, shots=1024)\n",
    "result = job.result()\n",
    "print(result)"
   ]
  },
  {
   "cell_type": "code",
   "execution_count": 24,
   "id": "af9558da",
   "metadata": {
    "slideshow": {
     "slide_type": "subslide"
    }
   },
   "outputs": [
    {
     "data": {
      "image/png": "[encoded data removed]",
      "text/plain": [
       "<Figure size 504x360 with 1 Axes>"
      ]
     },
     "execution_count": 24,
     "metadata": {},
     "output_type": "execute_result"
    }
   ],
   "source": [
    "from qiskit.visualization import plot_histogram\n",
    "    \n",
    "plot_histogram(result.get_counts())"
   ]
  },
  {
   "cell_type": "markdown",
   "id": "9318d8da",
   "metadata": {
    "slideshow": {
     "slide_type": "slide"
    }
   },
   "source": [
    "### Run Many Circuits"
   ]
  },
  {
   "cell_type": "markdown",
   "id": "9b1f3a3c",
   "metadata": {
    "slideshow": {
     "slide_type": "-"
    }
   },
   "source": [
    "#### Before"
   ]
  },
  {
   "cell_type": "code",
   "execution_count": null,
   "id": "4628f8f9",
   "metadata": {
    "slideshow": {
     "slide_type": "-"
    }
   },
   "outputs": [],
   "source": [
    "from qiskit.providers.ibmq.managed import IBMQJobManager\n",
    "\n",
    "job_manager = IBMQJobManager()\n",
    "job_set = job_manager.run(long_list_of_circuits, backend=backend)\n",
    "results = job_set.results()"
   ]
  },
  {
   "cell_type": "markdown",
   "id": "f1ceee7a",
   "metadata": {
    "slideshow": {
     "slide_type": "-"
    }
   },
   "source": [
    "#### After"
   ]
  },
  {
   "cell_type": "code",
   "execution_count": null,
   "id": "d6b921bb",
   "metadata": {
    "slideshow": {
     "slide_type": "-"
    }
   },
   "outputs": [],
   "source": [
    "job = backend.run(long_list_of_circuits) # returns IBMCompositeJob\n",
    "result = job.result()"
   ]
  },
  {
   "cell_type": "markdown",
   "id": "a16695cc",
   "metadata": {
    "slideshow": {
     "slide_type": "slide"
    }
   },
   "source": [
    "### Retrieve jobs"
   ]
  },
  {
   "cell_type": "code",
   "execution_count": 26,
   "id": "b6352107",
   "metadata": {
    "slideshow": {
     "slide_type": "-"
    }
   },
   "outputs": [
    {
     "data": {
      "text/plain": [
       "[<IBMCircuitJob('627c7cb57c918115bb9a73fe')>,\n",
       " <IBMCircuitJob('627c7c447c918158e79a73fd')>,\n",
       " <IBMCircuitJob('627c7b6a7c91811d5f9a73f7')>,\n",
       " <IBMCircuitJob('627574bb171ee83542258e41')>,\n",
       " <IBMCircuitJob('62756eb7911c8c972adef6e5')>,\n",
       " <IBMCircuitJob('627568b3d03f90b0766863ed')>,\n",
       " <IBMCircuitJob('627562848d1838a6e8a4f164')>,\n",
       " <IBMCircuitJob('627558568d18381a1da4f108')>,\n",
       " <IBMCircuitJob('6275542730321136b10fb39e')>,\n",
       " <IBMCircuitJob('62754655911c8ca604def5a5')>]"
      ]
     },
     "execution_count": 26,
     "metadata": {},
     "output_type": "execute_result"
    }
   ],
   "source": [
    "provider.jobs()"
   ]
  },
  {
   "cell_type": "markdown",
   "id": "21e1fa89",
   "metadata": {
    "slideshow": {
     "slide_type": "slide"
    }
   },
   "source": [
    "### Retrieve job"
   ]
  },
  {
   "cell_type": "code",
   "execution_count": 28,
   "id": "3990485c",
   "metadata": {
    "slideshow": {
     "slide_type": "-"
    }
   },
   "outputs": [
    {
     "name": "stdout",
     "output_type": "stream",
     "text": [
      "<IBMCircuitJob('627c7cb57c918115bb9a73fe')>\n"
     ]
    }
   ],
   "source": [
    "job = provider.job(job_id=\"627c7cb57c918115bb9a73fe\")\n",
    "print(job)"
   ]
  },
  {
   "cell_type": "markdown",
   "id": "ad45c2c1",
   "metadata": {
    "slideshow": {
     "slide_type": "slide"
    }
   },
   "source": [
    "### Contributors\n",
    "\n",
    "Huge thank you to the following contributors (in no particular order)!\n",
    "\n",
    "Jessie Yu, Kevin Tian, Rathish Cholarajan, Daniel Kaulen, Matthew Treinish, Ali Javadiabhari, Blake Johnson, Ismael Faro, Jay Gambetta, Paul Nation, Luciano Bello, Paco Martin, Julien Gacon, Kevin Krsulich, Naoki Kanazawa, Zachary Schoenfeld, Matt Riedemann, Ismael Rozas Ramallal, Jorge Elihores Carballo Franquis, Fran Cabrera, Ryan Cocuzzo"
   ]
  },
  {
   "cell_type": "markdown",
   "id": "f9dd3c12",
   "metadata": {
    "slideshow": {
     "slide_type": "slide"
    }
   },
   "source": [
    "### Questions"
   ]
  }
 ],
 "metadata": {
  "celltoolbar": "Slideshow",
  "kernelspec": {
   "display_name": "qiskit-ibm-provider",
   "language": "python",
   "name": "qiskit-ibm-provider"
  },
  "language_info": {
   "codemirror_mode": {
    "name": "ipython",
    "version": 3
   },
   "file_extension": ".py",
   "mimetype": "text/x-python",
   "name": "python",
   "nbconvert_exporter": "python",
   "pygments_lexer": "ipython3",
   "version": "3.9.12"
  }
 },
 "nbformat": 4,
 "nbformat_minor": 5
}
