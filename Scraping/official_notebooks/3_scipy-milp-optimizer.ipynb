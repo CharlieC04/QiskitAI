{
 "cells": [
  {
   "cell_type": "markdown",
   "id": "7e96bae6",
   "metadata": {
    "slideshow": {
     "slide_type": "slide"
    }
   },
   "source": [
    "# SciPy MILP Optimizer for Qiskit Optimization\n",
    "\n",
    "Takashi Imamichi (imamichi@jp.ibm.com)\n",
    "\n",
    "Qiskit Demodays\n",
    "\n",
    "June 1, 2023"
   ]
  },
  {
   "cell_type": "markdown",
   "id": "3e280ddf",
   "metadata": {
    "slideshow": {
     "slide_type": "slide"
    }
   },
   "source": [
    "# Background\n",
    "\n",
    "Qiskit optimization contains classical solvers such as CPLEX and Gurobi as well as quantum solvers such as QAOA.\n",
    "\n",
    "But CPLEX and Gurobi are commercial software and the libraries installed via pip have some limitations such as number of variables and number of constraints. Moreover, pip version of CPLEX for Apple Silicon is not available yet."
   ]
  },
  {
   "cell_type": "code",
   "execution_count": 1,
   "id": "063f8f44",
   "metadata": {
    "slideshow": {
     "slide_type": "slide"
    }
   },
   "outputs": [
    {
     "name": "stdout",
     "output_type": "stream",
     "text": [
      "\u001b[31mERROR: Could not find a version that satisfies the requirement cplex (from versions: none)\u001b[0m\u001b[31m\n",
      "\u001b[0m\u001b[31mERROR: No matching distribution found for cplex\u001b[0m\u001b[31m\n",
      "\u001b[0mNote: you may need to restart the kernel to use updated packages.\n"
     ]
    }
   ],
   "source": [
    "# pip version of CPLEX is not available for Apple silicon\n",
    "%pip install cplex"
   ]
  },
  {
   "cell_type": "code",
   "execution_count": 2,
   "id": "fa0c58d8",
   "metadata": {
    "slideshow": {
     "slide_type": "slide"
    }
   },
   "outputs": [],
   "source": [
    "import numpy as np\n",
    "from qiskit_optimization import QuadraticProgram\n",
    "from qiskit_optimization.algorithms import GurobiOptimizer"
   ]
  },
  {
   "cell_type": "code",
   "execution_count": 3,
   "id": "26e119a7",
   "metadata": {
    "slideshow": {
     "slide_type": "-"
    }
   },
   "outputs": [
    {
     "name": "stdout",
     "output_type": "stream",
     "text": [
      "Problem name: \n",
      "\n",
      "Minimize\n",
      "  x0 + x1 + x10 + x100 + x1000 + x1001 + x1002 + x1003 + x1004 + x1005 + x1006\n",
      "  + x1007 + x1008 + x1009 + x101 + x1010 + x1011 + x1012 + x1013 + x1014 + x1015\n",
      "  + x1016 + x1017 + x1018 + x1019 + x102 + x1020 + x1021 + x1022 + x1023 + x1024\n",
      "  + x1025 + x1026 + x1027 + x1028 + x1029 + x103 + x1030 + x1031 + x1032 + x1033\n",
      "  + x1034 + x1035 + x1036 + x1037 + x1038 + x1039 + x104 + x1040 + x1041 + x1042\n",
      "  + x1043 + x1044 + x1045 + x1046 + x1047 + x1048 + x1049 + x105 + x1050 + x1051\n",
      "  + x1052 + x1053 + x1054 + x1055 + x1056 + x1057 + x1058 + x1059 + x106 + x1060\n",
      "  + x1061 + x1062 + x1063 + x1064 + x1065 + x1066 + x1067 + x1068 + x1069 + x107\n",
      "  + x1070 + x1071 + x1072 + x1073 + x1074 + x1075 + x1076 + x1077 + x1078\n",
      "  + x1079 + x108 + x1080 + x1081 + x1082 + x1083 + x1084 + x1085 + x1086 + x1087\n",
      "  + x1088 + x1089 + x109 + x1090 + x1091 + x1092 + x1093 + x1094 + x1095 + x1096\n",
      "  + x1097 + x1098 + x1099 + x11 + x110 + x1100 + x1101 + x1102 + x1103 + x1104\n",
      "  + x1105 + x1106 + x1107 + x1108 + x1109 + x111 + x1110 + x1111 + x1112 + x1113\n",
      "  + x1114 + x1115 + x1116 + x1117 + x1118 + x1119 + x112 + x1120 + x1121 + x1122\n",
      "  + x1123 + x1124 + x1125 + x1126 + x1127 + x1128 + x1129 + x113 + x1130 + x1131\n",
      "  + x1132 + x1133 + x1134 + x1135 + x1136 + x1137 + x1138 + x1139 + x114 + x1140\n",
      "  + x1141 + x1142 + x1143 + x1144 + x1145 + x1146 + x1147 + x1148 + x1149 + x115\n",
      "  + x1150 + x1151 + x1152 + x1153 + x1154 + x1155 + x1156 + x1157 + x1158\n",
      "  + x1159 + x116 + x1160 + x1161 + x1162 + x1163 + x1164 + x1165 + x1166 + x1167\n",
      "  + x1168 + x1169 + x117 + x1170 + x1171 + x1172 + x1173 + x1174 + x1175 + x1176\n",
      "  + x1177 + x1178 + x1179 + x118 + x1180 + x1181 + x1182 + x1183 + x1184 + x1185\n",
      "  + x1186 + x1187 + x1188 + x1189 + x119 + x1190 + x1191 + x1192 + x1193 + x1194\n",
      "  + x1195 + x1196 + x1197 + x1198 + x1199 + x12 + x120 + x1200 + x1201 + x1202\n",
      "  + x1203 + x1204 + x1205 + x1206 + x1207 + x1208 + x1209 + x121 + x1210 + x1211\n",
      "  + x1212 + x1213 + x1214 + x1215 + x1216 + x1217 + x1218 + x1219 + x122 + x1220\n",
      "  + x1221 + x1222 + x1223 + x1224 + x1225 + x1226 + x1227 + x1228 + x1229 + x123\n",
      "  + x1230 + x1231 + x1232 + x1233 + x1234 + x1235 + x1236 + x1237 + x1238\n",
      "  + x1239 + x124 + x1240 + x1241 + x1242 + x1243 + x1244 + x1245 + x1246 + x1247\n",
      "  + x1248 + x1249 + x125 + x1250 + x1251 + x1252 + x1253 + x1254 + x1255 + x1256\n",
      "  + x1257 + x1258 + x1259 + x126 + x1260 + x1261 + x1262 + x1263 + x1264 + x1265\n",
      "  + x1266 + x1267 + x1268 + x1269 + x127 + x1270 + x1271 + x1272 + x1273 + x1274\n",
      "  + x1275 + x1276 + x1277 + x1278 + x1279 + x128 + x1280 + x1281 + x1282 + x1283\n",
      "  + x1284 + x1285 + x1286 + x1287 + x1288 + x1289 + x129 + x1290 + x1291 + x1292\n",
      "  + x1293 + x1294 + x1295 + x1296 + x1297 + x1298 + x1299 + x13 + x130 + x1300\n",
      "  + x1301 + x1302 + x1303 + x1304 + x1305 + x1306 + x1307 + x1308 + x1309 + x131\n",
      "  + x1310 + x1311 + x1312 + x1313 + x1314 + x1315 + x1316 + x1317 + x1318\n",
      "  + x1319 + x132 + x1320 + x1321 + x1322 + x1323 + x1324 + x1325 + x1326 + x1327\n",
      "  + x1328 + x1329 + x133 + x1330 + x1331 + x1332 + x1333 + x1334 + x1335 + x1336\n",
      "  + x1337 + x1338 + x1339 + x134 + x1340 + x1341 + x1342 + x1343 + x1344 + x1345\n",
      "  + x1346 + x1347 + x1348 + x1349 + x135 + x1350 + x1351 + x1352 + x1353 + x1354\n",
      "  + x1355 + x1356 + x1357 + x1358 + x1359 + x136 + x1360 + x1361 + x1362 + x1363\n",
      "  + x1364 + x1365 + x1366 + x1367 + x1368 + x1369 + x137 + x1370 + x1371 + x1372\n",
      "  + x1373 + x1374 + x1375 + x1376 + x1377 + x1378 + x1379 + x138 + x1380 + x1381\n",
      "  + x1382 + x1383 + x1384 + x1385 + x1386 + x1387 + x1388 + x1389 + x139 + x1390\n",
      "  + x1391 + x1392 + x1393 + x1394 + x1395 + x1396 + x1397 + x1398 + x1399 + x14\n",
      "  + x140 + x1400 + x1401 + x1402 + x1403 + x1404 + x1405 + x1406 + x1407 + x1408\n",
      "  + x1409 + x141 + x1410 + x1411 + x1412 + x1413 + x1414 + x1415 + x1416 + x1417\n",
      "  + x1418 + x1419 + x142 + x1420 + x1421 + x1422 + x1423 + x1424 + x1425 + x1426\n",
      "  + x1427 + x1428 + x1429 + x143 + x1430 + x1431 + x1432 + x1433 + x1434 + x1435\n",
      "  + x1436 + x1437 + x1438 + x1439 + x144 + x1440 + x1441 + x1442 + x1443 + x1444\n",
      "  + x1445 + x1446 + x1447 + x1448 + x1449 + x145 + x1450 + x1451 + x1452 + x1453\n",
      "  + x1454 + x1455 + x1456 + x1457 + x1458 + x1459 + x146 + x1460 + x1461 + x1462\n",
      "  + x1463 + x1464 + x1465 + x1466 + x1467 + x1468 + x1469 + x147 + x1470 + x1471\n",
      "  + x1472 + x1473 + x1474 + x1475 + x1476 + x1477 + x1478 + x1479 + x148 + x1480\n",
      "  + x1481 + x1482 + x1483 + x1484 + x1485 + x1486 + x1487 + x1488 + x1489 + x149\n",
      "  + x1490 + x1491 + x1492 + x1493 + x1494 + x1495 + x1496 + x1497 + x1498\n",
      "  + x1499 + x15 + x150 + x1500 + x1501 + x1502 + x1503 + x1504 + x1505 + x1506\n",
      "  + x1507 + x1508 + x1509 + x151 + x1510 + x1511 + x1512 + x1513 + x1514 + x1515\n",
      "  + x1516 + x1517 + x1518 + x1519 + x152 + x1520 + x1521 + x1522 + x1523 + x1524\n",
      "  + x1525 + x1526 + x1527 + x1528 + x1529 + x153 + x1530 + x1531 + x1532 + x1533\n",
      "  + x1534 + x1535 + x1536 + x1537 + x1538 + x1539 + x154 + x1540 + x1541 + x1542\n",
      "  + x1543 + x1544 + x1545 + x1546 + x1547 + x1548 + x1549 + x155 + x1550 + x1551\n",
      "  + x1552 + x1553 + x1554 + x1555 + x1556 + x1557 + x1558 + x1559 + x156 + x1560\n",
      "  + x1561 + x1562 + x1563 + x1564 + x1565 + x1566 + x1567 + x1568 + x1569 + x157\n",
      "  + x1570 + x1571 + x1572 + x1573 + x1574 + x1575 + x1576 + x1577 + x1578\n",
      "  + x1579 + x158 + x1580 + x1581 + x1582 + x1583 + x1584 + x1585 + x1586 + x1587\n",
      "  + x1588 + x1589 + x159 + x1590 + x1591 + x1592 + x1593 + x1594 + x1595 + x1596\n",
      "  + x1597 + x1598 + x1599 + x16 + x160 + x1600 + x1601 + x1602 + x1603 + x1604\n",
      "  + x1605 + x1606 + x1607 + x1608 + x1609 + x161 + x1610 + x1611 + x1612 + x1613\n",
      "  + x1614 + x1615 + x1616 + x1617 + x1618 + x1619 + x162 + x1620 + x1621 + x1622\n",
      "  + x1623 + x1624 + x1625 + x1626 + x1627 + x1628 + x1629 + x163 + x1630 + x1631\n",
      "  + x1632 + x1633 + x1634 + x1635 + x1636 + x1637 + x1638 + x1639 + x164 + x1640\n",
      "  + x1641 + x1642 + x1643 + x1644 + x1645 + x1646 + x1647 + x1648 + x1649 + x165\n",
      "  + x1650 + x1651 + x1652 + x1653 + x1654 + x1655 + x1656 + x1657 + x1658\n",
      "  + x1659 + x166 + x1660 + x1661 + x1662 + x1663 + x1664 + x1665 + x1666 + x1667\n",
      "  + x1668 + x1669 + x167 + x1670 + x1671 + x1672 + x1673 + x1674 + x1675 + x1676\n",
      "  + x1677 + x1678 + x1679 + x168 + x1680 + x1681 + x1682 + x1683 + x1684 + x1685\n",
      "  + x1686 + x1687 + x1688 + x1689 + x169 + x1690 + x1691 + x1692 + x1693 + x1694\n",
      "  + x1695 + x1696 + x1697 + x1698 + x1699 + x17 + x170 + x1700 + x1701 + x1702\n",
      "  + x1703 + x1704 + x1705 + x1706 + x1707 + x1708 + x1709 + x171 + x1710 + x1711\n",
      "  + x1712 + x1713 + x1714 + x1715 + x1716 + x1717 + x1718 + x1719 + x172 + x1720\n",
      "  + x1721 + x1722 + x1723 + x1724 + x1725 + x1726 + x1727 + x1728 + x1729 + x173\n",
      "  + x1730 + x1731 + x1732 + x1733 + x1734 + x1735 + x1736 + x1737 + x1738\n",
      "  + x1739 + x174 + x1740 + x1741 + x1742 + x1743 + x1744 + x1745 + x1746 + x1747\n",
      "  + x1748 + x1749 + x175 + x1750 + x1751 + x1752 + x1753 + x1754 + x1755 + x1756\n",
      "  + x1757 + x1758 + x1759 + x176 + x1760 + x1761 + x1762 + x1763 + x1764 + x1765\n",
      "  + x1766 + x1767 + x1768 + x1769 + x177 + x1770 + x1771 + x1772 + x1773 + x1774\n",
      "  + x1775 + x1776 + x1777 + x1778 + x1779 + x178 + x1780 + x1781 + x1782 + x1783\n",
      "  + x1784 + x1785 + x1786 + x1787 + x1788 + x1789 + x179 + x1790 + x1791 + x1792\n",
      "  + x1793 + x1794 + x1795 + x1796 + x1797 + x1798 + x1799 + x18 + x180 + x1800\n",
      "  + x1801 + x1802 + x1803 + x1804 + x1805 + x1806 + x1807 + x1808 + x1809 + x181\n",
      "  + x1810 + x1811 + x1812 + x1813 + x1814 + x1815 + x1816 + x1817 + x1818\n",
      "  + x1819 + x182 + x1820 + x1821 + x1822 + x1823 + x1824 + x1825 + x1826 + x1827\n",
      "  + x1828 + x1829 + x183 + x1830 + x1831 + x1832 + x1833 + x1834 + x1835 + x1836\n",
      "  + x1837 + x1838 + x1839 + x184 + x1840 + x1841 + x1842 + x1843 + x1844 + x1845\n",
      "  + x1846 + x1847 + x1848 + x1849 + x185 + x1850 + x1851 + x1852 + x1853 + x1854\n",
      "  + x1855 + x1856 + x1857 + x1858 + x1859 + x186 + x1860 + x1861 + x1862 + x1863\n",
      "  + x1864 + x1865 + x1866 + x1867 + x1868 + x1869 + x187 + x1870 + x1871 + x1872\n",
      "  + x1873 + x1874 + x1875 + x1876 + x1877 + x1878 + x1879 + x188 + x1880 + x1881\n",
      "  + x1882 + x1883 + x1884 + x1885 + x1886 + x1887 + x1888 + x1889 + x189 + x1890\n",
      "  + x1891 + x1892 + x1893 + x1894 + x1895 + x1896 + x1897 + x1898 + x1899 + x19\n",
      "  + x190 + x1900 + x1901 + x1902 + x1903 + x1904 + x1905 + x1906 + x1907 + x1908\n",
      "  + x1909 + x191 + x1910 + x1911 + x1912 + x1913 + x1914 + x1915 + x1916 + x1917\n",
      "  + x1918 + x1919 + x192 + x1920 + x1921 + x1922 + x1923 + x1924 + x1925 + x1926\n",
      "  + x1927 + x1928 + x1929 + x193 + x1930 + x1931 + x1932 + x1933 + x1934 + x1935\n",
      "  + x1936 + x1937 + x1938 + x1939 + x194 + x1940 + x1941 + x1942 + x1943 + x1944\n",
      "  + x1945 + x1946 + x1947 + x1948 + x1949 + x195 + x1950 + x1951 + x1952 + x1953\n",
      "  + x1954 + x1955 + x1956 + x1957 + x1958 + x1959 + x196 + x1960 + x1961 + x1962\n",
      "  + x1963 + x1964 + x1965 + x1966 + x1967 + x1968 + x1969 + x197 + x1970 + x1971\n",
      "  + x1972 + x1973 + x1974 + x1975 + x1976 + x1977 + x1978 + x1979 + x198 + x1980\n",
      "  + x1981 + x1982 + x1983 + x1984 + x1985 + x1986 + x1987 + x1988 + x1989 + x199\n",
      "  + x1990 + x1991 + x1992 + x1993 + x1994 + x1995 + x1996 + x1997 + x1998\n",
      "  + x1999 + x2 + x20 + x200 + x2000 + x201 + x202 + x203 + x204 + x205 + x206\n",
      "  + x207 + x208 + x209 + x21 + x210 + x211 + x212 + x213 + x214 + x215 + x216\n",
      "  + x217 + x218 + x219 + x22 + x220 + x221 + x222 + x223 + x224 + x225 + x226\n",
      "  + x227 + x228 + x229 + x23 + x230 + x231 + x232 + x233 + x234 + x235 + x236\n",
      "  + x237 + x238 + x239 + x24 + x240 + x241 + x242 + x243 + x244 + x245 + x246\n",
      "  + x247 + x248 + x249 + x25 + x250 + x251 + x252 + x253 + x254 + x255 + x256\n",
      "  + x257 + x258 + x259 + x26 + x260 + x261 + x262 + x263 + x264 + x265 + x266\n",
      "  + x267 + x268 + x269 + x27 + x270 + x271 + x272 + x273 + x274 + x275 + x276\n",
      "  + x277 + x278 + x279 + x28 + x280 + x281 + x282 + x283 + x284 + x285 + x286\n",
      "  + x287 + x288 + x289 + x29 + x290 + x291 + x292 + x293 + x294 + x295 + x296\n",
      "  + x297 + x298 + x299 + x3 + x30 + x300 + x301 + x302 + x303 + x304 + x305\n",
      "  + x306 + x307 + x308 + x309 + x31 + x310 + x311 + x312 + x313 + x314 + x315\n",
      "  + x316 + x317 + x318 + x319 + x32 + x320 + x321 + x322 + x323 + x324 + x325\n",
      "  + x326 + x327 + x328 + x329 + x33 + x330 + x331 + x332 + x333 + x334 + x335\n",
      "  + x336 + x337 + x338 + x339 + x34 + x340 + x341 + x342 + x343 + x344 + x345\n",
      "  + x346 + x347 + x348 + x349 + x35 + x350 + x351 + x352 + x353 + x354 + x355\n",
      "  + x356 + x357 + x358 + x359 + x36 + x360 + x361 + x362 + x363 + x364 + x365\n",
      "  + x366 + x367 + x368 + x369 + x37 + x370 + x371 + x372 + x373 + x374 + x375\n",
      "  + x376 + x377 + x378 + x379 + x38 + x380 + x381 + x382 + x383 + x384 + x385\n",
      "  + x386 + x387 + x388 + x389 + x39 + x390 + x391 + x392 + x393 + x394 + x395\n",
      "  + x396 + x397 + x398 + x399 + x4 + x40 + x400 + x401 + x402 + x403 + x404\n",
      "  + x405 + x406 + x407 + x408 + x409 + x41 + x410 + x411 + x412 + x413 + x414\n",
      "  + x415 + x416 + x417 + x418 + x419 + x42 + x420 + x421 + x422 + x423 + x424\n",
      "  + x425 + x426 + x427 + x428 + x429 + x43 + x430 + x431 + x432 + x433 + x434\n",
      "  + x435 + x436 + x437 + x438 + x439 + x44 + x440 + x441 + x442 + x443 + x444\n",
      "  + x445 + x446 + x447 + x448 + x449 + x45 + x450 + x451 + x452 + x453 + x454\n",
      "  + x455 + x456 + x457 + x458 + x459 + x46 + x460 + x461 + x462 + x463 + x464\n",
      "  + x465 + x466 + x467 + x468 + x469 + x47 + x470 + x471 + x472 + x473 + x474\n",
      "  + x475 + x476 + x477 + x478 + x479 + x48 + x480 + x481 + x482 + x483 + x484\n",
      "  + x485 + x486 + x487 + x488 + x489 + x49 + x490 + x491 + x492 + x493 + x494\n",
      "  + x495 + x496 + x497 + x498 + x499 + x5 + x50 + x500 + x501 + x502 + x503\n",
      "  + x504 + x505 + x506 + x507 + x508 + x509 + x51 + x510 + x511 + x512 + x513\n",
      "  + x514 + x515 + x516 + x517 + x518 + x519 + x52 + x520 + x521 + x522 + x523\n",
      "  + x524 + x525 + x526 + x527 + x528 + x529 + x53 + x530 + x531 + x532 + x533\n",
      "  + x534 + x535 + x536 + x537 + x538 + x539 + x54 + x540 + x541 + x542 + x543\n",
      "  + x544 + x545 + x546 + x547 + x548 + x549 + x55 + x550 + x551 + x552 + x553\n",
      "  + x554 + x555 + x556 + x557 + x558 + x559 + x56 + x560 + x561 + x562 + x563\n",
      "  + x564 + x565 + x566 + x567 + x568 + x569 + x57 + x570 + x571 + x572 + x573\n",
      "  + x574 + x575 + x576 + x577 + x578 + x579 + x58 + x580 + x581 + x582 + x583\n",
      "  + x584 + x585 + x586 + x587 + x588 + x589 + x59 + x590 + x591 + x592 + x593\n",
      "  + x594 + x595 + x596 + x597 + x598 + x599 + x6 + x60 + x600 + x601 + x602\n",
      "  + x603 + x604 + x605 + x606 + x607 + x608 + x609 + x61 + x610 + x611 + x612\n",
      "  + x613 + x614 + x615 + x616 + x617 + x618 + x619 + x62 + x620 + x621 + x622\n",
      "  + x623 + x624 + x625 + x626 + x627 + x628 + x629 + x63 + x630 + x631 + x632\n",
      "  + x633 + x634 + x635 + x636 + x637 + x638 + x639 + x64 + x640 + x641 + x642\n",
      "  + x643 + x644 + x645 + x646 + x647 + x648 + x649 + x65 + x650 + x651 + x652\n",
      "  + x653 + x654 + x655 + x656 + x657 + x658 + x659 + x66 + x660 + x661 + x662\n",
      "  + x663 + x664 + x665 + x666 + x667 + x668 + x669 + x67 + x670 + x671 + x672\n",
      "  + x673 + x674 + x675 + x676 + x677 + x678 + x679 + x68 + x680 + x681 + x682\n",
      "  + x683 + x684 + x685 + x686 + x687 + x688 + x689 + x69 + x690 + x691 + x692\n",
      "  + x693 + x694 + x695 + x696 + x697 + x698 + x699 + x7 + x70 + x700 + x701\n",
      "  + x702 + x703 + x704 + x705 + x706 + x707 + x708 + x709 + x71 + x710 + x711\n",
      "  + x712 + x713 + x714 + x715 + x716 + x717 + x718 + x719 + x72 + x720 + x721\n",
      "  + x722 + x723 + x724 + x725 + x726 + x727 + x728 + x729 + x73 + x730 + x731\n",
      "  + x732 + x733 + x734 + x735 + x736 + x737 + x738 + x739 + x74 + x740 + x741\n",
      "  + x742 + x743 + x744 + x745 + x746 + x747 + x748 + x749 + x75 + x750 + x751\n",
      "  + x752 + x753 + x754 + x755 + x756 + x757 + x758 + x759 + x76 + x760 + x761\n",
      "  + x762 + x763 + x764 + x765 + x766 + x767 + x768 + x769 + x77 + x770 + x771\n",
      "  + x772 + x773 + x774 + x775 + x776 + x777 + x778 + x779 + x78 + x780 + x781\n",
      "  + x782 + x783 + x784 + x785 + x786 + x787 + x788 + x789 + x79 + x790 + x791\n",
      "  + x792 + x793 + x794 + x795 + x796 + x797 + x798 + x799 + x8 + x80 + x800\n",
      "  + x801 + x802 + x803 + x804 + x805 + x806 + x807 + x808 + x809 + x81 + x810\n",
      "  + x811 + x812 + x813 + x814 + x815 + x816 + x817 + x818 + x819 + x82 + x820\n",
      "  + x821 + x822 + x823 + x824 + x825 + x826 + x827 + x828 + x829 + x83 + x830\n",
      "  + x831 + x832 + x833 + x834 + x835 + x836 + x837 + x838 + x839 + x84 + x840\n",
      "  + x841 + x842 + x843 + x844 + x845 + x846 + x847 + x848 + x849 + x85 + x850\n",
      "  + x851 + x852 + x853 + x854 + x855 + x856 + x857 + x858 + x859 + x86 + x860\n",
      "  + x861 + x862 + x863 + x864 + x865 + x866 + x867 + x868 + x869 + x87 + x870\n",
      "  + x871 + x872 + x873 + x874 + x875 + x876 + x877 + x878 + x879 + x88 + x880\n",
      "  + x881 + x882 + x883 + x884 + x885 + x886 + x887 + x888 + x889 + x89 + x890\n",
      "  + x891 + x892 + x893 + x894 + x895 + x896 + x897 + x898 + x899 + x9 + x90\n",
      "  + x900 + x901 + x902 + x903 + x904 + x905 + x906 + x907 + x908 + x909 + x91\n",
      "  + x910 + x911 + x912 + x913 + x914 + x915 + x916 + x917 + x918 + x919 + x92\n",
      "  + x920 + x921 + x922 + x923 + x924 + x925 + x926 + x927 + x928 + x929 + x93\n",
      "  + x930 + x931 + x932 + x933 + x934 + x935 + x936 + x937 + x938 + x939 + x94\n",
      "  + x940 + x941 + x942 + x943 + x944 + x945 + x946 + x947 + x948 + x949 + x95\n",
      "  + x950 + x951 + x952 + x953 + x954 + x955 + x956 + x957 + x958 + x959 + x96\n",
      "  + x960 + x961 + x962 + x963 + x964 + x965 + x966 + x967 + x968 + x969 + x97\n",
      "  + x970 + x971 + x972 + x973 + x974 + x975 + x976 + x977 + x978 + x979 + x98\n",
      "  + x980 + x981 + x982 + x983 + x984 + x985 + x986 + x987 + x988 + x989 + x99\n",
      "  + x990 + x991 + x992 + x993 + x994 + x995 + x996 + x997 + x998 + x999\n",
      "\n",
      "Subject to\n",
      "  No constraints\n",
      "\n",
      "  Binary variables (2001)\n",
      "    x0 x1 x2 x3 x4 x5 x6 x7 x8 x9 x10 x11 x12 x13 x14 x15 x16 x17 x18 x19 x20\n",
      "    x21 x22 x23 x24 x25 x26 x27 x28 x29 x30 x31 x32 x33 x34 x35 x36 x37 x38 x39\n",
      "    x40 x41 x42 x43 x44 x45 x46 x47 x48 x49 x50 x51 x52 x53 x54 x55 x56 x57 x58\n",
      "    x59 x60 x61 x62 x63 x64 x65 x66 x67 x68 x69 x70 x71 x72 x73 x74 x75 x76 x77\n",
      "    x78 x79 x80 x81 x82 x83 x84 x85 x86 x87 x88 x89 x90 x91 x92 x93 x94 x95 x96\n",
      "    x97 x98 x99 x100 x101 x102 x103 x104 x105 x106 x107 x108 x109 x110 x111 x112\n",
      "    x113 x114 x115 x116 x117 x118 x119 x120 x121 x122 x123 x124 x125 x126 x127\n",
      "    x128 x129 x130 x131 x132 x133 x134 x135 x136 x137 x138 x139 x140 x141 x142\n",
      "    x143 x144 x145 x146 x147 x148 x149 x150 x151 x152 x153 x154 x155 x156 x157\n",
      "    x158 x159 x160 x161 x162 x163 x164 x165 x166 x167 x168 x169 x170 x171 x172\n",
      "    x173 x174 x175 x176 x177 x178 x179 x180 x181 x182 x183 x184 x185 x186 x187\n",
      "    x188 x189 x190 x191 x192 x193 x194 x195 x196 x197 x198 x199 x200 x201 x202\n",
      "    x203 x204 x205 x206 x207 x208 x209 x210 x211 x212 x213 x214 x215 x216 x217\n",
      "    x218 x219 x220 x221 x222 x223 x224 x225 x226 x227 x228 x229 x230 x231 x232\n",
      "    x233 x234 x235 x236 x237 x238 x239 x240 x241 x242 x243 x244 x245 x246 x247\n",
      "    x248 x249 x250 x251 x252 x253 x254 x255 x256 x257 x258 x259 x260 x261 x262\n",
      "    x263 x264 x265 x266 x267 x268 x269 x270 x271 x272 x273 x274 x275 x276 x277\n",
      "    x278 x279 x280 x281 x282 x283 x284 x285 x286 x287 x288 x289 x290 x291 x292\n",
      "    x293 x294 x295 x296 x297 x298 x299 x300 x301 x302 x303 x304 x305 x306 x307\n",
      "    x308 x309 x310 x311 x312 x313 x314 x315 x316 x317 x318 x319 x320 x321 x322\n",
      "    x323 x324 x325 x326 x327 x328 x329 x330 x331 x332 x333 x334 x335 x336 x337\n",
      "    x338 x339 x340 x341 x342 x343 x344 x345 x346 x347 x348 x349 x350 x351 x352\n",
      "    x353 x354 x355 x356 x357 x358 x359 x360 x361 x362 x363 x364 x365 x366 x367\n",
      "    x368 x369 x370 x371 x372 x373 x374 x375 x376 x377 x378 x379 x380 x381 x382\n",
      "    x383 x384 x385 x386 x387 x388 x389 x390 x391 x392 x393 x394 x395 x396 x397\n",
      "    x398 x399 x400 x401 x402 x403 x404 x405 x406 x407 x408 x409 x410 x411 x412\n",
      "    x413 x414 x415 x416 x417 x418 x419 x420 x421 x422 x423 x424 x425 x426 x427\n",
      "    x428 x429 x430 x431 x432 x433 x434 x435 x436 x437 x438 x439 x440 x441 x442\n",
      "    x443 x444 x445 x446 x447 x448 x449 x450 x451 x452 x453 x454 x455 x456 x457\n",
      "    x458 x459 x460 x461 x462 x463 x464 x465 x466 x467 x468 x469 x470 x471 x472\n",
      "    x473 x474 x475 x476 x477 x478 x479 x480 x481 x482 x483 x484 x485 x486 x487\n",
      "    x488 x489 x490 x491 x492 x493 x494 x495 x496 x497 x498 x499 x500 x501 x502\n",
      "    x503 x504 x505 x506 x507 x508 x509 x510 x511 x512 x513 x514 x515 x516 x517\n",
      "    x518 x519 x520 x521 x522 x523 x524 x525 x526 x527 x528 x529 x530 x531 x532\n",
      "    x533 x534 x535 x536 x537 x538 x539 x540 x541 x542 x543 x544 x545 x546 x547\n",
      "    x548 x549 x550 x551 x552 x553 x554 x555 x556 x557 x558 x559 x560 x561 x562\n",
      "    x563 x564 x565 x566 x567 x568 x569 x570 x571 x572 x573 x574 x575 x576 x577\n",
      "    x578 x579 x580 x581 x582 x583 x584 x585 x586 x587 x588 x589 x590 x591 x592\n",
      "    x593 x594 x595 x596 x597 x598 x599 x600 x601 x602 x603 x604 x605 x606 x607\n",
      "    x608 x609 x610 x611 x612 x613 x614 x615 x616 x617 x618 x619 x620 x621 x622\n",
      "    x623 x624 x625 x626 x627 x628 x629 x630 x631 x632 x633 x634 x635 x636 x637\n",
      "    x638 x639 x640 x641 x642 x643 x644 x645 x646 x647 x648 x649 x650 x651 x652\n",
      "    x653 x654 x655 x656 x657 x658 x659 x660 x661 x662 x663 x664 x665 x666 x667\n",
      "    x668 x669 x670 x671 x672 x673 x674 x675 x676 x677 x678 x679 x680 x681 x682\n",
      "    x683 x684 x685 x686 x687 x688 x689 x690 x691 x692 x693 x694 x695 x696 x697\n",
      "    x698 x699 x700 x701 x702 x703 x704 x705 x706 x707 x708 x709 x710 x711 x712\n",
      "    x713 x714 x715 x716 x717 x718 x719 x720 x721 x722 x723 x724 x725 x726 x727\n",
      "    x728 x729 x730 x731 x732 x733 x734 x735 x736 x737 x738 x739 x740 x741 x742\n",
      "    x743 x744 x745 x746 x747 x748 x749 x750 x751 x752 x753 x754 x755 x756 x757\n",
      "    x758 x759 x760 x761 x762 x763 x764 x765 x766 x767 x768 x769 x770 x771 x772\n",
      "    x773 x774 x775 x776 x777 x778 x779 x780 x781 x782 x783 x784 x785 x786 x787\n",
      "    x788 x789 x790 x791 x792 x793 x794 x795 x796 x797 x798 x799 x800 x801 x802\n",
      "    x803 x804 x805 x806 x807 x808 x809 x810 x811 x812 x813 x814 x815 x816 x817\n",
      "    x818 x819 x820 x821 x822 x823 x824 x825 x826 x827 x828 x829 x830 x831 x832\n",
      "    x833 x834 x835 x836 x837 x838 x839 x840 x841 x842 x843 x844 x845 x846 x847\n",
      "    x848 x849 x850 x851 x852 x853 x854 x855 x856 x857 x858 x859 x860 x861 x862\n",
      "    x863 x864 x865 x866 x867 x868 x869 x870 x871 x872 x873 x874 x875 x876 x877\n",
      "    x878 x879 x880 x881 x882 x883 x884 x885 x886 x887 x888 x889 x890 x891 x892\n",
      "    x893 x894 x895 x896 x897 x898 x899 x900 x901 x902 x903 x904 x905 x906 x907\n",
      "    x908 x909 x910 x911 x912 x913 x914 x915 x916 x917 x918 x919 x920 x921 x922\n",
      "    x923 x924 x925 x926 x927 x928 x929 x930 x931 x932 x933 x934 x935 x936 x937\n",
      "    x938 x939 x940 x941 x942 x943 x944 x945 x946 x947 x948 x949 x950 x951 x952\n",
      "    x953 x954 x955 x956 x957 x958 x959 x960 x961 x962 x963 x964 x965 x966 x967\n",
      "    x968 x969 x970 x971 x972 x973 x974 x975 x976 x977 x978 x979 x980 x981 x982\n",
      "    x983 x984 x985 x986 x987 x988 x989 x990 x991 x992 x993 x994 x995 x996 x997\n",
      "    x998 x999 x1000 x1001 x1002 x1003 x1004 x1005 x1006 x1007 x1008 x1009 x1010\n",
      "    x1011 x1012 x1013 x1014 x1015 x1016 x1017 x1018 x1019 x1020 x1021 x1022\n",
      "    x1023 x1024 x1025 x1026 x1027 x1028 x1029 x1030 x1031 x1032 x1033 x1034\n",
      "    x1035 x1036 x1037 x1038 x1039 x1040 x1041 x1042 x1043 x1044 x1045 x1046\n",
      "    x1047 x1048 x1049 x1050 x1051 x1052 x1053 x1054 x1055 x1056 x1057 x1058\n",
      "    x1059 x1060 x1061 x1062 x1063 x1064 x1065 x1066 x1067 x1068 x1069 x1070\n",
      "    x1071 x1072 x1073 x1074 x1075 x1076 x1077 x1078 x1079 x1080 x1081 x1082\n",
      "    x1083 x1084 x1085 x1086 x1087 x1088 x1089 x1090 x1091 x1092 x1093 x1094\n",
      "    x1095 x1096 x1097 x1098 x1099 x1100 x1101 x1102 x1103 x1104 x1105 x1106\n",
      "    x1107 x1108 x1109 x1110 x1111 x1112 x1113 x1114 x1115 x1116 x1117 x1118\n",
      "    x1119 x1120 x1121 x1122 x1123 x1124 x1125 x1126 x1127 x1128 x1129 x1130\n",
      "    x1131 x1132 x1133 x1134 x1135 x1136 x1137 x1138 x1139 x1140 x1141 x1142\n",
      "    x1143 x1144 x1145 x1146 x1147 x1148 x1149 x1150 x1151 x1152 x1153 x1154\n",
      "    x1155 x1156 x1157 x1158 x1159 x1160 x1161 x1162 x1163 x1164 x1165 x1166\n",
      "    x1167 x1168 x1169 x1170 x1171 x1172 x1173 x1174 x1175 x1176 x1177 x1178\n",
      "    x1179 x1180 x1181 x1182 x1183 x1184 x1185 x1186 x1187 x1188 x1189 x1190\n",
      "    x1191 x1192 x1193 x1194 x1195 x1196 x1197 x1198 x1199 x1200 x1201 x1202\n",
      "    x1203 x1204 x1205 x1206 x1207 x1208 x1209 x1210 x1211 x1212 x1213 x1214\n",
      "    x1215 x1216 x1217 x1218 x1219 x1220 x1221 x1222 x1223 x1224 x1225 x1226\n",
      "    x1227 x1228 x1229 x1230 x1231 x1232 x1233 x1234 x1235 x1236 x1237 x1238\n",
      "    x1239 x1240 x1241 x1242 x1243 x1244 x1245 x1246 x1247 x1248 x1249 x1250\n",
      "    x1251 x1252 x1253 x1254 x1255 x1256 x1257 x1258 x1259 x1260 x1261 x1262\n",
      "    x1263 x1264 x1265 x1266 x1267 x1268 x1269 x1270 x1271 x1272 x1273 x1274\n",
      "    x1275 x1276 x1277 x1278 x1279 x1280 x1281 x1282 x1283 x1284 x1285 x1286\n",
      "    x1287 x1288 x1289 x1290 x1291 x1292 x1293 x1294 x1295 x1296 x1297 x1298\n",
      "    x1299 x1300 x1301 x1302 x1303 x1304 x1305 x1306 x1307 x1308 x1309 x1310\n",
      "    x1311 x1312 x1313 x1314 x1315 x1316 x1317 x1318 x1319 x1320 x1321 x1322\n",
      "    x1323 x1324 x1325 x1326 x1327 x1328 x1329 x1330 x1331 x1332 x1333 x1334\n",
      "    x1335 x1336 x1337 x1338 x1339 x1340 x1341 x1342 x1343 x1344 x1345 x1346\n",
      "    x1347 x1348 x1349 x1350 x1351 x1352 x1353 x1354 x1355 x1356 x1357 x1358\n",
      "    x1359 x1360 x1361 x1362 x1363 x1364 x1365 x1366 x1367 x1368 x1369 x1370\n",
      "    x1371 x1372 x1373 x1374 x1375 x1376 x1377 x1378 x1379 x1380 x1381 x1382\n",
      "    x1383 x1384 x1385 x1386 x1387 x1388 x1389 x1390 x1391 x1392 x1393 x1394\n",
      "    x1395 x1396 x1397 x1398 x1399 x1400 x1401 x1402 x1403 x1404 x1405 x1406\n",
      "    x1407 x1408 x1409 x1410 x1411 x1412 x1413 x1414 x1415 x1416 x1417 x1418\n",
      "    x1419 x1420 x1421 x1422 x1423 x1424 x1425 x1426 x1427 x1428 x1429 x1430\n",
      "    x1431 x1432 x1433 x1434 x1435 x1436 x1437 x1438 x1439 x1440 x1441 x1442\n",
      "    x1443 x1444 x1445 x1446 x1447 x1448 x1449 x1450 x1451 x1452 x1453 x1454\n",
      "    x1455 x1456 x1457 x1458 x1459 x1460 x1461 x1462 x1463 x1464 x1465 x1466\n",
      "    x1467 x1468 x1469 x1470 x1471 x1472 x1473 x1474 x1475 x1476 x1477 x1478\n",
      "    x1479 x1480 x1481 x1482 x1483 x1484 x1485 x1486 x1487 x1488 x1489 x1490\n",
      "    x1491 x1492 x1493 x1494 x1495 x1496 x1497 x1498 x1499 x1500 x1501 x1502\n",
      "    x1503 x1504 x1505 x1506 x1507 x1508 x1509 x1510 x1511 x1512 x1513 x1514\n",
      "    x1515 x1516 x1517 x1518 x1519 x1520 x1521 x1522 x1523 x1524 x1525 x1526\n",
      "    x1527 x1528 x1529 x1530 x1531 x1532 x1533 x1534 x1535 x1536 x1537 x1538\n",
      "    x1539 x1540 x1541 x1542 x1543 x1544 x1545 x1546 x1547 x1548 x1549 x1550\n",
      "    x1551 x1552 x1553 x1554 x1555 x1556 x1557 x1558 x1559 x1560 x1561 x1562\n",
      "    x1563 x1564 x1565 x1566 x1567 x1568 x1569 x1570 x1571 x1572 x1573 x1574\n",
      "    x1575 x1576 x1577 x1578 x1579 x1580 x1581 x1582 x1583 x1584 x1585 x1586\n",
      "    x1587 x1588 x1589 x1590 x1591 x1592 x1593 x1594 x1595 x1596 x1597 x1598\n",
      "    x1599 x1600 x1601 x1602 x1603 x1604 x1605 x1606 x1607 x1608 x1609 x1610\n",
      "    x1611 x1612 x1613 x1614 x1615 x1616 x1617 x1618 x1619 x1620 x1621 x1622\n",
      "    x1623 x1624 x1625 x1626 x1627 x1628 x1629 x1630 x1631 x1632 x1633 x1634\n",
      "    x1635 x1636 x1637 x1638 x1639 x1640 x1641 x1642 x1643 x1644 x1645 x1646\n",
      "    x1647 x1648 x1649 x1650 x1651 x1652 x1653 x1654 x1655 x1656 x1657 x1658\n",
      "    x1659 x1660 x1661 x1662 x1663 x1664 x1665 x1666 x1667 x1668 x1669 x1670\n",
      "    x1671 x1672 x1673 x1674 x1675 x1676 x1677 x1678 x1679 x1680 x1681 x1682\n",
      "    x1683 x1684 x1685 x1686 x1687 x1688 x1689 x1690 x1691 x1692 x1693 x1694\n",
      "    x1695 x1696 x1697 x1698 x1699 x1700 x1701 x1702 x1703 x1704 x1705 x1706\n",
      "    x1707 x1708 x1709 x1710 x1711 x1712 x1713 x1714 x1715 x1716 x1717 x1718\n",
      "    x1719 x1720 x1721 x1722 x1723 x1724 x1725 x1726 x1727 x1728 x1729 x1730\n",
      "    x1731 x1732 x1733 x1734 x1735 x1736 x1737 x1738 x1739 x1740 x1741 x1742\n",
      "    x1743 x1744 x1745 x1746 x1747 x1748 x1749 x1750 x1751 x1752 x1753 x1754\n",
      "    x1755 x1756 x1757 x1758 x1759 x1760 x1761 x1762 x1763 x1764 x1765 x1766\n",
      "    x1767 x1768 x1769 x1770 x1771 x1772 x1773 x1774 x1775 x1776 x1777 x1778\n",
      "    x1779 x1780 x1781 x1782 x1783 x1784 x1785 x1786 x1787 x1788 x1789 x1790\n",
      "    x1791 x1792 x1793 x1794 x1795 x1796 x1797 x1798 x1799 x1800 x1801 x1802\n",
      "    x1803 x1804 x1805 x1806 x1807 x1808 x1809 x1810 x1811 x1812 x1813 x1814\n",
      "    x1815 x1816 x1817 x1818 x1819 x1820 x1821 x1822 x1823 x1824 x1825 x1826\n",
      "    x1827 x1828 x1829 x1830 x1831 x1832 x1833 x1834 x1835 x1836 x1837 x1838\n",
      "    x1839 x1840 x1841 x1842 x1843 x1844 x1845 x1846 x1847 x1848 x1849 x1850\n",
      "    x1851 x1852 x1853 x1854 x1855 x1856 x1857 x1858 x1859 x1860 x1861 x1862\n",
      "    x1863 x1864 x1865 x1866 x1867 x1868 x1869 x1870 x1871 x1872 x1873 x1874\n",
      "    x1875 x1876 x1877 x1878 x1879 x1880 x1881 x1882 x1883 x1884 x1885 x1886\n",
      "    x1887 x1888 x1889 x1890 x1891 x1892 x1893 x1894 x1895 x1896 x1897 x1898\n",
      "    x1899 x1900 x1901 x1902 x1903 x1904 x1905 x1906 x1907 x1908 x1909 x1910\n",
      "    x1911 x1912 x1913 x1914 x1915 x1916 x1917 x1918 x1919 x1920 x1921 x1922\n",
      "    x1923 x1924 x1925 x1926 x1927 x1928 x1929 x1930 x1931 x1932 x1933 x1934\n",
      "    x1935 x1936 x1937 x1938 x1939 x1940 x1941 x1942 x1943 x1944 x1945 x1946\n",
      "    x1947 x1948 x1949 x1950 x1951 x1952 x1953 x1954 x1955 x1956 x1957 x1958\n",
      "    x1959 x1960 x1961 x1962 x1963 x1964 x1965 x1966 x1967 x1968 x1969 x1970\n",
      "    x1971 x1972 x1973 x1974 x1975 x1976 x1977 x1978 x1979 x1980 x1981 x1982\n",
      "    x1983 x1984 x1985 x1986 x1987 x1988 x1989 x1990 x1991 x1992 x1993 x1994\n",
      "    x1995 x1996 x1997 x1998 x1999 x2000\n",
      "\n"
     ]
    }
   ],
   "source": [
    "prob = QuadraticProgram()\n",
    "n = 2001\n",
    "prob.binary_var_list(n)\n",
    "prob.minimize(linear=np.ones(n))\n",
    "print(prob.prettyprint())"
   ]
  },
  {
   "cell_type": "code",
   "execution_count": 4,
   "id": "a6d44515",
   "metadata": {
    "slideshow": {
     "slide_type": "slide"
    }
   },
   "outputs": [
    {
     "name": "stdout",
     "output_type": "stream",
     "text": [
      "Restricted license - for non-production use only - expires 2024-10-28\n"
     ]
    },
    {
     "ename": "QiskitOptimizationError",
     "evalue": "'Model too large for size-limited license; visit https://www.gurobi.com/free-trial for a full license'",
     "output_type": "error",
     "traceback": [
      "\u001b[0;31m---------------------------------------------------------------------------\u001b[0m",
      "\u001b[0;31mGurobiError\u001b[0m                               Traceback (most recent call last)",
      "File \u001b[0;32m~/tasks/3_2023/qiskit/opt/qiskit_optimization/algorithms/gurobi_optimizer.py:119\u001b[0m, in \u001b[0;36mGurobiOptimizer.solve\u001b[0;34m(self, problem)\u001b[0m\n\u001b[1;32m    118\u001b[0m \u001b[38;5;28;01mtry\u001b[39;00m:\n\u001b[0;32m--> 119\u001b[0m     \u001b[43mmodel\u001b[49m\u001b[38;5;241;43m.\u001b[39;49m\u001b[43moptimize\u001b[49m\u001b[43m(\u001b[49m\u001b[43m)\u001b[49m\n\u001b[1;32m    120\u001b[0m \u001b[38;5;28;01mexcept\u001b[39;00m gp\u001b[38;5;241m.\u001b[39mGurobiError \u001b[38;5;28;01mas\u001b[39;00m ex:\n",
      "File \u001b[0;32msrc/gurobipy/model.pxi:875\u001b[0m, in \u001b[0;36mgurobipy.Model.optimize\u001b[0;34m()\u001b[0m\n",
      "\u001b[0;31mGurobiError\u001b[0m: Model too large for size-limited license; visit https://www.gurobi.com/free-trial for a full license",
      "\nThe above exception was the direct cause of the following exception:\n",
      "\u001b[0;31mQiskitOptimizationError\u001b[0m                   Traceback (most recent call last)",
      "Cell \u001b[0;32mIn[4], line 1\u001b[0m\n\u001b[0;32m----> 1\u001b[0m \u001b[43mGurobiOptimizer\u001b[49m\u001b[43m(\u001b[49m\u001b[43m)\u001b[49m\u001b[38;5;241;43m.\u001b[39;49m\u001b[43msolve\u001b[49m\u001b[43m(\u001b[49m\u001b[43mprob\u001b[49m\u001b[43m)\u001b[49m\n",
      "File \u001b[0;32m~/tasks/3_2023/qiskit/opt/qiskit_optimization/algorithms/gurobi_optimizer.py:121\u001b[0m, in \u001b[0;36mGurobiOptimizer.solve\u001b[0;34m(self, problem)\u001b[0m\n\u001b[1;32m    119\u001b[0m     model\u001b[38;5;241m.\u001b[39moptimize()\n\u001b[1;32m    120\u001b[0m \u001b[38;5;28;01mexcept\u001b[39;00m gp\u001b[38;5;241m.\u001b[39mGurobiError \u001b[38;5;28;01mas\u001b[39;00m ex:\n\u001b[0;32m--> 121\u001b[0m     \u001b[38;5;28;01mraise\u001b[39;00m QiskitOptimizationError(\u001b[38;5;28mstr\u001b[39m(ex)) \u001b[38;5;28;01mfrom\u001b[39;00m \u001b[38;5;21;01mex\u001b[39;00m\n\u001b[1;32m    123\u001b[0m \u001b[38;5;66;03m# create results\u001b[39;00m\n\u001b[1;32m    124\u001b[0m result \u001b[38;5;241m=\u001b[39m OptimizationResult(\n\u001b[1;32m    125\u001b[0m     x\u001b[38;5;241m=\u001b[39mmodel\u001b[38;5;241m.\u001b[39mX,\n\u001b[1;32m    126\u001b[0m     fval\u001b[38;5;241m=\u001b[39mmodel\u001b[38;5;241m.\u001b[39mObjVal,\n\u001b[0;32m   (...)\u001b[0m\n\u001b[1;32m    129\u001b[0m     raw_results\u001b[38;5;241m=\u001b[39mmodel,\n\u001b[1;32m    130\u001b[0m )\n",
      "\u001b[0;31mQiskitOptimizationError\u001b[0m: 'Model too large for size-limited license; visit https://www.gurobi.com/free-trial for a full license'"
     ]
    }
   ],
   "source": [
    "GurobiOptimizer().solve(prob)"
   ]
  },
  {
   "cell_type": "markdown",
   "id": "20bb864e",
   "metadata": {
    "slideshow": {
     "slide_type": "slide"
    }
   },
   "source": [
    "## SciPy MILP solver\n",
    "\n",
    "SciPy 1.9.0 (released on July 29, 2022) introduced a mixed integer linear programming (MILP) solver based on the HiGHS linear optimization software.\n",
    "\n",
    "References:\n",
    "- https://github.com/scipy/scipy/releases/tag/v1.9.0\n",
    "- https://docs.scipy.org/doc/scipy/reference/generated/scipy.optimize.milp.html\n",
    "- https://docs.scipy.org/doc/scipy/release.1.9.0.html#highlights-of-this-release\n",
    "- https://highs.dev/"
   ]
  },
  {
   "cell_type": "markdown",
   "id": "17ac932f",
   "metadata": {
    "slideshow": {
     "slide_type": "slide"
    }
   },
   "source": [
    "## QAMP 2022 Fall Project\n",
    "\n",
    "I proposed to implement an optimizer `ScipyMilpOptimizer` for Qiskit optimization based on the SciPy MILP solver. Yunzhe worked on the project and completed the base implementation. Then, I took over the PR and completed the tests and documentation. This PR has been merged and the upcoming version 0.6.0 of Qiskit optimization will include this feature.\n",
    "\n",
    "\n",
    "References\n",
    "- https://github.com/qiskit-advocate/qamp-fall-22/issues/2\n",
    "- https://github.com/Qiskit/qiskit-optimization/pull/496"
   ]
  },
  {
   "cell_type": "markdown",
   "id": "30bd4100",
   "metadata": {
    "slideshow": {
     "slide_type": "slide"
    }
   },
   "source": [
    "## `ScipyMilpOptimizer`\n",
    "\n",
    "`ScipyMilpOptimizer` is the new classical optimizer for Qiskit optimization.\n",
    "\n",
    "Pros\n",
    "- No limitation of number of variables and number of constraints\n",
    "- Supports continuous variables as well as binary and integer variables\n",
    "  - Note: standard QAOA cannot handle contiuous variables\n",
    "\n",
    "Cons\n",
    "- Supports only linear terms (quadratic terms are not allows, e.g., QUBO)\n",
    "- Performance is inferior to commercial solvers (Gurobi, CPLEX)"
   ]
  },
  {
   "cell_type": "markdown",
   "id": "27296622",
   "metadata": {
    "slideshow": {
     "slide_type": "slide"
    }
   },
   "source": [
    "## Use case: Knapsack problem\n",
    "\n",
    "You have a knapsack with a capacity and items to pack. Each item has a value and weight. You want to maximize the sum of values so that the total weight is within the capacity."
   ]
  },
  {
   "cell_type": "code",
   "execution_count": 5,
   "id": "5a08e120",
   "metadata": {
    "slideshow": {
     "slide_type": "-"
    }
   },
   "outputs": [
    {
     "name": "stdout",
     "output_type": "stream",
     "text": [
      "Problem name: Knapsack\n",
      "\n",
      "Maximize\n",
      "  x_0 + 2*x_1 + 3*x_2 + 4*x_3\n",
      "\n",
      "Subject to\n",
      "  Linear constraints (1)\n",
      "    5*x_0 + 6*x_1 + 7*x_2 + 8*x_3 <= 20  'c0'\n",
      "\n",
      "  Binary variables (4)\n",
      "    x_0 x_1 x_2 x_3\n",
      "\n"
     ]
    }
   ],
   "source": [
    "from qiskit_optimization.applications import Knapsack\n",
    "\n",
    "prob = Knapsack(\n",
    "    values = [1, 2, 3, 4],\n",
    "    weights= [5, 6, 7, 8],\n",
    "    max_weight=20\n",
    ").to_quadratic_program()\n",
    "\n",
    "print(prob.prettyprint())"
   ]
  },
  {
   "cell_type": "markdown",
   "id": "b61a8f41",
   "metadata": {
    "slideshow": {
     "slide_type": "slide"
    }
   },
   "source": [
    "You can solve this problem directly with `ScipyMilpOptimizer`."
   ]
  },
  {
   "cell_type": "code",
   "execution_count": 6,
   "id": "9a1e3ddc",
   "metadata": {
    "slideshow": {
     "slide_type": "-"
    }
   },
   "outputs": [
    {
     "name": "stdout",
     "output_type": "stream",
     "text": [
      "fval=8.0, x_0=1, x_1=0, x_2=1, x_3=1, status=SUCCESS\n"
     ]
    }
   ],
   "source": [
    "from qiskit_optimization.algorithms import ScipyMilpOptimizer\n",
    "\n",
    "milp = ScipyMilpOptimizer()\n",
    "result = milp.solve(prob)\n",
    "print(result)"
   ]
  },
  {
   "cell_type": "markdown",
   "id": "b9f0af8d",
   "metadata": {
    "slideshow": {
     "slide_type": "slide"
    }
   },
   "source": [
    "## Use case: Maxcut\n",
    "\n",
    "You want to split graph nodes into two groups and maximize the number of edges spanning them."
   ]
  },
  {
   "cell_type": "code",
   "execution_count": 7,
   "id": "a9290f49",
   "metadata": {},
   "outputs": [
    {
     "data": {
      "image/png": "[encoded data removed]",
      "text/plain": [
       "<Figure size 640x480 with 1 Axes>"
      ]
     },
     "metadata": {},
     "output_type": "display_data"
    }
   ],
   "source": [
    "from qiskit_optimization.applications import Maxcut\n",
    "import networkx as nx\n",
    "\n",
    "graph = nx.random_regular_graph(d=3, n=8, seed=123)\n",
    "maxcut = Maxcut(graph)\n",
    "pos = nx.spring_layout(graph, seed=123)\n",
    "maxcut.draw(pos=pos)"
   ]
  },
  {
   "cell_type": "code",
   "execution_count": 8,
   "id": "ed6df16c",
   "metadata": {
    "slideshow": {
     "slide_type": "slide"
    }
   },
   "outputs": [
    {
     "name": "stdout",
     "output_type": "stream",
     "text": [
      "Problem name: Max-cut\n",
      "\n",
      "Maximize\n",
      "  -2*x_0*x_1 - 2*x_0*x_4 - 2*x_0*x_5 - 2*x_1*x_6 - 2*x_1*x_7 - 2*x_2*x_5\n",
      "  - 2*x_2*x_6 - 2*x_2*x_7 - 2*x_3*x_4 - 2*x_3*x_5 - 2*x_3*x_6 - 2*x_4*x_7\n",
      "  + 3*x_0 + 3*x_1 + 3*x_2 + 3*x_3 + 3*x_4 + 3*x_5 + 3*x_6 + 3*x_7\n",
      "\n",
      "Subject to\n",
      "  No constraints\n",
      "\n",
      "  Binary variables (8)\n",
      "    x_0 x_1 x_2 x_3 x_4 x_5 x_6 x_7\n",
      "\n"
     ]
    }
   ],
   "source": [
    "prob = maxcut.to_quadratic_program()\n",
    "print(prob.prettyprint())"
   ]
  },
  {
   "cell_type": "markdown",
   "id": "9a0d7136",
   "metadata": {
    "slideshow": {
     "slide_type": "slide"
    }
   },
   "source": [
    "`ScipyMilpOptimizer` cannot solve it directly due to quadratic terms."
   ]
  },
  {
   "cell_type": "code",
   "execution_count": 9,
   "id": "a7ccc250",
   "metadata": {},
   "outputs": [
    {
     "ename": "QiskitOptimizationError",
     "evalue": "'Incompatible problem: scipy.milp supports only linear objective function'",
     "output_type": "error",
     "traceback": [
      "\u001b[0;31m---------------------------------------------------------------------------\u001b[0m",
      "\u001b[0;31mQiskitOptimizationError\u001b[0m                   Traceback (most recent call last)",
      "Cell \u001b[0;32mIn[9], line 1\u001b[0m\n\u001b[0;32m----> 1\u001b[0m result \u001b[38;5;241m=\u001b[39m \u001b[43mmilp\u001b[49m\u001b[38;5;241;43m.\u001b[39;49m\u001b[43msolve\u001b[49m\u001b[43m(\u001b[49m\u001b[43mprob\u001b[49m\u001b[43m)\u001b[49m\n",
      "File \u001b[0;32m~/tasks/3_2023/qiskit/opt/qiskit_optimization/algorithms/scipy_milp_optimizer.py:157\u001b[0m, in \u001b[0;36mScipyMilpOptimizer.solve\u001b[0;34m(self, problem)\u001b[0m\n\u001b[1;32m    141\u001b[0m \u001b[38;5;250m\u001b[39m\u001b[38;5;124;03m\"\"\"Tries to solve the given problem using the optimizer.\u001b[39;00m\n\u001b[1;32m    142\u001b[0m \n\u001b[1;32m    143\u001b[0m \u001b[38;5;124;03mRuns the optimizer to try to solve the optimization problem. If problem is not convex,\u001b[39;00m\n\u001b[0;32m   (...)\u001b[0m\n\u001b[1;32m    153\u001b[0m \u001b[38;5;124;03m    QiskitOptimizationError: If the problem is incompatible with the optimizer.\u001b[39;00m\n\u001b[1;32m    154\u001b[0m \u001b[38;5;124;03m\"\"\"\u001b[39;00m\n\u001b[1;32m    155\u001b[0m \u001b[38;5;28;01mfrom\u001b[39;00m \u001b[38;5;21;01mscipy\u001b[39;00m\u001b[38;5;21;01m.\u001b[39;00m\u001b[38;5;21;01moptimize\u001b[39;00m \u001b[38;5;28;01mimport\u001b[39;00m milp  \u001b[38;5;66;03m# pylint: disable=no-name-in-module\u001b[39;00m\n\u001b[0;32m--> 157\u001b[0m \u001b[38;5;28;43mself\u001b[39;49m\u001b[38;5;241;43m.\u001b[39;49m\u001b[43m_verify_compatibility\u001b[49m\u001b[43m(\u001b[49m\u001b[43mproblem\u001b[49m\u001b[43m)\u001b[49m\n\u001b[1;32m    159\u001b[0m objective, integrality, bounds, constraints \u001b[38;5;241m=\u001b[39m \u001b[38;5;28mself\u001b[39m\u001b[38;5;241m.\u001b[39m_generate_problem(problem)\n\u001b[1;32m    160\u001b[0m raw_result \u001b[38;5;241m=\u001b[39m milp(\n\u001b[1;32m    161\u001b[0m     c\u001b[38;5;241m=\u001b[39mobjective,\n\u001b[1;32m    162\u001b[0m     integrality\u001b[38;5;241m=\u001b[39mintegrality,\n\u001b[0;32m   (...)\u001b[0m\n\u001b[1;32m    165\u001b[0m     options\u001b[38;5;241m=\u001b[39m{\u001b[38;5;124m\"\u001b[39m\u001b[38;5;124mdisp\u001b[39m\u001b[38;5;124m\"\u001b[39m: \u001b[38;5;28mself\u001b[39m\u001b[38;5;241m.\u001b[39m_disp},\n\u001b[1;32m    166\u001b[0m )\n",
      "File \u001b[0;32m~/tasks/3_2023/qiskit/opt/qiskit_optimization/algorithms/optimization_algorithm.py:355\u001b[0m, in \u001b[0;36mOptimizationAlgorithm._verify_compatibility\u001b[0;34m(self, problem)\u001b[0m\n\u001b[1;32m    353\u001b[0m msg \u001b[38;5;241m=\u001b[39m \u001b[38;5;28mself\u001b[39m\u001b[38;5;241m.\u001b[39mget_compatibility_msg(problem)\n\u001b[1;32m    354\u001b[0m \u001b[38;5;28;01mif\u001b[39;00m msg:\n\u001b[0;32m--> 355\u001b[0m     \u001b[38;5;28;01mraise\u001b[39;00m QiskitOptimizationError(\u001b[38;5;124mf\u001b[39m\u001b[38;5;124m\"\u001b[39m\u001b[38;5;124mIncompatible problem: \u001b[39m\u001b[38;5;132;01m{\u001b[39;00mmsg\u001b[38;5;132;01m}\u001b[39;00m\u001b[38;5;124m\"\u001b[39m)\n",
      "\u001b[0;31mQiskitOptimizationError\u001b[0m: 'Incompatible problem: scipy.milp supports only linear objective function'"
     ]
    }
   ],
   "source": [
    "result = milp.solve(prob)"
   ]
  },
  {
   "cell_type": "markdown",
   "id": "90f8ea98",
   "metadata": {
    "slideshow": {
     "slide_type": "slide"
    }
   },
   "source": [
    "## Convert quadratic terms into linear terms\n",
    "\n",
    "There is a well-known technique to linearize quadratic terms of binary variables as follows (aka McCormick linearization).\n",
    "Assume that $x$ and $y$ are binary variables and $z = x \\cdot y$.\n",
    "\n",
    "$$\n",
    "\\begin{align}\n",
    "z &\\leq x,\\\\\n",
    "z &\\leq y,\\\\\n",
    "z &\\geq x + y - 1,\\\\\n",
    "z &\\in [0, 1].\n",
    "\\end{align}\n",
    "$$"
   ]
  },
  {
   "cell_type": "code",
   "execution_count": 10,
   "id": "75392c34",
   "metadata": {
    "slideshow": {
     "slide_type": "slide"
    }
   },
   "outputs": [],
   "source": [
    "def quadratic_to_linear(problem: QuadraticProgram) -> QuadraticProgram:\n",
    "    new_prob = QuadraticProgram(problem.name)\n",
    "    for x in problem.variables:\n",
    "        new_prob._add_variable(x.lowerbound, x.upperbound, x.vartype, x.name)\n",
    "    obj = problem.objective\n",
    "    lin = obj.linear.to_dict(use_name=True)\n",
    "    quad = obj.quadratic.to_dict(use_name=True)\n",
    "    prod = {}\n",
    "    for (x, y), coeff in quad.items():\n",
    "        name = f\"{x}_AND_{y}\"\n",
    "        prod[x, y] = name\n",
    "        new_prob.continuous_var(0, 1, name)\n",
    "        lin[name] = coeff\n",
    "    for (x, y), name in prod.items():\n",
    "        new_prob.linear_constraint({name: 1, x: -1}, \"<=\", 0)\n",
    "        new_prob.linear_constraint({name: 1, y: -1}, \"<=\", 0)\n",
    "        new_prob.linear_constraint({name: 1, x: -1, y: -1}, \">=\", -1)\n",
    "    if obj.sense == obj.sense.MAXIMIZE:\n",
    "        new_prob.maximize(obj.constant, lin)\n",
    "    else:\n",
    "        new_prob.minimize(obj.constant, lin)\n",
    "    return new_prob"
   ]
  },
  {
   "cell_type": "markdown",
   "id": "8b6e5b59",
   "metadata": {
    "slideshow": {
     "slide_type": "slide"
    }
   },
   "source": [
    "Let's convert the maxcut problem instance into a new problem w/o quadratic terms."
   ]
  },
  {
   "cell_type": "code",
   "execution_count": 11,
   "id": "3b676dc0",
   "metadata": {
    "slideshow": {
     "slide_type": "-"
    }
   },
   "outputs": [
    {
     "name": "stdout",
     "output_type": "stream",
     "text": [
      "Problem name: Max-cut\n",
      "\n",
      "Maximize\n",
      "  3*x_0 - 2*x_0_AND_x_1 - 2*x_0_AND_x_4 - 2*x_0_AND_x_5 + 3*x_1 - 2*x_1_AND_x_6\n",
      "  - 2*x_1_AND_x_7 + 3*x_2 - 2*x_2_AND_x_5 - 2*x_2_AND_x_6 - 2*x_2_AND_x_7\n",
      "  + 3*x_3 - 2*x_3_AND_x_4 - 2*x_3_AND_x_5 - 2*x_3_AND_x_6 + 3*x_4\n",
      "  - 2*x_4_AND_x_7 + 3*x_5 + 3*x_6 + 3*x_7\n",
      "\n",
      "Subject to\n",
      "  Linear constraints (36)\n",
      "    -x_0 + x_0_AND_x_1 <= 0  'c0'\n",
      "    x_0_AND_x_1 - x_1 <= 0  'c1'\n",
      "    -x_0 + x_0_AND_x_1 - x_1 >= -1  'c2'\n",
      "    -x_0 + x_0_AND_x_4 <= 0  'c3'\n",
      "    x_0_AND_x_4 - x_4 <= 0  'c4'\n",
      "    -x_0 + x_0_AND_x_4 - x_4 >= -1  'c5'\n",
      "    -x_3 + x_3_AND_x_4 <= 0  'c6'\n",
      "    x_3_AND_x_4 - x_4 <= 0  'c7'\n",
      "    -x_3 + x_3_AND_x_4 - x_4 >= -1  'c8'\n",
      "    -x_0 + x_0_AND_x_5 <= 0  'c9'\n",
      "    x_0_AND_x_5 - x_5 <= 0  'c10'\n",
      "    -x_0 + x_0_AND_x_5 - x_5 >= -1  'c11'\n",
      "    -x_2 + x_2_AND_x_5 <= 0  'c12'\n",
      "    x_2_AND_x_5 - x_5 <= 0  'c13'\n",
      "    -x_2 + x_2_AND_x_5 - x_5 >= -1  'c14'\n",
      "    -x_3 + x_3_AND_x_5 <= 0  'c15'\n",
      "    x_3_AND_x_5 - x_5 <= 0  'c16'\n",
      "    -x_3 + x_3_AND_x_5 - x_5 >= -1  'c17'\n",
      "    -x_1 + x_1_AND_x_6 <= 0  'c18'\n",
      "    x_1_AND_x_6 - x_6 <= 0  'c19'\n",
      "    -x_1 + x_1_AND_x_6 - x_6 >= -1  'c20'\n",
      "    -x_2 + x_2_AND_x_6 <= 0  'c21'\n",
      "    x_2_AND_x_6 - x_6 <= 0  'c22'\n",
      "    -x_2 + x_2_AND_x_6 - x_6 >= -1  'c23'\n",
      "    -x_3 + x_3_AND_x_6 <= 0  'c24'\n",
      "    x_3_AND_x_6 - x_6 <= 0  'c25'\n",
      "    -x_3 + x_3_AND_x_6 - x_6 >= -1  'c26'\n",
      "    -x_1 + x_1_AND_x_7 <= 0  'c27'\n",
      "    x_1_AND_x_7 - x_7 <= 0  'c28'\n",
      "    -x_1 + x_1_AND_x_7 - x_7 >= -1  'c29'\n",
      "    -x_2 + x_2_AND_x_7 <= 0  'c30'\n",
      "    x_2_AND_x_7 - x_7 <= 0  'c31'\n",
      "    -x_2 + x_2_AND_x_7 - x_7 >= -1  'c32'\n",
      "    -x_4 + x_4_AND_x_7 <= 0  'c33'\n",
      "    x_4_AND_x_7 - x_7 <= 0  'c34'\n",
      "    -x_4 + x_4_AND_x_7 - x_7 >= -1  'c35'\n",
      "\n",
      "  Continuous variables (12)\n",
      "    0 <= x_0_AND_x_1 <= 1\n",
      "    0 <= x_0_AND_x_4 <= 1\n",
      "    0 <= x_3_AND_x_4 <= 1\n",
      "    0 <= x_0_AND_x_5 <= 1\n",
      "    0 <= x_2_AND_x_5 <= 1\n",
      "    0 <= x_3_AND_x_5 <= 1\n",
      "    0 <= x_1_AND_x_6 <= 1\n",
      "    0 <= x_2_AND_x_6 <= 1\n",
      "    0 <= x_3_AND_x_6 <= 1\n",
      "    0 <= x_1_AND_x_7 <= 1\n",
      "    0 <= x_2_AND_x_7 <= 1\n",
      "    0 <= x_4_AND_x_7 <= 1\n",
      "\n",
      "  Binary variables (8)\n",
      "    x_0 x_1 x_2 x_3 x_4 x_5 x_6 x_7\n",
      "\n"
     ]
    }
   ],
   "source": [
    "new_prob = quadratic_to_linear(prob)\n",
    "print(new_prob.prettyprint())"
   ]
  },
  {
   "cell_type": "markdown",
   "id": "d5dfae63",
   "metadata": {
    "slideshow": {
     "slide_type": "slide"
    }
   },
   "source": [
    "`ScipyMilpOptimizer` can solve the new problem."
   ]
  },
  {
   "cell_type": "code",
   "execution_count": 12,
   "id": "28cd9f8e",
   "metadata": {
    "slideshow": {
     "slide_type": "-"
    }
   },
   "outputs": [
    {
     "name": "stdout",
     "output_type": "stream",
     "text": [
      "fval=10.0, x_0=1.0, x_1=1.0, x_2=1.0, x_3=1.0, x_4=0.0, x_5=0.0, x_6=0.0, x_7=0.0, x_0_AND_x_1=0.9999999999999999, x_0_AND_x_4=0.0, x_3_AND_x_4=0.0, x_0_AND_x_5=0.0, x_2_AND_x_5=0.0, x_3_AND_x_5=0.0, x_1_AND_x_6=0.0, x_2_AND_x_6=0.0, x_3_AND_x_6=0.0, x_1_AND_x_7=0.0, x_2_AND_x_7=0.0, x_4_AND_x_7=0.0, status=SUCCESS\n"
     ]
    }
   ],
   "source": [
    "result = milp.solve(new_prob)\n",
    "print(result)"
   ]
  },
  {
   "cell_type": "code",
   "execution_count": 13,
   "id": "66e1068a",
   "metadata": {},
   "outputs": [
    {
     "data": {
      "image/png": "[encoded data removed]",
      "text/plain": [
       "<Figure size 640x480 with 1 Axes>"
      ]
     },
     "metadata": {},
     "output_type": "display_data"
    }
   ],
   "source": [
    "maxcut.draw(result.x[:prob.get_num_vars()], pos)"
   ]
  },
  {
   "cell_type": "markdown",
   "id": "c4fcf1d0",
   "metadata": {
    "slideshow": {
     "slide_type": "slide"
    }
   },
   "source": [
    "Let's compare the result with that by Gurobi. The objective function value (`fval`) is same."
   ]
  },
  {
   "cell_type": "code",
   "execution_count": 14,
   "id": "420b5aef",
   "metadata": {
    "slideshow": {
     "slide_type": "-"
    }
   },
   "outputs": [
    {
     "name": "stdout",
     "output_type": "stream",
     "text": [
      "fval=10.0, x_0=0.0, x_1=1.0, x_2=1.0, x_3=0.0, x_4=1.0, x_5=1.0, x_6=0.0, x_7=0.0, status=SUCCESS\n"
     ]
    }
   ],
   "source": [
    "result = GurobiOptimizer().solve(prob)\n",
    "print(result)"
   ]
  },
  {
   "cell_type": "code",
   "execution_count": 15,
   "id": "50d335dc",
   "metadata": {},
   "outputs": [
    {
     "data": {
      "image/png": "[encoded data removed]",
      "text/plain": [
       "<Figure size 640x480 with 1 Axes>"
      ]
     },
     "metadata": {},
     "output_type": "display_data"
    }
   ],
   "source": [
    "maxcut.draw(result, pos)"
   ]
  },
  {
   "cell_type": "code",
   "execution_count": null,
   "id": "019142d8",
   "metadata": {},
   "outputs": [],
   "source": []
  }
 ],
 "metadata": {
  "celltoolbar": "Slideshow",
  "kernelspec": {
   "display_name": "Python 3 (ipykernel)",
   "language": "python",
   "name": "python3"
  },
  "language_info": {
   "codemirror_mode": {
    "name": "ipython",
    "version": 3
   },
   "file_extension": ".py",
   "mimetype": "text/x-python",
   "name": "python",
   "nbconvert_exporter": "python",
   "pygments_lexer": "ipython3",
   "version": "3.10.11"
  }
 },
 "nbformat": 4,
 "nbformat_minor": 5
}
