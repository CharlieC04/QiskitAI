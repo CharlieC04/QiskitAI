{
 "cells": [
  {
   "cell_type": "markdown",
   "id": "73e759a9",
   "metadata": {
    "ExecuteTime": {
     "end_time": "2023-03-03T15:54:38.809315Z",
     "start_time": "2023-03-03T15:54:38.321245Z"
    }
   },
   "source": [
    "# Unrolling for-loops\n",
    "https://github.com/Qiskit/qiskit-terra/pull/9670"
   ]
  },
  {
   "cell_type": "code",
   "execution_count": 2,
   "id": "56f103cc",
   "metadata": {
    "ExecuteTime": {
     "end_time": "2023-03-09T15:45:15.339791Z",
     "start_time": "2023-03-09T15:45:15.335968Z"
    }
   },
   "outputs": [],
   "source": [
    "from qiskit.circuit import *"
   ]
  },
  {
   "cell_type": "code",
   "execution_count": 3,
   "id": "b5b5ceb0",
   "metadata": {
    "ExecuteTime": {
     "end_time": "2023-03-09T15:45:18.044228Z",
     "start_time": "2023-03-09T15:45:17.964204Z"
    },
    "scrolled": true
   },
   "outputs": [
    {
     "name": "stdout",
     "output_type": "stream",
     "text": [
      "                  \n",
      "q_0: ─────────────\n",
      "     ┌───────────┐\n",
      "q_1: ┤0          ├\n",
      "     │           │\n",
      "q_2: ┤1          ├\n",
      "     │           │\n",
      "q_3: ┤2          ├\n",
      "     │  For_loop │\n",
      "q_4: ┤           ├\n",
      "     │           │\n",
      "c_0: ╡           ╞\n",
      "     │           │\n",
      "c_1: ╡0          ╞\n",
      "     └───────────┘\n"
     ]
    }
   ],
   "source": [
    "qreg, creg = QuantumRegister(5, \"q\"), ClassicalRegister(2, \"c\")\n",
    "\n",
    "body = QuantumCircuit(3, 1)\n",
    "loop_parameter = Parameter(\"foo\")\n",
    "indexset = range(0, 10, 2)\n",
    "\n",
    "body.rx(loop_parameter, [0, 1, 2])\n",
    "\n",
    "circuit = QuantumCircuit(qreg, creg)\n",
    "circuit.for_loop(indexset, loop_parameter, body, [1, 2, 3], [1])\n",
    "print(circuit.draw())"
   ]
  },
  {
   "cell_type": "code",
   "execution_count": 4,
   "id": "a4e28f2d",
   "metadata": {
    "ExecuteTime": {
     "end_time": "2023-03-09T15:45:31.556183Z",
     "start_time": "2023-03-09T15:45:30.780265Z"
    }
   },
   "outputs": [
    {
     "name": "stdout",
     "output_type": "stream",
     "text": [
      "OPENQASM 3;\n",
      "include \"stdgates.inc\";\n",
      "bit[2] c;\n",
      "qubit[5] _all_qubits;\n",
      "let q = _all_qubits[0:4];\n",
      "for foo in [0:2:9] {\n",
      "  rx(foo) q[1];\n",
      "  rx(foo) q[2];\n",
      "  rx(foo) q[3];\n",
      "}\n",
      "\n"
     ]
    }
   ],
   "source": [
    "from qiskit.qasm3 import dumps\n",
    "print(dumps(circuit))"
   ]
  },
  {
   "cell_type": "code",
   "execution_count": 5,
   "id": "c83864ce",
   "metadata": {
    "ExecuteTime": {
     "end_time": "2023-03-09T15:45:47.665955Z",
     "start_time": "2023-03-09T15:45:47.614098Z"
    }
   },
   "outputs": [],
   "source": [
    "from qiskit.transpiler.passes import UnrollForLoops\n",
    "circuit_unroll = UnrollForLoops()(circuit)"
   ]
  },
  {
   "cell_type": "code",
   "execution_count": 6,
   "id": "32692cef",
   "metadata": {
    "ExecuteTime": {
     "end_time": "2023-03-09T15:45:49.341851Z",
     "start_time": "2023-03-09T15:45:49.315031Z"
    }
   },
   "outputs": [
    {
     "name": "stdout",
     "output_type": "stream",
     "text": [
      "OPENQASM 3;\n",
      "include \"stdgates.inc\";\n",
      "bit[2] c;\n",
      "qubit[5] _all_qubits;\n",
      "let q = _all_qubits[0:4];\n",
      "rx(0) q[1];\n",
      "rx(2) q[1];\n",
      "rx(4) q[1];\n",
      "rx(6) q[1];\n",
      "rx(8) q[1];\n",
      "rx(0) q[2];\n",
      "rx(2) q[2];\n",
      "rx(4) q[2];\n",
      "rx(6) q[2];\n",
      "rx(8) q[2];\n",
      "rx(0) q[3];\n",
      "rx(2) q[3];\n",
      "rx(4) q[3];\n",
      "rx(6) q[3];\n",
      "rx(8) q[3];\n",
      "\n"
     ]
    },
    {
     "data": {
      "text/html": [
       "<pre style=\"word-wrap: normal;white-space: pre;background: #fff0;line-height: 1.1;font-family: &quot;Courier New&quot;,Courier,monospace\">                                                  \n",
       "q_0: ─────────────────────────────────────────────\n",
       "     ┌───────┐┌───────┐┌───────┐┌───────┐┌───────┐\n",
       "q_1: ┤ Rx(0) ├┤ Rx(2) ├┤ Rx(4) ├┤ Rx(6) ├┤ Rx(8) ├\n",
       "     ├───────┤├───────┤├───────┤├───────┤├───────┤\n",
       "q_2: ┤ Rx(0) ├┤ Rx(2) ├┤ Rx(4) ├┤ Rx(6) ├┤ Rx(8) ├\n",
       "     ├───────┤├───────┤├───────┤├───────┤├───────┤\n",
       "q_3: ┤ Rx(0) ├┤ Rx(2) ├┤ Rx(4) ├┤ Rx(6) ├┤ Rx(8) ├\n",
       "     └───────┘└───────┘└───────┘└───────┘└───────┘\n",
       "q_4: ─────────────────────────────────────────────\n",
       "                                                  \n",
       "c: 2/═════════════════════════════════════════════\n",
       "                                                  </pre>"
      ],
      "text/plain": [
       "                                                  \n",
       "q_0: ─────────────────────────────────────────────\n",
       "     ┌───────┐┌───────┐┌───────┐┌───────┐┌───────┐\n",
       "q_1: ┤ Rx(0) ├┤ Rx(2) ├┤ Rx(4) ├┤ Rx(6) ├┤ Rx(8) ├\n",
       "     ├───────┤├───────┤├───────┤├───────┤├───────┤\n",
       "q_2: ┤ Rx(0) ├┤ Rx(2) ├┤ Rx(4) ├┤ Rx(6) ├┤ Rx(8) ├\n",
       "     ├───────┤├───────┤├───────┤├───────┤├───────┤\n",
       "q_3: ┤ Rx(0) ├┤ Rx(2) ├┤ Rx(4) ├┤ Rx(6) ├┤ Rx(8) ├\n",
       "     └───────┘└───────┘└───────┘└───────┘└───────┘\n",
       "q_4: ─────────────────────────────────────────────\n",
       "                                                  \n",
       "c: 2/═════════════════════════════════════════════\n",
       "                                                  "
      ]
     },
     "execution_count": 6,
     "metadata": {},
     "output_type": "execute_result"
    }
   ],
   "source": [
    "print(dumps(circuit_unroll))\n",
    "circuit_unroll.draw()"
   ]
  },
  {
   "cell_type": "code",
   "execution_count": 7,
   "id": "b667c7b1",
   "metadata": {
    "ExecuteTime": {
     "end_time": "2023-03-09T15:46:31.436488Z",
     "start_time": "2023-03-09T15:46:31.428761Z"
    },
    "scrolled": true
   },
   "outputs": [
    {
     "name": "stdout",
     "output_type": "stream",
     "text": [
      "OPENQASM 3;\n",
      "include \"stdgates.inc\";\n",
      "bit[2] c;\n",
      "qubit[5] _all_qubits;\n",
      "let q = _all_qubits[0:4];\n",
      "for foo in [0:2:9] {\n",
      "  rx(foo) q[1];\n",
      "  rx(foo) q[2];\n",
      "  rx(foo) q[3];\n",
      "}\n",
      "\n"
     ]
    }
   ],
   "source": [
    "print(dumps(UnrollForLoops(max_target_depth=4)(circuit)))"
   ]
  },
  {
   "cell_type": "code",
   "execution_count": 8,
   "id": "a41384a4",
   "metadata": {
    "ExecuteTime": {
     "end_time": "2023-03-09T15:46:43.903542Z",
     "start_time": "2023-03-09T15:46:43.765027Z"
    },
    "scrolled": true
   },
   "outputs": [
    {
     "data": {
      "text/html": [
       "<pre style=\"word-wrap: normal;white-space: pre;background: #fff0;line-height: 1.1;font-family: &quot;Courier New&quot;,Courier,monospace\">                  \n",
       "q_0: ─────────────\n",
       "     ┌───────────┐\n",
       "q_1: ┤0          ├\n",
       "     │           │\n",
       "q_2: ┤1          ├\n",
       "     │           │\n",
       "q_3: ┤2          ├\n",
       "     │  For_loop │\n",
       "q_4: ┤           ├\n",
       "     │           │\n",
       "c_0: ╡           ╞\n",
       "     │           │\n",
       "c_1: ╡0          ╞\n",
       "     └───────────┘</pre>"
      ],
      "text/plain": [
       "                  \n",
       "q_0: ─────────────\n",
       "     ┌───────────┐\n",
       "q_1: ┤0          ├\n",
       "     │           │\n",
       "q_2: ┤1          ├\n",
       "     │           │\n",
       "q_3: ┤2          ├\n",
       "     │  For_loop │\n",
       "q_4: ┤           ├\n",
       "     │           │\n",
       "c_0: ╡           ╞\n",
       "     │           │\n",
       "c_1: ╡0          ╞\n",
       "     └───────────┘"
      ]
     },
     "execution_count": 8,
     "metadata": {},
     "output_type": "execute_result"
    }
   ],
   "source": [
    "from qiskit.transpiler.preset_passmanagers import generate_preset_pass_manager\n",
    "\n",
    "pass_manager = generate_preset_pass_manager(1)\n",
    "pass_manager.run(circuit).draw()"
   ]
  },
  {
   "cell_type": "code",
   "execution_count": 9,
   "id": "a2671861",
   "metadata": {
    "ExecuteTime": {
     "end_time": "2023-03-09T15:46:56.926150Z",
     "start_time": "2023-03-09T15:46:56.869326Z"
    }
   },
   "outputs": [
    {
     "data": {
      "text/html": [
       "<pre style=\"word-wrap: normal;white-space: pre;background: #fff0;line-height: 1.1;font-family: &quot;Courier New&quot;,Courier,monospace\">global phase: π\n",
       "                            \n",
       "q_0: ───────────────────────\n",
       "     ┌─────────────────────┐\n",
       "q_1: ┤ U3(1.1504,-π/2,π/2) ├\n",
       "     ├─────────────────────┤\n",
       "q_2: ┤ U3(1.1504,-π/2,π/2) ├\n",
       "     ├─────────────────────┤\n",
       "q_3: ┤ U3(1.1504,-π/2,π/2) ├\n",
       "     └─────────────────────┘\n",
       "q_4: ───────────────────────\n",
       "                            \n",
       "c: 2/═══════════════════════\n",
       "                            </pre>"
      ],
      "text/plain": [
       "global phase: π\n",
       "                            \n",
       "q_0: ───────────────────────\n",
       "     ┌─────────────────────┐\n",
       "q_1: ┤ U3(1.1504,-π/2,π/2) ├\n",
       "     ├─────────────────────┤\n",
       "q_2: ┤ U3(1.1504,-π/2,π/2) ├\n",
       "     ├─────────────────────┤\n",
       "q_3: ┤ U3(1.1504,-π/2,π/2) ├\n",
       "     └─────────────────────┘\n",
       "q_4: ───────────────────────\n",
       "                            \n",
       "c: 2/═══════════════════════\n",
       "                            "
      ]
     },
     "execution_count": 9,
     "metadata": {},
     "output_type": "execute_result"
    }
   ],
   "source": [
    "pass_manager.pre_optimization.append(UnrollForLoops())\n",
    "pass_manager.run(circuit).draw()"
   ]
  },
  {
   "cell_type": "code",
   "execution_count": 10,
   "id": "66e58bbe",
   "metadata": {
    "ExecuteTime": {
     "end_time": "2023-03-09T15:47:26.878138Z",
     "start_time": "2023-03-09T15:47:26.851524Z"
    }
   },
   "outputs": [
    {
     "name": "stdout",
     "output_type": "stream",
     "text": [
      "OPENQASM 3;\n",
      "include \"stdgates.inc\";\n",
      "bit[1] c;\n",
      "qubit[2] _all_qubits;\n",
      "let q = _all_qubits[0:1];\n",
      "for _loop_i_0 in [0:4] {\n",
      "  rx(pi/4*_loop_i_0) q[0];\n",
      "  cx q[0], q[1];\n",
      "  c[0] = measure q[0];\n",
      "  if (c[0] == 1) {\n",
      "    break;\n",
      "  }\n",
      "}\n",
      "\n"
     ]
    }
   ],
   "source": [
    "# skip when continue and break\n",
    "import math\n",
    "from qiskit import QuantumCircuit\n",
    "qc = QuantumCircuit(2, 1)\n",
    "\n",
    "with qc.for_loop(range(5)) as i:\n",
    "    qc.rx(i * math.pi/4, 0)\n",
    "    qc.cx(0, 1)\n",
    "    qc.measure(0, 0)\n",
    "    qc.break_loop().c_if(0, True)\n",
    "print(dumps(qc))"
   ]
  },
  {
   "cell_type": "code",
   "execution_count": 11,
   "id": "f7533df6",
   "metadata": {
    "ExecuteTime": {
     "end_time": "2023-03-09T15:47:32.169520Z",
     "start_time": "2023-03-09T15:47:32.154097Z"
    }
   },
   "outputs": [
    {
     "name": "stdout",
     "output_type": "stream",
     "text": [
      "OPENQASM 3;\n",
      "include \"stdgates.inc\";\n",
      "bit[1] c;\n",
      "qubit[2] _all_qubits;\n",
      "let q = _all_qubits[0:1];\n",
      "for _loop_i_0 in [0:4] {\n",
      "  rx(pi/4*_loop_i_0) q[0];\n",
      "  cx q[0], q[1];\n",
      "  c[0] = measure q[0];\n",
      "  if (c[0] == 1) {\n",
      "    break;\n",
      "  }\n",
      "}\n",
      "\n"
     ]
    }
   ],
   "source": [
    "print(dumps(UnrollForLoops()(qc)))"
   ]
  },
  {
   "cell_type": "code",
   "execution_count": null,
   "id": "e0daa647",
   "metadata": {},
   "outputs": [],
   "source": []
  }
 ],
 "metadata": {
  "kernelspec": {
   "display_name": "Python 3",
   "language": "python",
   "name": "python3"
  },
  "language_info": {
   "codemirror_mode": {
    "name": "ipython",
    "version": 3
   },
   "file_extension": ".py",
   "mimetype": "text/x-python",
   "name": "python",
   "nbconvert_exporter": "python",
   "pygments_lexer": "ipython3",
   "version": "3.9.13"
  }
 },
 "nbformat": 4,
 "nbformat_minor": 5
}
