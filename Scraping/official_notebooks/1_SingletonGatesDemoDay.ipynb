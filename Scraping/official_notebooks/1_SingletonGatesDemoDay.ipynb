{
 "cells": [
  {
   "cell_type": "code",
   "execution_count": 1,
   "id": "83db9127",
   "metadata": {},
   "outputs": [
    {
     "data": {
      "text/plain": [
       "'0.25.0.dev0+c29887a'"
      ]
     },
     "execution_count": 1,
     "metadata": {},
     "output_type": "execute_result"
    }
   ],
   "source": [
    "import qiskit\n",
    "qiskit.__version__"
   ]
  },
  {
   "cell_type": "markdown",
   "id": "59e73445",
   "metadata": {},
   "source": [
    "# Why singletons?"
   ]
  },
  {
   "cell_type": "code",
   "execution_count": 2,
   "id": "e37c6a53",
   "metadata": {},
   "outputs": [
    {
     "name": "stdout",
     "output_type": "stream",
     "text": [
      "name: x\n",
      "\n",
      "params: []\n",
      "\n",
      "matrix:\n",
      "[[0.+0.j 1.+0.j]\n",
      " [1.+0.j 0.+0.j]]\n",
      "\n",
      "definition:\n",
      "   ┌───────────┐\n",
      "q: ┤ U3(π,0,π) ├\n",
      "   └───────────┘\n",
      "\n"
     ]
    }
   ],
   "source": [
    "from qiskit.circuit.library import XGate\n",
    "gate = XGate()\n",
    "print(f\"name: {gate.name}\\n\")\n",
    "print(f\"params: {gate.params}\\n\")\n",
    "print(f\"matrix:\\n{gate.to_matrix()}\\n\")\n",
    "print(f\"definition:\\n{gate.definition}\\n\")"
   ]
  },
  {
   "cell_type": "code",
   "execution_count": 3,
   "id": "20d71335",
   "metadata": {},
   "outputs": [
    {
     "name": "stdout",
     "output_type": "stream",
     "text": [
      "name: x\n",
      "\n",
      "params: []\n",
      "\n",
      "matrix:\n",
      "[[0.+0.j 1.+0.j]\n",
      " [1.+0.j 0.+0.j]]\n",
      "\n",
      "definition:\n",
      "   ┌───────────┐\n",
      "q: ┤ U3(π,0,π) ├\n",
      "   └───────────┘\n",
      "\n"
     ]
    }
   ],
   "source": [
    "new_gate = XGate()\n",
    "print(f\"name: {gate.name}\\n\")\n",
    "print(f\"params: {gate.params}\\n\")\n",
    "print(f\"matrix:\\n{gate.to_matrix()}\\n\")\n",
    "print(f\"definition:\\n{gate.definition}\\n\")"
   ]
  },
  {
   "cell_type": "markdown",
   "id": "cb52d185",
   "metadata": {},
   "source": [
    "Previously, every time you ran `XGate()` (or `QuantumCircuit.x(...)`) it creates a new object in memory to represent the same exact thing. This adds up as the number of instructions in the circuit grows."
   ]
  },
  {
   "cell_type": "markdown",
   "id": "9d6ac301",
   "metadata": {},
   "source": [
    "# Implementation in [#10134](https://github.com/Qiskit/qiskit-terra/pull/10314)\n",
    "\n",
    "This PR introduces a new class `SingletonGate` which enables using a global shared instance for repeated instances of the class. The parent class for standard library gates that don't take a parameter and aren't a subclass of `ControlledGate`. This includes:\n",
    "\n",
    "\n",
    "* `DCXGate`\n",
    "* `ECRGate`\n",
    "* `HGate`\n",
    "* `IGate`\n",
    "* `iSwapGate`\n",
    "* `SGate`\n",
    "* `SdgGate`\n",
    "* `SwapGate`\n",
    "* `SXGate`\n",
    "* `SXdgGate`\n",
    "* `TGate`\n",
    "* `TdgGate`\n",
    "* `XGate`\n",
    "* `RCCXGate`\n",
    "* `RC3XGate`\n",
    "* `YGate`\n",
    "* `ZGate`"
   ]
  },
  {
   "cell_type": "code",
   "execution_count": 4,
   "id": "c8337a20",
   "metadata": {},
   "outputs": [
    {
     "data": {
      "text/plain": [
       "True"
      ]
     },
     "execution_count": 4,
     "metadata": {},
     "output_type": "execute_result"
    }
   ],
   "source": [
    "XGate() is XGate() is XGate() is XGate() is XGate() is XGate() is XGate() is XGate() is XGate() is XGate()"
   ]
  },
  {
   "cell_type": "markdown",
   "id": "b04bfe87",
   "metadata": {},
   "source": [
    "However the Qiskit circuit data model allows for certain fields to customize an instance. This can't be used with a shared single object."
   ]
  },
  {
   "cell_type": "code",
   "execution_count": 5,
   "id": "c9d30d19",
   "metadata": {},
   "outputs": [
    {
     "name": "stdout",
     "output_type": "stream",
     "text": [
      "This gate class <class 'qiskit.circuit.library.standard_gates.x.XGate'> does not support manually setting a label on an instance. Instead you must set the label when instantiating a new object.\n"
     ]
    }
   ],
   "source": [
    "try:\n",
    "    XGate().label = \"My Extra Special XGate made with secret sauce\"\n",
    "except NotImplementedError as e:\n",
    "    print(e)"
   ]
  },
  {
   "cell_type": "code",
   "execution_count": 6,
   "id": "e7741484",
   "metadata": {},
   "outputs": [
    {
     "name": "stdout",
     "output_type": "stream",
     "text": [
      "My Extra Special XGate made with secret sauce\n",
      "Shared object: False\n"
     ]
    }
   ],
   "source": [
    "labelled_gate = XGate(label=\"My Extra Special XGate made with secret sauce\")\n",
    "print(labelled_gate.label)\n",
    "print(f\"Shared object: {labelled_gate is XGate()}\")"
   ]
  },
  {
   "cell_type": "code",
   "execution_count": 7,
   "id": "2f3655d0",
   "metadata": {},
   "outputs": [
    {
     "data": {
      "text/plain": [
       "False"
      ]
     },
     "execution_count": 7,
     "metadata": {},
     "output_type": "execute_result"
    }
   ],
   "source": [
    "gate = XGate()\n",
    "gate.mutable"
   ]
  },
  {
   "cell_type": "code",
   "execution_count": 8,
   "id": "c23cfdb1",
   "metadata": {},
   "outputs": [
    {
     "name": "stdout",
     "output_type": "stream",
     "text": [
      "My Extra Special XGate made with secret sauce\n",
      "Shared object: False\n"
     ]
    }
   ],
   "source": [
    "mutable_gate = gate.to_mutable()\n",
    "mutable_gate.label = \"My Extra Special XGate made with secret sauce\"\n",
    "print(mutable_gate.label)\n",
    "print(f\"Shared object: {mutable_gate is XGate()}\")"
   ]
  },
  {
   "cell_type": "markdown",
   "id": "dd95cac8",
   "metadata": {},
   "source": [
    "While only label is shown here this also applies to `.condition`, `.unit`, and `.duration` which are the other optional state that can be attached to a specific instance of a gate object. The one special case is `.c_if` which can still work as before to apply a condition to an existing gate, it always returned a new object and this continues to work as before."
   ]
  },
  {
   "cell_type": "code",
   "execution_count": 9,
   "id": "7aa8e37b",
   "metadata": {},
   "outputs": [
    {
     "name": "stdout",
     "output_type": "stream",
     "text": [
      "(<qiskit.circuit.classicalregister.Clbit object at 0x7f1f576f2080>, False)\n",
      "Shared object: False\n"
     ]
    }
   ],
   "source": [
    "from qiskit.circuit import Clbit\n",
    "gate = XGate()\n",
    "conditional_gate = gate.c_if(Clbit(), 0)\n",
    "print(conditional_gate.condition)\n",
    "print(f\"Shared object: {conditional_gate is XGate()}\")"
   ]
  },
  {
   "cell_type": "code",
   "execution_count": 10,
   "id": "0986e2f5",
   "metadata": {},
   "outputs": [
    {
     "name": "stdout",
     "output_type": "stream",
     "text": [
      "        ┌───┐   \n",
      "  q: ───┤ X ├───\n",
      "        └─╥─┘   \n",
      "     ┌────╨────┐\n",
      "c: 1/╡ c_0=0x1 ╞\n",
      "     └─────────┘\n"
     ]
    }
   ],
   "source": [
    "from qiskit.circuit import QuantumCircuit\n",
    "qc = QuantumCircuit(1, 1)\n",
    "qc.x(0).c_if(qc.clbits[0], 1)\n",
    "print(qc)"
   ]
  },
  {
   "cell_type": "code",
   "execution_count": 11,
   "id": "93be0bcf",
   "metadata": {
    "scrolled": true
   },
   "outputs": [
    {
     "name": "stdout",
     "output_type": "stream",
     "text": [
      "False\n"
     ]
    }
   ],
   "source": [
    "print(qc.data[0].operation is XGate())"
   ]
  },
  {
   "cell_type": "markdown",
   "id": "e5f92bd0",
   "metadata": {},
   "source": [
    "[#10314](https://github.com/Qiskit/qiskit-terra/pull/10314) uses the new `SingletonGate` class as the parent for all the standard library gates in Qiskit which do not take a parameter and are not a subclass of `ControlledGate`.\n",
    "\n",
    "The next steps will be to expand this for standard library `ControlledGate` subclasses as there are 2 concrete instances for each of those (based on the control state). Following on from that to enable singletons for gates that take parameters is more complicated as the parameter value makes each instance unique. The path I'm considering is to store a unique instance for each parameter value, in other words there is a shared instance for each time `RZGate(pi/2)` is instantiated, and if you then run `RZGate(pi)` that will be a separate global shared instance. There is longer term work looking at changing the data model to faciliate more memory efficient usage of parameterized gates."
   ]
  },
  {
   "cell_type": "markdown",
   "id": "3b6d2176",
   "metadata": {},
   "source": [
    "# Performance improvements\n",
    "\n",
    "For repeated instances of any `SingletonGate` the memory overhead decreased from ~500 bytes/per gate to a single reference which is 8 bytes. Also the runtime overhead for `copy()`/`deepcopy()` is signficantly improved because a copy is just a reference now. For our nightly benchmarks it is showing > 3x faster for some copy benchmarks."
   ]
  },
  {
   "cell_type": "code",
   "execution_count": null,
   "id": "7b2603a5",
   "metadata": {},
   "outputs": [],
   "source": []
  }
 ],
 "metadata": {
  "kernelspec": {
   "display_name": "Python 3",
   "language": "python",
   "name": "python3"
  },
  "language_info": {
   "codemirror_mode": {
    "name": "ipython",
    "version": 3
   },
   "file_extension": ".py",
   "mimetype": "text/x-python",
   "name": "python",
   "nbconvert_exporter": "python",
   "pygments_lexer": "ipython3",
   "version": "3.11.3"
  }
 },
 "nbformat": 4,
 "nbformat_minor": 5
}
