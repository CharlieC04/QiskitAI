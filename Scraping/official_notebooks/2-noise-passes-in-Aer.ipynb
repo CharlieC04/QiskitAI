{
 "cells": [
  {
   "cell_type": "markdown",
   "id": "center-macro",
   "metadata": {
    "slideshow": {
     "slide_type": "slide"
    }
   },
   "source": [
    "Qiskit DemoDays, Dec 9, 2021\n",
    "# Add transpiler passes in Aer for inserting instruction-dependent noises\n",
    "\n",
    "https://github.com/Qiskit/qiskit-aer/pull/1391\n",
    "\n",
    "Toshinari Itoko (Co-authored by Chris Wood)"
   ]
  },
  {
   "cell_type": "markdown",
   "id": "cheap-reach",
   "metadata": {
    "slideshow": {
     "slide_type": "slide"
    }
   },
   "source": [
    "## Summary\n",
    "\n",
    "- Added two passes for inserting quantum errors into circuits: `LocalNoisePass` and `RelaxationNoisePass`\n",
    "- Upgraded the default noise model implemented by `NoiseModel.from_backend` (and  `AerSimulator.from_backend`) to allow adding duration dependent relaxation error on delay instructions in a circuit using the `RelaxationNoisePass`.\n",
    "\n",
    "=> Improve the accuracy of noisy simulation of circuits with delays such as T1 experiments."
   ]
  },
  {
   "cell_type": "markdown",
   "id": "abd670b2",
   "metadata": {
    "slideshow": {
     "slide_type": "slide"
    }
   },
   "source": [
    "New device noise model can add quantum errors to delay instructions in a circuit:\n",
    "\n",
    "| Target operation: | Gate |　Measure　|　Delay　|\n",
    "| :--- | :---: | :---: | :---: |\n",
    "| Previous device noise model: | QuantumError | ReadoutError | *No error*  |\n",
    "| New device noise model: | QuantumError | ReadoutError | *QuantumError* |"
   ]
  },
  {
   "cell_type": "code",
   "execution_count": 1,
   "id": "02d179ed",
   "metadata": {},
   "outputs": [
    {
     "data": {
      "image/png": "[encoded data removed]",
      "text/plain": [
       "<Figure size 253.926x144.48 with 1 Axes>"
      ]
     },
     "execution_count": 1,
     "metadata": {},
     "output_type": "execute_result"
    }
   ],
   "source": [
    "# a T1 circuit\n",
    "from qiskit.circuit import QuantumCircuit\n",
    "qc = QuantumCircuit(1, 1)\n",
    "qc.x(0)\n",
    "qc.delay(10, 0, unit=\"us\")\n",
    "qc.measure(0, 0)\n",
    "qc.draw(output=\"mpl\")"
   ]
  },
  {
   "cell_type": "markdown",
   "id": "ce26283f",
   "metadata": {
    "slideshow": {
     "slide_type": "slide"
    }
   },
   "source": [
    "## Improved noisy simulation of T1 experiments\n",
    "\n",
    "Use `ibmq_armonk` as a device backend"
   ]
  },
  {
   "cell_type": "code",
   "execution_count": 2,
   "id": "f335e175",
   "metadata": {
    "slideshow": {
     "slide_type": "-"
    }
   },
   "outputs": [
    {
     "data": {
      "text/plain": [
       "<IBMQBackend('ibmq_armonk') from IBMQ(hub='ibm-q', group='open', project='main')>"
      ]
     },
     "execution_count": 2,
     "metadata": {},
     "output_type": "execute_result"
    }
   ],
   "source": [
    "from qiskit import IBMQ\n",
    "IBMQ.load_account()\n",
    "provider = IBMQ.get_provider(hub='ibm-q', group='open', project='main')\n",
    "device_backend = provider.get_backend('ibmq_armonk')\n",
    "device_backend"
   ]
  },
  {
   "cell_type": "markdown",
   "id": "081fdac2",
   "metadata": {
    "slideshow": {
     "slide_type": "slide"
    }
   },
   "source": [
    "Print the latest reported T1 of qubit 0"
   ]
  },
  {
   "cell_type": "code",
   "execution_count": 3,
   "id": "2c53854c",
   "metadata": {
    "slideshow": {
     "slide_type": "-"
    }
   },
   "outputs": [
    {
     "name": "stdout",
     "output_type": "stream",
     "text": [
      "(Backend: ibmq_armonk, Qubit: 0)\n",
      "Reported T1=0.196[ms]\n"
     ]
    }
   ],
   "source": [
    "from qiskit import transpile\n",
    "from qiskit.providers.aer import AerSimulator\n",
    "from qiskit.providers.aer.noise import NoiseModel\n",
    "from qiskit_experiments.library import T1 as T1Experiment\n",
    "\n",
    "print(f\"(Backend: {device_backend.name()}, Qubit: 0)\")\n",
    "print(f\"Reported T1={device_backend.properties().t1(0) * 1e+3:.3f}[ms]\")"
   ]
  },
  {
   "cell_type": "markdown",
   "id": "21ccfaa8",
   "metadata": {
    "slideshow": {
     "slide_type": "slide"
    }
   },
   "source": [
    "Create T1 experiment using `qiskit-experiments`"
   ]
  },
  {
   "cell_type": "code",
   "execution_count": 4,
   "id": "09ff3b45",
   "metadata": {},
   "outputs": [],
   "source": [
    "t1exp = T1Experiment(0, delays=list(range(1, 400, 10)), unit=\"us\")"
   ]
  },
  {
   "cell_type": "code",
   "execution_count": 5,
   "id": "eb013fa6",
   "metadata": {
    "scrolled": true
   },
   "outputs": [
    {
     "data": {
      "image/png": "[encoded data removed]",
      "text/plain": [
       "<Figure size 374.326x144.48 with 1 Axes>"
      ]
     },
     "execution_count": 5,
     "metadata": {},
     "output_type": "execute_result"
    }
   ],
   "source": [
    "t1exp.circuits()[0].draw(output=\"mpl\")  # the first T1 circuit"
   ]
  },
  {
   "cell_type": "code",
   "execution_count": 6,
   "id": "178cce5e",
   "metadata": {
    "scrolled": true
   },
   "outputs": [
    {
     "data": {
      "image/png": "[encoded data removed]",
      "text/plain": [
       "<Figure size 374.326x144.48 with 1 Axes>"
      ]
     },
     "execution_count": 6,
     "metadata": {},
     "output_type": "execute_result"
    }
   ],
   "source": [
    "t1exp.circuits()[1].draw(output=\"mpl\")  # the second T1 circuit"
   ]
  },
  {
   "cell_type": "code",
   "execution_count": 7,
   "id": "f9bc664c",
   "metadata": {},
   "outputs": [
    {
     "data": {
      "image/png": "[encoded data removed]",
      "text/plain": [
       "<Figure size 374.326x144.48 with 1 Axes>"
      ]
     },
     "execution_count": 7,
     "metadata": {},
     "output_type": "execute_result"
    }
   ],
   "source": [
    "t1exp.circuits()[-1].draw(output=\"mpl\")  # the last T1 circuit"
   ]
  },
  {
   "cell_type": "markdown",
   "id": "3722af7f",
   "metadata": {
    "slideshow": {
     "slide_type": "slide"
    }
   },
   "source": [
    "Old noisy simulation with the default device noise model (before this PR)"
   ]
  },
  {
   "cell_type": "code",
   "execution_count": 8,
   "id": "54c756c0",
   "metadata": {
    "scrolled": true,
    "slideshow": {
     "slide_type": "-"
    }
   },
   "outputs": [
    {
     "name": "stdout",
     "output_type": "stream",
     "text": [
      "Ref: Simulated T1 with old noise model=-1.49540348339054 ± nan s\n"
     ]
    },
    {
     "name": "stderr",
     "output_type": "stream",
     "text": [
      "/Users/itoko/envs/qiskit-aer-dev/lib/python3.8/site-packages/qiskit_experiments/curve_analysis/curve_fit.py:136: RuntimeWarning: invalid value encountered in sqrt\n",
      "  popt_err = np.sqrt(np.diag(pcov))\n"
     ]
    },
    {
     "data": {
      "image/png": "[encoded data removed]",
      "text/plain": [
       "<Figure size 432x288 with 1 Axes>"
      ]
     },
     "metadata": {},
     "output_type": "display_data"
    }
   ],
   "source": [
    "old_noise_model = NoiseModel.from_backend(device_backend)\n",
    "old_noise_model._custom_noise_passes = []\n",
    "old_sim = AerSimulator.from_backend(device_backend, noise_model=old_noise_model)\n",
    "t1exp.set_transpile_options(scheduling_method=\"alap\")\n",
    "exp_data = t1exp.run(old_sim, seed_simulator=123).block_for_results()\n",
    "result = exp_data.analysis_results()[0]\n",
    "print(f\"Ref: Simulated T1 with old noise model={result.value}\")\n",
    "display(exp_data.figure(0))"
   ]
  },
  {
   "cell_type": "markdown",
   "id": "69f21735",
   "metadata": {
    "slideshow": {
     "slide_type": "slide"
    }
   },
   "source": [
    "Noisy simulation with the default device noise model (after this PR)"
   ]
  },
  {
   "cell_type": "code",
   "execution_count": 9,
   "id": "3b254aa9",
   "metadata": {
    "slideshow": {
     "slide_type": "-"
    }
   },
   "outputs": [
    {
     "name": "stdout",
     "output_type": "stream",
     "text": [
      "Simulated T1=0.0001940676984308937 ± 6.430596264621892e-06 s\n",
      "Ref: Reported T1=0.196[ms]\n"
     ]
    },
    {
     "data": {
      "image/png": "[encoded data removed]",
      "text/plain": [
       "<Figure size 432x288 with 1 Axes>"
      ]
     },
     "metadata": {},
     "output_type": "display_data"
    }
   ],
   "source": [
    "new_sim = AerSimulator.from_backend(device_backend)  # call NoiseModel.from_backend() behind the scene\n",
    "t1exp.set_transpile_options(scheduling_method=\"alap\")\n",
    "exp_data = t1exp.run(new_sim, seed_simulator=123).block_for_results()\n",
    "result = exp_data.analysis_results()[0]\n",
    "print(f\"Simulated T1={result.value}\")\n",
    "print(f\"Ref: Reported T1={device_backend.properties().t1(0) * 1e+3:.3f}[ms]\")\n",
    "display(exp_data.figure(0))"
   ]
  },
  {
   "cell_type": "markdown",
   "id": "4bd1bb2e",
   "metadata": {
    "slideshow": {
     "slide_type": "slide"
    }
   },
   "source": [
    "### Current implementation is a bit hack\n",
    "New noise model still stores a dictionary to represent how to add noises to gates or measres while it newly stores a pass manager to represent how to add noises to delays.\n",
    "\n",
    "| | Target operation |　Who interpretes　|\n",
    "| :--- | :---: | :---: |\n",
    "| Dictionary: | Gate, Measure | Aer runs inserting noises on the fly |\n",
    "| Pass manger: | Delay | Assembler embeds noises to circuits |\n",
    "\n",
    "Let's see how the pass manager path works by T1 circuit example."
   ]
  },
  {
   "cell_type": "code",
   "execution_count": 10,
   "id": "d810eec0",
   "metadata": {
    "slideshow": {
     "slide_type": "slide"
    }
   },
   "outputs": [
    {
     "data": {
      "image/png": "[encoded data removed]",
      "text/plain": [
       "<Figure size 374.326x144.48 with 1 Axes>"
      ]
     },
     "execution_count": 10,
     "metadata": {},
     "output_type": "execute_result"
    }
   ],
   "source": [
    "# original circuit\n",
    "circ = t1exp.circuits()[1]\n",
    "circ.draw(output=\"mpl\")"
   ]
  },
  {
   "cell_type": "code",
   "execution_count": 11,
   "id": "b16ba43b",
   "metadata": {
    "scrolled": true,
    "slideshow": {
     "slide_type": "fragment"
    }
   },
   "outputs": [
    {
     "data": {
      "image/png": "[encoded data removed]",
      "text/plain": [
       "<Figure size 494.726x144.48 with 1 Axes>"
      ]
     },
     "execution_count": 11,
     "metadata": {},
     "output_type": "execute_result"
    }
   ],
   "source": [
    "# transpiled circuit (scheduled circuit)\n",
    "transpiled_circ = transpile(circ, device_backend, scheduling_method=\"alap\")\n",
    "transpiled_circ.draw(output=\"mpl\")"
   ]
  },
  {
   "cell_type": "code",
   "execution_count": 12,
   "id": "8a489b38",
   "metadata": {
    "slideshow": {
     "slide_type": "fragment"
    }
   },
   "outputs": [
    {
     "data": {
      "image/png": "[encoded data removed]",
      "text/plain": [
       "<Figure size 855.926x144.48 with 1 Axes>"
      ]
     },
     "execution_count": 12,
     "metadata": {},
     "output_type": "execute_result"
    }
   ],
   "source": [
    "# noisy circuit\n",
    "noise_model = NoiseModel.from_backend(device_backend)\n",
    "noisy_circ = noise_model._pass_manager().run(transpiled_circ)  # within assembler\n",
    "noisy_circ.draw(output=\"mpl\")"
   ]
  },
  {
   "cell_type": "markdown",
   "id": "f1bdda37",
   "metadata": {
    "slideshow": {
     "slide_type": "slide"
    }
   },
   "source": [
    "## Summary\n",
    "https://github.com/Qiskit/qiskit-aer/pull/1391\n",
    "\n",
    "- Added two passes for inserting quantum errors into circuits: `LocalNoisePass` and `RelaxationNoisePass`\n",
    "- Upgraded the default noise model implemented by `NoiseModel.from_backend` (and  `AerSimulator.from_backend`) to allow adding duration dependent relaxation error on delay instructions in a circuit using the `RelaxationNoisePass`.\n",
    "\n",
    "=> Improve the noisy simulation of circuits with delays (e.g. T1 experiments) using the default device noise model."
   ]
  },
  {
   "cell_type": "code",
   "execution_count": 13,
   "id": "0057b890",
   "metadata": {
    "slideshow": {
     "slide_type": "slide"
    }
   },
   "outputs": [
    {
     "name": "stdout",
     "output_type": "stream",
     "text": [
      "[{'passes': [<qiskit.providers.aer.noise.passes.relaxation_noise_pass.RelaxationNoisePass object at 0x14b96da60>], 'flow_controllers': {}}]\n"
     ]
    }
   ],
   "source": [
    "noise_model = NoiseModel.from_backend(device_backend)\n",
    "nmp = noise_model._pass_manager()\n",
    "print(nmp.passes())"
   ]
  },
  {
   "cell_type": "markdown",
   "id": "85e22e66",
   "metadata": {},
   "source": [
    "The pass is added within `NoiseModel.from_backend()`:\n",
    "```\n",
    "        if thermal_relaxation:\n",
    "            delay_pass = RelaxationNoisePass(\n",
    "                t1s=[properties.t1(q) for q in range(num_qubits)],\n",
    "                t2s=[properties.t2(q) for q in range(num_qubits)],\n",
    "                dt=dt,\n",
    "                op_types=Delay,\n",
    "                excited_state_populations=[_excited_population(freq=properties.frequency(q), temperature=temperature) for q in range(num_qubits)]\n",
    "            )\n",
    "            noise_model._custom_noise_passes.append(delay_pass)\n",
    "```"
   ]
  }
 ],
 "metadata": {
  "celltoolbar": "Slideshow",
  "kernelspec": {
   "display_name": "Python 3 (ipykernel)",
   "language": "python",
   "name": "python3"
  },
  "language_info": {
   "codemirror_mode": {
    "name": "ipython",
    "version": 3
   },
   "file_extension": ".py",
   "mimetype": "text/x-python",
   "name": "python",
   "nbconvert_exporter": "python",
   "pygments_lexer": "ipython3",
   "version": "3.8.11"
  }
 },
 "nbformat": 4,
 "nbformat_minor": 5
}
