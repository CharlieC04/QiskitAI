{
 "cells": [
  {
   "cell_type": "markdown",
   "id": "8199ed81",
   "metadata": {},
   "source": [
    "# Synthesis for linear connectivity\n",
    "\n",
    "Qiskit issue (epic): https://github.com/Qiskit/qiskit/issues/9036\n",
    "\n",
    "Contributors: Shelly Garion, Alexander Ivrii, Ben Zindorff and Willers Yang"
   ]
  },
  {
   "cell_type": "code",
   "execution_count": 38,
   "id": "f877b26d",
   "metadata": {},
   "outputs": [],
   "source": [
    "import numpy as np\n",
    "import qiskit\n",
    "from qiskit import QuantumCircuit\n",
    "from qiskit import transpile\n",
    "from qiskit.providers.fake_provider import FakeManhattanV2\n",
    "\n",
    "from qiskit.circuit.library import *\n",
    "from qiskit.synthesis import *\n",
    "from qiskit.quantum_info import *\n",
    "from qiskit.synthesis.linear import random_invertible_binary_matrix"
   ]
  },
  {
   "cell_type": "markdown",
   "id": "c58ba847",
   "metadata": {},
   "source": [
    "### Why do we need synthesis for linear connectivity?\n",
    "\n",
    "First option:\n",
    "Generate a random Clifford on 50 qubits, decompose it using the greedy Clifford compiler, and transpile it for a heavy-hex device"
   ]
  },
  {
   "cell_type": "code",
   "execution_count": 5,
   "id": "189c9dfc",
   "metadata": {},
   "outputs": [],
   "source": [
    "cliff = random_clifford(50)"
   ]
  },
  {
   "cell_type": "code",
   "execution_count": 67,
   "id": "3b123659",
   "metadata": {},
   "outputs": [
    {
     "name": "stdout",
     "output_type": "stream",
     "text": [
      "original circuit has: 2q-depth 695, 2q-count 1265, 1q-count 1147. \n"
     ]
    }
   ],
   "source": [
    "device = FakeManhattanV2()  # 65 qubits\n",
    "num_qubits = device.num_qubits\n",
    "coupling_map = device.coupling_map\n",
    "\n",
    "qc = synth_clifford_greedy(cliff)\n",
    "\n",
    "print(f\"original circuit has: \"\n",
    "      f\"2q-depth {qc.depth(filter_function=lambda x: x.operation.num_qubits == 2)}, \"\n",
    "      f\"2q-count {qc.size(filter_function=lambda x: x.operation.num_qubits == 2)}, \"\n",
    "      f\"1q-count {qc.size(filter_function=lambda x: x.operation.num_qubits == 1)}. \")"
   ]
  },
  {
   "cell_type": "code",
   "execution_count": 68,
   "id": "63b9862f",
   "metadata": {},
   "outputs": [
    {
     "name": "stdout",
     "output_type": "stream",
     "text": [
      "transpiled circuit has: 2q-depth 4320, 2q-count 12051, 1q-count 3759. \n"
     ]
    }
   ],
   "source": [
    "qc_trans = transpile(qc, basis_gates = ['rz', 'sx', 'cx'], coupling_map = edges, optimization_level = 3)\n",
    "\n",
    "print(f\"transpiled circuit has: \"\n",
    "      f\"2q-depth {qc_trans.depth(filter_function=lambda x: x.operation.num_qubits == 2)}, \"\n",
    "      f\"2q-count {qc_trans.size(filter_function=lambda x: x.operation.num_qubits == 2)}, \"\n",
    "      f\"1q-count {qc_trans.size(filter_function=lambda x: x.operation.num_qubits == 1)}. \")"
   ]
  },
  {
   "cell_type": "markdown",
   "id": "4da19255",
   "metadata": {},
   "source": [
    "Second option: Decompose the Clifford for linear neares neighbor (LNN) connectivity, and embed the line inside the heavy hex"
   ]
  },
  {
   "cell_type": "code",
   "execution_count": 69,
   "id": "80721dc8",
   "metadata": {},
   "outputs": [
    {
     "name": "stdout",
     "output_type": "stream",
     "text": [
      "LNN circuit has: 2q-depth 340, 2q-count 7316, 1q-count 2204. \n"
     ]
    }
   ],
   "source": [
    "qc_lnn = synth_clifford_depth_lnn(cliff).decompose()\n",
    "\n",
    "print(f\"LNN circuit has: \"\n",
    "      f\"2q-depth {qc_lnn.depth(filter_function=lambda x: x.operation.num_qubits == 2)}, \"\n",
    "      f\"2q-count {qc_lnn.size(filter_function=lambda x: x.operation.num_qubits == 2)}, \"\n",
    "      f\"1q-count {qc_lnn.size(filter_function=lambda x: x.operation.num_qubits == 1)}. \")"
   ]
  },
  {
   "cell_type": "code",
   "execution_count": 75,
   "id": "30c0366d",
   "metadata": {},
   "outputs": [
    {
     "name": "stdout",
     "output_type": "stream",
     "text": [
      "transpiled LNN circuit has: 2q-depth 340, 2q-count 7316, 1q-count 2265. \n"
     ]
    }
   ],
   "source": [
    "# layout is a line of connected qubits\n",
    "layout = [9, 8, 7, 6, 5, 4, 3, 2, 1, 0, 10,\n",
    "          13, 14, 15, 16, 17, 18, 19, 20, 21, 22, 23, 26,\n",
    "          37, 36, 35, 34, 33, 32, 31, 30, 29, 28, 27, 38,\n",
    "          41, 42, 43, 44, 45, 46, 47, 48, 49, 50, 51, 54,\n",
    "          64, 63, 62, 61, 60, 59, 58, 57, 56, 55]\n",
    "num_qubits = qc_lnn.num_qubits\n",
    "initial_layout = layout[0:num_qubits]\n",
    "\n",
    "qc_lnn_trans = transpile(qc_lnn, coupling_map=coupling_map, basis_gates=['rz', 'sx', 'cx'], \n",
    "                         optimization_level=1, initial_layout=initial_layout)\n",
    "\n",
    "print(f\"transpiled LNN circuit has: \"\n",
    "      f\"2q-depth {qc_lnn_trans.depth(filter_function=lambda x: x.operation.num_qubits == 2)}, \"\n",
    "      f\"2q-count {qc_lnn_trans.size(filter_function=lambda x: x.operation.num_qubits == 2)}, \"\n",
    "      f\"1q-count {qc_lnn_trans.size(filter_function=lambda x: x.operation.num_qubits == 1)}. \")"
   ]
  },
  {
   "cell_type": "markdown",
   "id": "89ac38a3",
   "metadata": {},
   "source": [
    "We have reduced the 2q-depth by factor 10-20 and 2q-count by factor 2 after transpilation!"
   ]
  },
  {
   "cell_type": "markdown",
   "id": "8b14cab1",
   "metadata": {},
   "source": [
    "## Synthesis algorithms for linear connectivity"
   ]
  },
  {
   "cell_type": "markdown",
   "id": "57371297",
   "metadata": {},
   "source": [
    "### Linear circuits in depth 5n\n",
    "\n",
    "Reference\n",
    "\n",
    "1. Kutin, S., Moulton, D. P., Smithline, L., Computation at a distance, Chicago J. Theor. Comput. Sci., vol. 2007, (2007), arXiv:quant-ph/0701194"
   ]
  },
  {
   "cell_type": "code",
   "execution_count": 66,
   "id": "84dc8476",
   "metadata": {},
   "outputs": [
    {
     "name": "stdout",
     "output_type": "stream",
     "text": [
      "Linear circuit has: 2q-depth 237, 2q-count 4795, 1q-count 0. \n"
     ]
    }
   ],
   "source": [
    "num_qubits = 50\n",
    "# input: random invertible binary matrix\n",
    "mat = random_invertible_binary_matrix(num_qubits)\n",
    "qc = synth_cnot_depth_line_kms(mat)\n",
    "\n",
    "print(f\"Linear circuit has: \"\n",
    "      f\"2q-depth {qc.depth(filter_function=lambda x: x.operation.num_qubits == 2)}, \"\n",
    "      f\"2q-count {qc.size(filter_function=lambda x: x.operation.num_qubits == 2)}, \"\n",
    "      f\"1q-count {qc.size(filter_function=lambda x: x.operation.num_qubits == 1)}. \")"
   ]
  },
  {
   "cell_type": "markdown",
   "id": "f732ffc7",
   "metadata": {},
   "source": [
    "### Linear circuits in depth 3n (or n of swap gates)\n",
    "\n",
    "Reference\n",
    "\n",
    "1. Kutin, S., Moulton, D. P., Smithline, L., Computation at a distance, Chicago J. Theor. Comput. Sci., vol. 2007, (2007), arXiv:quant-ph/0701194"
   ]
  },
  {
   "cell_type": "code",
   "execution_count": 71,
   "id": "839820d3",
   "metadata": {},
   "outputs": [
    {
     "name": "stdout",
     "output_type": "stream",
     "text": [
      "Permutation circuit has: 2q-depth 40, 2q-count 652, 1q-count 0. \n"
     ]
    }
   ],
   "source": [
    "num_qubits = 50\n",
    "# input: random permutation\n",
    "pattern = np.random.permutation(num_qubits)\n",
    "qc = synth_permutation_depth_lnn_kms(pattern)\n",
    "\n",
    "print(f\"Permutation circuit has: \"\n",
    "      f\"2q-depth {qc.depth(filter_function=lambda x: x.operation.num_qubits == 2)}, \"\n",
    "      f\"2q-count {qc.size(filter_function=lambda x: x.operation.num_qubits == 2)}, \"\n",
    "      f\"1q-count {qc.size(filter_function=lambda x: x.operation.num_qubits == 1)}. \")"
   ]
  },
  {
   "cell_type": "markdown",
   "id": "8707450c",
   "metadata": {},
   "source": [
    "### CZ circuits in depth 2n+2 \n",
    "\n",
    "Note that this method reverts the order of qubits in the circuit, and returns a circuit containing CX and phase (S, Sdg or Z) gates.\n",
    "\n",
    "Reference\n",
    "\n",
    "1. Dmitri Maslov, Martin Roetteler, Shorter stabilizer circuits via Bruhat decomposition and quantum circuit transformations, arXiv:1705.09176."
   ]
  },
  {
   "cell_type": "code",
   "execution_count": 72,
   "id": "29939107",
   "metadata": {},
   "outputs": [
    {
     "name": "stdout",
     "output_type": "stream",
     "text": [
      "CZ circuit has: 2q-depth 102, 2q-count 2499, 1q-count 1104. \n"
     ]
    }
   ],
   "source": [
    "num_qubits = 50\n",
    "# input: an upper-diagonal matrix representing the CZ circuit. mat[i][j]=1 for i<j represents a CZ(i,j) gate\n",
    "qc = synth_cz_depth_line_mr(mat)\n",
    "\n",
    "print(f\"CZ circuit has: \"\n",
    "      f\"2q-depth {qc.depth(filter_function=lambda x: x.operation.num_qubits == 2)}, \"\n",
    "      f\"2q-count {qc.size(filter_function=lambda x: x.operation.num_qubits == 2)}, \"\n",
    "      f\"1q-count {qc.size(filter_function=lambda x: x.operation.num_qubits == 1)}. \")"
   ]
  },
  {
   "cell_type": "markdown",
   "id": "54e0ac60",
   "metadata": {},
   "source": [
    "### Clifford circuits in depth 7n+2\n",
    "\n",
    "The depth of the synthesized n-qubit Clifford circuit is bounded by 7n+2, which is not optimal. It should be replaced by a better algorithm that provides depth bounded by 7n-4\n",
    "\n",
    "References\n",
    "\n",
    "1. S. Bravyi, D. Maslov, Hadamard-free circuits expose the structure of the Clifford group, arXiv:2003.09412 [quant-ph]\n",
    "\n",
    "2. Dmitri Maslov, Martin Roetteler, Shorter stabilizer circuits via Bruhat decomposition and quantum circuit transformations, arXiv:1705.09176.\n",
    "\n",
    "3. Dmitri Maslov, Willers Yang, CNOT circuits need little help to implement arbitrary Hadamard-free Clifford transformations they generate, arXiv:2210.16195."
   ]
  },
  {
   "cell_type": "markdown",
   "id": "387c6049",
   "metadata": {},
   "source": [
    " First step: decompose the Clifford into layers according to [1]\n",
    " "
   ]
  },
  {
   "cell_type": "code",
   "execution_count": 46,
   "id": "e0e0c126",
   "metadata": {},
   "outputs": [
    {
     "data": {
      "image/png": "[encoded data removed]",
      "text/plain": [
       "<Figure size 688.597x325.08 with 1 Axes>"
      ]
     },
     "execution_count": 46,
     "metadata": {},
     "output_type": "execute_result"
    }
   ],
   "source": [
    "cliff = random_clifford(5)\n",
    "qc = synth_clifford_layers(cliff)\n",
    "\n",
    "qc.draw('mpl')"
   ]
  },
  {
   "cell_type": "markdown",
   "id": "a6cf8916",
   "metadata": {},
   "source": [
    "Second step: decompose the CZ layer in depth 2n+2 according to [2] and the CX-CZ layers in depth 5n according to [3], providing a total depth of 7n+2.\n",
    "\n",
    "Further local optimizations from [3] could be used to improve the depth to 7n-4."
   ]
  },
  {
   "cell_type": "code",
   "execution_count": 73,
   "id": "c0ac44c2",
   "metadata": {},
   "outputs": [
    {
     "name": "stdout",
     "output_type": "stream",
     "text": [
      "Clifford circuit has: 2q-depth 341, 2q-count 7300, 1q-count 2200. \n"
     ]
    }
   ],
   "source": [
    "cliff = random_clifford(50)\n",
    "qc = synth_clifford_depth_lnn(cliff).decompose()\n",
    "\n",
    "print(f\"Clifford circuit has: \"\n",
    "      f\"2q-depth {qc.depth(filter_function=lambda x: x.operation.num_qubits == 2)}, \"\n",
    "      f\"2q-count {qc.size(filter_function=lambda x: x.operation.num_qubits == 2)}, \"\n",
    "      f\"1q-count {qc.size(filter_function=lambda x: x.operation.num_qubits == 1)}. \")"
   ]
  },
  {
   "cell_type": "markdown",
   "id": "56bf38b4",
   "metadata": {},
   "source": [
    "###  Stabilizer circuits in depth 2n+2\n",
    "\n",
    "References\n",
    "\n",
    "1. S. Bravyi, D. Maslov, Hadamard-free circuits expose the structure of the Clifford group, arXiv:2003.09412 [quant-ph]\n",
    "\n",
    "2. Dmitri Maslov, Martin Roetteler, Shorter stabilizer circuits via Bruhat decomposition and quantum circuit transformations, arXiv:1705.09176.\n"
   ]
  },
  {
   "cell_type": "markdown",
   "id": "0cc1435c",
   "metadata": {},
   "source": [
    "First step: decompose the stabilizer state into layers according to [1]\n",
    "\n",
    "It provides a similar decomposition to the synthesis of a Clifford, without the initial Hadamard-free sub-circuit which do not affect the stabilizer state."
   ]
  },
  {
   "cell_type": "code",
   "execution_count": 50,
   "id": "a8a60192",
   "metadata": {},
   "outputs": [
    {
     "data": {
      "image/png": "[encoded data removed]",
      "text/plain": [
       "<Figure size 447.797x325.08 with 1 Axes>"
      ]
     },
     "execution_count": 50,
     "metadata": {},
     "output_type": "execute_result"
    }
   ],
   "source": [
    "cliff = random_clifford(5)\n",
    "stab = StabilizerState(cliff)\n",
    "qc = synth_stabilizer_layers(stab)\n",
    "\n",
    "qc.draw('mpl')"
   ]
  },
  {
   "cell_type": "markdown",
   "id": "ebe2ea81",
   "metadata": {},
   "source": [
    "Second step: decompose the CZ layer in depth 2n+2 according to [2] "
   ]
  },
  {
   "cell_type": "code",
   "execution_count": 74,
   "id": "25b54476",
   "metadata": {},
   "outputs": [
    {
     "name": "stdout",
     "output_type": "stream",
     "text": [
      "Stabilizer circuit has: 2q-depth 102, 2q-count 2499, 1q-count 1213. \n"
     ]
    }
   ],
   "source": [
    "cliff = random_clifford(50)\n",
    "stab = StabilizerState(cliff)\n",
    "qc = synth_stabilizer_depth_lnn(stab).decompose()\n",
    "\n",
    "print(f\"Stabilizer circuit has: \"\n",
    "      f\"2q-depth {qc.depth(filter_function=lambda x: x.operation.num_qubits == 2)}, \"\n",
    "      f\"2q-count {qc.size(filter_function=lambda x: x.operation.num_qubits == 2)}, \"\n",
    "      f\"1q-count {qc.size(filter_function=lambda x: x.operation.num_qubits == 1)}. \")"
   ]
  },
  {
   "cell_type": "markdown",
   "id": "377d7922",
   "metadata": {},
   "source": [
    "## Further work\n",
    "\n",
    "1. Improve Clifford synthesis depth from 7n+2 to 7n-4 by using local optimizations\n",
    "\n",
    "2. Add furhter synthesis algorithms for linear connectivity, e.g. QFT\n",
    "\n",
    "3. Add further synthesis algorithms for general connectivity, in particular, grid and heavy-hex"
   ]
  },
  {
   "cell_type": "code",
   "execution_count": null,
   "id": "dd4852c1",
   "metadata": {},
   "outputs": [],
   "source": []
  }
 ],
 "metadata": {
  "kernelspec": {
   "display_name": "Shelly310",
   "language": "python",
   "name": "shelly310"
  },
  "language_info": {
   "codemirror_mode": {
    "name": "ipython",
    "version": 3
   },
   "file_extension": ".py",
   "mimetype": "text/x-python",
   "name": "python",
   "nbconvert_exporter": "python",
   "pygments_lexer": "ipython3",
   "version": "3.10.9"
  }
 },
 "nbformat": 4,
 "nbformat_minor": 5
}
