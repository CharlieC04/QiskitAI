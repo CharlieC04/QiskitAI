{
 "cells": [
  {
   "cell_type": "markdown",
   "id": "dc2bf516",
   "metadata": {
    "pycharm": {
     "name": "#%% md\n"
    },
    "slideshow": {
     "slide_type": "slide"
    }
   },
   "source": [
    "# qiskit-ibm-runtime - Qiskit Demo Day - March 17\n",
    "https://github.com/qiskit/qiskit-ibm-runtime\n",
    "\n",
    "**Rathish Cholarajan** (Github: @rathishcholarajan) - **Daniel Kaulen** (Github: @daka1510)"
   ]
  },
  {
   "cell_type": "markdown",
   "id": "0e8d6692",
   "metadata": {
    "pycharm": {
     "name": "#%% md\n"
    },
    "slideshow": {
     "slide_type": "slide"
    }
   },
   "source": [
    "\n",
    "Qiskit Runtime is available via two different channels\n",
    "- Qiskit Runtime on IBM Cloud - https://cloud.ibm.com/quantum\n",
    "- Qiskit Runtime on IBM Quantum - https://quantum-computing.ibm.com/\n",
    "\n",
    "*qiskit-ibm-runtime* serves as the primary interface for Python developers to work with Qiskit Runtime across both channels in a seamless way and can be installed via `pip install qiskit-ibm-runtime`"
   ]
  },
  {
   "cell_type": "markdown",
   "id": "fdc83bbe",
   "metadata": {
    "pycharm": {
     "name": "#%% md\n"
    },
    "slideshow": {
     "slide_type": "slide"
    }
   },
   "source": [
    "## Account Management"
   ]
  },
  {
   "cell_type": "markdown",
   "id": "29b14c7c",
   "metadata": {
    "pycharm": {
     "name": "#%% md\n"
    },
    "slideshow": {
     "slide_type": "subslide"
    }
   },
   "source": [
    "### Save account on disk\n",
    "\n",
    "You can choose to save your account credentials on disk (in the `$HOME/.qiskit/qiskit-ibm.json` file)."
   ]
  },
  {
   "cell_type": "code",
   "execution_count": null,
   "id": "362e978a",
   "metadata": {
    "slideshow": {
     "slide_type": "fragment"
    }
   },
   "outputs": [],
   "source": [
    "from qiskit_ibm_runtime import IBMRuntimeService"
   ]
  },
  {
   "cell_type": "code",
   "execution_count": null,
   "id": "2ef8d6c7",
   "metadata": {
    "pycharm": {
     "name": "#%%\n"
    },
    "slideshow": {
     "slide_type": "fragment"
    }
   },
   "outputs": [],
   "source": [
    "# Option 1 - Save default accounts per channel\n",
    "IBMRuntimeService.save_account(channel=\"ibm_quantum\", token=\"<IBM Quantum API token>\")\n",
    "IBMRuntimeService.save_account(\n",
    "    channel=\"ibm_cloud\",\n",
    "    token=\"<IBM Cloud API key>\",\n",
    "    instance=\"<CRN> or <Service Instance Name>\",\n",
    ")"
   ]
  },
  {
   "cell_type": "code",
   "execution_count": null,
   "id": "08a9fd90",
   "metadata": {
    "slideshow": {
     "slide_type": "fragment"
    }
   },
   "outputs": [],
   "source": [
    "# Option 2 - Save account by name\n",
    "IBMRuntimeService.save_account(name=\"backup-account\", channel=\"ibm_quantum\", token=\"<IBM Quantum API token>\")"
   ]
  },
  {
   "cell_type": "markdown",
   "id": "17b51915",
   "metadata": {
    "pycharm": {
     "name": "#%% md\n"
    },
    "slideshow": {
     "slide_type": "subslide"
    }
   },
   "source": [
    "### List and delete saved accounts"
   ]
  },
  {
   "cell_type": "code",
   "execution_count": null,
   "id": "73cb16f3",
   "metadata": {
    "pycharm": {
     "name": "#%%\n"
    },
    "slideshow": {
     "slide_type": "fragment"
    }
   },
   "outputs": [],
   "source": [
    "IBMRuntimeService.saved_accounts()"
   ]
  },
  {
   "cell_type": "code",
   "execution_count": 5,
   "id": "3a29b36c",
   "metadata": {
    "pycharm": {
     "name": "#%%\n"
    },
    "slideshow": {
     "slide_type": "fragment"
    }
   },
   "outputs": [
    {
     "data": {
      "text/plain": [
       "True"
      ]
     },
     "execution_count": 5,
     "metadata": {},
     "output_type": "execute_result"
    }
   ],
   "source": [
    "IBMRuntimeService.delete_account(name=\"backup-account\")"
   ]
  },
  {
   "cell_type": "markdown",
   "id": "86db0d0b",
   "metadata": {
    "pycharm": {
     "name": "#%% md\n"
    },
    "slideshow": {
     "slide_type": "slide"
    }
   },
   "source": [
    "### Service instantiation"
   ]
  },
  {
   "cell_type": "code",
   "execution_count": null,
   "id": "fcf65dca",
   "metadata": {
    "pycharm": {
     "name": "#%%\n"
    },
    "slideshow": {
     "slide_type": "fragment"
    }
   },
   "outputs": [],
   "source": [
    "# Option 1 - Based on saved default accounts per channel\n",
    "service = IBMRuntimeService(channel=\"ibm_quantum\")\n",
    "service = IBMRuntimeService(channel=\"ibm_cloud\")"
   ]
  },
  {
   "cell_type": "code",
   "execution_count": null,
   "id": "62ea4d90",
   "metadata": {
    "slideshow": {
     "slide_type": "fragment"
    }
   },
   "outputs": [],
   "source": [
    "# Option 2 - Based on saved named account\n",
    "service = IBMRuntimeService(name=\"backup-account\")"
   ]
  },
  {
   "cell_type": "code",
   "execution_count": null,
   "id": "e14950b6",
   "metadata": {
    "slideshow": {
     "slide_type": "fragment"
    }
   },
   "outputs": [],
   "source": [
    "# Option 3 - By passing account credentials\n",
    "service = IBMRuntimeService(channel=\"ibm_quantum\", token=\"<IBM Quantum API token>\")\n",
    "service = IBMRuntimeService(channel=\"ibm_cloud\", token=\"<IBM Cloud API key>\", instance=\"<CRN> or <Service Instance Name>\")"
   ]
  },
  {
   "cell_type": "code",
   "execution_count": null,
   "id": "9ae4d874",
   "metadata": {
    "slideshow": {
     "slide_type": "fragment"
    }
   },
   "outputs": [],
   "source": [
    "# Option 4 - By reading from environment variables \n",
    "service = IBMRuntimeService() # requires environment configuration via QISKIT_IBM_TOKEN, QISKIT_IBM_URL, QISKIT_IBM_INSTANCE"
   ]
  },
  {
   "cell_type": "markdown",
   "id": "17b1f580",
   "metadata": {
    "slideshow": {
     "slide_type": "slide"
    }
   },
   "source": [
    "## View Programs"
   ]
  },
  {
   "cell_type": "code",
   "execution_count": 2,
   "id": "0de73b58",
   "metadata": {
    "slideshow": {
     "slide_type": "fragment"
    }
   },
   "outputs": [
    {
     "name": "stdout",
     "output_type": "stream",
     "text": [
      "==================================================\n",
      "hello-world:\n",
      "  Name: hello-world\n",
      "  Description: Get started by running this simple test program.\n",
      "==================================================\n",
      "sampler:\n",
      "  Name: sampler\n",
      "  Description: Generates quasi-probabilities by sampling quantum circuits.\n",
      "==================================================\n",
      "estimator:\n",
      "  Name: estimator\n",
      "  Description: Calculates expectation values of quantum operators.\n"
     ]
    }
   ],
   "source": [
    "service.pprint_programs()"
   ]
  },
  {
   "cell_type": "markdown",
   "id": "44986239",
   "metadata": {
    "slideshow": {
     "slide_type": "slide"
    }
   },
   "source": [
    "## Get Programs"
   ]
  },
  {
   "cell_type": "code",
   "execution_count": 3,
   "id": "f52fa6f7",
   "metadata": {
    "slideshow": {
     "slide_type": "fragment"
    }
   },
   "outputs": [
    {
     "data": {
      "text/plain": [
       "[<RuntimeProgram('hello-world')>,\n",
       " <RuntimeProgram('sampler')>,\n",
       " <RuntimeProgram('estimator')>]"
      ]
     },
     "execution_count": 3,
     "metadata": {},
     "output_type": "execute_result"
    }
   ],
   "source": [
    "service.programs()"
   ]
  },
  {
   "cell_type": "markdown",
   "id": "cb88d3d2",
   "metadata": {
    "slideshow": {
     "slide_type": "slide"
    }
   },
   "source": [
    "## View Program Details"
   ]
  },
  {
   "cell_type": "code",
   "execution_count": 4,
   "id": "281bbf67",
   "metadata": {
    "slideshow": {
     "slide_type": "fragment"
    }
   },
   "outputs": [
    {
     "name": "stdout",
     "output_type": "stream",
     "text": [
      "sampler:\n",
      "  Name: sampler\n",
      "  Description: Generates quasi-probabilities by sampling quantum circuits.\n",
      "  Creation date: 2021-10-26T14:41:57Z\n",
      "  Update date: 2022-03-16T22:00:16.541776Z\n",
      "  Max execution time: 10000\n",
      "  Backend requirements:\n",
      "    none\n",
      "  Input parameters:\n",
      "    Properties:\n",
      "        - circuit_indices:\n",
      "            Description: Indices of the circuits to evaluate.\n",
      "            Type: array\n",
      "            Required: True\n",
      "        - circuits:\n",
      "            Description: A single or list of QuantumCircuits.\n",
      "            Type: ['array', 'object']\n",
      "            Required: True\n",
      "        - parameter_values:\n",
      "            Description: A list of concrete parameters to be bound for each circuit. If specified, it must have the same length as circuit_indices.\n",
      "            Type: array\n",
      "            Required: False\n",
      "        - parameters:\n",
      "            Description: Parameters of the quantum circuits.\n",
      "            Type: array\n",
      "            Required: False\n",
      "        - run_options:\n",
      "            Description: A collection of key-value pairs identifying the execution options, such as shots.\n",
      "            Type: object\n",
      "            Required: False\n",
      "        - skip_transpilation:\n",
      "            Default: False\n",
      "            Description: Whether to skip circuit transpilation.\n",
      "            Type: boolean\n",
      "            Required: False\n",
      "  Interim results:\n",
      "    none\n",
      "  Returns:\n",
      "    Properties:\n",
      "        - metadata:\n",
      "            Description: Additional metadata.\n",
      "            Type: array\n",
      "            Required: False\n",
      "        - quasi_dists:\n",
      "            Description: List of quasi-probabilities returned for each circuit.\n",
      "            Type: array\n",
      "            Required: False\n"
     ]
    }
   ],
   "source": [
    "program = service.program(\"sampler\")\n",
    "print(program)"
   ]
  },
  {
   "cell_type": "markdown",
   "id": "d9bab342",
   "metadata": {
    "slideshow": {
     "slide_type": "slide"
    }
   },
   "source": [
    "## Get backends"
   ]
  },
  {
   "cell_type": "code",
   "execution_count": 5,
   "id": "cd55a2d8",
   "metadata": {
    "slideshow": {
     "slide_type": "fragment"
    }
   },
   "outputs": [
    {
     "data": {
      "text/plain": [
       "[<IBMBackend('ibmq_qasm_simulator')>,\n",
       " <IBMBackend('simulator_stabilizer')>,\n",
       " <IBMBackend('simulator_mps')>,\n",
       " <IBMBackend('simulator_extended_stabilizer')>,\n",
       " <IBMBackend('simulator_statevector')>]"
      ]
     },
     "execution_count": 5,
     "metadata": {},
     "output_type": "execute_result"
    }
   ],
   "source": [
    "service.backends()"
   ]
  },
  {
   "cell_type": "markdown",
   "id": "0c03b433",
   "metadata": {
    "slideshow": {
     "slide_type": "slide"
    }
   },
   "source": [
    "## Filter backends"
   ]
  },
  {
   "cell_type": "code",
   "execution_count": 6,
   "id": "8f3c64ee",
   "metadata": {
    "slideshow": {
     "slide_type": "fragment"
    }
   },
   "outputs": [
    {
     "data": {
      "text/plain": [
       "[<IBMBackend('simulator_stabilizer')>, <IBMBackend('simulator_mps')>]"
      ]
     },
     "execution_count": 6,
     "metadata": {},
     "output_type": "execute_result"
    }
   ],
   "source": [
    "service.backends(operational=True, min_num_qubits=64)"
   ]
  },
  {
   "cell_type": "markdown",
   "id": "e0e0151f",
   "metadata": {
    "slideshow": {
     "slide_type": "slide"
    }
   },
   "source": [
    "## Least busy backend"
   ]
  },
  {
   "cell_type": "code",
   "execution_count": 7,
   "id": "40e857af",
   "metadata": {},
   "outputs": [
    {
     "data": {
      "text/plain": [
       "<IBMBackend('ibmq_qasm_simulator')>"
      ]
     },
     "execution_count": 7,
     "metadata": {},
     "output_type": "execute_result"
    }
   ],
   "source": [
    "service.least_busy()"
   ]
  },
  {
   "cell_type": "markdown",
   "id": "f5c406b6",
   "metadata": {
    "slideshow": {
     "slide_type": "slide"
    }
   },
   "source": [
    "## Invoking a runtime program"
   ]
  },
  {
   "cell_type": "code",
   "execution_count": 8,
   "id": "6dc8d092",
   "metadata": {
    "slideshow": {
     "slide_type": "fragment"
    }
   },
   "outputs": [
    {
     "data": {
      "text/html": [
       "<pre style=\"word-wrap: normal;white-space: pre;background: #fff0;line-height: 1.1;font-family: &quot;Courier New&quot;,Courier,monospace\">        ┌───┐      ░ ┌─┐   \n",
       "   q_0: ┤ H ├──■───░─┤M├───\n",
       "        └───┘┌─┴─┐ ░ └╥┘┌─┐\n",
       "   q_1: ─────┤ X ├─░──╫─┤M├\n",
       "             └───┘ ░  ║ └╥┘\n",
       "meas: 2/══════════════╩══╩═\n",
       "                      0  1 </pre>"
      ],
      "text/plain": [
       "        ┌───┐      ░ ┌─┐   \n",
       "   q_0: ┤ H ├──■───░─┤M├───\n",
       "        └───┘┌─┴─┐ ░ └╥┘┌─┐\n",
       "   q_1: ─────┤ X ├─░──╫─┤M├\n",
       "             └───┘ ░  ║ └╥┘\n",
       "meas: 2/══════════════╩══╩═\n",
       "                      0  1 "
      ]
     },
     "execution_count": 8,
     "metadata": {},
     "output_type": "execute_result"
    }
   ],
   "source": [
    "from qiskit import QuantumCircuit\n",
    "\n",
    "bell = QuantumCircuit(2)\n",
    "bell.h(0)\n",
    "bell.cx(0, 1)\n",
    "bell.measure_all()\n",
    "\n",
    "bell.draw()"
   ]
  },
  {
   "cell_type": "code",
   "execution_count": 9,
   "id": "0d877d8c",
   "metadata": {
    "slideshow": {
     "slide_type": "subslide"
    }
   },
   "outputs": [
    {
     "name": "stdout",
     "output_type": "stream",
     "text": [
      "Job ID: c8pbal977trpt0855g80\n",
      "{'quasi_dists': [{'11': 0.5, '00': 0.5}], 'metadata': [{'header_metadata': None, 'shots': 1024}]}\n",
      "<IBMBackend('ibmq_qasm_simulator')>\n"
     ]
    }
   ],
   "source": [
    "# Specify the program inputs here.\n",
    "program_inputs = {\n",
    "    \"circuits\": bell,\n",
    "    \"circuit_indices\": [0],\n",
    "}\n",
    "\n",
    "job = service.run(\n",
    "    program_id=\"sampler\",\n",
    "    inputs=program_inputs,\n",
    ")\n",
    "\n",
    "# Printing the job ID in case we need to retrieve it later.\n",
    "print(f\"Job ID: {job.job_id}\")\n",
    "\n",
    "# Get the job result - this is blocking and control may not return immediately.\n",
    "result = job.result()\n",
    "print(result)\n",
    "# see which backend the job was executed on\n",
    "print(job.backend)"
   ]
  },
  {
   "cell_type": "markdown",
   "id": "fa4ecf44",
   "metadata": {
    "slideshow": {
     "slide_type": "slide"
    }
   },
   "source": [
    "## BackendV2"
   ]
  },
  {
   "cell_type": "code",
   "execution_count": 10,
   "id": "1d6df794",
   "metadata": {
    "slideshow": {
     "slide_type": "fragment"
    }
   },
   "outputs": [
    {
     "data": {
      "text/plain": [
       "<IBMBackend('ibmq_qasm_simulator')>"
      ]
     },
     "execution_count": 10,
     "metadata": {},
     "output_type": "execute_result"
    }
   ],
   "source": [
    "backend = service.backend(\"ibmq_qasm_simulator\")\n",
    "backend"
   ]
  },
  {
   "cell_type": "code",
   "execution_count": 11,
   "id": "de1aac73",
   "metadata": {
    "slideshow": {
     "slide_type": "subslide"
    }
   },
   "outputs": [
    {
     "data": {
      "text/plain": [
       "'ibmq_qasm_simulator'"
      ]
     },
     "execution_count": 11,
     "metadata": {},
     "output_type": "execute_result"
    }
   ],
   "source": [
    "backend.name"
   ]
  },
  {
   "cell_type": "code",
   "execution_count": 12,
   "id": "c483ff9a",
   "metadata": {
    "slideshow": {
     "slide_type": "subslide"
    }
   },
   "outputs": [
    {
     "data": {
      "text/plain": [
       "32"
      ]
     },
     "execution_count": 12,
     "metadata": {},
     "output_type": "execute_result"
    }
   ],
   "source": [
    "backend.num_qubits"
   ]
  },
  {
   "cell_type": "code",
   "execution_count": 13,
   "id": "facead20",
   "metadata": {
    "slideshow": {
     "slide_type": "subslide"
    }
   },
   "outputs": [
    {
     "data": {
      "text/plain": [
       "300"
      ]
     },
     "execution_count": 13,
     "metadata": {},
     "output_type": "execute_result"
    }
   ],
   "source": [
    "backend.max_circuits"
   ]
  },
  {
   "cell_type": "code",
   "execution_count": 14,
   "id": "376318ed",
   "metadata": {
    "slideshow": {
     "slide_type": "subslide"
    }
   },
   "outputs": [
    {
     "data": {
      "text/plain": [
       "['u1',\n",
       " 'u2',\n",
       " 'u3',\n",
       " 'u',\n",
       " 'p',\n",
       " 'r',\n",
       " 'rx',\n",
       " 'ry',\n",
       " 'rz',\n",
       " 'id',\n",
       " 'x',\n",
       " 'y',\n",
       " 'z',\n",
       " 'h',\n",
       " 's',\n",
       " 'sdg',\n",
       " 'sx',\n",
       " 't',\n",
       " 'tdg',\n",
       " 'swap',\n",
       " 'cx',\n",
       " 'cy',\n",
       " 'cz',\n",
       " 'csx',\n",
       " 'cp',\n",
       " 'cu1',\n",
       " 'cu2',\n",
       " 'cu3',\n",
       " 'rxx',\n",
       " 'ryy',\n",
       " 'rzz',\n",
       " 'rzx',\n",
       " 'ccx',\n",
       " 'cswap',\n",
       " 'mcx',\n",
       " 'mcy',\n",
       " 'mcz',\n",
       " 'mcsx',\n",
       " 'mcp',\n",
       " 'mcu1',\n",
       " 'mcu2',\n",
       " 'mcu3',\n",
       " 'mcrx',\n",
       " 'mcry',\n",
       " 'mcrz',\n",
       " 'mcr',\n",
       " 'mcswap',\n",
       " 'unitary',\n",
       " 'diagonal',\n",
       " 'multiplexer',\n",
       " 'initialize',\n",
       " 'kraus',\n",
       " 'roerror',\n",
       " 'delay']"
      ]
     },
     "execution_count": 14,
     "metadata": {},
     "output_type": "execute_result"
    }
   ],
   "source": [
    "backend.basis_gates"
   ]
  },
  {
   "cell_type": "markdown",
   "id": "6804edeb",
   "metadata": {
    "slideshow": {
     "slide_type": "slide"
    }
   },
   "source": [
    "## Resources\n",
    "\n",
    "Github - https://github.com/Qiskit/qiskit-ibm-runtime\n",
    "\n",
    "Issues - https://github.com/Qiskit/qiskit-ibm-runtime/issues\n",
    "\n",
    "Tutorials - https://qiskit.org/documentation/partners/qiskit_ibm_runtime/tutorials.html\n",
    "\n",
    "Qiskit Runtime on IBM Cloud - https://cloud.ibm.com/quantum\n",
    "\n",
    "Qiskit Runtime on IBM Quantum - https://quantum-computing.ibm.com/\n",
    "\n",
    "Feedback and contributions are welcome!"
   ]
  },
  {
   "cell_type": "markdown",
   "id": "642401bd",
   "metadata": {
    "slideshow": {
     "slide_type": "slide"
    }
   },
   "source": [
    "## Questions?"
   ]
  }
 ],
 "metadata": {
  "celltoolbar": "Slideshow",
  "kernelspec": {
   "display_name": "Python 3 (ipykernel)",
   "language": "python",
   "name": "python3"
  },
  "language_info": {
   "codemirror_mode": {
    "name": "ipython",
    "version": 3
   },
   "file_extension": ".py",
   "mimetype": "text/x-python",
   "name": "python",
   "nbconvert_exporter": "python",
   "pygments_lexer": "ipython3",
   "version": "3.9.9"
  }
 },
 "nbformat": 4,
 "nbformat_minor": 5
}
