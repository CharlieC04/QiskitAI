{
 "cells": [
  {
   "cell_type": "markdown",
   "id": "a2ecf1af-4d9d-482c-8cda-44ae649e40c3",
   "metadata": {},
   "source": [
    "# Quadratic Hamiltonians and Slater determinants\n",
    "\n",
    "This notebook uses the following pull request: https://github.com/Qiskit/qiskit-nature/pull/483.\n",
    "\n",
    "A quadratic Hamiltonian is a Hamiltonian of the form\n",
    "$$\n",
    "    H =\n",
    "    \\sum_{j, k} M_{jk} a^\\dagger_j a_k\n",
    "    + \\frac12 \\sum_{j, k}\n",
    "        (\\Delta_{jk} a^\\dagger_j a^\\dagger_k + \\Delta^*_{jk} a_k a_j)\n",
    "    + \\text{constant}\n",
    "$$\n",
    "where $M$ is a Hermitian matrix ($M^\\dagger = M$) and $\\Delta$ is an antisymmetric matrix ($\\Delta^T = -\\Delta$), and the $\\{a_j\\}$ are fermionic annihilation operators which satisfy the anticommutation relations\n",
    "$$\n",
    "    \\begin{align}\n",
    "        a_j a_k + a_k a_j &= 0 \\\\\n",
    "        a_j a^\\dagger_k + a^\\dagger_k a_j &= \\delta_{pq}\n",
    "    \\end{align}.\n",
    "$$\n",
    "\n",
    "Quadratic Hamiltonians are an important class of Hamiltonians that are classically tractable. Their eigenstates are called fermionic Gaussian states, and they can be efficiently be prepared on a quantum computer.\n",
    "\n",
    "Of course, the `FermionicOp` class can be used to represent any quadratic Hamiltonian. The reason to create a class specifically for quadratic Hamiltonians is that they support special numerical routines that involve performing linear algebra on the matrices $M$ and $\\Delta$. The internal representation format of `FermionicOp` is not suitable for these routines.\n",
    "\n",
    "A quadratic Hamiltonian is initialized using `QuadraticHamiltonian`."
   ]
  },
  {
   "cell_type": "code",
   "execution_count": 1,
   "id": "6b91735f-72e4-46de-a2fa-d2d89db53d6a",
   "metadata": {},
   "outputs": [
    {
     "name": "stdout",
     "output_type": "stream",
     "text": [
      "Fermionic Operator\n",
      "register length=4, number terms=29\n",
      "  4.0\n",
      "+ 1.0 * ( +_0 -_0 )\n",
      "+ 2.0 * ( +_0 -_1 )\n",
      "+ 2.0 * ( +_1 -_0 )\n",
      "+ 3.0 * ( +_0 +_1 )\n",
      "+ 3.0 * ( -_1 -_0 )\n",
      "+ 0.0 * ( +_0 -_2 )\n",
      "+ 0.0 * ( +_2 -_0 )\n",
      "+ 0.0 * ( +_0 +_2 )\n",
      "+ 0.0 * ( -_2 -_0 )\n",
      "+ 0.0 * ( +_0 -_3 )\n",
      "+ 0.0 * ( +_3 -_0 )\n",
      "+ 0.0 * ( +_0 +_3 )\n",
      "+ 0.0 * ( -_3 -_0 )\n",
      "+ 1.0 * ( +_1 -_1 )\n",
      "+ 2.0 * ( +_1 -_2 )\n",
      "+ 2.0 * ( +_2 -_1 )\n",
      "+ 3.0 * ( +_1 +_2 )\n",
      "+ 3.0 * ( -_2 -_1 )\n",
      "+ 0.0 * ( +_1 -_3 )\n",
      "+ 0.0 * ( +_3 -_1 )\n",
      "+ 0.0 * ( +_1 +_3 )\n",
      "+ 0.0 * ( -_3 -_1 )\n",
      "+ 1.0 * ( +_2 -_2 )\n",
      "+ 2.0 * ( +_2 -_3 )\n",
      "+ 2.0 * ( +_3 -_2 )\n",
      "+ 3.0 * ( +_2 +_3 )\n",
      "+ 3.0 * ( -_3 -_2 )\n",
      "+ 1.0 * ( +_3 -_3 )\n"
     ]
    },
    {
     "name": "stderr",
     "output_type": "stream",
     "text": [
      "/home/kevinsung/projects/qiskit-nature/qiskit_nature/operators/second_quantization/quadratic_hamiltonian.py:148: UserWarning: The default value for `display_format` will be changed from 'dense' to 'sparse' in version 0.3.0. Once that happens, you must specify display_format='dense' directly.\n",
      "  return FermionicOp(terms, register_length=self._num_modes)\n"
     ]
    }
   ],
   "source": [
    "import numpy as np\n",
    "from qiskit_nature.operators.second_quantization import QuadraticHamiltonian\n",
    "\n",
    "# create Hamiltonian\n",
    "hermitian_part = np.array(\n",
    "    [\n",
    "        [1.0, 2.0, 0.0, 0.0],\n",
    "        [2.0, 1.0, 2.0, 0.0],\n",
    "        [0.0, 2.0, 1.0, 2.0],\n",
    "        [0.0, 0.0, 2.0, 1.0],\n",
    "    ]\n",
    ")\n",
    "antisymmetric_part = np.array(\n",
    "    [\n",
    "        [0.0, 3.0, 0.0, 0.0],\n",
    "        [-3.0, 0.0, 3.0, 0.0],\n",
    "        [0.0, -3.0, 0.0, 3.0],\n",
    "        [0.0, 0.0, -3.0, 0.0],\n",
    "    ]\n",
    ")\n",
    "constant = 4.0\n",
    "\n",
    "hamiltonian = QuadraticHamiltonian(\n",
    "    hermitian_part=hermitian_part,\n",
    "    antisymmetric_part=antisymmetric_part,\n",
    "    constant=constant,\n",
    ")\n",
    "\n",
    "# convert it to a FermionicOp and print it\n",
    "hamiltonian_ferm = hamiltonian.to_fermionic_op()\n",
    "hamiltonian_ferm.display_format = \"sparse\"\n",
    "hamiltonian_ferm.set_truncation(0)\n",
    "print(hamiltonian_ferm)"
   ]
  },
  {
   "cell_type": "markdown",
   "id": "93b2ca42-9947-45da-ad1e-7c11735dc5a5",
   "metadata": {},
   "source": [
    "## Diagonalization and state preparation\n",
    "A quadratic Hamiltonian can always be rewritten in the form\n",
    "$$\n",
    "    H = \\sum_{j} \\varepsilon_j b^\\dagger_j b_j + \\text{constant}\n",
    "$$\n",
    "where $\\varepsilon_0 \\leq \\varepsilon_1 \\leq \\cdots \\leq \\varepsilon_N$ are non-negative real numbers and\n",
    "the $\\{b_j^\\dagger\\}$ are a new set of fermionic creation operators\n",
    "that also satisfy the canonical anticommutation relations.\n",
    "These new creation operators are linear combinations of the original creation and annihilation operators:\n",
    "$$\n",
    "    \\begin{pmatrix}\n",
    "    b^\\dagger_1 \\\\\n",
    "    \\vdots \\\\\n",
    "    b^\\dagger_N \\\\\n",
    "    \\end{pmatrix}\n",
    "    = W\n",
    "    \\begin{pmatrix}\n",
    "    a^\\dagger_1 \\\\\n",
    "    \\vdots \\\\\n",
    "    a^\\dagger_N \\\\\n",
    "    a_1 \\\\\n",
    "    \\vdots \\\\\n",
    "    a_N\n",
    "    \\end{pmatrix},\n",
    "$$\n",
    "where $W$ is an $N \\times 2N$ matrix. Given a basis of eigenvectors of the Hamiltonian, each eigenvector is labeled by a subset of $\\{0, \\ldots, N - 1\\}$, which we call the occupied orbitals. The corresponding eigenvalue is the sum of the corresponding values of $\\varepsilon_j$, plus the constant.\n",
    "\n",
    "The transformation matrix $W$ is used to construct a circuit to prepare an eigenvector of the Hamiltonian. The circuit is constructed using the `FermionicGaussianState` class. This circuit assumes the Jordan-Wigner Transform is used. The circuit has linear depth and uses only linear qubit connectivity. The algorithm is from https://arxiv.org/abs/1711.05395."
   ]
  },
  {
   "cell_type": "code",
   "execution_count": 2,
   "id": "62be7f36-3abe-4bde-a2cf-82a5c667fa27",
   "metadata": {},
   "outputs": [
    {
     "name": "stdout",
     "output_type": "stream",
     "text": [
      "Shape of matrix W:\n",
      "(4, 8)\n",
      "\n",
      "Orbital energies:\n",
      "[0.29826763 4.38883678 5.5513683  5.64193745]\n",
      "\n",
      "Transformed constant:\n",
      "-1.9402050758492795\n"
     ]
    }
   ],
   "source": [
    "# get the transformation matrix W and orbital energies {epsilon_j}\n",
    "(\n",
    "    transformation_matrix,\n",
    "    orbital_energies,\n",
    "    transformed_constant,\n",
    ") = hamiltonian.diagonalizing_bogoliubov_transform()\n",
    "\n",
    "print(\"Shape of matrix W:\")\n",
    "print(transformation_matrix.shape)\n",
    "print()\n",
    "print(\"Orbital energies:\")\n",
    "print(orbital_energies)\n",
    "print()\n",
    "print(\"Transformed constant:\")\n",
    "print(transformed_constant)"
   ]
  },
  {
   "cell_type": "code",
   "execution_count": 3,
   "id": "ef228c33-90d3-4fe7-a5f9-d42438aa559b",
   "metadata": {},
   "outputs": [
    {
     "name": "stdout",
     "output_type": "stream",
     "text": [
      "Eigenvalue:\n",
      "3.909430851761581\n"
     ]
    },
    {
     "data": {
      "image/png": "[encoded data removed]",
      "text/plain": [
       "<Figure size 1531.4x264.88 with 1 Axes>"
      ]
     },
     "execution_count": 3,
     "metadata": {},
     "output_type": "execute_result"
    }
   ],
   "source": [
    "from qiskit_nature.circuit.library import FermionicGaussianState\n",
    "\n",
    "occupied_orbitals = (0, 2)\n",
    "eig = np.sum(orbital_energies[list(occupied_orbitals)]) + transformed_constant\n",
    "print(\"Eigenvalue:\")\n",
    "print(eig)\n",
    "\n",
    "circuit = FermionicGaussianState(\n",
    "    transformation_matrix, occupied_orbitals=occupied_orbitals\n",
    ")\n",
    "circuit.draw(\"mpl\")"
   ]
  },
  {
   "cell_type": "code",
   "execution_count": 4,
   "id": "498b232d-dde7-4248-aa61-be56a2b59a2d",
   "metadata": {},
   "outputs": [],
   "source": [
    "from qiskit.quantum_info import Statevector\n",
    "from qiskit_nature.mappers.second_quantization import JordanWignerMapper\n",
    "\n",
    "# simulate the circuit to get the final state\n",
    "state = np.array(Statevector(circuit))\n",
    "\n",
    "# convert the Hamiltonian to a matrix\n",
    "hamiltonian_jw = JordanWignerMapper().map(hamiltonian_ferm).to_matrix()\n",
    "\n",
    "# check that the state is an eigenvector with the expected eigenvalue\n",
    "np.testing.assert_allclose(hamiltonian_jw @ state, eig * state, atol=1e-8)"
   ]
  },
  {
   "cell_type": "markdown",
   "id": "e7d2a25e-5f5c-44ae-9e19-ff980704ed3a",
   "metadata": {},
   "source": [
    "## Slater determinants\n",
    "\n",
    "When the antisymmetric part $\\Delta = 0$, then the Hamiltonian conserves particle number. In this case, the basis change only needs to mix creation operators, not annihilation operators:\n",
    "$$\n",
    "    \\begin{pmatrix}\n",
    "    b^\\dagger_1 \\\\\n",
    "    \\vdots \\\\\n",
    "    b^\\dagger_N \\\\\n",
    "    \\end{pmatrix}\n",
    "    = W\n",
    "    \\begin{pmatrix}\n",
    "    a^\\dagger_1 \\\\\n",
    "    \\vdots \\\\\n",
    "    a^\\dagger_N \\\\\n",
    "    \\end{pmatrix},\n",
    "$$\n",
    "where now $W$ is an $N \\times N$ matrix. Furthermore, the $\\{\\varepsilon_j\\}$ are allowed to be negative."
   ]
  },
  {
   "cell_type": "code",
   "execution_count": 5,
   "id": "3193749f-727d-407c-bc22-e0e4e1127a57",
   "metadata": {},
   "outputs": [
    {
     "name": "stdout",
     "output_type": "stream",
     "text": [
      "Hamiltonian conserves particle number:\n",
      "True\n"
     ]
    }
   ],
   "source": [
    "# create Hamiltonian\n",
    "hermitian_part = np.array(\n",
    "    [\n",
    "        [1.0, 2.0, 0.0, 0.0],\n",
    "        [2.0, 1.0, 2.0, 0.0],\n",
    "        [0.0, 2.0, 1.0, 2.0],\n",
    "        [0.0, 0.0, 2.0, 1.0],\n",
    "    ]\n",
    ")\n",
    "constant = 4.0\n",
    "\n",
    "hamiltonian = QuadraticHamiltonian(\n",
    "    hermitian_part=hermitian_part,\n",
    "    constant=constant,\n",
    ")\n",
    "\n",
    "print(\"Hamiltonian conserves particle number:\")\n",
    "print(hamiltonian.conserves_particle_number())"
   ]
  },
  {
   "cell_type": "code",
   "execution_count": 6,
   "id": "46f07608-a62b-4530-bd27-447a08747f95",
   "metadata": {},
   "outputs": [
    {
     "name": "stdout",
     "output_type": "stream",
     "text": [
      "Shape of matrix W:\n",
      "(4, 4)\n",
      "\n",
      "Orbital energies:\n",
      "[-2.23606798 -0.23606798  2.23606798  4.23606798]\n",
      "\n",
      "Transformed constant:\n",
      "4.0\n"
     ]
    }
   ],
   "source": [
    "# get the transformation matrix W and orbital energies {epsilon_j}\n",
    "(\n",
    "    transformation_matrix,\n",
    "    orbital_energies,\n",
    "    transformed_constant,\n",
    ") = hamiltonian.diagonalizing_bogoliubov_transform()\n",
    "\n",
    "print(\"Shape of matrix W:\")\n",
    "print(transformation_matrix.shape)\n",
    "print()\n",
    "print(\"Orbital energies:\")\n",
    "print(orbital_energies)\n",
    "print()\n",
    "print(\"Transformed constant:\")\n",
    "print(transformed_constant)"
   ]
  },
  {
   "cell_type": "markdown",
   "id": "c1c223ae-04cb-4851-a473-76b5368049d9",
   "metadata": {},
   "source": [
    "In this special case, the eigenstates are called Slater determinants, and a more efficient algorithm is used to prepare them. This algorithm is accessed by using the `SlaterDeterminant` class instead of `FermionicGaussianState`. `SlaterDeterminant` does not take the occupied orbitals as input. Instead, the shape of the transformation matrix is allowed to vary. It should be an $\\eta \\times N$ matrix where $\\eta$ is the number of particles."
   ]
  },
  {
   "cell_type": "code",
   "execution_count": 7,
   "id": "f9f232ea-81bb-472f-a3d4-8deacea65be4",
   "metadata": {},
   "outputs": [
    {
     "name": "stdout",
     "output_type": "stream",
     "text": [
      "Eigenvalue:\n",
      "4.000000000000001\n"
     ]
    },
    {
     "data": {
      "image/png": "[encoded data removed]",
      "text/plain": [
       "<Figure size 447.797x264.88 with 1 Axes>"
      ]
     },
     "execution_count": 7,
     "metadata": {},
     "output_type": "execute_result"
    }
   ],
   "source": [
    "from qiskit_nature.circuit.library import SlaterDeterminant\n",
    "\n",
    "occupied_orbitals = (0, 2)\n",
    "eig = np.sum(orbital_energies[list(occupied_orbitals)]) + transformed_constant\n",
    "print(\"Eigenvalue:\")\n",
    "print(eig)\n",
    "\n",
    "circuit = SlaterDeterminant(transformation_matrix[list(occupied_orbitals)])\n",
    "circuit.draw(\"mpl\")"
   ]
  },
  {
   "cell_type": "code",
   "execution_count": 8,
   "id": "5acf1fd1-fa29-4f60-8b3b-0add6995eaf5",
   "metadata": {},
   "outputs": [
    {
     "data": {
      "image/png": "[encoded data removed]",
      "text/plain": [
       "<Figure size 1411x505.68 with 1 Axes>"
      ]
     },
     "execution_count": 8,
     "metadata": {},
     "output_type": "execute_result"
    }
   ],
   "source": [
    "from qiskit.quantum_info import random_hermitian\n",
    "\n",
    "# construct and display some larger circuits\n",
    "N = 8\n",
    "n_particles = 4\n",
    "hermitian_part = np.array(random_hermitian(N))\n",
    "hamiltonian = QuadraticHamiltonian(hermitian_part)\n",
    "transformation_matrix, _, _ = hamiltonian.diagonalizing_bogoliubov_transform()\n",
    "occupied_orbitals = range(n_particles)\n",
    "circuit = SlaterDeterminant(transformation_matrix[list(occupied_orbitals)])\n",
    "circuit.draw(\"mpl\")"
   ]
  }
 ],
 "metadata": {
  "kernelspec": {
   "display_name": "qiskit-nature",
   "language": "python",
   "name": "qiskit-nature"
  },
  "language_info": {
   "codemirror_mode": {
    "name": "ipython",
    "version": 3
   },
   "file_extension": ".py",
   "mimetype": "text/x-python",
   "name": "python",
   "nbconvert_exporter": "python",
   "pygments_lexer": "ipython3",
   "version": "3.9.6"
  }
 },
 "nbformat": 4,
 "nbformat_minor": 5
}
