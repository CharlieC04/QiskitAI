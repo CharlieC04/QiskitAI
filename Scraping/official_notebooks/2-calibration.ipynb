{
 "cells": [
  {
   "cell_type": "markdown",
   "metadata": {
    "slideshow": {
     "slide_type": "slide"
    }
   },
   "source": [
    "# Seamless integration of calibration and application\n",
    "\n",
    "\n",
    "Relevant PRs:\n",
    "- Add pulse gate pass #6759, https://github.com/Qiskit/qiskit-terra/pull/6759\n",
    "- Allow backend cal to export instmap #185, https://github.com/Qiskit/qiskit-experiments/pull/185"
   ]
  },
  {
   "cell_type": "markdown",
   "metadata": {
    "slideshow": {
     "slide_type": "slide"
    }
   },
   "source": [
    "## Problem statement"
   ]
  },
  {
   "cell_type": "markdown",
   "metadata": {
    "slideshow": {
     "slide_type": "subslide"
    }
   },
   "source": [
    "Calibration with Qiskit Pulse:\n",
    "\n",
    "- T. Alexander et al, *Qiskit Pulse: Programming Quantum Computers Through the Cloud with Pulses*, [arXiv:2004.06755](https://arxiv.org/abs/2004.06755)\n",
    "- S. Garion et al, *Experimental implementation of non-Clifford interleaved randomized benchmarking with a controlled-S gate*, [arXiv:2007.08532](https://arxiv.org/abs/2007.08532)\n",
    "- K. Heya and N. Kanazawa, *Cross cross resonance gate*, [arXiv:2103.00024](https://arxiv.org/abs/2103.00024)\n",
    "- Shun Oomura et al, *Design and application of high-speed and high-precision CV gate on IBM Q OpenPulse system*, [arXiv:2102.06117](https://arxiv.org/abs/2102.06117)\n",
    "\n",
    "Currently most of research and development with Qiskit Pulse are limited to **gate level** characterization. "
   ]
  },
  {
   "cell_type": "markdown",
   "metadata": {
    "slideshow": {
     "slide_type": "fragment"
    }
   },
   "source": [
    "We want to show more capability of our software stack, like below paper.\n",
    "\n",
    "- John P. T. Stenger et al, *Simulating the dynamics of braiding of Majorana zero modes using an IBM quantum computer*, [arXiv:2012.11660](https://arxiv.org/abs/2012.11660)"
   ]
  },
  {
   "cell_type": "markdown",
   "metadata": {
    "slideshow": {
     "slide_type": "slide"
    }
   },
   "source": [
    "## Background"
   ]
  },
  {
   "cell_type": "markdown",
   "metadata": {
    "slideshow": {
     "slide_type": "subslide"
    }
   },
   "source": [
    "Qiskit Experiment offers new SDK for calibration development. \n",
    "\n",
    "**Typical workflow (pseudocode)**\n",
    "```{r, eval=FALSE,tidy=FALSE}\n",
    "Declare a backend calibrations: cal\n",
    "Declare a sequence of experiment: exps = [exp1, exp2, ...]\n",
    "\n",
    "for each exp do\n",
    "   run exp, store result in exp_data\n",
    "   update cal with exp_data\n",
    "   upload exp_data to resultdb\n",
    "end do\n",
    "\n",
    "upload cal to remote data base (to be developped)\n",
    "```\n",
    "End-users without knowledge of Qiskit Pulse can run calibration experiment"
   ]
  },
  {
   "cell_type": "markdown",
   "metadata": {
    "slideshow": {
     "slide_type": "subslide"
    }
   },
   "source": [
    "Qiskit quantum circuit supports [pulse gate](https://qiskit.org/documentation/tutorials/circuits_advanced/05_pulse_gates.html) feature.\n",
    "\n",
    "```python\n",
    "qc = QuantumCircuit(2)\n",
    "qc.cx(0, 1)\n",
    "qc.add_calibration(CXGate, (0, 1), my_custom_cx_gate)\n",
    "```\n",
    "\n",
    "Pulse programming is no longer mandatory to use custom gate instruction."
   ]
  },
  {
   "cell_type": "markdown",
   "metadata": {
    "slideshow": {
     "slide_type": "slide"
    }
   },
   "source": [
    "## What to be implemented\n"
   ]
  },
  {
   "cell_type": "markdown",
   "metadata": {
    "slideshow": {
     "slide_type": "subslide"
    }
   },
   "source": [
    "A transpiler pass, that\n",
    "  - loads `InstructionScheduleMap` from the backend, and\n",
    "  - requests gate schedule to the map, and\n",
    "  - attachs a pulse gate to the transpiled circuit if the pass finds an user provided entry.\n",
    "\n",
    "This demo shows implementation of **Richardson extrapolation** for chemistry applications."
   ]
  },
  {
   "cell_type": "markdown",
   "metadata": {
    "slideshow": {
     "slide_type": "subslide"
    }
   },
   "source": [
    "Currently we need to manage these things to apply custom calibration :(\n",
    "- Basis_gates\n",
    "- Coupling_map\n",
    "- Instruction schedule map\n",
    "- Qubit and cavity LO frequencies"
   ]
  },
  {
   "cell_type": "code",
   "execution_count": 1,
   "metadata": {
    "slideshow": {
     "slide_type": "skip"
    }
   },
   "outputs": [
    {
     "data": {
      "text/plain": [
       "<AccountProvider for IBMQ(hub='ibm-q', group='open', project='main')>"
      ]
     },
     "execution_count": 1,
     "metadata": {},
     "output_type": "execute_result"
    }
   ],
   "source": [
    "import warnings\n",
    "warnings.filterwarnings('ignore')\n",
    "\n",
    "import datetime\n",
    "import os\n",
    "import json\n",
    "import numpy as np\n",
    "import matplotlib.pyplot as plt\n",
    "import scipy.optimize as opt\n",
    "from scipy import signal\n",
    "from qiskit import IBMQ, pulse, circuit\n",
    "from qiskit.visualization.pulse_v2 import IQXDebugging\n",
    "from qiskit.result import Result, marginal_counts\n",
    "from qiskit.providers.ibmq.utils.json_encoder import IQXJsonEncoder\n",
    "from qiskit.providers.ibmq.utils.json_decoder import decode_result\n",
    "\n",
    "class DateTimeEncoder(json.JSONEncoder):\n",
    "\n",
    "    def default(self, obj):\n",
    "        if isinstance(obj, (datetime.datetime, datetime.date, datetime.time)):\n",
    "            return obj.isoformat()\n",
    "        elif isinstance(obj, datetime.timedelta):\n",
    "            return (datetime.datetime.min + obj).time().isoformat()\n",
    "\n",
    "        return super(DateTimeEncoder, self).default(obj)\n",
    "\n",
    "IBMQ.load_account()"
   ]
  },
  {
   "cell_type": "markdown",
   "metadata": {
    "slideshow": {
     "slide_type": "slide"
    }
   },
   "source": [
    "### Configurations"
   ]
  },
  {
   "cell_type": "code",
   "execution_count": 2,
   "metadata": {
    "slideshow": {
     "slide_type": "fragment"
    }
   },
   "outputs": [],
   "source": [
    "backend = IBMQ.get_provider(\"ibm-q-internal\", \"deployed\", \"default\").get_backend(\"ibmq_lima\")"
   ]
  },
  {
   "cell_type": "code",
   "execution_count": 3,
   "metadata": {
    "slideshow": {
     "slide_type": "fragment"
    }
   },
   "outputs": [],
   "source": [
    "qubits = 0, 1\n",
    "\n",
    "durs1 = 160, 880\n",
    "durs2 = 320, 1760"
   ]
  },
  {
   "cell_type": "code",
   "execution_count": 4,
   "metadata": {
    "slideshow": {
     "slide_type": "skip"
    }
   },
   "outputs": [],
   "source": [
    "basename = \"lima_20210813\""
   ]
  },
  {
   "cell_type": "markdown",
   "metadata": {
    "slideshow": {
     "slide_type": "skip"
    }
   },
   "source": [
    "### Utils"
   ]
  },
  {
   "cell_type": "code",
   "execution_count": 5,
   "metadata": {
    "slideshow": {
     "slide_type": "skip"
    }
   },
   "outputs": [],
   "source": [
    "def get_params(sx_dur, cx_dur, sigma_r=4, cx_sigma=64, cx_risefall=2):\n",
    "    return {\n",
    "        \"sx0\": {\"duration\": sx_dur, \"amp\": 0., \"sigma\": sx_dur/sigma_r, \"beta\": 0.},\n",
    "        \"sx1\": {\"duration\": sx_dur, \"amp\": 0., \"sigma\": sx_dur/sigma_r, \"beta\": 0.},\n",
    "        \"ecr\": {\"duration\": cx_dur, \"amp\": 0., \"phase\": 0., \"sigma\": cx_sigma, \"risefall_sigma_ratio\": cx_risefall}\n",
    "    }"
   ]
  },
  {
   "cell_type": "code",
   "execution_count": 6,
   "metadata": {
    "slideshow": {
     "slide_type": "skip"
    }
   },
   "outputs": [],
   "source": [
    "def rough_amp(qubits, amps, cals):\n",
    "    amp = circuit.Parameter(\"amp\")\n",
    "    \n",
    "    with pulse.build(backend, default_alignment=\"sequential\") as sched:\n",
    "        with pulse.align_left():\n",
    "            for ind, q in enumerate(qubits):\n",
    "                sxcal = cals[f\"sx{ind}\"].copy()\n",
    "                sxcal[\"amp\"] = amp\n",
    "                pulse.play(pulse.Drag(**sxcal), pulse.drive_channel(q))\n",
    "        pulse.measure(qubits, [pulse.MemorySlot(ind) for ind in range(len(qubits))])\n",
    "    \n",
    "    return [sched.assign_parameters({amp: amp_val}, inplace=False) for amp_val in amps]\n",
    "\n",
    "\n",
    "def rough_amp_cr(qubits, amps, cals):\n",
    "    amp = circuit.Parameter(\"amp\")\n",
    "    qc, qt = qubits\n",
    "    \n",
    "    with pulse.build(backend, default_alignment=\"sequential\") as sched:\n",
    "        sxcal = cals[\"sx0\"]\n",
    "        crcal = cals[\"ecr\"].copy()\n",
    "        crcal[\"amp\"] = amp * np.exp(1j*crcal.pop(\"phase\", 0.))\n",
    "        u_chan = pulse.control_channels(*qubits)[0]\n",
    "        \n",
    "        pulse.play(pulse.GaussianSquare(**crcal), u_chan)\n",
    "        pulse.play(pulse.Drag(**sxcal), pulse.drive_channel(qc))\n",
    "        pulse.play(pulse.Drag(**sxcal), pulse.drive_channel(qc))\n",
    "        with pulse.phase_offset(np.pi, u_chan):\n",
    "            pulse.play(pulse.GaussianSquare(**crcal), u_chan)        \n",
    "        pulse.measure([qt], [pulse.MemorySlot(0)])\n",
    "    \n",
    "    return [sched.assign_parameters({amp: amp_val}, inplace=False) for amp_val in amps]\n",
    "\n",
    "\n",
    "def phase_cr(qubits, phases, cals):\n",
    "    phase = circuit.Parameter(\"phase\")\n",
    "    qc, qt = qubits\n",
    "    \n",
    "    with pulse.build(backend, default_alignment=\"sequential\") as sched:\n",
    "        sxcal_c = cals[\"sx0\"]\n",
    "        sxcal_t = cals[\"sx1\"]\n",
    "        crcal = cals[\"ecr\"].copy()\n",
    "        crcal.pop(\"phase\")\n",
    "        crcal[\"amp\"] *= np.exp(1j*phase)\n",
    "        u_chan = pulse.control_channels(*qubits)[0]\n",
    "        \n",
    "        pulse.play(pulse.GaussianSquare(**crcal), u_chan)\n",
    "        pulse.play(pulse.Drag(**sxcal_c), pulse.drive_channel(qc))\n",
    "        pulse.play(pulse.Drag(**sxcal_c), pulse.drive_channel(qc))\n",
    "        with pulse.phase_offset(np.pi, u_chan):\n",
    "            pulse.play(pulse.GaussianSquare(**crcal), u_chan)\n",
    "        pulse.play(pulse.Drag(**sxcal_t), pulse.drive_channel(qt))\n",
    "        pulse.measure([qt], [pulse.MemorySlot(0)])\n",
    "    \n",
    "    return [sched.assign_parameters({phase: val}, inplace=False) for val in phases]    \n",
    "\n",
    "\n",
    "def fine_amp(qubits, delta_amps, n_rep, cals):\n",
    "    delta_amp = circuit.Parameter(\"delta_amp\")\n",
    "    \n",
    "    with pulse.build(backend=backend, default_alignment=\"sequential\") as sched_p:\n",
    "        with pulse.align_left():\n",
    "            for ind, q in enumerate(qubits):\n",
    "                sxcal = cals[f\"sx{ind}\"].copy()\n",
    "                sxcal[\"amp\"] += delta_amp\n",
    "                sx_pulse = pulse.Drag(**sxcal)\n",
    "                for _ in range(4 * n_rep):\n",
    "                    pulse.play(sx_pulse, pulse.drive_channel(q))\n",
    "                pulse.play(sx_pulse, pulse.drive_channel(q))\n",
    "        pulse.measure(qubits, [pulse.MemorySlot(ind) for ind in range(len(qubits))])\n",
    "\n",
    "    with pulse.build(backend=backend, default_alignment=\"sequential\") as sched_m:\n",
    "        with pulse.align_left():\n",
    "            for ind, q in enumerate(qubits):\n",
    "                sxcal = cals[f\"sx{ind}\"].copy()\n",
    "                sxcal[\"amp\"] += delta_amp\n",
    "                sx_pulse = pulse.Drag(**sxcal)\n",
    "                with pulse.phase_offset(np.pi, pulse.drive_channel(q)):\n",
    "                    for _ in range(4 * n_rep):\n",
    "                        pulse.play(sx_pulse, pulse.drive_channel(q))\n",
    "                pulse.play(sx_pulse, pulse.drive_channel(q))\n",
    "        pulse.measure(qubits, [pulse.MemorySlot(ind) for ind in range(len(qubits))])\n",
    "    \n",
    "    sched_p_assigned = [sched_p.assign_parameters({delta_amp: val}, inplace=False) for val in delta_amps]\n",
    "    sched_m_assigned = [sched_m.assign_parameters({delta_amp: val}, inplace=False) for val in delta_amps]\n",
    "    \n",
    "    return sched_p_assigned + sched_m_assigned    \n",
    "\n",
    "\n",
    "def fine_amp_cr(qubits, delta_amps, n_rep, cals):\n",
    "    delta_amp = circuit.Parameter(\"delta_amp\")\n",
    "    qc, qt = qubits\n",
    "    sxcal_c = cals[\"sx0\"]\n",
    "    sxcal_t = cals[\"sx1\"]\n",
    "    \n",
    "    crcal = cals[\"ecr\"].copy()\n",
    "    _amp = (crcal[\"amp\"] + delta_amp) * np.exp(1j*crcal.pop(\"phase\", 0.))\n",
    "    crcal[\"amp\"] = _amp    \n",
    "    \n",
    "    with pulse.build(backend, default_alignment=\"sequential\") as sched_p:\n",
    "        u_chan = pulse.control_channels(*qubits)[0]\n",
    "        \n",
    "        for _ in range (4 * n_rep):\n",
    "            pulse.play(pulse.GaussianSquare(**crcal), u_chan)\n",
    "            pulse.play(pulse.Drag(**sxcal_c), pulse.drive_channel(qc))\n",
    "            pulse.play(pulse.Drag(**sxcal_c), pulse.drive_channel(qc))\n",
    "            with pulse.phase_offset(np.pi, u_chan):\n",
    "                pulse.play(pulse.GaussianSquare(**crcal), u_chan)\n",
    "            pulse.play(pulse.Drag(**sxcal_c), pulse.drive_channel(qc))\n",
    "            pulse.play(pulse.Drag(**sxcal_c), pulse.drive_channel(qc))\n",
    "        pulse.play(pulse.Drag(**sxcal_t), pulse.drive_channel(qt))\n",
    "        pulse.measure([qt], [pulse.MemorySlot(0)])\n",
    "\n",
    "    with pulse.build(backend=backend, default_alignment=\"sequential\") as sched_m:\n",
    "        u_chan = pulse.control_channels(*qubits)[0]\n",
    "        \n",
    "        for _ in range (4 * n_rep):\n",
    "            with pulse.phase_offset(np.pi, u_chan):\n",
    "                pulse.play(pulse.GaussianSquare(**crcal), u_chan)\n",
    "            pulse.play(pulse.Drag(**sxcal_c), pulse.drive_channel(qc))\n",
    "            pulse.play(pulse.Drag(**sxcal_c), pulse.drive_channel(qc))\n",
    "            pulse.play(pulse.GaussianSquare(**crcal), u_chan)\n",
    "            pulse.play(pulse.Drag(**sxcal_c), pulse.drive_channel(qc))\n",
    "            pulse.play(pulse.Drag(**sxcal_c), pulse.drive_channel(qc))\n",
    "        pulse.play(pulse.Drag(**sxcal_t), pulse.drive_channel(qt))\n",
    "        pulse.measure([qt], [pulse.MemorySlot(0)])\n",
    "    \n",
    "    sched_p_assigned = [sched_p.assign_parameters({delta_amp: val}, inplace=False) for val in delta_amps]\n",
    "    sched_m_assigned = [sched_m.assign_parameters({delta_amp: val}, inplace=False) for val in delta_amps]\n",
    "    \n",
    "    return sched_p_assigned + sched_m_assigned\n",
    "\n",
    "\n",
    "def fine_beta(qubits, delta_betas, n_rep, cals):\n",
    "    delta_beta = circuit.Parameter(\"beta\")\n",
    "    \n",
    "    with pulse.build(backend=backend, default_alignment=\"sequential\") as sched_p:\n",
    "        with pulse.align_left():\n",
    "            for ind, q in enumerate(qubits):\n",
    "                sxcal = cals[f\"sx{ind}\"].copy()\n",
    "                sxcal[\"beta\"] += delta_beta\n",
    "                sx_pulse = pulse.Drag(**sxcal)\n",
    "                pulse.play(sx_pulse, pulse.drive_channel(q))\n",
    "                for _ in range(n_rep):\n",
    "                    pulse.play(sx_pulse, pulse.drive_channel(q))\n",
    "                    with pulse.phase_offset(np.pi, pulse.drive_channel(q)):\n",
    "                        pulse.play(sx_pulse, pulse.drive_channel(q))\n",
    "                with pulse.phase_offset(0.5 * np.pi, pulse.drive_channel(q)):\n",
    "                    pulse.play(sx_pulse, pulse.drive_channel(q))\n",
    "        pulse.measure(qubits, [pulse.MemorySlot(ind) for ind in range(len(qubits))])\n",
    "\n",
    "    with pulse.build(backend=backend, default_alignment=\"sequential\") as sched_m:\n",
    "        with pulse.align_left():\n",
    "            for ind, q in enumerate(qubits):\n",
    "                sxcal = cals[f\"sx{ind}\"].copy()\n",
    "                sxcal[\"beta\"] += delta_beta\n",
    "                sx_pulse = pulse.Drag(**sxcal)\n",
    "                pulse.play(sx_pulse, pulse.drive_channel(q))\n",
    "                for _ in range(n_rep):\n",
    "                    pulse.play(sx_pulse, pulse.drive_channel(q))\n",
    "                    with pulse.phase_offset(np.pi, pulse.drive_channel(q)):\n",
    "                        pulse.play(sx_pulse, pulse.drive_channel(q))\n",
    "                with pulse.phase_offset(-0.5 * np.pi, pulse.drive_channel(q)):\n",
    "                    pulse.play(sx_pulse, pulse.drive_channel(q))\n",
    "        pulse.measure(qubits, [pulse.MemorySlot(ind) for ind in range(len(qubits))])\n",
    "    \n",
    "    sched_p_assigned = [sched_p.assign_parameters({delta_beta: val}, inplace=False) for val in delta_betas]\n",
    "    sched_m_assigned = [sched_m.assign_parameters({delta_beta: val}, inplace=False) for val in delta_betas]\n",
    "    \n",
    "    return sched_p_assigned + sched_m_assigned"
   ]
  },
  {
   "cell_type": "code",
   "execution_count": 7,
   "metadata": {
    "slideshow": {
     "slide_type": "skip"
    }
   },
   "outputs": [],
   "source": [
    "def run(scheds, exp_name, **options):\n",
    "    fpstr = f\"./{basename}_{exp_name}.json\"\n",
    "    if os.path.isfile(fpstr):\n",
    "        with open(fpstr, \"r\") as fp:\n",
    "            cache = json.load(fp)\n",
    "        return Result.from_dict(cache)\n",
    "    \n",
    "    job = backend.run(scheds, **options)\n",
    "    result = job.result(timeout=3600)    \n",
    "    with open(fpstr, \"w\") as fp:\n",
    "        json.dump(result.to_dict(), fp, cls=DateTimeEncoder)\n",
    "    return result\n",
    "\n",
    "def get_expval(result, ind, shots):\n",
    "    res = []\n",
    "    for circ_res in result.get_counts():\n",
    "        counts = 0\n",
    "        for key, count in circ_res.items():\n",
    "            if key[::-1][ind] == \"1\":\n",
    "                counts += count\n",
    "        res.append(counts/shots)\n",
    "    \n",
    "    return 2 * (0.5 - np.asarray(res, dtype=float))\n",
    "\n",
    "def find_cross_point(xdata, ydata1, ydata2, n=4, filt_dim=5):\n",
    "    ydata1 = signal.savgol_filter(ydata1, filt_dim, 1)\n",
    "    ydata2 = signal.savgol_filter(ydata2, filt_dim, 1)\n",
    "    \n",
    "    cross_points = xdata[1:][np.diff(np.sign(ydata1 - ydata2)) != 0]\n",
    "    main_cross = cross_points[np.argmin(np.abs(cross_points))]\n",
    "    idx = np.argmin(np.abs(xdata - main_cross))\n",
    "\n",
    "    x_reduced = xdata[idx-n:idx+n]\n",
    "    y1_reduced = ydata1[idx-n:idx+n]\n",
    "    y2_reduced = ydata2[idx-n:idx+n]\n",
    "\n",
    "    p1 = np.polyfit(x_reduced, y1_reduced, 1)\n",
    "    p2 = np.polyfit(x_reduced, y2_reduced, 1)\n",
    "\n",
    "    cross_opt = (p2[1] - p1[1]) / (p1[0] - p2[0])\n",
    "    \n",
    "    return cross_opt"
   ]
  },
  {
   "cell_type": "markdown",
   "metadata": {
    "slideshow": {
     "slide_type": "skip"
    }
   },
   "source": [
    "### Run calibration"
   ]
  },
  {
   "cell_type": "code",
   "execution_count": 8,
   "metadata": {
    "slideshow": {
     "slide_type": "skip"
    }
   },
   "outputs": [],
   "source": [
    "params1 = get_params(*durs1)\n",
    "params2 = get_params(*durs2)"
   ]
  },
  {
   "cell_type": "markdown",
   "metadata": {
    "slideshow": {
     "slide_type": "skip"
    }
   },
   "source": [
    "single qubit gate"
   ]
  },
  {
   "cell_type": "code",
   "execution_count": 9,
   "metadata": {
    "slideshow": {
     "slide_type": "skip"
    }
   },
   "outputs": [],
   "source": [
    "amps = np.linspace(-0.2, 0.2, 31)\n",
    "\n",
    "result = run(\n",
    "    rough_amp(qubits, amps, params1) + rough_amp(qubits, amps, params2),\n",
    "    \"rough_amp\",\n",
    "    shots=128\n",
    ")"
   ]
  },
  {
   "cell_type": "code",
   "execution_count": 10,
   "metadata": {
    "slideshow": {
     "slide_type": "skip"
    }
   },
   "outputs": [
    {
     "name": "stdout",
     "output_type": "stream",
     "text": [
      "qubit 0 amp = 0.06190683049046956\n",
      "qubit 0 amp = 0.030891625013434336\n",
      "qubit 1 amp = 0.07819842804698184\n",
      "qubit 1 amp = 0.039139513770162594\n"
     ]
    },
    {
     "data": {
      "image/png": "[encoded data removed]",
      "text/plain": [
       "<Figure size 432x288 with 2 Axes>"
      ]
     },
     "metadata": {
      "needs_background": "light"
     },
     "output_type": "display_data"
    }
   ],
   "source": [
    "fig, axs = plt.subplots(2, 1, sharex=True)\n",
    "\n",
    "fit_func = lambda x, a, b, f: a * np.cos(2 * np.pi * f * x) + b\n",
    "bounds = (0, -1, 0), (1, 1, np.inf)\n",
    "\n",
    "for qind, ax in enumerate(axs):\n",
    "    expvals = np.split(get_expval(result, qind, 128), 2)\n",
    "    for expval, params_dict, color in zip(expvals, (params1, params2), (\"r\", \"b\")):\n",
    "        # freq init guess\n",
    "        fft_data = np.fft.fft(expval - np.average(expval))\n",
    "        freqs = np.fft.fftfreq(len(amps), amps[1] - amps[0])\n",
    "        positive_freqs = freqs[freqs >= 0]\n",
    "        positive_fft_data = fft_data[freqs >= 0]\n",
    "        f0 = positive_freqs[np.argmax(np.abs(positive_fft_data))]\n",
    "        # fit\n",
    "        pcov, _ = opt.curve_fit(fit_func, amps, expval, p0=[1, 0, f0], bounds=bounds)\n",
    "        # plot\n",
    "        ax.plot(amps, expval, \"o\", color=color)\n",
    "        ax.plot(amps, fit_func(amps, *pcov), \":\", color=color)\n",
    "        hpi_amp = 1/(2*pcov[2])/2\n",
    "        ax.axvline(hpi_amp, color=color)\n",
    "        # update parameters\n",
    "        print(f\"qubit {qind} amp = {hpi_amp}\")\n",
    "        params_dict[f\"sx{qind}\"][\"amp\"] = hpi_amp"
   ]
  },
  {
   "cell_type": "code",
   "execution_count": 11,
   "metadata": {
    "slideshow": {
     "slide_type": "skip"
    }
   },
   "outputs": [],
   "source": [
    "delta_amps = np.linspace(-0.02, 0.02, 21)\n",
    "\n",
    "result = run(\n",
    "    fine_amp(qubits, delta_amps, 1, params1) + fine_amp(qubits, delta_amps, 1, params2),\n",
    "    \"fine_amp1\",\n",
    "    shots=128\n",
    ")"
   ]
  },
  {
   "cell_type": "code",
   "execution_count": 12,
   "metadata": {
    "slideshow": {
     "slide_type": "skip"
    }
   },
   "outputs": [
    {
     "name": "stdout",
     "output_type": "stream",
     "text": [
      "qubit 0, Δamp = -0.0012949803759553817\n",
      "qubit 0, Δamp = -0.0005709589041095901\n",
      "qubit 1, Δamp = -0.0012403433476394854\n",
      "qubit 1, Δamp = -0.00030834160873882953\n"
     ]
    },
    {
     "data": {
      "image/png": "[encoded data removed]",
      "text/plain": [
       "<Figure size 432x288 with 2 Axes>"
      ]
     },
     "metadata": {
      "needs_background": "light"
     },
     "output_type": "display_data"
    }
   ],
   "source": [
    "fig, axs = plt.subplots(2, 1, sharex=True)\n",
    "\n",
    "for qind, ax in enumerate(axs):\n",
    "    expvals = np.split(get_expval(result, qind, 128), 2)\n",
    "    for expval, params_dict, color in zip(expvals, (params1, params2), (\"red\", \"blue\")):\n",
    "        yp, ym = np.split(expval, 2)\n",
    "        p = find_cross_point(delta_amps, yp, ym)\n",
    "        # plot\n",
    "        ax.plot(delta_amps, yp, \"^\", color=color)\n",
    "        ax.plot(delta_amps, ym, \"v\", color=color)\n",
    "        ax.axvline(p, color=color)\n",
    "        # update parameters\n",
    "        print(f\"qubit {qind}, Δamp = {p}\")\n",
    "        params_dict[f\"sx{qind}\"][\"amp\"] += p"
   ]
  },
  {
   "cell_type": "code",
   "execution_count": 13,
   "metadata": {
    "slideshow": {
     "slide_type": "skip"
    }
   },
   "outputs": [],
   "source": [
    "delta_betas = np.linspace(-10, 10, 21)\n",
    "\n",
    "result = run(\n",
    "    fine_beta(qubits, delta_betas, 3, params1) + fine_beta(qubits, delta_betas, 3, params2),\n",
    "    \"fine_beta1\",\n",
    "    shots=1024\n",
    ")"
   ]
  },
  {
   "cell_type": "code",
   "execution_count": 14,
   "metadata": {
    "slideshow": {
     "slide_type": "skip"
    }
   },
   "outputs": [
    {
     "name": "stdout",
     "output_type": "stream",
     "text": [
      "qubit 0, Δbeta = 0.6771684682309518\n",
      "qubit 0, Δbeta = 0.6236837408531145\n",
      "qubit 1, Δbeta = -1.5364380899500278\n",
      "qubit 1, Δbeta = -2.5114264985943593\n"
     ]
    },
    {
     "data": {
      "image/png": "[encoded data removed]",
      "text/plain": [
       "<Figure size 432x288 with 2 Axes>"
      ]
     },
     "metadata": {
      "needs_background": "light"
     },
     "output_type": "display_data"
    }
   ],
   "source": [
    "fig, axs = plt.subplots(2, 1, sharex=True)\n",
    "\n",
    "for qind, ax in enumerate(axs):\n",
    "    expvals = np.split(get_expval(result, qind, 1024), 2)\n",
    "    for expval, params_dict, color in zip(expvals, (params1, params2), (\"red\", \"blue\")):\n",
    "        yp, ym = np.split(expval, 2)\n",
    "        p = find_cross_point(delta_betas, yp, ym)\n",
    "        # plot\n",
    "        ax.plot(delta_betas, yp, \"^\", color=color)\n",
    "        ax.plot(delta_betas, ym, \"v\", color=color)\n",
    "        ax.axvline(p, color=color)\n",
    "        # update parameters\n",
    "        print(f\"qubit {qind}, Δbeta = {p}\")\n",
    "        params_dict[f\"sx{qind}\"][\"beta\"] += p"
   ]
  },
  {
   "cell_type": "code",
   "execution_count": 15,
   "metadata": {
    "slideshow": {
     "slide_type": "skip"
    }
   },
   "outputs": [],
   "source": [
    "delta_amps = np.linspace(-0.005, 0.005, 21)\n",
    "\n",
    "result = run(\n",
    "    fine_amp(qubits, delta_amps, 2, params1) + fine_amp(qubits, delta_amps, 2, params2),\n",
    "    \"fine_amp2\",\n",
    "    shots=128\n",
    ")"
   ]
  },
  {
   "cell_type": "code",
   "execution_count": 16,
   "metadata": {
    "slideshow": {
     "slide_type": "skip"
    }
   },
   "outputs": [
    {
     "name": "stdout",
     "output_type": "stream",
     "text": [
      "qubit 0, amp = 0.00037509025270758133\n",
      "qubit 0, amp = 0.00019657724329324723\n",
      "qubit 1, amp = -8.221291602380456e-05\n",
      "qubit 1, amp = -0.00010003758456527213\n"
     ]
    },
    {
     "data": {
      "image/png": "[encoded data removed]",
      "text/plain": [
       "<Figure size 432x288 with 2 Axes>"
      ]
     },
     "metadata": {
      "needs_background": "light"
     },
     "output_type": "display_data"
    }
   ],
   "source": [
    "fig, axs = plt.subplots(2, 1, sharex=True)\n",
    "\n",
    "for qind, ax in enumerate(axs):\n",
    "    expvals = np.split(get_expval(result, qind, 128), 2)\n",
    "    for expval, params_dict, color in zip(expvals, (params1, params2), (\"red\", \"blue\")):\n",
    "        yp, ym = np.split(expval, 2)\n",
    "        p = find_cross_point(delta_amps, yp, ym)\n",
    "        # plot\n",
    "        ax.plot(delta_amps, yp, \"^\", color=color)\n",
    "        ax.plot(delta_amps, ym, \"v\", color=color)\n",
    "        ax.axvline(p, color=color)\n",
    "        # update parameters\n",
    "        print(f\"qubit {qind}, amp = {p}\")\n",
    "        params_dict[f\"sx{qind}\"][\"amp\"] += p"
   ]
  },
  {
   "cell_type": "markdown",
   "metadata": {
    "slideshow": {
     "slide_type": "skip"
    }
   },
   "source": [
    "two qubit gate"
   ]
  },
  {
   "cell_type": "code",
   "execution_count": 17,
   "metadata": {
    "slideshow": {
     "slide_type": "skip"
    }
   },
   "outputs": [],
   "source": [
    "amps = np.linspace(-0.8, 0.8, 51)\n",
    "\n",
    "result = run(\n",
    "    rough_amp_cr(qubits, amps, params1) + rough_amp_cr(qubits, amps, params2),\n",
    "    \"rough_amp_cr\",\n",
    "    shots=128\n",
    ")"
   ]
  },
  {
   "cell_type": "code",
   "execution_count": 18,
   "metadata": {
    "slideshow": {
     "slide_type": "skip"
    }
   },
   "outputs": [
    {
     "name": "stdout",
     "output_type": "stream",
     "text": [
      "ECR amp = 0.21256288874575127\n",
      "ECR amp = 0.09478450688936299\n"
     ]
    },
    {
     "data": {
      "image/png": "[encoded data removed]",
      "text/plain": [
       "<Figure size 432x288 with 1 Axes>"
      ]
     },
     "metadata": {
      "needs_background": "light"
     },
     "output_type": "display_data"
    }
   ],
   "source": [
    "fit_func = lambda x, a, b, f: a * np.cos(2 * np.pi * f * x) + b\n",
    "bounds = (0, -1, 0), (1, 1, np.inf)\n",
    "\n",
    "expvals = np.split(get_expval(result, 0, 128), 2)\n",
    "for expval, params_dict, color in zip(expvals, (params1, params2), (\"r\", \"b\")):\n",
    "    # freq init guess\n",
    "    fft_data = np.fft.fft(expval - np.average(expval))\n",
    "    freqs = np.fft.fftfreq(len(amps), amps[1] - amps[0])\n",
    "    positive_freqs = freqs[freqs >= 0]\n",
    "    positive_fft_data = fft_data[freqs >= 0]\n",
    "    f0 = positive_freqs[np.argmax(np.abs(positive_fft_data))]\n",
    "    # fit\n",
    "    pcov, _ = opt.curve_fit(\n",
    "        fit_func,\n",
    "        amps, \n",
    "        expval,\n",
    "        p0=[1, 0, f0], \n",
    "        bounds=bounds,\n",
    "        sigma=1/(1-np.abs(amps)) - 0.99,\n",
    "        absolute_sigma=True,\n",
    "    )\n",
    "    # plot\n",
    "    plt.plot(amps, expval, \"o\", color=color)\n",
    "    plt.plot(amps, fit_func(amps, *pcov), \":\", color=color)\n",
    "    hpi_amp = 1/(2*pcov[2])/2\n",
    "    plt.axvline(hpi_amp, color=color)\n",
    "    # update parameters\n",
    "    print(f\"ECR amp = {hpi_amp}\")\n",
    "    params_dict[\"ecr\"][\"amp\"] = hpi_amp"
   ]
  },
  {
   "cell_type": "code",
   "execution_count": 19,
   "metadata": {
    "slideshow": {
     "slide_type": "skip"
    }
   },
   "outputs": [],
   "source": [
    "phases = np.linspace(-np.pi, np.pi, 31)\n",
    "\n",
    "result = run(\n",
    "    phase_cr(qubits, phases, params1) + phase_cr(qubits, phases, params2),\n",
    "    \"rough_phase_cr\",\n",
    "    shots=128\n",
    ")"
   ]
  },
  {
   "cell_type": "code",
   "execution_count": 20,
   "metadata": {
    "slideshow": {
     "slide_type": "skip"
    }
   },
   "outputs": [
    {
     "name": "stdout",
     "output_type": "stream",
     "text": [
      "ECR phase = -1.5936465736763337\n",
      "ECR phase = -1.700260556225036\n"
     ]
    },
    {
     "data": {
      "image/png": "[encoded data removed]",
      "text/plain": [
       "<Figure size 432x288 with 1 Axes>"
      ]
     },
     "metadata": {
      "needs_background": "light"
     },
     "output_type": "display_data"
    }
   ],
   "source": [
    "fit_func = lambda x, a, b, phi: a * np.cos(x - phi) + b\n",
    "bounds = (0, -1, -np.pi), (1, 1, np.pi)\n",
    "\n",
    "expvals = np.split(get_expval(result, 0, 128), 2)\n",
    "for expval, params_dict, color in zip(expvals, (params1, params2), (\"r\", \"b\")):\n",
    "    # fit\n",
    "    pcov, _ = opt.curve_fit(fit_func, phases, expval, p0=[1, 0, 0], bounds=bounds)\n",
    "    # plot\n",
    "    plt.plot(phases, expval, \"o\", color=color)\n",
    "    plt.plot(phases, fit_func(phases, *pcov), \":\", color=color)\n",
    "    cr_phase = pcov[2] + np.pi\n",
    "    if cr_phase > np.pi:\n",
    "        cr_phase -= 2 * np.pi\n",
    "    plt.axvline(cr_phase, color=color)\n",
    "    # update parameters\n",
    "    print(f\"ECR phase = {cr_phase}\")\n",
    "    params_dict[\"ecr\"][\"phase\"] = cr_phase"
   ]
  },
  {
   "cell_type": "code",
   "execution_count": 21,
   "metadata": {
    "slideshow": {
     "slide_type": "skip"
    }
   },
   "outputs": [],
   "source": [
    "delta_amps = np.linspace(-0.05, 0.05, 21)\n",
    "\n",
    "result = run(\n",
    "    fine_amp_cr(qubits, delta_amps, 1, params1) + fine_amp_cr(qubits, delta_amps, 1, params2),\n",
    "    \"fine_amp_cr\",\n",
    "    shots=128\n",
    ")"
   ]
  },
  {
   "cell_type": "code",
   "execution_count": 22,
   "metadata": {
    "slideshow": {
     "slide_type": "skip"
    }
   },
   "outputs": [
    {
     "name": "stdout",
     "output_type": "stream",
     "text": [
      "ECR Δamp = -0.013319767441860463\n",
      "ECR Δamp = -0.011817283950617284\n"
     ]
    },
    {
     "data": {
      "image/png": "[encoded data removed]",
      "text/plain": [
       "<Figure size 432x288 with 1 Axes>"
      ]
     },
     "metadata": {
      "needs_background": "light"
     },
     "output_type": "display_data"
    }
   ],
   "source": [
    "expvals = np.split(get_expval(result, 0, 128), 2)\n",
    "for expval, params_dict, color in zip(expvals, (params1, params2), (\"red\", \"blue\")):\n",
    "    yp, ym = np.split(expval, 2)\n",
    "    p = find_cross_point(delta_amps, yp, ym)\n",
    "    # plot\n",
    "    plt.plot(delta_amps, yp, \"^\", color=color)\n",
    "    plt.plot(delta_amps, ym, \"v\", color=color)\n",
    "    plt.axvline(p, color=color)\n",
    "    # update parameters\n",
    "    print(f\"ECR Δamp = {p}\")\n",
    "    params_dict[f\"ecr\"][\"amp\"] += p"
   ]
  },
  {
   "cell_type": "code",
   "execution_count": 23,
   "metadata": {
    "slideshow": {
     "slide_type": "skip"
    }
   },
   "outputs": [
    {
     "data": {
      "text/plain": [
       "{'sx0': {'duration': 160,\n",
       "  'amp': 0.060986940367221756,\n",
       "  'sigma': 40.0,\n",
       "  'beta': 0.6771684682309518},\n",
       " 'sx1': {'duration': 160,\n",
       "  'amp': 0.07687587178331853,\n",
       "  'sigma': 40.0,\n",
       "  'beta': -1.5364380899500278},\n",
       " 'ecr': {'duration': 880,\n",
       "  'amp': 0.1992431213038908,\n",
       "  'phase': -1.5936465736763337,\n",
       "  'sigma': 64,\n",
       "  'risefall_sigma_ratio': 2}}"
      ]
     },
     "execution_count": 23,
     "metadata": {},
     "output_type": "execute_result"
    }
   ],
   "source": [
    "params1"
   ]
  },
  {
   "cell_type": "code",
   "execution_count": 24,
   "metadata": {
    "slideshow": {
     "slide_type": "skip"
    }
   },
   "outputs": [
    {
     "data": {
      "text/plain": [
       "{'sx0': {'duration': 320,\n",
       "  'amp': 0.030517243352617993,\n",
       "  'sigma': 80.0,\n",
       "  'beta': 0.6236837408531145},\n",
       " 'sx1': {'duration': 320,\n",
       "  'amp': 0.03873113457685849,\n",
       "  'sigma': 80.0,\n",
       "  'beta': -2.5114264985943593},\n",
       " 'ecr': {'duration': 1760,\n",
       "  'amp': 0.0829672229387457,\n",
       "  'phase': -1.700260556225036,\n",
       "  'sigma': 64,\n",
       "  'risefall_sigma_ratio': 2}}"
      ]
     },
     "execution_count": 24,
     "metadata": {},
     "output_type": "execute_result"
    }
   ],
   "source": [
    "params2"
   ]
  },
  {
   "cell_type": "markdown",
   "metadata": {
    "slideshow": {
     "slide_type": "slide"
    }
   },
   "source": [
    "### Prepare backend calibration manager"
   ]
  },
  {
   "cell_type": "code",
   "execution_count": 25,
   "metadata": {
    "slideshow": {
     "slide_type": "-"
    }
   },
   "outputs": [],
   "source": [
    "from qiskit_experiments.calibration_management import BackendCalibrations\n",
    "from qiskit_experiments.calibration_management.parameter_value import ParameterValue\n",
    "from datetime import datetime\n",
    "import pandas as pd"
   ]
  },
  {
   "cell_type": "code",
   "execution_count": 26,
   "metadata": {
    "slideshow": {
     "slide_type": "-"
    }
   },
   "outputs": [],
   "source": [
    "cal_manager = BackendCalibrations(backend=backend)"
   ]
  },
  {
   "cell_type": "markdown",
   "metadata": {
    "slideshow": {
     "slide_type": "-"
    }
   },
   "source": [
    "Manually populate parameters for now. Full calibration chain is not supported by v0.1."
   ]
  },
  {
   "cell_type": "code",
   "execution_count": 27,
   "metadata": {
    "slideshow": {
     "slide_type": "skip"
    }
   },
   "outputs": [],
   "source": [
    "# add sx schedule\n",
    "sx_amp = circuit.Parameter(\"amp\")\n",
    "sx_dur = circuit.Parameter(\"τ\")\n",
    "sx_beta = circuit.Parameter(\"β\")\n",
    "sx_sigma = circuit.Parameter(\"σ\")\n",
    "ch_d = pulse.DriveChannel(circuit.Parameter(\"ch0\"))\n",
    "\n",
    "with pulse.build(name=\"sx\") as sx_sched:\n",
    "    pulse.play(\n",
    "        pulse.Drag(duration=sx_dur, amp=sx_amp, sigma=sx_sigma, beta=sx_beta), \n",
    "        ch_d\n",
    "    )\n",
    "\n",
    "cal_manager.add_schedule(sx_sched)"
   ]
  },
  {
   "cell_type": "code",
   "execution_count": 28,
   "metadata": {
    "slideshow": {
     "slide_type": "skip"
    }
   },
   "outputs": [],
   "source": [
    "# parameters for ecr\n",
    "ecr_amp = circuit.Parameter(\"amp\")\n",
    "ecr_phase = circuit.Parameter(\"θ\")\n",
    "ecr_dur = circuit.Parameter(\"τ\")\n",
    "ecr_sigma = circuit.Parameter(\"σ\")\n",
    "ch_u = backend.configuration().control(qubits)[0]\n",
    "\n",
    "with pulse.build(name=\"ecr\", default_alignment=\"sequential\") as ecr_sched:\n",
    "    with pulse.phase_offset(ecr_phase, ch_u):\n",
    "        pulse.play(\n",
    "            pulse.GaussianSquare(duration=ecr_dur, amp=ecr_amp, sigma=ecr_sigma, risefall_sigma_ratio=2), \n",
    "            ch_u\n",
    "        )\n",
    "        pulse.call(cal_manager.get_template(\"sx\", qubits=(qubits[0], )))\n",
    "        pulse.call(cal_manager.get_template(\"sx\", qubits=(qubits[0], )))\n",
    "        pulse.play(\n",
    "            pulse.GaussianSquare(duration=ecr_dur, amp=-ecr_amp, sigma=ecr_sigma, risefall_sigma_ratio=2), \n",
    "            ch_u\n",
    "        )\n",
    "\n",
    "cal_manager.add_schedule(ecr_sched)"
   ]
  },
  {
   "cell_type": "markdown",
   "metadata": {
    "slideshow": {
     "slide_type": "skip"
    }
   },
   "source": [
    "Add parameters"
   ]
  },
  {
   "cell_type": "code",
   "execution_count": 29,
   "metadata": {
    "slideshow": {
     "slide_type": "skip"
    }
   },
   "outputs": [],
   "source": [
    "for ind, param in enumerate([params1, params2]):\n",
    "    group = ind + 1\n",
    "    \n",
    "    # sx\n",
    "    for qind in qubits:\n",
    "        cal_manager.add_parameter_value(\n",
    "            value=ParameterValue(value=param[f\"sx{qind}\"][\"duration\"], date_time=datetime.now(), group=f\"sf{group}\"),\n",
    "            param=sx_dur,\n",
    "            qubits=qind,\n",
    "            schedule=\"sx\",\n",
    "        )\n",
    "        cal_manager.add_parameter_value(\n",
    "            value=ParameterValue(value=param[f\"sx{qind}\"][\"amp\"], date_time=datetime.now(), group=f\"sf{group}\"),\n",
    "            param=sx_amp,\n",
    "            qubits=qind,\n",
    "            schedule=\"sx\",\n",
    "        )\n",
    "        cal_manager.add_parameter_value(\n",
    "            value=ParameterValue(value=param[f\"sx{qind}\"][\"sigma\"], date_time=datetime.now(), group=f\"sf{group}\"),\n",
    "            param=sx_sigma,\n",
    "            qubits=qind,\n",
    "            schedule=\"sx\",\n",
    "        )\n",
    "        cal_manager.add_parameter_value(\n",
    "            value=ParameterValue(value=param[f\"sx{qind}\"][\"beta\"], date_time=datetime.now(), group=f\"sf{group}\"),\n",
    "            param=sx_beta,\n",
    "            qubits=qind,\n",
    "            schedule=\"sx\",\n",
    "        )\n",
    "        cal_manager.add_parameter_value(\n",
    "            value=ParameterValue(value=qind, date_time=datetime.now(), group=f\"sf{group}\"),\n",
    "            param=ch_d,\n",
    "            qubits=qind,\n",
    "            schedule=\"sx\",\n",
    "        )\n",
    "    # ecr\n",
    "    cal_manager.add_parameter_value(\n",
    "        value=ParameterValue(value=param[\"ecr\"][\"duration\"], date_time=datetime.now(), group=f\"sf{group}\"),\n",
    "        param=ecr_dur,\n",
    "        qubits=qubits,\n",
    "        schedule=\"ecr\",\n",
    "    )\n",
    "    cal_manager.add_parameter_value(\n",
    "        value=ParameterValue(value=param[\"ecr\"][\"amp\"], date_time=datetime.now(), group=f\"sf{group}\"),\n",
    "        param=ecr_amp,\n",
    "        qubits=qubits,\n",
    "        schedule=\"ecr\",\n",
    "    )\n",
    "    cal_manager.add_parameter_value(\n",
    "        value=ParameterValue(value=param[\"ecr\"][\"phase\"], date_time=datetime.now(), group=f\"sf{group}\"),\n",
    "        param=ecr_phase,\n",
    "        qubits=qubits,\n",
    "        schedule=\"ecr\",\n",
    "    )\n",
    "    cal_manager.add_parameter_value(\n",
    "        value=ParameterValue(value=param[\"ecr\"][\"sigma\"], date_time=datetime.now(), group=f\"sf{group}\"),\n",
    "        param=ecr_sigma,\n",
    "        qubits=qubits,\n",
    "        schedule=\"ecr\",\n",
    "    )\n",
    "    cal_manager.add_parameter_value(\n",
    "        value=ParameterValue(value=qubits[0], date_time=datetime.now(), group=f\"sf{group}\"),\n",
    "        param=ch_d,\n",
    "        qubits=qubits[0],\n",
    "        schedule=\"ecr\",\n",
    "    )    "
   ]
  },
  {
   "cell_type": "markdown",
   "metadata": {
    "slideshow": {
     "slide_type": "subslide"
    }
   },
   "source": [
    "Calibrated parameters"
   ]
  },
  {
   "cell_type": "code",
   "execution_count": 30,
   "metadata": {
    "slideshow": {
     "slide_type": "fragment"
    }
   },
   "outputs": [],
   "source": [
    "df = pd.DataFrame(cal_manager.parameters_table())"
   ]
  },
  {
   "cell_type": "code",
   "execution_count": 31,
   "metadata": {
    "slideshow": {
     "slide_type": "skip"
    }
   },
   "outputs": [
    {
     "data": {
      "text/html": [
       "<div>\n",
       "<style scoped>\n",
       "    .dataframe tbody tr th:only-of-type {\n",
       "        vertical-align: middle;\n",
       "    }\n",
       "\n",
       "    .dataframe tbody tr th {\n",
       "        vertical-align: top;\n",
       "    }\n",
       "\n",
       "    .dataframe thead th {\n",
       "        text-align: right;\n",
       "    }\n",
       "</style>\n",
       "<table border=\"1\" class=\"dataframe\">\n",
       "  <thead>\n",
       "    <tr style=\"text-align: right;\">\n",
       "      <th></th>\n",
       "      <th>value</th>\n",
       "      <th>date_time</th>\n",
       "      <th>valid</th>\n",
       "      <th>exp_id</th>\n",
       "      <th>group</th>\n",
       "      <th>qubits</th>\n",
       "      <th>parameter</th>\n",
       "      <th>schedule</th>\n",
       "    </tr>\n",
       "  </thead>\n",
       "  <tbody>\n",
       "    <tr>\n",
       "      <th>15</th>\n",
       "      <td>64.000000</td>\n",
       "      <td>2021-08-13 20:43:24.660958</td>\n",
       "      <td>True</td>\n",
       "      <td>None</td>\n",
       "      <td>sf1</td>\n",
       "      <td>(0, 1)</td>\n",
       "      <td>σ</td>\n",
       "      <td>ecr</td>\n",
       "    </tr>\n",
       "    <tr>\n",
       "      <th>22</th>\n",
       "      <td>0.199243</td>\n",
       "      <td>2021-08-13 20:43:24.660830</td>\n",
       "      <td>True</td>\n",
       "      <td>None</td>\n",
       "      <td>sf1</td>\n",
       "      <td>(0, 1)</td>\n",
       "      <td>amp</td>\n",
       "      <td>ecr</td>\n",
       "    </tr>\n",
       "    <tr>\n",
       "      <th>28</th>\n",
       "      <td>-1.593647</td>\n",
       "      <td>2021-08-13 20:43:24.660864</td>\n",
       "      <td>True</td>\n",
       "      <td>None</td>\n",
       "      <td>sf1</td>\n",
       "      <td>(0, 1)</td>\n",
       "      <td>θ</td>\n",
       "      <td>ecr</td>\n",
       "    </tr>\n",
       "    <tr>\n",
       "      <th>32</th>\n",
       "      <td>0.000000</td>\n",
       "      <td>2021-08-13 20:43:24.660991</td>\n",
       "      <td>True</td>\n",
       "      <td>None</td>\n",
       "      <td>sf1</td>\n",
       "      <td>(0,)</td>\n",
       "      <td>DriveChannel(ch0)</td>\n",
       "      <td>ecr</td>\n",
       "    </tr>\n",
       "    <tr>\n",
       "      <th>34</th>\n",
       "      <td>880.000000</td>\n",
       "      <td>2021-08-13 20:43:24.660808</td>\n",
       "      <td>True</td>\n",
       "      <td>None</td>\n",
       "      <td>sf1</td>\n",
       "      <td>(0, 1)</td>\n",
       "      <td>τ</td>\n",
       "      <td>ecr</td>\n",
       "    </tr>\n",
       "    <tr>\n",
       "      <th>0</th>\n",
       "      <td>0.000000</td>\n",
       "      <td>2021-08-13 20:43:24.660565</td>\n",
       "      <td>True</td>\n",
       "      <td>None</td>\n",
       "      <td>sf1</td>\n",
       "      <td>(0,)</td>\n",
       "      <td>DriveChannel(ch0)</td>\n",
       "      <td>sx</td>\n",
       "    </tr>\n",
       "    <tr>\n",
       "      <th>2</th>\n",
       "      <td>-1.536438</td>\n",
       "      <td>2021-08-13 20:43:24.660741</td>\n",
       "      <td>True</td>\n",
       "      <td>None</td>\n",
       "      <td>sf1</td>\n",
       "      <td>(1,)</td>\n",
       "      <td>β</td>\n",
       "      <td>sx</td>\n",
       "    </tr>\n",
       "    <tr>\n",
       "      <th>4</th>\n",
       "      <td>160.000000</td>\n",
       "      <td>2021-08-13 20:43:24.660611</td>\n",
       "      <td>True</td>\n",
       "      <td>None</td>\n",
       "      <td>sf1</td>\n",
       "      <td>(1,)</td>\n",
       "      <td>τ</td>\n",
       "      <td>sx</td>\n",
       "    </tr>\n",
       "    <tr>\n",
       "      <th>7</th>\n",
       "      <td>0.060987</td>\n",
       "      <td>2021-08-13 20:43:24.660435</td>\n",
       "      <td>True</td>\n",
       "      <td>None</td>\n",
       "      <td>sf1</td>\n",
       "      <td>(0,)</td>\n",
       "      <td>amp</td>\n",
       "      <td>sx</td>\n",
       "    </tr>\n",
       "    <tr>\n",
       "      <th>12</th>\n",
       "      <td>160.000000</td>\n",
       "      <td>2021-08-13 20:43:24.660331</td>\n",
       "      <td>True</td>\n",
       "      <td>None</td>\n",
       "      <td>sf1</td>\n",
       "      <td>(0,)</td>\n",
       "      <td>τ</td>\n",
       "      <td>sx</td>\n",
       "    </tr>\n",
       "    <tr>\n",
       "      <th>18</th>\n",
       "      <td>0.677168</td>\n",
       "      <td>2021-08-13 20:43:24.660529</td>\n",
       "      <td>True</td>\n",
       "      <td>None</td>\n",
       "      <td>sf1</td>\n",
       "      <td>(0,)</td>\n",
       "      <td>β</td>\n",
       "      <td>sx</td>\n",
       "    </tr>\n",
       "    <tr>\n",
       "      <th>20</th>\n",
       "      <td>40.000000</td>\n",
       "      <td>2021-08-13 20:43:24.660694</td>\n",
       "      <td>True</td>\n",
       "      <td>None</td>\n",
       "      <td>sf1</td>\n",
       "      <td>(1,)</td>\n",
       "      <td>σ</td>\n",
       "      <td>sx</td>\n",
       "    </tr>\n",
       "    <tr>\n",
       "      <th>26</th>\n",
       "      <td>0.076876</td>\n",
       "      <td>2021-08-13 20:43:24.660649</td>\n",
       "      <td>True</td>\n",
       "      <td>None</td>\n",
       "      <td>sf1</td>\n",
       "      <td>(1,)</td>\n",
       "      <td>amp</td>\n",
       "      <td>sx</td>\n",
       "    </tr>\n",
       "    <tr>\n",
       "      <th>30</th>\n",
       "      <td>1.000000</td>\n",
       "      <td>2021-08-13 20:43:24.660785</td>\n",
       "      <td>True</td>\n",
       "      <td>None</td>\n",
       "      <td>sf1</td>\n",
       "      <td>(1,)</td>\n",
       "      <td>DriveChannel(ch0)</td>\n",
       "      <td>sx</td>\n",
       "    </tr>\n",
       "    <tr>\n",
       "      <th>37</th>\n",
       "      <td>40.000000</td>\n",
       "      <td>2021-08-13 20:43:24.660487</td>\n",
       "      <td>True</td>\n",
       "      <td>None</td>\n",
       "      <td>sf1</td>\n",
       "      <td>(0,)</td>\n",
       "      <td>σ</td>\n",
       "      <td>sx</td>\n",
       "    </tr>\n",
       "    <tr>\n",
       "      <th>16</th>\n",
       "      <td>64.000000</td>\n",
       "      <td>2021-08-13 20:43:24.661571</td>\n",
       "      <td>True</td>\n",
       "      <td>None</td>\n",
       "      <td>sf2</td>\n",
       "      <td>(0, 1)</td>\n",
       "      <td>σ</td>\n",
       "      <td>ecr</td>\n",
       "    </tr>\n",
       "    <tr>\n",
       "      <th>23</th>\n",
       "      <td>0.082967</td>\n",
       "      <td>2021-08-13 20:43:24.661544</td>\n",
       "      <td>True</td>\n",
       "      <td>None</td>\n",
       "      <td>sf2</td>\n",
       "      <td>(0, 1)</td>\n",
       "      <td>amp</td>\n",
       "      <td>ecr</td>\n",
       "    </tr>\n",
       "    <tr>\n",
       "      <th>29</th>\n",
       "      <td>-1.700261</td>\n",
       "      <td>2021-08-13 20:43:24.661558</td>\n",
       "      <td>True</td>\n",
       "      <td>None</td>\n",
       "      <td>sf2</td>\n",
       "      <td>(0, 1)</td>\n",
       "      <td>θ</td>\n",
       "      <td>ecr</td>\n",
       "    </tr>\n",
       "    <tr>\n",
       "      <th>33</th>\n",
       "      <td>0.000000</td>\n",
       "      <td>2021-08-13 20:43:24.661584</td>\n",
       "      <td>True</td>\n",
       "      <td>None</td>\n",
       "      <td>sf2</td>\n",
       "      <td>(0,)</td>\n",
       "      <td>DriveChannel(ch0)</td>\n",
       "      <td>ecr</td>\n",
       "    </tr>\n",
       "    <tr>\n",
       "      <th>35</th>\n",
       "      <td>1760.000000</td>\n",
       "      <td>2021-08-13 20:43:24.661525</td>\n",
       "      <td>True</td>\n",
       "      <td>None</td>\n",
       "      <td>sf2</td>\n",
       "      <td>(0, 1)</td>\n",
       "      <td>τ</td>\n",
       "      <td>ecr</td>\n",
       "    </tr>\n",
       "    <tr>\n",
       "      <th>1</th>\n",
       "      <td>0.000000</td>\n",
       "      <td>2021-08-13 20:43:24.661196</td>\n",
       "      <td>True</td>\n",
       "      <td>None</td>\n",
       "      <td>sf2</td>\n",
       "      <td>(0,)</td>\n",
       "      <td>DriveChannel(ch0)</td>\n",
       "      <td>sx</td>\n",
       "    </tr>\n",
       "    <tr>\n",
       "      <th>3</th>\n",
       "      <td>-2.511426</td>\n",
       "      <td>2021-08-13 20:43:24.661273</td>\n",
       "      <td>True</td>\n",
       "      <td>None</td>\n",
       "      <td>sf2</td>\n",
       "      <td>(1,)</td>\n",
       "      <td>β</td>\n",
       "      <td>sx</td>\n",
       "    </tr>\n",
       "    <tr>\n",
       "      <th>5</th>\n",
       "      <td>320.000000</td>\n",
       "      <td>2021-08-13 20:43:24.661224</td>\n",
       "      <td>True</td>\n",
       "      <td>None</td>\n",
       "      <td>sf2</td>\n",
       "      <td>(1,)</td>\n",
       "      <td>τ</td>\n",
       "      <td>sx</td>\n",
       "    </tr>\n",
       "    <tr>\n",
       "      <th>8</th>\n",
       "      <td>0.030517</td>\n",
       "      <td>2021-08-13 20:43:24.661069</td>\n",
       "      <td>True</td>\n",
       "      <td>None</td>\n",
       "      <td>sf2</td>\n",
       "      <td>(0,)</td>\n",
       "      <td>amp</td>\n",
       "      <td>sx</td>\n",
       "    </tr>\n",
       "    <tr>\n",
       "      <th>13</th>\n",
       "      <td>320.000000</td>\n",
       "      <td>2021-08-13 20:43:24.661028</td>\n",
       "      <td>True</td>\n",
       "      <td>None</td>\n",
       "      <td>sf2</td>\n",
       "      <td>(0,)</td>\n",
       "      <td>τ</td>\n",
       "      <td>sx</td>\n",
       "    </tr>\n",
       "    <tr>\n",
       "      <th>19</th>\n",
       "      <td>0.623684</td>\n",
       "      <td>2021-08-13 20:43:24.661127</td>\n",
       "      <td>True</td>\n",
       "      <td>None</td>\n",
       "      <td>sf2</td>\n",
       "      <td>(0,)</td>\n",
       "      <td>β</td>\n",
       "      <td>sx</td>\n",
       "    </tr>\n",
       "    <tr>\n",
       "      <th>21</th>\n",
       "      <td>80.000000</td>\n",
       "      <td>2021-08-13 20:43:24.661258</td>\n",
       "      <td>True</td>\n",
       "      <td>None</td>\n",
       "      <td>sf2</td>\n",
       "      <td>(1,)</td>\n",
       "      <td>σ</td>\n",
       "      <td>sx</td>\n",
       "    </tr>\n",
       "    <tr>\n",
       "      <th>27</th>\n",
       "      <td>0.038731</td>\n",
       "      <td>2021-08-13 20:43:24.661243</td>\n",
       "      <td>True</td>\n",
       "      <td>None</td>\n",
       "      <td>sf2</td>\n",
       "      <td>(1,)</td>\n",
       "      <td>amp</td>\n",
       "      <td>sx</td>\n",
       "    </tr>\n",
       "    <tr>\n",
       "      <th>31</th>\n",
       "      <td>1.000000</td>\n",
       "      <td>2021-08-13 20:43:24.661287</td>\n",
       "      <td>True</td>\n",
       "      <td>None</td>\n",
       "      <td>sf2</td>\n",
       "      <td>(1,)</td>\n",
       "      <td>DriveChannel(ch0)</td>\n",
       "      <td>sx</td>\n",
       "    </tr>\n",
       "    <tr>\n",
       "      <th>38</th>\n",
       "      <td>80.000000</td>\n",
       "      <td>2021-08-13 20:43:24.661108</td>\n",
       "      <td>True</td>\n",
       "      <td>None</td>\n",
       "      <td>sf2</td>\n",
       "      <td>(0,)</td>\n",
       "      <td>σ</td>\n",
       "      <td>sx</td>\n",
       "    </tr>\n",
       "  </tbody>\n",
       "</table>\n",
       "</div>"
      ],
      "text/plain": [
       "          value                   date_time  valid exp_id group  qubits  \\\n",
       "15    64.000000  2021-08-13 20:43:24.660958   True   None   sf1  (0, 1)   \n",
       "22     0.199243  2021-08-13 20:43:24.660830   True   None   sf1  (0, 1)   \n",
       "28    -1.593647  2021-08-13 20:43:24.660864   True   None   sf1  (0, 1)   \n",
       "32     0.000000  2021-08-13 20:43:24.660991   True   None   sf1    (0,)   \n",
       "34   880.000000  2021-08-13 20:43:24.660808   True   None   sf1  (0, 1)   \n",
       "0      0.000000  2021-08-13 20:43:24.660565   True   None   sf1    (0,)   \n",
       "2     -1.536438  2021-08-13 20:43:24.660741   True   None   sf1    (1,)   \n",
       "4    160.000000  2021-08-13 20:43:24.660611   True   None   sf1    (1,)   \n",
       "7      0.060987  2021-08-13 20:43:24.660435   True   None   sf1    (0,)   \n",
       "12   160.000000  2021-08-13 20:43:24.660331   True   None   sf1    (0,)   \n",
       "18     0.677168  2021-08-13 20:43:24.660529   True   None   sf1    (0,)   \n",
       "20    40.000000  2021-08-13 20:43:24.660694   True   None   sf1    (1,)   \n",
       "26     0.076876  2021-08-13 20:43:24.660649   True   None   sf1    (1,)   \n",
       "30     1.000000  2021-08-13 20:43:24.660785   True   None   sf1    (1,)   \n",
       "37    40.000000  2021-08-13 20:43:24.660487   True   None   sf1    (0,)   \n",
       "16    64.000000  2021-08-13 20:43:24.661571   True   None   sf2  (0, 1)   \n",
       "23     0.082967  2021-08-13 20:43:24.661544   True   None   sf2  (0, 1)   \n",
       "29    -1.700261  2021-08-13 20:43:24.661558   True   None   sf2  (0, 1)   \n",
       "33     0.000000  2021-08-13 20:43:24.661584   True   None   sf2    (0,)   \n",
       "35  1760.000000  2021-08-13 20:43:24.661525   True   None   sf2  (0, 1)   \n",
       "1      0.000000  2021-08-13 20:43:24.661196   True   None   sf2    (0,)   \n",
       "3     -2.511426  2021-08-13 20:43:24.661273   True   None   sf2    (1,)   \n",
       "5    320.000000  2021-08-13 20:43:24.661224   True   None   sf2    (1,)   \n",
       "8      0.030517  2021-08-13 20:43:24.661069   True   None   sf2    (0,)   \n",
       "13   320.000000  2021-08-13 20:43:24.661028   True   None   sf2    (0,)   \n",
       "19     0.623684  2021-08-13 20:43:24.661127   True   None   sf2    (0,)   \n",
       "21    80.000000  2021-08-13 20:43:24.661258   True   None   sf2    (1,)   \n",
       "27     0.038731  2021-08-13 20:43:24.661243   True   None   sf2    (1,)   \n",
       "31     1.000000  2021-08-13 20:43:24.661287   True   None   sf2    (1,)   \n",
       "38    80.000000  2021-08-13 20:43:24.661108   True   None   sf2    (0,)   \n",
       "\n",
       "            parameter schedule  \n",
       "15                  σ      ecr  \n",
       "22                amp      ecr  \n",
       "28                  θ      ecr  \n",
       "32  DriveChannel(ch0)      ecr  \n",
       "34                  τ      ecr  \n",
       "0   DriveChannel(ch0)       sx  \n",
       "2                   β       sx  \n",
       "4                   τ       sx  \n",
       "7                 amp       sx  \n",
       "12                  τ       sx  \n",
       "18                  β       sx  \n",
       "20                  σ       sx  \n",
       "26                amp       sx  \n",
       "30  DriveChannel(ch0)       sx  \n",
       "37                  σ       sx  \n",
       "16                  σ      ecr  \n",
       "23                amp      ecr  \n",
       "29                  θ      ecr  \n",
       "33  DriveChannel(ch0)      ecr  \n",
       "35                  τ      ecr  \n",
       "1   DriveChannel(ch0)       sx  \n",
       "3                   β       sx  \n",
       "5                   τ       sx  \n",
       "8                 amp       sx  \n",
       "13                  τ       sx  \n",
       "19                  β       sx  \n",
       "21                  σ       sx  \n",
       "27                amp       sx  \n",
       "31  DriveChannel(ch0)       sx  \n",
       "38                  σ       sx  "
      ]
     },
     "execution_count": 31,
     "metadata": {},
     "output_type": "execute_result"
    }
   ],
   "source": [
    "df[df[\"schedule\"].notna()].sort_values([\"group\", \"schedule\"])"
   ]
  },
  {
   "cell_type": "code",
   "execution_count": 32,
   "metadata": {
    "slideshow": {
     "slide_type": "fragment"
    }
   },
   "outputs": [
    {
     "data": {
      "text/html": [
       "<div>\n",
       "<style scoped>\n",
       "    .dataframe tbody tr th:only-of-type {\n",
       "        vertical-align: middle;\n",
       "    }\n",
       "\n",
       "    .dataframe tbody tr th {\n",
       "        vertical-align: top;\n",
       "    }\n",
       "\n",
       "    .dataframe thead th {\n",
       "        text-align: right;\n",
       "    }\n",
       "</style>\n",
       "<table border=\"1\" class=\"dataframe\">\n",
       "  <thead>\n",
       "    <tr style=\"text-align: right;\">\n",
       "      <th></th>\n",
       "      <th>value</th>\n",
       "      <th>date_time</th>\n",
       "      <th>valid</th>\n",
       "      <th>exp_id</th>\n",
       "      <th>group</th>\n",
       "      <th>qubits</th>\n",
       "      <th>parameter</th>\n",
       "      <th>schedule</th>\n",
       "    </tr>\n",
       "  </thead>\n",
       "  <tbody>\n",
       "    <tr>\n",
       "      <th>22</th>\n",
       "      <td>0.199243</td>\n",
       "      <td>2021-08-13 20:43:24.660830</td>\n",
       "      <td>True</td>\n",
       "      <td>None</td>\n",
       "      <td>sf1</td>\n",
       "      <td>(0, 1)</td>\n",
       "      <td>amp</td>\n",
       "      <td>ecr</td>\n",
       "    </tr>\n",
       "    <tr>\n",
       "      <th>23</th>\n",
       "      <td>0.082967</td>\n",
       "      <td>2021-08-13 20:43:24.661544</td>\n",
       "      <td>True</td>\n",
       "      <td>None</td>\n",
       "      <td>sf2</td>\n",
       "      <td>(0, 1)</td>\n",
       "      <td>amp</td>\n",
       "      <td>ecr</td>\n",
       "    </tr>\n",
       "    <tr>\n",
       "      <th>34</th>\n",
       "      <td>880.000000</td>\n",
       "      <td>2021-08-13 20:43:24.660808</td>\n",
       "      <td>True</td>\n",
       "      <td>None</td>\n",
       "      <td>sf1</td>\n",
       "      <td>(0, 1)</td>\n",
       "      <td>τ</td>\n",
       "      <td>ecr</td>\n",
       "    </tr>\n",
       "    <tr>\n",
       "      <th>35</th>\n",
       "      <td>1760.000000</td>\n",
       "      <td>2021-08-13 20:43:24.661525</td>\n",
       "      <td>True</td>\n",
       "      <td>None</td>\n",
       "      <td>sf2</td>\n",
       "      <td>(0, 1)</td>\n",
       "      <td>τ</td>\n",
       "      <td>ecr</td>\n",
       "    </tr>\n",
       "  </tbody>\n",
       "</table>\n",
       "</div>"
      ],
      "text/plain": [
       "          value                   date_time  valid exp_id group  qubits  \\\n",
       "22     0.199243  2021-08-13 20:43:24.660830   True   None   sf1  (0, 1)   \n",
       "23     0.082967  2021-08-13 20:43:24.661544   True   None   sf2  (0, 1)   \n",
       "34   880.000000  2021-08-13 20:43:24.660808   True   None   sf1  (0, 1)   \n",
       "35  1760.000000  2021-08-13 20:43:24.661525   True   None   sf2  (0, 1)   \n",
       "\n",
       "   parameter schedule  \n",
       "22       amp      ecr  \n",
       "23       amp      ecr  \n",
       "34         τ      ecr  \n",
       "35         τ      ecr  "
      ]
     },
     "execution_count": 32,
     "metadata": {},
     "output_type": "execute_result"
    }
   ],
   "source": [
    "df.query(\"schedule == 'ecr' and parameter in ['amp', 'τ']\").sort_values([\"parameter\"])"
   ]
  },
  {
   "cell_type": "markdown",
   "metadata": {
    "slideshow": {
     "slide_type": "subslide"
    }
   },
   "source": [
    "Compare two calibrations"
   ]
  },
  {
   "cell_type": "code",
   "execution_count": 33,
   "metadata": {
    "slideshow": {
     "slide_type": "fragment"
    }
   },
   "outputs": [
    {
     "data": {
      "image/png": "[encoded data removed]",
      "text/plain": [
       "<Figure size 936x576 with 2 Axes>"
      ]
     },
     "execution_count": 33,
     "metadata": {},
     "output_type": "execute_result"
    }
   ],
   "source": [
    "fig, axs = plt.subplots(2, 1, sharex=True, figsize=(13, 8))\n",
    "\n",
    "cal_manager.get_schedule(\"ecr\", qubits=qubits, group=\"sf1\").draw(backend=backend, axis=axs[0], style=IQXDebugging(**{\"formatter.margin.left_percent\": 0.1}))\n",
    "cal_manager.get_schedule(\"ecr\", qubits=qubits, group=\"sf2\").draw(backend=backend, axis=axs[1], style=IQXDebugging())"
   ]
  },
  {
   "cell_type": "markdown",
   "metadata": {
    "slideshow": {
     "slide_type": "subslide"
    }
   },
   "source": [
    "### Export backend\n",
    "\n",
    "Persona and usecase: If you are an application researcher, you can load `cal_manager` from the shared data base. Your collaborator may maintain the calibration for you. So you just need to get backend from a calibration instance, rather than the provider."
   ]
  },
  {
   "cell_type": "code",
   "execution_count": 34,
   "metadata": {
    "scrolled": false,
    "slideshow": {
     "slide_type": "fragment"
    }
   },
   "outputs": [],
   "source": [
    "gates_to_output = {\"sx\": [0, 1], \"ecr\": [(0, 1)]}"
   ]
  },
  {
   "cell_type": "code",
   "execution_count": 35,
   "metadata": {
    "slideshow": {
     "slide_type": "fragment"
    }
   },
   "outputs": [],
   "source": [
    "sf1_backend = cal_manager.export_backend(\n",
    "    outputs=gates_to_output,\n",
    "    basis_gates=[\"sx\", \"rz\", \"ecr\"],\n",
    "    coupling_map=[[0, 1]],\n",
    "    group=\"sf1\",\n",
    ")"
   ]
  },
  {
   "cell_type": "code",
   "execution_count": 36,
   "metadata": {
    "slideshow": {
     "slide_type": "fragment"
    }
   },
   "outputs": [],
   "source": [
    "sf2_backend = cal_manager.export_backend(\n",
    "    outputs=gates_to_output,\n",
    "    basis_gates=[\"sx\", \"rz\", \"ecr\"],\n",
    "    coupling_map=[[0, 1]],\n",
    "    group=\"sf2\",\n",
    ")"
   ]
  },
  {
   "cell_type": "markdown",
   "metadata": {
    "slideshow": {
     "slide_type": "subslide"
    }
   },
   "source": [
    "Check exported backend"
   ]
  },
  {
   "cell_type": "code",
   "execution_count": 37,
   "metadata": {
    "slideshow": {
     "slide_type": "fragment"
    }
   },
   "outputs": [
    {
     "data": {
      "text/plain": [
       "['sx', 'rz', 'ecr']"
      ]
     },
     "execution_count": 37,
     "metadata": {},
     "output_type": "execute_result"
    }
   ],
   "source": [
    "sf1_backend.configuration().basis_gates"
   ]
  },
  {
   "cell_type": "code",
   "execution_count": 38,
   "metadata": {
    "slideshow": {
     "slide_type": "fragment"
    }
   },
   "outputs": [
    {
     "data": {
      "text/plain": [
       "[[0, 1]]"
      ]
     },
     "execution_count": 38,
     "metadata": {},
     "output_type": "execute_result"
    }
   ],
   "source": [
    "sf1_backend.configuration().coupling_map"
   ]
  },
  {
   "cell_type": "code",
   "execution_count": 39,
   "metadata": {
    "slideshow": {
     "slide_type": "fragment"
    }
   },
   "outputs": [
    {
     "data": {
      "image/png": "[encoded data removed]",
      "text/plain": [
       "<Figure size 936x334.8 with 1 Axes>"
      ]
     },
     "execution_count": 39,
     "metadata": {},
     "output_type": "execute_result"
    }
   ],
   "source": [
    "ecr_sched_sf1 = sf1_backend.defaults().instruction_schedule_map.get(\"ecr\", (0, 1))\n",
    "ecr_sched_sf1.draw(backend=backend)"
   ]
  },
  {
   "cell_type": "code",
   "execution_count": 40,
   "metadata": {
    "slideshow": {
     "slide_type": "fragment"
    }
   },
   "outputs": [
    {
     "data": {
      "text/plain": [
       "{'publisher': <CalibrationPublisher.EXPERIMENT_SERVICE: 2>}"
      ]
     },
     "execution_count": 40,
     "metadata": {},
     "output_type": "execute_result"
    }
   ],
   "source": [
    "ecr_sched_sf1.metadata"
   ]
  },
  {
   "cell_type": "code",
   "execution_count": 41,
   "metadata": {
    "slideshow": {
     "slide_type": "fragment"
    }
   },
   "outputs": [
    {
     "data": {
      "text/plain": [
       "{'publisher': <CalibrationPublisher.BACKEND_PROVIDER: 0>}"
      ]
     },
     "execution_count": 41,
     "metadata": {},
     "output_type": "execute_result"
    }
   ],
   "source": [
    "sf1_backend.defaults().instruction_schedule_map.get(\"rz\", (0,)).metadata"
   ]
  },
  {
   "cell_type": "markdown",
   "metadata": {
    "slideshow": {
     "slide_type": "slide"
    }
   },
   "source": [
    "### Run application with calibration"
   ]
  },
  {
   "cell_type": "code",
   "execution_count": null,
   "metadata": {
    "slideshow": {
     "slide_type": "skip"
    }
   },
   "outputs": [],
   "source": [
    "from qiskit_nature.drivers import PySCFDriver, UnitsType, Molecule\n",
    "from qiskit_nature.problems.second_quantization import ElectronicStructureProblem\n",
    "from qiskit_nature.converters.second_quantization import QubitConverter\n",
    "from qiskit_nature.mappers.second_quantization import ParityMapper\n",
    "from qiskit.circuit.library import EfficientSU2\n",
    "from qiskit.algorithms.optimizers import SPSA\n",
    "from qiskit.algorithms import VQE\n",
    "from qiskit_nature.algorithms.ground_state_solvers import GroundStateEigensolver\n",
    "from qiskit.utils import QuantumInstance"
   ]
  },
  {
   "cell_type": "markdown",
   "metadata": {
    "slideshow": {
     "slide_type": "subslide"
    }
   },
   "source": [
    "Richardson extrapolation for ground state eigenenergy of H2"
   ]
  },
  {
   "cell_type": "code",
   "execution_count": 42,
   "metadata": {
    "slideshow": {
     "slide_type": "-"
    }
   },
   "outputs": [],
   "source": [
    "molecule = Molecule(\n",
    "    geometry=[['H', [0., 0., 0.]], ['H', [0., 0., 0.735]]],\n",
    "    charge=0,\n",
    "    multiplicity=1\n",
    ")\n",
    "driver = PySCFDriver(molecule = molecule, unit=UnitsType.ANGSTROM, basis='sto3g')\n",
    "\n",
    "es_problem = ElectronicStructureProblem(driver)\n",
    "qubit_converter = QubitConverter(ParityMapper(), two_qubit_reduction=True)\n",
    "\n",
    "ansatz = EfficientSU2(num_qubits=2, reps=1, entanglement='linear')\n",
    "optimizer = SPSA(maxiter=80)\n",
    "\n",
    "np.random.seed(5)\n",
    "initial_point = np.random.random(ansatz.num_parameters)"
   ]
  },
  {
   "cell_type": "code",
   "execution_count": 43,
   "metadata": {
    "slideshow": {
     "slide_type": "-"
    }
   },
   "outputs": [],
   "source": [
    "def run_vqe(quantum_instance):\n",
    "    local_vqe = VQE(\n",
    "        ansatz=ansatz,\n",
    "        optimizer=optimizer,\n",
    "        initial_point=initial_point,\n",
    "        quantum_instance=quantum_instance,\n",
    "    )\n",
    "    local_vqe_groundstate_solver = GroundStateEigensolver(qubit_converter, local_vqe)\n",
    "    res = local_vqe_groundstate_solver.solve(es_problem)    \n",
    "    print(f\"Energy = {np.real(res.eigenenergies + res.nuclear_repulsion_energy)[0]}\")\n",
    "    \n",
    "    return res, local_vqe.get_optimal_circuit()"
   ]
  },
  {
   "cell_type": "markdown",
   "metadata": {
    "slideshow": {
     "slide_type": "subslide"
    }
   },
   "source": [
    "### Experimental results"
   ]
  },
  {
   "cell_type": "markdown",
   "metadata": {
    "slideshow": {
     "slide_type": "fragment"
    }
   },
   "source": [
    "Run with scaling factor 1.0"
   ]
  },
  {
   "cell_type": "code",
   "execution_count": 44,
   "metadata": {
    "slideshow": {
     "slide_type": "-"
    }
   },
   "outputs": [
    {
     "name": "stdout",
     "output_type": "stream",
     "text": [
      "Energy = -1.0863079754242357\n"
     ]
    }
   ],
   "source": [
    "quantum_instance_sf1 = QuantumInstance(backend=sf1_backend, initial_layout=qubits)\n",
    "\n",
    "res_sf1, opt_circ_sf1 = run_vqe(quantum_instance_sf1)"
   ]
  },
  {
   "cell_type": "markdown",
   "metadata": {
    "slideshow": {
     "slide_type": "fragment"
    }
   },
   "source": [
    "Run with scaling factor 2.0"
   ]
  },
  {
   "cell_type": "code",
   "execution_count": 45,
   "metadata": {
    "slideshow": {
     "slide_type": "-"
    }
   },
   "outputs": [
    {
     "name": "stdout",
     "output_type": "stream",
     "text": [
      "Energy = -1.0696244207274068\n"
     ]
    }
   ],
   "source": [
    "quantum_instance_sf2 = QuantumInstance(backend=sf2_backend, initial_layout=qubits)\n",
    "\n",
    "res_sf2, opt_circ_sf2 = run_vqe(quantum_instance_sf2)"
   ]
  },
  {
   "cell_type": "markdown",
   "metadata": {
    "slideshow": {
     "slide_type": "subslide"
    }
   },
   "source": [
    "Check how calibration is integrated into application"
   ]
  },
  {
   "cell_type": "code",
   "execution_count": 47,
   "metadata": {
    "slideshow": {
     "slide_type": "-"
    }
   },
   "outputs": [
    {
     "data": {
      "image/png": "[encoded data removed]",
      "text/plain": [
       "<Figure size 726.238x144.48 with 1 Axes>"
      ]
     },
     "execution_count": 47,
     "metadata": {},
     "output_type": "execute_result"
    }
   ],
   "source": [
    "from qiskit import transpile\n",
    "\n",
    "transpiled_circ = transpile(opt_circ_sf1, sf1_backend); transpiled_circ.draw(output=\"mpl\")"
   ]
  },
  {
   "cell_type": "code",
   "execution_count": 48,
   "metadata": {
    "slideshow": {
     "slide_type": "fragment"
    }
   },
   "outputs": [
    {
     "data": {
      "text/plain": [
       "dict_keys(['sx', 'ecr'])"
      ]
     },
     "execution_count": 48,
     "metadata": {},
     "output_type": "execute_result"
    }
   ],
   "source": [
    "transpiled_circ.calibrations.keys()"
   ]
  },
  {
   "cell_type": "markdown",
   "metadata": {
    "slideshow": {
     "slide_type": "subslide"
    }
   },
   "source": [
    "Exact solution"
   ]
  },
  {
   "cell_type": "code",
   "execution_count": 50,
   "metadata": {
    "slideshow": {
     "slide_type": "-"
    }
   },
   "outputs": [
    {
     "name": "stdout",
     "output_type": "stream",
     "text": [
      "Energy: -1.1373060357534013\n"
     ]
    }
   ],
   "source": [
    "from qiskit.algorithms import NumPyMinimumEigensolver\n",
    "\n",
    "np_solver = NumPyMinimumEigensolver()\n",
    "np_groundstate_solver = GroundStateEigensolver(qubit_converter, np_solver)\n",
    "\n",
    "np_result = np_groundstate_solver.solve(es_problem)\n",
    "\n",
    "target_energy = np.real(np_result.eigenenergies + np_result.nuclear_repulsion_energy)[0]\n",
    "print('Energy:', target_energy)"
   ]
  },
  {
   "cell_type": "markdown",
   "metadata": {
    "slideshow": {
     "slide_type": "fragment"
    }
   },
   "source": [
    "Richardson extrapolation"
   ]
  },
  {
   "cell_type": "code",
   "execution_count": 51,
   "metadata": {
    "slideshow": {
     "slide_type": "-"
    }
   },
   "outputs": [
    {
     "name": "stdout",
     "output_type": "stream",
     "text": [
      "Energy: -1.1029915301210647\n"
     ]
    }
   ],
   "source": [
    "get_ek = lambda res: np.real(res.eigenenergies + res.nuclear_repulsion_energy)[0]\n",
    "cs = [2, -1]\n",
    "\n",
    "extrapolate_energy = cs[0] * get_ek(res_sf1) + cs[1] * get_ek(res_sf2)\n",
    "print('Energy:', extrapolate_energy)"
   ]
  },
  {
   "cell_type": "markdown",
   "metadata": {
    "slideshow": {
     "slide_type": "skip"
    }
   },
   "source": [
    "Raw result"
   ]
  },
  {
   "cell_type": "code",
   "execution_count": 52,
   "metadata": {
    "slideshow": {
     "slide_type": "skip"
    }
   },
   "outputs": [
    {
     "name": "stdout",
     "output_type": "stream",
     "text": [
      "=== GROUND STATE ENERGY ===\n",
      " \n",
      "* Electronic ground state energy (Hartree): -1.806276969873\n",
      "  - computed part:      -1.806276969873\n",
      "~ Nuclear repulsion energy (Hartree): 0.719968994449\n",
      "> Total ground state energy (Hartree): -1.086307975424\n",
      " \n",
      "=== MEASURED OBSERVABLES ===\n",
      " \n",
      "  0:  # Particles: 2.000 S: 0.147 S^2: 0.169 M: 0.000\n",
      " \n",
      "=== DIPOLE MOMENTS ===\n",
      " \n",
      "~ Nuclear dipole moment (a.u.): [0.0  0.0  1.3889487]\n",
      " \n",
      "  0: \n",
      "  * Electronic dipole moment (a.u.): [0.0  0.0  2.66548606]\n",
      "    - computed part:      [0.0  0.0  2.66548606]\n",
      "  > Dipole moment (a.u.): [0.0  0.0  -1.27653736]  Total: 1.27653736\n",
      "                 (debye): [0.0  0.0  -3.24463402]  Total: 3.24463402\n",
      " \n"
     ]
    }
   ],
   "source": [
    "print(res_sf1)"
   ]
  },
  {
   "cell_type": "code",
   "execution_count": 53,
   "metadata": {
    "slideshow": {
     "slide_type": "skip"
    }
   },
   "outputs": [
    {
     "name": "stdout",
     "output_type": "stream",
     "text": [
      "=== GROUND STATE ENERGY ===\n",
      " \n",
      "* Electronic ground state energy (Hartree): -1.789593415176\n",
      "  - computed part:      -1.789593415176\n",
      "~ Nuclear repulsion energy (Hartree): 0.719968994449\n",
      "> Total ground state energy (Hartree): -1.069624420727\n",
      " \n",
      "=== MEASURED OBSERVABLES ===\n",
      " \n",
      "  0:  # Particles: 2.000 S: 0.131 S^2: 0.148 M: 0.000\n",
      " \n",
      "=== DIPOLE MOMENTS ===\n",
      " \n",
      "~ Nuclear dipole moment (a.u.): [0.0  0.0  1.3889487]\n",
      " \n",
      "  0: \n",
      "  * Electronic dipole moment (a.u.): [0.0  0.0  2.57093086]\n",
      "    - computed part:      [0.0  0.0  2.57093086]\n",
      "  > Dipole moment (a.u.): [0.0  0.0  -1.18198216]  Total: 1.18198216\n",
      "                 (debye): [0.0  0.0  -3.00429869]  Total: 3.00429869\n",
      " \n"
     ]
    }
   ],
   "source": [
    "print(res_sf2)"
   ]
  },
  {
   "cell_type": "code",
   "execution_count": 54,
   "metadata": {
    "slideshow": {
     "slide_type": "skip"
    }
   },
   "outputs": [],
   "source": [
    "import pickle"
   ]
  },
  {
   "cell_type": "code",
   "execution_count": 55,
   "metadata": {
    "slideshow": {
     "slide_type": "skip"
    }
   },
   "outputs": [],
   "source": [
    "with open(\"res_sf1.pk\", \"wb\") as fp:\n",
    "    pickle.dump(res_sf1, fp)\n",
    "\n",
    "with open(\"res_sf2.pk\", \"wb\") as fp:\n",
    "    pickle.dump(res_sf2, fp)"
   ]
  },
  {
   "cell_type": "code",
   "execution_count": null,
   "metadata": {
    "slideshow": {
     "slide_type": "skip"
    }
   },
   "outputs": [],
   "source": []
  }
 ],
 "metadata": {
  "celltoolbar": "Slideshow",
  "kernelspec": {
   "display_name": "Python 3",
   "language": "python",
   "name": "python3"
  },
  "language_info": {
   "codemirror_mode": {
    "name": "ipython",
    "version": 3
   },
   "file_extension": ".py",
   "mimetype": "text/x-python",
   "name": "python",
   "nbconvert_exporter": "python",
   "pygments_lexer": "ipython3",
   "version": "3.8.2"
  }
 },
 "nbformat": 4,
 "nbformat_minor": 4
}
