{
 "cells": [
  {
   "cell_type": "markdown",
   "id": "d36aeb93",
   "metadata": {},
   "source": [
    "## What's going on with `qiskit.__version__`, `qiskit.__version__`, and `%qiskit_version_table`"
   ]
  },
  {
   "cell_type": "markdown",
   "id": "6d911c6d",
   "metadata": {
    "ExecuteTime": {
     "end_time": "2023-09-07T14:09:30.264375Z",
     "start_time": "2023-09-07T14:09:30.260132Z"
    }
   },
   "source": [
    "### `__qiskit_version__`\n",
    "\n",
    "\n",
    "Deprecated and to be removed \"soon\"."
   ]
  },
  {
   "cell_type": "code",
   "execution_count": null,
   "id": "043186b9",
   "metadata": {
    "ExecuteTime": {
     "end_time": "2023-09-07T15:14:32.566141Z",
     "start_time": "2023-09-07T15:14:30.606471Z"
    }
   },
   "outputs": [],
   "source": [
    "from qiskit import __qiskit_version__\n",
    "print(__qiskit_version__)"
   ]
  },
  {
   "cell_type": "markdown",
   "id": "463fccca",
   "metadata": {},
   "source": [
    "### `%qiskit_version_table`\n",
    "\n",
    "To be removed eventually? Now works slightly different than before."
   ]
  },
  {
   "cell_type": "code",
   "execution_count": 1,
   "id": "c544372f",
   "metadata": {
    "ExecuteTime": {
     "end_time": "2023-09-07T15:15:38.120667Z",
     "start_time": "2023-09-07T15:15:35.297626Z"
    },
    "scrolled": false
   },
   "outputs": [
    {
     "data": {
      "text/html": [
       "<h3>Version Information</h3><table><tr><th>Software</th><th>Version</th></tr><tr><td><code>qiskit</code></td><td>0.45.0.dev0+8f2bc89</td></tr><tr><th colspan='2'>System information</th></tr><tr><td>Python version</td><td>3.9.17</td></tr><tr><td>Python compiler</td><td>Clang 14.0.3 (clang-1403.0.22.14.1)</td></tr><tr><td>Python build</td><td>main, Jun 20 2023 17:20:08</td></tr><tr><td>OS</td><td>Darwin</td></tr><tr><td>CPUs</td><td>4</td></tr><tr><td>Memory (Gb)</td><td>32.0</td></tr><tr><td colspan='2'>Thu Sep 07 17:15:38 2023 CEST</td></tr></table>"
      ],
      "text/plain": [
       "<IPython.core.display.HTML object>"
      ]
     },
     "metadata": {},
     "output_type": "display_data"
    }
   ],
   "source": [
    "from qiskit.tools.jupyter import *\n",
    "\n",
    "%qiskit_version_table"
   ]
  },
  {
   "cell_type": "markdown",
   "id": "578270e1",
   "metadata": {},
   "source": [
    "### `__version__`\n",
    "\n",
    "The standard `__version__` is equalizing the metapackage"
   ]
  },
  {
   "cell_type": "code",
   "execution_count": 5,
   "id": "d316f25a",
   "metadata": {
    "ExecuteTime": {
     "end_time": "2023-09-07T15:19:53.572189Z",
     "start_time": "2023-09-07T15:19:53.568474Z"
    }
   },
   "outputs": [
    {
     "name": "stdout",
     "output_type": "stream",
     "text": [
      "0.45.0.dev0+8f2bc89\n"
     ]
    }
   ],
   "source": [
    "from qiskit import __version__\n",
    "print(__version__)"
   ]
  },
  {
   "cell_type": "code",
   "execution_count": 3,
   "id": "2aaa09a6",
   "metadata": {
    "ExecuteTime": {
     "end_time": "2023-09-07T15:18:34.653231Z",
     "start_time": "2023-09-07T15:18:34.645985Z"
    }
   },
   "outputs": [],
   "source": [
    "from qiskit.version import get_version_info"
   ]
  }
 ],
 "metadata": {
  "kernelspec": {
   "display_name": "Python 3",
   "language": "python",
   "name": "python3"
  },
  "language_info": {
   "codemirror_mode": {
    "name": "ipython",
    "version": 3
   },
   "file_extension": ".py",
   "mimetype": "text/x-python",
   "name": "python",
   "nbconvert_exporter": "python",
   "pygments_lexer": "ipython3",
   "version": "3.9.17"
  }
 },
 "nbformat": 4,
 "nbformat_minor": 5
}
